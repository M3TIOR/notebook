{
 "cells": [
  {
   "cell_type": "markdown",
   "metadata": {},
   "source": [
    "# Learning The Template System\n",
    "\n",
    "So, I'm trying to figure this crap out finally. Most of C++ is intuitive... This however is not, and I'm struggling. But I'm determined to figure it out on my own because stubbornness.\n",
    "**NOTE TO SELF:** *Figure this shit out m8, I believe in you!*"
   ]
  },
  {
   "cell_type": "code",
   "execution_count": 2,
   "metadata": {},
   "outputs": [],
   "source": [
    "#include <xcpp/xdisplay.hpp>\n",
    "#include <string>"
   ]
  },
  {
   "cell_type": "code",
   "execution_count": 3,
   "metadata": {},
   "outputs": [],
   "source": [
    "template<typename Ty>\n",
    "Ty f(Ty thingy){return thingy;}"
   ]
  },
  {
   "cell_type": "code",
   "execution_count": 4,
   "metadata": {},
   "outputs": [
    {
     "data": {
      "text/plain": [
       "20"
      ]
     },
     "execution_count": 4,
     "metadata": {},
     "output_type": "execute_result"
    }
   ],
   "source": [
    "f(20)"
   ]
  },
  {
   "cell_type": "markdown",
   "metadata": {},
   "source": [
    "Okay, I think it's starting to make a little more sense now. Not completely understood but kindof. I think the best explanation I could find was that type inferrence is a layer above function overloading that you can use to instanciate mutiple functions using different types statically. It's funky and weird but useful. It's gonna take some getting used to that's for sure. I may add some more examples here l8r but for now, I got nothing. lol."
   ]
  },
  {
   "cell_type": "code",
   "execution_count": null,
   "metadata": {},
   "outputs": [],
   "source": []
  }
 ],
 "metadata": {
  "kernelspec": {
   "display_name": "C++17",
   "language": "C++17",
   "name": "xcpp17"
  },
  "language_info": {
   "codemirror_mode": "text/x-c++src",
   "file_extension": ".cpp",
   "mimetype": "text/x-c++src",
   "name": "c++",
   "version": "-std=c++17"
  }
 },
 "nbformat": 4,
 "nbformat_minor": 2
}
