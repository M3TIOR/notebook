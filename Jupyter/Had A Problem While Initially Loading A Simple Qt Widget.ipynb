{
 "cells": [
  {
   "cell_type": "markdown",
   "metadata": {},
   "source": [
    "# Gotcha\n",
    "I'd like to first introduce you to your basic Qt5 widget script. It contains all the steps you'd expect to see when initalizing Qt outside of Jupyter: importing the proper library, a QApplication instance, some object to display and a call to Qt that initializes the Qt event loop.\n",
    "\n",
    "If you haven't already used the magic event loop handler to initialize your gui elements, you may notice the following script does not seem to work. Simply calling the graphical display event loop ~~is not~~ __may not be__ enough to start it. I'm assuming the Jupyter Kernel's event loop silences our external event loop because there can only be one root event loop running at a time; which is why the magic integration is needed.\n",
    "\n",
    "***NOTE: If you continue to let the script below run, it should eventually work for some reason.***\n",
    "\n",
    "I have no idea what the hell's going on now, Initially I couldn't get this tiny script to run without\n",
    "the Qt magic loop integration. But it's working now without the magic even across multiple kernel restarts."
   ]
  },
  {
   "cell_type": "code",
   "execution_count": 1,
   "metadata": {},
   "outputs": [],
   "source": [
    "# Import Qt5 Bindings from the Qt Developer maintained library \"Pyside2\"\n",
    "from PySide2.QtWidgets import QApplication, QMainWindow, QLabel\n",
    "\n",
    "# Create application instance\n",
    "qapp = QApplication()"
   ]
  },
  {
   "cell_type": "markdown",
   "metadata": {},
   "source": [
    "***This should not work but it does...***"
   ]
  },
  {
   "cell_type": "code",
   "execution_count": null,
   "metadata": {},
   "outputs": [],
   "source": [
    "window = QMainWindow()\n",
    "window.setCentralWidget(QLabel(\"<h1>basic radial gradient<h1>\"))\n",
    "\n",
    "window.show()\n",
    "\n",
    "# Start out Pyside2 event loop the usual way.\n",
    "qapp.exec_()"
   ]
  },
  {
   "cell_type": "markdown",
   "metadata": {},
   "source": [
    "*This should work and does. If you're having the same issue I was, where Pyside2's event loop won't work. Try placing the magic in different places around your script.*"
   ]
  },
  {
   "cell_type": "code",
   "execution_count": 2,
   "metadata": {},
   "outputs": [],
   "source": [
    "# Magic Display Identifier, allows us to create Qt Widgets within the notebook.\n",
    "# More specifically designates event loop handoff from Jupyter to Pyside2 / Qt5 (... the target GUI)\n",
    "# Qt5 && Pyside2 are virtually synonymous. It can be placed anywhere\n",
    "#\n",
    "# Start the magic event loop integration.\n",
    "%gui qt5\n",
    "\n",
    "window = QMainWindow()\n",
    "window.setCentralWidget(QLabel(\"<h1>basic radial gradient<h1>\"))\n",
    "\n",
    "window.show()"
   ]
  }
 ],
 "metadata": {
  "kernelspec": {
   "display_name": "Python 3",
   "language": "python",
   "name": "python3"
  },
  "language_info": {
   "codemirror_mode": {
    "name": "ipython",
    "version": 3
   },
   "file_extension": ".py",
   "mimetype": "text/x-python",
   "name": "python",
   "nbconvert_exporter": "python",
   "pygments_lexer": "ipython3",
   "version": "3.5.2"
  }
 },
 "nbformat": 4,
 "nbformat_minor": 2
}
