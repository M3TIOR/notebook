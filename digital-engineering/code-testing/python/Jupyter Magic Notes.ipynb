{
 "cells": [
  {
   "cell_type": "markdown",
   "metadata": {},
   "source": [
    "# The magic is funky brah.\n",
    "\n",
    "No, seriously though. Some of this is kindof weird. I've been playing around with Jupyter for about a day now without having read the technical documentation, thinking things were just going to work seemlessly out of the box. Which would be the ideal scenario for newcommers. But alass, I was a bit too hasty. For my own memory, here are all of my notes for the funky Jupyter specific conventions."
   ]
  },
  {
   "cell_type": "markdown",
   "metadata": {},
   "source": [
    "**I wonder if there's a way to make a index for this page. Cause I imagine it's going to get pretty long after a while.**\n",
    "\n",
    "Oh wait.. I have to program one probably. Okay... __TODO FOR NOW__"
   ]
  },
  {
   "cell_type": "markdown",
   "metadata": {},
   "source": [
    "## Magic Funk"
   ]
  },
  {
   "cell_type": "markdown",
   "metadata": {},
   "source": [
    "### Javascript"
   ]
  },
  {
   "cell_type": "markdown",
   "metadata": {},
   "source": [
    "Here's something interesting. To output stuff in javascript, you're given access to the display element via JQuery under the global variable name of **element**. Honestly, that actually makes sense since I assume Jupyter wants to give the users the ability to not only display text, but other complex display elements as well."
   ]
  },
  {
   "cell_type": "code",
   "execution_count": 4,
   "metadata": {},
   "outputs": [
    {
     "data": {
      "application/javascript": [
       "\n",
       "element.append(\"THIS PRINTS!\\n\");\n",
       "console.log(\"This kindof does... It prints to the console... Not the element below...\");\n"
      ],
      "text/plain": [
       "<IPython.core.display.Javascript object>"
      ]
     },
     "metadata": {},
     "output_type": "display_data"
    }
   ],
   "source": [
    "%%javascript\n",
    "\n",
    "element.append(\"THIS PRINTS!\\n\");\n",
    "console.log(\"This kindof does... It prints to the console... Not the element below...\");"
   ]
  },
  {
   "cell_type": "code",
   "execution_count": null,
   "metadata": {},
   "outputs": [],
   "source": []
  }
 ],
 "metadata": {
  "kernelspec": {
   "display_name": "Python 3",
   "language": "python",
   "name": "python3"
  },
  "language_info": {
   "codemirror_mode": {
    "name": "ipython",
    "version": 3
   },
   "file_extension": ".py",
   "mimetype": "text/x-python",
   "name": "python",
   "nbconvert_exporter": "python",
   "pygments_lexer": "ipython3",
   "version": "3.5.2"
  }
 },
 "nbformat": 4,
 "nbformat_minor": 2
}
