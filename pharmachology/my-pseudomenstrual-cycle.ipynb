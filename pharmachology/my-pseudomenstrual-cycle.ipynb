{
 "cells": [
  {
   "cell_type": "markdown",
   "id": "99e9002c",
   "metadata": {},
   "source": [
    "# My Pseudomenstrual Cycle\n",
    "***A theoretical implementation of hormonal cycles for trans women like myself***\n",
    "\n",
    "### Preface\n",
    "The goal of this notebook entry is to define a potential method for trans women like me to administer ourselves hormonal cycles like those found in cis women. I'm one of those girls who has an obsession with bringing my hormones in line with that of our cis-ters. When I started trudging through scientific research papers for data, I thought I'd make my secondary objective to identify a plausible medical basis for the hypothesis that a hormonal cycle could benefit the breast development in MTF and Turner Syndrome populations. I figured it couldn't hurt to have a reason beyond my obsession with being like a cis girl to recommend cycling HRT.\n",
    "\n",
    "I had assumptions after reading from **(Hilton et al., 2017)**, the near exponential raise in bioavailable estradiol durring the end of the follicular phase, could be in part, to fuel\n",
    "the near week long period of rapid proliferation in the stroma. Since peak rapid mitosis occurs at the estrogen spike that closely resembles a binary exponential growth curve, the cells may need this volume of estrogen available to continue expansion at that speed. We already know this serves to replace the stromal cells, since without the estradiol present to fuel mitosis, the stroma decays and is replaced by fatty tissue as seen in post-menopause women. The second peak is predicated by the start of progesterone being introduced into the blood, which may signal for the stroma to either slow consumption of estradiol, or outright completely stop since the epithelium cells also need the presence of estradiol to act as a mitogenic agonist, but not before their specialization is coerced by the presence of elevated progesterone. I thought maybe my hypothesis held some water. It still may.\n",
    "\n",
    "However, a clinical review done by **Wierckx, et al. in 2014** which investigated the breast development of trans women recieving HRT spelled out a pretty bleak picture for breast volume plasticity. According to their data, 70% of trans women seek breast augmentation surgery. Even after a full 2+ years on HRT because we rarely develop beyond A cup breasts. There doesn't appear to be any corellation in final breast size and volume of estrogen perscribed, type of estrogen, the use of progestins, or even type of anti-androgen used. The evidence as presented could lead to the conclusion that there's no way for us trans women to control our final breast size. Though the authors were keen to note that their data was insuffient to yield any concrete conclusion and more research was needed, that kinda sits pretty sour in my stomach.\n",
    "\n",
    "**The data that I have now would suggest a cycle should do absolutely nothing beneficial.**\n",
    "*But half the notebook visualizations I've written were already finished by the time the above research was done. So I sunk cost falacied myself and rigged up an HRT regimine which should produce a cycle in women who aren't using an estrogenic androgen blocker anyway!*\n",
    "\n",
    "Since I've been homeless before; for three years intermittently, and dropped by insurance multiple times, I'm going to write this notebook entry with the intent that it be the best refference for DIY HRT. While I know that the last thing any of us need is to be without the gender affirming medication that keeps us sane, I also understand the risks associated with doing your HRT wrong and how poorly that can effect mental health in the long run. I plan to use median or mean datasets for control values in publicly released visualizations and medication planning regimines, as they'll be the best general reference values if you don't have the data or techonological ability to download this notebook entry and modifiy the interactable segments yourself.\n",
    "\n",
    "***I can't stress this enough; if you have access to a doctor who can take blood samples for you and help you get your levels to target without flying blind, please see them and work with them. I don't want this research to be responsible for you harming yourself. You should differ to the WPATH Standards of Care; recommendations I make here are not as well grounded as those made by the WPATH. Beurocracy sucks, but it has a purpose.***\n",
    "\n",
    "#### Data Integrity\n",
    "I hope you readers can appreciate my desire for precise, or accurate data where precision is not possible. Having precise control variables and isolated targets disolve mutablility of experimental results. This applies moreso for projections like those found within this notebook entry. I have no intention of allowing my projections to harm the scientific or trans communities. Since the goal of this research is to help people transition, I'll only be looking at studies which measure serum (blood) concentrations of each hormone, and other methods which can be directly translated within 95% efficacy.\n",
    "\n",
    "#### A Note for Women Who Haven't Already Developed Breasts / Baby Trans\n",
    "Please for the love of fuck don't do this. Don't try a cycle right off the bat. It's been shown in AFAB children, that having high estrogen exposure too fast can actually be detremental to breast bud formation and can lead to poor breast development as a result.\n",
    "\n",
    "If you're just starting HRT, please talk to your physician if you can and ask them to titrate you up. If you're doing this DIY because you can't afford insurance or are in an otherwise compromised state, titrate up from 0.1mg"
   ]
  },
  {
   "cell_type": "code",
   "execution_count": 7,
   "id": "adcd8b21",
   "metadata": {},
   "outputs": [],
   "source": [
    "import IPython.display as display\n",
    "from matplotlib import pyplot, patches\n",
    "from matplotlib.path import Path\n",
    "import ipywidgets as widgets\n",
    "import matplotlib\n",
    "import functools\n",
    "import operator\n",
    "import asyncio\n",
    "import pint\n",
    "import math\n",
    "\n",
    "ureg = pint.UnitRegistry()"
   ]
  },
  {
   "cell_type": "code",
   "execution_count": 2,
   "id": "43c8c667",
   "metadata": {},
   "outputs": [
    {
     "data": {
      "application/javascript": [
       "/* Inline Javascript Dependencies */\n",
       "/* Base64 decode @ http://www.webtoolkit.info/ */\n",
       "const Base64={_keyStr:\"ABCDEFGHIJKLMNOPQRSTUVWXYZabcdefghijklmnopqrstuvwxyz0123456789+/=\",decode:e=>{let t,d,n,r,a,i,o,p=[],u=0;for(;u<e.length;)r=Base64._keyStr.indexOf(e.charAt(u++)),a=Base64._keyStr.indexOf(e.charAt(u++)),i=Base64._keyStr.indexOf(e.charAt(u++)),o=Base64._keyStr.indexOf(e.charAt(u++)),t=r<<2|a>>4,d=(15&a)<<4|i>>2,n=(3&i)<<6|o,p.push(t),64!=i&&p.push(d),64!=o&&p.push(n);return p}}; window.Base64=Base64; \n"
      ],
      "text/plain": [
       "<IPython.core.display.Javascript object>"
      ]
     },
     "metadata": {},
     "output_type": "display_data"
    }
   ],
   "source": [
    "%%javascript\n",
    "/* Inline Javascript Dependencies */\n",
    "/* Base64 decode @ http://www.webtoolkit.info/ */\n",
    "const Base64={_keyStr:\"ABCDEFGHIJKLMNOPQRSTUVWXYZabcdefghijklmnopqrstuvwxyz0123456789+/=\",decode:e=>{let t,d,n,r,a,i,o,p=[],u=0;for(;u<e.length;)r=Base64._keyStr.indexOf(e.charAt(u++)),a=Base64._keyStr.indexOf(e.charAt(u++)),i=Base64._keyStr.indexOf(e.charAt(u++)),o=Base64._keyStr.indexOf(e.charAt(u++)),t=r<<2|a>>4,d=(15&a)<<4|i>>2,n=(3&i)<<6|o,p.push(t),64!=i&&p.push(d),64!=o&&p.push(n);return p}}; window.Base64=Base64; "
   ]
  },
  {
   "cell_type": "code",
   "execution_count": 25,
   "id": "ad6321f7",
   "metadata": {},
   "outputs": [
    {
     "data": {
      "application/javascript": [
       "// Set up display system for later ease of use embedding images in JS; this cuts out the python\n",
       "// middleman entirely, so content can be inline with no extrenious files.\n",
       "\n",
       "// Fix Jupyter Garbage\n",
       "window.display = (element) => (element instanceof Element ? element : element[0]);\n",
       "window.display.image = function(data, attrs){\n",
       "    if (attrs.type == null) throw \"didn't specify the datatype.\";\n",
       "\n",
       "    const array = Base64.decode(data);\n",
       "    const raw = new Uint8Array(array);\n",
       "    const b = new Blob([raw.buffer], {type:attrs.type});\n",
       "    const location = URL.createObjectURL(b);\n",
       "\n",
       "    const tag = document.createElement(\"img\");\n",
       "    tag.setAttribute(\"src\", location);\n",
       "    tag.setAttribute(\"decoding\", \"async\");\n",
       "    for (let [k, v] of Object.entries(attrs))\n",
       "        tag.setAttribute(k, v);\n",
       "    return tag;\n",
       "};\n"
      ],
      "text/plain": [
       "<IPython.core.display.Javascript object>"
      ]
     },
     "metadata": {},
     "output_type": "display_data"
    }
   ],
   "source": [
    "%%javascript\n",
    "// Set up display system for later ease of use embedding images in JS; this cuts out the python\n",
    "// middleman entirely, so content can be inline with no extrenious files.\n",
    "\n",
    "// Fix Jupyter Garbage\n",
    "window.display = (element) => (element instanceof Element ? element : element[0]);\n",
    "window.display.image = function(data, attrs){\n",
    "    if (attrs.type == null) throw \"didn't specify the datatype.\";\n",
    "\n",
    "    const array = Base64.decode(data);\n",
    "    const raw = new Uint8Array(array);\n",
    "    const b = new Blob([raw.buffer], {type:attrs.type});\n",
    "    const location = URL.createObjectURL(b);\n",
    "\n",
    "    const tag = document.createElement(\"img\");\n",
    "    tag.setAttribute(\"src\", location);\n",
    "    tag.setAttribute(\"decoding\", \"async\");\n",
    "    for (let [k, v] of Object.entries(attrs))\n",
    "        tag.setAttribute(k, v);\n",
    "    return tag;\n",
    "};"
   ]
  },
  {
   "cell_type": "markdown",
   "id": "6acb7631",
   "metadata": {},
   "source": [
    "### The Dangers of Hormone Replacement Therapy\n",
    "\n",
    "There are a lot of warnings the doctor perscribing HRT should give you durring your perscription consultation. Always be sure to completely take these warnings into consideration.\n",
    "\n",
    "#### (E2) Estradiol Risks\n",
    "##### Thrombosis\n",
    "One of these warnings may be that Estradiol can increase your risk of deep-vein thrombosis and blood clots. This assertion isn't unfounded. Any metabolism of estradiol in your liver will produce estrone. \"Thrombin generation is significantly increased in women who use HRT administered by the oral route.\" **(Bagot, et al. 2010)** and \"Thrombin generation based upon the individual’s blood composition is associated with the risk for thrombosis and may be useful as a predictive marker for evaluating thrombosis on an individual basis.\" **(K. E. Brummel-Ziedins, et al. 2005)** It could seem plausible to conclude **estrogen doesn't corellate with thrombosis risk, estrone however, may.** Keeping estrone levels low should circumvent this thrombic risk and make your HRT safer. \n",
    "\n",
    "##### Cancer\n",
    "We've all got to face the risk of cancer development in one way or another. You can profile this risk early by getting genetically tested for breast cancer associated genes. Regular mammogram and ultrasound screenings improve mortality and are standard proceedure for cis women. So your doc will probably recommend that you start getting regular checkups after two years on HRT. Cancer risk for us is pretty much the same as cis women as far as we know. However, \"additional data, specifically from prospective longitudinal follow-up of transgender individuals electing breast cancer radiologic surveillance is needed to understand breast cancer risk in this population and to develop appropriate risk-adapted screening protocols.\" **(Sonnenblick, et al. 2018)**\n",
    "\n",
    "##### Testosterone Suppression\n",
    "Estradiol is a testosterone blocking agent which depends on serum concentration and sustained administration. Testosterone suppression can cause loss of muscle mass, erectile dysfunction, and loss of libido. I will do as much as I can to discuss the mittigation pathways for this risk since I'm full well aware that there are non-binary trans folks like my friend who may read this. If you want to retain your erectile function that's perfectly okay.\n",
    "\n",
    "#### (P4) Progesterone Risks"
   ]
  },
  {
   "cell_type": "markdown",
   "id": "a550f176",
   "metadata": {},
   "source": [
    "### Forming a Target Cycle\n",
    "Before making a custom hormonal cycle, we need to know the standard range of hormonal values our premenopausal cis peers experience on a regular basis. It's well established that progesterone and estrogen levels fluxuate durring the menstrual cycle, but less well known is the fact that testosterone follows a similar rythim. Testosterone in premenopausal women is concomitant with, lutenizing hormoneserum. But while \"concentrations also fluctuate during the menstrual cycle following the same pattern, ...the magnitude of variation is relatively small,\" **Glenn D. Braunstein et al.** these fuctuations are so small that for the scope of this project, it's best we ignore them. Below shows the estrogen, and progesterone values for 36 premenopausal women from an ARCHITECT® assay by **Stricker et al., in 2006** which collected detailed refference values for luteinizing hormone, follicle stimulating hormone, estradiol, and progesterone during different phases of the menstrual cycle.\n",
    "\n",
    "Since we've identified estrone as a risk factor, we also need to establish a target range for that hormone as well. To do that, I'm going to be opperating under the assumption that estrone cycles cocommitant with estradiol. Though I haven't found any direct monthly serum evaluations for estrone in human AFAB individuals, we know thanks to **Stevens, V. (1997) in their symposium on reproduction in baboons**, that the baboon and human hormonal cycles are nearly identical outside luteal phase estradiol levels and cycle durration. We also know that serum hormone levels and urine estradiol levels are somewhat corellated thanks to **Coburn, Sally B. et al. from 2018**. With this knowledge and urine sample data provided from **Bozzolino, Cristina et al. in 2019** the conclusion is plausible that estrone levels do in fact cycle, either near cocommitant or directly with estradiol. A High-Sensitivity Tandem Mass Spectrometry Assay for Serum Estrone and Estradiol provided by **Kushnir, Mark M. et al. 2018** concluded that the mean estradiol to estrone ratio for premenopausal women was around 1.5 estradiol for every 1 estrone; 60% estradiol, 40% estrone. This is what we'll be using for estrone targets going forward."
   ]
  },
  {
   "cell_type": "code",
   "execution_count": 8,
   "id": "410a7c86",
   "metadata": {},
   "outputs": [],
   "source": [
    "# Group \n",
    "#  Estradiol pmol/L; raw imported from reference assay\n",
    "e2_median=[139.46, 149.00, 137.63, 128.45, 130.29, 145.15, 154.14, 162.76, 196.16, 215.06,\n",
    "           262.22, 363.15, 485.72, 651.06, 939.34, 671.06, 312.87, 260.57, 322.96, 403.52,\n",
    "           450.68, 486.64, 551.78, 491.23, 503.52, 495.45, 340.41, 314.52, 170.10, 151.20]\n",
    "\n",
    "e2_5thpercent=[57.55, 66.06, 75.20, 79.42, 82.98, 87.60, 93.40, 112.49, 124.67, 157.66, \n",
    "               190.47, 186.47, 241.52, 337.35, 503.85, 482.00, 159.87, 154.62, 208.64, 269.80, \n",
    "               292.57, 267.07, 291.71, 281.91, 279.18, 294.48, 210.22, 174.82, 101.93, 93.97]\n",
    "\n",
    "e2_95thpercent=[194.44, 187.67, 189.34, 200.97, 196.75, 209.56, 224.68, 220.86, 267.23,\n",
    "                313.36, 346.76, 490.81, 803.56, 1153.76, 1517.67, 1425.39, 514.35, 398.38, \n",
    "                495.82, 665.99, 703.85, 719.72, 695.47, 718.20, \n",
    "                764.41, 806.70, 640.16, 546.15, 497.74, 693.54]\n",
    "\n",
    "# Progesterone nmol/L; raw imported from reference study.\n",
    "p4_median=[1.27, 1.27, 0.95, 0.64, 0.64, 0.64, 0.64, 0.48, 0.64, 0.32, 0.48, 0.64,\n",
    "          0.32, 0.64, 0.95, 2.54, 4.93, 12.72, 20.51, 30.85, 34.03, 35.3, 42.45,\n",
    "          37.05, 32.44, 32.75, 14.47, 13.04, 5.25, 4.13]\n",
    "\n",
    "p4_5thpercent=[0.32, 0.32, 0.52, 0.32, 0.32, 0.32, 0.32, 0.32, 0.32, 0.32, 0.32,\n",
    "              0.32, 0.32, 0.32, 0.62, 1.24, 2.21, 4.74, 11.34, 11.38, 23.72,\n",
    "              22.36, 25.98, 25.06, 18.25, 17.74, 6.74, 3.67, 2.15, 1.91]\n",
    "\n",
    "p4_95thpercent=[3.75, 2.73, 1.59, 1.65, 1.3, 2.32, 1.29, 1.61, 1.3, 1.0, 1.02, 0.95,\n",
    "               0.97, 1.27, 1.62, 4.13, 8.95, 18.67, 29.05, 45.51, 46.46, 48.18, 54.17,\n",
    "               60.39, 46.65, 55.94, 38.21, 41.58, 33.15, 33.39]\n",
    "\n",
    "# Convert estradiol to pg/mL\n",
    "e2_molar_mass = 272.4 * (ureg.gram / ureg.mole)\n",
    "e2_median[:] = ((v * ureg.picomole * e2_molar_mass / ureg.liter) for v in e2_median)\n",
    "e2_median[:] = (round(v.to(\"pg/ml\").m, 2) for v in e2_median)\n",
    "e2_5thpercent[:] = ((v * ureg.picomole * e2_molar_mass / ureg.liter) for v in e2_5thpercent)\n",
    "e2_5thpercent[:] = (round(v.to(\"pg/ml\").m, 2) for v in e2_5thpercent)\n",
    "e2_95thpercent[:] = ((v * ureg.picomole * e2_molar_mass / ureg.liter) for v in e2_95thpercent)\n",
    "e2_95thpercent[:] = (round(v.to(\"pg/ml\").m, 2) for v in e2_95thpercent)\n",
    "\n",
    "# Convert progesterone to pg/mL\n",
    "p4_molar_mass = 314.46 * (ureg.gram / ureg.mole)\n",
    "p4_median[:] = ((v * ureg.picomole * p4_molar_mass / ureg.liter) for v in p4_median)\n",
    "p4_median[:] = (round(v.to(\"pg/ml\").m, 2) for v in p4_median)\n",
    "p4_5thpercent[:] = ((v * ureg.picomole * p4_molar_mass / ureg.liter) for v in p4_5thpercent)\n",
    "p4_5thpercent[:] = (round(v.to(\"pg/ml\").m, 2) for v in p4_5thpercent)\n",
    "p4_95thpercent[:] = ((v * ureg.picomole * p4_molar_mass / ureg.liter) for v in p4_95thpercent)\n",
    "p4_95thpercent[:] = (round(v.to(\"pg/ml\").m, 2) for v in p4_95thpercent)"
   ]
  },
  {
   "cell_type": "markdown",
   "id": "404f49d4",
   "metadata": {},
   "source": [
    "From this data we can form a graph of best fit with adjustable peaks. The percentile groups represent the upper limit and lower limit for their respective days mesurement which makes visible the large diversity of hormonal values between women. Unfortunately I'm not that great of a mathematician so I spent a few hours playing with the values to get these best fit lines. I still need to finish learning calculus."
   ]
  },
  {
   "cell_type": "code",
   "execution_count": 32,
   "id": "942c1f17",
   "metadata": {},
   "outputs": [],
   "source": [
    "# Define number of days in the cycle.\n",
    "x=tuple(range(30))\n",
    "\n",
    "# Start at lowest value, use update function to grow away.\n",
    "fit_e2 = Path(*reversed(list(zip(\n",
    "    (Path.MOVETO, (0, 20)),\n",
    "    (Path.CURVE4, (8, 10)),\n",
    "    (Path.CURVE4, (13, 30)),\n",
    "    (Path.CURVE3, (15, 200)),\n",
    "    (Path.CURVE3, (15, 10)),\n",
    "    (Path.CURVE4, (17, 30)),\n",
    "    (Path.CURVE3, (22, 120)),\n",
    "    (Path.CURVE3, (30, 20))\n",
    "))))\n",
    "def update_e2(path, l):\n",
    "    path.vertices[0][1] = 20 +0.4*l; path.vertices[1][1] = 10 +0.3*l;\n",
    "    path.vertices[2][1] = 30 + 0.7*l; path.vertices[3][1] = 200+3*l;\n",
    "    path.vertices[4][1] = 10 +0.3*l; path.vertices[5][1] = 30 + 0.7*l;\n",
    "    path.vertices[6][1] = 120+2.25*l; path.vertices[7][1] = 20 +0.4*l;\n",
    "    \n",
    "fit_e1 = fit_e2.deepcopy()\n",
    "def update_e1(e1_path, e2_path, l):\n",
    "    e1_path.vertices[:] = tuple((v[0],v[1]*0.4) for v in e2_path.vertices)\n",
    "update_e1(fit_e1, fit_e2, 0) # Define initial range for E1 levels\n",
    "\n",
    "fit_p4 = Path(*reversed(list(zip(\n",
    "    (Path.MOVETO, (0, 0.012)),\n",
    "    (Path.CURVE4, (5, 0.009)),\n",
    "    (Path.CURVE4, (10, 0.006)),\n",
    "    (Path.CURVE4, (15, 0.006)),\n",
    "    (Path.CURVE4, (18, 0.06)),\n",
    "    (Path.CURVE4, (20, 8)),\n",
    "    (Path.CURVE4, (22, 8)),\n",
    "    (Path.CURVE4, (24, 8.2)),\n",
    "    (Path.CURVE4, (26, 0.08)),\n",
    "    (Path.CURVE3, (28, 0.8)),\n",
    "    (Path.CURVE3, (29, 0.6)),\n",
    "    (Path.CURVE4, (30, 0.012)),\n",
    "))))\n",
    "def update_p4(path, l):\n",
    "    path.vertices[0][1] = 0.012*l; path.vertices[1][1] = 0.009*l; path.vertices[2][1] = 0.006*l;\n",
    "    path.vertices[3][1] = 0.006*l; path.vertices[4][1] = 0.06*l; path.vertices[5][1] = 8+0.1*l;\n",
    "    path.vertices[6][1] = 8+0.1*l; path.vertices[7][1] = 8.2+0.1*l; path.vertices[8][1] = 0.08*l;\n",
    "    path.vertices[9][1] = 0.8+0.08*l; path.vertices[10][1] = 0.6+0.012*l;\n",
    "    path.vertices[11][1] = 0.012*l;"
   ]
  },
  {
   "cell_type": "code",
   "execution_count": 33,
   "id": "7a68dc32",
   "metadata": {},
   "outputs": [
    {
     "data": {
      "application/vnd.jupyter.widget-view+json": {
       "model_id": "c27393cc2beb482192542a212279fc5e",
       "version_major": 2,
       "version_minor": 0
      },
      "text/plain": [
       "interactive(children=(IntSlider(value=0, description='l', readout=False), Output()), _dom_classes=('widget-int…"
      ]
     },
     "metadata": {},
     "output_type": "display_data"
    },
    {
     "data": {
      "application/vnd.jupyter.widget-view+json": {
       "model_id": "b6c09e5ac157434b9d032256b586cd7b",
       "version_major": 2,
       "version_minor": 0
      },
      "text/html": [
       "\n",
       "            <div style=\"display: inline-block;\">\n",
       "                <div class=\"jupyter-widgets widget-label\" style=\"text-align: center;\">\n",
       "                    E2 & P4 Target\n",
       "                </div>\n",
       "                <img src='data:image/png;base64,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' width=640.0/>\n",
       "            </div>\n",
       "        "
      ],
      "text/plain": [
       "Canvas(toolbar=Toolbar(toolitems=[('Home', 'Reset original view', 'home', 'home'), ('Back', 'Back to previous …"
      ]
     },
     "metadata": {},
     "output_type": "display_data"
    }
   ],
   "source": [
    "%matplotlib widget\n",
    "fig_target = pyplot.figure(\"E2 & P4 Target\")\n",
    "ax_e2 = fig_target.add_subplot(111)\n",
    "ax_e2.set_title(\"Estradiol & Progesterone Cycle Target Range\")\n",
    "ax_e2.set_ylim(0, 600); ax_e2.set_yticks(range(0, 600, 50));\n",
    "ax_e2.set_ylabel(\"Estrogens pg/mL\", color=\"red\")\n",
    "ax_e2.set_xlim(0, 30); ax_e2.set_xticks(x); ax_e2.set_xlabel(\"Day of Cycle\")\n",
    "ax_e2.scatter(x, e2_median, c=\"red\", s=2)\n",
    "ax_e2.scatter(x, e2_95thpercent, c=\"red\", s=2)\n",
    "ax_e2.scatter(x, e2_5thpercent, c=\"red\", s=2)\n",
    "fit_standalone_e2 = fit_e2.deepcopy()\n",
    "fit_standalone_e1 = fit_e1.deepcopy()\n",
    "ax_e2.add_patch(patches.PathPatch(fit_standalone_e2, fc=\"none\", color=\"red\", label=\"17β-Estradiol\"))   \n",
    "ax_e2.add_patch(patches.PathPatch(fit_standalone_e1, fc=\"none\", color=\"red\", ls=\"--\", label=\"Estrone\"))\n",
    "ax_e2.legend(loc=\"upper left\")\n",
    "\n",
    "ax_p4 = ax_e2.twinx() # Add a second y-value\n",
    "ax_p4.set_ylim(0, 30); ax_p4.set_yticks(tuple(range(0,30,2)));\n",
    "ax_p4.set_ylabel(\"Progesterone (P4) ng/mL\", color=\"blue\")\n",
    "ax_p4.scatter(x, p4_median, c=\"blue\", s=2)\n",
    "ax_p4.scatter(x, p4_95thpercent, c=\"blue\", s=2)\n",
    "ax_p4.scatter(x, p4_5thpercent, c=\"blue\", s=2)\n",
    "fit_standalone_p4 = fit_p4.deepcopy()\n",
    "ax_p4.add_patch(patches.PathPatch(fit_standalone_p4, fc=\"none\", color=\"blue\"))\n",
    "\n",
    "# TODO: get widgets to work when not from the last active notebook cell\n",
    "@widgets.interact(l=widgets.IntSlider(min=0, max=100, step=1, readout=False))\n",
    "def draw_e2_p4_target(l):\n",
    "    update_e2(fit_standalone_e2, l)\n",
    "    update_e1(fit_standalone_e1, fit_standalone_e2, l)\n",
    "    update_p4(fit_standalone_p4, l)\n",
    "    try:\n",
    "        # Needed to prevent ipympl from throwing an error\n",
    "        # while updating the canvas. Damn it's janky.\n",
    "        fig_target.canvas.draw()\n",
    "    except Exception as e:\n",
    "        pass"
   ]
  },
  {
   "cell_type": "markdown",
   "id": "e13b7db6",
   "metadata": {},
   "source": [
    "### Controlling Testosterone Levels\n",
    "Since having hormonal values similar to that of our cis counterparts is often considered a necessity by us trans folks, the first thing we need to do is suppress the dreaded testosterone(dihydrotestosterone). The left graph below contains testosterone assay data collected by **Wael, et al. in 2010** which we'll be using as our control AMAB refference dataset prior to HRT administration. To define our target levels we'll be using data from **Glenn D. Braunstein et al.** in the graph to the right."
   ]
  },
  {
   "cell_type": "code",
   "execution_count": 43,
   "id": "0a0c5d23",
   "metadata": {
    "scrolled": false
   },
   "outputs": [
    {
     "data": {
      "application/javascript": [
       "// Base64 encoded 16color PNG from cut out PDF graph; embedded for portability and longevity.\n",
       "element = display(element);\n",
       "const control = display.image(\"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\",{ \n",
       "    type: \"image/png\", width: \"54.5%\", style:\"display:inline\",\n",
       "});\n",
       "const target = display.image(\"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\", {  \n",
       "    type: \"image/png\", width: \"45.5%\", style:\"display:inline\",\n",
       "});\n",
       "element.append(control);\n",
       "element.append(target);\n"
      ],
      "text/plain": [
       "<IPython.core.display.Javascript object>"
      ]
     },
     "metadata": {},
     "output_type": "display_data"
    }
   ],
   "source": [
    "%%javascript\n",
    "// Base64 encoded 16color PNG from cut out PDF graph; embedded for portability and longevity.\n",
    "element = display(element);\n",
    "const control = display.image(\"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\",{ \n",
    "    type: \"image/png\", width: \"54.5%\", style:\"display:inline\",\n",
    "});\n",
    "const target = display.image(\"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\", {  \n",
    "    type: \"image/png\", width: \"45.5%\", style:\"display:inline\",\n",
    "});\n",
    "element.append(control);\n",
    "element.append(target);"
   ]
  },
  {
   "cell_type": "code",
   "execution_count": null,
   "id": "624bd634",
   "metadata": {},
   "outputs": [],
   "source": [
    "# Data extracted from graphs above using https://apps.automeris.io/wpd/\n",
    "# Since the primary goal is to create a cycle and replicate the hormonal environment \n",
    "# of premenopausal cis women, this only includes data from ages 20-50\n",
    "\n",
    "# AMAB individuals 20 to 85 in 5s; DHT in ng/dL\n",
    "amab_dht_median=[549, 556, 556, 549, 538, 528, 521] # 514, 496, 478, 468, 450, 436, 419]\n",
    "amab_dht_5thpercent=[264, 267, 267, 260, 253, 243, 236] # 225, 215, 197, 183, 169, 155, 141]\n",
    "amab_dht_95thpercent=[946, 950, 950, 943, 932, 925, 918] # 911, 901, 890, 876, 869, 862, 858]\n",
    "\n",
    "# AFAB individuals 20 to 50 in 5s; DHT in ng/dL\n",
    "afab_dht_median=[33.1, 29.9, 27.1, 24.6, 22.3, 20.2, 18.4]\n",
    "afab_dht_5thpercent=[17.3, 16.1, 14.9, 13.7, 12.8, 11.8, 11.0]\n",
    "afab_dht_95thpercent=[54.2, 49.9, 46.0, 42.4, 39.1, 36.1, 33.3]"
   ]
  },
  {
   "cell_type": "markdown",
   "id": "254350de",
   "metadata": {},
   "source": [
    "An investigation done by **Leinung, et al. in 2018** on the hormonal treatment of transgender women, found that between estradiol alone and estradiol supplemented by spironolactone or finasteride, testosterone suppression was best achieved with standalone estrogen treatment, or when supplemented by a progestin; in their case medroxyprogesterone. The data suggested that the two current stadardized anti-androgen complexes regularly administered for feminizing HRT therapy in the US, finasteride and spironolactone, either had no effect or had negative effects on testosterone suppression. A large amount of concern was placed on spironolactone use, as it's use corellated with future breast augmentation. Members of the investigation reasoned that the data supporting spironolactone's anti-androgenic properties were tennuous at best prior to it's implementation in trans hrt HRT, and due to their findings, argued it use should be reassessed in the treatment of trans women.\n",
    "\n",
    "The uselessness of spironolactone in trans-women is highlighted by both the afforementioned paper, and a publication made by **JONES, THOMAS M. et al. all the way from 1978** which found that \"Suppression of plasma testosterone levels from a mean of 760ng/dL to a mean of 295 ng/dL could be induced...\" in AMAB individuals \"...24 hours after a single injection of 2mg aquious 17beta-estradiol. Maximum suppresion to 123 ng/dL was noted 36 hours after estradiol administration.\" Furthermore, what serum estradiol levels alone can do in days, it takes a spironolactone regimine years to accomplish when it even does. \"Among a cohort of transgender women treated with spironolactone and estrogen, the highest suppressing quartile could reliably achieve testosterone levels in the female range at virtually all times. The second highest suppressing quartile could not achieve female levels but remained below the male range virtually all of the time. One quartile was unable to achieve any significant suppression.\" **Liang, Jeniffer J. et al.** *I'm going to personally suggest that you not take spironolactone.* It's other effects like it's aldactone blocking function and immunosuppressant qualities make it a dangerous compound. The negatives far surpass the positives.\n",
    "\n",
    "Before we can rule out the necessity of a testosterone blocker when implementing a hormonal cycle completely, we need to validate that 17beta-estradiol is suitable enough on it's own with our desired route of administration. The Jones Thomas study lacked a sufficient volume of participants to properly map the variation in testosterone suppression functions that estradiol presents between individuals, and the data provided by Leinung et al., while providing suitable participant volume, doesn't list the initial total testosterone values of each participant, the BMI of each participant, or if the participants were instructed to ingest the oral estradiol tablets they were given. Therefore any projections I make on the matter of testosterone suppression as a function of estradiol must be speculative since I desire to make such a function which takes into account testosterone rebound reaction time.\n"
   ]
  },
  {
   "cell_type": "code",
   "execution_count": 45,
   "id": "ee261205",
   "metadata": {},
   "outputs": [],
   "source": [
    "# TODO: make a line graph with the data from **JONES, THOMAS M. et al. 1978**,\n",
    "#       and craft a function which mirrors the testosterone suppression over time.\n",
    "#       The graph should be animated demonstrating the functions ability to represent\n",
    "#       the testosterone suppression model.\n",
    "\n",
    "#TODO: two graphs side by side. One needs to be a bar graph with a slider controlling\n",
    "#       the estradiol value in pg/ml and testosterone value in ng/dL. The second graph\n",
    "#       should be a line graph with the data taken from \n",
    "#       and we should be able to track over time the estradiol levels effect on "
   ]
  },
  {
   "cell_type": "markdown",
   "id": "09e7814a",
   "metadata": {},
   "source": [
    "While I was researching the metabolism pathways for medroxyprogesterone acetate, I discovered a paper written by **Bethea, C. L. in 2011** which summarizes research suggesting that MPA may actually be very detremental to neuron heath. So I can't bring myself to personally recommend you use that progestin. Instead, I'm going to recommend that if you do use a progestin for additional androgen blocking, you should use micronized progesterone over conjugated alternatives since it's the same compound that AFAB folks have floating around in their bodies, and it's known to be safe. ***TODO: add data for P4 suppression of testosterone.***"
   ]
  },
  {
   "cell_type": "markdown",
   "id": "4d4db3f4",
   "metadata": {},
   "source": [
    "### Controlling Estrogen Levels\n",
    "There is a plentiful variety in administrative routes for estrogen; intranasal (sprayed into the nasal pathway), buccal lozenges (absorbed through the cheek), sublingual (absorbed under the tongue), oral (ingested), vaginal, rectal, injection, pellet implantation, and subdermal patch, gell or emulsion (through the skin). However, a lot of these must be excluded from the notebook entry. Vaginal administration is impossible for those who are not transsexual. Transdermal patches are unfortuntaely not eco-friendly enough for me, and they're needed for sensitive patients like those with Turners Syndrome. Estrogen injections are dosed bi-weekly, and as such don't have the finite control we need for emulating a cycle. Pellets are doesed semi-anually and thus have a similar problem. The rectal route isn't generally well accepted and it's rarely ever perscribed. Likewise the intranasal administration route is hardly ever prescribed. Oral estradiol administrative routes like ingestion and sublingual, introduce too much estrone as pointed out by **Mijares, R. F. in 2019**. This leaves subdermal estradiol gels and emulsions. \n",
    "\n",
    "When I was buying my estrogen through the gray market, [Inhouse Pharmacy](https://www.inhousepharmacy.vu) was the best option, they provide a ton of options for womens HRT. However, as I recently discovered when talking to a pellet therapy specialist, that while high estradiol volume gels and emulsions aren't commercially available, they can be made available at any specialty Compounding Pharmacy\n",
    "\n",
    "Before we continue, let's establish a control value for our AMAB estrogen values. Below is a graph provided by the immunoassay and mass-spectrometry comparrison study **Ohlsson, Claes et al. from 2013** which charts E2 levels collected from large group of AMAB individuals. I was too lazy to look for a long term control estradiol assay for AMAB folks, so we're going to have to assume it's relatively consistent throughout life. "
   ]
  },
  {
   "cell_type": "code",
   "execution_count": 5,
   "id": "eef1de06",
   "metadata": {},
   "outputs": [
    {
     "data": {
      "application/javascript": [
       "element = display(element);\n",
       "const control = display.image(\"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\",{ \n",
       "    type: \"image/png\", width: \"50%\", style:\"display:inline; transform:translate(50%, 0)\",\n",
       "});\n",
       "element.append(control);\n"
      ],
      "text/plain": [
       "<IPython.core.display.Javascript object>"
      ]
     },
     "metadata": {},
     "output_type": "display_data"
    }
   ],
   "source": [
    "%%javascript\n",
    "element = display(element);\n",
    "const control = display.image(\"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\",{ \n",
    "    type: \"image/png\", width: \"50%\", style:\"display:inline; transform:translate(50%, 0)\",\n",
    "});\n",
    "element.append(control);"
   ]
  },
  {
   "cell_type": "code",
   "execution_count": null,
   "id": "764c6913",
   "metadata": {},
   "outputs": [],
   "source": [
    "%%html\n",
    "<div style=\"display: inline-flex\">\n",
    "<a href=\"https://web.archive.org/web/20210213214832/https://pubmed.ncbi.nlm.nih.gov/9052581/\"><img\n",
    "    src=\"https://web.archive.org/web/20201004175811/https://upload.wikimedia.org/wikipedia/commons/8/8a/Estradiol_levels_with_oral_versus_sublingual_estradiol_in_postmenopausal_women.png\"\n",
    "    alt=\"Estradiol levels compared following oral and sublingual dosing\"\n",
    "/></a>\n",
    "<a href=\"https://web.archive.org/web/20210227115810/https://pubmed.ncbi.nlm.nih.gov/12841880/\"><img\n",
    "    src=\"https://web.archive.org/web/20201004175833/https://upload.wikimedia.org/wikipedia/commons/9/9c/Estradiol_levels_during_therapy_with_0.25_mg_buccal_estradiol_in_postmenopausal_women.png\"\n",
    "    alt=\"Estradiol levels measured in hourly intervals following buccal dosing\"\n",
    "/></a>\n",
    "</div>"
   ]
  },
  {
   "cell_type": "code",
   "execution_count": null,
   "id": "2894e4cf",
   "metadata": {},
   "outputs": [],
   "source": [
    "# So if I'm taking 2mg/day of estradiol, I should on average be at the base line window 1.\n",
    "# Now I just need to have my levels measured at high E, P and Spiro. From there I can adjust\n",
    "# my upper limit to achieve average Window 2 peak. Measuring P levels will be more difficult,\n",
    "# I imagine.\n",
    "#\n",
    "# When dosing E2 sublingually, it's absorbed at least 5x faster and more effectively, reduces\n",
    "# risk of deep vein thrombosis, but it also reaches it's peak serum level at 1hr. Need more info\n",
    "# To deduce drop off period. Regardless, the safety aspects are very compelling to continue my\n",
    "# dosing as it currently is. Buccal dosing is near identical to sublingual dosing, with no significant\n",
    "# measurable difference.\n",
    "cycle_durration=28 # days\n",
    "e2_dose=0.5 # mg\n",
    "prog_dose=10 # mg\n",
    "\n",
    "# NOTE: these \n",
    "male_control_range={\n",
    "\t\"prog\": (10, 40) # pg/mL\n",
    "\t\"e2\": (0.13, 0.97) # ng/mL\n",
    "}\n",
    "\n",
    "# Female control range is unstable, these are the values\n",
    "female_control_range={\n",
    "\t\"prog\": (), # pg/mL\n",
    "\t\"e2\": (), # ng/mL\n",
    "}"
   ]
  },
  {
   "cell_type": "code",
   "execution_count": null,
   "id": "b065aed7",
   "metadata": {},
   "outputs": [],
   "source": [
    "%%html\n",
    "<img src=\"https://web.archive.org/web/20201218020446im_/https://www.ncbi.nlm.nih.gov/pmc/articles/PMC5944393/bin/fig-2.jpg\"/>"
   ]
  },
  {
   "cell_type": "markdown",
   "id": "dcc502e8",
   "metadata": {},
   "source": [
    "### Citations\n",
    "\n",
    "BAGOT, C.N., MARSH, M.S., WHITEHEAD, M., SHERWOOD, R., ROBERTS, L., PATEL, R.K. and ARYA, R. (2010), The effect of estrone on thrombin generation may explain the different thrombotic risk between oral and transdermal hormone replacement therapy. Journal of Thrombosis and Haemostasis, 8: 1736-1744. [DOI: 10.1111/j.1538-7836.2010.03953.x](https://web.archive.org/web/20211011210733/https://sci-hubtw.hkvisa.net/10.1111/j.1538-7836.2010.03953.x)\n",
    "\n",
    "K. E. BRUMMEL-ZIEDINS; C. Y. VOSSEN; S. BUTENAS; K. G. MANN; F. R. ROSENDAAL (2005). Thrombin generation profiles in deep venous thrombosis. , 3(11), 2497–2505. [DOI: 10.1111/j.1538-7836.2005.01584.x](https://web.archive.org/web/20211011212138/https://www.ncbi.nlm.nih.gov/pmc/articles/PMC1410192/)\n",
    "\n",
    "Stricker, Reto; Eberhart, Raphael; Chevailler, Marie-Christine; Quinn, Frank A.; Bischof, Paul; Stricker, René (2006). Establishment of detailed reference values for luteinizing hormone, follicle stimulating hormone, estradiol, and progesterone during different phases of the menstrual cycle on the Abbott ARCHITECT® analyzer. Clinical Chemical Laboratory Medicine, 44(7), –. [DOI: 10.1515/cclm.2006.160](https://web.archive.org/web/20211012005337/https://sci-hubtw.hkvisa.net/10.1515/cclm.2006.160)\n",
    "\n",
    "Hilton, Heidi N.; Clarke, Christine L.; Graham, J. Dinny (2017). Estrogen and progesterone signalling in the normal breast and its implications for cancer development. Molecular and Cellular Endocrinology, (), S0303720717304331–. [DOI: 10.1016/j.mce.2017.08.011](https://sci-hubtw.hkvisa.net/10.1016/j.mce.2017.08.011)\n",
    "\n",
    "Beatrice A. Howard; Barry A. Gusterson (2000). Human Breast Development. , 5(2), 119–137. [DOI: 10.1023/a:1026487120779](https://web.archive.org/web/20211012220205/https://sci-hubtw.hkvisa.net/10.1023/a:1026487120779) \n",
    "\n",
    "Heller, Samantha L.; Young Lin, Leng Leng; Melsaether, Amy N.; Moy, Linda; Gao, Yiming  (2018). Hormonal Effects on Breast Density, Fibroglandular Tissue, and                     Background Parenchymal Enhancement. RadioGraphics, (), 180035–. [DOI: 10.1148/rg.2018180035](\n",
    "https://web.archive.org/web/20211017230946/https://sci-hubtw.hkvisa.net/10.1148/rg.2018180035)\n",
    "\n",
    "Sonnenblick, Emily B.; Shah, Ami D.; Goldstein, Zil; Reisman, Tamar (2018). Breast Imaging of Transgender Individuals: A Review. Current Radiology Reports, 6(1), 1–. [DOI: 10.1007/s40134-018-0260-1](https://web.archive.org/web/20211027001907/https://sci-hubtw.hkvisa.net/10.1007/s40134-018-0260-1)\n",
    "\n",
    "Wierckx, Katrien; Gooren, Louis; T'Sjoen, Guy (2014). Clinical Review: Breast Development in Trans Women Receiving Cross-Sex Hormones. The Journal of Sexual Medicine, 11(5), 1240–1247. [DOI: 10.1111/jsm.12487](https://web.archive.org/web/20211020033810/https://sci-hubtw.hkvisa.net/10.1111/jsm.12487)\n",
    "\n",
    "Leinung, Matthew C.; Feustel, Paul J.; Joseph, Jalaja (2018). Hormonal Treatment of Transgender Women with Oral Estradiol. Transgender Health, 3(1), 74–81. [DOI: 10.1089/trgh.2017.0035](https://web.archive.org/web/20201103195444/https://www.ncbi.nlm.nih.gov/pmc/articles/PMC5944393/)\n",
    "\n",
    "Bethea, C. L. (2011). MPA:Medroxy-ProgesteroneAcetate Contributes toMuchPoorAdvice for Women. Endocrinology, 152(2), 343–345. [DOI: 10.1210/en.2010-1376](https://web.archive.org/web/20211029224636/https://sci-hubtw.hkvisa.net/10.1210/en.2010-1376)\n",
    "\n",
    "Wael A. Salameh; Mildred M. Redor-Goldman; Nigel J. Clarke; Richard E. Reitz; Michael P. Caulfield (2010). Validation of a total testosterone assay using high-turbulence liquid chromatography tandem mass spectrometry: Total and free testosterone reference ranges. , 75(2), 0–175. [DOI: 10.1016/j.steroids.2009.11.004](https://web.archive.org/web/20211030033857/https://sci-hubtw.hkvisa.net/10.1016/j.steroids.2009.11.004)\n",
    "\n",
    "JONES, THOMAS M.; FANG, VICTOR S.; LANDAU, RICHARD L.; ROSENFIELD, ROBERT (1978). Direct Inhibition of Leydig Cell Function by Estradiol*. The Journal of Clinical Endocrinology & Metabolism, 47(6), 1368–1373. [DOI: 10.1210/jcem-47-6-1368](https://web.archive.org/web/20211105200317/https://sci-hubtw.hkvisa.net/10.1210/jcem-47-6-1368)\n",
    "\n",
    "Liang, Jennifer J.; Jolly, Divya; Chan, Kelly J.; Safer, Joshua D. (2017). TESTOSTERONE LEVELS ACHIEVED BY MEDICALLY TREATED TRANSGENDER WOMEN IN A UNITED STATES ENDOCRINOLOGY CLINIC COHORT. Endocrine Practice, (aop), EP-2017-0116–. [DOI: 10.4158/EP-2017-0116](https://web.archive.org/web/20211105204835/https://sci-hubtw.hkvisa.net/10.4158/EP-2017-0116)\n",
    "\n",
    "Louw-du Toit, Renate; Perkins, Meghan S.; Hapgood, Janet P.; Africander, Donita (2017). Comparing the androgenic and estrogenic properties of progestins used in contraception and hormone therapy. Biochemical and Biophysical Research Communications, 491(1), 140–146. [DOI: 10.1016/j.bbrc.2017.07.063](https://web.archive.org/web/20211105220257/https://sci-hubtw.hkvisa.net/10.1016/j.bbrc.2017.07.063)\n",
    "\n",
    "Glenn D. Braunstein; Richard E. Reitz; Akshay Buch; Dan Schnell; Michael P. Caulfield (2011). Testosterone Reference Ranges in Normally Cycling Healthy Premenopausal Women. , 8(10), 2924–2934. [DOI: 10.1111/j.1743-6109.2011.02380.x](https://web.archive.org/web/20211108014450/https://sci-hubtw.hkvisa.net/10.1111/j.1743-6109.2011.02380.x)\n",
    "\n",
    "The World Professional Association for Transgender Health, (2012). Standards of Care Version 7. [https://www.wpath.org/publications/soc](https://www.wpath.org/media/cms/Documents/SOC v7/SOC V7_English2012.pdf)\n",
    "\n",
    "Ohlsson, Claes; Nilsson, Maria E.; Tivesten, Åsa; Ryberg, Henrik; Mellström, Dan; Karlsson, Magnus K.; Ljunggren, Östen; Labrie, Fernand; Orwoll, Eric S.; Lee, David M.; Pye, Stephen R.; O'Neill, Terence W.; Finn, Joseph D.; Adams, Judith E.; Ward, Kate A.; Boonen, Steven; Bartfai, Gyorgy; Casanueva, Felipe F.; Forti, Gianni; Giwercman, Aleksander; Han, Thang S.; Huhtaniemi, Ilpo T.; Kula, Krzysztof; Lean, Michael E. J.; Pendleton, Neil; Punab, Margus; Vanderschueren, Dirk; Wu, Frederick C. W.; Vandenput, Liesbeth (2013). Comparisons of Immunoassay and Mass Spectrometry Measurements of Serum Estradiol Levels and Their Influence on Clinical Association Studies in Men. The Journal of Clinical Endocrinology & Metabolism, 98(6), E1097–E1102. [DOI: 10.1210/jc.2012-3861](https://web.archive.org/web/20211112224508/https://sci-hubtw.hkvisa.net/10.1210/jc.2012-3861)\n",
    "\n",
    "Fuentes, Nathalie (2019). Advances in Protein Chemistry and Structural Biology || Estrogen receptor signaling mechanisms. [DOI: 10.1016/bs.apcsb.2019.01.001](https://web.archive.org/web/20211114050004/https://sci-hubtw.hkvisa.net/10.1016/bs.apcsb.2019.01.001)\n",
    "\n",
    "Frederiksen, Hanne; Johannsen, Trine Holm; Andersen, Stine Ehlern; Albrethsen, Jakob; Landersoe, Selma Kløve; Petersen, Jørgen Holm; Andersen, Anders Nyboe; Vestergaard, Esben Thyssen; Schorring, Mia Elbek; Linneberg, Allan; Main, Katharina M; Andersson, Anna-Maria; Juul, Anders (2019). Sex-specific estrogen levels and reference intervals from infancy to late adulthood determined by LC-MS/MS. The Journal of Clinical Endocrinology & Metabolism, (), dgz196–. [DOI: 10.1210/clinem/dgz196](https://web.archive.org/web/20211117222213/https://sci-hubtw.hkvisa.net/10.1210/clinem/dgz196)\n",
    "\n",
    "Kushnir, Mark M.; Rockwood, Alan L.; Bergquist, Jonas; Varshavsky, Marina; Roberts, William L.; Yue, Bingfang; Bunker, Ashley M.; Meikle, A. Wayne  (2008). High-Sensitivity Tandem Mass Spectrometry Assay for Serum Estrone and Estradiol. American Journal of Clinical Pathology, 129(4), 530–539. [DOI: 10.1309/LC03BHQ5XJPJYEKG](https://web.archive.org/web/20211119010948/https://sci-hubtw.hkvisa.net/10.1309/LC03BHQ5XJPJYEKG)\n",
    "\n",
    "Aurélie Escande; Arnaud Pillon; Nadège Servant; Jean-Pierre Cravedi; Fernando Larrea; Peter Muhn; Jean-Claude Nicolas; Vincent Cavaillès; Patrick Balaguer (2006). Evaluation of ligand selectivity using reporter cell lines stably expressing estrogen receptor alpha or beta. , 71(10), 1459–1469. [DOI: 10.1016/j.bcp.2006.02.002](https://web.archive.org/web/20211119043436/https://sci-hubtw.hkvisa.net/10.1016/j.bcp.2006.02.002)\n",
    "\n",
    "Hembree, Wylie C.; Cohen-Kettenis, Peggy; Delemarre-van de Waal, Henriette A.; Gooren, Louis J.; Meyer, Walter J.; Spack, Norman P.; Tangpricha, Vin; Montori, Victor M. (2009). Endocrine Treatment of Transsexual Persons:An Endocrine Society Clinical Practice Guideline. The Journal of Clinical Endocrinology & Metabolism, 94(9), 3132–3154. [DOI: 10.1210/jc.2009-0345](https://web.archive.org/web/20211119060713/https://sci-hubtw.hkvisa.net/10.1210/jc.2009-0345)\n",
    "\n",
    "Stevens, V. (1997). Symposium: reproduction in baboons. Some reproductive studies in the baboon. Human Reproduction Update, 3(6), 533–540. [DOI: 10.1093/humupd/3.6.533](https://web.archive.org/web/20211119235926/https://sci-hubtw.hkvisa.net/10.1093/humupd/3.6.533)\n",
    "\n",
    "Bozzolino, Cristina; Vaglio, Sara; Amante, Eleonora; Alladio, Eugenio; Gerace, Enrico; Salomone, Alberto; Vincenti, Marco (2019). Individual and cyclic estrogenic profile in women: structure and variability of the data. Steroids, (), 108432–. [DOI: 10.1016/j.steroids.2019.108432](https://web.archive.org/web/20211120034047/https://sci-hubtw.hkvisa.net/10.1016/j.steroids.2019.108432)\n",
    "\n",
    "Coburn, Sally B.; Stanczyk, Frank Z.; Falk, Roni T.; McGlynn, Katherine A.; Brinton, Louise A.; Sampson, Joshua; Bradwin, Gary; Xu, Xia; Trabert, Britton (2018). Comparability of serum, plasma, and urinary estrogen and estrogen metabolite measurements by sex and menopausal status. Cancer Causes & Control, (), –. [DOI: 10.1007/s10552-018-1105-1](https://web.archive.org/web/20211117225641/https://sci-hubtw.hkvisa.net/10.1007/s10552-018-1105-1)\n",
    "\n",
    "Mijares, R. F. (n.d.). (2019) Retrospective Chart Review for Assessment of Risks of Estrogen Therapy for Transgender Females. [http://hdl.handle.net/10755/18015](https://web.archive.org/web/20211120053503/https://sigma.nursingrepository.org/handle/10755/18015)\n",
    "\n",
    "\n",
    "WHEN I GET BACK: finish researching these things:\n",
    "\n",
    "On the GnHR feedback loop as the method by which estradiol supresses testosterone\n",
    "https://www.reddit.com/r/TransDIY/comments/7mznr9/mtf_results_from_using_2mgday_oral_estradiol/\n",
    "https://sci-hubtw.hkvisa.net/10.1097/01.ju.0000061024.75334.40\n",
    "https://www.ncbi.nlm.nih.gov/pmc/articles/PMC2853991/\n",
    "https://www.ncbi.nlm.nih.gov/pmc/articles/PMC6612061/\n",
    "https://www.ncbi.nlm.nih.gov/pmc/articles/PMC2853991/\n",
    "https://sci-hubtw.hkvisa.net/10.1210/endo-127-6-2876\n",
    "https://sci-hubtw.hkvisa.net/10.1095/biolreprod37.3.501\n",
    "https://academic.oup.com/endo/article/159/11/3723/5078409\n",
    "\n",
    "For the ability of Progesterone to act as a testosterone suppressor\n",
    "https://sci-hubtw.hkvisa.net/10.1016/j.bbrc.2017.07.063\n",
    "https://pubmed.ncbi.nlm.nih.gov/31127826/\n",
    "https://www.ncbi.nlm.nih.gov/pmc/articles/PMC3769780/\n",
    "https://sci-hubtw.hkvisa.net/10.1210/jc.2018-02253\n",
    "\n",
    "\n",
    "I should probably address recommendation pathways for oral tablet administration somewhere\n",
    "https://genderanalysis.net/2019/07/new-data-on-trans-womens-estradiol-estrone-ratios-for-different-routes-of-administration-of-hrt/\n",
    "\n",
    "misc:\n",
    "https://www.ncbi.nlm.nih.gov/pmc/articles/PMC6533072/\n",
    "https://www.ncbi.nlm.nih.gov/pmc/articles/PMC3866684/\n",
    "https://pubmed.ncbi.nlm.nih.gov/23063473/\n",
    "https://pubmed.ncbi.nlm.nih.gov/6776814/\n",
    "\n",
    "For trans guys maybe:\n",
    "https://pubmed.ncbi.nlm.nih.gov/26729437/\n",
    "\n",
    "<!-- UNUSED OR DEPRECATED SPECIMINES ENCOUNTERED OVER THE COURSE OF MY RESEARCH/ HONORABLE MENTIONS\n",
    ".\n",
    "Rosner, William; Hankinson, Susan E.; Sluss, Patrick M.; Vesper, Hubert W.; Wierman, Margaret E. (2013). Challenges to the Measurement of Estradiol: An Endocrine Society Position Statement. The Journal of Clinical Endocrinology & Metabolism, 98(4), 1376–1387. [DOI: 10.1210/jc.2012-3780](https://web.archive.org/web/20211118014700/https://sci-hubtw.hkvisa.net/10.1210/jc.2012-3780)\n",
    ".\n",
    "Havlicek, J.; Cobey, K. D.; Barrett, L.; Klapilova, K.; Roberts, S. C. (2015). The spandrels of Santa Barbara? A new perspective on the peri-ovulation paradigm. Behavioral Ecology, (), arv064–. [DOI: 10.1093/beheco/arv064](https://web.archive.org/web/20211011223032/https://sci-hubtw.hkvisa.net/10.1093/beheco/arv064)\n",
    "-->"
   ]
  },
  {
   "cell_type": "markdown",
   "id": "264961e9",
   "metadata": {},
   "source": [
    "### About Me\n",
    "\n",
    "I came out as trans-feminine back in 2016. When I first inquired about HRT with my doctor, I was lucky to have some WPATH Standards of Care documents with me, because my physician had absolutely no idea how to treat a trans patient. They sent me up to the gynecologist for the building, who seemed very hesitent to perscribe HRT in any dose. I remember that they forced me to sit through the warnings about deep vein thrombosis caused by oral estradiol and how this *would cause non-reversable breast enlargement and potential erectile dysfunction.* Much to the suprise of many of my current transfem friends, this gynecologist wasn't transphobic; or at least not a gatekeeper. Perhaps they saw my paperwork I'd brought along and made the deduction that I was too well read be stopped from achieving my goal. They probably couldn't help worrying though. They sent me home with script for 1mg of estradiol and 100mg of spironolactone to be taken oraly, daily. My request was to be put on 2mg/day to start, but they insisted I titrate up. Being as I was, very insecure and baby trans, I couldn't stand to wait for my breasts to grow in. I thought that just going to a high estrogen dose right away would make my breasts grow in faster. So after two months of feeling hardly any breast growth, I asked my doc for an increase in estradiol. I was given a script for 6mg/day. I felt a little breast development over the next few months, but I was still unsatisfied. So again, I asked for an increase. Now, this is where my ObGyn had some geat advice, which I was too dysphoric to listen to. They insisted that I not take more estrogen than I was already on, and instead try letting the tablets desolve sublingualy; ie, under the tongue. That method is safer because it bypasses the liver a significant degree, of course I thought at the time they were just trying to convince me not to raise my dose by whatever means necessary. They insisted that raising my estrogen dose any further would likely cause severe side effects like constant migranes among other things.\n",
    "\n",
    "Skip forward two years later, I'd been taking estrogen sublingually at 6mg per day consistently. I woke up on my day off and started fondling my now, roughly tanners stage 3 breasts, when I noticed a lump forming in my right breast. This had been preceeded by a sharp pain in that area on the same breast for the past two weeks prior, so my mind immediately went to cancer. My thought was, since my mother and grandmother both got cancer, a maternal genetic risk could plausibly exist within my genes. At the time I had Washington State heathcare. I could have easily asked my physician for a mamogram refferal to check out the cyst. When I was about three months into my transition though, I accidentally screwed up my hair and decided to shave it all off. I had just recently grown my hair out to a level where I was starting to pass. I was far too insecure to ask for a diagnostic appointment then. I decided to monitor the lump closely, doing a breast massage almost every day to try and track it's size over time. After three months of no substantial growth, or development of other cysts, I concluded that it was most likely a benign cyst. It also felt like after a long massage the cyst receeded in size a bit. I figured I should still get it checked out professionally as soon as possible just to make sure; but ended up procrastinating until I lost my healthcare a few months later when I moved into a management position at Knighthawk Protection.\n",
    "\n",
    "When I lost my healthcare, I lost my ability to get a perscription for estradiol or spiro. Which usually isn't a pleasent experience for a trans women like myself who needs HRT to create the secondary sexual characteristics which keep their dysphoria at bay. After a few months of not being able to afford a script and the return of my irritability brought on by testosterone, I snapped. I had to do something to keep the suicidal thoughts away, so I decided to look into DIY HRT. I'd read about how progestogens affects the lobular development of breasts back when I was fetching the paperwork from WPATH before I started my transition and that lobular tissue accounts for about 20% of total breast volume. I'd also asked my now pervious ObGyn, to perscribe me with progesterone in the past, but they perscribed me with hybrid E2/P birth control; which had 0.15% of the recommended 200mg/day micronized progesterone dose I'd read was being perscribed in Canada and Europe. Regardless of their medical knowledge on the pharmacokinetics of that specific birth control, sticking to something well regulated and known is better than being test subject. I stopped that pill a few months after it was prescribed. When I found out that [inhousepharmacy](https://web.archive.org/web/20211014044918/https://www.inhousepharmacy.vu/) was well cited, and had all the progesterone, estrogen and spiro I could ever need, I decided to perscribe myself with some 200mg micronized progesterone tablets. It further solidified my decision when I heard progesterone supposedly has antiandrogenic properties.\n",
    "\n",
    "It wasn't until the middle of the 2019, durring the start of the initial United States presidential response to the COVID-19 Alpha pandemic; where they tried to say it wasn't a big deal and downplayed everything, when my partner at the time convinced me to apply for state healthcare again. This time it would be through Oregon Health Plan because I was living in Portland. The core intent was that I'd be seen about my Cyst ASAP. But that didn't happen for another year. When I was finally seen, I was recommended to have a mamogram, where I was diagnosed with extremely dense breasts. Turns out that when my partner back in 2018 had complained that my breasts felt like muscle they weren't very far off. When my autopsy on the cyst was done, my breasts were almost completely connective tissue. Which I read a week later, put me at an increased risk of breast cancer. The cyst had abnormal tissue developing inside it, suggesting it was also on the road to becomming cancerous if I'd left it untreated for any longer. So I got scheduled for surgery and got it removed.\n",
    "\n",
    "Although investigators have shown in the results of twin studies that breast density of cis women appears to be predominantly determined genetically, breast density may also change owing to endogenous or external factors, including increased or decreased hormonal stimulus. During normal aging, reproductive hormones wane, a finding that in turn is associated with terminal duct unit involution; normal aging tends to decrease breast density in women. In the results of a recent analysis of mammographic density, investigators using a quantitative method in more than 11 000 women across 22 countries found that mammographic density decreased as age increased for both premenopausal and postmenopausal women, and the decreases were more marked during the menopausal transition (Heller, et al. 2018).\n",
    "\n",
    "Following my diagnosis of extremely dense breasts, I decided to lower my estradiol intake temporarily. I wanted to see if doing so could reduce my breast density for the better. And I can say for the moment it has. I'm only about three or four weeks into dropping my estradiol intake from 6mg/day to 2mg/day, and both me and my partner can feel a significant change in the consistency of my breasts. They're alot more squishy than before, and aren't constantly sore. But I'm going to wait for my next mammogram to say for sure that my breast density has gone down, since that's more viable data than my fingers. So going forward, the evidence I have would suggest that my hormones do definitely have a significant effect on my breast density. Obviously this doesn't apply unilaterally to everyone but it's good to note. I'll update this with docs when I get them.\n",
    "\n",
    "This all prompted me to look into the pharmacokinetics of estradiol and progesterone, the two main components of feminizing HRT. I want to know if there's a potential that trans women everywhere have been overexposing themselves to estradiol like myself, or if having a hormonal cycle actually serves a purpose in cis women that us trans girls are missing out on. Every trans girl I've known to use intramuscular injections has presented with larger breasts than me, and on average every other trans woman who uses oral estradiol. I believe this is due to the injections mimicing a cycle, since they need to be dosed biweekly."
   ]
  }
 ],
 "metadata": {
  "kernelspec": {
   "display_name": "Python 3 (ipykernel)",
   "language": "python",
   "name": "python3"
  },
  "language_info": {
   "codemirror_mode": {
    "name": "ipython",
    "version": 3
   },
   "file_extension": ".py",
   "mimetype": "text/x-python",
   "name": "python",
   "nbconvert_exporter": "python",
   "pygments_lexer": "ipython3",
   "version": "3.9.5"
  },
  "widgets": {
   "application/vnd.jupyter.widget-state+json": {
    "state": {
     "000556d09b60493093236380abc3709d": {
      "model_module": "@jupyter-widgets/controls",
      "model_module_version": "1.5.0",
      "model_name": "IntSliderModel",
      "state": {
       "continuous_update": false,
       "layout": "IPY_MODEL_99cd935f702a46008e1f98a9a1e2d729",
       "max": 10,
       "readout": false,
       "step": 0,
       "style": "IPY_MODEL_cb163e2ef93c433f9c7f3d3d39ea4c22"
      }
     },
     "00cfcb539a3548f8b30dd3e2fbb43d32": {
      "model_module": "@jupyter-widgets/base",
      "model_module_version": "1.2.0",
      "model_name": "LayoutModel",
      "state": {}
     },
     "01e0a4e291204c59bc486775e9e8e610": {
      "model_module": "@jupyter-widgets/controls",
      "model_module_version": "1.5.0",
      "model_name": "SliderStyleModel",
      "state": {
       "description_width": ""
      }
     },
     "0214eec0569044609cf1d04998d0008b": {
      "model_module": "@jupyter-widgets/base",
      "model_module_version": "1.2.0",
      "model_name": "LayoutModel",
      "state": {}
     },
     "0287cb5272074eed8f6cd8991e60cb94": {
      "model_module": "@jupyter-widgets/base",
      "model_module_version": "1.2.0",
      "model_name": "LayoutModel",
      "state": {}
     },
     "02c0700c815543918f290e1b91df8a00": {
      "model_module": "@jupyter-widgets/base",
      "model_module_version": "1.2.0",
      "model_name": "LayoutModel",
      "state": {}
     },
     "030fdad668814d829d99b717daad2b8b": {
      "model_module": "@jupyter-widgets/controls",
      "model_module_version": "1.5.0",
      "model_name": "IntSliderModel",
      "state": {
       "layout": "IPY_MODEL_28ed57aa9c5b4f428a05d5d974d1c2c2",
       "max": 10,
       "readout": false,
       "style": "IPY_MODEL_304ffd809ac844bf90c03f6de1baf5b6"
      }
     },
     "0348b67042664da4b6499fb723c5e9ff": {
      "model_module": "@jupyter-widgets/controls",
      "model_module_version": "1.5.0",
      "model_name": "IntSliderModel",
      "state": {
       "layout": "IPY_MODEL_b884c4db83cb44678fc188b563eb8c7b",
       "readout": false,
       "style": "IPY_MODEL_f2d7c518b5c748b8a34ba1dd6f4ed6bb",
       "value": 49
      }
     },
     "0364018cb64f4f73b0c9c6b49a040fc0": {
      "model_module": "@jupyter-widgets/base",
      "model_module_version": "1.2.0",
      "model_name": "LayoutModel",
      "state": {}
     },
     "0412bfb556e34e088a5a761b92a79b2c": {
      "model_module": "@jupyter-widgets/base",
      "model_module_version": "1.2.0",
      "model_name": "LayoutModel",
      "state": {}
     },
     "04133a7b4fe14758a989b6bf21e21ed8": {
      "model_module": "@jupyter-widgets/base",
      "model_module_version": "1.2.0",
      "model_name": "LayoutModel",
      "state": {}
     },
     "042f83f1971741a38e385cc72e3285aa": {
      "model_module": "@jupyter-widgets/base",
      "model_module_version": "1.2.0",
      "model_name": "LayoutModel",
      "state": {}
     },
     "0473d7115cba4512a92c950d3d4e3ab2": {
      "model_module": "@jupyter-widgets/controls",
      "model_module_version": "1.5.0",
      "model_name": "IntSliderModel",
      "state": {
       "layout": "IPY_MODEL_55ae11b6ba614c45a560e8f7de1090a9",
       "readout": false,
       "style": "IPY_MODEL_84e9cc7a35c640f19c3c6f5257673c0a"
      }
     },
     "0484d7b337f94bbda8456b3b7e9713a8": {
      "model_module": "jupyter-matplotlib",
      "model_module_version": "^0.10.1",
      "model_name": "ToolbarModel",
      "state": {
       "layout": "IPY_MODEL_55cce7c0a48c4c8cafa3265ad57843cc",
       "toolitems": [
        [
         "Home",
         "Reset original view",
         "home",
         "home"
        ],
        [
         "Back",
         "Back to previous view",
         "arrow-left",
         "back"
        ],
        [
         "Forward",
         "Forward to next view",
         "arrow-right",
         "forward"
        ],
        [
         "Pan",
         "Left button pans, Right button zooms\nx/y fixes axis, CTRL fixes aspect",
         "arrows",
         "pan"
        ],
        [
         "Zoom",
         "Zoom to rectangle\nx/y fixes axis, CTRL fixes aspect",
         "square-o",
         "zoom"
        ],
        [
         "Download",
         "Download plot",
         "floppy-o",
         "save_figure"
        ]
       ]
      }
     },
     "04876ccbb1dc492dae7c1bc75343e164": {
      "model_module": "@jupyter-widgets/controls",
      "model_module_version": "1.5.0",
      "model_name": "IntSliderModel",
      "state": {
       "continuous_update": false,
       "layout": "IPY_MODEL_976e026536b24b198451ba70afce4602",
       "max": 10,
       "readout": false,
       "style": "IPY_MODEL_074b2e2d9b394ef992789b0ed2c63aff",
       "value": 5
      }
     },
     "04adeb01be574508b81e8a7593b5c2d8": {
      "model_module": "@jupyter-widgets/base",
      "model_module_version": "1.2.0",
      "model_name": "LayoutModel",
      "state": {}
     },
     "053f1e2ba671420eb898bccc463e1743": {
      "model_module": "@jupyter-widgets/base",
      "model_module_version": "1.2.0",
      "model_name": "LayoutModel",
      "state": {}
     },
     "057b9d8248044da18a523403f55b4734": {
      "model_module": "@jupyter-widgets/controls",
      "model_module_version": "1.5.0",
      "model_name": "SliderStyleModel",
      "state": {
       "description_width": ""
      }
     },
     "05c36e6fd21e486182b26a642d536193": {
      "model_module": "@jupyter-widgets/controls",
      "model_module_version": "1.5.0",
      "model_name": "IntSliderModel",
      "state": {
       "layout": "IPY_MODEL_ae2ad99532464c909c29adc9600d9a5b",
       "readout": false,
       "style": "IPY_MODEL_beebfb822f2b4512b1b40199d649ad05"
      }
     },
     "06799525caa54d11aa7be8b8f4b7e9ff": {
      "model_module": "@jupyter-widgets/base",
      "model_module_version": "1.2.0",
      "model_name": "LayoutModel",
      "state": {}
     },
     "06d801342c1143c0b0801657bf06e32f": {
      "model_module": "@jupyter-widgets/controls",
      "model_module_version": "1.5.0",
      "model_name": "SliderStyleModel",
      "state": {
       "description_width": ""
      }
     },
     "074b2e2d9b394ef992789b0ed2c63aff": {
      "model_module": "@jupyter-widgets/controls",
      "model_module_version": "1.5.0",
      "model_name": "SliderStyleModel",
      "state": {
       "description_width": ""
      }
     },
     "07cf4a021581493eb0dc9197b2969d69": {
      "model_module": "@jupyter-widgets/controls",
      "model_module_version": "1.5.0",
      "model_name": "IntSliderModel",
      "state": {
       "continuous_update": false,
       "layout": "IPY_MODEL_dc08a132010b47a5809435c91fb65bcb",
       "max": 10,
       "readout": false,
       "step": 0,
       "style": "IPY_MODEL_6dc91ec07b0a4928b37ad5f788f38d67"
      }
     },
     "085822979c3049fcbbd9e6c71548bc00": {
      "model_module": "@jupyter-widgets/controls",
      "model_module_version": "1.5.0",
      "model_name": "IntSliderModel",
      "state": {
       "continuous_update": false,
       "layout": "IPY_MODEL_a3d594f03cbb4fcea86a3e52e3e6a45a",
       "max": 10,
       "readout": false,
       "step": 0,
       "style": "IPY_MODEL_dcdcf63ff9034c32ade322993d09b8ee"
      }
     },
     "0932e56c4a1e480c9bff4eb52cdf7ef4": {
      "model_module": "@jupyter-widgets/base",
      "model_module_version": "1.2.0",
      "model_name": "LayoutModel",
      "state": {}
     },
     "09bed924c9634159a5be462752037c0a": {
      "model_module": "@jupyter-widgets/base",
      "model_module_version": "1.2.0",
      "model_name": "LayoutModel",
      "state": {}
     },
     "0a1517e890304a0c83deed64ccde09b2": {
      "model_module": "jupyter-matplotlib",
      "model_module_version": "^0.10.1",
      "model_name": "ToolbarModel",
      "state": {
       "layout": "IPY_MODEL_e1c24af2b11244238cefeadc484eb684",
       "toolitems": [
        [
         "Home",
         "Reset original view",
         "home",
         "home"
        ],
        [
         "Back",
         "Back to previous view",
         "arrow-left",
         "back"
        ],
        [
         "Forward",
         "Forward to next view",
         "arrow-right",
         "forward"
        ],
        [
         "Pan",
         "Left button pans, Right button zooms\nx/y fixes axis, CTRL fixes aspect",
         "arrows",
         "pan"
        ],
        [
         "Zoom",
         "Zoom to rectangle\nx/y fixes axis, CTRL fixes aspect",
         "square-o",
         "zoom"
        ],
        [
         "Download",
         "Download plot",
         "floppy-o",
         "save_figure"
        ]
       ]
      }
     },
     "0bbf6fe8f2eb4c00b737827a250714b5": {
      "model_module": "@jupyter-widgets/base",
      "model_module_version": "1.2.0",
      "model_name": "LayoutModel",
      "state": {}
     },
     "0bcdb4675cbc49acb40a4cc28509c7c9": {
      "model_module": "jupyter-matplotlib",
      "model_module_version": "^0.10.1",
      "model_name": "ToolbarModel",
      "state": {
       "layout": "IPY_MODEL_9d7aa336aa9241dd9ee4f599d6b22a4f",
       "toolitems": [
        [
         "Home",
         "Reset original view",
         "home",
         "home"
        ],
        [
         "Back",
         "Back to previous view",
         "arrow-left",
         "back"
        ],
        [
         "Forward",
         "Forward to next view",
         "arrow-right",
         "forward"
        ],
        [
         "Pan",
         "Left button pans, Right button zooms\nx/y fixes axis, CTRL fixes aspect",
         "arrows",
         "pan"
        ],
        [
         "Zoom",
         "Zoom to rectangle\nx/y fixes axis, CTRL fixes aspect",
         "square-o",
         "zoom"
        ],
        [
         "Download",
         "Download plot",
         "floppy-o",
         "save_figure"
        ]
       ]
      }
     },
     "0c651920313b41e6a4765566e1fce4ef": {
      "model_module": "@jupyter-widgets/base",
      "model_module_version": "1.2.0",
      "model_name": "LayoutModel",
      "state": {}
     },
     "0cec81cd00e0459ab00d4ef79a63ca01": {
      "model_module": "jupyter-matplotlib",
      "model_module_version": "^0.10.1",
      "model_name": "ToolbarModel",
      "state": {
       "layout": "IPY_MODEL_c330019455dd41429a789865a199a178",
       "toolitems": [
        [
         "Home",
         "Reset original view",
         "home",
         "home"
        ],
        [
         "Back",
         "Back to previous view",
         "arrow-left",
         "back"
        ],
        [
         "Forward",
         "Forward to next view",
         "arrow-right",
         "forward"
        ],
        [
         "Pan",
         "Left button pans, Right button zooms\nx/y fixes axis, CTRL fixes aspect",
         "arrows",
         "pan"
        ],
        [
         "Zoom",
         "Zoom to rectangle\nx/y fixes axis, CTRL fixes aspect",
         "square-o",
         "zoom"
        ],
        [
         "Download",
         "Download plot",
         "floppy-o",
         "save_figure"
        ]
       ]
      }
     },
     "0cfbbff78504467a99f6f05969b4616d": {
      "model_module": "@jupyter-widgets/controls",
      "model_module_version": "1.5.0",
      "model_name": "VBoxModel",
      "state": {
       "_dom_classes": [
        "widget-interact"
       ],
       "children": [
        "IPY_MODEL_686825753f2f4c5b88fd376839fc479e",
        "IPY_MODEL_411240aa98d84598a3813eb8bca1952e"
       ],
       "layout": "IPY_MODEL_1e889ea6611d46738b7fd3e6570e0b1f"
      }
     },
     "0cfd115a378341b193452ad3e19da86a": {
      "model_module": "@jupyter-widgets/base",
      "model_module_version": "1.2.0",
      "model_name": "LayoutModel",
      "state": {}
     },
     "0dc11b76bc6f4fdd8bae5217e9469ea7": {
      "model_module": "@jupyter-widgets/base",
      "model_module_version": "1.2.0",
      "model_name": "LayoutModel",
      "state": {}
     },
     "0dfbcefda12349ab995b95738719d7aa": {
      "model_module": "@jupyter-widgets/base",
      "model_module_version": "1.2.0",
      "model_name": "LayoutModel",
      "state": {}
     },
     "0f55693425704fd7a9c86b127892793c": {
      "model_module": "jupyter-matplotlib",
      "model_module_version": "^0.10.1",
      "model_name": "ToolbarModel",
      "state": {
       "layout": "IPY_MODEL_b836cbcc262348378d8a84faa1d8288a",
       "toolitems": [
        [
         "Home",
         "Reset original view",
         "home",
         "home"
        ],
        [
         "Back",
         "Back to previous view",
         "arrow-left",
         "back"
        ],
        [
         "Forward",
         "Forward to next view",
         "arrow-right",
         "forward"
        ],
        [
         "Pan",
         "Left button pans, Right button zooms\nx/y fixes axis, CTRL fixes aspect",
         "arrows",
         "pan"
        ],
        [
         "Zoom",
         "Zoom to rectangle\nx/y fixes axis, CTRL fixes aspect",
         "square-o",
         "zoom"
        ],
        [
         "Download",
         "Download plot",
         "floppy-o",
         "save_figure"
        ]
       ]
      }
     },
     "10a11c20bb824e5c9966192c03d858e6": {
      "model_module": "@jupyter-widgets/base",
      "model_module_version": "1.2.0",
      "model_name": "LayoutModel",
      "state": {}
     },
     "114b455fa638498aa784d14585c86580": {
      "model_module": "@jupyter-widgets/controls",
      "model_module_version": "1.5.0",
      "model_name": "SliderStyleModel",
      "state": {
       "description_width": ""
      }
     },
     "11de94351bc64dcbacc165e6632e682b": {
      "model_module": "@jupyter-widgets/controls",
      "model_module_version": "1.5.0",
      "model_name": "IntSliderModel",
      "state": {
       "layout": "IPY_MODEL_de5222a5a424493b970b40c458de02c4",
       "readout": false,
       "style": "IPY_MODEL_9af92c847d2d4fabab09f7e5dc65db37"
      }
     },
     "1205815854564d298d1d5c771c23e7e2": {
      "model_module": "@jupyter-widgets/base",
      "model_module_version": "1.2.0",
      "model_name": "LayoutModel",
      "state": {}
     },
     "1224adaff4d440adbcf0f364fd3f30e0": {
      "model_module": "@jupyter-widgets/base",
      "model_module_version": "1.2.0",
      "model_name": "LayoutModel",
      "state": {}
     },
     "124d0e57349c4fb1b684a31c6b5053ae": {
      "model_module": "@jupyter-widgets/controls",
      "model_module_version": "1.5.0",
      "model_name": "IntSliderModel",
      "state": {
       "description": "l",
       "layout": "IPY_MODEL_8a38ce38057c4bf5a94d223b23204442",
       "readout": false,
       "style": "IPY_MODEL_33e0a268855c46e2ab362783fe4a2637",
       "value": 78
      }
     },
     "12b4a106b1d64b239436587f3f045358": {
      "model_module": "@jupyter-widgets/controls",
      "model_module_version": "1.5.0",
      "model_name": "SliderStyleModel",
      "state": {
       "description_width": ""
      }
     },
     "12f2edcefd4742cea04b67e2bcd43dda": {
      "model_module": "@jupyter-widgets/controls",
      "model_module_version": "1.5.0",
      "model_name": "IntSliderModel",
      "state": {
       "continuous_update": false,
       "layout": "IPY_MODEL_994140b6aa194f859d404f593df0d413",
       "max": 10,
       "readout": false,
       "step": 0,
       "style": "IPY_MODEL_6c00dd764cc7493791ac501ac83bbdbf"
      }
     },
     "135efc5d2f8f4a52955d968264594873": {
      "model_module": "jupyter-matplotlib",
      "model_module_version": "^0.10.1",
      "model_name": "ToolbarModel",
      "state": {
       "layout": "IPY_MODEL_9b695e4fb9e543fc97928f6418abe68c",
       "toolitems": [
        [
         "Home",
         "Reset original view",
         "home",
         "home"
        ],
        [
         "Back",
         "Back to previous view",
         "arrow-left",
         "back"
        ],
        [
         "Forward",
         "Forward to next view",
         "arrow-right",
         "forward"
        ],
        [
         "Pan",
         "Left button pans, Right button zooms\nx/y fixes axis, CTRL fixes aspect",
         "arrows",
         "pan"
        ],
        [
         "Zoom",
         "Zoom to rectangle\nx/y fixes axis, CTRL fixes aspect",
         "square-o",
         "zoom"
        ],
        [
         "Download",
         "Download plot",
         "floppy-o",
         "save_figure"
        ]
       ]
      }
     },
     "13ba3709fabc488b982fc757fa2b5c6c": {
      "model_module": "jupyter-matplotlib",
      "model_module_version": "^0.10.1",
      "model_name": "ToolbarModel",
      "state": {
       "layout": "IPY_MODEL_986ec52d6abd4c57801b64f7c6947829",
       "toolitems": [
        [
         "Home",
         "Reset original view",
         "home",
         "home"
        ],
        [
         "Back",
         "Back to previous view",
         "arrow-left",
         "back"
        ],
        [
         "Forward",
         "Forward to next view",
         "arrow-right",
         "forward"
        ],
        [
         "Pan",
         "Left button pans, Right button zooms\nx/y fixes axis, CTRL fixes aspect",
         "arrows",
         "pan"
        ],
        [
         "Zoom",
         "Zoom to rectangle\nx/y fixes axis, CTRL fixes aspect",
         "square-o",
         "zoom"
        ],
        [
         "Download",
         "Download plot",
         "floppy-o",
         "save_figure"
        ]
       ]
      }
     },
     "14f762a053c84b988b0b990d75223ee6": {
      "model_module": "jupyter-matplotlib",
      "model_module_version": "^0.10.1",
      "model_name": "ToolbarModel",
      "state": {
       "layout": "IPY_MODEL_59b5896bf3574dc7ab8d1e0fb8d03d4b",
       "toolitems": [
        [
         "Home",
         "Reset original view",
         "home",
         "home"
        ],
        [
         "Back",
         "Back to previous view",
         "arrow-left",
         "back"
        ],
        [
         "Forward",
         "Forward to next view",
         "arrow-right",
         "forward"
        ],
        [
         "Pan",
         "Left button pans, Right button zooms\nx/y fixes axis, CTRL fixes aspect",
         "arrows",
         "pan"
        ],
        [
         "Zoom",
         "Zoom to rectangle\nx/y fixes axis, CTRL fixes aspect",
         "square-o",
         "zoom"
        ],
        [
         "Download",
         "Download plot",
         "floppy-o",
         "save_figure"
        ]
       ]
      }
     },
     "15063d897aa84d4790a5b02479af2511": {
      "model_module": "@jupyter-widgets/controls",
      "model_module_version": "1.5.0",
      "model_name": "SliderStyleModel",
      "state": {
       "description_width": ""
      }
     },
     "153a3446ac9243eba9d236fa6e4b7ddf": {
      "model_module": "@jupyter-widgets/controls",
      "model_module_version": "1.5.0",
      "model_name": "IntSliderModel",
      "state": {
       "layout": "IPY_MODEL_b7596eac5ac546f088c496cc42b76df2",
       "readout": false,
       "style": "IPY_MODEL_67e743cadb7049adb93553304a6329e2"
      }
     },
     "15aa213671f540b48193a27fd250c006": {
      "model_module": "@jupyter-widgets/base",
      "model_module_version": "1.2.0",
      "model_name": "LayoutModel",
      "state": {}
     },
     "16290c774f774117902688be705fafbc": {
      "model_module": "@jupyter-widgets/base",
      "model_module_version": "1.2.0",
      "model_name": "LayoutModel",
      "state": {}
     },
     "16a215a82cf746b380eb141761711691": {
      "model_module": "@jupyter-widgets/base",
      "model_module_version": "1.2.0",
      "model_name": "LayoutModel",
      "state": {}
     },
     "16d34f74dd734d2889d561cae50ce22a": {
      "model_module": "jupyter-matplotlib",
      "model_module_version": "^0.10.1",
      "model_name": "ToolbarModel",
      "state": {
       "layout": "IPY_MODEL_3ddb20655fa24d71877515ba8e927dfa",
       "toolitems": [
        [
         "Home",
         "Reset original view",
         "home",
         "home"
        ],
        [
         "Back",
         "Back to previous view",
         "arrow-left",
         "back"
        ],
        [
         "Forward",
         "Forward to next view",
         "arrow-right",
         "forward"
        ],
        [
         "Pan",
         "Left button pans, Right button zooms\nx/y fixes axis, CTRL fixes aspect",
         "arrows",
         "pan"
        ],
        [
         "Zoom",
         "Zoom to rectangle\nx/y fixes axis, CTRL fixes aspect",
         "square-o",
         "zoom"
        ],
        [
         "Download",
         "Download plot",
         "floppy-o",
         "save_figure"
        ]
       ]
      }
     },
     "17211db3eef547a183b28bedbc534aa8": {
      "model_module": "@jupyter-widgets/controls",
      "model_module_version": "1.5.0",
      "model_name": "SliderStyleModel",
      "state": {
       "description_width": ""
      }
     },
     "1800791e017c46be8f4d222a0156854b": {
      "model_module": "@jupyter-widgets/base",
      "model_module_version": "1.2.0",
      "model_name": "LayoutModel",
      "state": {}
     },
     "1970af05b4b441e0a96c04fda9d67a00": {
      "model_module": "@jupyter-widgets/controls",
      "model_module_version": "1.5.0",
      "model_name": "SliderStyleModel",
      "state": {
       "description_width": ""
      }
     },
     "19f03fb1804a477dac5c85fb78345d3c": {
      "model_module": "jupyter-matplotlib",
      "model_module_version": "^0.10.1",
      "model_name": "ToolbarModel",
      "state": {
       "layout": "IPY_MODEL_58031a171ce44d3c831446c4ffc8cd6c",
       "toolitems": [
        [
         "Home",
         "Reset original view",
         "home",
         "home"
        ],
        [
         "Back",
         "Back to previous view",
         "arrow-left",
         "back"
        ],
        [
         "Forward",
         "Forward to next view",
         "arrow-right",
         "forward"
        ],
        [
         "Pan",
         "Left button pans, Right button zooms\nx/y fixes axis, CTRL fixes aspect",
         "arrows",
         "pan"
        ],
        [
         "Zoom",
         "Zoom to rectangle\nx/y fixes axis, CTRL fixes aspect",
         "square-o",
         "zoom"
        ],
        [
         "Download",
         "Download plot",
         "floppy-o",
         "save_figure"
        ]
       ]
      }
     },
     "1a164caea1794b48855f319b512588f1": {
      "model_module": "@jupyter-widgets/controls",
      "model_module_version": "1.5.0",
      "model_name": "IntSliderModel",
      "state": {
       "description": "l",
       "layout": "IPY_MODEL_b364952a73cf4ae281ea36b0b5a8f737",
       "readout": false,
       "style": "IPY_MODEL_e56c35b1f5ea4d4ca93b9544a72981a4",
       "value": 55
      }
     },
     "1aa1bca7ca284887a7686e5cbdbc8fd6": {
      "model_module": "jupyter-matplotlib",
      "model_module_version": "^0.10.1",
      "model_name": "ToolbarModel",
      "state": {
       "layout": "IPY_MODEL_d1c46191137b4d35b56fc3e82343e8b1",
       "toolitems": [
        [
         "Home",
         "Reset original view",
         "home",
         "home"
        ],
        [
         "Back",
         "Back to previous view",
         "arrow-left",
         "back"
        ],
        [
         "Forward",
         "Forward to next view",
         "arrow-right",
         "forward"
        ],
        [
         "Pan",
         "Left button pans, Right button zooms\nx/y fixes axis, CTRL fixes aspect",
         "arrows",
         "pan"
        ],
        [
         "Zoom",
         "Zoom to rectangle\nx/y fixes axis, CTRL fixes aspect",
         "square-o",
         "zoom"
        ],
        [
         "Download",
         "Download plot",
         "floppy-o",
         "save_figure"
        ]
       ]
      }
     },
     "1ade6fb5ccd04d0eafe39334a4351583": {
      "model_module": "@jupyter-widgets/base",
      "model_module_version": "1.2.0",
      "model_name": "LayoutModel",
      "state": {}
     },
     "1b3a25263f614418b41ad9ec87917e62": {
      "model_module": "@jupyter-widgets/base",
      "model_module_version": "1.2.0",
      "model_name": "LayoutModel",
      "state": {}
     },
     "1c90b8c42f6b470eba4529421699ec75": {
      "model_module": "@jupyter-widgets/base",
      "model_module_version": "1.2.0",
      "model_name": "LayoutModel",
      "state": {}
     },
     "1cd32c7caf484daf8a102a97651d44b3": {
      "model_module": "@jupyter-widgets/controls",
      "model_module_version": "1.5.0",
      "model_name": "SliderStyleModel",
      "state": {
       "description_width": ""
      }
     },
     "1d828e436f1d4a5e944842ec1f7ab26b": {
      "model_module": "@jupyter-widgets/base",
      "model_module_version": "1.2.0",
      "model_name": "LayoutModel",
      "state": {}
     },
     "1e889ea6611d46738b7fd3e6570e0b1f": {
      "model_module": "@jupyter-widgets/base",
      "model_module_version": "1.2.0",
      "model_name": "LayoutModel",
      "state": {}
     },
     "1ec30a4163ef4c78a1da8625f3e30304": {
      "model_module": "@jupyter-widgets/base",
      "model_module_version": "1.2.0",
      "model_name": "LayoutModel",
      "state": {}
     },
     "1ee06bb1ad18483d944f175383e8ee25": {
      "model_module": "jupyter-matplotlib",
      "model_module_version": "^0.10.1",
      "model_name": "ToolbarModel",
      "state": {
       "layout": "IPY_MODEL_92f2245d3a284c49914cee81c89606ae",
       "toolitems": [
        [
         "Home",
         "Reset original view",
         "home",
         "home"
        ],
        [
         "Back",
         "Back to previous view",
         "arrow-left",
         "back"
        ],
        [
         "Forward",
         "Forward to next view",
         "arrow-right",
         "forward"
        ],
        [
         "Pan",
         "Left button pans, Right button zooms\nx/y fixes axis, CTRL fixes aspect",
         "arrows",
         "pan"
        ],
        [
         "Zoom",
         "Zoom to rectangle\nx/y fixes axis, CTRL fixes aspect",
         "square-o",
         "zoom"
        ],
        [
         "Download",
         "Download plot",
         "floppy-o",
         "save_figure"
        ]
       ]
      }
     },
     "1f70214075274f1980901e5d0d07b268": {
      "model_module": "@jupyter-widgets/base",
      "model_module_version": "1.2.0",
      "model_name": "LayoutModel",
      "state": {}
     },
     "20682ca8b0cf4b918fae8e37e9cb4cc3": {
      "model_module": "@jupyter-widgets/base",
      "model_module_version": "1.2.0",
      "model_name": "LayoutModel",
      "state": {}
     },
     "20896d4b272947c2a1ae88b23f9f2381": {
      "model_module": "@jupyter-widgets/base",
      "model_module_version": "1.2.0",
      "model_name": "LayoutModel",
      "state": {}
     },
     "20bb1fc3c52d4ea982867a05f9dfbf3a": {
      "model_module": "jupyter-matplotlib",
      "model_module_version": "^0.10.1",
      "model_name": "ToolbarModel",
      "state": {
       "layout": "IPY_MODEL_a761224d6d3848fdaee7b6f5e16dbbd2",
       "toolitems": [
        [
         "Home",
         "Reset original view",
         "home",
         "home"
        ],
        [
         "Back",
         "Back to previous view",
         "arrow-left",
         "back"
        ],
        [
         "Forward",
         "Forward to next view",
         "arrow-right",
         "forward"
        ],
        [
         "Pan",
         "Left button pans, Right button zooms\nx/y fixes axis, CTRL fixes aspect",
         "arrows",
         "pan"
        ],
        [
         "Zoom",
         "Zoom to rectangle\nx/y fixes axis, CTRL fixes aspect",
         "square-o",
         "zoom"
        ],
        [
         "Download",
         "Download plot",
         "floppy-o",
         "save_figure"
        ]
       ]
      }
     },
     "219b22292df64e9cb20cf2d99fbf6bf9": {
      "model_module": "@jupyter-widgets/controls",
      "model_module_version": "1.5.0",
      "model_name": "SliderStyleModel",
      "state": {
       "description_width": ""
      }
     },
     "2356a6c90a2e4f92839df30b15cda5e6": {
      "model_module": "@jupyter-widgets/controls",
      "model_module_version": "1.5.0",
      "model_name": "IntSliderModel",
      "state": {
       "layout": "IPY_MODEL_862e55757edf4a969112aca43dc4378a",
       "readout": false,
       "style": "IPY_MODEL_409d325b71af4d6888e97f8bf597d3e3"
      }
     },
     "23f6bcb3b09d4b258966b902df6864d2": {
      "model_module": "@jupyter-widgets/base",
      "model_module_version": "1.2.0",
      "model_name": "LayoutModel",
      "state": {}
     },
     "24433a8672ab486a895af5578adcdab9": {
      "model_module": "@jupyter-widgets/base",
      "model_module_version": "1.2.0",
      "model_name": "LayoutModel",
      "state": {}
     },
     "247f5b81cbfd4abfa93dc09da7c0bf96": {
      "model_module": "@jupyter-widgets/base",
      "model_module_version": "1.2.0",
      "model_name": "LayoutModel",
      "state": {}
     },
     "24a0afe0472e4cc5b7966e1d612a5921": {
      "model_module": "@jupyter-widgets/controls",
      "model_module_version": "1.5.0",
      "model_name": "IntSliderModel",
      "state": {
       "layout": "IPY_MODEL_c067d6049cba418b96672c3f9743d3e5",
       "readout": false,
       "style": "IPY_MODEL_52706e294d0a405e9b4567169142ad2d"
      }
     },
     "24b483f4183449ca80c9699ee6567929": {
      "model_module": "jupyter-matplotlib",
      "model_module_version": "^0.10.1",
      "model_name": "ToolbarModel",
      "state": {
       "layout": "IPY_MODEL_7244349ecc0d48bf99780048ae9194ba",
       "toolitems": [
        [
         "Home",
         "Reset original view",
         "home",
         "home"
        ],
        [
         "Back",
         "Back to previous view",
         "arrow-left",
         "back"
        ],
        [
         "Forward",
         "Forward to next view",
         "arrow-right",
         "forward"
        ],
        [
         "Pan",
         "Left button pans, Right button zooms\nx/y fixes axis, CTRL fixes aspect",
         "arrows",
         "pan"
        ],
        [
         "Zoom",
         "Zoom to rectangle\nx/y fixes axis, CTRL fixes aspect",
         "square-o",
         "zoom"
        ],
        [
         "Download",
         "Download plot",
         "floppy-o",
         "save_figure"
        ]
       ]
      }
     },
     "2540671d08064d4090406712477de071": {
      "model_module": "@jupyter-widgets/base",
      "model_module_version": "1.2.0",
      "model_name": "LayoutModel",
      "state": {}
     },
     "25b8100468fe421ab5150c99caf28bf8": {
      "model_module": "@jupyter-widgets/base",
      "model_module_version": "1.2.0",
      "model_name": "LayoutModel",
      "state": {}
     },
     "25ce5d02b92b4c15944527a58b215e02": {
      "model_module": "@jupyter-widgets/base",
      "model_module_version": "1.2.0",
      "model_name": "LayoutModel",
      "state": {}
     },
     "263cfd0e5fa04f76afcde68c6a15ed5f": {
      "model_module": "@jupyter-widgets/base",
      "model_module_version": "1.2.0",
      "model_name": "LayoutModel",
      "state": {}
     },
     "266ac97c8dc841fc965737b4ce9c0170": {
      "model_module": "@jupyter-widgets/base",
      "model_module_version": "1.2.0",
      "model_name": "LayoutModel",
      "state": {}
     },
     "26b9f51b4c78463d895893b87005136a": {
      "model_module": "@jupyter-widgets/controls",
      "model_module_version": "1.5.0",
      "model_name": "IntSliderModel",
      "state": {
       "layout": "IPY_MODEL_8e842574ee934fa2b4ea24a8224a0a08",
       "max": 10,
       "readout": false,
       "style": "IPY_MODEL_4c924884f3d74a35b634bef20b4f049e"
      }
     },
     "26e6c57bdcbb4ee88a2b76c2989d7922": {
      "model_module": "@jupyter-widgets/controls",
      "model_module_version": "1.5.0",
      "model_name": "IntSliderModel",
      "state": {
       "layout": "IPY_MODEL_c24785cea0f643259efdb5c62e785f64",
       "max": 10,
       "readout": false,
       "style": "IPY_MODEL_a1cf343316254ee0b360c493faff5f99",
       "value": 4
      }
     },
     "27267a4a07ad4723a19837ba85933b52": {
      "model_module": "@jupyter-widgets/controls",
      "model_module_version": "1.5.0",
      "model_name": "IntSliderModel",
      "state": {
       "layout": "IPY_MODEL_dcea1d1da5e04a3c8d4a541c3d086fad",
       "readout": false,
       "style": "IPY_MODEL_bc3ed520126f4804959adf566505ad93",
       "value": 82
      }
     },
     "27508928808842d7b46d62979d5f54a2": {
      "model_module": "@jupyter-widgets/controls",
      "model_module_version": "1.5.0",
      "model_name": "SliderStyleModel",
      "state": {
       "description_width": ""
      }
     },
     "27d9fc68d1b940cab09bd94904eafdbd": {
      "model_module": "@jupyter-widgets/controls",
      "model_module_version": "1.5.0",
      "model_name": "SliderStyleModel",
      "state": {
       "description_width": ""
      }
     },
     "281d389f969a4d4795b234ea1eda0ad6": {
      "model_module": "@jupyter-widgets/controls",
      "model_module_version": "1.5.0",
      "model_name": "SliderStyleModel",
      "state": {
       "description_width": ""
      }
     },
     "28ed57aa9c5b4f428a05d5d974d1c2c2": {
      "model_module": "@jupyter-widgets/base",
      "model_module_version": "1.2.0",
      "model_name": "LayoutModel",
      "state": {}
     },
     "29448b97cfdb44578fcaea9218e8289b": {
      "model_module": "jupyter-matplotlib",
      "model_module_version": "^0.10.1",
      "model_name": "ToolbarModel",
      "state": {
       "layout": "IPY_MODEL_02c0700c815543918f290e1b91df8a00",
       "toolitems": [
        [
         "Home",
         "Reset original view",
         "home",
         "home"
        ],
        [
         "Back",
         "Back to previous view",
         "arrow-left",
         "back"
        ],
        [
         "Forward",
         "Forward to next view",
         "arrow-right",
         "forward"
        ],
        [
         "Pan",
         "Left button pans, Right button zooms\nx/y fixes axis, CTRL fixes aspect",
         "arrows",
         "pan"
        ],
        [
         "Zoom",
         "Zoom to rectangle\nx/y fixes axis, CTRL fixes aspect",
         "square-o",
         "zoom"
        ],
        [
         "Download",
         "Download plot",
         "floppy-o",
         "save_figure"
        ]
       ]
      }
     },
     "296f49edffee4a958151c16abe943be1": {
      "model_module": "@jupyter-widgets/base",
      "model_module_version": "1.2.0",
      "model_name": "LayoutModel",
      "state": {}
     },
     "29ddfa0fbec5449cba693d5e61a30960": {
      "model_module": "@jupyter-widgets/base",
      "model_module_version": "1.2.0",
      "model_name": "LayoutModel",
      "state": {}
     },
     "2aa96b4ca55b49f6a2de20bd5193137c": {
      "model_module": "@jupyter-widgets/base",
      "model_module_version": "1.2.0",
      "model_name": "LayoutModel",
      "state": {}
     },
     "2aebc5fb2a7b4c7d940b2a7906162b03": {
      "model_module": "@jupyter-widgets/base",
      "model_module_version": "1.2.0",
      "model_name": "LayoutModel",
      "state": {}
     },
     "2b343815c0d546b7aab1d1737c1588ba": {
      "model_module": "@jupyter-widgets/controls",
      "model_module_version": "1.5.0",
      "model_name": "IntSliderModel",
      "state": {
       "layout": "IPY_MODEL_750daa1ed9c644d1b6f5ca0aa9ab19ff",
       "max": 10,
       "readout": false,
       "style": "IPY_MODEL_3500891491a44a4980bba991d3f378c8",
       "value": 5
      }
     },
     "2b6fc15486944a68a5c5d807165fb2f7": {
      "model_module": "@jupyter-widgets/base",
      "model_module_version": "1.2.0",
      "model_name": "LayoutModel",
      "state": {}
     },
     "2c411611af1b444ea67b12f0168ccef0": {
      "model_module": "@jupyter-widgets/base",
      "model_module_version": "1.2.0",
      "model_name": "LayoutModel",
      "state": {}
     },
     "2c416e37bd4547e685e3c61aa3c8444e": {
      "model_module": "@jupyter-widgets/controls",
      "model_module_version": "1.5.0",
      "model_name": "SliderStyleModel",
      "state": {
       "description_width": ""
      }
     },
     "2d02125070314a3f9460ecaa81817911": {
      "model_module": "jupyter-matplotlib",
      "model_module_version": "^0.10.1",
      "model_name": "ToolbarModel",
      "state": {
       "layout": "IPY_MODEL_d1888aa82d1e4032b56a4ebe9386cc3e",
       "toolitems": [
        [
         "Home",
         "Reset original view",
         "home",
         "home"
        ],
        [
         "Back",
         "Back to previous view",
         "arrow-left",
         "back"
        ],
        [
         "Forward",
         "Forward to next view",
         "arrow-right",
         "forward"
        ],
        [
         "Pan",
         "Left button pans, Right button zooms\nx/y fixes axis, CTRL fixes aspect",
         "arrows",
         "pan"
        ],
        [
         "Zoom",
         "Zoom to rectangle\nx/y fixes axis, CTRL fixes aspect",
         "square-o",
         "zoom"
        ],
        [
         "Download",
         "Download plot",
         "floppy-o",
         "save_figure"
        ]
       ]
      }
     },
     "2d0d985b714445e3b9adb58ae2994a92": {
      "model_module": "jupyter-matplotlib",
      "model_module_version": "^0.10.1",
      "model_name": "ToolbarModel",
      "state": {
       "layout": "IPY_MODEL_62f0bf5e7c6142f493c23bd0fee6060a",
       "toolitems": [
        [
         "Home",
         "Reset original view",
         "home",
         "home"
        ],
        [
         "Back",
         "Back to previous view",
         "arrow-left",
         "back"
        ],
        [
         "Forward",
         "Forward to next view",
         "arrow-right",
         "forward"
        ],
        [
         "Pan",
         "Left button pans, Right button zooms\nx/y fixes axis, CTRL fixes aspect",
         "arrows",
         "pan"
        ],
        [
         "Zoom",
         "Zoom to rectangle\nx/y fixes axis, CTRL fixes aspect",
         "square-o",
         "zoom"
        ],
        [
         "Download",
         "Download plot",
         "floppy-o",
         "save_figure"
        ]
       ]
      }
     },
     "2d0dea36868e46db9457ab2a8d199e04": {
      "model_module": "@jupyter-widgets/controls",
      "model_module_version": "1.5.0",
      "model_name": "SliderStyleModel",
      "state": {
       "description_width": ""
      }
     },
     "2d3d6fe03407491989a9e956a8695edc": {
      "model_module": "@jupyter-widgets/controls",
      "model_module_version": "1.5.0",
      "model_name": "IntSliderModel",
      "state": {
       "layout": "IPY_MODEL_d8a0709c66744ed181a9fb22ec73a7f0",
       "readout": false,
       "style": "IPY_MODEL_b646eaefbc784ae39dc753731d6d02bb"
      }
     },
     "2ddbfd604c1c433f8c9b2f76fb6d0a00": {
      "model_module": "@jupyter-widgets/base",
      "model_module_version": "1.2.0",
      "model_name": "LayoutModel",
      "state": {}
     },
     "2fb719313135441e9e785b46557e2058": {
      "model_module": "jupyter-matplotlib",
      "model_module_version": "^0.10.1",
      "model_name": "ToolbarModel",
      "state": {
       "layout": "IPY_MODEL_0287cb5272074eed8f6cd8991e60cb94",
       "toolitems": [
        [
         "Home",
         "Reset original view",
         "home",
         "home"
        ],
        [
         "Back",
         "Back to previous view",
         "arrow-left",
         "back"
        ],
        [
         "Forward",
         "Forward to next view",
         "arrow-right",
         "forward"
        ],
        [
         "Pan",
         "Left button pans, Right button zooms\nx/y fixes axis, CTRL fixes aspect",
         "arrows",
         "pan"
        ],
        [
         "Zoom",
         "Zoom to rectangle\nx/y fixes axis, CTRL fixes aspect",
         "square-o",
         "zoom"
        ],
        [
         "Download",
         "Download plot",
         "floppy-o",
         "save_figure"
        ]
       ]
      }
     },
     "2fe45f7ece2348fc966e42ce83d594c5": {
      "model_module": "@jupyter-widgets/controls",
      "model_module_version": "1.5.0",
      "model_name": "IntSliderModel",
      "state": {
       "layout": "IPY_MODEL_1c90b8c42f6b470eba4529421699ec75",
       "max": 10,
       "readout": false,
       "style": "IPY_MODEL_cc7efee10b434dc09dfe4d7553382e1a",
       "value": 3
      }
     },
     "304437dd9d8f4848a093aa3638a67ee2": {
      "model_module": "@jupyter-widgets/base",
      "model_module_version": "1.2.0",
      "model_name": "LayoutModel",
      "state": {}
     },
     "304ffd809ac844bf90c03f6de1baf5b6": {
      "model_module": "@jupyter-widgets/controls",
      "model_module_version": "1.5.0",
      "model_name": "SliderStyleModel",
      "state": {
       "description_width": ""
      }
     },
     "31bbfda9981a4ab7bd2255a7d5dafaa9": {
      "model_module": "@jupyter-widgets/base",
      "model_module_version": "1.2.0",
      "model_name": "LayoutModel",
      "state": {}
     },
     "32447af998374027b0cc8c53bcfb4807": {
      "model_module": "@jupyter-widgets/base",
      "model_module_version": "1.2.0",
      "model_name": "LayoutModel",
      "state": {}
     },
     "3319d48484504f25b6c34d74dc3084f1": {
      "model_module": "@jupyter-widgets/controls",
      "model_module_version": "1.5.0",
      "model_name": "IntSliderModel",
      "state": {
       "layout": "IPY_MODEL_5c696c4da55444ed9430423b0b9de4d8",
       "readout": false,
       "style": "IPY_MODEL_a5467d97af6f44949cdb0abc75e9d3af",
       "value": 43
      }
     },
     "335256f25dc443dba253827ee3fc6fa3": {
      "model_module": "@jupyter-widgets/base",
      "model_module_version": "1.2.0",
      "model_name": "LayoutModel",
      "state": {}
     },
     "33e0a268855c46e2ab362783fe4a2637": {
      "model_module": "@jupyter-widgets/controls",
      "model_module_version": "1.5.0",
      "model_name": "SliderStyleModel",
      "state": {
       "description_width": ""
      }
     },
     "33f3cd65d8424cc5a24fbac9a8b9d55f": {
      "model_module": "@jupyter-widgets/base",
      "model_module_version": "1.2.0",
      "model_name": "LayoutModel",
      "state": {}
     },
     "348b073db8c148beba945c13631b0dca": {
      "model_module": "@jupyter-widgets/controls",
      "model_module_version": "1.5.0",
      "model_name": "SliderStyleModel",
      "state": {
       "description_width": ""
      }
     },
     "3500891491a44a4980bba991d3f378c8": {
      "model_module": "@jupyter-widgets/controls",
      "model_module_version": "1.5.0",
      "model_name": "SliderStyleModel",
      "state": {
       "description_width": ""
      }
     },
     "3563f749e58743a7bf659177126e2097": {
      "model_module": "@jupyter-widgets/controls",
      "model_module_version": "1.5.0",
      "model_name": "IntSliderModel",
      "state": {
       "layout": "IPY_MODEL_8c364f25588b4bc6ba0d11b312b937c4",
       "readout": false,
       "style": "IPY_MODEL_5c7115b77e0b4319a41e0d8ef35ee789"
      }
     },
     "357173cfed9342848c696fcee5ec5a06": {
      "model_module": "@jupyter-widgets/controls",
      "model_module_version": "1.5.0",
      "model_name": "SliderStyleModel",
      "state": {
       "description_width": ""
      }
     },
     "3591bdad5aa44ef198b7e59f12ab0333": {
      "model_module": "@jupyter-widgets/base",
      "model_module_version": "1.2.0",
      "model_name": "LayoutModel",
      "state": {}
     },
     "35c62e14bbba42249c1f5087be6f0daa": {
      "model_module": "@jupyter-widgets/controls",
      "model_module_version": "1.5.0",
      "model_name": "VBoxModel",
      "state": {
       "_dom_classes": [
        "widget-interact"
       ],
       "children": [
        "IPY_MODEL_a053242d88d24ad480b08a9d2654ca6d",
        "IPY_MODEL_c50f233403674eaa9efa513db23308ee"
       ],
       "layout": "IPY_MODEL_a33d783c6a7e4fd283823eccf3034890"
      }
     },
     "36732655038f4a289a13d09e2add0fc3": {
      "model_module": "@jupyter-widgets/base",
      "model_module_version": "1.2.0",
      "model_name": "LayoutModel",
      "state": {}
     },
     "367ba2a403b84688b4447837f69bdad3": {
      "model_module": "@jupyter-widgets/base",
      "model_module_version": "1.2.0",
      "model_name": "LayoutModel",
      "state": {}
     },
     "374fc8647c0a4bddb1e2b84fb21fd2e3": {
      "model_module": "@jupyter-widgets/base",
      "model_module_version": "1.2.0",
      "model_name": "LayoutModel",
      "state": {}
     },
     "383d83b3a54f49da87003e2592a4fc34": {
      "model_module": "@jupyter-widgets/base",
      "model_module_version": "1.2.0",
      "model_name": "LayoutModel",
      "state": {}
     },
     "38aa5f589ff84decaf1bdd3f91ac9057": {
      "model_module": "jupyter-matplotlib",
      "model_module_version": "^0.10.1",
      "model_name": "ToolbarModel",
      "state": {
       "layout": "IPY_MODEL_9a2a024149b14c5dbbfae06544728523",
       "toolitems": [
        [
         "Home",
         "Reset original view",
         "home",
         "home"
        ],
        [
         "Back",
         "Back to previous view",
         "arrow-left",
         "back"
        ],
        [
         "Forward",
         "Forward to next view",
         "arrow-right",
         "forward"
        ],
        [
         "Pan",
         "Left button pans, Right button zooms\nx/y fixes axis, CTRL fixes aspect",
         "arrows",
         "pan"
        ],
        [
         "Zoom",
         "Zoom to rectangle\nx/y fixes axis, CTRL fixes aspect",
         "square-o",
         "zoom"
        ],
        [
         "Download",
         "Download plot",
         "floppy-o",
         "save_figure"
        ]
       ]
      }
     },
     "391080c04a4643e38f7e961084dd4fad": {
      "model_module": "@jupyter-widgets/base",
      "model_module_version": "1.2.0",
      "model_name": "LayoutModel",
      "state": {}
     },
     "3abfd433ddfd4ff9a9258adc1000559d": {
      "model_module": "@jupyter-widgets/controls",
      "model_module_version": "1.5.0",
      "model_name": "VBoxModel",
      "state": {
       "_dom_classes": [
        "widget-interact"
       ],
       "children": [
        "IPY_MODEL_7bbd78448edd4857974e755f9e0ac273",
        "IPY_MODEL_cc82d3bc404d40ac929a182f729cf2f6"
       ],
       "layout": "IPY_MODEL_0364018cb64f4f73b0c9c6b49a040fc0"
      }
     },
     "3bb5d396f4ef4618b8ef941ac2ea4781": {
      "model_module": "@jupyter-widgets/controls",
      "model_module_version": "1.5.0",
      "model_name": "VBoxModel",
      "state": {
       "_dom_classes": [
        "widget-interact"
       ],
       "children": [
        "IPY_MODEL_1a164caea1794b48855f319b512588f1",
        "IPY_MODEL_d6856336880b40749b96ed39338fe623"
       ],
       "layout": "IPY_MODEL_caa87547671245ab8d8d8b408811a6dc"
      }
     },
     "3c20e5e3f6db46338978f2671e99f915": {
      "model_module": "@jupyter-widgets/controls",
      "model_module_version": "1.5.0",
      "model_name": "IntSliderModel",
      "state": {
       "layout": "IPY_MODEL_689e4e8b9eb04726b0fafe20a82fec92",
       "max": 10,
       "readout": false,
       "style": "IPY_MODEL_51c7a528033f41e48a254e9b58b49dbe"
      }
     },
     "3d6e8fadc3714bcf9cd32d1d379ff3c2": {
      "model_module": "@jupyter-widgets/controls",
      "model_module_version": "1.5.0",
      "model_name": "IntSliderModel",
      "state": {
       "continuous_update": false,
       "layout": "IPY_MODEL_2b6fc15486944a68a5c5d807165fb2f7",
       "readout": false,
       "style": "IPY_MODEL_88a8a7dfd922443e81a5bc2af5a70e57",
       "value": 15
      }
     },
     "3db04fd8053d4c6ebaa9e0b2ae78cd17": {
      "model_module": "@jupyter-widgets/base",
      "model_module_version": "1.2.0",
      "model_name": "LayoutModel",
      "state": {}
     },
     "3ddb20655fa24d71877515ba8e927dfa": {
      "model_module": "@jupyter-widgets/base",
      "model_module_version": "1.2.0",
      "model_name": "LayoutModel",
      "state": {}
     },
     "3ddec6f1ebde4cfab92c696733df8c10": {
      "model_module": "@jupyter-widgets/base",
      "model_module_version": "1.2.0",
      "model_name": "LayoutModel",
      "state": {}
     },
     "3dff9e0bba5e42b2a57f01577890029a": {
      "model_module": "@jupyter-widgets/controls",
      "model_module_version": "1.5.0",
      "model_name": "IntSliderModel",
      "state": {
       "continuous_update": false,
       "layout": "IPY_MODEL_bd8c7714684a4b3781ff518a3186de5f",
       "max": 10,
       "readout": false,
       "style": "IPY_MODEL_8b82c88ce407409c8c4406c2dd50f4bc"
      }
     },
     "3e0fc5e9aa534ba1be1620e929d63c3e": {
      "model_module": "jupyter-matplotlib",
      "model_module_version": "^0.10.1",
      "model_name": "ToolbarModel",
      "state": {
       "layout": "IPY_MODEL_e4a2e763d2334d629dfaa0e18aad281b",
       "toolitems": [
        [
         "Home",
         "Reset original view",
         "home",
         "home"
        ],
        [
         "Back",
         "Back to previous view",
         "arrow-left",
         "back"
        ],
        [
         "Forward",
         "Forward to next view",
         "arrow-right",
         "forward"
        ],
        [
         "Pan",
         "Left button pans, Right button zooms\nx/y fixes axis, CTRL fixes aspect",
         "arrows",
         "pan"
        ],
        [
         "Zoom",
         "Zoom to rectangle\nx/y fixes axis, CTRL fixes aspect",
         "square-o",
         "zoom"
        ],
        [
         "Download",
         "Download plot",
         "floppy-o",
         "save_figure"
        ]
       ]
      }
     },
     "3e33f9e826324a92a38bbc704ed03a32": {
      "model_module": "jupyter-matplotlib",
      "model_module_version": "^0.10.1",
      "model_name": "ToolbarModel",
      "state": {
       "layout": "IPY_MODEL_042f83f1971741a38e385cc72e3285aa",
       "toolitems": [
        [
         "Home",
         "Reset original view",
         "home",
         "home"
        ],
        [
         "Back",
         "Back to previous view",
         "arrow-left",
         "back"
        ],
        [
         "Forward",
         "Forward to next view",
         "arrow-right",
         "forward"
        ],
        [
         "Pan",
         "Left button pans, Right button zooms\nx/y fixes axis, CTRL fixes aspect",
         "arrows",
         "pan"
        ],
        [
         "Zoom",
         "Zoom to rectangle\nx/y fixes axis, CTRL fixes aspect",
         "square-o",
         "zoom"
        ],
        [
         "Download",
         "Download plot",
         "floppy-o",
         "save_figure"
        ]
       ]
      }
     },
     "3ebc008f5f6c420ca7d8e7053560ce5e": {
      "model_module": "jupyter-matplotlib",
      "model_module_version": "^0.10.1",
      "model_name": "ToolbarModel",
      "state": {
       "layout": "IPY_MODEL_ade13c86041547d7a9c6a450c8da473c",
       "toolitems": [
        [
         "Home",
         "Reset original view",
         "home",
         "home"
        ],
        [
         "Back",
         "Back to previous view",
         "arrow-left",
         "back"
        ],
        [
         "Forward",
         "Forward to next view",
         "arrow-right",
         "forward"
        ],
        [
         "Pan",
         "Left button pans, Right button zooms\nx/y fixes axis, CTRL fixes aspect",
         "arrows",
         "pan"
        ],
        [
         "Zoom",
         "Zoom to rectangle\nx/y fixes axis, CTRL fixes aspect",
         "square-o",
         "zoom"
        ],
        [
         "Download",
         "Download plot",
         "floppy-o",
         "save_figure"
        ]
       ]
      }
     },
     "3ee35e87aa7d4eb09e18b3aa25d9fc58": {
      "model_module": "@jupyter-widgets/base",
      "model_module_version": "1.2.0",
      "model_name": "LayoutModel",
      "state": {}
     },
     "3f25e98d8a194741b72b5bdd8a655653": {
      "model_module": "@jupyter-widgets/controls",
      "model_module_version": "1.5.0",
      "model_name": "IntSliderModel",
      "state": {
       "layout": "IPY_MODEL_6149f3bc47c640d99ff4e697282aadd2",
       "readout": false,
       "style": "IPY_MODEL_977123a0f0bb45c6b15ecccd5a23f5cb"
      }
     },
     "3f3ac649afac4f83b162cc6362b49b5b": {
      "model_module": "@jupyter-widgets/controls",
      "model_module_version": "1.5.0",
      "model_name": "VBoxModel",
      "state": {
       "_dom_classes": [
        "widget-interact"
       ],
       "children": [
        "IPY_MODEL_bb9bb19715a6475db7f3ee0712b37db9",
        "IPY_MODEL_a957d51b6a00401eadf3b5375a3832d6"
       ],
       "layout": "IPY_MODEL_0bbf6fe8f2eb4c00b737827a250714b5"
      }
     },
     "3ffeade508fe4905b374d499d932cb32": {
      "model_module": "@jupyter-widgets/base",
      "model_module_version": "1.2.0",
      "model_name": "LayoutModel",
      "state": {}
     },
     "407e571ea5904fd895938a511280c2b7": {
      "model_module": "@jupyter-widgets/controls",
      "model_module_version": "1.5.0",
      "model_name": "IntSliderModel",
      "state": {
       "layout": "IPY_MODEL_4449dffe3eb6433f8d62a4401909a8c8",
       "readout": false,
       "style": "IPY_MODEL_7d25ec86bbe14073b2d74d9d4844c48e",
       "value": 63
      }
     },
     "409d325b71af4d6888e97f8bf597d3e3": {
      "model_module": "@jupyter-widgets/controls",
      "model_module_version": "1.5.0",
      "model_name": "SliderStyleModel",
      "state": {
       "description_width": ""
      }
     },
     "40ab76a8eff54b53a51a1b077fa60ffa": {
      "model_module": "@jupyter-widgets/controls",
      "model_module_version": "1.5.0",
      "model_name": "IntSliderModel",
      "state": {
       "layout": "IPY_MODEL_ec133b540fe341eab0de76c6422b74b5",
       "readout": false,
       "style": "IPY_MODEL_90de4986e2424f1aa10296153a90691b",
       "value": 43
      }
     },
     "40c52ea0f0e443d08205ff4e541e3f0f": {
      "model_module": "jupyter-matplotlib",
      "model_module_version": "^0.10.1",
      "model_name": "ToolbarModel",
      "state": {
       "layout": "IPY_MODEL_2aebc5fb2a7b4c7d940b2a7906162b03",
       "toolitems": [
        [
         "Home",
         "Reset original view",
         "home",
         "home"
        ],
        [
         "Back",
         "Back to previous view",
         "arrow-left",
         "back"
        ],
        [
         "Forward",
         "Forward to next view",
         "arrow-right",
         "forward"
        ],
        [
         "Pan",
         "Left button pans, Right button zooms\nx/y fixes axis, CTRL fixes aspect",
         "arrows",
         "pan"
        ],
        [
         "Zoom",
         "Zoom to rectangle\nx/y fixes axis, CTRL fixes aspect",
         "square-o",
         "zoom"
        ],
        [
         "Download",
         "Download plot",
         "floppy-o",
         "save_figure"
        ]
       ]
      }
     },
     "411085630966463881df581f479c2a33": {
      "model_module": "@jupyter-widgets/controls",
      "model_module_version": "1.5.0",
      "model_name": "SliderStyleModel",
      "state": {
       "description_width": ""
      }
     },
     "411240aa98d84598a3813eb8bca1952e": {
      "model_module": "@jupyter-widgets/output",
      "model_module_version": "1.0.0",
      "model_name": "OutputModel",
      "state": {
       "layout": "IPY_MODEL_e8c821713b384b10b9d112c7e3a760f6"
      }
     },
     "41629bbe112f44d1a8429639538f6b43": {
      "model_module": "@jupyter-widgets/base",
      "model_module_version": "1.2.0",
      "model_name": "LayoutModel",
      "state": {}
     },
     "4164011955c94245af9e343f486f4a56": {
      "model_module": "@jupyter-widgets/controls",
      "model_module_version": "1.5.0",
      "model_name": "IntSliderModel",
      "state": {
       "layout": "IPY_MODEL_d0b2c96fec564fca9c96245c2d7da241",
       "max": 10,
       "readout": false,
       "style": "IPY_MODEL_1970af05b4b441e0a96c04fda9d67a00"
      }
     },
     "41e7df9035c54848a4bc9136e274717b": {
      "model_module": "@jupyter-widgets/controls",
      "model_module_version": "1.5.0",
      "model_name": "IntSliderModel",
      "state": {
       "layout": "IPY_MODEL_67e8b584e0c34bf28715931925fd04db",
       "readout": false,
       "style": "IPY_MODEL_88c57bf6f4d3492cbb07baf70f82f6d8"
      }
     },
     "424da91c2a204bb48b8ff7a774c705aa": {
      "model_module": "jupyter-matplotlib",
      "model_module_version": "^0.10.1",
      "model_name": "MPLCanvasModel",
      "state": {
       "_cursor": "default",
       "_data_url": "data:image/png;base64,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",
       "_figure_label": "P",
       "_height": 480,
       "_image_mode": "diff",
       "_message": "x=5.41 y=7.94",
       "_width": 640,
       "layout": "IPY_MODEL_0cfd115a378341b193452ad3e19da86a",
       "toolbar": "IPY_MODEL_b9a69ea490cd42de8ffb258af2986556",
       "toolbar_position": "left"
      }
     },
     "42dc7147e0674ff3b8419c0d0dd43762": {
      "model_module": "@jupyter-widgets/base",
      "model_module_version": "1.2.0",
      "model_name": "LayoutModel",
      "state": {}
     },
     "4371958874934060a77977d073b4f60e": {
      "model_module": "@jupyter-widgets/controls",
      "model_module_version": "1.5.0",
      "model_name": "SliderStyleModel",
      "state": {
       "description_width": ""
      }
     },
     "439e144fcd384d70b251fa31ab84d6c1": {
      "model_module": "@jupyter-widgets/base",
      "model_module_version": "1.2.0",
      "model_name": "LayoutModel",
      "state": {}
     },
     "43b37ce171da45bcb714e3c1eb146f8b": {
      "model_module": "jupyter-matplotlib",
      "model_module_version": "^0.10.1",
      "model_name": "ToolbarModel",
      "state": {
       "layout": "IPY_MODEL_64601625bf2a4da3b18ac2b5ca7dc9e7",
       "toolitems": [
        [
         "Home",
         "Reset original view",
         "home",
         "home"
        ],
        [
         "Back",
         "Back to previous view",
         "arrow-left",
         "back"
        ],
        [
         "Forward",
         "Forward to next view",
         "arrow-right",
         "forward"
        ],
        [
         "Pan",
         "Left button pans, Right button zooms\nx/y fixes axis, CTRL fixes aspect",
         "arrows",
         "pan"
        ],
        [
         "Zoom",
         "Zoom to rectangle\nx/y fixes axis, CTRL fixes aspect",
         "square-o",
         "zoom"
        ],
        [
         "Download",
         "Download plot",
         "floppy-o",
         "save_figure"
        ]
       ]
      }
     },
     "43cd6f36b1b94f739c5397a3fe4a1900": {
      "model_module": "@jupyter-widgets/base",
      "model_module_version": "1.2.0",
      "model_name": "LayoutModel",
      "state": {}
     },
     "43f387500a6c43e192f33c80985143f6": {
      "model_module": "@jupyter-widgets/base",
      "model_module_version": "1.2.0",
      "model_name": "LayoutModel",
      "state": {}
     },
     "4449dffe3eb6433f8d62a4401909a8c8": {
      "model_module": "@jupyter-widgets/base",
      "model_module_version": "1.2.0",
      "model_name": "LayoutModel",
      "state": {}
     },
     "45249dcd9ddc45a0ba1883dc731c6b96": {
      "model_module": "@jupyter-widgets/base",
      "model_module_version": "1.2.0",
      "model_name": "LayoutModel",
      "state": {}
     },
     "459b8b0e40e6480782c0e1c99ddec413": {
      "model_module": "jupyter-matplotlib",
      "model_module_version": "^0.10.1",
      "model_name": "ToolbarModel",
      "state": {
       "layout": "IPY_MODEL_e331fdb8eeb24f5d82e29f2a59978036",
       "toolitems": [
        [
         "Home",
         "Reset original view",
         "home",
         "home"
        ],
        [
         "Back",
         "Back to previous view",
         "arrow-left",
         "back"
        ],
        [
         "Forward",
         "Forward to next view",
         "arrow-right",
         "forward"
        ],
        [
         "Pan",
         "Left button pans, Right button zooms\nx/y fixes axis, CTRL fixes aspect",
         "arrows",
         "pan"
        ],
        [
         "Zoom",
         "Zoom to rectangle\nx/y fixes axis, CTRL fixes aspect",
         "square-o",
         "zoom"
        ],
        [
         "Download",
         "Download plot",
         "floppy-o",
         "save_figure"
        ]
       ]
      }
     },
     "4611c362a5ca456783e882400800334f": {
      "model_module": "@jupyter-widgets/controls",
      "model_module_version": "1.5.0",
      "model_name": "SliderStyleModel",
      "state": {
       "description_width": ""
      }
     },
     "4613071a5ea0439890a72b7f9131401b": {
      "model_module": "@jupyter-widgets/base",
      "model_module_version": "1.2.0",
      "model_name": "LayoutModel",
      "state": {}
     },
     "46a239e9590b46aba9e927b924efaf91": {
      "model_module": "@jupyter-widgets/controls",
      "model_module_version": "1.5.0",
      "model_name": "IntSliderModel",
      "state": {
       "layout": "IPY_MODEL_fed7327f2290419f90cba366e85a9765",
       "readout": false,
       "style": "IPY_MODEL_2d0dea36868e46db9457ab2a8d199e04"
      }
     },
     "471026a725e6455182966377875b94a4": {
      "model_module": "@jupyter-widgets/base",
      "model_module_version": "1.2.0",
      "model_name": "LayoutModel",
      "state": {}
     },
     "47838e2bf53b43258c7c8a2855615332": {
      "model_module": "@jupyter-widgets/controls",
      "model_module_version": "1.5.0",
      "model_name": "SliderStyleModel",
      "state": {
       "description_width": ""
      }
     },
     "48af142fff7245b28d90a7858d3c509f": {
      "model_module": "@jupyter-widgets/base",
      "model_module_version": "1.2.0",
      "model_name": "LayoutModel",
      "state": {}
     },
     "4932338a8eb24ba89ee507da61464f8c": {
      "model_module": "@jupyter-widgets/controls",
      "model_module_version": "1.5.0",
      "model_name": "SliderStyleModel",
      "state": {
       "description_width": ""
      }
     },
     "499de4db79f34256908d068f112d5223": {
      "model_module": "@jupyter-widgets/base",
      "model_module_version": "1.2.0",
      "model_name": "LayoutModel",
      "state": {}
     },
     "49c51c432bf44d458ae5fa1b1d96c680": {
      "model_module": "@jupyter-widgets/base",
      "model_module_version": "1.2.0",
      "model_name": "LayoutModel",
      "state": {}
     },
     "4a0836d4e55d494f99ed91db2a53d62d": {
      "model_module": "@jupyter-widgets/controls",
      "model_module_version": "1.5.0",
      "model_name": "IntSliderModel",
      "state": {
       "continuous_update": false,
       "layout": "IPY_MODEL_4c00ddade38b4e6fa7efca8b4c840ab5",
       "max": 10,
       "readout": false,
       "style": "IPY_MODEL_c18bac0d7c3645039c1f6bce41c482ff",
       "value": 5
      }
     },
     "4a2e61d4e10a4b27972ef39a12625f84": {
      "model_module": "@jupyter-widgets/base",
      "model_module_version": "1.2.0",
      "model_name": "LayoutModel",
      "state": {}
     },
     "4b220f28de104e0bac9aaf7fb4ad76e7": {
      "model_module": "@jupyter-widgets/base",
      "model_module_version": "1.2.0",
      "model_name": "LayoutModel",
      "state": {}
     },
     "4b82c8af25ce4cef874dd6193b36577f": {
      "model_module": "@jupyter-widgets/output",
      "model_module_version": "1.0.0",
      "model_name": "OutputModel",
      "state": {
       "layout": "IPY_MODEL_0932e56c4a1e480c9bff4eb52cdf7ef4"
      }
     },
     "4bb6f3d4cc9943b69e1cda6274d1c4ab": {
      "model_module": "@jupyter-widgets/controls",
      "model_module_version": "1.5.0",
      "model_name": "IntSliderModel",
      "state": {
       "continuous_update": false,
       "layout": "IPY_MODEL_f42f003e113b4e76a601ad8a7d5739db",
       "max": 10,
       "readout": false,
       "style": "IPY_MODEL_348b073db8c148beba945c13631b0dca",
       "value": 3
      }
     },
     "4c00ddade38b4e6fa7efca8b4c840ab5": {
      "model_module": "@jupyter-widgets/base",
      "model_module_version": "1.2.0",
      "model_name": "LayoutModel",
      "state": {}
     },
     "4c18c361c79f4f06b49e01081a2d885e": {
      "model_module": "@jupyter-widgets/controls",
      "model_module_version": "1.5.0",
      "model_name": "IntSliderModel",
      "state": {
       "layout": "IPY_MODEL_a875489ca79e45af904c10c859e58bbc",
       "max": 10,
       "readout": false,
       "style": "IPY_MODEL_f7005b4a3ebb4b52984b767fd898446b",
       "value": 6
      }
     },
     "4c1c885a773545d998121af0df64c49e": {
      "model_module": "@jupyter-widgets/base",
      "model_module_version": "1.2.0",
      "model_name": "LayoutModel",
      "state": {}
     },
     "4c924884f3d74a35b634bef20b4f049e": {
      "model_module": "@jupyter-widgets/controls",
      "model_module_version": "1.5.0",
      "model_name": "SliderStyleModel",
      "state": {
       "description_width": ""
      }
     },
     "4db1ddb07fcf47dc930bfd6eb3577ce9": {
      "model_module": "@jupyter-widgets/controls",
      "model_module_version": "1.5.0",
      "model_name": "IntSliderModel",
      "state": {
       "continuous_update": false,
       "layout": "IPY_MODEL_1d828e436f1d4a5e944842ec1f7ab26b",
       "max": 10,
       "readout": false,
       "style": "IPY_MODEL_fffcc20e07f24bf89d0f77a394352608",
       "value": 3
      }
     },
     "4e04caaaf3544d53aefdc9bf14cde35b": {
      "model_module": "@jupyter-widgets/base",
      "model_module_version": "1.2.0",
      "model_name": "LayoutModel",
      "state": {}
     },
     "4e2ce255169041d69fb84bf4bf7e2b4f": {
      "model_module": "@jupyter-widgets/base",
      "model_module_version": "1.2.0",
      "model_name": "LayoutModel",
      "state": {}
     },
     "4e6dfc67efb14eea932216528d630459": {
      "model_module": "@jupyter-widgets/base",
      "model_module_version": "1.2.0",
      "model_name": "LayoutModel",
      "state": {}
     },
     "4ec20d0a414e43d5a5a24a486ee8ee95": {
      "model_module": "@jupyter-widgets/base",
      "model_module_version": "1.2.0",
      "model_name": "LayoutModel",
      "state": {}
     },
     "4fbc3d7eec5c48dc9a3673439a485de5": {
      "model_module": "@jupyter-widgets/controls",
      "model_module_version": "1.5.0",
      "model_name": "SliderStyleModel",
      "state": {
       "description_width": ""
      }
     },
     "5090ebbba2a9425fb2fe760610d42b02": {
      "model_module": "@jupyter-widgets/controls",
      "model_module_version": "1.5.0",
      "model_name": "IntSliderModel",
      "state": {
       "layout": "IPY_MODEL_be09a6fd57bd4ec884d821ce60fd793c",
       "readout": false,
       "style": "IPY_MODEL_5c20c26183a447be903d4cb07352dedb"
      }
     },
     "50c22a49aad9425abaa42efb46fdac01": {
      "model_module": "@jupyter-widgets/base",
      "model_module_version": "1.2.0",
      "model_name": "LayoutModel",
      "state": {}
     },
     "50c9db58c11a4bf0b0ae258ebfce5cad": {
      "model_module": "@jupyter-widgets/controls",
      "model_module_version": "1.5.0",
      "model_name": "IntSliderModel",
      "state": {
       "layout": "IPY_MODEL_5ddd3839ffec4d318b4d537c0ce9b8a2",
       "readout": false,
       "style": "IPY_MODEL_757e00a8a42947cf98442caee1597e9b"
      }
     },
     "51c7a528033f41e48a254e9b58b49dbe": {
      "model_module": "@jupyter-widgets/controls",
      "model_module_version": "1.5.0",
      "model_name": "SliderStyleModel",
      "state": {
       "description_width": ""
      }
     },
     "525312054ec24ffbabd2fc9e20e9f02d": {
      "model_module": "@jupyter-widgets/controls",
      "model_module_version": "1.5.0",
      "model_name": "SliderStyleModel",
      "state": {
       "description_width": ""
      }
     },
     "52706e294d0a405e9b4567169142ad2d": {
      "model_module": "@jupyter-widgets/controls",
      "model_module_version": "1.5.0",
      "model_name": "SliderStyleModel",
      "state": {
       "description_width": ""
      }
     },
     "52d32dec98964510a571b51d4e8cfc6b": {
      "model_module": "jupyter-matplotlib",
      "model_module_version": "^0.10.1",
      "model_name": "ToolbarModel",
      "state": {
       "layout": "IPY_MODEL_598f57795f244872aa3c020b845cb181",
       "toolitems": [
        [
         "Home",
         "Reset original view",
         "home",
         "home"
        ],
        [
         "Back",
         "Back to previous view",
         "arrow-left",
         "back"
        ],
        [
         "Forward",
         "Forward to next view",
         "arrow-right",
         "forward"
        ],
        [
         "Pan",
         "Left button pans, Right button zooms\nx/y fixes axis, CTRL fixes aspect",
         "arrows",
         "pan"
        ],
        [
         "Zoom",
         "Zoom to rectangle\nx/y fixes axis, CTRL fixes aspect",
         "square-o",
         "zoom"
        ],
        [
         "Download",
         "Download plot",
         "floppy-o",
         "save_figure"
        ]
       ]
      }
     },
     "53828f2f4c344adb9666d76d4b4e59b5": {
      "model_module": "@jupyter-widgets/controls",
      "model_module_version": "1.5.0",
      "model_name": "IntSliderModel",
      "state": {
       "layout": "IPY_MODEL_7f0305c836064c989a4cbd61ab8e8181",
       "readout": false,
       "style": "IPY_MODEL_b0b68ea8c7f94004be624db8b9bb9d7d",
       "value": 23
      }
     },
     "53f71930f942485eb1902c12623a917b": {
      "model_module": "@jupyter-widgets/base",
      "model_module_version": "1.2.0",
      "model_name": "LayoutModel",
      "state": {}
     },
     "541959766bb34d91aa27610e454ab6aa": {
      "model_module": "jupyter-matplotlib",
      "model_module_version": "^0.10.1",
      "model_name": "ToolbarModel",
      "state": {
       "layout": "IPY_MODEL_c4a9c6a35ee548908ed2f14f32d0479b",
       "toolitems": [
        [
         "Home",
         "Reset original view",
         "home",
         "home"
        ],
        [
         "Back",
         "Back to previous view",
         "arrow-left",
         "back"
        ],
        [
         "Forward",
         "Forward to next view",
         "arrow-right",
         "forward"
        ],
        [
         "Pan",
         "Left button pans, Right button zooms\nx/y fixes axis, CTRL fixes aspect",
         "arrows",
         "pan"
        ],
        [
         "Zoom",
         "Zoom to rectangle\nx/y fixes axis, CTRL fixes aspect",
         "square-o",
         "zoom"
        ],
        [
         "Download",
         "Download plot",
         "floppy-o",
         "save_figure"
        ]
       ]
      }
     },
     "549939fb21af4f4ab8e06708fc420092": {
      "model_module": "@jupyter-widgets/base",
      "model_module_version": "1.2.0",
      "model_name": "LayoutModel",
      "state": {}
     },
     "55024d2d2b634ced8e6cd85545bb7755": {
      "model_module": "@jupyter-widgets/controls",
      "model_module_version": "1.5.0",
      "model_name": "IntSliderModel",
      "state": {
       "layout": "IPY_MODEL_66a1ffb2e16f4c9883fb02567b7132dd",
       "max": 10,
       "readout": false,
       "style": "IPY_MODEL_27508928808842d7b46d62979d5f54a2",
       "value": 6
      }
     },
     "55ae11b6ba614c45a560e8f7de1090a9": {
      "model_module": "@jupyter-widgets/base",
      "model_module_version": "1.2.0",
      "model_name": "LayoutModel",
      "state": {}
     },
     "55be81a54a184b94ae4a91e5e93dc606": {
      "model_module": "@jupyter-widgets/controls",
      "model_module_version": "1.5.0",
      "model_name": "SliderStyleModel",
      "state": {
       "description_width": ""
      }
     },
     "55cce7c0a48c4c8cafa3265ad57843cc": {
      "model_module": "@jupyter-widgets/base",
      "model_module_version": "1.2.0",
      "model_name": "LayoutModel",
      "state": {}
     },
     "55f7906faf43428b9c5933e853fce225": {
      "model_module": "@jupyter-widgets/controls",
      "model_module_version": "1.5.0",
      "model_name": "IntSliderModel",
      "state": {
       "continuous_update": false,
       "layout": "IPY_MODEL_0dc11b76bc6f4fdd8bae5217e9469ea7",
       "max": 10,
       "readout": false,
       "step": 0,
       "style": "IPY_MODEL_f1817cb624964fb19e19f4c26d8f0f4a"
      }
     },
     "569d77bf6e044a8ca0cc4f6db3302b0d": {
      "model_module": "@jupyter-widgets/controls",
      "model_module_version": "1.5.0",
      "model_name": "IntSliderModel",
      "state": {
       "layout": "IPY_MODEL_367ba2a403b84688b4447837f69bdad3",
       "max": 10,
       "readout": false,
       "step": 0,
       "style": "IPY_MODEL_aa8bb2998e6b4ea38de0d23870833ce0"
      }
     },
     "56c1afb8104e4c60a01f17948e8b67bc": {
      "model_module": "@jupyter-widgets/base",
      "model_module_version": "1.2.0",
      "model_name": "LayoutModel",
      "state": {}
     },
     "57573a7e1cc64636adb0d6ad7be4944c": {
      "model_module": "jupyter-matplotlib",
      "model_module_version": "^0.10.1",
      "model_name": "ToolbarModel",
      "state": {
       "layout": "IPY_MODEL_e377b5cfcab84df3aafdbb1d4d1ce7df",
       "toolitems": [
        [
         "Home",
         "Reset original view",
         "home",
         "home"
        ],
        [
         "Back",
         "Back to previous view",
         "arrow-left",
         "back"
        ],
        [
         "Forward",
         "Forward to next view",
         "arrow-right",
         "forward"
        ],
        [
         "Pan",
         "Left button pans, Right button zooms\nx/y fixes axis, CTRL fixes aspect",
         "arrows",
         "pan"
        ],
        [
         "Zoom",
         "Zoom to rectangle\nx/y fixes axis, CTRL fixes aspect",
         "square-o",
         "zoom"
        ],
        [
         "Download",
         "Download plot",
         "floppy-o",
         "save_figure"
        ]
       ]
      }
     },
     "57bf4452423046bab199974fa19738b8": {
      "model_module": "@jupyter-widgets/base",
      "model_module_version": "1.2.0",
      "model_name": "LayoutModel",
      "state": {}
     },
     "58031a171ce44d3c831446c4ffc8cd6c": {
      "model_module": "@jupyter-widgets/base",
      "model_module_version": "1.2.0",
      "model_name": "LayoutModel",
      "state": {}
     },
     "5819698d180642fc92ee6fd76a7301d3": {
      "model_module": "@jupyter-widgets/controls",
      "model_module_version": "1.5.0",
      "model_name": "IntSliderModel",
      "state": {
       "continuous_update": false,
       "layout": "IPY_MODEL_6036720b36d946cbae093e5a0cce0faf",
       "max": 10,
       "readout": false,
       "style": "IPY_MODEL_846101e260b74d9f94e4b7815c978569",
       "value": 10
      }
     },
     "591e464223194567841d2c16ab2a4d58": {
      "model_module": "@jupyter-widgets/base",
      "model_module_version": "1.2.0",
      "model_name": "LayoutModel",
      "state": {}
     },
     "59350e0fe996485bac372ed4a948139f": {
      "model_module": "@jupyter-widgets/base",
      "model_module_version": "1.2.0",
      "model_name": "LayoutModel",
      "state": {}
     },
     "598f57795f244872aa3c020b845cb181": {
      "model_module": "@jupyter-widgets/base",
      "model_module_version": "1.2.0",
      "model_name": "LayoutModel",
      "state": {}
     },
     "59b5896bf3574dc7ab8d1e0fb8d03d4b": {
      "model_module": "@jupyter-widgets/base",
      "model_module_version": "1.2.0",
      "model_name": "LayoutModel",
      "state": {}
     },
     "59dc3b3e874e4c22902b1d5dd6440ad3": {
      "model_module": "@jupyter-widgets/controls",
      "model_module_version": "1.5.0",
      "model_name": "VBoxModel",
      "state": {
       "_dom_classes": [
        "widget-interact"
       ],
       "children": [
        "IPY_MODEL_cda79434008242f8a97084ca178a251e",
        "IPY_MODEL_e31fd263f62948a9bc5973ce50a64440"
       ],
       "layout": "IPY_MODEL_c6a6c339d61240b980e7420af03659ac"
      }
     },
     "5c20c26183a447be903d4cb07352dedb": {
      "model_module": "@jupyter-widgets/controls",
      "model_module_version": "1.5.0",
      "model_name": "SliderStyleModel",
      "state": {
       "description_width": ""
      }
     },
     "5c696c4da55444ed9430423b0b9de4d8": {
      "model_module": "@jupyter-widgets/base",
      "model_module_version": "1.2.0",
      "model_name": "LayoutModel",
      "state": {}
     },
     "5c7115b77e0b4319a41e0d8ef35ee789": {
      "model_module": "@jupyter-widgets/controls",
      "model_module_version": "1.5.0",
      "model_name": "SliderStyleModel",
      "state": {
       "description_width": ""
      }
     },
     "5d13881774ea476694eb370e842496e8": {
      "model_module": "@jupyter-widgets/base",
      "model_module_version": "1.2.0",
      "model_name": "LayoutModel",
      "state": {}
     },
     "5d4a4fe03cea45dd9eb8cfe3bf0fb6a3": {
      "model_module": "jupyter-matplotlib",
      "model_module_version": "^0.10.1",
      "model_name": "ToolbarModel",
      "state": {
       "layout": "IPY_MODEL_2540671d08064d4090406712477de071",
       "toolitems": [
        [
         "Home",
         "Reset original view",
         "home",
         "home"
        ],
        [
         "Back",
         "Back to previous view",
         "arrow-left",
         "back"
        ],
        [
         "Forward",
         "Forward to next view",
         "arrow-right",
         "forward"
        ],
        [
         "Pan",
         "Left button pans, Right button zooms\nx/y fixes axis, CTRL fixes aspect",
         "arrows",
         "pan"
        ],
        [
         "Zoom",
         "Zoom to rectangle\nx/y fixes axis, CTRL fixes aspect",
         "square-o",
         "zoom"
        ],
        [
         "Download",
         "Download plot",
         "floppy-o",
         "save_figure"
        ]
       ]
      }
     },
     "5d914151f8764d95b66baa2978fb58cc": {
      "model_module": "@jupyter-widgets/base",
      "model_module_version": "1.2.0",
      "model_name": "LayoutModel",
      "state": {}
     },
     "5d9b3ed1cc8a4670b5ca27474f8b01bf": {
      "model_module": "jupyter-matplotlib",
      "model_module_version": "^0.10.1",
      "model_name": "ToolbarModel",
      "state": {
       "layout": "IPY_MODEL_dfedec24ead34e518953a0f6d36cfad5",
       "toolitems": [
        [
         "Home",
         "Reset original view",
         "home",
         "home"
        ],
        [
         "Back",
         "Back to previous view",
         "arrow-left",
         "back"
        ],
        [
         "Forward",
         "Forward to next view",
         "arrow-right",
         "forward"
        ],
        [
         "Pan",
         "Left button pans, Right button zooms\nx/y fixes axis, CTRL fixes aspect",
         "arrows",
         "pan"
        ],
        [
         "Zoom",
         "Zoom to rectangle\nx/y fixes axis, CTRL fixes aspect",
         "square-o",
         "zoom"
        ],
        [
         "Download",
         "Download plot",
         "floppy-o",
         "save_figure"
        ]
       ]
      }
     },
     "5ddd3839ffec4d318b4d537c0ce9b8a2": {
      "model_module": "@jupyter-widgets/base",
      "model_module_version": "1.2.0",
      "model_name": "LayoutModel",
      "state": {}
     },
     "5ecfb53d30a1496ab33c30884a3dfe78": {
      "model_module": "jupyter-matplotlib",
      "model_module_version": "^0.10.1",
      "model_name": "ToolbarModel",
      "state": {
       "layout": "IPY_MODEL_2ddbfd604c1c433f8c9b2f76fb6d0a00",
       "toolitems": [
        [
         "Home",
         "Reset original view",
         "home",
         "home"
        ],
        [
         "Back",
         "Back to previous view",
         "arrow-left",
         "back"
        ],
        [
         "Forward",
         "Forward to next view",
         "arrow-right",
         "forward"
        ],
        [
         "Pan",
         "Left button pans, Right button zooms\nx/y fixes axis, CTRL fixes aspect",
         "arrows",
         "pan"
        ],
        [
         "Zoom",
         "Zoom to rectangle\nx/y fixes axis, CTRL fixes aspect",
         "square-o",
         "zoom"
        ],
        [
         "Download",
         "Download plot",
         "floppy-o",
         "save_figure"
        ]
       ]
      }
     },
     "5f6be0ade3e14a70825cb12f2b20d8a2": {
      "model_module": "jupyter-matplotlib",
      "model_module_version": "^0.10.1",
      "model_name": "ToolbarModel",
      "state": {
       "layout": "IPY_MODEL_c1202004892643768bf5660aadeddf3a",
       "toolitems": [
        [
         "Home",
         "Reset original view",
         "home",
         "home"
        ],
        [
         "Back",
         "Back to previous view",
         "arrow-left",
         "back"
        ],
        [
         "Forward",
         "Forward to next view",
         "arrow-right",
         "forward"
        ],
        [
         "Pan",
         "Left button pans, Right button zooms\nx/y fixes axis, CTRL fixes aspect",
         "arrows",
         "pan"
        ],
        [
         "Zoom",
         "Zoom to rectangle\nx/y fixes axis, CTRL fixes aspect",
         "square-o",
         "zoom"
        ],
        [
         "Download",
         "Download plot",
         "floppy-o",
         "save_figure"
        ]
       ]
      }
     },
     "5f9c71203a3244e7880fcf3b41b197da": {
      "model_module": "@jupyter-widgets/controls",
      "model_module_version": "1.5.0",
      "model_name": "IntSliderModel",
      "state": {
       "layout": "IPY_MODEL_a02b68af4c6b43b096af11b281c88124",
       "readout": false,
       "style": "IPY_MODEL_4932338a8eb24ba89ee507da61464f8c"
      }
     },
     "5fa2c6550c3748618f719107cdd6a2c6": {
      "model_module": "@jupyter-widgets/base",
      "model_module_version": "1.2.0",
      "model_name": "LayoutModel",
      "state": {}
     },
     "6036720b36d946cbae093e5a0cce0faf": {
      "model_module": "@jupyter-widgets/base",
      "model_module_version": "1.2.0",
      "model_name": "LayoutModel",
      "state": {}
     },
     "60aca1a2703e48b2a868f7c461baae2e": {
      "model_module": "@jupyter-widgets/base",
      "model_module_version": "1.2.0",
      "model_name": "LayoutModel",
      "state": {}
     },
     "60fc4a17b1484ed484ddb7bb0deadfb5": {
      "model_module": "jupyter-matplotlib",
      "model_module_version": "^0.10.1",
      "model_name": "ToolbarModel",
      "state": {
       "layout": "IPY_MODEL_d1ae0a2eae6f4a5a83fb15aae2cd374a",
       "toolitems": [
        [
         "Home",
         "Reset original view",
         "home",
         "home"
        ],
        [
         "Back",
         "Back to previous view",
         "arrow-left",
         "back"
        ],
        [
         "Forward",
         "Forward to next view",
         "arrow-right",
         "forward"
        ],
        [
         "Pan",
         "Left button pans, Right button zooms\nx/y fixes axis, CTRL fixes aspect",
         "arrows",
         "pan"
        ],
        [
         "Zoom",
         "Zoom to rectangle\nx/y fixes axis, CTRL fixes aspect",
         "square-o",
         "zoom"
        ],
        [
         "Download",
         "Download plot",
         "floppy-o",
         "save_figure"
        ]
       ]
      }
     },
     "6149f3bc47c640d99ff4e697282aadd2": {
      "model_module": "@jupyter-widgets/base",
      "model_module_version": "1.2.0",
      "model_name": "LayoutModel",
      "state": {}
     },
     "614df1779ce94267ab9b5cce7151b1b6": {
      "model_module": "@jupyter-widgets/controls",
      "model_module_version": "1.5.0",
      "model_name": "IntSliderModel",
      "state": {
       "continuous_update": false,
       "layout": "IPY_MODEL_8e243c8207994f7f8ca73ee7c17e28dc",
       "max": 10,
       "readout": false,
       "style": "IPY_MODEL_a73f3295a78c48009580aeff5e644adf"
      }
     },
     "622aaa5c40ec4de19ea23ac99a3af72b": {
      "model_module": "jupyter-matplotlib",
      "model_module_version": "^0.10.1",
      "model_name": "ToolbarModel",
      "state": {
       "layout": "IPY_MODEL_29ddfa0fbec5449cba693d5e61a30960",
       "toolitems": [
        [
         "Home",
         "Reset original view",
         "home",
         "home"
        ],
        [
         "Back",
         "Back to previous view",
         "arrow-left",
         "back"
        ],
        [
         "Forward",
         "Forward to next view",
         "arrow-right",
         "forward"
        ],
        [
         "Pan",
         "Left button pans, Right button zooms\nx/y fixes axis, CTRL fixes aspect",
         "arrows",
         "pan"
        ],
        [
         "Zoom",
         "Zoom to rectangle\nx/y fixes axis, CTRL fixes aspect",
         "square-o",
         "zoom"
        ],
        [
         "Download",
         "Download plot",
         "floppy-o",
         "save_figure"
        ]
       ]
      }
     },
     "62f0bf5e7c6142f493c23bd0fee6060a": {
      "model_module": "@jupyter-widgets/base",
      "model_module_version": "1.2.0",
      "model_name": "LayoutModel",
      "state": {}
     },
     "636b63222b084b658028ef0e25624434": {
      "model_module": "@jupyter-widgets/controls",
      "model_module_version": "1.5.0",
      "model_name": "IntSliderModel",
      "state": {
       "continuous_update": false,
       "layout": "IPY_MODEL_0c651920313b41e6a4765566e1fce4ef",
       "max": 10,
       "readout": false,
       "style": "IPY_MODEL_ccdd3840a7674541b1aa8052e32cbee3"
      }
     },
     "64601625bf2a4da3b18ac2b5ca7dc9e7": {
      "model_module": "@jupyter-widgets/base",
      "model_module_version": "1.2.0",
      "model_name": "LayoutModel",
      "state": {}
     },
     "64dcc9cd371a4c15b3b4a728d99588b2": {
      "model_module": "@jupyter-widgets/controls",
      "model_module_version": "1.5.0",
      "model_name": "IntSliderModel",
      "state": {
       "layout": "IPY_MODEL_94f3b21614dc400cb2b534381de87d9e",
       "readout": false,
       "style": "IPY_MODEL_6d4f2bd782fe4ba39b1d068872126ab5",
       "value": 44
      }
     },
     "64e5be254fba443c8f9e63660952f7f4": {
      "model_module": "@jupyter-widgets/controls",
      "model_module_version": "1.5.0",
      "model_name": "SliderStyleModel",
      "state": {
       "description_width": ""
      }
     },
     "655bced6fb9142c383c5f28d2e29081d": {
      "model_module": "@jupyter-widgets/base",
      "model_module_version": "1.2.0",
      "model_name": "LayoutModel",
      "state": {}
     },
     "6571d3642d6347de83860a5f80c3e52b": {
      "model_module": "@jupyter-widgets/controls",
      "model_module_version": "1.5.0",
      "model_name": "IntSliderModel",
      "state": {
       "continuous_update": false,
       "layout": "IPY_MODEL_24433a8672ab486a895af5578adcdab9",
       "readout": false,
       "style": "IPY_MODEL_17211db3eef547a183b28bedbc534aa8"
      }
     },
     "65859d5c42884ada80c9069c7b55d28a": {
      "model_module": "@jupyter-widgets/base",
      "model_module_version": "1.2.0",
      "model_name": "LayoutModel",
      "state": {}
     },
     "65d88bf8ac0c410aab7c669c2646eaf7": {
      "model_module": "jupyter-matplotlib",
      "model_module_version": "^0.10.1",
      "model_name": "ToolbarModel",
      "state": {
       "layout": "IPY_MODEL_10a11c20bb824e5c9966192c03d858e6",
       "toolitems": [
        [
         "Home",
         "Reset original view",
         "home",
         "home"
        ],
        [
         "Back",
         "Back to previous view",
         "arrow-left",
         "back"
        ],
        [
         "Forward",
         "Forward to next view",
         "arrow-right",
         "forward"
        ],
        [
         "Pan",
         "Left button pans, Right button zooms\nx/y fixes axis, CTRL fixes aspect",
         "arrows",
         "pan"
        ],
        [
         "Zoom",
         "Zoom to rectangle\nx/y fixes axis, CTRL fixes aspect",
         "square-o",
         "zoom"
        ],
        [
         "Download",
         "Download plot",
         "floppy-o",
         "save_figure"
        ]
       ]
      }
     },
     "6633fb5f69a541f5a137d957da327f19": {
      "model_module": "@jupyter-widgets/base",
      "model_module_version": "1.2.0",
      "model_name": "LayoutModel",
      "state": {}
     },
     "66a1ffb2e16f4c9883fb02567b7132dd": {
      "model_module": "@jupyter-widgets/base",
      "model_module_version": "1.2.0",
      "model_name": "LayoutModel",
      "state": {}
     },
     "67b5c8ba28874cb6982dea4d7ad8a4ad": {
      "model_module": "@jupyter-widgets/base",
      "model_module_version": "1.2.0",
      "model_name": "LayoutModel",
      "state": {}
     },
     "67e743cadb7049adb93553304a6329e2": {
      "model_module": "@jupyter-widgets/controls",
      "model_module_version": "1.5.0",
      "model_name": "SliderStyleModel",
      "state": {
       "description_width": ""
      }
     },
     "67e8b584e0c34bf28715931925fd04db": {
      "model_module": "@jupyter-widgets/base",
      "model_module_version": "1.2.0",
      "model_name": "LayoutModel",
      "state": {}
     },
     "686825753f2f4c5b88fd376839fc479e": {
      "model_module": "@jupyter-widgets/controls",
      "model_module_version": "1.5.0",
      "model_name": "IntSliderModel",
      "state": {
       "description": "l",
       "layout": "IPY_MODEL_d7ec200ef85b4e89abc21e5dcb1fb122",
       "readout": false,
       "style": "IPY_MODEL_1cd32c7caf484daf8a102a97651d44b3",
       "value": 68
      }
     },
     "689e4e8b9eb04726b0fafe20a82fec92": {
      "model_module": "@jupyter-widgets/base",
      "model_module_version": "1.2.0",
      "model_name": "LayoutModel",
      "state": {}
     },
     "6984459d2f7c4469bedaf9dab16c6f47": {
      "model_module": "jupyter-matplotlib",
      "model_module_version": "^0.10.1",
      "model_name": "ToolbarModel",
      "state": {
       "layout": "IPY_MODEL_335256f25dc443dba253827ee3fc6fa3",
       "toolitems": [
        [
         "Home",
         "Reset original view",
         "home",
         "home"
        ],
        [
         "Back",
         "Back to previous view",
         "arrow-left",
         "back"
        ],
        [
         "Forward",
         "Forward to next view",
         "arrow-right",
         "forward"
        ],
        [
         "Pan",
         "Left button pans, Right button zooms\nx/y fixes axis, CTRL fixes aspect",
         "arrows",
         "pan"
        ],
        [
         "Zoom",
         "Zoom to rectangle\nx/y fixes axis, CTRL fixes aspect",
         "square-o",
         "zoom"
        ],
        [
         "Download",
         "Download plot",
         "floppy-o",
         "save_figure"
        ]
       ]
      }
     },
     "6a049968b66548dcb3d8af726070851d": {
      "model_module": "jupyter-matplotlib",
      "model_module_version": "^0.10.1",
      "model_name": "ToolbarModel",
      "state": {
       "layout": "IPY_MODEL_4e2ce255169041d69fb84bf4bf7e2b4f",
       "toolitems": [
        [
         "Home",
         "Reset original view",
         "home",
         "home"
        ],
        [
         "Back",
         "Back to previous view",
         "arrow-left",
         "back"
        ],
        [
         "Forward",
         "Forward to next view",
         "arrow-right",
         "forward"
        ],
        [
         "Pan",
         "Left button pans, Right button zooms\nx/y fixes axis, CTRL fixes aspect",
         "arrows",
         "pan"
        ],
        [
         "Zoom",
         "Zoom to rectangle\nx/y fixes axis, CTRL fixes aspect",
         "square-o",
         "zoom"
        ],
        [
         "Download",
         "Download plot",
         "floppy-o",
         "save_figure"
        ]
       ]
      }
     },
     "6c00dd764cc7493791ac501ac83bbdbf": {
      "model_module": "@jupyter-widgets/controls",
      "model_module_version": "1.5.0",
      "model_name": "SliderStyleModel",
      "state": {
       "description_width": ""
      }
     },
     "6c47d689a7464853863550ffc2841281": {
      "model_module": "@jupyter-widgets/base",
      "model_module_version": "1.2.0",
      "model_name": "LayoutModel",
      "state": {}
     },
     "6c486015c9554ffb9d54f4d1005bf134": {
      "model_module": "jupyter-matplotlib",
      "model_module_version": "^0.10.1",
      "model_name": "ToolbarModel",
      "state": {
       "layout": "IPY_MODEL_2aa96b4ca55b49f6a2de20bd5193137c",
       "toolitems": [
        [
         "Home",
         "Reset original view",
         "home",
         "home"
        ],
        [
         "Back",
         "Back to previous view",
         "arrow-left",
         "back"
        ],
        [
         "Forward",
         "Forward to next view",
         "arrow-right",
         "forward"
        ],
        [
         "Pan",
         "Left button pans, Right button zooms\nx/y fixes axis, CTRL fixes aspect",
         "arrows",
         "pan"
        ],
        [
         "Zoom",
         "Zoom to rectangle\nx/y fixes axis, CTRL fixes aspect",
         "square-o",
         "zoom"
        ],
        [
         "Download",
         "Download plot",
         "floppy-o",
         "save_figure"
        ]
       ]
      }
     },
     "6ca441a3189e40a3a77f8b0d9544be3a": {
      "model_module": "jupyter-matplotlib",
      "model_module_version": "^0.10.1",
      "model_name": "ToolbarModel",
      "state": {
       "layout": "IPY_MODEL_23f6bcb3b09d4b258966b902df6864d2",
       "toolitems": [
        [
         "Home",
         "Reset original view",
         "home",
         "home"
        ],
        [
         "Back",
         "Back to previous view",
         "arrow-left",
         "back"
        ],
        [
         "Forward",
         "Forward to next view",
         "arrow-right",
         "forward"
        ],
        [
         "Pan",
         "Left button pans, Right button zooms\nx/y fixes axis, CTRL fixes aspect",
         "arrows",
         "pan"
        ],
        [
         "Zoom",
         "Zoom to rectangle\nx/y fixes axis, CTRL fixes aspect",
         "square-o",
         "zoom"
        ],
        [
         "Download",
         "Download plot",
         "floppy-o",
         "save_figure"
        ]
       ]
      }
     },
     "6d4f2bd782fe4ba39b1d068872126ab5": {
      "model_module": "@jupyter-widgets/controls",
      "model_module_version": "1.5.0",
      "model_name": "SliderStyleModel",
      "state": {
       "description_width": ""
      }
     },
     "6d6850d9c520494995ea575d0840d80e": {
      "model_module": "@jupyter-widgets/controls",
      "model_module_version": "1.5.0",
      "model_name": "SliderStyleModel",
      "state": {
       "description_width": ""
      }
     },
     "6dc91ec07b0a4928b37ad5f788f38d67": {
      "model_module": "@jupyter-widgets/controls",
      "model_module_version": "1.5.0",
      "model_name": "SliderStyleModel",
      "state": {
       "description_width": ""
      }
     },
     "6e2c6a84bb874313a7f763745a24fcd2": {
      "model_module": "jupyter-matplotlib",
      "model_module_version": "^0.10.1",
      "model_name": "ToolbarModel",
      "state": {
       "layout": "IPY_MODEL_60aca1a2703e48b2a868f7c461baae2e",
       "toolitems": [
        [
         "Home",
         "Reset original view",
         "home",
         "home"
        ],
        [
         "Back",
         "Back to previous view",
         "arrow-left",
         "back"
        ],
        [
         "Forward",
         "Forward to next view",
         "arrow-right",
         "forward"
        ],
        [
         "Pan",
         "Left button pans, Right button zooms\nx/y fixes axis, CTRL fixes aspect",
         "arrows",
         "pan"
        ],
        [
         "Zoom",
         "Zoom to rectangle\nx/y fixes axis, CTRL fixes aspect",
         "square-o",
         "zoom"
        ],
        [
         "Download",
         "Download plot",
         "floppy-o",
         "save_figure"
        ]
       ]
      }
     },
     "6e4c13ad4e2e4d978f47173422b2951b": {
      "model_module": "@jupyter-widgets/base",
      "model_module_version": "1.2.0",
      "model_name": "LayoutModel",
      "state": {}
     },
     "6e587eb0827347bba49647525596a90d": {
      "model_module": "jupyter-matplotlib",
      "model_module_version": "^0.10.1",
      "model_name": "ToolbarModel",
      "state": {
       "layout": "IPY_MODEL_d06032f07843453db7b93d50ecc44e48",
       "toolitems": [
        [
         "Home",
         "Reset original view",
         "home",
         "home"
        ],
        [
         "Back",
         "Back to previous view",
         "arrow-left",
         "back"
        ],
        [
         "Forward",
         "Forward to next view",
         "arrow-right",
         "forward"
        ],
        [
         "Pan",
         "Left button pans, Right button zooms\nx/y fixes axis, CTRL fixes aspect",
         "arrows",
         "pan"
        ],
        [
         "Zoom",
         "Zoom to rectangle\nx/y fixes axis, CTRL fixes aspect",
         "square-o",
         "zoom"
        ],
        [
         "Download",
         "Download plot",
         "floppy-o",
         "save_figure"
        ]
       ]
      }
     },
     "6fe2fd4895554d86b4bad61ffc01bf96": {
      "model_module": "@jupyter-widgets/base",
      "model_module_version": "1.2.0",
      "model_name": "LayoutModel",
      "state": {}
     },
     "701c40111cea4a8792c6f595332cafcc": {
      "model_module": "@jupyter-widgets/controls",
      "model_module_version": "1.5.0",
      "model_name": "IntSliderModel",
      "state": {
       "layout": "IPY_MODEL_1ade6fb5ccd04d0eafe39334a4351583",
       "readout": false,
       "style": "IPY_MODEL_755690465104450a8d98e72f04324e7c"
      }
     },
     "70d0abf278c14d0abb769f40ec55fbfd": {
      "model_module": "@jupyter-widgets/base",
      "model_module_version": "1.2.0",
      "model_name": "LayoutModel",
      "state": {}
     },
     "710d626c9510480b9397c81f010de637": {
      "model_module": "@jupyter-widgets/controls",
      "model_module_version": "1.5.0",
      "model_name": "IntSliderModel",
      "state": {
       "layout": "IPY_MODEL_aec3b6f96fc64859aa69ee5309615937",
       "readout": false,
       "style": "IPY_MODEL_27d9fc68d1b940cab09bd94904eafdbd"
      }
     },
     "714c496b1a664f56b8dd58242782240e": {
      "model_module": "@jupyter-widgets/controls",
      "model_module_version": "1.5.0",
      "model_name": "IntSliderModel",
      "state": {
       "layout": "IPY_MODEL_f0fc580bb7c7454bbb637f34d3946c96",
       "max": 10,
       "readout": false,
       "style": "IPY_MODEL_6d6850d9c520494995ea575d0840d80e"
      }
     },
     "7210d60ab261477e81235ff29f6e570e": {
      "model_module": "jupyter-matplotlib",
      "model_module_version": "^0.10.1",
      "model_name": "ToolbarModel",
      "state": {
       "layout": "IPY_MODEL_864f630a52aa4c37bd56e312dd1dc7bb",
       "toolitems": [
        [
         "Home",
         "Reset original view",
         "home",
         "home"
        ],
        [
         "Back",
         "Back to previous view",
         "arrow-left",
         "back"
        ],
        [
         "Forward",
         "Forward to next view",
         "arrow-right",
         "forward"
        ],
        [
         "Pan",
         "Left button pans, Right button zooms\nx/y fixes axis, CTRL fixes aspect",
         "arrows",
         "pan"
        ],
        [
         "Zoom",
         "Zoom to rectangle\nx/y fixes axis, CTRL fixes aspect",
         "square-o",
         "zoom"
        ],
        [
         "Download",
         "Download plot",
         "floppy-o",
         "save_figure"
        ]
       ]
      }
     },
     "7244349ecc0d48bf99780048ae9194ba": {
      "model_module": "@jupyter-widgets/base",
      "model_module_version": "1.2.0",
      "model_name": "LayoutModel",
      "state": {}
     },
     "72f69bd2243a46be9ba6d53cf6efa152": {
      "model_module": "@jupyter-widgets/base",
      "model_module_version": "1.2.0",
      "model_name": "LayoutModel",
      "state": {}
     },
     "74b28290433d40dd85c75349ebf16985": {
      "model_module": "jupyter-matplotlib",
      "model_module_version": "^0.10.1",
      "model_name": "ToolbarModel",
      "state": {
       "layout": "IPY_MODEL_0412bfb556e34e088a5a761b92a79b2c",
       "toolitems": [
        [
         "Home",
         "Reset original view",
         "home",
         "home"
        ],
        [
         "Back",
         "Back to previous view",
         "arrow-left",
         "back"
        ],
        [
         "Forward",
         "Forward to next view",
         "arrow-right",
         "forward"
        ],
        [
         "Pan",
         "Left button pans, Right button zooms\nx/y fixes axis, CTRL fixes aspect",
         "arrows",
         "pan"
        ],
        [
         "Zoom",
         "Zoom to rectangle\nx/y fixes axis, CTRL fixes aspect",
         "square-o",
         "zoom"
        ],
        [
         "Download",
         "Download plot",
         "floppy-o",
         "save_figure"
        ]
       ]
      }
     },
     "74bfb68581ab4b9ca59c37159bfb39b7": {
      "model_module": "jupyter-matplotlib",
      "model_module_version": "^0.10.1",
      "model_name": "ToolbarModel",
      "state": {
       "layout": "IPY_MODEL_5d914151f8764d95b66baa2978fb58cc",
       "toolitems": [
        [
         "Home",
         "Reset original view",
         "home",
         "home"
        ],
        [
         "Back",
         "Back to previous view",
         "arrow-left",
         "back"
        ],
        [
         "Forward",
         "Forward to next view",
         "arrow-right",
         "forward"
        ],
        [
         "Pan",
         "Left button pans, Right button zooms\nx/y fixes axis, CTRL fixes aspect",
         "arrows",
         "pan"
        ],
        [
         "Zoom",
         "Zoom to rectangle\nx/y fixes axis, CTRL fixes aspect",
         "square-o",
         "zoom"
        ],
        [
         "Download",
         "Download plot",
         "floppy-o",
         "save_figure"
        ]
       ]
      }
     },
     "74c67ec2817e48749e4f5368935df17d": {
      "model_module": "@jupyter-widgets/base",
      "model_module_version": "1.2.0",
      "model_name": "LayoutModel",
      "state": {}
     },
     "750daa1ed9c644d1b6f5ca0aa9ab19ff": {
      "model_module": "@jupyter-widgets/base",
      "model_module_version": "1.2.0",
      "model_name": "LayoutModel",
      "state": {}
     },
     "755690465104450a8d98e72f04324e7c": {
      "model_module": "@jupyter-widgets/controls",
      "model_module_version": "1.5.0",
      "model_name": "SliderStyleModel",
      "state": {
       "description_width": ""
      }
     },
     "757e00a8a42947cf98442caee1597e9b": {
      "model_module": "@jupyter-widgets/controls",
      "model_module_version": "1.5.0",
      "model_name": "SliderStyleModel",
      "state": {
       "description_width": ""
      }
     },
     "75e757788eac45a7a0925469e7ffcdd6": {
      "model_module": "@jupyter-widgets/base",
      "model_module_version": "1.2.0",
      "model_name": "LayoutModel",
      "state": {}
     },
     "7816ba5a67bc40cfbb84b65b9b1e2b2e": {
      "model_module": "@jupyter-widgets/controls",
      "model_module_version": "1.5.0",
      "model_name": "IntSliderModel",
      "state": {
       "layout": "IPY_MODEL_a5eec7a1fbab4ce488b2e638caf5637d",
       "readout": false,
       "style": "IPY_MODEL_feb288c393424dc285a7df69dc59f8a8"
      }
     },
     "783bad2c42f746a493cce0b72800466f": {
      "model_module": "@jupyter-widgets/base",
      "model_module_version": "1.2.0",
      "model_name": "LayoutModel",
      "state": {}
     },
     "78433bad7fcc475cb2aaa7ec1594ffeb": {
      "model_module": "@jupyter-widgets/controls",
      "model_module_version": "1.5.0",
      "model_name": "IntSliderModel",
      "state": {
       "layout": "IPY_MODEL_57bf4452423046bab199974fa19738b8",
       "readout": false,
       "style": "IPY_MODEL_4371958874934060a77977d073b4f60e",
       "value": 33
      }
     },
     "786fd5484bcc4268aa2ef378193060be": {
      "model_module": "@jupyter-widgets/base",
      "model_module_version": "1.2.0",
      "model_name": "LayoutModel",
      "state": {}
     },
     "78dc38e29305465d9ffe8a5b9900f49a": {
      "model_module": "@jupyter-widgets/base",
      "model_module_version": "1.2.0",
      "model_name": "LayoutModel",
      "state": {}
     },
     "7a7518853f4c4ee0b4378f82350b057f": {
      "model_module": "@jupyter-widgets/base",
      "model_module_version": "1.2.0",
      "model_name": "LayoutModel",
      "state": {}
     },
     "7b6a0d3ef47446458d4eaacbd9e0c87b": {
      "model_module": "@jupyter-widgets/base",
      "model_module_version": "1.2.0",
      "model_name": "LayoutModel",
      "state": {}
     },
     "7bbd78448edd4857974e755f9e0ac273": {
      "model_module": "@jupyter-widgets/controls",
      "model_module_version": "1.5.0",
      "model_name": "IntSliderModel",
      "state": {
       "description": "l",
       "layout": "IPY_MODEL_6fe2fd4895554d86b4bad61ffc01bf96",
       "readout": false,
       "style": "IPY_MODEL_e93fb5a23b2e435881e707fd583449e7",
       "value": 63
      }
     },
     "7be1ef3d693442e4a5f0f832c1426be2": {
      "model_module": "jupyter-matplotlib",
      "model_module_version": "^0.10.1",
      "model_name": "ToolbarModel",
      "state": {
       "layout": "IPY_MODEL_eea6fcd50e474dfb90b22e20161df00f",
       "toolitems": [
        [
         "Home",
         "Reset original view",
         "home",
         "home"
        ],
        [
         "Back",
         "Back to previous view",
         "arrow-left",
         "back"
        ],
        [
         "Forward",
         "Forward to next view",
         "arrow-right",
         "forward"
        ],
        [
         "Pan",
         "Left button pans, Right button zooms\nx/y fixes axis, CTRL fixes aspect",
         "arrows",
         "pan"
        ],
        [
         "Zoom",
         "Zoom to rectangle\nx/y fixes axis, CTRL fixes aspect",
         "square-o",
         "zoom"
        ],
        [
         "Download",
         "Download plot",
         "floppy-o",
         "save_figure"
        ]
       ]
      }
     },
     "7cc1de6fd0d14747956576d6bcdadf41": {
      "model_module": "@jupyter-widgets/controls",
      "model_module_version": "1.5.0",
      "model_name": "SliderStyleModel",
      "state": {
       "description_width": ""
      }
     },
     "7d0ef8c742294e7b857ce7e23db2f484": {
      "model_module": "@jupyter-widgets/base",
      "model_module_version": "1.2.0",
      "model_name": "LayoutModel",
      "state": {}
     },
     "7d25ec86bbe14073b2d74d9d4844c48e": {
      "model_module": "@jupyter-widgets/controls",
      "model_module_version": "1.5.0",
      "model_name": "SliderStyleModel",
      "state": {
       "description_width": ""
      }
     },
     "7dab65ea9a764006911e274c50ecd32a": {
      "model_module": "jupyter-matplotlib",
      "model_module_version": "^0.10.1",
      "model_name": "ToolbarModel",
      "state": {
       "layout": "IPY_MODEL_3ffeade508fe4905b374d499d932cb32",
       "toolitems": [
        [
         "Home",
         "Reset original view",
         "home",
         "home"
        ],
        [
         "Back",
         "Back to previous view",
         "arrow-left",
         "back"
        ],
        [
         "Forward",
         "Forward to next view",
         "arrow-right",
         "forward"
        ],
        [
         "Pan",
         "Left button pans, Right button zooms\nx/y fixes axis, CTRL fixes aspect",
         "arrows",
         "pan"
        ],
        [
         "Zoom",
         "Zoom to rectangle\nx/y fixes axis, CTRL fixes aspect",
         "square-o",
         "zoom"
        ],
        [
         "Download",
         "Download plot",
         "floppy-o",
         "save_figure"
        ]
       ]
      }
     },
     "7e0e08e3505542c2be4871a9584ec728": {
      "model_module": "@jupyter-widgets/base",
      "model_module_version": "1.2.0",
      "model_name": "LayoutModel",
      "state": {}
     },
     "7ea8bb65057c4190b873cd9b22c7b87c": {
      "model_module": "@jupyter-widgets/base",
      "model_module_version": "1.2.0",
      "model_name": "LayoutModel",
      "state": {}
     },
     "7f0039b9ab2e430c9f696a4cf790b3d6": {
      "model_module": "jupyter-matplotlib",
      "model_module_version": "^0.10.1",
      "model_name": "ToolbarModel",
      "state": {
       "layout": "IPY_MODEL_16a215a82cf746b380eb141761711691",
       "toolitems": [
        [
         "Home",
         "Reset original view",
         "home",
         "home"
        ],
        [
         "Back",
         "Back to previous view",
         "arrow-left",
         "back"
        ],
        [
         "Forward",
         "Forward to next view",
         "arrow-right",
         "forward"
        ],
        [
         "Pan",
         "Left button pans, Right button zooms\nx/y fixes axis, CTRL fixes aspect",
         "arrows",
         "pan"
        ],
        [
         "Zoom",
         "Zoom to rectangle\nx/y fixes axis, CTRL fixes aspect",
         "square-o",
         "zoom"
        ],
        [
         "Download",
         "Download plot",
         "floppy-o",
         "save_figure"
        ]
       ]
      }
     },
     "7f0305c836064c989a4cbd61ab8e8181": {
      "model_module": "@jupyter-widgets/base",
      "model_module_version": "1.2.0",
      "model_name": "LayoutModel",
      "state": {}
     },
     "805d1d4fb6904914aa3bf7b46f969531": {
      "model_module": "@jupyter-widgets/controls",
      "model_module_version": "1.5.0",
      "model_name": "IntSliderModel",
      "state": {
       "continuous_update": false,
       "layout": "IPY_MODEL_263cfd0e5fa04f76afcde68c6a15ed5f",
       "max": 10,
       "readout": false,
       "style": "IPY_MODEL_9b69f8633fb948cdac962d2cc81af726"
      }
     },
     "80b9e946217a4aadabe513b958d09f56": {
      "model_module": "@jupyter-widgets/controls",
      "model_module_version": "1.5.0",
      "model_name": "IntSliderModel",
      "state": {
       "layout": "IPY_MODEL_7a7518853f4c4ee0b4378f82350b057f",
       "readout": false,
       "style": "IPY_MODEL_06d801342c1143c0b0801657bf06e32f",
       "value": 14
      }
     },
     "818a4a4f24b4490ca191638da2f96b9f": {
      "model_module": "@jupyter-widgets/controls",
      "model_module_version": "1.5.0",
      "model_name": "IntSliderModel",
      "state": {
       "continuous_update": false,
       "layout": "IPY_MODEL_f394d417b30146978333c12a08ecd6dd",
       "max": 10,
       "readout": false,
       "style": "IPY_MODEL_281d389f969a4d4795b234ea1eda0ad6",
       "value": 10
      }
     },
     "81de63e43d514b1f8c45460b387068f1": {
      "model_module": "@jupyter-widgets/base",
      "model_module_version": "1.2.0",
      "model_name": "LayoutModel",
      "state": {}
     },
     "81eb3c04fd924b8cbdf3856667aad4c2": {
      "model_module": "@jupyter-widgets/base",
      "model_module_version": "1.2.0",
      "model_name": "LayoutModel",
      "state": {}
     },
     "825351013fcd4725a3fa804eae42a5a1": {
      "model_module": "jupyter-matplotlib",
      "model_module_version": "^0.10.1",
      "model_name": "ToolbarModel",
      "state": {
       "layout": "IPY_MODEL_499de4db79f34256908d068f112d5223",
       "toolitems": [
        [
         "Home",
         "Reset original view",
         "home",
         "home"
        ],
        [
         "Back",
         "Back to previous view",
         "arrow-left",
         "back"
        ],
        [
         "Forward",
         "Forward to next view",
         "arrow-right",
         "forward"
        ],
        [
         "Pan",
         "Left button pans, Right button zooms\nx/y fixes axis, CTRL fixes aspect",
         "arrows",
         "pan"
        ],
        [
         "Zoom",
         "Zoom to rectangle\nx/y fixes axis, CTRL fixes aspect",
         "square-o",
         "zoom"
        ],
        [
         "Download",
         "Download plot",
         "floppy-o",
         "save_figure"
        ]
       ]
      }
     },
     "828db359a1ec42178cf26516b9e1222a": {
      "model_module": "@jupyter-widgets/base",
      "model_module_version": "1.2.0",
      "model_name": "LayoutModel",
      "state": {}
     },
     "839fcb0087b841b6b5b9f63d184a7787": {
      "model_module": "@jupyter-widgets/base",
      "model_module_version": "1.2.0",
      "model_name": "LayoutModel",
      "state": {}
     },
     "846101e260b74d9f94e4b7815c978569": {
      "model_module": "@jupyter-widgets/controls",
      "model_module_version": "1.5.0",
      "model_name": "SliderStyleModel",
      "state": {
       "description_width": ""
      }
     },
     "84e9cc7a35c640f19c3c6f5257673c0a": {
      "model_module": "@jupyter-widgets/controls",
      "model_module_version": "1.5.0",
      "model_name": "SliderStyleModel",
      "state": {
       "description_width": ""
      }
     },
     "85a6c5a72ae44fcaad9c9529f89f9a6b": {
      "model_module": "jupyter-matplotlib",
      "model_module_version": "^0.10.1",
      "model_name": "ToolbarModel",
      "state": {
       "layout": "IPY_MODEL_78dc38e29305465d9ffe8a5b9900f49a",
       "toolitems": [
        [
         "Home",
         "Reset original view",
         "home",
         "home"
        ],
        [
         "Back",
         "Back to previous view",
         "arrow-left",
         "back"
        ],
        [
         "Forward",
         "Forward to next view",
         "arrow-right",
         "forward"
        ],
        [
         "Pan",
         "Left button pans, Right button zooms\nx/y fixes axis, CTRL fixes aspect",
         "arrows",
         "pan"
        ],
        [
         "Zoom",
         "Zoom to rectangle\nx/y fixes axis, CTRL fixes aspect",
         "square-o",
         "zoom"
        ],
        [
         "Download",
         "Download plot",
         "floppy-o",
         "save_figure"
        ]
       ]
      }
     },
     "85ce2201ad804aa38c6ff1c97c9503b7": {
      "model_module": "jupyter-matplotlib",
      "model_module_version": "^0.10.1",
      "model_name": "ToolbarModel",
      "state": {
       "layout": "IPY_MODEL_f8f12b28bee8414e9d29b4189a798550",
       "toolitems": [
        [
         "Home",
         "Reset original view",
         "home",
         "home"
        ],
        [
         "Back",
         "Back to previous view",
         "arrow-left",
         "back"
        ],
        [
         "Forward",
         "Forward to next view",
         "arrow-right",
         "forward"
        ],
        [
         "Pan",
         "Left button pans, Right button zooms\nx/y fixes axis, CTRL fixes aspect",
         "arrows",
         "pan"
        ],
        [
         "Zoom",
         "Zoom to rectangle\nx/y fixes axis, CTRL fixes aspect",
         "square-o",
         "zoom"
        ],
        [
         "Download",
         "Download plot",
         "floppy-o",
         "save_figure"
        ]
       ]
      }
     },
     "862e55757edf4a969112aca43dc4378a": {
      "model_module": "@jupyter-widgets/base",
      "model_module_version": "1.2.0",
      "model_name": "LayoutModel",
      "state": {}
     },
     "864f630a52aa4c37bd56e312dd1dc7bb": {
      "model_module": "@jupyter-widgets/base",
      "model_module_version": "1.2.0",
      "model_name": "LayoutModel",
      "state": {}
     },
     "865136102356419882bb2260106a49ed": {
      "model_module": "@jupyter-widgets/controls",
      "model_module_version": "1.5.0",
      "model_name": "IntSliderModel",
      "state": {
       "continuous_update": false,
       "layout": "IPY_MODEL_9800bac72ed241afa4a494227c36313f",
       "readout": false,
       "style": "IPY_MODEL_f5f58da22f774c718a8fb660ed554b2c",
       "value": 52
      }
     },
     "8694b4506c03446faa8f06392296be6f": {
      "model_module": "@jupyter-widgets/controls",
      "model_module_version": "1.5.0",
      "model_name": "IntSliderModel",
      "state": {
       "layout": "IPY_MODEL_56c1afb8104e4c60a01f17948e8b67bc",
       "readout": false,
       "style": "IPY_MODEL_4611c362a5ca456783e882400800334f"
      }
     },
     "87207aff77b441199b43492684c8b966": {
      "model_module": "jupyter-matplotlib",
      "model_module_version": "^0.10.1",
      "model_name": "ToolbarModel",
      "state": {
       "layout": "IPY_MODEL_75e757788eac45a7a0925469e7ffcdd6",
       "toolitems": [
        [
         "Home",
         "Reset original view",
         "home",
         "home"
        ],
        [
         "Back",
         "Back to previous view",
         "arrow-left",
         "back"
        ],
        [
         "Forward",
         "Forward to next view",
         "arrow-right",
         "forward"
        ],
        [
         "Pan",
         "Left button pans, Right button zooms\nx/y fixes axis, CTRL fixes aspect",
         "arrows",
         "pan"
        ],
        [
         "Zoom",
         "Zoom to rectangle\nx/y fixes axis, CTRL fixes aspect",
         "square-o",
         "zoom"
        ],
        [
         "Download",
         "Download plot",
         "floppy-o",
         "save_figure"
        ]
       ]
      }
     },
     "875301c587ba49fda5626bf67c411c34": {
      "model_module": "@jupyter-widgets/base",
      "model_module_version": "1.2.0",
      "model_name": "LayoutModel",
      "state": {}
     },
     "88a8a7dfd922443e81a5bc2af5a70e57": {
      "model_module": "@jupyter-widgets/controls",
      "model_module_version": "1.5.0",
      "model_name": "SliderStyleModel",
      "state": {
       "description_width": ""
      }
     },
     "88c57bf6f4d3492cbb07baf70f82f6d8": {
      "model_module": "@jupyter-widgets/controls",
      "model_module_version": "1.5.0",
      "model_name": "SliderStyleModel",
      "state": {
       "description_width": ""
      }
     },
     "89e33e0aed21418d91cfa13d14dbcb5b": {
      "model_module": "@jupyter-widgets/base",
      "model_module_version": "1.2.0",
      "model_name": "LayoutModel",
      "state": {}
     },
     "8a38ce38057c4bf5a94d223b23204442": {
      "model_module": "@jupyter-widgets/base",
      "model_module_version": "1.2.0",
      "model_name": "LayoutModel",
      "state": {}
     },
     "8a69a38db9e24f3c980e496982ab8666": {
      "model_module": "@jupyter-widgets/base",
      "model_module_version": "1.2.0",
      "model_name": "LayoutModel",
      "state": {}
     },
     "8ac7f1b45d354b53bde07c4c35067570": {
      "model_module": "@jupyter-widgets/base",
      "model_module_version": "1.2.0",
      "model_name": "LayoutModel",
      "state": {}
     },
     "8ad837c2b5e44d5ba9760e24b4c4c1f9": {
      "model_module": "@jupyter-widgets/controls",
      "model_module_version": "1.5.0",
      "model_name": "SliderStyleModel",
      "state": {
       "description_width": ""
      }
     },
     "8aff175e1c6d435e80903ded4883e80b": {
      "model_module": "@jupyter-widgets/controls",
      "model_module_version": "1.5.0",
      "model_name": "SliderStyleModel",
      "state": {
       "description_width": ""
      }
     },
     "8b3f65bc8d1b401ca0c2565c5f3d4df4": {
      "model_module": "jupyter-matplotlib",
      "model_module_version": "^0.10.1",
      "model_name": "ToolbarModel",
      "state": {
       "layout": "IPY_MODEL_ab0d4e4aeb734c9bacf51a9defb7143e",
       "toolitems": [
        [
         "Home",
         "Reset original view",
         "home",
         "home"
        ],
        [
         "Back",
         "Back to previous view",
         "arrow-left",
         "back"
        ],
        [
         "Forward",
         "Forward to next view",
         "arrow-right",
         "forward"
        ],
        [
         "Pan",
         "Left button pans, Right button zooms\nx/y fixes axis, CTRL fixes aspect",
         "arrows",
         "pan"
        ],
        [
         "Zoom",
         "Zoom to rectangle\nx/y fixes axis, CTRL fixes aspect",
         "square-o",
         "zoom"
        ],
        [
         "Download",
         "Download plot",
         "floppy-o",
         "save_figure"
        ]
       ]
      }
     },
     "8b82c88ce407409c8c4406c2dd50f4bc": {
      "model_module": "@jupyter-widgets/controls",
      "model_module_version": "1.5.0",
      "model_name": "SliderStyleModel",
      "state": {
       "description_width": ""
      }
     },
     "8c364f25588b4bc6ba0d11b312b937c4": {
      "model_module": "@jupyter-widgets/base",
      "model_module_version": "1.2.0",
      "model_name": "LayoutModel",
      "state": {}
     },
     "8cc554b5f5f64c8b99d52de94b562642": {
      "model_module": "@jupyter-widgets/base",
      "model_module_version": "1.2.0",
      "model_name": "LayoutModel",
      "state": {}
     },
     "8ccd033da83a4a50aa91c323e217a727": {
      "model_module": "@jupyter-widgets/controls",
      "model_module_version": "1.5.0",
      "model_name": "IntSliderModel",
      "state": {
       "layout": "IPY_MODEL_e42e36707ae144ebbd0fb4cc8c3c86c4",
       "readout": false,
       "style": "IPY_MODEL_411085630966463881df581f479c2a33"
      }
     },
     "8d9dcd3e5ddc482086c39b8334550092": {
      "model_module": "@jupyter-widgets/base",
      "model_module_version": "1.2.0",
      "model_name": "LayoutModel",
      "state": {}
     },
     "8deb27f199d847d793c616390dff491e": {
      "model_module": "@jupyter-widgets/controls",
      "model_module_version": "1.5.0",
      "model_name": "SliderStyleModel",
      "state": {
       "description_width": ""
      }
     },
     "8e04d6ed178c4bf18d1ad2f210f5de9d": {
      "model_module": "jupyter-matplotlib",
      "model_module_version": "^0.10.1",
      "model_name": "ToolbarModel",
      "state": {
       "layout": "IPY_MODEL_3ddec6f1ebde4cfab92c696733df8c10",
       "toolitems": [
        [
         "Home",
         "Reset original view",
         "home",
         "home"
        ],
        [
         "Back",
         "Back to previous view",
         "arrow-left",
         "back"
        ],
        [
         "Forward",
         "Forward to next view",
         "arrow-right",
         "forward"
        ],
        [
         "Pan",
         "Left button pans, Right button zooms\nx/y fixes axis, CTRL fixes aspect",
         "arrows",
         "pan"
        ],
        [
         "Zoom",
         "Zoom to rectangle\nx/y fixes axis, CTRL fixes aspect",
         "square-o",
         "zoom"
        ],
        [
         "Download",
         "Download plot",
         "floppy-o",
         "save_figure"
        ]
       ]
      }
     },
     "8e243c8207994f7f8ca73ee7c17e28dc": {
      "model_module": "@jupyter-widgets/base",
      "model_module_version": "1.2.0",
      "model_name": "LayoutModel",
      "state": {}
     },
     "8e842574ee934fa2b4ea24a8224a0a08": {
      "model_module": "@jupyter-widgets/base",
      "model_module_version": "1.2.0",
      "model_name": "LayoutModel",
      "state": {}
     },
     "8f8d374b63c24e59a5f755523477cacd": {
      "model_module": "jupyter-matplotlib",
      "model_module_version": "^0.10.1",
      "model_name": "ToolbarModel",
      "state": {
       "layout": "IPY_MODEL_bd7c0b3a45be454a8a6e49dc91b91701",
       "toolitems": [
        [
         "Home",
         "Reset original view",
         "home",
         "home"
        ],
        [
         "Back",
         "Back to previous view",
         "arrow-left",
         "back"
        ],
        [
         "Forward",
         "Forward to next view",
         "arrow-right",
         "forward"
        ],
        [
         "Pan",
         "Left button pans, Right button zooms\nx/y fixes axis, CTRL fixes aspect",
         "arrows",
         "pan"
        ],
        [
         "Zoom",
         "Zoom to rectangle\nx/y fixes axis, CTRL fixes aspect",
         "square-o",
         "zoom"
        ],
        [
         "Download",
         "Download plot",
         "floppy-o",
         "save_figure"
        ]
       ]
      }
     },
     "8fdec696530e4d11819fbe93c02003a3": {
      "model_module": "@jupyter-widgets/controls",
      "model_module_version": "1.5.0",
      "model_name": "IntSliderModel",
      "state": {
       "continuous_update": false,
       "layout": "IPY_MODEL_4a2e61d4e10a4b27972ef39a12625f84",
       "max": 10,
       "readout": false,
       "step": 0,
       "style": "IPY_MODEL_a9b51b6415674f7c8223aa28fa06af22"
      }
     },
     "909012e57cf443af86329ee7592cbec3": {
      "model_module": "@jupyter-widgets/controls",
      "model_module_version": "1.5.0",
      "model_name": "SliderStyleModel",
      "state": {
       "description_width": ""
      }
     },
     "90de4986e2424f1aa10296153a90691b": {
      "model_module": "@jupyter-widgets/controls",
      "model_module_version": "1.5.0",
      "model_name": "SliderStyleModel",
      "state": {
       "description_width": ""
      }
     },
     "915dcb4d50db4b2db5747b89a93d82b0": {
      "model_module": "@jupyter-widgets/base",
      "model_module_version": "1.2.0",
      "model_name": "LayoutModel",
      "state": {}
     },
     "916ee3940a7d4229b14381a30bc8654c": {
      "model_module": "@jupyter-widgets/base",
      "model_module_version": "1.2.0",
      "model_name": "LayoutModel",
      "state": {}
     },
     "91d13522985e47c197a99fe5fbc3af8c": {
      "model_module": "@jupyter-widgets/controls",
      "model_module_version": "1.5.0",
      "model_name": "SliderStyleModel",
      "state": {
       "description_width": ""
      }
     },
     "9290217908f34268bf9cd63646a32301": {
      "model_module": "@jupyter-widgets/base",
      "model_module_version": "1.2.0",
      "model_name": "LayoutModel",
      "state": {}
     },
     "92b33f56e9834c1cab1906f84c7e0570": {
      "model_module": "@jupyter-widgets/base",
      "model_module_version": "1.2.0",
      "model_name": "LayoutModel",
      "state": {}
     },
     "92e522d8d3004dd7a9d765e50a1af93c": {
      "model_module": "@jupyter-widgets/base",
      "model_module_version": "1.2.0",
      "model_name": "LayoutModel",
      "state": {}
     },
     "92f2245d3a284c49914cee81c89606ae": {
      "model_module": "@jupyter-widgets/base",
      "model_module_version": "1.2.0",
      "model_name": "LayoutModel",
      "state": {}
     },
     "93421e9bd0eb481db88c08d010942633": {
      "model_module": "@jupyter-widgets/controls",
      "model_module_version": "1.5.0",
      "model_name": "IntSliderModel",
      "state": {
       "continuous_update": false,
       "layout": "IPY_MODEL_aeb4681f45324920a914aeb8e01db7dd",
       "max": 10,
       "readout": false,
       "style": "IPY_MODEL_a99faaade5594dcd8401e568d75abfd1"
      }
     },
     "9350c9f2e9d644659b22dd83dda60886": {
      "model_module": "@jupyter-widgets/base",
      "model_module_version": "1.2.0",
      "model_name": "LayoutModel",
      "state": {}
     },
     "93e6fbd35c2d40198092baa9cbb3a82f": {
      "model_module": "jupyter-matplotlib",
      "model_module_version": "^0.10.1",
      "model_name": "ToolbarModel",
      "state": {
       "layout": "IPY_MODEL_839fcb0087b841b6b5b9f63d184a7787",
       "toolitems": [
        [
         "Home",
         "Reset original view",
         "home",
         "home"
        ],
        [
         "Back",
         "Back to previous view",
         "arrow-left",
         "back"
        ],
        [
         "Forward",
         "Forward to next view",
         "arrow-right",
         "forward"
        ],
        [
         "Pan",
         "Left button pans, Right button zooms\nx/y fixes axis, CTRL fixes aspect",
         "arrows",
         "pan"
        ],
        [
         "Zoom",
         "Zoom to rectangle\nx/y fixes axis, CTRL fixes aspect",
         "square-o",
         "zoom"
        ],
        [
         "Download",
         "Download plot",
         "floppy-o",
         "save_figure"
        ]
       ]
      }
     },
     "944589a9039d450eaa06cb77e82f1616": {
      "model_module": "@jupyter-widgets/base",
      "model_module_version": "1.2.0",
      "model_name": "LayoutModel",
      "state": {}
     },
     "9480e21c3173426ba357b782924c1ba1": {
      "model_module": "@jupyter-widgets/base",
      "model_module_version": "1.2.0",
      "model_name": "LayoutModel",
      "state": {}
     },
     "94d815bbc26f405a9bde3eb35b41c27b": {
      "model_module": "@jupyter-widgets/base",
      "model_module_version": "1.2.0",
      "model_name": "LayoutModel",
      "state": {}
     },
     "94f3b21614dc400cb2b534381de87d9e": {
      "model_module": "@jupyter-widgets/base",
      "model_module_version": "1.2.0",
      "model_name": "LayoutModel",
      "state": {}
     },
     "96786313446541c884f04861a3f9112e": {
      "model_module": "@jupyter-widgets/output",
      "model_module_version": "1.0.0",
      "model_name": "OutputModel",
      "state": {
       "layout": "IPY_MODEL_efbce1cd42f240e3a4f986497fff4be1"
      }
     },
     "96d571d35a814651841d81f482f0ada5": {
      "model_module": "@jupyter-widgets/controls",
      "model_module_version": "1.5.0",
      "model_name": "IntSliderModel",
      "state": {
       "continuous_update": false,
       "layout": "IPY_MODEL_b0736087b4754b778d4a2a753f564f7e",
       "max": 10,
       "readout": false,
       "style": "IPY_MODEL_01e0a4e291204c59bc486775e9e8e610"
      }
     },
     "976e026536b24b198451ba70afce4602": {
      "model_module": "@jupyter-widgets/base",
      "model_module_version": "1.2.0",
      "model_name": "LayoutModel",
      "state": {}
     },
     "977123a0f0bb45c6b15ecccd5a23f5cb": {
      "model_module": "@jupyter-widgets/controls",
      "model_module_version": "1.5.0",
      "model_name": "SliderStyleModel",
      "state": {
       "description_width": ""
      }
     },
     "97d82de0b62d4fbb8925b95b6622a505": {
      "model_module": "@jupyter-widgets/base",
      "model_module_version": "1.2.0",
      "model_name": "LayoutModel",
      "state": {}
     },
     "97de98b890ce47b9a67caa5093073d5b": {
      "model_module": "@jupyter-widgets/base",
      "model_module_version": "1.2.0",
      "model_name": "LayoutModel",
      "state": {}
     },
     "9800bac72ed241afa4a494227c36313f": {
      "model_module": "@jupyter-widgets/base",
      "model_module_version": "1.2.0",
      "model_name": "LayoutModel",
      "state": {}
     },
     "986ec52d6abd4c57801b64f7c6947829": {
      "model_module": "@jupyter-widgets/base",
      "model_module_version": "1.2.0",
      "model_name": "LayoutModel",
      "state": {}
     },
     "98a9dfc60cd04f75b331dea1731569b3": {
      "model_module": "@jupyter-widgets/base",
      "model_module_version": "1.2.0",
      "model_name": "LayoutModel",
      "state": {}
     },
     "991f5e4ad83c4842a2c4401375552c00": {
      "model_module": "jupyter-matplotlib",
      "model_module_version": "^0.10.1",
      "model_name": "ToolbarModel",
      "state": {
       "layout": "IPY_MODEL_b88752bb1e1247c1b40b9a6adf432c41",
       "toolitems": [
        [
         "Home",
         "Reset original view",
         "home",
         "home"
        ],
        [
         "Back",
         "Back to previous view",
         "arrow-left",
         "back"
        ],
        [
         "Forward",
         "Forward to next view",
         "arrow-right",
         "forward"
        ],
        [
         "Pan",
         "Left button pans, Right button zooms\nx/y fixes axis, CTRL fixes aspect",
         "arrows",
         "pan"
        ],
        [
         "Zoom",
         "Zoom to rectangle\nx/y fixes axis, CTRL fixes aspect",
         "square-o",
         "zoom"
        ],
        [
         "Download",
         "Download plot",
         "floppy-o",
         "save_figure"
        ]
       ]
      }
     },
     "994140b6aa194f859d404f593df0d413": {
      "model_module": "@jupyter-widgets/base",
      "model_module_version": "1.2.0",
      "model_name": "LayoutModel",
      "state": {}
     },
     "9969604f24bc44f08ffeced761e8ef3b": {
      "model_module": "@jupyter-widgets/base",
      "model_module_version": "1.2.0",
      "model_name": "LayoutModel",
      "state": {}
     },
     "99cd935f702a46008e1f98a9a1e2d729": {
      "model_module": "@jupyter-widgets/base",
      "model_module_version": "1.2.0",
      "model_name": "LayoutModel",
      "state": {}
     },
     "9a2a024149b14c5dbbfae06544728523": {
      "model_module": "@jupyter-widgets/base",
      "model_module_version": "1.2.0",
      "model_name": "LayoutModel",
      "state": {}
     },
     "9a382f37da1a44039d7267c0a55f2213": {
      "model_module": "jupyter-matplotlib",
      "model_module_version": "^0.10.1",
      "model_name": "ToolbarModel",
      "state": {
       "layout": "IPY_MODEL_8ac7f1b45d354b53bde07c4c35067570",
       "toolitems": [
        [
         "Home",
         "Reset original view",
         "home",
         "home"
        ],
        [
         "Back",
         "Back to previous view",
         "arrow-left",
         "back"
        ],
        [
         "Forward",
         "Forward to next view",
         "arrow-right",
         "forward"
        ],
        [
         "Pan",
         "Left button pans, Right button zooms\nx/y fixes axis, CTRL fixes aspect",
         "arrows",
         "pan"
        ],
        [
         "Zoom",
         "Zoom to rectangle\nx/y fixes axis, CTRL fixes aspect",
         "square-o",
         "zoom"
        ],
        [
         "Download",
         "Download plot",
         "floppy-o",
         "save_figure"
        ]
       ]
      }
     },
     "9aae987aad41450db0306c30aa5116d5": {
      "model_module": "jupyter-matplotlib",
      "model_module_version": "^0.10.1",
      "model_name": "ToolbarModel",
      "state": {
       "layout": "IPY_MODEL_383d83b3a54f49da87003e2592a4fc34",
       "toolitems": [
        [
         "Home",
         "Reset original view",
         "home",
         "home"
        ],
        [
         "Back",
         "Back to previous view",
         "arrow-left",
         "back"
        ],
        [
         "Forward",
         "Forward to next view",
         "arrow-right",
         "forward"
        ],
        [
         "Pan",
         "Left button pans, Right button zooms\nx/y fixes axis, CTRL fixes aspect",
         "arrows",
         "pan"
        ],
        [
         "Zoom",
         "Zoom to rectangle\nx/y fixes axis, CTRL fixes aspect",
         "square-o",
         "zoom"
        ],
        [
         "Download",
         "Download plot",
         "floppy-o",
         "save_figure"
        ]
       ]
      }
     },
     "9af92c847d2d4fabab09f7e5dc65db37": {
      "model_module": "@jupyter-widgets/controls",
      "model_module_version": "1.5.0",
      "model_name": "SliderStyleModel",
      "state": {
       "description_width": ""
      }
     },
     "9b695e4fb9e543fc97928f6418abe68c": {
      "model_module": "@jupyter-widgets/base",
      "model_module_version": "1.2.0",
      "model_name": "LayoutModel",
      "state": {}
     },
     "9b69f8633fb948cdac962d2cc81af726": {
      "model_module": "@jupyter-widgets/controls",
      "model_module_version": "1.5.0",
      "model_name": "SliderStyleModel",
      "state": {
       "description_width": ""
      }
     },
     "9c6892ca79e9438d8ebf8d829e0f3d4f": {
      "model_module": "jupyter-matplotlib",
      "model_module_version": "^0.10.1",
      "model_name": "ToolbarModel",
      "state": {
       "layout": "IPY_MODEL_9f0dbf13f3e149a6a63854249427f457",
       "toolitems": [
        [
         "Home",
         "Reset original view",
         "home",
         "home"
        ],
        [
         "Back",
         "Back to previous view",
         "arrow-left",
         "back"
        ],
        [
         "Forward",
         "Forward to next view",
         "arrow-right",
         "forward"
        ],
        [
         "Pan",
         "Left button pans, Right button zooms\nx/y fixes axis, CTRL fixes aspect",
         "arrows",
         "pan"
        ],
        [
         "Zoom",
         "Zoom to rectangle\nx/y fixes axis, CTRL fixes aspect",
         "square-o",
         "zoom"
        ],
        [
         "Download",
         "Download plot",
         "floppy-o",
         "save_figure"
        ]
       ]
      }
     },
     "9d7aa336aa9241dd9ee4f599d6b22a4f": {
      "model_module": "@jupyter-widgets/base",
      "model_module_version": "1.2.0",
      "model_name": "LayoutModel",
      "state": {}
     },
     "9e07a126a8af41f8b5007e149d587fc5": {
      "model_module": "@jupyter-widgets/controls",
      "model_module_version": "1.5.0",
      "model_name": "SliderStyleModel",
      "state": {
       "description_width": ""
      }
     },
     "9e11bbd1c6f34b2db5d7e1778c80cf5b": {
      "model_module": "jupyter-matplotlib",
      "model_module_version": "^0.10.1",
      "model_name": "ToolbarModel",
      "state": {
       "layout": "IPY_MODEL_9969604f24bc44f08ffeced761e8ef3b",
       "toolitems": [
        [
         "Home",
         "Reset original view",
         "home",
         "home"
        ],
        [
         "Back",
         "Back to previous view",
         "arrow-left",
         "back"
        ],
        [
         "Forward",
         "Forward to next view",
         "arrow-right",
         "forward"
        ],
        [
         "Pan",
         "Left button pans, Right button zooms\nx/y fixes axis, CTRL fixes aspect",
         "arrows",
         "pan"
        ],
        [
         "Zoom",
         "Zoom to rectangle\nx/y fixes axis, CTRL fixes aspect",
         "square-o",
         "zoom"
        ],
        [
         "Download",
         "Download plot",
         "floppy-o",
         "save_figure"
        ]
       ]
      }
     },
     "9e70f61b4d714d1c8d7c6bb1515763de": {
      "model_module": "@jupyter-widgets/base",
      "model_module_version": "1.2.0",
      "model_name": "LayoutModel",
      "state": {}
     },
     "9f0dbf13f3e149a6a63854249427f457": {
      "model_module": "@jupyter-widgets/base",
      "model_module_version": "1.2.0",
      "model_name": "LayoutModel",
      "state": {}
     },
     "9f6d91f6d8c846cc95b68f13266b718b": {
      "model_module": "@jupyter-widgets/base",
      "model_module_version": "1.2.0",
      "model_name": "LayoutModel",
      "state": {}
     },
     "9fb8ff7a5777419390a3cc3d2bff09ba": {
      "model_module": "@jupyter-widgets/controls",
      "model_module_version": "1.5.0",
      "model_name": "IntSliderModel",
      "state": {
       "layout": "IPY_MODEL_5fa2c6550c3748618f719107cdd6a2c6",
       "max": 10,
       "readout": false,
       "style": "IPY_MODEL_d00c7c8d10bb4ff3b53aad5d7f68d4d2",
       "value": 4
      }
     },
     "a02b68af4c6b43b096af11b281c88124": {
      "model_module": "@jupyter-widgets/base",
      "model_module_version": "1.2.0",
      "model_name": "LayoutModel",
      "state": {}
     },
     "a053242d88d24ad480b08a9d2654ca6d": {
      "model_module": "@jupyter-widgets/controls",
      "model_module_version": "1.5.0",
      "model_name": "IntSliderModel",
      "state": {
       "description": "l",
       "layout": "IPY_MODEL_c563c5b1f6654c20a035c17ae3eba4fc",
       "readout": false,
       "style": "IPY_MODEL_f4a99c6f95f74aec90edc1f50fddf2e0",
       "value": 15
      }
     },
     "a1cf343316254ee0b360c493faff5f99": {
      "model_module": "@jupyter-widgets/controls",
      "model_module_version": "1.5.0",
      "model_name": "SliderStyleModel",
      "state": {
       "description_width": ""
      }
     },
     "a1d7a3ec8bb34498a2571f9f8974c3ae": {
      "model_module": "@jupyter-widgets/controls",
      "model_module_version": "1.5.0",
      "model_name": "SliderStyleModel",
      "state": {
       "description_width": ""
      }
     },
     "a2193ac74bab47f081d914b1c28f87e4": {
      "model_module": "@jupyter-widgets/base",
      "model_module_version": "1.2.0",
      "model_name": "LayoutModel",
      "state": {}
     },
     "a21cf5702bb04c5e8b3ee81205e78d50": {
      "model_module": "@jupyter-widgets/controls",
      "model_module_version": "1.5.0",
      "model_name": "SliderStyleModel",
      "state": {
       "description_width": ""
      }
     },
     "a22b40c98eec43c9933f5dbbb84eecf8": {
      "model_module": "@jupyter-widgets/base",
      "model_module_version": "1.2.0",
      "model_name": "LayoutModel",
      "state": {}
     },
     "a2535c9cf67744459563e2dc49548503": {
      "model_module": "@jupyter-widgets/controls",
      "model_module_version": "1.5.0",
      "model_name": "SliderStyleModel",
      "state": {
       "description_width": ""
      }
     },
     "a33d783c6a7e4fd283823eccf3034890": {
      "model_module": "@jupyter-widgets/base",
      "model_module_version": "1.2.0",
      "model_name": "LayoutModel",
      "state": {}
     },
     "a3d594f03cbb4fcea86a3e52e3e6a45a": {
      "model_module": "@jupyter-widgets/base",
      "model_module_version": "1.2.0",
      "model_name": "LayoutModel",
      "state": {}
     },
     "a424de102a464977bd30af914f693de9": {
      "model_module": "@jupyter-widgets/controls",
      "model_module_version": "1.5.0",
      "model_name": "SliderStyleModel",
      "state": {
       "description_width": ""
      }
     },
     "a44d1ddcfe73427895b7791e4aa891a2": {
      "model_module": "@jupyter-widgets/base",
      "model_module_version": "1.2.0",
      "model_name": "LayoutModel",
      "state": {}
     },
     "a5467d97af6f44949cdb0abc75e9d3af": {
      "model_module": "@jupyter-widgets/controls",
      "model_module_version": "1.5.0",
      "model_name": "SliderStyleModel",
      "state": {
       "description_width": ""
      }
     },
     "a5c8562ea0c44ccf9dca0db28bdb1b35": {
      "model_module": "@jupyter-widgets/base",
      "model_module_version": "1.2.0",
      "model_name": "LayoutModel",
      "state": {}
     },
     "a5eec7a1fbab4ce488b2e638caf5637d": {
      "model_module": "@jupyter-widgets/base",
      "model_module_version": "1.2.0",
      "model_name": "LayoutModel",
      "state": {}
     },
     "a73f3295a78c48009580aeff5e644adf": {
      "model_module": "@jupyter-widgets/controls",
      "model_module_version": "1.5.0",
      "model_name": "SliderStyleModel",
      "state": {
       "description_width": ""
      }
     },
     "a761224d6d3848fdaee7b6f5e16dbbd2": {
      "model_module": "@jupyter-widgets/base",
      "model_module_version": "1.2.0",
      "model_name": "LayoutModel",
      "state": {}
     },
     "a875489ca79e45af904c10c859e58bbc": {
      "model_module": "@jupyter-widgets/base",
      "model_module_version": "1.2.0",
      "model_name": "LayoutModel",
      "state": {}
     },
     "a94a2871a54342fd8add3188aa1dd8b0": {
      "model_module": "@jupyter-widgets/base",
      "model_module_version": "1.2.0",
      "model_name": "LayoutModel",
      "state": {}
     },
     "a957d51b6a00401eadf3b5375a3832d6": {
      "model_module": "@jupyter-widgets/output",
      "model_module_version": "1.0.0",
      "model_name": "OutputModel",
      "state": {
       "layout": "IPY_MODEL_ca20d6f883fd4e5c97b92f0e65672a32"
      }
     },
     "a966417d3e18437e985e9ed19b484b5a": {
      "model_module": "@jupyter-widgets/base",
      "model_module_version": "1.2.0",
      "model_name": "LayoutModel",
      "state": {}
     },
     "a99faaade5594dcd8401e568d75abfd1": {
      "model_module": "@jupyter-widgets/controls",
      "model_module_version": "1.5.0",
      "model_name": "SliderStyleModel",
      "state": {
       "description_width": ""
      }
     },
     "a9b51b6415674f7c8223aa28fa06af22": {
      "model_module": "@jupyter-widgets/controls",
      "model_module_version": "1.5.0",
      "model_name": "SliderStyleModel",
      "state": {
       "description_width": ""
      }
     },
     "a9b8b443057045b5a2f372b8b34928a4": {
      "model_module": "jupyter-matplotlib",
      "model_module_version": "^0.10.1",
      "model_name": "ToolbarModel",
      "state": {
       "layout": "IPY_MODEL_655bced6fb9142c383c5f28d2e29081d",
       "toolitems": [
        [
         "Home",
         "Reset original view",
         "home",
         "home"
        ],
        [
         "Back",
         "Back to previous view",
         "arrow-left",
         "back"
        ],
        [
         "Forward",
         "Forward to next view",
         "arrow-right",
         "forward"
        ],
        [
         "Pan",
         "Left button pans, Right button zooms\nx/y fixes axis, CTRL fixes aspect",
         "arrows",
         "pan"
        ],
        [
         "Zoom",
         "Zoom to rectangle\nx/y fixes axis, CTRL fixes aspect",
         "square-o",
         "zoom"
        ],
        [
         "Download",
         "Download plot",
         "floppy-o",
         "save_figure"
        ]
       ]
      }
     },
     "aa3fe2bd90f449748192be10637958c7": {
      "model_module": "@jupyter-widgets/controls",
      "model_module_version": "1.5.0",
      "model_name": "IntSliderModel",
      "state": {
       "continuous_update": false,
       "layout": "IPY_MODEL_7e0e08e3505542c2be4871a9584ec728",
       "max": 10,
       "readout": false,
       "style": "IPY_MODEL_d6c560cca59848f0b005069fd90d5e55",
       "value": 5
      }
     },
     "aa611337aa524e43a203ebc4a62068f6": {
      "model_module": "@jupyter-widgets/base",
      "model_module_version": "1.2.0",
      "model_name": "LayoutModel",
      "state": {}
     },
     "aa8bb2998e6b4ea38de0d23870833ce0": {
      "model_module": "@jupyter-widgets/controls",
      "model_module_version": "1.5.0",
      "model_name": "SliderStyleModel",
      "state": {
       "description_width": ""
      }
     },
     "aaf4c25065734ca389a521b24a236713": {
      "model_module": "jupyter-matplotlib",
      "model_module_version": "^0.10.1",
      "model_name": "ToolbarModel",
      "state": {
       "layout": "IPY_MODEL_15aa213671f540b48193a27fd250c006",
       "toolitems": [
        [
         "Home",
         "Reset original view",
         "home",
         "home"
        ],
        [
         "Back",
         "Back to previous view",
         "arrow-left",
         "back"
        ],
        [
         "Forward",
         "Forward to next view",
         "arrow-right",
         "forward"
        ],
        [
         "Pan",
         "Left button pans, Right button zooms\nx/y fixes axis, CTRL fixes aspect",
         "arrows",
         "pan"
        ],
        [
         "Zoom",
         "Zoom to rectangle\nx/y fixes axis, CTRL fixes aspect",
         "square-o",
         "zoom"
        ],
        [
         "Download",
         "Download plot",
         "floppy-o",
         "save_figure"
        ]
       ]
      }
     },
     "ab0d4e4aeb734c9bacf51a9defb7143e": {
      "model_module": "@jupyter-widgets/base",
      "model_module_version": "1.2.0",
      "model_name": "LayoutModel",
      "state": {}
     },
     "ab1c66c227034ae7aee472b4d8c25133": {
      "model_module": "@jupyter-widgets/base",
      "model_module_version": "1.2.0",
      "model_name": "LayoutModel",
      "state": {}
     },
     "ab2e1859c99a48e0bec6e80821e95fef": {
      "model_module": "@jupyter-widgets/controls",
      "model_module_version": "1.5.0",
      "model_name": "SliderStyleModel",
      "state": {
       "description_width": ""
      }
     },
     "abac77cda039439b8e70b29c54e190a8": {
      "model_module": "@jupyter-widgets/base",
      "model_module_version": "1.2.0",
      "model_name": "LayoutModel",
      "state": {}
     },
     "ad3965806c484cd29064796329ca33fa": {
      "model_module": "@jupyter-widgets/controls",
      "model_module_version": "1.5.0",
      "model_name": "IntSliderModel",
      "state": {
       "continuous_update": false,
       "layout": "IPY_MODEL_92e522d8d3004dd7a9d765e50a1af93c",
       "max": 10,
       "readout": false,
       "step": 0,
       "style": "IPY_MODEL_e414be34f89b40c68da6eef35b4c281e"
      }
     },
     "ade13c86041547d7a9c6a450c8da473c": {
      "model_module": "@jupyter-widgets/base",
      "model_module_version": "1.2.0",
      "model_name": "LayoutModel",
      "state": {}
     },
     "adf3f17bec13460b9a7f1aef26440760": {
      "model_module": "@jupyter-widgets/base",
      "model_module_version": "1.2.0",
      "model_name": "LayoutModel",
      "state": {}
     },
     "ae2ad99532464c909c29adc9600d9a5b": {
      "model_module": "@jupyter-widgets/base",
      "model_module_version": "1.2.0",
      "model_name": "LayoutModel",
      "state": {}
     },
     "ae55f3204b674853ab53dcd1a608226a": {
      "model_module": "@jupyter-widgets/base",
      "model_module_version": "1.2.0",
      "model_name": "LayoutModel",
      "state": {}
     },
     "aeb4681f45324920a914aeb8e01db7dd": {
      "model_module": "@jupyter-widgets/base",
      "model_module_version": "1.2.0",
      "model_name": "LayoutModel",
      "state": {}
     },
     "aec3b6f96fc64859aa69ee5309615937": {
      "model_module": "@jupyter-widgets/base",
      "model_module_version": "1.2.0",
      "model_name": "LayoutModel",
      "state": {}
     },
     "b02b61ecb02b4bfea22613c3d4d6be29": {
      "model_module": "jupyter-matplotlib",
      "model_module_version": "^0.10.1",
      "model_name": "ToolbarModel",
      "state": {
       "layout": "IPY_MODEL_591e464223194567841d2c16ab2a4d58",
       "toolitems": [
        [
         "Home",
         "Reset original view",
         "home",
         "home"
        ],
        [
         "Back",
         "Back to previous view",
         "arrow-left",
         "back"
        ],
        [
         "Forward",
         "Forward to next view",
         "arrow-right",
         "forward"
        ],
        [
         "Pan",
         "Left button pans, Right button zooms\nx/y fixes axis, CTRL fixes aspect",
         "arrows",
         "pan"
        ],
        [
         "Zoom",
         "Zoom to rectangle\nx/y fixes axis, CTRL fixes aspect",
         "square-o",
         "zoom"
        ],
        [
         "Download",
         "Download plot",
         "floppy-o",
         "save_figure"
        ]
       ]
      }
     },
     "b04f24f53159406c8aa7fff18abbeb43": {
      "model_module": "jupyter-matplotlib",
      "model_module_version": "^0.10.1",
      "model_name": "ToolbarModel",
      "state": {
       "layout": "IPY_MODEL_4c1c885a773545d998121af0df64c49e",
       "toolitems": [
        [
         "Home",
         "Reset original view",
         "home",
         "home"
        ],
        [
         "Back",
         "Back to previous view",
         "arrow-left",
         "back"
        ],
        [
         "Forward",
         "Forward to next view",
         "arrow-right",
         "forward"
        ],
        [
         "Pan",
         "Left button pans, Right button zooms\nx/y fixes axis, CTRL fixes aspect",
         "arrows",
         "pan"
        ],
        [
         "Zoom",
         "Zoom to rectangle\nx/y fixes axis, CTRL fixes aspect",
         "square-o",
         "zoom"
        ],
        [
         "Download",
         "Download plot",
         "floppy-o",
         "save_figure"
        ]
       ]
      }
     },
     "b0736087b4754b778d4a2a753f564f7e": {
      "model_module": "@jupyter-widgets/base",
      "model_module_version": "1.2.0",
      "model_name": "LayoutModel",
      "state": {}
     },
     "b0b68ea8c7f94004be624db8b9bb9d7d": {
      "model_module": "@jupyter-widgets/controls",
      "model_module_version": "1.5.0",
      "model_name": "SliderStyleModel",
      "state": {
       "description_width": ""
      }
     },
     "b364952a73cf4ae281ea36b0b5a8f737": {
      "model_module": "@jupyter-widgets/base",
      "model_module_version": "1.2.0",
      "model_name": "LayoutModel",
      "state": {}
     },
     "b376859795db42129bb09e7487f3b49a": {
      "model_module": "jupyter-matplotlib",
      "model_module_version": "^0.10.1",
      "model_name": "ToolbarModel",
      "state": {
       "layout": "IPY_MODEL_48af142fff7245b28d90a7858d3c509f",
       "toolitems": [
        [
         "Home",
         "Reset original view",
         "home",
         "home"
        ],
        [
         "Back",
         "Back to previous view",
         "arrow-left",
         "back"
        ],
        [
         "Forward",
         "Forward to next view",
         "arrow-right",
         "forward"
        ],
        [
         "Pan",
         "Left button pans, Right button zooms\nx/y fixes axis, CTRL fixes aspect",
         "arrows",
         "pan"
        ],
        [
         "Zoom",
         "Zoom to rectangle\nx/y fixes axis, CTRL fixes aspect",
         "square-o",
         "zoom"
        ],
        [
         "Download",
         "Download plot",
         "floppy-o",
         "save_figure"
        ]
       ]
      }
     },
     "b55365c6bf43493fa94c1ba91bde33a0": {
      "model_module": "jupyter-matplotlib",
      "model_module_version": "^0.10.1",
      "model_name": "ToolbarModel",
      "state": {
       "layout": "IPY_MODEL_3591bdad5aa44ef198b7e59f12ab0333",
       "toolitems": [
        [
         "Home",
         "Reset original view",
         "home",
         "home"
        ],
        [
         "Back",
         "Back to previous view",
         "arrow-left",
         "back"
        ],
        [
         "Forward",
         "Forward to next view",
         "arrow-right",
         "forward"
        ],
        [
         "Pan",
         "Left button pans, Right button zooms\nx/y fixes axis, CTRL fixes aspect",
         "arrows",
         "pan"
        ],
        [
         "Zoom",
         "Zoom to rectangle\nx/y fixes axis, CTRL fixes aspect",
         "square-o",
         "zoom"
        ],
        [
         "Download",
         "Download plot",
         "floppy-o",
         "save_figure"
        ]
       ]
      }
     },
     "b5dd7847667649dfa0a57ead1ef7c911": {
      "model_module": "@jupyter-widgets/controls",
      "model_module_version": "1.5.0",
      "model_name": "VBoxModel",
      "state": {
       "_dom_classes": [
        "widget-interact"
       ],
       "children": [
        "IPY_MODEL_124d0e57349c4fb1b684a31c6b5053ae",
        "IPY_MODEL_fd1d5dcb79a24ae892560ff5b4c9498e"
       ],
       "layout": "IPY_MODEL_2c411611af1b444ea67b12f0168ccef0"
      }
     },
     "b646eaefbc784ae39dc753731d6d02bb": {
      "model_module": "@jupyter-widgets/controls",
      "model_module_version": "1.5.0",
      "model_name": "SliderStyleModel",
      "state": {
       "description_width": ""
      }
     },
     "b7596eac5ac546f088c496cc42b76df2": {
      "model_module": "@jupyter-widgets/base",
      "model_module_version": "1.2.0",
      "model_name": "LayoutModel",
      "state": {}
     },
     "b779b4d695bf4bdd9c76f93bea5f660b": {
      "model_module": "@jupyter-widgets/controls",
      "model_module_version": "1.5.0",
      "model_name": "IntSliderModel",
      "state": {
       "layout": "IPY_MODEL_50c22a49aad9425abaa42efb46fdac01",
       "readout": false,
       "style": "IPY_MODEL_a424de102a464977bd30af914f693de9"
      }
     },
     "b7f275e0516748f0bdc2cfc35705dfcc": {
      "model_module": "@jupyter-widgets/controls",
      "model_module_version": "1.5.0",
      "model_name": "IntSliderModel",
      "state": {
       "layout": "IPY_MODEL_1800791e017c46be8f4d222a0156854b",
       "readout": false,
       "style": "IPY_MODEL_15063d897aa84d4790a5b02479af2511"
      }
     },
     "b836cbcc262348378d8a84faa1d8288a": {
      "model_module": "@jupyter-widgets/base",
      "model_module_version": "1.2.0",
      "model_name": "LayoutModel",
      "state": {}
     },
     "b884c4db83cb44678fc188b563eb8c7b": {
      "model_module": "@jupyter-widgets/base",
      "model_module_version": "1.2.0",
      "model_name": "LayoutModel",
      "state": {}
     },
     "b88752bb1e1247c1b40b9a6adf432c41": {
      "model_module": "@jupyter-widgets/base",
      "model_module_version": "1.2.0",
      "model_name": "LayoutModel",
      "state": {}
     },
     "b98eab2fbed84a73a928691d05bf6236": {
      "model_module": "@jupyter-widgets/base",
      "model_module_version": "1.2.0",
      "model_name": "LayoutModel",
      "state": {}
     },
     "b9a69ea490cd42de8ffb258af2986556": {
      "model_module": "jupyter-matplotlib",
      "model_module_version": "^0.10.1",
      "model_name": "ToolbarModel",
      "state": {
       "layout": "IPY_MODEL_a22b40c98eec43c9933f5dbbb84eecf8",
       "toolitems": [
        [
         "Home",
         "Reset original view",
         "home",
         "home"
        ],
        [
         "Back",
         "Back to previous view",
         "arrow-left",
         "back"
        ],
        [
         "Forward",
         "Forward to next view",
         "arrow-right",
         "forward"
        ],
        [
         "Pan",
         "Left button pans, Right button zooms\nx/y fixes axis, CTRL fixes aspect",
         "arrows",
         "pan"
        ],
        [
         "Zoom",
         "Zoom to rectangle\nx/y fixes axis, CTRL fixes aspect",
         "square-o",
         "zoom"
        ],
        [
         "Download",
         "Download plot",
         "floppy-o",
         "save_figure"
        ]
       ]
      }
     },
     "ba37ea470cd741d2bedd460740673b6f": {
      "model_module": "jupyter-matplotlib",
      "model_module_version": "^0.10.1",
      "model_name": "ToolbarModel",
      "state": {
       "layout": "IPY_MODEL_a2193ac74bab47f081d914b1c28f87e4",
       "toolitems": [
        [
         "Home",
         "Reset original view",
         "home",
         "home"
        ],
        [
         "Back",
         "Back to previous view",
         "arrow-left",
         "back"
        ],
        [
         "Forward",
         "Forward to next view",
         "arrow-right",
         "forward"
        ],
        [
         "Pan",
         "Left button pans, Right button zooms\nx/y fixes axis, CTRL fixes aspect",
         "arrows",
         "pan"
        ],
        [
         "Zoom",
         "Zoom to rectangle\nx/y fixes axis, CTRL fixes aspect",
         "square-o",
         "zoom"
        ],
        [
         "Download",
         "Download plot",
         "floppy-o",
         "save_figure"
        ]
       ]
      }
     },
     "ba77eb10549f4fcb87f223d4c9d7cc8a": {
      "model_module": "@jupyter-widgets/base",
      "model_module_version": "1.2.0",
      "model_name": "LayoutModel",
      "state": {}
     },
     "bb9bb19715a6475db7f3ee0712b37db9": {
      "model_module": "@jupyter-widgets/controls",
      "model_module_version": "1.5.0",
      "model_name": "IntSliderModel",
      "state": {
       "description": "l",
       "layout": "IPY_MODEL_d4a3210f07f247698685402b63d41fe7",
       "readout": false,
       "style": "IPY_MODEL_4fbc3d7eec5c48dc9a3673439a485de5"
      }
     },
     "bc3ed520126f4804959adf566505ad93": {
      "model_module": "@jupyter-widgets/controls",
      "model_module_version": "1.5.0",
      "model_name": "SliderStyleModel",
      "state": {
       "description_width": ""
      }
     },
     "bd0eec39c7704b708f99b73a7ac68aac": {
      "model_module": "@jupyter-widgets/controls",
      "model_module_version": "1.5.0",
      "model_name": "IntSliderModel",
      "state": {
       "layout": "IPY_MODEL_a5c8562ea0c44ccf9dca0db28bdb1b35",
       "readout": false,
       "style": "IPY_MODEL_2c416e37bd4547e685e3c61aa3c8444e"
      }
     },
     "bd7c0b3a45be454a8a6e49dc91b91701": {
      "model_module": "@jupyter-widgets/base",
      "model_module_version": "1.2.0",
      "model_name": "LayoutModel",
      "state": {}
     },
     "bd8c7714684a4b3781ff518a3186de5f": {
      "model_module": "@jupyter-widgets/base",
      "model_module_version": "1.2.0",
      "model_name": "LayoutModel",
      "state": {}
     },
     "be00f999e54448e288bc2761fff63689": {
      "model_module": "@jupyter-widgets/controls",
      "model_module_version": "1.5.0",
      "model_name": "VBoxModel",
      "state": {
       "_dom_classes": [
        "widget-interact"
       ],
       "children": [
        "IPY_MODEL_c771d84229d444468b34360206b972dc",
        "IPY_MODEL_4b82c8af25ce4cef874dd6193b36577f"
       ],
       "layout": "IPY_MODEL_adf3f17bec13460b9a7f1aef26440760"
      }
     },
     "be09a6fd57bd4ec884d821ce60fd793c": {
      "model_module": "@jupyter-widgets/base",
      "model_module_version": "1.2.0",
      "model_name": "LayoutModel",
      "state": {}
     },
     "be97b99dbcf14ccbb7a6b04ff7b727b9": {
      "model_module": "@jupyter-widgets/base",
      "model_module_version": "1.2.0",
      "model_name": "LayoutModel",
      "state": {}
     },
     "beebfb822f2b4512b1b40199d649ad05": {
      "model_module": "@jupyter-widgets/controls",
      "model_module_version": "1.5.0",
      "model_name": "SliderStyleModel",
      "state": {
       "description_width": ""
      }
     },
     "c067d6049cba418b96672c3f9743d3e5": {
      "model_module": "@jupyter-widgets/base",
      "model_module_version": "1.2.0",
      "model_name": "LayoutModel",
      "state": {}
     },
     "c0b5a59e37044fe580a819a50cbe6a13": {
      "model_module": "@jupyter-widgets/controls",
      "model_module_version": "1.5.0",
      "model_name": "IntSliderModel",
      "state": {
       "layout": "IPY_MODEL_dc6e59af1cd14b059b5386bf590b0aa7",
       "readout": false,
       "style": "IPY_MODEL_ab2e1859c99a48e0bec6e80821e95fef"
      }
     },
     "c1202004892643768bf5660aadeddf3a": {
      "model_module": "@jupyter-widgets/base",
      "model_module_version": "1.2.0",
      "model_name": "LayoutModel",
      "state": {}
     },
     "c15ab5dd52584019bdce3106885121ca": {
      "model_module": "@jupyter-widgets/base",
      "model_module_version": "1.2.0",
      "model_name": "LayoutModel",
      "state": {}
     },
     "c18bac0d7c3645039c1f6bce41c482ff": {
      "model_module": "@jupyter-widgets/controls",
      "model_module_version": "1.5.0",
      "model_name": "SliderStyleModel",
      "state": {
       "description_width": ""
      }
     },
     "c18c08f5ce594d4f9410a516c59fe98b": {
      "model_module": "@jupyter-widgets/base",
      "model_module_version": "1.2.0",
      "model_name": "LayoutModel",
      "state": {}
     },
     "c1f24a01ba0547cda88fbe4a4e78fbb6": {
      "model_module": "jupyter-matplotlib",
      "model_module_version": "^0.10.1",
      "model_name": "ToolbarModel",
      "state": {
       "layout": "IPY_MODEL_4e6dfc67efb14eea932216528d630459",
       "toolitems": [
        [
         "Home",
         "Reset original view",
         "home",
         "home"
        ],
        [
         "Back",
         "Back to previous view",
         "arrow-left",
         "back"
        ],
        [
         "Forward",
         "Forward to next view",
         "arrow-right",
         "forward"
        ],
        [
         "Pan",
         "Left button pans, Right button zooms\nx/y fixes axis, CTRL fixes aspect",
         "arrows",
         "pan"
        ],
        [
         "Zoom",
         "Zoom to rectangle\nx/y fixes axis, CTRL fixes aspect",
         "square-o",
         "zoom"
        ],
        [
         "Download",
         "Download plot",
         "floppy-o",
         "save_figure"
        ]
       ]
      }
     },
     "c2227f02c9304219b88edb4f6a661a50": {
      "model_module": "jupyter-matplotlib",
      "model_module_version": "^0.10.1",
      "model_name": "ToolbarModel",
      "state": {
       "layout": "IPY_MODEL_06799525caa54d11aa7be8b8f4b7e9ff",
       "toolitems": [
        [
         "Home",
         "Reset original view",
         "home",
         "home"
        ],
        [
         "Back",
         "Back to previous view",
         "arrow-left",
         "back"
        ],
        [
         "Forward",
         "Forward to next view",
         "arrow-right",
         "forward"
        ],
        [
         "Pan",
         "Left button pans, Right button zooms\nx/y fixes axis, CTRL fixes aspect",
         "arrows",
         "pan"
        ],
        [
         "Zoom",
         "Zoom to rectangle\nx/y fixes axis, CTRL fixes aspect",
         "square-o",
         "zoom"
        ],
        [
         "Download",
         "Download plot",
         "floppy-o",
         "save_figure"
        ]
       ]
      }
     },
     "c24785cea0f643259efdb5c62e785f64": {
      "model_module": "@jupyter-widgets/base",
      "model_module_version": "1.2.0",
      "model_name": "LayoutModel",
      "state": {}
     },
     "c330019455dd41429a789865a199a178": {
      "model_module": "@jupyter-widgets/base",
      "model_module_version": "1.2.0",
      "model_name": "LayoutModel",
      "state": {}
     },
     "c4979f291a984598a374dce7f54c614c": {
      "model_module": "@jupyter-widgets/base",
      "model_module_version": "1.2.0",
      "model_name": "LayoutModel",
      "state": {}
     },
     "c4a9c6a35ee548908ed2f14f32d0479b": {
      "model_module": "@jupyter-widgets/base",
      "model_module_version": "1.2.0",
      "model_name": "LayoutModel",
      "state": {}
     },
     "c50f233403674eaa9efa513db23308ee": {
      "model_module": "@jupyter-widgets/output",
      "model_module_version": "1.0.0",
      "model_name": "OutputModel",
      "state": {
       "layout": "IPY_MODEL_f35d92b715114c14a7ee62eb761c2cbe"
      }
     },
     "c51330da1e1642ccb96bd7562ea81cea": {
      "model_module": "@jupyter-widgets/base",
      "model_module_version": "1.2.0",
      "model_name": "LayoutModel",
      "state": {}
     },
     "c563c5b1f6654c20a035c17ae3eba4fc": {
      "model_module": "@jupyter-widgets/base",
      "model_module_version": "1.2.0",
      "model_name": "LayoutModel",
      "state": {}
     },
     "c5a3f999f9f64d8b9da4ab9b9d2244ca": {
      "model_module": "@jupyter-widgets/controls",
      "model_module_version": "1.5.0",
      "model_name": "IntSliderModel",
      "state": {
       "continuous_update": false,
       "layout": "IPY_MODEL_c5c0603376584851bb19a5666c6156aa",
       "max": 10,
       "readout": false,
       "step": 0,
       "style": "IPY_MODEL_d708f21b753044208c5d2c4d65cc3490"
      }
     },
     "c5c0603376584851bb19a5666c6156aa": {
      "model_module": "@jupyter-widgets/base",
      "model_module_version": "1.2.0",
      "model_name": "LayoutModel",
      "state": {}
     },
     "c6a6c339d61240b980e7420af03659ac": {
      "model_module": "@jupyter-widgets/base",
      "model_module_version": "1.2.0",
      "model_name": "LayoutModel",
      "state": {}
     },
     "c771d84229d444468b34360206b972dc": {
      "model_module": "@jupyter-widgets/controls",
      "model_module_version": "1.5.0",
      "model_name": "IntSliderModel",
      "state": {
       "description": "l",
       "layout": "IPY_MODEL_be97b99dbcf14ccbb7a6b04ff7b727b9",
       "readout": false,
       "style": "IPY_MODEL_357173cfed9342848c696fcee5ec5a06",
       "value": 49
      }
     },
     "c7a58a7432fc487e8dca95b0a213b284": {
      "model_module": "@jupyter-widgets/controls",
      "model_module_version": "1.5.0",
      "model_name": "IntSliderModel",
      "state": {
       "continuous_update": false,
       "layout": "IPY_MODEL_81de63e43d514b1f8c45460b387068f1",
       "max": 10,
       "readout": false,
       "style": "IPY_MODEL_8deb27f199d847d793c616390dff491e"
      }
     },
     "c7caed9f3dae4661a26f67a0c465ab14": {
      "model_module": "@jupyter-widgets/controls",
      "model_module_version": "1.5.0",
      "model_name": "SliderStyleModel",
      "state": {
       "description_width": ""
      }
     },
     "c8117ec0eda24e7786e8ee397fbfc4a3": {
      "model_module": "@jupyter-widgets/base",
      "model_module_version": "1.2.0",
      "model_name": "LayoutModel",
      "state": {}
     },
     "c856f36d438e4574820e434cf2b46cdb": {
      "model_module": "@jupyter-widgets/controls",
      "model_module_version": "1.5.0",
      "model_name": "IntSliderModel",
      "state": {
       "layout": "IPY_MODEL_4e04caaaf3544d53aefdc9bf14cde35b",
       "readout": false,
       "style": "IPY_MODEL_909012e57cf443af86329ee7592cbec3",
       "value": 86
      }
     },
     "c9ba7a5c92c448258a16fd241cc4292b": {
      "model_module": "@jupyter-widgets/base",
      "model_module_version": "1.2.0",
      "model_name": "LayoutModel",
      "state": {}
     },
     "c9eead7d1655437d8f4716d95893a626": {
      "model_module": "@jupyter-widgets/controls",
      "model_module_version": "1.5.0",
      "model_name": "SliderStyleModel",
      "state": {
       "description_width": ""
      }
     },
     "ca20d6f883fd4e5c97b92f0e65672a32": {
      "model_module": "@jupyter-widgets/base",
      "model_module_version": "1.2.0",
      "model_name": "LayoutModel",
      "state": {}
     },
     "caa87547671245ab8d8d8b408811a6dc": {
      "model_module": "@jupyter-widgets/base",
      "model_module_version": "1.2.0",
      "model_name": "LayoutModel",
      "state": {}
     },
     "cb163e2ef93c433f9c7f3d3d39ea4c22": {
      "model_module": "@jupyter-widgets/controls",
      "model_module_version": "1.5.0",
      "model_name": "SliderStyleModel",
      "state": {
       "description_width": ""
      }
     },
     "cc177a4de407409886b31fb263ddd91f": {
      "model_module": "@jupyter-widgets/controls",
      "model_module_version": "1.5.0",
      "model_name": "IntSliderModel",
      "state": {
       "continuous_update": false,
       "layout": "IPY_MODEL_1b3a25263f614418b41ad9ec87917e62",
       "max": 10,
       "readout": false,
       "step": 0,
       "style": "IPY_MODEL_8ad837c2b5e44d5ba9760e24b4c4c1f9"
      }
     },
     "cc7efee10b434dc09dfe4d7553382e1a": {
      "model_module": "@jupyter-widgets/controls",
      "model_module_version": "1.5.0",
      "model_name": "SliderStyleModel",
      "state": {
       "description_width": ""
      }
     },
     "cc82d3bc404d40ac929a182f729cf2f6": {
      "model_module": "@jupyter-widgets/output",
      "model_module_version": "1.0.0",
      "model_name": "OutputModel",
      "state": {
       "layout": "IPY_MODEL_43cd6f36b1b94f739c5397a3fe4a1900"
      }
     },
     "ccaee13645a34e0298bc062bd06533d9": {
      "model_module": "@jupyter-widgets/controls",
      "model_module_version": "1.5.0",
      "model_name": "IntSliderModel",
      "state": {
       "continuous_update": false,
       "layout": "IPY_MODEL_d381618c22494e09940ff2203075248f",
       "readout": false,
       "style": "IPY_MODEL_47838e2bf53b43258c7c8a2855615332",
       "value": 23
      }
     },
     "ccdd3840a7674541b1aa8052e32cbee3": {
      "model_module": "@jupyter-widgets/controls",
      "model_module_version": "1.5.0",
      "model_name": "SliderStyleModel",
      "state": {
       "description_width": ""
      }
     },
     "cce826c51ab64de1a7839959060e545a": {
      "model_module": "@jupyter-widgets/base",
      "model_module_version": "1.2.0",
      "model_name": "LayoutModel",
      "state": {}
     },
     "cd517a0c172c49c6a983f9a0a626e3df": {
      "model_module": "jupyter-matplotlib",
      "model_module_version": "^0.10.1",
      "model_name": "ToolbarModel",
      "state": {
       "layout": "IPY_MODEL_3ee35e87aa7d4eb09e18b3aa25d9fc58",
       "toolitems": [
        [
         "Home",
         "Reset original view",
         "home",
         "home"
        ],
        [
         "Back",
         "Back to previous view",
         "arrow-left",
         "back"
        ],
        [
         "Forward",
         "Forward to next view",
         "arrow-right",
         "forward"
        ],
        [
         "Pan",
         "Left button pans, Right button zooms\nx/y fixes axis, CTRL fixes aspect",
         "arrows",
         "pan"
        ],
        [
         "Zoom",
         "Zoom to rectangle\nx/y fixes axis, CTRL fixes aspect",
         "square-o",
         "zoom"
        ],
        [
         "Download",
         "Download plot",
         "floppy-o",
         "save_figure"
        ]
       ]
      }
     },
     "cd89e69b2b5f43d19de71b388c2fe196": {
      "model_module": "@jupyter-widgets/controls",
      "model_module_version": "1.5.0",
      "model_name": "IntSliderModel",
      "state": {
       "layout": "IPY_MODEL_053f1e2ba671420eb898bccc463e1743",
       "readout": false,
       "style": "IPY_MODEL_c9eead7d1655437d8f4716d95893a626"
      }
     },
     "cda79434008242f8a97084ca178a251e": {
      "model_module": "@jupyter-widgets/controls",
      "model_module_version": "1.5.0",
      "model_name": "IntSliderModel",
      "state": {
       "description": "l",
       "layout": "IPY_MODEL_72f69bd2243a46be9ba6d53cf6efa152",
       "readout": false,
       "style": "IPY_MODEL_c7caed9f3dae4661a26f67a0c465ab14",
       "value": 52
      }
     },
     "cddb7e0c8d83495392bdd1bb30b404c9": {
      "model_module": "@jupyter-widgets/controls",
      "model_module_version": "1.5.0",
      "model_name": "VBoxModel",
      "state": {
       "_dom_classes": [
        "widget-interact"
       ],
       "children": [
        "IPY_MODEL_e2d0bac2019b4154881943adc6e6b9b1",
        "IPY_MODEL_96786313446541c884f04861a3f9112e"
       ],
       "layout": "IPY_MODEL_41629bbe112f44d1a8429639538f6b43"
      }
     },
     "ceea2f817d3742edb21dec1c46d76970": {
      "model_module": "@jupyter-widgets/base",
      "model_module_version": "1.2.0",
      "model_name": "LayoutModel",
      "state": {}
     },
     "cf87e65b6c8d41db9d7296c7f0105f4b": {
      "model_module": "@jupyter-widgets/controls",
      "model_module_version": "1.5.0",
      "model_name": "IntSliderModel",
      "state": {
       "continuous_update": false,
       "layout": "IPY_MODEL_25ce5d02b92b4c15944527a58b215e02",
       "max": 10,
       "readout": false,
       "step": 0,
       "style": "IPY_MODEL_91d13522985e47c197a99fe5fbc3af8c"
      }
     },
     "d00c7c8d10bb4ff3b53aad5d7f68d4d2": {
      "model_module": "@jupyter-widgets/controls",
      "model_module_version": "1.5.0",
      "model_name": "SliderStyleModel",
      "state": {
       "description_width": ""
      }
     },
     "d06032f07843453db7b93d50ecc44e48": {
      "model_module": "@jupyter-widgets/base",
      "model_module_version": "1.2.0",
      "model_name": "LayoutModel",
      "state": {}
     },
     "d0b2c96fec564fca9c96245c2d7da241": {
      "model_module": "@jupyter-widgets/base",
      "model_module_version": "1.2.0",
      "model_name": "LayoutModel",
      "state": {}
     },
     "d0e1965db6d544cdab9ced513ee2c198": {
      "model_module": "@jupyter-widgets/base",
      "model_module_version": "1.2.0",
      "model_name": "LayoutModel",
      "state": {}
     },
     "d0e7a8ef17fd4c49ad5fa8112c2afede": {
      "model_module": "@jupyter-widgets/controls",
      "model_module_version": "1.5.0",
      "model_name": "IntSliderModel",
      "state": {
       "layout": "IPY_MODEL_c4979f291a984598a374dce7f54c614c",
       "readout": false,
       "style": "IPY_MODEL_219b22292df64e9cb20cf2d99fbf6bf9",
       "value": 63
      }
     },
     "d1888aa82d1e4032b56a4ebe9386cc3e": {
      "model_module": "@jupyter-widgets/base",
      "model_module_version": "1.2.0",
      "model_name": "LayoutModel",
      "state": {}
     },
     "d1ae0a2eae6f4a5a83fb15aae2cd374a": {
      "model_module": "@jupyter-widgets/base",
      "model_module_version": "1.2.0",
      "model_name": "LayoutModel",
      "state": {}
     },
     "d1c46191137b4d35b56fc3e82343e8b1": {
      "model_module": "@jupyter-widgets/base",
      "model_module_version": "1.2.0",
      "model_name": "LayoutModel",
      "state": {}
     },
     "d334e314a61a4eb4ae6915fa2b48f64d": {
      "model_module": "@jupyter-widgets/controls",
      "model_module_version": "1.5.0",
      "model_name": "IntSliderModel",
      "state": {
       "continuous_update": false,
       "layout": "IPY_MODEL_20682ca8b0cf4b918fae8e37e9cb4cc3",
       "max": 10,
       "readout": false,
       "step": 0,
       "style": "IPY_MODEL_64e5be254fba443c8f9e63660952f7f4"
      }
     },
     "d34e30b46ae644d7bed833dd182a8206": {
      "model_module": "@jupyter-widgets/controls",
      "model_module_version": "1.5.0",
      "model_name": "IntSliderModel",
      "state": {
       "continuous_update": false,
       "layout": "IPY_MODEL_ea185481b6f740fe97d52435f295a7c0",
       "max": 10,
       "readout": false,
       "style": "IPY_MODEL_057b9d8248044da18a523403f55b4734"
      }
     },
     "d381618c22494e09940ff2203075248f": {
      "model_module": "@jupyter-widgets/base",
      "model_module_version": "1.2.0",
      "model_name": "LayoutModel",
      "state": {}
     },
     "d48ec64ed5d24cd7967310aed194d946": {
      "model_module": "@jupyter-widgets/base",
      "model_module_version": "1.2.0",
      "model_name": "LayoutModel",
      "state": {}
     },
     "d4a3210f07f247698685402b63d41fe7": {
      "model_module": "@jupyter-widgets/base",
      "model_module_version": "1.2.0",
      "model_name": "LayoutModel",
      "state": {}
     },
     "d5e4e3e03935475a8be9013a77efe464": {
      "model_module": "@jupyter-widgets/base",
      "model_module_version": "1.2.0",
      "model_name": "LayoutModel",
      "state": {}
     },
     "d6856336880b40749b96ed39338fe623": {
      "model_module": "@jupyter-widgets/output",
      "model_module_version": "1.0.0",
      "model_name": "OutputModel",
      "state": {
       "layout": "IPY_MODEL_7ea8bb65057c4190b873cd9b22c7b87c"
      }
     },
     "d6c560cca59848f0b005069fd90d5e55": {
      "model_module": "@jupyter-widgets/controls",
      "model_module_version": "1.5.0",
      "model_name": "SliderStyleModel",
      "state": {
       "description_width": ""
      }
     },
     "d708f21b753044208c5d2c4d65cc3490": {
      "model_module": "@jupyter-widgets/controls",
      "model_module_version": "1.5.0",
      "model_name": "SliderStyleModel",
      "state": {
       "description_width": ""
      }
     },
     "d7373abc1ddc47f6ab27f2aad2b923f7": {
      "model_module": "jupyter-matplotlib",
      "model_module_version": "^0.10.1",
      "model_name": "ToolbarModel",
      "state": {
       "layout": "IPY_MODEL_70d0abf278c14d0abb769f40ec55fbfd",
       "toolitems": [
        [
         "Home",
         "Reset original view",
         "home",
         "home"
        ],
        [
         "Back",
         "Back to previous view",
         "arrow-left",
         "back"
        ],
        [
         "Forward",
         "Forward to next view",
         "arrow-right",
         "forward"
        ],
        [
         "Pan",
         "Left button pans, Right button zooms\nx/y fixes axis, CTRL fixes aspect",
         "arrows",
         "pan"
        ],
        [
         "Zoom",
         "Zoom to rectangle\nx/y fixes axis, CTRL fixes aspect",
         "square-o",
         "zoom"
        ],
        [
         "Download",
         "Download plot",
         "floppy-o",
         "save_figure"
        ]
       ]
      }
     },
     "d7ec200ef85b4e89abc21e5dcb1fb122": {
      "model_module": "@jupyter-widgets/base",
      "model_module_version": "1.2.0",
      "model_name": "LayoutModel",
      "state": {}
     },
     "d86c61f0c46345caa18e225d40ad2272": {
      "model_module": "jupyter-matplotlib",
      "model_module_version": "^0.10.1",
      "model_name": "ToolbarModel",
      "state": {
       "layout": "IPY_MODEL_ceea2f817d3742edb21dec1c46d76970",
       "toolitems": [
        [
         "Home",
         "Reset original view",
         "home",
         "home"
        ],
        [
         "Back",
         "Back to previous view",
         "arrow-left",
         "back"
        ],
        [
         "Forward",
         "Forward to next view",
         "arrow-right",
         "forward"
        ],
        [
         "Pan",
         "Left button pans, Right button zooms\nx/y fixes axis, CTRL fixes aspect",
         "arrows",
         "pan"
        ],
        [
         "Zoom",
         "Zoom to rectangle\nx/y fixes axis, CTRL fixes aspect",
         "square-o",
         "zoom"
        ],
        [
         "Download",
         "Download plot",
         "floppy-o",
         "save_figure"
        ]
       ]
      }
     },
     "d8a0709c66744ed181a9fb22ec73a7f0": {
      "model_module": "@jupyter-widgets/base",
      "model_module_version": "1.2.0",
      "model_name": "LayoutModel",
      "state": {}
     },
     "d8ae43a1fef4410d83184452ba19ff46": {
      "model_module": "jupyter-matplotlib",
      "model_module_version": "^0.10.1",
      "model_name": "ToolbarModel",
      "state": {
       "layout": "IPY_MODEL_ee430b8a664c469e824cf5abb146ecdc",
       "toolitems": [
        [
         "Home",
         "Reset original view",
         "home",
         "home"
        ],
        [
         "Back",
         "Back to previous view",
         "arrow-left",
         "back"
        ],
        [
         "Forward",
         "Forward to next view",
         "arrow-right",
         "forward"
        ],
        [
         "Pan",
         "Left button pans, Right button zooms\nx/y fixes axis, CTRL fixes aspect",
         "arrows",
         "pan"
        ],
        [
         "Zoom",
         "Zoom to rectangle\nx/y fixes axis, CTRL fixes aspect",
         "square-o",
         "zoom"
        ],
        [
         "Download",
         "Download plot",
         "floppy-o",
         "save_figure"
        ]
       ]
      }
     },
     "da161aeff6fc41ec8097ec245a8633fc": {
      "model_module": "@jupyter-widgets/controls",
      "model_module_version": "1.5.0",
      "model_name": "SliderStyleModel",
      "state": {
       "description_width": ""
      }
     },
     "da39aca4d2c8427089a1994db06bc5f9": {
      "model_module": "@jupyter-widgets/base",
      "model_module_version": "1.2.0",
      "model_name": "LayoutModel",
      "state": {}
     },
     "db82814716eb4e4385a2fb243f2d81e2": {
      "model_module": "@jupyter-widgets/base",
      "model_module_version": "1.2.0",
      "model_name": "LayoutModel",
      "state": {}
     },
     "dbf881de3c694ef0a14759a66c3bcb98": {
      "model_module": "@jupyter-widgets/base",
      "model_module_version": "1.2.0",
      "model_name": "LayoutModel",
      "state": {}
     },
     "dc08a132010b47a5809435c91fb65bcb": {
      "model_module": "@jupyter-widgets/base",
      "model_module_version": "1.2.0",
      "model_name": "LayoutModel",
      "state": {}
     },
     "dc6e59af1cd14b059b5386bf590b0aa7": {
      "model_module": "@jupyter-widgets/base",
      "model_module_version": "1.2.0",
      "model_name": "LayoutModel",
      "state": {}
     },
     "dcdcf63ff9034c32ade322993d09b8ee": {
      "model_module": "@jupyter-widgets/controls",
      "model_module_version": "1.5.0",
      "model_name": "SliderStyleModel",
      "state": {
       "description_width": ""
      }
     },
     "dcea1d1da5e04a3c8d4a541c3d086fad": {
      "model_module": "@jupyter-widgets/base",
      "model_module_version": "1.2.0",
      "model_name": "LayoutModel",
      "state": {}
     },
     "dd5b6fe40d7948d49d712075ae095e34": {
      "model_module": "jupyter-matplotlib",
      "model_module_version": "^0.10.1",
      "model_name": "ToolbarModel",
      "state": {
       "layout": "IPY_MODEL_374fc8647c0a4bddb1e2b84fb21fd2e3",
       "toolitems": [
        [
         "Home",
         "Reset original view",
         "home",
         "home"
        ],
        [
         "Back",
         "Back to previous view",
         "arrow-left",
         "back"
        ],
        [
         "Forward",
         "Forward to next view",
         "arrow-right",
         "forward"
        ],
        [
         "Pan",
         "Left button pans, Right button zooms\nx/y fixes axis, CTRL fixes aspect",
         "arrows",
         "pan"
        ],
        [
         "Zoom",
         "Zoom to rectangle\nx/y fixes axis, CTRL fixes aspect",
         "square-o",
         "zoom"
        ],
        [
         "Download",
         "Download plot",
         "floppy-o",
         "save_figure"
        ]
       ]
      }
     },
     "de33923b04554feebaad168565db456c": {
      "model_module": "@jupyter-widgets/base",
      "model_module_version": "1.2.0",
      "model_name": "LayoutModel",
      "state": {}
     },
     "de35fb5e0a754d74ace478b51545df0b": {
      "model_module": "jupyter-matplotlib",
      "model_module_version": "^0.10.1",
      "model_name": "ToolbarModel",
      "state": {
       "layout": "IPY_MODEL_4ec20d0a414e43d5a5a24a486ee8ee95",
       "toolitems": [
        [
         "Home",
         "Reset original view",
         "home",
         "home"
        ],
        [
         "Back",
         "Back to previous view",
         "arrow-left",
         "back"
        ],
        [
         "Forward",
         "Forward to next view",
         "arrow-right",
         "forward"
        ],
        [
         "Pan",
         "Left button pans, Right button zooms\nx/y fixes axis, CTRL fixes aspect",
         "arrows",
         "pan"
        ],
        [
         "Zoom",
         "Zoom to rectangle\nx/y fixes axis, CTRL fixes aspect",
         "square-o",
         "zoom"
        ],
        [
         "Download",
         "Download plot",
         "floppy-o",
         "save_figure"
        ]
       ]
      }
     },
     "de5222a5a424493b970b40c458de02c4": {
      "model_module": "@jupyter-widgets/base",
      "model_module_version": "1.2.0",
      "model_name": "LayoutModel",
      "state": {}
     },
     "dfedec24ead34e518953a0f6d36cfad5": {
      "model_module": "@jupyter-widgets/base",
      "model_module_version": "1.2.0",
      "model_name": "LayoutModel",
      "state": {}
     },
     "e035cead003947519a191153797e2127": {
      "model_module": "jupyter-matplotlib",
      "model_module_version": "^0.10.1",
      "model_name": "ToolbarModel",
      "state": {
       "layout": "IPY_MODEL_f64080b1cd374df5b5c93cf189da7564",
       "toolitems": [
        [
         "Home",
         "Reset original view",
         "home",
         "home"
        ],
        [
         "Back",
         "Back to previous view",
         "arrow-left",
         "back"
        ],
        [
         "Forward",
         "Forward to next view",
         "arrow-right",
         "forward"
        ],
        [
         "Pan",
         "Left button pans, Right button zooms\nx/y fixes axis, CTRL fixes aspect",
         "arrows",
         "pan"
        ],
        [
         "Zoom",
         "Zoom to rectangle\nx/y fixes axis, CTRL fixes aspect",
         "square-o",
         "zoom"
        ],
        [
         "Download",
         "Download plot",
         "floppy-o",
         "save_figure"
        ]
       ]
      }
     },
     "e1c24af2b11244238cefeadc484eb684": {
      "model_module": "@jupyter-widgets/base",
      "model_module_version": "1.2.0",
      "model_name": "LayoutModel",
      "state": {}
     },
     "e2d0bac2019b4154881943adc6e6b9b1": {
      "model_module": "@jupyter-widgets/controls",
      "model_module_version": "1.5.0",
      "model_name": "IntSliderModel",
      "state": {
       "description": "l",
       "layout": "IPY_MODEL_74c67ec2817e48749e4f5368935df17d",
       "readout": false,
       "style": "IPY_MODEL_7cc1de6fd0d14747956576d6bcdadf41"
      }
     },
     "e31fd263f62948a9bc5973ce50a64440": {
      "model_module": "@jupyter-widgets/output",
      "model_module_version": "1.0.0",
      "model_name": "OutputModel",
      "state": {
       "layout": "IPY_MODEL_04adeb01be574508b81e8a7593b5c2d8"
      }
     },
     "e331fdb8eeb24f5d82e29f2a59978036": {
      "model_module": "@jupyter-widgets/base",
      "model_module_version": "1.2.0",
      "model_name": "LayoutModel",
      "state": {}
     },
     "e377b5cfcab84df3aafdbb1d4d1ce7df": {
      "model_module": "@jupyter-widgets/base",
      "model_module_version": "1.2.0",
      "model_name": "LayoutModel",
      "state": {}
     },
     "e414be34f89b40c68da6eef35b4c281e": {
      "model_module": "@jupyter-widgets/controls",
      "model_module_version": "1.5.0",
      "model_name": "SliderStyleModel",
      "state": {
       "description_width": ""
      }
     },
     "e42e36707ae144ebbd0fb4cc8c3c86c4": {
      "model_module": "@jupyter-widgets/base",
      "model_module_version": "1.2.0",
      "model_name": "LayoutModel",
      "state": {}
     },
     "e477370fe01945baa661a09b97233676": {
      "model_module": "@jupyter-widgets/base",
      "model_module_version": "1.2.0",
      "model_name": "LayoutModel",
      "state": {}
     },
     "e4a2e763d2334d629dfaa0e18aad281b": {
      "model_module": "@jupyter-widgets/base",
      "model_module_version": "1.2.0",
      "model_name": "LayoutModel",
      "state": {}
     },
     "e50c8aa241ec4caa96b10ad3e98cc7b6": {
      "model_module": "@jupyter-widgets/controls",
      "model_module_version": "1.5.0",
      "model_name": "IntSliderModel",
      "state": {
       "continuous_update": false,
       "layout": "IPY_MODEL_94d815bbc26f405a9bde3eb35b41c27b",
       "max": 10,
       "readout": false,
       "style": "IPY_MODEL_a2535c9cf67744459563e2dc49548503",
       "value": 10
      }
     },
     "e56c35b1f5ea4d4ca93b9544a72981a4": {
      "model_module": "@jupyter-widgets/controls",
      "model_module_version": "1.5.0",
      "model_name": "SliderStyleModel",
      "state": {
       "description_width": ""
      }
     },
     "e584f6369a664433852747f50c84a675": {
      "model_module": "@jupyter-widgets/base",
      "model_module_version": "1.2.0",
      "model_name": "LayoutModel",
      "state": {}
     },
     "e77cda3f7e494ed7b7dc5921ea38246a": {
      "model_module": "@jupyter-widgets/base",
      "model_module_version": "1.2.0",
      "model_name": "LayoutModel",
      "state": {}
     },
     "e8c821713b384b10b9d112c7e3a760f6": {
      "model_module": "@jupyter-widgets/base",
      "model_module_version": "1.2.0",
      "model_name": "LayoutModel",
      "state": {}
     },
     "e93fb5a23b2e435881e707fd583449e7": {
      "model_module": "@jupyter-widgets/controls",
      "model_module_version": "1.5.0",
      "model_name": "SliderStyleModel",
      "state": {
       "description_width": ""
      }
     },
     "e9495d960b6a4c9b983e6bc7fd512a2b": {
      "model_module": "@jupyter-widgets/controls",
      "model_module_version": "1.5.0",
      "model_name": "IntSliderModel",
      "state": {
       "continuous_update": false,
       "layout": "IPY_MODEL_ab1c66c227034ae7aee472b4d8c25133",
       "max": 10,
       "readout": false,
       "style": "IPY_MODEL_a1d7a3ec8bb34498a2571f9f8974c3ae"
      }
     },
     "e94d2b9593224f6e846238d0c8f46e4e": {
      "model_module": "@jupyter-widgets/controls",
      "model_module_version": "1.5.0",
      "model_name": "IntSliderModel",
      "state": {
       "layout": "IPY_MODEL_31bbfda9981a4ab7bd2255a7d5dafaa9",
       "readout": false,
       "style": "IPY_MODEL_114b455fa638498aa784d14585c86580"
      }
     },
     "e9780a3188664c45968ca6c5f016ae40": {
      "model_module": "@jupyter-widgets/base",
      "model_module_version": "1.2.0",
      "model_name": "LayoutModel",
      "state": {}
     },
     "e9e5fd7758694eb6976069972d071a21": {
      "model_module": "@jupyter-widgets/controls",
      "model_module_version": "1.5.0",
      "model_name": "IntSliderModel",
      "state": {
       "layout": "IPY_MODEL_b98eab2fbed84a73a928691d05bf6236",
       "readout": false,
       "style": "IPY_MODEL_da161aeff6fc41ec8097ec245a8633fc"
      }
     },
     "ea185481b6f740fe97d52435f295a7c0": {
      "model_module": "@jupyter-widgets/base",
      "model_module_version": "1.2.0",
      "model_name": "LayoutModel",
      "state": {}
     },
     "ea52fc2f99ca4a6fb4587969ed23646b": {
      "model_module": "jupyter-matplotlib",
      "model_module_version": "^0.10.1",
      "model_name": "ToolbarModel",
      "state": {
       "layout": "IPY_MODEL_eef9026f56a64f5f8b5cd8850555ccf4",
       "toolitems": [
        [
         "Home",
         "Reset original view",
         "home",
         "home"
        ],
        [
         "Back",
         "Back to previous view",
         "arrow-left",
         "back"
        ],
        [
         "Forward",
         "Forward to next view",
         "arrow-right",
         "forward"
        ],
        [
         "Pan",
         "Left button pans, Right button zooms\nx/y fixes axis, CTRL fixes aspect",
         "arrows",
         "pan"
        ],
        [
         "Zoom",
         "Zoom to rectangle\nx/y fixes axis, CTRL fixes aspect",
         "square-o",
         "zoom"
        ],
        [
         "Download",
         "Download plot",
         "floppy-o",
         "save_figure"
        ]
       ]
      }
     },
     "eb8769ce5ae24ebebb684c18b65f22db": {
      "model_module": "@jupyter-widgets/controls",
      "model_module_version": "1.5.0",
      "model_name": "IntSliderModel",
      "state": {
       "layout": "IPY_MODEL_00cfcb539a3548f8b30dd3e2fbb43d32",
       "max": 10,
       "readout": false,
       "style": "IPY_MODEL_9e07a126a8af41f8b5007e149d587fc5"
      }
     },
     "ec133b540fe341eab0de76c6422b74b5": {
      "model_module": "@jupyter-widgets/base",
      "model_module_version": "1.2.0",
      "model_name": "LayoutModel",
      "state": {}
     },
     "ecafbea5fca24720a65c9828bb547c94": {
      "model_module": "@jupyter-widgets/base",
      "model_module_version": "1.2.0",
      "model_name": "LayoutModel",
      "state": {}
     },
     "ed2b8664a03044dd951b2d6476e1094d": {
      "model_module": "@jupyter-widgets/base",
      "model_module_version": "1.2.0",
      "model_name": "LayoutModel",
      "state": {}
     },
     "ee24b28edc174efeb9592e7fd1e88cee": {
      "model_module": "@jupyter-widgets/base",
      "model_module_version": "1.2.0",
      "model_name": "LayoutModel",
      "state": {}
     },
     "ee3b48242fe9413988d8fd9399e908e5": {
      "model_module": "@jupyter-widgets/controls",
      "model_module_version": "1.5.0",
      "model_name": "IntSliderModel",
      "state": {
       "layout": "IPY_MODEL_9f6d91f6d8c846cc95b68f13266b718b",
       "readout": false,
       "style": "IPY_MODEL_12b4a106b1d64b239436587f3f045358"
      }
     },
     "ee430b8a664c469e824cf5abb146ecdc": {
      "model_module": "@jupyter-widgets/base",
      "model_module_version": "1.2.0",
      "model_name": "LayoutModel",
      "state": {}
     },
     "eea6fcd50e474dfb90b22e20161df00f": {
      "model_module": "@jupyter-widgets/base",
      "model_module_version": "1.2.0",
      "model_name": "LayoutModel",
      "state": {}
     },
     "eeb5c693d1444e09bedb1186fb09ab0e": {
      "model_module": "@jupyter-widgets/base",
      "model_module_version": "1.2.0",
      "model_name": "LayoutModel",
      "state": {}
     },
     "eef9026f56a64f5f8b5cd8850555ccf4": {
      "model_module": "@jupyter-widgets/base",
      "model_module_version": "1.2.0",
      "model_name": "LayoutModel",
      "state": {}
     },
     "efbce1cd42f240e3a4f986497fff4be1": {
      "model_module": "@jupyter-widgets/base",
      "model_module_version": "1.2.0",
      "model_name": "LayoutModel",
      "state": {}
     },
     "f0fc580bb7c7454bbb637f34d3946c96": {
      "model_module": "@jupyter-widgets/base",
      "model_module_version": "1.2.0",
      "model_name": "LayoutModel",
      "state": {}
     },
     "f1817cb624964fb19e19f4c26d8f0f4a": {
      "model_module": "@jupyter-widgets/controls",
      "model_module_version": "1.5.0",
      "model_name": "SliderStyleModel",
      "state": {
       "description_width": ""
      }
     },
     "f1bae2eb99474abc9f198449f0c1910b": {
      "model_module": "@jupyter-widgets/controls",
      "model_module_version": "1.5.0",
      "model_name": "IntSliderModel",
      "state": {
       "continuous_update": false,
       "layout": "IPY_MODEL_db82814716eb4e4385a2fb243f2d81e2",
       "max": 10,
       "readout": false,
       "style": "IPY_MODEL_55be81a54a184b94ae4a91e5e93dc606",
       "value": 6
      }
     },
     "f1bcdbc048af41ee9e6a4aa0794cc599": {
      "model_module": "jupyter-matplotlib",
      "model_module_version": "^0.10.1",
      "model_name": "ToolbarModel",
      "state": {
       "layout": "IPY_MODEL_7d0ef8c742294e7b857ce7e23db2f484",
       "toolitems": [
        [
         "Home",
         "Reset original view",
         "home",
         "home"
        ],
        [
         "Back",
         "Back to previous view",
         "arrow-left",
         "back"
        ],
        [
         "Forward",
         "Forward to next view",
         "arrow-right",
         "forward"
        ],
        [
         "Pan",
         "Left button pans, Right button zooms\nx/y fixes axis, CTRL fixes aspect",
         "arrows",
         "pan"
        ],
        [
         "Zoom",
         "Zoom to rectangle\nx/y fixes axis, CTRL fixes aspect",
         "square-o",
         "zoom"
        ],
        [
         "Download",
         "Download plot",
         "floppy-o",
         "save_figure"
        ]
       ]
      }
     },
     "f1c91ca1da5246679654fe0f4d2d3363": {
      "model_module": "jupyter-matplotlib",
      "model_module_version": "^0.10.1",
      "model_name": "ToolbarModel",
      "state": {
       "layout": "IPY_MODEL_da39aca4d2c8427089a1994db06bc5f9",
       "toolitems": [
        [
         "Home",
         "Reset original view",
         "home",
         "home"
        ],
        [
         "Back",
         "Back to previous view",
         "arrow-left",
         "back"
        ],
        [
         "Forward",
         "Forward to next view",
         "arrow-right",
         "forward"
        ],
        [
         "Pan",
         "Left button pans, Right button zooms\nx/y fixes axis, CTRL fixes aspect",
         "arrows",
         "pan"
        ],
        [
         "Zoom",
         "Zoom to rectangle\nx/y fixes axis, CTRL fixes aspect",
         "square-o",
         "zoom"
        ],
        [
         "Download",
         "Download plot",
         "floppy-o",
         "save_figure"
        ]
       ]
      }
     },
     "f2c7ba3389d84606baa8e37a58648ae6": {
      "model_module": "@jupyter-widgets/controls",
      "model_module_version": "1.5.0",
      "model_name": "IntSliderModel",
      "state": {
       "continuous_update": false,
       "layout": "IPY_MODEL_8cc554b5f5f64c8b99d52de94b562642",
       "max": 10,
       "readout": false,
       "style": "IPY_MODEL_a21cf5702bb04c5e8b3ee81205e78d50",
       "value": 7
      }
     },
     "f2c8fbfdd8ed4b2b86900262bccf7279": {
      "model_module": "@jupyter-widgets/base",
      "model_module_version": "1.2.0",
      "model_name": "LayoutModel",
      "state": {}
     },
     "f2d7c518b5c748b8a34ba1dd6f4ed6bb": {
      "model_module": "@jupyter-widgets/controls",
      "model_module_version": "1.5.0",
      "model_name": "SliderStyleModel",
      "state": {
       "description_width": ""
      }
     },
     "f35d92b715114c14a7ee62eb761c2cbe": {
      "model_module": "@jupyter-widgets/base",
      "model_module_version": "1.2.0",
      "model_name": "LayoutModel",
      "state": {}
     },
     "f394d417b30146978333c12a08ecd6dd": {
      "model_module": "@jupyter-widgets/base",
      "model_module_version": "1.2.0",
      "model_name": "LayoutModel",
      "state": {}
     },
     "f42f003e113b4e76a601ad8a7d5739db": {
      "model_module": "@jupyter-widgets/base",
      "model_module_version": "1.2.0",
      "model_name": "LayoutModel",
      "state": {}
     },
     "f4543b75f59f412692ed3e2490c842df": {
      "model_module": "@jupyter-widgets/base",
      "model_module_version": "1.2.0",
      "model_name": "LayoutModel",
      "state": {}
     },
     "f4a99c6f95f74aec90edc1f50fddf2e0": {
      "model_module": "@jupyter-widgets/controls",
      "model_module_version": "1.5.0",
      "model_name": "SliderStyleModel",
      "state": {
       "description_width": ""
      }
     },
     "f4c648f10e93410bb2a3a2f28ace9285": {
      "model_module": "@jupyter-widgets/controls",
      "model_module_version": "1.5.0",
      "model_name": "IntSliderModel",
      "state": {
       "layout": "IPY_MODEL_f2c8fbfdd8ed4b2b86900262bccf7279",
       "readout": false,
       "style": "IPY_MODEL_525312054ec24ffbabd2fc9e20e9f02d"
      }
     },
     "f57f706731eb451986c8ced1b967c910": {
      "model_module": "@jupyter-widgets/controls",
      "model_module_version": "1.5.0",
      "model_name": "IntSliderModel",
      "state": {
       "continuous_update": false,
       "layout": "IPY_MODEL_e9780a3188664c45968ca6c5f016ae40",
       "max": 10,
       "readout": false,
       "step": 0,
       "style": "IPY_MODEL_8aff175e1c6d435e80903ded4883e80b"
      }
     },
     "f5f58da22f774c718a8fb660ed554b2c": {
      "model_module": "@jupyter-widgets/controls",
      "model_module_version": "1.5.0",
      "model_name": "SliderStyleModel",
      "state": {
       "description_width": ""
      }
     },
     "f5fb2762aaba432ebab460ae61a77cc0": {
      "model_module": "jupyter-matplotlib",
      "model_module_version": "^0.10.1",
      "model_name": "ToolbarModel",
      "state": {
       "layout": "IPY_MODEL_97d82de0b62d4fbb8925b95b6622a505",
       "toolitems": [
        [
         "Home",
         "Reset original view",
         "home",
         "home"
        ],
        [
         "Back",
         "Back to previous view",
         "arrow-left",
         "back"
        ],
        [
         "Forward",
         "Forward to next view",
         "arrow-right",
         "forward"
        ],
        [
         "Pan",
         "Left button pans, Right button zooms\nx/y fixes axis, CTRL fixes aspect",
         "arrows",
         "pan"
        ],
        [
         "Zoom",
         "Zoom to rectangle\nx/y fixes axis, CTRL fixes aspect",
         "square-o",
         "zoom"
        ],
        [
         "Download",
         "Download plot",
         "floppy-o",
         "save_figure"
        ]
       ]
      }
     },
     "f64080b1cd374df5b5c93cf189da7564": {
      "model_module": "@jupyter-widgets/base",
      "model_module_version": "1.2.0",
      "model_name": "LayoutModel",
      "state": {}
     },
     "f7005b4a3ebb4b52984b767fd898446b": {
      "model_module": "@jupyter-widgets/controls",
      "model_module_version": "1.5.0",
      "model_name": "SliderStyleModel",
      "state": {
       "description_width": ""
      }
     },
     "f7dfb61461ac4cf2a296e4f8ab6c85ce": {
      "model_module": "jupyter-matplotlib",
      "model_module_version": "^0.10.1",
      "model_name": "ToolbarModel",
      "state": {
       "layout": "IPY_MODEL_ed2b8664a03044dd951b2d6476e1094d",
       "toolitems": [
        [
         "Home",
         "Reset original view",
         "home",
         "home"
        ],
        [
         "Back",
         "Back to previous view",
         "arrow-left",
         "back"
        ],
        [
         "Forward",
         "Forward to next view",
         "arrow-right",
         "forward"
        ],
        [
         "Pan",
         "Left button pans, Right button zooms\nx/y fixes axis, CTRL fixes aspect",
         "arrows",
         "pan"
        ],
        [
         "Zoom",
         "Zoom to rectangle\nx/y fixes axis, CTRL fixes aspect",
         "square-o",
         "zoom"
        ],
        [
         "Download",
         "Download plot",
         "floppy-o",
         "save_figure"
        ]
       ]
      }
     },
     "f8f12b28bee8414e9d29b4189a798550": {
      "model_module": "@jupyter-widgets/base",
      "model_module_version": "1.2.0",
      "model_name": "LayoutModel",
      "state": {}
     },
     "f99abbc81f594d40a40231f97d66b8dd": {
      "model_module": "jupyter-matplotlib",
      "model_module_version": "^0.10.1",
      "model_name": "ToolbarModel",
      "state": {
       "layout": "IPY_MODEL_67b5c8ba28874cb6982dea4d7ad8a4ad",
       "toolitems": [
        [
         "Home",
         "Reset original view",
         "home",
         "home"
        ],
        [
         "Back",
         "Back to previous view",
         "arrow-left",
         "back"
        ],
        [
         "Forward",
         "Forward to next view",
         "arrow-right",
         "forward"
        ],
        [
         "Pan",
         "Left button pans, Right button zooms\nx/y fixes axis, CTRL fixes aspect",
         "arrows",
         "pan"
        ],
        [
         "Zoom",
         "Zoom to rectangle\nx/y fixes axis, CTRL fixes aspect",
         "square-o",
         "zoom"
        ],
        [
         "Download",
         "Download plot",
         "floppy-o",
         "save_figure"
        ]
       ]
      }
     },
     "fa0071909eb242d795c7526f709599e1": {
      "model_module": "@jupyter-widgets/base",
      "model_module_version": "1.2.0",
      "model_name": "LayoutModel",
      "state": {}
     },
     "fabbfffbaaf0463896fb0bd84996a1bc": {
      "model_module": "@jupyter-widgets/base",
      "model_module_version": "1.2.0",
      "model_name": "LayoutModel",
      "state": {}
     },
     "fb7e7b70bf5d41a18193f80f737fab22": {
      "model_module": "@jupyter-widgets/base",
      "model_module_version": "1.2.0",
      "model_name": "LayoutModel",
      "state": {}
     },
     "fc16e477795a4da3b80c59ef12ffeed5": {
      "model_module": "@jupyter-widgets/base",
      "model_module_version": "1.2.0",
      "model_name": "LayoutModel",
      "state": {}
     },
     "fd1d5dcb79a24ae892560ff5b4c9498e": {
      "model_module": "@jupyter-widgets/output",
      "model_module_version": "1.0.0",
      "model_name": "OutputModel",
      "state": {
       "layout": "IPY_MODEL_92b33f56e9834c1cab1906f84c7e0570"
      }
     },
     "feb288c393424dc285a7df69dc59f8a8": {
      "model_module": "@jupyter-widgets/controls",
      "model_module_version": "1.5.0",
      "model_name": "SliderStyleModel",
      "state": {
       "description_width": ""
      }
     },
     "fed7327f2290419f90cba366e85a9765": {
      "model_module": "@jupyter-widgets/base",
      "model_module_version": "1.2.0",
      "model_name": "LayoutModel",
      "state": {}
     },
     "fee396b59cd54e93b57916ea274b21de": {
      "model_module": "jupyter-matplotlib",
      "model_module_version": "^0.10.1",
      "model_name": "ToolbarModel",
      "state": {
       "layout": "IPY_MODEL_de33923b04554feebaad168565db456c",
       "toolitems": [
        [
         "Home",
         "Reset original view",
         "home",
         "home"
        ],
        [
         "Back",
         "Back to previous view",
         "arrow-left",
         "back"
        ],
        [
         "Forward",
         "Forward to next view",
         "arrow-right",
         "forward"
        ],
        [
         "Pan",
         "Left button pans, Right button zooms\nx/y fixes axis, CTRL fixes aspect",
         "arrows",
         "pan"
        ],
        [
         "Zoom",
         "Zoom to rectangle\nx/y fixes axis, CTRL fixes aspect",
         "square-o",
         "zoom"
        ],
        [
         "Download",
         "Download plot",
         "floppy-o",
         "save_figure"
        ]
       ]
      }
     },
     "ff3f3350673543f8a25626a03225aa85": {
      "model_module": "@jupyter-widgets/base",
      "model_module_version": "1.2.0",
      "model_name": "LayoutModel",
      "state": {}
     },
     "fffcc20e07f24bf89d0f77a394352608": {
      "model_module": "@jupyter-widgets/controls",
      "model_module_version": "1.5.0",
      "model_name": "SliderStyleModel",
      "state": {
       "description_width": ""
      }
     }
    },
    "version_major": 2,
    "version_minor": 0
   }
  }
 },
 "nbformat": 4,
 "nbformat_minor": 5
}
