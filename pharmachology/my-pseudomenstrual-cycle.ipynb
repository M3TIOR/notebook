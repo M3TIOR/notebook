{
 "cells": [
  {
   "cell_type": "markdown",
   "id": "a7d407ad",
   "metadata": {},
   "source": [
    "# My Pseudomenstrual Cycle\n",
    "***A theoretical implementation of hormonal cycles for trans women like myself***\n",
    "\n",
    "### About Me\n",
    "\n",
    "I came out as trans-feminine back in 2016. When I first inquired about HRT with my doctor, I was lucky to have some WPATH Standards of Care documents with me, because my physician had absolutely no idea how to treat a trans patient. They sent me up to the gynecologist for the building, who seemed very hesitent to perscribe HRT in any dose. I remember that they forced me to sit through the warnings about deep vein thrombosis caused by oral estradiol and how this *would cause non-reversable breast enlargement and potential erectile dysfunction.* Much to the suprise of many of my current transfem friends, this gynecologist wasn't transphobic; or at least not a gatekeeper. Perhaps they saw my paperwork I'd brought along and made the deduction that I was too well read be stopped from achieving my goal. They probably couldn't help worrying though. They sent me home with script for 1mg of estradiol and 100mg of spironolactone to be taken oraly, daily. My request was to be put on 2mg/day to start, but they insisted I titrate up. Being as I was, very insecure and baby trans, I couldn't stand to wait for my breasts to grow in. I thought that just going to a high estrogen dose right away would make my breasts grow in faster. So after two months of feeling hardly any breast growth, I asked my doc for an increase in estradiol. I was given a script for 6mg/day. I felt a little breast development over the next few months, but I was still unsatisfied. So again, I asked for an increase. Now, this is where my ObGyn had some geat advice, which I was too dysphoric to listen to. They insisted that I not take more estrogen than I was already on, and instead try letting the tablets desolve sublingualy; ie, under the tongue. That method is safer because it bypasses the liver a significant degree, of course I thought at the time they were just trying to convince me not to raise my dose by whatever means necessary. They insisted that raising my estrogen dose any further would likely cause severe side effects like constant migranes among other things.\n",
    "\n",
    "Skip forward two years later, I'd been taking estrogen sublingually at 6mg per day consistently. I woke up on my day off and started fondling my now, roughly tanners stage 3 breasts, when I noticed a lump forming in my right breast. This had been preceeded by a sharp pain in that area on the same breast for the past two weeks prior, so my mind immediately went to cancer. My thought was, since my mother and grandmother both got cancer, a maternal genetic risk could plausibly exist within my genes. At the time I had Washington State heathcare. I could have easily asked my physician for a mamogram refferal to check out the cyst. When I was about three months into my transition though, I accidentally screwed up my hair and decided to shave it all off. I had just recently grown my hair out to a level where I was starting to pass. I was far too insecure to ask for a diagnostic appointment then. I decided to monitor the lump closely, doing a breast massage almost every day to try and track it's size over time. After three months of no substantial growth, or development of other cysts, I concluded that it was most likely a benign cyst. It also felt like after a long massage the cyst receeded in size a bit. I figured I should still get it checked out professionally as soon as possible just to make sure; but ended up procrastinating until I lost my healthcare a few months later when I moved into a management position at Knighthawk Protection.\n",
    "\n",
    "When I lost my healthcare, I lost my ability to get a perscription for estradiol or spiro. Which usually isn't a pleasent experience for a trans women like myself who needs HRT to create the secondary sexual characteristics which keep their dysphoria at bay. After a few months of not being able to afford a script and the return of my irritability brought on by testosterone, I snapped. I had to do something to keep the suicidal thoughts away, so I decided to look into DIY HRT. I'd read about how progestogens affects the lobular development of breasts back when I was fetching the paperwork from WPATH before I started my transition and that lobular tissue accounts for about 20% of total breast volume. I'd also asked my now pervious ObGyn, to perscribe me with progesterone in the past, but they perscribed me with hybrid E2/P birth control; which had 0.15% of the recommended 200mg/day micronized progesterone dose I'd read was being perscribed in Canada and Europe. Regardless of their medical knowledge on the pharmacokinetics of that specific birth control, sticking to something well regulated and known is better than being test subject. I stopped that pill a few months after it was prescribed. When I found out that [inhousepharmacy](https://web.archive.org/web/20211014044918/https://www.inhousepharmacy.vu/) was well cited, and had all the progesterone, estrogen and spiro I could ever need, I decided to perscribe myself with some 200mg micronized progesterone tablets. It further solidified my decision when I heard progesterone supposedly has antiandrogenic properties.\n",
    "\n",
    "It wasn't until the middle of the 2019, durring the start of the initial United States presidential response to the COVID-19 Alpha pandemic; where they tried to say it wasn't a big deal and downplayed everything, when my partner at the time convinced me to apply for state healthcare again. This time it would be through Oregon Health Plan because I was living in Portland. The core intent was that I'd be seen about my Cyst ASAP. But that didn't happen for another year. When I was finally seen, I was recommended to have a mamogram, where I was diagnosed with extremely dense breasts. Turns out that when my partner back in 2018 had complained that my breasts felt like muscle they weren't very far off. When my autopsy on the cyst was done, my breasts were almost completely connective tissue. Which I read a week later, put me at an increased risk of breast cancer. The cyst had abnormal tissue developing inside it, suggesting it was also on the road to becomming cancerous if I'd left it untreated for any longer. So I got scheduled for surgery and got it removed.\n",
    "\n",
    "Although investigators have shown in the results of twin studies that breast density of cis women appears to be predominantly determined genetically, breast density may also change owing to endogenous or external factors, including increased or decreased hormonal stimulus. During normal aging, reproductive hormones wane, a finding that in turn is associated with terminal duct unit involution; normal aging tends to decrease breast density in women. In the results of a recent analysis of mammographic density, investigators using a quantitative method in more than 11 000 women across 22 countries found that mammographic density decreased as age increased for both premenopausal and postmenopausal women, and the decreases were more marked during the menopausal transition (Heller, et al. 2018).\n",
    "\n",
    "Following my diagnosis of extremely dense breasts, I decided to lower my estradiol intake temporarily. I wanted to see if doing so could reduce my breast density for the better. And I can say for the moment it has. I'm only about three or four weeks into dropping my estradiol intake from 6mg/day to 2mg/day, and both me and my partner can feel a significant change in the consistency of my breasts. They're alot more squishy than before, and aren't constantly sore. But I'm going to wait for my next mammogram to say for sure that my breast density has gone down, since that's more viable data than my fingers. So going forward, the evidence I have would suggest that my hormones do definitely have a significant effect on my breast density. Obviously this doesn't apply unilaterally to everyone but it's good to note. I'll update this with docs when I get them.\n",
    "\n",
    "This all prompted me to look into the pharmacokinetics of estradiol and progesterone, the two main components of feminizing HRT. I want to know if there's a potential that trans women everywhere have been overexposing themselves to estradiol like myself, or if having a hormonal cycle actually serves a purpose in cis women that us trans girls are missing out on. Every trans girl I've known to use intramuscular injections has presented with larger breasts than me, and on average every other trans woman who uses oral estradiol. I believe this is due to the injections mimicing a cycle, since they need to be dosed biweekly.\n",
    "\n",
    "To simplify my efforts, and reduce morale antagonists, I'll be using the summarized pharmacokinetics research from the [Wikipedia estradiol](https://web.archive.org/web/20210911033339/https://en.wikipedia.org/wiki/Pharmacokinetics_of_estradiol) [and progesterone pharmacokinetics page at the time of writing this notebook entry.](https://en.wikipedia.org/wiki/Pharmacokinetics_of_progesterone) Any extrenious links or sources outside the scope of that page I will cite in the citations section. Wikipedia's moderators have done a great job in keeping the sites information clean and well backed. Which is why I donate to them when I can. Them and the web archive are great.\n",
    "\n",
    "#### Thoughts on Feminizing Hormone Therapy for Newly Hatched Trans Women\n",
    "While the primary objective of this research was to cover my hypothesis that a cycle is needed for complete breast development and upkeep, my girlfriend at the time of writing is a very active reddit DIY HRT support specialist and self taught chemist. They frequently interact with newly out trans women who have no one to turn to for HRT in states where it's extremely hard to get access; both politically and economically speaking. She asked me what my thoughts were on this topic since she knew I was doing this little side project, so I went out of my way to do a little research on puberty and potential growth factors targeted towards trans HRT.\n",
    "\n",
    "The data of a study done in 1999 by Karen Oerter Klein and others aiming to find a connection between 17beta-estradiol; otherwise known as oestradiol, and premature breast budding, showed that elevated estradiol levels are a plausible trigger for premature development.\n",
    "\n",
    "### Preface\n",
    "\n",
    "\n",
    "### Hypothesis\n",
    "> The complete development of the mature breast of cis women occurs in distinct phases, with growth and proliferation occurring in puberty, during the menstrual cycle, as well as during pregnancy. Levels of estrogen and progesterone first increase during puberty, which is the major post-natal phase of breast development, and is accompanied by florid proliferation and an increase in breast volume. Once sexual maturity is reached, this initial phase of rapid growth ceases, followed by brief proliferative spurts which occur throughout the menstrual cycle. During this cycle, proliferation is regulated by the sequential and combined action of estrogen and progesterone: the follicular phase is associated with a peak of circulating estrogen, followed by a second peak during the luteal phase, which is also characterised by a prominent peak in progesterone levels. An increase in complexity and size of breast lobules typically occurs during this luteal phase of the cycle, which reflects proliferative activity within the epithelial compartment when mitosis is highest. The cessation of estrogen and progesterone production by the ovaries signals menopause, during which the epithelial component of the breast is gradually substituted by stromal cells and fatty tissue (Hilton et al., 2017). Following puberty, estrogen elicits only modest proliferation, although is permissive for the strongly mitogenic effects of progesterone during this stage. Despite the well-defined role of progesterone in counteracting the proliferative effects of estrogen in the endometrium, progesterone is now recognised as the major proliferative hormone in both the mouse mammary gland and the normal human breast, and is required to promote the massive proliferation which occurs during early pregnancy. **(Hilton et al., 2017)**\n",
    "\n",
    ">**(Hilton et al., 2017)**\n",
    ">The normal human breast is comprised of two major tissue compartments\n",
    "> 1. Stroma, consisting of adipocytes, fibroblasts, blood vessels, inflammatory cells and the >extracellular matrix.\n",
    "> 2. Epithelium, which is made up of a branching ductal-lobular system.\n",
    "\n",
    "My assumption that the near exponential raise in bioavailable estradiol durring the end of the follicular phase, is in part, to fuel this near week long period of rapid proliferation in the stroma. Since peak rapid mitosis at best is $\\approx2^{x}$ exponential growth, the cells would need this volume of estrogen available to continue expansion at that speed. This could serve the purpose of replacing the stroma on a monthly basis, since without the estradiol present to fuel mitosis of stroma cells, it decays and is replaced by fatty tissue as seen in post-menopause women. The second peak is predicated by the start of progesterone being introduced into the blood, which may signal for the stroma to either slow consumption of estradiol, or outright completely stop since the epithelium cells also need the presence of estradiol to act as a mitogenic agonist, but not before their specialization is coerced by the presence of elevated progesterone.\n",
    "\n",
    ">**(Hilton et al., 2017)**\n",
    "> Following puberty, estrogen elicits only modest proliferation, although is permissive for the strongly mitogenic effects of progesterone during this stage. Despite the well-defined role of progesterone in counteracting the proliferative effects of estrogen in the endometrium.\n",
    "> Clearly illustrated by both the ER and PR knockout mouse models: the ERα knockout mouse does not undergo any mammary gland development and only possesses a rudimentary ductal structure (Korach et al., 1996), while the PR knockout mouse does have a complete mammary epithelial ductal network, but displays severely limited lobuloalveolar development (Lydon et al., 1995). \n",
    "\n",
    "Therefore my assertion is that a E2&P hormonal cycle is necessary for complete tanners stage 5 breast development in both cis and trans women.\n",
    "\n",
    "### Variable Name Index\n",
    "|Name| Compound          |\n",
    "|----|-------------------|\n",
    "| E2 | Estrogen          |\n",
    "| E1 | Estrone           |\n",
    "| P  | Progesterone      |\n",
    "| SP | Spironolactone    |"
   ]
  },
  {
   "cell_type": "code",
   "execution_count": 1,
   "id": "3146b2f0",
   "metadata": {},
   "outputs": [],
   "source": [
    "from IPython.display import HTML, display, clear_output\n",
    "from matplotlib import pyplot, patches\n",
    "from matplotlib.path import Path\n",
    "import ipywidgets as widgets\n",
    "import matplotlib\n",
    "import pint\n",
    "import math\n",
    "\n",
    "ureg = pint.UnitRegistry()"
   ]
  },
  {
   "cell_type": "markdown",
   "id": "c1566569",
   "metadata": {},
   "source": [
    "### The Dangers of Hormone Replacement Therapy\n",
    "\n",
    "There are a lot of warnings the doctor perscribing HRT should give you durring your perscription consultation. Always be sure to completely take these warnings into consideration. You have a lot of control over how your HRT regimine effects you.\n",
    "\n",
    "#### Estradiol Risks\n",
    "##### Thrombosis\n",
    "One of these warnings may be that Estradiol can increase your risk of deep-vein thrombosis and blood clots. This assertion isn't unfounded. Any metabolism of estradiol in your liver will produce estrone.\n",
    "\n",
    "> Thrombin generation is significantly increased in women who use HRT administered by the oral route (Bagot, et al. 2010).\n",
    "\n",
    "> Thrombin generation based upon the individual’s blood composition is associated with the risk for thrombosis and may be useful as a predictive marker for evaluating thrombosis on an individual basis (K. E. Brummel-Ziedins, et al. 2005).\n",
    "\n",
    "That's a bit of a stretch for a plausible connection. Observational studies from the 1990s originated this claim that estrogen HRT use can lead to thrombosis, but when those same studies were reviewed and reattempted, their results couldn't be reproduced. For now I don't have the energy to do anything more than propose my theory that **estrogen doesn't corellate with thrombosis risk, estrone however, does.** Keeping estrone levels low should circumvent this thrombic risk and make HRT safer. \n",
    "\n",
    "##### Cancer\n",
    "TODO: fill with cancer info; fetch that one research paper regarding breast density being associated with worse cancer outcomes and the other study connecting \n",
    "\n",
    "These notes may be updated later with more findings."
   ]
  },
  {
   "cell_type": "markdown",
   "id": "a704e96c",
   "metadata": {},
   "source": [
    "### Forming a Target Cycle\n",
    "Before making a custom hormonal cycle, we need to know the standard range of hormonal cycles. How each hormone effects us, and their safety thresholds. The data below shows the estrogen and progesterone values for 36 premenopausal women from a research study done by Stricker et al., in 2006. The study was done to establish detailed reference values for luteinizing hormone, follicle stimulating hormone, estradiol, and progesterone during different phases of the menstrual cycle."
   ]
  },
  {
   "cell_type": "code",
   "execution_count": 2,
   "id": "544627c9",
   "metadata": {},
   "outputs": [],
   "source": [
    "# Group \n",
    "#  Estradiol pmol/L; raw imported from reference assay\n",
    "e2_mean=[118.42, 133.01, 133.17, 125.95, 134.65, 151.33, 159.48, 170.34, 195.90, 228.20,\n",
    "         269.07, 343.68, 477.27, 661.19, 914.84, 780.76, 320.59, 261.32, 338.94, 454.07,\n",
    "         499.49, 497.07, 531.14, 504.39, 499.18, 526.68, 350.65, 322.24, 229.70, 249.28]\n",
    "\n",
    "e2_median=[139.46, 149.00, 137.63, 128.45, 130.29, 145.15, 154.14, 162.76, 196.16, 215.06,\n",
    "           262.22, 363.15, 485.72, 651.06, 939.34, 671.06, 312.87, 260.57, 322.96, 403.52,\n",
    "           450.68, 486.64, 551.78, 491.23, 503.52, 495.45, 340.41, 314.52, 170.10, 151.20]\n",
    "\n",
    "e2_5thpercent=[57.55, 66.06, 75.20, 79.42, 82.98, 87.60, 93.40, 112.49, 124.67, 157.66, \n",
    "               190.47, 186.47, 241.52, 337.35, 503.85, 482.00, 159.87, 154.62, 208.64, 269.80, \n",
    "               292.57, 267.07, 291.71, 281.91, 279.18, 294.48, 210.22, 174.82, 101.93, 93.97]\n",
    "\n",
    "e2_95thpercent=[194.44, 187.67, 189.34, 200.97, 196.75, 209.56, 224.68, 220.86, 267.23,\n",
    "                313.36, 346.76, 490.81, 803.56, 1153.76, 1517.67, 1425.39, 514.35, 398.38, \n",
    "                495.82, 665.99, 703.85, 719.72, 695.47, 718.20, \n",
    "                764.41, 806.70, 640.16, 546.15, 497.74, 693.54]\n",
    "\n",
    "# Progesterone nmol/L; raw imported from reference study.\n",
    "p_mean=[1.66, 1.27, 1.02, 0.82, 0.74, 0.94, 0.72, 0.67, 0.73, 0.51, 0.57, 0.59, 0.51, 0.59,\n",
    "        1.02, 2.66, 5.02, 12.13, 20.84, 29.75, 36.08, 36.52, 40.32, 39.65,\n",
    "        33.76, 34.11, 18.24,16.9, 10.73, 9.5]\n",
    "\n",
    "p_median=[1.27, 1.27, 0.95, 0.64, 0.64, 0.64, 0.64, 0.48, 0.64, 0.32, 0.48, 0.64,\n",
    "          0.32, 0.64, 0.95, 2.54, 4.93, 12.72, 20.51, 30.85, 34.03, 35.3, 42.45,\n",
    "          37.05, 32.44, 32.75, 14.47, 13.04, 5.25, 4.13]\n",
    "\n",
    "p_5thpercent=[0.32, 0.32, 0.52, 0.32, 0.32, 0.32, 0.32, 0.32, 0.32, 0.32, 0.32,\n",
    "              0.32, 0.32, 0.32, 0.62, 1.24, 2.21, 4.74, 11.34, 11.38, 23.72,\n",
    "              22.36, 25.98, 25.06, 18.25, 17.74, 6.74, 3.67, 2.15, 1.91]\n",
    "\n",
    "p_95thpercent=[3.75, 2.73, 1.59, 1.65, 1.3, 2.32, 1.29, 1.61, 1.3, 1.0, 1.02, 0.95,\n",
    "               0.97, 1.27, 1.62, 4.13, 8.95, 18.67, 29.05, 45.51, 46.46, 48.18, 54.17,\n",
    "               60.39, 46.65, 55.94, 38.21, 41.58, 33.15, 33.39]\n",
    "\n",
    "# Convert estradiol to pg/mL\n",
    "e2_molar_mass = 272.4 * (ureg.gram / ureg.mole)\n",
    "e2_mean[:] = ((v * ureg.picomole * e2_molar_mass / ureg.liter) for v in e2_mean)\n",
    "e2_mean[:] = (round(v.to(\"pg/ml\").m, 2) for v in e2_mean)\n",
    "e2_median[:] = ((v * ureg.picomole * e2_molar_mass / ureg.liter) for v in e2_median)\n",
    "e2_median[:] = (round(v.to(\"pg/ml\").m, 2) for v in e2_median)\n",
    "e2_5thpercent[:] = ((v * ureg.picomole * e2_molar_mass / ureg.liter) for v in e2_5thpercent)\n",
    "e2_5thpercent[:] = (round(v.to(\"pg/ml\").m, 2) for v in e2_5thpercent)\n",
    "e2_95thpercent[:] = ((v * ureg.picomole * e2_molar_mass / ureg.liter) for v in e2_95thpercent)\n",
    "e2_95thpercent[:] = (round(v.to(\"pg/ml\").m, 2) for v in e2_95thpercent)\n",
    "\n",
    "# Convert progesterone to ng/mL\n",
    "p_molar_mass = 314.46 * (ureg.gram / ureg.mole)\n",
    "p_mean[:] = ((v * ureg.picomole * p_molar_mass / ureg.liter) for v in p_mean)\n",
    "p_mean[:] = (round(v.to(\"pg/ml\").m, 2) for v in p_mean)\n",
    "p_median[:] = ((v * ureg.picomole * p_molar_mass / ureg.liter) for v in p_median)\n",
    "p_median[:] = (round(v.to(\"pg/ml\").m, 2) for v in p_median)\n",
    "p_5thpercent[:] = ((v * ureg.picomole * p_molar_mass / ureg.liter) for v in p_5thpercent)\n",
    "p_5thpercent[:] = (round(v.to(\"pg/ml\").m, 2) for v in p_5thpercent)\n",
    "p_95thpercent[:] = ((v * ureg.picomole * p_molar_mass / ureg.liter) for v in p_95thpercent)\n",
    "p_95thpercent[:] = (round(v.to(\"pg/ml\").m, 2) for v in p_95thpercent)\n",
    "\n"
   ]
  },
  {
   "cell_type": "markdown",
   "id": "e75b7ba0",
   "metadata": {},
   "source": [
    "From this data we can form a graph of best fit with adjustable peaks. The percentile groups represent the upper limit and lower limit for their respective days mesurement which makes visible the large diversity of hormonal values between women."
   ]
  },
  {
   "cell_type": "code",
   "execution_count": 7,
   "id": "104ba164",
   "metadata": {},
   "outputs": [
    {
     "data": {
      "application/vnd.jupyter.widget-view+json": {
       "model_id": "83f5b3ee10ec444783acfce7a8203cdd",
       "version_major": 2,
       "version_minor": 0
      },
      "text/plain": [
       "interactive(children=(IntSlider(value=0, description='l', readout=False), Output()), _dom_classes=('widget-int…"
      ]
     },
     "metadata": {},
     "output_type": "display_data"
    },
    {
     "data": {
      "application/vnd.jupyter.widget-view+json": {
       "model_id": "e9352ab355a6427aa327086ed3332e27",
       "version_major": 2,
       "version_minor": 0
      },
      "text/html": [
       "\n",
       "            <div style=\"display: inline-block;\">\n",
       "                <div class=\"jupyter-widgets widget-label\" style=\"text-align: center;\">\n",
       "                    E2\n",
       "                </div>\n",
       "                <img src='data:image/png;base64,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' width=640.0/>\n",
       "            </div>\n",
       "        "
      ],
      "text/plain": [
       "Canvas(toolbar=Toolbar(toolitems=[('Home', 'Reset original view', 'home', 'home'), ('Back', 'Back to previous …"
      ]
     },
     "metadata": {},
     "output_type": "display_data"
    }
   ],
   "source": [
    "%matplotlib widget\n",
    "x=tuple(range(30))\n",
    "fig_e2 = pyplot.figure(\"E2\")\n",
    "ax_e2 = fig_e2.add_subplot(111)\n",
    "ax_e2.set_title(\"Variable Estradiol Curve\")\n",
    "ax_e2.set_ylim(0, 600); ax_e2.set_yticks(range(0, 600, 50)); ax_e2.set_ylabel(\"17β-Estradiol ng/mL\")\n",
    "ax_e2.set_xlim(0, 30); ax_e2.set_xticks(x); ax_e2.set_xlabel(\"Day of Cycle\")\n",
    "ax_e2.scatter(x, e2_median, c=\"#FF0000\", s=2)\n",
    "ax_e2.scatter(x, e2_95thpercent, c=\"#0000FF\", s=2)\n",
    "ax_e2.scatter(x, e2_5thpercent, c=\"#BB00BB\", s=2)\n",
    "fit_e2 = Path(*reversed(list(zip(\n",
    "    (Path.MOVETO, (0, 20 +0.4)),\n",
    "    (Path.CURVE4, (8, 10 +0.3)),\n",
    "    (Path.CURVE4, (13, 30 + 0.7)),\n",
    "    (Path.CURVE3, (15, 200+3)),\n",
    "    (Path.CURVE3, (15, 10 +0.3)),\n",
    "    (Path.CURVE4, (17, 30 + 0.7)),\n",
    "    (Path.CURVE3, (22, 120+3)),\n",
    "    (Path.CURVE3, (30, 20 +0.4))\n",
    "))))\n",
    "fit_standalone_e2 = fit_e2.deepcopy()\n",
    "ax_e2.add_patch(patches.PathPatch(fit_standalone_e2, fc=\"none\"))\n",
    "\n",
    "def update_e2(path, l):\n",
    "    path.vertices[0][1] = 20 +0.4*l; path.vertices[1][1] = 10 +0.3*l;\n",
    "    path.vertices[2][1] = 30 + 0.7*l; path.vertices[3][1] = 200+3*l;\n",
    "    path.vertices[4][1] = 10 +0.3*l; path.vertices[5][1] = 30 + 0.7*l;\n",
    "    path.vertices[6][1] = 120+3*l; path.vertices[7][1] = 20 +0.4*l;\n",
    "    \n",
    "# TODO: get widgets to work when not from the last active notebook cell\n",
    "@widgets.interact(l=widgets.IntSlider(min=0, max=100, step=1, readout=False))\n",
    "def draw_standalone_e2(l):\n",
    "    update_e2(fit_standalone_e2, l)\n",
    "    try:\n",
    "        # Needed to prevent ipympl from throwing an error\n",
    "        # while updating the canvas. Damn it's janky.\n",
    "        fig_e2.canvas.draw()\n",
    "    except Exception as e:\n",
    "        pass"
   ]
  },
  {
   "cell_type": "code",
   "execution_count": 4,
   "id": "98d89dc8",
   "metadata": {
    "scrolled": false
   },
   "outputs": [
    {
     "data": {
      "application/vnd.jupyter.widget-view+json": {
       "model_id": "3d840e1748a34bb29ac0593f8ad4d775",
       "version_major": 2,
       "version_minor": 0
      },
      "text/plain": [
       "interactive(children=(IntSlider(value=0, description='l', readout=False), Output()), _dom_classes=('widget-int…"
      ]
     },
     "metadata": {},
     "output_type": "display_data"
    },
    {
     "data": {
      "application/vnd.jupyter.widget-view+json": {
       "model_id": "d0cd4f8027094a5a8491786020a699cb",
       "version_major": 2,
       "version_minor": 0
      },
      "text/html": [
       "\n",
       "            <div style=\"display: inline-block;\">\n",
       "                <div class=\"jupyter-widgets widget-label\" style=\"text-align: center;\">\n",
       "                    P\n",
       "                </div>\n",
       "                <img src='data:image/png;base64,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' width=640.0/>\n",
       "            </div>\n",
       "        "
      ],
      "text/plain": [
       "Canvas(toolbar=Toolbar(toolitems=[('Home', 'Reset original view', 'home', 'home'), ('Back', 'Back to previous …"
      ]
     },
     "metadata": {},
     "output_type": "display_data"
    }
   ],
   "source": [
    "%matplotlib widget\n",
    "slider_p = widgets.IntSlider(min=0, max=100, step=1, readout=False)\n",
    "fig_p = pyplot.figure(\"P\")\n",
    "ax_p=fig_p.add_subplot(111)\n",
    "ax_p.set_title(\"Variable Progesterone Curve\")\n",
    "ax_p.set_ylim(0, 30); ax_p.set_yticks(tuple(range(0,30,2))); ax_p.set_ylabel(\"Progesterone ng/mL\")\n",
    "ax_p.set_xlim(0, 30); ax_p.set_xticks(x); ax_p.set_xlabel(\"Day of Cycle\")\n",
    "ax_p.scatter(x, p_median, c=\"#FF0000\", s=2)\n",
    "ax_p.scatter(x, p_95thpercent, c=\"#0000FF\", s=2)\n",
    "ax_p.scatter(x, p_5thpercent, c=\"#BB00BB\", s=2)\n",
    "fit_p = Path(*reversed(list(zip(\n",
    "    (Path.MOVETO, (0, 0.012)),\n",
    "    (Path.CURVE4, (5, 0.009)),\n",
    "    (Path.CURVE4, (10, 0.006)),\n",
    "    (Path.CURVE4, (15, 0.006)),\n",
    "    (Path.CURVE4, (18, 0.06)),\n",
    "    (Path.CURVE4, (20, 8+0.1)),\n",
    "    (Path.CURVE4, (22, 8+0.1)),\n",
    "    (Path.CURVE4, (24, 8.2+0.1)),\n",
    "    (Path.CURVE4, (26, 0.08)),\n",
    "    (Path.CURVE3, (28, 0.8+0.08)),\n",
    "    (Path.CURVE3, (29, 0.6+0.012)),\n",
    "    (Path.CURVE4, (30, 0.012)),\n",
    "))))\n",
    "fit_standalone_p = fit_p.deepcopy()\n",
    "ax_p.add_patch(patches.PathPatch(fit_standalone_p, fc=\"none\"))\n",
    "\n",
    "def update_p(path, l):\n",
    "    path.vertices[0][1] = 0.012*l; path.vertices[1][1] = 0.009*l; path.vertices[2][1] = 0.006*l;\n",
    "    path.vertices[3][1] = 0.006*l; path.vertices[4][1] = 0.06*l; path.vertices[5][1] = 8+0.1*l;\n",
    "    path.vertices[6][1] = 8+0.1*l; path.vertices[7][1] = 8.2+0.1*l; path.vertices[8][1] = 0.08*l;\n",
    "    path.vertices[9][1] = 0.8+0.08*l; path.vertices[10][1] = 0.6+0.012*l;\n",
    "    path.vertices[11][1] = 0.012*l;\n",
    "\n",
    "@widgets.interact(l=widgets.IntSlider(min=0, max=100, step=1, readout=False))\n",
    "def draw_standalone_p(l):\n",
    "    update_p(fit_standalone_p, l)\n",
    "    try:\n",
    "        # Needed to prevent ipympl from throwing an error\n",
    "        # while updating the canvas. Damn it's janky.\n",
    "        fig_p.canvas.draw()\n",
    "    except Exception as e:\n",
    "        pass"
   ]
  },
  {
   "cell_type": "markdown",
   "id": "ff4cc12b",
   "metadata": {},
   "source": [
    "### Controlling E2 Levels\n",
    "\n",
    " \n",
    "Of the numerous studdies on the pharmacokinetics of estradiol given via intranasal, buccal, sublingual, oral, vaginal and rectal routes; including various injection methods: there are a few deductions we can make.\n",
    "\n",
    " * For methods which depend upon a mucosa membrain, the liver is significantly bypassed, resulting in a low E1 volume post administration; This increases the safety of administration so we'll only be using those methods.\n",
    " * Using mucosa membrain methods also expends the estrogen quickly, within the first four hours of dosing, the estrogen is almost completely gone.\n",
    " * Patches can administer sustained estrogen dosing.\n",
    " * Buccal administration is far more effective than sublingual.\n",
    " * Injections and patches are the only estrogen dosing options which supply constant estrogen.\n",
    " \n",
    "While Injections and patches are very good at sustained dosing, I've met very few other trans women who use transdermal injections, and none who use patches. I'm somewhat of a recluse so this may be due to my social exposure limitations. My girlfriend who's also trans has \"heard of a few.\" But hasn't met any that use transdermal patches either. And neither have any of her other partners. So for the scope of making a customizable cycle graph, I'm excluding patches and injections from my method. Patches and injections also make it harder to save spare estrogen for a rainy day when your insurance runs out (not that you should do that because it's illegal).\n",
    "\n",
    "Below are the two relevant reference graphs for tablet estradiol taken buccally and sublingualy that I'll use to form my functions. \n"
   ]
  },
  {
   "cell_type": "code",
   "execution_count": 5,
   "id": "22d4e299",
   "metadata": {},
   "outputs": [
    {
     "data": {
      "text/html": [
       "\n",
       "<div style=\"display: inline-flex\">\n",
       "<a href=\"https://web.archive.org/web/20210213214832/https://pubmed.ncbi.nlm.nih.gov/9052581/\"><img\n",
       "    src=\"https://web.archive.org/web/20201004175811/https://upload.wikimedia.org/wikipedia/commons/8/8a/Estradiol_levels_with_oral_versus_sublingual_estradiol_in_postmenopausal_women.png\"\n",
       "    alt=\"Estradiol levels compared following oral and sublingual dosing\"\n",
       "/></a>\n",
       "<a href=\"https://web.archive.org/web/20210227115810/https://pubmed.ncbi.nlm.nih.gov/12841880/\"><img\n",
       "    src=\"https://web.archive.org/web/20201004175833/https://upload.wikimedia.org/wikipedia/commons/9/9c/Estradiol_levels_during_therapy_with_0.25_mg_buccal_estradiol_in_postmenopausal_women.png\"\n",
       "    alt=\"Estradiol levels measured in hourly intervals following buccal dosing\"\n",
       "/></a>\n",
       "</div>\n"
      ],
      "text/plain": [
       "<IPython.core.display.HTML object>"
      ]
     },
     "execution_count": 5,
     "metadata": {},
     "output_type": "execute_result"
    }
   ],
   "source": [
    "HTML(data=\"\"\"\n",
    "<div style=\"display: inline-flex\">\n",
    "<a href=\"https://web.archive.org/web/20210213214832/https://pubmed.ncbi.nlm.nih.gov/9052581/\"><img\n",
    "    src=\"https://web.archive.org/web/20201004175811/https://upload.wikimedia.org/wikipedia/commons/8/8a/Estradiol_levels_with_oral_versus_sublingual_estradiol_in_postmenopausal_women.png\"\n",
    "    alt=\"Estradiol levels compared following oral and sublingual dosing\"\n",
    "/></a>\n",
    "<a href=\"https://web.archive.org/web/20210227115810/https://pubmed.ncbi.nlm.nih.gov/12841880/\"><img\n",
    "    src=\"https://web.archive.org/web/20201004175833/https://upload.wikimedia.org/wikipedia/commons/9/9c/Estradiol_levels_during_therapy_with_0.25_mg_buccal_estradiol_in_postmenopausal_women.png\"\n",
    "    alt=\"Estradiol levels measured in hourly intervals following buccal dosing\"\n",
    "/></a>\n",
    "</div>\n",
    "\"\"\")"
   ]
  },
  {
   "cell_type": "code",
   "execution_count": 6,
   "id": "0e54f990",
   "metadata": {},
   "outputs": [
    {
     "ename": "SyntaxError",
     "evalue": "invalid syntax (2746961100.py, line 18)",
     "output_type": "error",
     "traceback": [
      "\u001b[0;36m  File \u001b[0;32m\"/tmp/ipykernel_9831/2746961100.py\"\u001b[0;36m, line \u001b[0;32m18\u001b[0m\n\u001b[0;31m    \"e2\": (0.13, 0.97) # ng/mL\u001b[0m\n\u001b[0m    ^\u001b[0m\n\u001b[0;31mSyntaxError\u001b[0m\u001b[0;31m:\u001b[0m invalid syntax\n"
     ]
    }
   ],
   "source": [
    "# So if I'm taking 2mg/day of estradiol, I should on average be at the base line window 1.\n",
    "# Now I just need to have my levels measured at high E, P and Spiro. From there I can adjust\n",
    "# my upper limit to achieve average Window 2 peak. Measuring P levels will be more difficult,\n",
    "# I imagine.\n",
    "#\n",
    "# When dosing E2 sublingually, it's absorbed at least 5x faster and more effectively, reduces\n",
    "# risk of deep vein thrombosis, but it also reaches it's peak serum level at 1hr. Need more info\n",
    "# To deduce drop off period. Regardless, the safety aspects are very compelling to continue my\n",
    "# dosing as it currently is. Buccal dosing is near identical to sublingual dosing, with no significant\n",
    "# measurable difference.\n",
    "cycle_durration=28 # days\n",
    "e2_dose=0.5 # mg\n",
    "prog_dose=10 # mg\n",
    "\n",
    "# NOTE: these \n",
    "male_control_range={\n",
    "\t\"prog\": (10, 40) # pg/mL\n",
    "\t\"e2\": (0.13, 0.97) # ng/mL\n",
    "}\n",
    "\n",
    "# Female control range is unstable, these are the values\n",
    "female_control_range={\n",
    "\t\"prog\": (), # pg/mL\n",
    "\t\"e2\": (), # ng/mL\n",
    "}"
   ]
  },
  {
   "cell_type": "markdown",
   "id": "f4057a73",
   "metadata": {},
   "source": []
  },
  {
   "cell_type": "markdown",
   "id": "e2714477",
   "metadata": {},
   "source": [
    "### Citations\n",
    "\n",
    "BAGOT, C.N., MARSH, M.S., WHITEHEAD, M., SHERWOOD, R., ROBERTS, L., PATEL, R.K. and ARYA, R. (2010), The effect of estrone on thrombin generation may explain the different thrombotic risk between oral and transdermal hormone replacement therapy. Journal of Thrombosis and Haemostasis, 8: 1736-1744. [DOI: 10.1111/j.1538-7836.2010.03953.x](https://web.archive.org/web/20211011210733/https://sci-hubtw.hkvisa.net/10.1111/j.1538-7836.2010.03953.x)\n",
    "\n",
    "K. E. BRUMMEL-ZIEDINS; C. Y. VOSSEN; S. BUTENAS; K. G. MANN; F. R. ROSENDAAL (2005). Thrombin generation profiles in deep venous thrombosis. , 3(11), 2497–2505. [DOI: 10.1111/j.1538-7836.2005.01584.x](https://web.archive.org/web/20211011212138/https://www.ncbi.nlm.nih.gov/pmc/articles/PMC1410192/)\n",
    "\n",
    "Stricker, Reto; Eberhart, Raphael; Chevailler, Marie-Christine; Quinn, Frank A.; Bischof, Paul; Stricker, René (2006). Establishment of detailed reference values for luteinizing hormone, follicle stimulating hormone, estradiol, and progesterone during different phases of the menstrual cycle on the Abbott ARCHITECT® analyzer. Clinical Chemical Laboratory Medicine, 44(7), –. [DOI: 10.1515/cclm.2006.160](https://web.archive.org/web/20211012005337/https://sci-hubtw.hkvisa.net/10.1515/cclm.2006.160)\n",
    "\n",
    "Hilton, Heidi N.; Clarke, Christine L.; Graham, J. Dinny (2017). Estrogen and progesterone signalling in the normal breast and its implications for cancer development. Molecular and Cellular Endocrinology, (), S0303720717304331–. [DOI: 10.1016/j.mce.2017.08.011](https://sci-hubtw.hkvisa.net/10.1016/j.mce.2017.08.011)\n",
    "\n",
    "Beatrice A. Howard; Barry A. Gusterson (2000). Human Breast Development. , 5(2), 119–137. [DOI: 10.1023/a:1026487120779](https://web.archive.org/web/20211012220205/https://sci-hubtw.hkvisa.net/10.1023/a:1026487120779) \n",
    "\n",
    "Heller, Samantha L.; Young Lin, Leng Leng; Melsaether, Amy N.; Moy, Linda; Gao, Yiming  (2018). Hormonal Effects on Breast Density, Fibroglandular Tissue, and                     Background Parenchymal Enhancement. RadioGraphics, (), 180035–. [DOI: 10.1148/rg.2018180035](\n",
    "https://web.archive.org/web/20211017230946/https://sci-hubtw.hkvisa.net/10.1148/rg.2018180035)\n",
    "\n",
    "Karen Oerter Klein; Veronica Mericq; Jacquelyn M. Brown-Dawson; Kimberly A. Larmore; Patricia Cabezas; Amanda Cortinez (1999). Estrogen levels in girls with premature thelarche compared with normal prepubertal girls as determined by an ultrasensitive recombinant cell bioassay. , 134(2), 0–192. [DOI: 10.1016/s0022-3476(99)70414-2](https://web.archive.org/web/20211020023024/https://sci-hubtw.hkvisa.net/10.1016/s0022-3476%2899%2970414-2)\n",
    "\n",
    "Wierckx, Katrien; Gooren, Louis; T'Sjoen, Guy (2014). Clinical Review: Breast Development in Trans Women Receiving Cross-Sex Hormones. The Journal of Sexual Medicine, 11(5), 1240–1247. [DOI: 10.1111/jsm.12487](https://web.archive.org/web/20211020033810/https://sci-hubtw.hkvisa.net/10.1111/jsm.12487)\n",
    "<!--\n",
    "Havlicek, J.; Cobey, K. D.; Barrett, L.; Klapilova, K.; Roberts, S. C. (2015). The spandrels of Santa Barbara? A new perspective on the peri-ovulation paradigm. Behavioral Ecology, (), arv064–. [DOI: 10.1093/beheco/arv064](https://web.archive.org/web/20211011223032/https://sci-hubtw.hkvisa.net/10.1093/beheco/arv064)\n",
    "-->"
   ]
  },
  {
   "cell_type": "code",
   "execution_count": null,
   "id": "2a2e8664",
   "metadata": {},
   "outputs": [],
   "source": []
  }
 ],
 "metadata": {
  "kernelspec": {
   "display_name": "Python 3 (ipykernel)",
   "language": "python",
   "name": "python3"
  },
  "language_info": {
   "codemirror_mode": {
    "name": "ipython",
    "version": 3
   },
   "file_extension": ".py",
   "mimetype": "text/x-python",
   "name": "python",
   "nbconvert_exporter": "python",
   "pygments_lexer": "ipython3",
   "version": "3.9.5"
  },
  "widgets": {
   "application/vnd.jupyter.widget-state+json": {
    "state": {
     "000556d09b60493093236380abc3709d": {
      "model_module": "@jupyter-widgets/controls",
      "model_module_version": "1.5.0",
      "model_name": "IntSliderModel",
      "state": {
       "continuous_update": false,
       "layout": "IPY_MODEL_99cd935f702a46008e1f98a9a1e2d729",
       "max": 10,
       "readout": false,
       "step": 0,
       "style": "IPY_MODEL_cb163e2ef93c433f9c7f3d3d39ea4c22"
      }
     },
     "00cfcb539a3548f8b30dd3e2fbb43d32": {
      "model_module": "@jupyter-widgets/base",
      "model_module_version": "1.2.0",
      "model_name": "LayoutModel",
      "state": {}
     },
     "01e0a4e291204c59bc486775e9e8e610": {
      "model_module": "@jupyter-widgets/controls",
      "model_module_version": "1.5.0",
      "model_name": "SliderStyleModel",
      "state": {
       "description_width": ""
      }
     },
     "0214eec0569044609cf1d04998d0008b": {
      "model_module": "@jupyter-widgets/base",
      "model_module_version": "1.2.0",
      "model_name": "LayoutModel",
      "state": {}
     },
     "0287cb5272074eed8f6cd8991e60cb94": {
      "model_module": "@jupyter-widgets/base",
      "model_module_version": "1.2.0",
      "model_name": "LayoutModel",
      "state": {}
     },
     "02c0700c815543918f290e1b91df8a00": {
      "model_module": "@jupyter-widgets/base",
      "model_module_version": "1.2.0",
      "model_name": "LayoutModel",
      "state": {}
     },
     "030fdad668814d829d99b717daad2b8b": {
      "model_module": "@jupyter-widgets/controls",
      "model_module_version": "1.5.0",
      "model_name": "IntSliderModel",
      "state": {
       "layout": "IPY_MODEL_28ed57aa9c5b4f428a05d5d974d1c2c2",
       "max": 10,
       "readout": false,
       "style": "IPY_MODEL_304ffd809ac844bf90c03f6de1baf5b6"
      }
     },
     "0348b67042664da4b6499fb723c5e9ff": {
      "model_module": "@jupyter-widgets/controls",
      "model_module_version": "1.5.0",
      "model_name": "IntSliderModel",
      "state": {
       "layout": "IPY_MODEL_b884c4db83cb44678fc188b563eb8c7b",
       "readout": false,
       "style": "IPY_MODEL_f2d7c518b5c748b8a34ba1dd6f4ed6bb",
       "value": 49
      }
     },
     "0364018cb64f4f73b0c9c6b49a040fc0": {
      "model_module": "@jupyter-widgets/base",
      "model_module_version": "1.2.0",
      "model_name": "LayoutModel",
      "state": {}
     },
     "0412bfb556e34e088a5a761b92a79b2c": {
      "model_module": "@jupyter-widgets/base",
      "model_module_version": "1.2.0",
      "model_name": "LayoutModel",
      "state": {}
     },
     "04133a7b4fe14758a989b6bf21e21ed8": {
      "model_module": "@jupyter-widgets/base",
      "model_module_version": "1.2.0",
      "model_name": "LayoutModel",
      "state": {}
     },
     "042f83f1971741a38e385cc72e3285aa": {
      "model_module": "@jupyter-widgets/base",
      "model_module_version": "1.2.0",
      "model_name": "LayoutModel",
      "state": {}
     },
     "0473d7115cba4512a92c950d3d4e3ab2": {
      "model_module": "@jupyter-widgets/controls",
      "model_module_version": "1.5.0",
      "model_name": "IntSliderModel",
      "state": {
       "layout": "IPY_MODEL_55ae11b6ba614c45a560e8f7de1090a9",
       "readout": false,
       "style": "IPY_MODEL_84e9cc7a35c640f19c3c6f5257673c0a"
      }
     },
     "0484d7b337f94bbda8456b3b7e9713a8": {
      "model_module": "jupyter-matplotlib",
      "model_module_version": "^0.10.1",
      "model_name": "ToolbarModel",
      "state": {
       "layout": "IPY_MODEL_55cce7c0a48c4c8cafa3265ad57843cc",
       "toolitems": [
        [
         "Home",
         "Reset original view",
         "home",
         "home"
        ],
        [
         "Back",
         "Back to previous view",
         "arrow-left",
         "back"
        ],
        [
         "Forward",
         "Forward to next view",
         "arrow-right",
         "forward"
        ],
        [
         "Pan",
         "Left button pans, Right button zooms\nx/y fixes axis, CTRL fixes aspect",
         "arrows",
         "pan"
        ],
        [
         "Zoom",
         "Zoom to rectangle\nx/y fixes axis, CTRL fixes aspect",
         "square-o",
         "zoom"
        ],
        [
         "Download",
         "Download plot",
         "floppy-o",
         "save_figure"
        ]
       ]
      }
     },
     "04876ccbb1dc492dae7c1bc75343e164": {
      "model_module": "@jupyter-widgets/controls",
      "model_module_version": "1.5.0",
      "model_name": "IntSliderModel",
      "state": {
       "continuous_update": false,
       "layout": "IPY_MODEL_976e026536b24b198451ba70afce4602",
       "max": 10,
       "readout": false,
       "style": "IPY_MODEL_074b2e2d9b394ef992789b0ed2c63aff",
       "value": 5
      }
     },
     "04adeb01be574508b81e8a7593b5c2d8": {
      "model_module": "@jupyter-widgets/base",
      "model_module_version": "1.2.0",
      "model_name": "LayoutModel",
      "state": {}
     },
     "053f1e2ba671420eb898bccc463e1743": {
      "model_module": "@jupyter-widgets/base",
      "model_module_version": "1.2.0",
      "model_name": "LayoutModel",
      "state": {}
     },
     "057b9d8248044da18a523403f55b4734": {
      "model_module": "@jupyter-widgets/controls",
      "model_module_version": "1.5.0",
      "model_name": "SliderStyleModel",
      "state": {
       "description_width": ""
      }
     },
     "05c36e6fd21e486182b26a642d536193": {
      "model_module": "@jupyter-widgets/controls",
      "model_module_version": "1.5.0",
      "model_name": "IntSliderModel",
      "state": {
       "layout": "IPY_MODEL_ae2ad99532464c909c29adc9600d9a5b",
       "readout": false,
       "style": "IPY_MODEL_beebfb822f2b4512b1b40199d649ad05"
      }
     },
     "06799525caa54d11aa7be8b8f4b7e9ff": {
      "model_module": "@jupyter-widgets/base",
      "model_module_version": "1.2.0",
      "model_name": "LayoutModel",
      "state": {}
     },
     "06d801342c1143c0b0801657bf06e32f": {
      "model_module": "@jupyter-widgets/controls",
      "model_module_version": "1.5.0",
      "model_name": "SliderStyleModel",
      "state": {
       "description_width": ""
      }
     },
     "074b2e2d9b394ef992789b0ed2c63aff": {
      "model_module": "@jupyter-widgets/controls",
      "model_module_version": "1.5.0",
      "model_name": "SliderStyleModel",
      "state": {
       "description_width": ""
      }
     },
     "07cf4a021581493eb0dc9197b2969d69": {
      "model_module": "@jupyter-widgets/controls",
      "model_module_version": "1.5.0",
      "model_name": "IntSliderModel",
      "state": {
       "continuous_update": false,
       "layout": "IPY_MODEL_dc08a132010b47a5809435c91fb65bcb",
       "max": 10,
       "readout": false,
       "step": 0,
       "style": "IPY_MODEL_6dc91ec07b0a4928b37ad5f788f38d67"
      }
     },
     "085822979c3049fcbbd9e6c71548bc00": {
      "model_module": "@jupyter-widgets/controls",
      "model_module_version": "1.5.0",
      "model_name": "IntSliderModel",
      "state": {
       "continuous_update": false,
       "layout": "IPY_MODEL_a3d594f03cbb4fcea86a3e52e3e6a45a",
       "max": 10,
       "readout": false,
       "step": 0,
       "style": "IPY_MODEL_dcdcf63ff9034c32ade322993d09b8ee"
      }
     },
     "0932e56c4a1e480c9bff4eb52cdf7ef4": {
      "model_module": "@jupyter-widgets/base",
      "model_module_version": "1.2.0",
      "model_name": "LayoutModel",
      "state": {}
     },
     "09bed924c9634159a5be462752037c0a": {
      "model_module": "@jupyter-widgets/base",
      "model_module_version": "1.2.0",
      "model_name": "LayoutModel",
      "state": {}
     },
     "0a1517e890304a0c83deed64ccde09b2": {
      "model_module": "jupyter-matplotlib",
      "model_module_version": "^0.10.1",
      "model_name": "ToolbarModel",
      "state": {
       "layout": "IPY_MODEL_e1c24af2b11244238cefeadc484eb684",
       "toolitems": [
        [
         "Home",
         "Reset original view",
         "home",
         "home"
        ],
        [
         "Back",
         "Back to previous view",
         "arrow-left",
         "back"
        ],
        [
         "Forward",
         "Forward to next view",
         "arrow-right",
         "forward"
        ],
        [
         "Pan",
         "Left button pans, Right button zooms\nx/y fixes axis, CTRL fixes aspect",
         "arrows",
         "pan"
        ],
        [
         "Zoom",
         "Zoom to rectangle\nx/y fixes axis, CTRL fixes aspect",
         "square-o",
         "zoom"
        ],
        [
         "Download",
         "Download plot",
         "floppy-o",
         "save_figure"
        ]
       ]
      }
     },
     "0bbf6fe8f2eb4c00b737827a250714b5": {
      "model_module": "@jupyter-widgets/base",
      "model_module_version": "1.2.0",
      "model_name": "LayoutModel",
      "state": {}
     },
     "0bcdb4675cbc49acb40a4cc28509c7c9": {
      "model_module": "jupyter-matplotlib",
      "model_module_version": "^0.10.1",
      "model_name": "ToolbarModel",
      "state": {
       "layout": "IPY_MODEL_9d7aa336aa9241dd9ee4f599d6b22a4f",
       "toolitems": [
        [
         "Home",
         "Reset original view",
         "home",
         "home"
        ],
        [
         "Back",
         "Back to previous view",
         "arrow-left",
         "back"
        ],
        [
         "Forward",
         "Forward to next view",
         "arrow-right",
         "forward"
        ],
        [
         "Pan",
         "Left button pans, Right button zooms\nx/y fixes axis, CTRL fixes aspect",
         "arrows",
         "pan"
        ],
        [
         "Zoom",
         "Zoom to rectangle\nx/y fixes axis, CTRL fixes aspect",
         "square-o",
         "zoom"
        ],
        [
         "Download",
         "Download plot",
         "floppy-o",
         "save_figure"
        ]
       ]
      }
     },
     "0c651920313b41e6a4765566e1fce4ef": {
      "model_module": "@jupyter-widgets/base",
      "model_module_version": "1.2.0",
      "model_name": "LayoutModel",
      "state": {}
     },
     "0cec81cd00e0459ab00d4ef79a63ca01": {
      "model_module": "jupyter-matplotlib",
      "model_module_version": "^0.10.1",
      "model_name": "ToolbarModel",
      "state": {
       "layout": "IPY_MODEL_c330019455dd41429a789865a199a178",
       "toolitems": [
        [
         "Home",
         "Reset original view",
         "home",
         "home"
        ],
        [
         "Back",
         "Back to previous view",
         "arrow-left",
         "back"
        ],
        [
         "Forward",
         "Forward to next view",
         "arrow-right",
         "forward"
        ],
        [
         "Pan",
         "Left button pans, Right button zooms\nx/y fixes axis, CTRL fixes aspect",
         "arrows",
         "pan"
        ],
        [
         "Zoom",
         "Zoom to rectangle\nx/y fixes axis, CTRL fixes aspect",
         "square-o",
         "zoom"
        ],
        [
         "Download",
         "Download plot",
         "floppy-o",
         "save_figure"
        ]
       ]
      }
     },
     "0cfbbff78504467a99f6f05969b4616d": {
      "model_module": "@jupyter-widgets/controls",
      "model_module_version": "1.5.0",
      "model_name": "VBoxModel",
      "state": {
       "_dom_classes": [
        "widget-interact"
       ],
       "children": [
        "IPY_MODEL_686825753f2f4c5b88fd376839fc479e",
        "IPY_MODEL_411240aa98d84598a3813eb8bca1952e"
       ],
       "layout": "IPY_MODEL_1e889ea6611d46738b7fd3e6570e0b1f"
      }
     },
     "0cfd115a378341b193452ad3e19da86a": {
      "model_module": "@jupyter-widgets/base",
      "model_module_version": "1.2.0",
      "model_name": "LayoutModel",
      "state": {}
     },
     "0dc11b76bc6f4fdd8bae5217e9469ea7": {
      "model_module": "@jupyter-widgets/base",
      "model_module_version": "1.2.0",
      "model_name": "LayoutModel",
      "state": {}
     },
     "0dfbcefda12349ab995b95738719d7aa": {
      "model_module": "@jupyter-widgets/base",
      "model_module_version": "1.2.0",
      "model_name": "LayoutModel",
      "state": {}
     },
     "0f55693425704fd7a9c86b127892793c": {
      "model_module": "jupyter-matplotlib",
      "model_module_version": "^0.10.1",
      "model_name": "ToolbarModel",
      "state": {
       "layout": "IPY_MODEL_b836cbcc262348378d8a84faa1d8288a",
       "toolitems": [
        [
         "Home",
         "Reset original view",
         "home",
         "home"
        ],
        [
         "Back",
         "Back to previous view",
         "arrow-left",
         "back"
        ],
        [
         "Forward",
         "Forward to next view",
         "arrow-right",
         "forward"
        ],
        [
         "Pan",
         "Left button pans, Right button zooms\nx/y fixes axis, CTRL fixes aspect",
         "arrows",
         "pan"
        ],
        [
         "Zoom",
         "Zoom to rectangle\nx/y fixes axis, CTRL fixes aspect",
         "square-o",
         "zoom"
        ],
        [
         "Download",
         "Download plot",
         "floppy-o",
         "save_figure"
        ]
       ]
      }
     },
     "10a11c20bb824e5c9966192c03d858e6": {
      "model_module": "@jupyter-widgets/base",
      "model_module_version": "1.2.0",
      "model_name": "LayoutModel",
      "state": {}
     },
     "114b455fa638498aa784d14585c86580": {
      "model_module": "@jupyter-widgets/controls",
      "model_module_version": "1.5.0",
      "model_name": "SliderStyleModel",
      "state": {
       "description_width": ""
      }
     },
     "11de94351bc64dcbacc165e6632e682b": {
      "model_module": "@jupyter-widgets/controls",
      "model_module_version": "1.5.0",
      "model_name": "IntSliderModel",
      "state": {
       "layout": "IPY_MODEL_de5222a5a424493b970b40c458de02c4",
       "readout": false,
       "style": "IPY_MODEL_9af92c847d2d4fabab09f7e5dc65db37"
      }
     },
     "1205815854564d298d1d5c771c23e7e2": {
      "model_module": "@jupyter-widgets/base",
      "model_module_version": "1.2.0",
      "model_name": "LayoutModel",
      "state": {}
     },
     "1224adaff4d440adbcf0f364fd3f30e0": {
      "model_module": "@jupyter-widgets/base",
      "model_module_version": "1.2.0",
      "model_name": "LayoutModel",
      "state": {}
     },
     "124d0e57349c4fb1b684a31c6b5053ae": {
      "model_module": "@jupyter-widgets/controls",
      "model_module_version": "1.5.0",
      "model_name": "IntSliderModel",
      "state": {
       "description": "l",
       "layout": "IPY_MODEL_8a38ce38057c4bf5a94d223b23204442",
       "readout": false,
       "style": "IPY_MODEL_33e0a268855c46e2ab362783fe4a2637",
       "value": 78
      }
     },
     "12b4a106b1d64b239436587f3f045358": {
      "model_module": "@jupyter-widgets/controls",
      "model_module_version": "1.5.0",
      "model_name": "SliderStyleModel",
      "state": {
       "description_width": ""
      }
     },
     "12f2edcefd4742cea04b67e2bcd43dda": {
      "model_module": "@jupyter-widgets/controls",
      "model_module_version": "1.5.0",
      "model_name": "IntSliderModel",
      "state": {
       "continuous_update": false,
       "layout": "IPY_MODEL_994140b6aa194f859d404f593df0d413",
       "max": 10,
       "readout": false,
       "step": 0,
       "style": "IPY_MODEL_6c00dd764cc7493791ac501ac83bbdbf"
      }
     },
     "135efc5d2f8f4a52955d968264594873": {
      "model_module": "jupyter-matplotlib",
      "model_module_version": "^0.10.1",
      "model_name": "ToolbarModel",
      "state": {
       "layout": "IPY_MODEL_9b695e4fb9e543fc97928f6418abe68c",
       "toolitems": [
        [
         "Home",
         "Reset original view",
         "home",
         "home"
        ],
        [
         "Back",
         "Back to previous view",
         "arrow-left",
         "back"
        ],
        [
         "Forward",
         "Forward to next view",
         "arrow-right",
         "forward"
        ],
        [
         "Pan",
         "Left button pans, Right button zooms\nx/y fixes axis, CTRL fixes aspect",
         "arrows",
         "pan"
        ],
        [
         "Zoom",
         "Zoom to rectangle\nx/y fixes axis, CTRL fixes aspect",
         "square-o",
         "zoom"
        ],
        [
         "Download",
         "Download plot",
         "floppy-o",
         "save_figure"
        ]
       ]
      }
     },
     "13ba3709fabc488b982fc757fa2b5c6c": {
      "model_module": "jupyter-matplotlib",
      "model_module_version": "^0.10.1",
      "model_name": "ToolbarModel",
      "state": {
       "layout": "IPY_MODEL_986ec52d6abd4c57801b64f7c6947829",
       "toolitems": [
        [
         "Home",
         "Reset original view",
         "home",
         "home"
        ],
        [
         "Back",
         "Back to previous view",
         "arrow-left",
         "back"
        ],
        [
         "Forward",
         "Forward to next view",
         "arrow-right",
         "forward"
        ],
        [
         "Pan",
         "Left button pans, Right button zooms\nx/y fixes axis, CTRL fixes aspect",
         "arrows",
         "pan"
        ],
        [
         "Zoom",
         "Zoom to rectangle\nx/y fixes axis, CTRL fixes aspect",
         "square-o",
         "zoom"
        ],
        [
         "Download",
         "Download plot",
         "floppy-o",
         "save_figure"
        ]
       ]
      }
     },
     "14f762a053c84b988b0b990d75223ee6": {
      "model_module": "jupyter-matplotlib",
      "model_module_version": "^0.10.1",
      "model_name": "ToolbarModel",
      "state": {
       "layout": "IPY_MODEL_59b5896bf3574dc7ab8d1e0fb8d03d4b",
       "toolitems": [
        [
         "Home",
         "Reset original view",
         "home",
         "home"
        ],
        [
         "Back",
         "Back to previous view",
         "arrow-left",
         "back"
        ],
        [
         "Forward",
         "Forward to next view",
         "arrow-right",
         "forward"
        ],
        [
         "Pan",
         "Left button pans, Right button zooms\nx/y fixes axis, CTRL fixes aspect",
         "arrows",
         "pan"
        ],
        [
         "Zoom",
         "Zoom to rectangle\nx/y fixes axis, CTRL fixes aspect",
         "square-o",
         "zoom"
        ],
        [
         "Download",
         "Download plot",
         "floppy-o",
         "save_figure"
        ]
       ]
      }
     },
     "15063d897aa84d4790a5b02479af2511": {
      "model_module": "@jupyter-widgets/controls",
      "model_module_version": "1.5.0",
      "model_name": "SliderStyleModel",
      "state": {
       "description_width": ""
      }
     },
     "153a3446ac9243eba9d236fa6e4b7ddf": {
      "model_module": "@jupyter-widgets/controls",
      "model_module_version": "1.5.0",
      "model_name": "IntSliderModel",
      "state": {
       "layout": "IPY_MODEL_b7596eac5ac546f088c496cc42b76df2",
       "readout": false,
       "style": "IPY_MODEL_67e743cadb7049adb93553304a6329e2"
      }
     },
     "15aa213671f540b48193a27fd250c006": {
      "model_module": "@jupyter-widgets/base",
      "model_module_version": "1.2.0",
      "model_name": "LayoutModel",
      "state": {}
     },
     "16290c774f774117902688be705fafbc": {
      "model_module": "@jupyter-widgets/base",
      "model_module_version": "1.2.0",
      "model_name": "LayoutModel",
      "state": {}
     },
     "16a215a82cf746b380eb141761711691": {
      "model_module": "@jupyter-widgets/base",
      "model_module_version": "1.2.0",
      "model_name": "LayoutModel",
      "state": {}
     },
     "16d34f74dd734d2889d561cae50ce22a": {
      "model_module": "jupyter-matplotlib",
      "model_module_version": "^0.10.1",
      "model_name": "ToolbarModel",
      "state": {
       "layout": "IPY_MODEL_3ddb20655fa24d71877515ba8e927dfa",
       "toolitems": [
        [
         "Home",
         "Reset original view",
         "home",
         "home"
        ],
        [
         "Back",
         "Back to previous view",
         "arrow-left",
         "back"
        ],
        [
         "Forward",
         "Forward to next view",
         "arrow-right",
         "forward"
        ],
        [
         "Pan",
         "Left button pans, Right button zooms\nx/y fixes axis, CTRL fixes aspect",
         "arrows",
         "pan"
        ],
        [
         "Zoom",
         "Zoom to rectangle\nx/y fixes axis, CTRL fixes aspect",
         "square-o",
         "zoom"
        ],
        [
         "Download",
         "Download plot",
         "floppy-o",
         "save_figure"
        ]
       ]
      }
     },
     "17211db3eef547a183b28bedbc534aa8": {
      "model_module": "@jupyter-widgets/controls",
      "model_module_version": "1.5.0",
      "model_name": "SliderStyleModel",
      "state": {
       "description_width": ""
      }
     },
     "1800791e017c46be8f4d222a0156854b": {
      "model_module": "@jupyter-widgets/base",
      "model_module_version": "1.2.0",
      "model_name": "LayoutModel",
      "state": {}
     },
     "1970af05b4b441e0a96c04fda9d67a00": {
      "model_module": "@jupyter-widgets/controls",
      "model_module_version": "1.5.0",
      "model_name": "SliderStyleModel",
      "state": {
       "description_width": ""
      }
     },
     "19f03fb1804a477dac5c85fb78345d3c": {
      "model_module": "jupyter-matplotlib",
      "model_module_version": "^0.10.1",
      "model_name": "ToolbarModel",
      "state": {
       "layout": "IPY_MODEL_58031a171ce44d3c831446c4ffc8cd6c",
       "toolitems": [
        [
         "Home",
         "Reset original view",
         "home",
         "home"
        ],
        [
         "Back",
         "Back to previous view",
         "arrow-left",
         "back"
        ],
        [
         "Forward",
         "Forward to next view",
         "arrow-right",
         "forward"
        ],
        [
         "Pan",
         "Left button pans, Right button zooms\nx/y fixes axis, CTRL fixes aspect",
         "arrows",
         "pan"
        ],
        [
         "Zoom",
         "Zoom to rectangle\nx/y fixes axis, CTRL fixes aspect",
         "square-o",
         "zoom"
        ],
        [
         "Download",
         "Download plot",
         "floppy-o",
         "save_figure"
        ]
       ]
      }
     },
     "1a164caea1794b48855f319b512588f1": {
      "model_module": "@jupyter-widgets/controls",
      "model_module_version": "1.5.0",
      "model_name": "IntSliderModel",
      "state": {
       "description": "l",
       "layout": "IPY_MODEL_b364952a73cf4ae281ea36b0b5a8f737",
       "readout": false,
       "style": "IPY_MODEL_e56c35b1f5ea4d4ca93b9544a72981a4",
       "value": 55
      }
     },
     "1aa1bca7ca284887a7686e5cbdbc8fd6": {
      "model_module": "jupyter-matplotlib",
      "model_module_version": "^0.10.1",
      "model_name": "ToolbarModel",
      "state": {
       "layout": "IPY_MODEL_d1c46191137b4d35b56fc3e82343e8b1",
       "toolitems": [
        [
         "Home",
         "Reset original view",
         "home",
         "home"
        ],
        [
         "Back",
         "Back to previous view",
         "arrow-left",
         "back"
        ],
        [
         "Forward",
         "Forward to next view",
         "arrow-right",
         "forward"
        ],
        [
         "Pan",
         "Left button pans, Right button zooms\nx/y fixes axis, CTRL fixes aspect",
         "arrows",
         "pan"
        ],
        [
         "Zoom",
         "Zoom to rectangle\nx/y fixes axis, CTRL fixes aspect",
         "square-o",
         "zoom"
        ],
        [
         "Download",
         "Download plot",
         "floppy-o",
         "save_figure"
        ]
       ]
      }
     },
     "1ade6fb5ccd04d0eafe39334a4351583": {
      "model_module": "@jupyter-widgets/base",
      "model_module_version": "1.2.0",
      "model_name": "LayoutModel",
      "state": {}
     },
     "1b3a25263f614418b41ad9ec87917e62": {
      "model_module": "@jupyter-widgets/base",
      "model_module_version": "1.2.0",
      "model_name": "LayoutModel",
      "state": {}
     },
     "1c90b8c42f6b470eba4529421699ec75": {
      "model_module": "@jupyter-widgets/base",
      "model_module_version": "1.2.0",
      "model_name": "LayoutModel",
      "state": {}
     },
     "1cd32c7caf484daf8a102a97651d44b3": {
      "model_module": "@jupyter-widgets/controls",
      "model_module_version": "1.5.0",
      "model_name": "SliderStyleModel",
      "state": {
       "description_width": ""
      }
     },
     "1d828e436f1d4a5e944842ec1f7ab26b": {
      "model_module": "@jupyter-widgets/base",
      "model_module_version": "1.2.0",
      "model_name": "LayoutModel",
      "state": {}
     },
     "1e889ea6611d46738b7fd3e6570e0b1f": {
      "model_module": "@jupyter-widgets/base",
      "model_module_version": "1.2.0",
      "model_name": "LayoutModel",
      "state": {}
     },
     "1ec30a4163ef4c78a1da8625f3e30304": {
      "model_module": "@jupyter-widgets/base",
      "model_module_version": "1.2.0",
      "model_name": "LayoutModel",
      "state": {}
     },
     "1ee06bb1ad18483d944f175383e8ee25": {
      "model_module": "jupyter-matplotlib",
      "model_module_version": "^0.10.1",
      "model_name": "ToolbarModel",
      "state": {
       "layout": "IPY_MODEL_92f2245d3a284c49914cee81c89606ae",
       "toolitems": [
        [
         "Home",
         "Reset original view",
         "home",
         "home"
        ],
        [
         "Back",
         "Back to previous view",
         "arrow-left",
         "back"
        ],
        [
         "Forward",
         "Forward to next view",
         "arrow-right",
         "forward"
        ],
        [
         "Pan",
         "Left button pans, Right button zooms\nx/y fixes axis, CTRL fixes aspect",
         "arrows",
         "pan"
        ],
        [
         "Zoom",
         "Zoom to rectangle\nx/y fixes axis, CTRL fixes aspect",
         "square-o",
         "zoom"
        ],
        [
         "Download",
         "Download plot",
         "floppy-o",
         "save_figure"
        ]
       ]
      }
     },
     "1f70214075274f1980901e5d0d07b268": {
      "model_module": "@jupyter-widgets/base",
      "model_module_version": "1.2.0",
      "model_name": "LayoutModel",
      "state": {}
     },
     "20682ca8b0cf4b918fae8e37e9cb4cc3": {
      "model_module": "@jupyter-widgets/base",
      "model_module_version": "1.2.0",
      "model_name": "LayoutModel",
      "state": {}
     },
     "20896d4b272947c2a1ae88b23f9f2381": {
      "model_module": "@jupyter-widgets/base",
      "model_module_version": "1.2.0",
      "model_name": "LayoutModel",
      "state": {}
     },
     "20bb1fc3c52d4ea982867a05f9dfbf3a": {
      "model_module": "jupyter-matplotlib",
      "model_module_version": "^0.10.1",
      "model_name": "ToolbarModel",
      "state": {
       "layout": "IPY_MODEL_a761224d6d3848fdaee7b6f5e16dbbd2",
       "toolitems": [
        [
         "Home",
         "Reset original view",
         "home",
         "home"
        ],
        [
         "Back",
         "Back to previous view",
         "arrow-left",
         "back"
        ],
        [
         "Forward",
         "Forward to next view",
         "arrow-right",
         "forward"
        ],
        [
         "Pan",
         "Left button pans, Right button zooms\nx/y fixes axis, CTRL fixes aspect",
         "arrows",
         "pan"
        ],
        [
         "Zoom",
         "Zoom to rectangle\nx/y fixes axis, CTRL fixes aspect",
         "square-o",
         "zoom"
        ],
        [
         "Download",
         "Download plot",
         "floppy-o",
         "save_figure"
        ]
       ]
      }
     },
     "219b22292df64e9cb20cf2d99fbf6bf9": {
      "model_module": "@jupyter-widgets/controls",
      "model_module_version": "1.5.0",
      "model_name": "SliderStyleModel",
      "state": {
       "description_width": ""
      }
     },
     "2356a6c90a2e4f92839df30b15cda5e6": {
      "model_module": "@jupyter-widgets/controls",
      "model_module_version": "1.5.0",
      "model_name": "IntSliderModel",
      "state": {
       "layout": "IPY_MODEL_862e55757edf4a969112aca43dc4378a",
       "readout": false,
       "style": "IPY_MODEL_409d325b71af4d6888e97f8bf597d3e3"
      }
     },
     "23f6bcb3b09d4b258966b902df6864d2": {
      "model_module": "@jupyter-widgets/base",
      "model_module_version": "1.2.0",
      "model_name": "LayoutModel",
      "state": {}
     },
     "24433a8672ab486a895af5578adcdab9": {
      "model_module": "@jupyter-widgets/base",
      "model_module_version": "1.2.0",
      "model_name": "LayoutModel",
      "state": {}
     },
     "247f5b81cbfd4abfa93dc09da7c0bf96": {
      "model_module": "@jupyter-widgets/base",
      "model_module_version": "1.2.0",
      "model_name": "LayoutModel",
      "state": {}
     },
     "24a0afe0472e4cc5b7966e1d612a5921": {
      "model_module": "@jupyter-widgets/controls",
      "model_module_version": "1.5.0",
      "model_name": "IntSliderModel",
      "state": {
       "layout": "IPY_MODEL_c067d6049cba418b96672c3f9743d3e5",
       "readout": false,
       "style": "IPY_MODEL_52706e294d0a405e9b4567169142ad2d"
      }
     },
     "24b483f4183449ca80c9699ee6567929": {
      "model_module": "jupyter-matplotlib",
      "model_module_version": "^0.10.1",
      "model_name": "ToolbarModel",
      "state": {
       "layout": "IPY_MODEL_7244349ecc0d48bf99780048ae9194ba",
       "toolitems": [
        [
         "Home",
         "Reset original view",
         "home",
         "home"
        ],
        [
         "Back",
         "Back to previous view",
         "arrow-left",
         "back"
        ],
        [
         "Forward",
         "Forward to next view",
         "arrow-right",
         "forward"
        ],
        [
         "Pan",
         "Left button pans, Right button zooms\nx/y fixes axis, CTRL fixes aspect",
         "arrows",
         "pan"
        ],
        [
         "Zoom",
         "Zoom to rectangle\nx/y fixes axis, CTRL fixes aspect",
         "square-o",
         "zoom"
        ],
        [
         "Download",
         "Download plot",
         "floppy-o",
         "save_figure"
        ]
       ]
      }
     },
     "2540671d08064d4090406712477de071": {
      "model_module": "@jupyter-widgets/base",
      "model_module_version": "1.2.0",
      "model_name": "LayoutModel",
      "state": {}
     },
     "25b8100468fe421ab5150c99caf28bf8": {
      "model_module": "@jupyter-widgets/base",
      "model_module_version": "1.2.0",
      "model_name": "LayoutModel",
      "state": {}
     },
     "25ce5d02b92b4c15944527a58b215e02": {
      "model_module": "@jupyter-widgets/base",
      "model_module_version": "1.2.0",
      "model_name": "LayoutModel",
      "state": {}
     },
     "263cfd0e5fa04f76afcde68c6a15ed5f": {
      "model_module": "@jupyter-widgets/base",
      "model_module_version": "1.2.0",
      "model_name": "LayoutModel",
      "state": {}
     },
     "266ac97c8dc841fc965737b4ce9c0170": {
      "model_module": "@jupyter-widgets/base",
      "model_module_version": "1.2.0",
      "model_name": "LayoutModel",
      "state": {}
     },
     "26b9f51b4c78463d895893b87005136a": {
      "model_module": "@jupyter-widgets/controls",
      "model_module_version": "1.5.0",
      "model_name": "IntSliderModel",
      "state": {
       "layout": "IPY_MODEL_8e842574ee934fa2b4ea24a8224a0a08",
       "max": 10,
       "readout": false,
       "style": "IPY_MODEL_4c924884f3d74a35b634bef20b4f049e"
      }
     },
     "26e6c57bdcbb4ee88a2b76c2989d7922": {
      "model_module": "@jupyter-widgets/controls",
      "model_module_version": "1.5.0",
      "model_name": "IntSliderModel",
      "state": {
       "layout": "IPY_MODEL_c24785cea0f643259efdb5c62e785f64",
       "max": 10,
       "readout": false,
       "style": "IPY_MODEL_a1cf343316254ee0b360c493faff5f99",
       "value": 4
      }
     },
     "27267a4a07ad4723a19837ba85933b52": {
      "model_module": "@jupyter-widgets/controls",
      "model_module_version": "1.5.0",
      "model_name": "IntSliderModel",
      "state": {
       "layout": "IPY_MODEL_dcea1d1da5e04a3c8d4a541c3d086fad",
       "readout": false,
       "style": "IPY_MODEL_bc3ed520126f4804959adf566505ad93",
       "value": 82
      }
     },
     "27508928808842d7b46d62979d5f54a2": {
      "model_module": "@jupyter-widgets/controls",
      "model_module_version": "1.5.0",
      "model_name": "SliderStyleModel",
      "state": {
       "description_width": ""
      }
     },
     "27d9fc68d1b940cab09bd94904eafdbd": {
      "model_module": "@jupyter-widgets/controls",
      "model_module_version": "1.5.0",
      "model_name": "SliderStyleModel",
      "state": {
       "description_width": ""
      }
     },
     "281d389f969a4d4795b234ea1eda0ad6": {
      "model_module": "@jupyter-widgets/controls",
      "model_module_version": "1.5.0",
      "model_name": "SliderStyleModel",
      "state": {
       "description_width": ""
      }
     },
     "28ed57aa9c5b4f428a05d5d974d1c2c2": {
      "model_module": "@jupyter-widgets/base",
      "model_module_version": "1.2.0",
      "model_name": "LayoutModel",
      "state": {}
     },
     "29448b97cfdb44578fcaea9218e8289b": {
      "model_module": "jupyter-matplotlib",
      "model_module_version": "^0.10.1",
      "model_name": "ToolbarModel",
      "state": {
       "layout": "IPY_MODEL_02c0700c815543918f290e1b91df8a00",
       "toolitems": [
        [
         "Home",
         "Reset original view",
         "home",
         "home"
        ],
        [
         "Back",
         "Back to previous view",
         "arrow-left",
         "back"
        ],
        [
         "Forward",
         "Forward to next view",
         "arrow-right",
         "forward"
        ],
        [
         "Pan",
         "Left button pans, Right button zooms\nx/y fixes axis, CTRL fixes aspect",
         "arrows",
         "pan"
        ],
        [
         "Zoom",
         "Zoom to rectangle\nx/y fixes axis, CTRL fixes aspect",
         "square-o",
         "zoom"
        ],
        [
         "Download",
         "Download plot",
         "floppy-o",
         "save_figure"
        ]
       ]
      }
     },
     "296f49edffee4a958151c16abe943be1": {
      "model_module": "@jupyter-widgets/base",
      "model_module_version": "1.2.0",
      "model_name": "LayoutModel",
      "state": {}
     },
     "29ddfa0fbec5449cba693d5e61a30960": {
      "model_module": "@jupyter-widgets/base",
      "model_module_version": "1.2.0",
      "model_name": "LayoutModel",
      "state": {}
     },
     "2aa96b4ca55b49f6a2de20bd5193137c": {
      "model_module": "@jupyter-widgets/base",
      "model_module_version": "1.2.0",
      "model_name": "LayoutModel",
      "state": {}
     },
     "2aebc5fb2a7b4c7d940b2a7906162b03": {
      "model_module": "@jupyter-widgets/base",
      "model_module_version": "1.2.0",
      "model_name": "LayoutModel",
      "state": {}
     },
     "2b343815c0d546b7aab1d1737c1588ba": {
      "model_module": "@jupyter-widgets/controls",
      "model_module_version": "1.5.0",
      "model_name": "IntSliderModel",
      "state": {
       "layout": "IPY_MODEL_750daa1ed9c644d1b6f5ca0aa9ab19ff",
       "max": 10,
       "readout": false,
       "style": "IPY_MODEL_3500891491a44a4980bba991d3f378c8",
       "value": 5
      }
     },
     "2b6fc15486944a68a5c5d807165fb2f7": {
      "model_module": "@jupyter-widgets/base",
      "model_module_version": "1.2.0",
      "model_name": "LayoutModel",
      "state": {}
     },
     "2c411611af1b444ea67b12f0168ccef0": {
      "model_module": "@jupyter-widgets/base",
      "model_module_version": "1.2.0",
      "model_name": "LayoutModel",
      "state": {}
     },
     "2c416e37bd4547e685e3c61aa3c8444e": {
      "model_module": "@jupyter-widgets/controls",
      "model_module_version": "1.5.0",
      "model_name": "SliderStyleModel",
      "state": {
       "description_width": ""
      }
     },
     "2d02125070314a3f9460ecaa81817911": {
      "model_module": "jupyter-matplotlib",
      "model_module_version": "^0.10.1",
      "model_name": "ToolbarModel",
      "state": {
       "layout": "IPY_MODEL_d1888aa82d1e4032b56a4ebe9386cc3e",
       "toolitems": [
        [
         "Home",
         "Reset original view",
         "home",
         "home"
        ],
        [
         "Back",
         "Back to previous view",
         "arrow-left",
         "back"
        ],
        [
         "Forward",
         "Forward to next view",
         "arrow-right",
         "forward"
        ],
        [
         "Pan",
         "Left button pans, Right button zooms\nx/y fixes axis, CTRL fixes aspect",
         "arrows",
         "pan"
        ],
        [
         "Zoom",
         "Zoom to rectangle\nx/y fixes axis, CTRL fixes aspect",
         "square-o",
         "zoom"
        ],
        [
         "Download",
         "Download plot",
         "floppy-o",
         "save_figure"
        ]
       ]
      }
     },
     "2d0d985b714445e3b9adb58ae2994a92": {
      "model_module": "jupyter-matplotlib",
      "model_module_version": "^0.10.1",
      "model_name": "ToolbarModel",
      "state": {
       "layout": "IPY_MODEL_62f0bf5e7c6142f493c23bd0fee6060a",
       "toolitems": [
        [
         "Home",
         "Reset original view",
         "home",
         "home"
        ],
        [
         "Back",
         "Back to previous view",
         "arrow-left",
         "back"
        ],
        [
         "Forward",
         "Forward to next view",
         "arrow-right",
         "forward"
        ],
        [
         "Pan",
         "Left button pans, Right button zooms\nx/y fixes axis, CTRL fixes aspect",
         "arrows",
         "pan"
        ],
        [
         "Zoom",
         "Zoom to rectangle\nx/y fixes axis, CTRL fixes aspect",
         "square-o",
         "zoom"
        ],
        [
         "Download",
         "Download plot",
         "floppy-o",
         "save_figure"
        ]
       ]
      }
     },
     "2d0dea36868e46db9457ab2a8d199e04": {
      "model_module": "@jupyter-widgets/controls",
      "model_module_version": "1.5.0",
      "model_name": "SliderStyleModel",
      "state": {
       "description_width": ""
      }
     },
     "2d3d6fe03407491989a9e956a8695edc": {
      "model_module": "@jupyter-widgets/controls",
      "model_module_version": "1.5.0",
      "model_name": "IntSliderModel",
      "state": {
       "layout": "IPY_MODEL_d8a0709c66744ed181a9fb22ec73a7f0",
       "readout": false,
       "style": "IPY_MODEL_b646eaefbc784ae39dc753731d6d02bb"
      }
     },
     "2ddbfd604c1c433f8c9b2f76fb6d0a00": {
      "model_module": "@jupyter-widgets/base",
      "model_module_version": "1.2.0",
      "model_name": "LayoutModel",
      "state": {}
     },
     "2fb719313135441e9e785b46557e2058": {
      "model_module": "jupyter-matplotlib",
      "model_module_version": "^0.10.1",
      "model_name": "ToolbarModel",
      "state": {
       "layout": "IPY_MODEL_0287cb5272074eed8f6cd8991e60cb94",
       "toolitems": [
        [
         "Home",
         "Reset original view",
         "home",
         "home"
        ],
        [
         "Back",
         "Back to previous view",
         "arrow-left",
         "back"
        ],
        [
         "Forward",
         "Forward to next view",
         "arrow-right",
         "forward"
        ],
        [
         "Pan",
         "Left button pans, Right button zooms\nx/y fixes axis, CTRL fixes aspect",
         "arrows",
         "pan"
        ],
        [
         "Zoom",
         "Zoom to rectangle\nx/y fixes axis, CTRL fixes aspect",
         "square-o",
         "zoom"
        ],
        [
         "Download",
         "Download plot",
         "floppy-o",
         "save_figure"
        ]
       ]
      }
     },
     "2fe45f7ece2348fc966e42ce83d594c5": {
      "model_module": "@jupyter-widgets/controls",
      "model_module_version": "1.5.0",
      "model_name": "IntSliderModel",
      "state": {
       "layout": "IPY_MODEL_1c90b8c42f6b470eba4529421699ec75",
       "max": 10,
       "readout": false,
       "style": "IPY_MODEL_cc7efee10b434dc09dfe4d7553382e1a",
       "value": 3
      }
     },
     "304437dd9d8f4848a093aa3638a67ee2": {
      "model_module": "@jupyter-widgets/base",
      "model_module_version": "1.2.0",
      "model_name": "LayoutModel",
      "state": {}
     },
     "304ffd809ac844bf90c03f6de1baf5b6": {
      "model_module": "@jupyter-widgets/controls",
      "model_module_version": "1.5.0",
      "model_name": "SliderStyleModel",
      "state": {
       "description_width": ""
      }
     },
     "31bbfda9981a4ab7bd2255a7d5dafaa9": {
      "model_module": "@jupyter-widgets/base",
      "model_module_version": "1.2.0",
      "model_name": "LayoutModel",
      "state": {}
     },
     "32447af998374027b0cc8c53bcfb4807": {
      "model_module": "@jupyter-widgets/base",
      "model_module_version": "1.2.0",
      "model_name": "LayoutModel",
      "state": {}
     },
     "3319d48484504f25b6c34d74dc3084f1": {
      "model_module": "@jupyter-widgets/controls",
      "model_module_version": "1.5.0",
      "model_name": "IntSliderModel",
      "state": {
       "layout": "IPY_MODEL_5c696c4da55444ed9430423b0b9de4d8",
       "readout": false,
       "style": "IPY_MODEL_a5467d97af6f44949cdb0abc75e9d3af",
       "value": 43
      }
     },
     "335256f25dc443dba253827ee3fc6fa3": {
      "model_module": "@jupyter-widgets/base",
      "model_module_version": "1.2.0",
      "model_name": "LayoutModel",
      "state": {}
     },
     "33e0a268855c46e2ab362783fe4a2637": {
      "model_module": "@jupyter-widgets/controls",
      "model_module_version": "1.5.0",
      "model_name": "SliderStyleModel",
      "state": {
       "description_width": ""
      }
     },
     "33f3cd65d8424cc5a24fbac9a8b9d55f": {
      "model_module": "@jupyter-widgets/base",
      "model_module_version": "1.2.0",
      "model_name": "LayoutModel",
      "state": {}
     },
     "348b073db8c148beba945c13631b0dca": {
      "model_module": "@jupyter-widgets/controls",
      "model_module_version": "1.5.0",
      "model_name": "SliderStyleModel",
      "state": {
       "description_width": ""
      }
     },
     "3500891491a44a4980bba991d3f378c8": {
      "model_module": "@jupyter-widgets/controls",
      "model_module_version": "1.5.0",
      "model_name": "SliderStyleModel",
      "state": {
       "description_width": ""
      }
     },
     "3563f749e58743a7bf659177126e2097": {
      "model_module": "@jupyter-widgets/controls",
      "model_module_version": "1.5.0",
      "model_name": "IntSliderModel",
      "state": {
       "layout": "IPY_MODEL_8c364f25588b4bc6ba0d11b312b937c4",
       "readout": false,
       "style": "IPY_MODEL_5c7115b77e0b4319a41e0d8ef35ee789"
      }
     },
     "357173cfed9342848c696fcee5ec5a06": {
      "model_module": "@jupyter-widgets/controls",
      "model_module_version": "1.5.0",
      "model_name": "SliderStyleModel",
      "state": {
       "description_width": ""
      }
     },
     "3591bdad5aa44ef198b7e59f12ab0333": {
      "model_module": "@jupyter-widgets/base",
      "model_module_version": "1.2.0",
      "model_name": "LayoutModel",
      "state": {}
     },
     "35c62e14bbba42249c1f5087be6f0daa": {
      "model_module": "@jupyter-widgets/controls",
      "model_module_version": "1.5.0",
      "model_name": "VBoxModel",
      "state": {
       "_dom_classes": [
        "widget-interact"
       ],
       "children": [
        "IPY_MODEL_a053242d88d24ad480b08a9d2654ca6d",
        "IPY_MODEL_c50f233403674eaa9efa513db23308ee"
       ],
       "layout": "IPY_MODEL_a33d783c6a7e4fd283823eccf3034890"
      }
     },
     "36732655038f4a289a13d09e2add0fc3": {
      "model_module": "@jupyter-widgets/base",
      "model_module_version": "1.2.0",
      "model_name": "LayoutModel",
      "state": {}
     },
     "367ba2a403b84688b4447837f69bdad3": {
      "model_module": "@jupyter-widgets/base",
      "model_module_version": "1.2.0",
      "model_name": "LayoutModel",
      "state": {}
     },
     "374fc8647c0a4bddb1e2b84fb21fd2e3": {
      "model_module": "@jupyter-widgets/base",
      "model_module_version": "1.2.0",
      "model_name": "LayoutModel",
      "state": {}
     },
     "383d83b3a54f49da87003e2592a4fc34": {
      "model_module": "@jupyter-widgets/base",
      "model_module_version": "1.2.0",
      "model_name": "LayoutModel",
      "state": {}
     },
     "38aa5f589ff84decaf1bdd3f91ac9057": {
      "model_module": "jupyter-matplotlib",
      "model_module_version": "^0.10.1",
      "model_name": "ToolbarModel",
      "state": {
       "layout": "IPY_MODEL_9a2a024149b14c5dbbfae06544728523",
       "toolitems": [
        [
         "Home",
         "Reset original view",
         "home",
         "home"
        ],
        [
         "Back",
         "Back to previous view",
         "arrow-left",
         "back"
        ],
        [
         "Forward",
         "Forward to next view",
         "arrow-right",
         "forward"
        ],
        [
         "Pan",
         "Left button pans, Right button zooms\nx/y fixes axis, CTRL fixes aspect",
         "arrows",
         "pan"
        ],
        [
         "Zoom",
         "Zoom to rectangle\nx/y fixes axis, CTRL fixes aspect",
         "square-o",
         "zoom"
        ],
        [
         "Download",
         "Download plot",
         "floppy-o",
         "save_figure"
        ]
       ]
      }
     },
     "391080c04a4643e38f7e961084dd4fad": {
      "model_module": "@jupyter-widgets/base",
      "model_module_version": "1.2.0",
      "model_name": "LayoutModel",
      "state": {}
     },
     "3abfd433ddfd4ff9a9258adc1000559d": {
      "model_module": "@jupyter-widgets/controls",
      "model_module_version": "1.5.0",
      "model_name": "VBoxModel",
      "state": {
       "_dom_classes": [
        "widget-interact"
       ],
       "children": [
        "IPY_MODEL_7bbd78448edd4857974e755f9e0ac273",
        "IPY_MODEL_cc82d3bc404d40ac929a182f729cf2f6"
       ],
       "layout": "IPY_MODEL_0364018cb64f4f73b0c9c6b49a040fc0"
      }
     },
     "3bb5d396f4ef4618b8ef941ac2ea4781": {
      "model_module": "@jupyter-widgets/controls",
      "model_module_version": "1.5.0",
      "model_name": "VBoxModel",
      "state": {
       "_dom_classes": [
        "widget-interact"
       ],
       "children": [
        "IPY_MODEL_1a164caea1794b48855f319b512588f1",
        "IPY_MODEL_d6856336880b40749b96ed39338fe623"
       ],
       "layout": "IPY_MODEL_caa87547671245ab8d8d8b408811a6dc"
      }
     },
     "3c20e5e3f6db46338978f2671e99f915": {
      "model_module": "@jupyter-widgets/controls",
      "model_module_version": "1.5.0",
      "model_name": "IntSliderModel",
      "state": {
       "layout": "IPY_MODEL_689e4e8b9eb04726b0fafe20a82fec92",
       "max": 10,
       "readout": false,
       "style": "IPY_MODEL_51c7a528033f41e48a254e9b58b49dbe"
      }
     },
     "3d6e8fadc3714bcf9cd32d1d379ff3c2": {
      "model_module": "@jupyter-widgets/controls",
      "model_module_version": "1.5.0",
      "model_name": "IntSliderModel",
      "state": {
       "continuous_update": false,
       "layout": "IPY_MODEL_2b6fc15486944a68a5c5d807165fb2f7",
       "readout": false,
       "style": "IPY_MODEL_88a8a7dfd922443e81a5bc2af5a70e57",
       "value": 15
      }
     },
     "3db04fd8053d4c6ebaa9e0b2ae78cd17": {
      "model_module": "@jupyter-widgets/base",
      "model_module_version": "1.2.0",
      "model_name": "LayoutModel",
      "state": {}
     },
     "3ddb20655fa24d71877515ba8e927dfa": {
      "model_module": "@jupyter-widgets/base",
      "model_module_version": "1.2.0",
      "model_name": "LayoutModel",
      "state": {}
     },
     "3ddec6f1ebde4cfab92c696733df8c10": {
      "model_module": "@jupyter-widgets/base",
      "model_module_version": "1.2.0",
      "model_name": "LayoutModel",
      "state": {}
     },
     "3dff9e0bba5e42b2a57f01577890029a": {
      "model_module": "@jupyter-widgets/controls",
      "model_module_version": "1.5.0",
      "model_name": "IntSliderModel",
      "state": {
       "continuous_update": false,
       "layout": "IPY_MODEL_bd8c7714684a4b3781ff518a3186de5f",
       "max": 10,
       "readout": false,
       "style": "IPY_MODEL_8b82c88ce407409c8c4406c2dd50f4bc"
      }
     },
     "3e0fc5e9aa534ba1be1620e929d63c3e": {
      "model_module": "jupyter-matplotlib",
      "model_module_version": "^0.10.1",
      "model_name": "ToolbarModel",
      "state": {
       "layout": "IPY_MODEL_e4a2e763d2334d629dfaa0e18aad281b",
       "toolitems": [
        [
         "Home",
         "Reset original view",
         "home",
         "home"
        ],
        [
         "Back",
         "Back to previous view",
         "arrow-left",
         "back"
        ],
        [
         "Forward",
         "Forward to next view",
         "arrow-right",
         "forward"
        ],
        [
         "Pan",
         "Left button pans, Right button zooms\nx/y fixes axis, CTRL fixes aspect",
         "arrows",
         "pan"
        ],
        [
         "Zoom",
         "Zoom to rectangle\nx/y fixes axis, CTRL fixes aspect",
         "square-o",
         "zoom"
        ],
        [
         "Download",
         "Download plot",
         "floppy-o",
         "save_figure"
        ]
       ]
      }
     },
     "3e33f9e826324a92a38bbc704ed03a32": {
      "model_module": "jupyter-matplotlib",
      "model_module_version": "^0.10.1",
      "model_name": "ToolbarModel",
      "state": {
       "layout": "IPY_MODEL_042f83f1971741a38e385cc72e3285aa",
       "toolitems": [
        [
         "Home",
         "Reset original view",
         "home",
         "home"
        ],
        [
         "Back",
         "Back to previous view",
         "arrow-left",
         "back"
        ],
        [
         "Forward",
         "Forward to next view",
         "arrow-right",
         "forward"
        ],
        [
         "Pan",
         "Left button pans, Right button zooms\nx/y fixes axis, CTRL fixes aspect",
         "arrows",
         "pan"
        ],
        [
         "Zoom",
         "Zoom to rectangle\nx/y fixes axis, CTRL fixes aspect",
         "square-o",
         "zoom"
        ],
        [
         "Download",
         "Download plot",
         "floppy-o",
         "save_figure"
        ]
       ]
      }
     },
     "3ebc008f5f6c420ca7d8e7053560ce5e": {
      "model_module": "jupyter-matplotlib",
      "model_module_version": "^0.10.1",
      "model_name": "ToolbarModel",
      "state": {
       "layout": "IPY_MODEL_ade13c86041547d7a9c6a450c8da473c",
       "toolitems": [
        [
         "Home",
         "Reset original view",
         "home",
         "home"
        ],
        [
         "Back",
         "Back to previous view",
         "arrow-left",
         "back"
        ],
        [
         "Forward",
         "Forward to next view",
         "arrow-right",
         "forward"
        ],
        [
         "Pan",
         "Left button pans, Right button zooms\nx/y fixes axis, CTRL fixes aspect",
         "arrows",
         "pan"
        ],
        [
         "Zoom",
         "Zoom to rectangle\nx/y fixes axis, CTRL fixes aspect",
         "square-o",
         "zoom"
        ],
        [
         "Download",
         "Download plot",
         "floppy-o",
         "save_figure"
        ]
       ]
      }
     },
     "3ee35e87aa7d4eb09e18b3aa25d9fc58": {
      "model_module": "@jupyter-widgets/base",
      "model_module_version": "1.2.0",
      "model_name": "LayoutModel",
      "state": {}
     },
     "3f25e98d8a194741b72b5bdd8a655653": {
      "model_module": "@jupyter-widgets/controls",
      "model_module_version": "1.5.0",
      "model_name": "IntSliderModel",
      "state": {
       "layout": "IPY_MODEL_6149f3bc47c640d99ff4e697282aadd2",
       "readout": false,
       "style": "IPY_MODEL_977123a0f0bb45c6b15ecccd5a23f5cb"
      }
     },
     "3f3ac649afac4f83b162cc6362b49b5b": {
      "model_module": "@jupyter-widgets/controls",
      "model_module_version": "1.5.0",
      "model_name": "VBoxModel",
      "state": {
       "_dom_classes": [
        "widget-interact"
       ],
       "children": [
        "IPY_MODEL_bb9bb19715a6475db7f3ee0712b37db9",
        "IPY_MODEL_a957d51b6a00401eadf3b5375a3832d6"
       ],
       "layout": "IPY_MODEL_0bbf6fe8f2eb4c00b737827a250714b5"
      }
     },
     "3ffeade508fe4905b374d499d932cb32": {
      "model_module": "@jupyter-widgets/base",
      "model_module_version": "1.2.0",
      "model_name": "LayoutModel",
      "state": {}
     },
     "407e571ea5904fd895938a511280c2b7": {
      "model_module": "@jupyter-widgets/controls",
      "model_module_version": "1.5.0",
      "model_name": "IntSliderModel",
      "state": {
       "layout": "IPY_MODEL_4449dffe3eb6433f8d62a4401909a8c8",
       "readout": false,
       "style": "IPY_MODEL_7d25ec86bbe14073b2d74d9d4844c48e",
       "value": 63
      }
     },
     "409d325b71af4d6888e97f8bf597d3e3": {
      "model_module": "@jupyter-widgets/controls",
      "model_module_version": "1.5.0",
      "model_name": "SliderStyleModel",
      "state": {
       "description_width": ""
      }
     },
     "40ab76a8eff54b53a51a1b077fa60ffa": {
      "model_module": "@jupyter-widgets/controls",
      "model_module_version": "1.5.0",
      "model_name": "IntSliderModel",
      "state": {
       "layout": "IPY_MODEL_ec133b540fe341eab0de76c6422b74b5",
       "readout": false,
       "style": "IPY_MODEL_90de4986e2424f1aa10296153a90691b",
       "value": 43
      }
     },
     "40c52ea0f0e443d08205ff4e541e3f0f": {
      "model_module": "jupyter-matplotlib",
      "model_module_version": "^0.10.1",
      "model_name": "ToolbarModel",
      "state": {
       "layout": "IPY_MODEL_2aebc5fb2a7b4c7d940b2a7906162b03",
       "toolitems": [
        [
         "Home",
         "Reset original view",
         "home",
         "home"
        ],
        [
         "Back",
         "Back to previous view",
         "arrow-left",
         "back"
        ],
        [
         "Forward",
         "Forward to next view",
         "arrow-right",
         "forward"
        ],
        [
         "Pan",
         "Left button pans, Right button zooms\nx/y fixes axis, CTRL fixes aspect",
         "arrows",
         "pan"
        ],
        [
         "Zoom",
         "Zoom to rectangle\nx/y fixes axis, CTRL fixes aspect",
         "square-o",
         "zoom"
        ],
        [
         "Download",
         "Download plot",
         "floppy-o",
         "save_figure"
        ]
       ]
      }
     },
     "411085630966463881df581f479c2a33": {
      "model_module": "@jupyter-widgets/controls",
      "model_module_version": "1.5.0",
      "model_name": "SliderStyleModel",
      "state": {
       "description_width": ""
      }
     },
     "411240aa98d84598a3813eb8bca1952e": {
      "model_module": "@jupyter-widgets/output",
      "model_module_version": "1.0.0",
      "model_name": "OutputModel",
      "state": {
       "layout": "IPY_MODEL_e8c821713b384b10b9d112c7e3a760f6"
      }
     },
     "41629bbe112f44d1a8429639538f6b43": {
      "model_module": "@jupyter-widgets/base",
      "model_module_version": "1.2.0",
      "model_name": "LayoutModel",
      "state": {}
     },
     "4164011955c94245af9e343f486f4a56": {
      "model_module": "@jupyter-widgets/controls",
      "model_module_version": "1.5.0",
      "model_name": "IntSliderModel",
      "state": {
       "layout": "IPY_MODEL_d0b2c96fec564fca9c96245c2d7da241",
       "max": 10,
       "readout": false,
       "style": "IPY_MODEL_1970af05b4b441e0a96c04fda9d67a00"
      }
     },
     "41e7df9035c54848a4bc9136e274717b": {
      "model_module": "@jupyter-widgets/controls",
      "model_module_version": "1.5.0",
      "model_name": "IntSliderModel",
      "state": {
       "layout": "IPY_MODEL_67e8b584e0c34bf28715931925fd04db",
       "readout": false,
       "style": "IPY_MODEL_88c57bf6f4d3492cbb07baf70f82f6d8"
      }
     },
     "424da91c2a204bb48b8ff7a774c705aa": {
      "model_module": "jupyter-matplotlib",
      "model_module_version": "^0.10.1",
      "model_name": "MPLCanvasModel",
      "state": {
       "_cursor": "default",
       "_data_url": "data:image/png;base64,iVBORw0KGgoAAAANSUhEUgAAAoAAAAHgCAYAAAA10dzkAAAgAElEQVR4nOzde3QU9f3/8c/mQhKykAAGSIgJCAqIFSMBQVCKVWILCLQqaC3wE0QBRa0VtFhjAVOsFWhpKfUWBW+o3BSpEBECeMBLCRpQQgSEcBHESiRAIMm+fn/wzZZNNmHDBnZm9/k453PQyexnPhvex/fL2ZlZIwAAAIQUE+gFAAAA4PwiAAIAAIQYAiAAAECIIQACAACEGAIgAABAiCEAAgAAhBgCIAAAQIghAAIAAIQYAiAAAECIIQACAACEGAIgAABAiCEAAgAAhBgCIAAAQIghAAIAAIQYAiAAAECIIQACAACEGAIgAABAiCEAAgAAhBgCIAAAQIghAAIAAIQYAiAAAECIIQACAACEGAIgAABAiCEAAgAAhBgCIAAAQIghAAIAAIQYAiAAAECIIQACAACEGAIgAABAiCEAAgAAhBgCIAAAQIghAAIAAIQYAiAAAECIIQACAACEGAIgAABAiCEAAgAAhBgCIOCnQYMGKTo6Wj/88EON+9x+++2KiIjQt99+6/fxdu7cKWOMsrOz6/zaVatWyRijt95664z7ZmZmypj6+09E5bErR1hYmJo3b66bb75ZX375Zb0dJ1C2bNmizMxM7dy5M9BLOW8qKio0d+5c/exnP1OzZs0UERGhhIQE9evXT++8844qKioCvUQANSAAAn569913ZYzRP/7xD68/P3z4sGJiYjRo0KB6OV5paanWr1+vgwcP1vm1VgiAWVlZWr9+vXJzc/XMM88oLi5OTZo00Z49e+rtWIHw1ltvyRijVatWBXop58Xx48eVkZEhh8Oh2267TW+++abWrFmjBQsW6K677lJUVJQWL14c6GUCqAEBEPBTeXm5kpKS1KVLF68//+c//yljjN59912/j1NaWurXHFYIgFWP/cILL8gYo6lTp9b42qNHj9bbOs6VcxUArfrex4wZI2OMXn75Za8/37Ztmz7//PN6OZZVfweAnREAgXrw6KOPyhijL774otrPunXrpsTERJWXl+vgwYMaM2aMOnbsqNjYWCUkJKhPnz5as2aNx2sqP+Z96qmnNGXKFLVu3Vrh4eH697//7fUj4MLCQo0YMULt2rVTTEyMkpKS1L9//2rrqQxh8+bN04MPPqgWLVooOjpa1157rTZu3Oixb00B8I033lD37t3VsGFDxcbGqm/fvtVe601NAXDLli0yxuiuu+7yOO5//vMf/epXv1J8fLxatmwp6dRZp0ceeUStW7dWZGSkkpKSNHbs2Gofv5eWluq3v/2tWrRooZiYGF1zzTX67LPPlJqaquHDh3vsu3//fo0ePVqtWrVSZGSkWrdurSeeeEJlZWUe+82ePVuXX365YmNj5XQ61b59ez366KOSpOzsbI+PtyvH6X9HOTk5uu6669SoUSPFxMTo6quv1gcffOD1d+7Pe09NTVW/fv3073//W2lpaYqOjlb79u31wgsvVPs78fW9e3tdZGSkMjIyat2vUuXvp+rH45U1cXpo7t27tzp16qTc3Fz16NFDMTExGjJkiAYOHKiUlBSvHyt369ZNaWlp7n93uVz6xz/+oc6dOys6Olrx8fH61a9+pe3bt/u0XiAUEACBelBYWCiHw6EHHnjAY3tluHnkkUckSVu3btWYMWP0xhtvaPXq1Vq6dKlGjhypsLAwjyZYGfJatWqlPn366O2339aKFSu0c+dOrwEwNzdXDz30kN5++23l5uZq0aJFGjRokGJiYrR161b3fpUN98ILL9TAgQP17rvv6pVXXlG7du3UuHFjjwbpLQA++eSTcjgcuvPOO7V06VItXLhQPXr0UGxsrLZs2VLr76imALhkyRIZY/T73//e47ipqamaOHGicnJytHjxYrlcLmVkZCgiIkJ/+MMftGLFCv3lL39RbGys0tLSPM6O3nbbbQoLC9MjjzyiFStWaObMmbrwwgsVFxfnEQD379+vCy+8UKmpqfrXv/6lDz74QFOmTFFUVJRGjBjh3u/111+XMUb33XefVqxYoQ8++EBz5szR+PHjJUkHDx5UVlaW+1KA9evXe3xMP2/ePDkcDg0aNEgLFy7Uu+++q/79+ys8PNwjBNbHe09NTVVycrIuvfRSzZ07V8uXL9ctt9wiY4xyc3Pr/N69ee2112SM0T//+c9a96tU1wDYtGlTXXjhhZo1a5ZWrVql3Nxcd53k5OR4zPHVV1/JGKO//e1v7m133XWXIiMj9dBDD+n999/Xa6+9pg4dOqhFixb1ch0uEAwIgEA96d27ty644AKdPHnSve2hhx6SMUbbtm3z+pry8nKVlZXpZz/7mQYPHuzeXhny2rZt6zHf6T+r7SaQ8vJynTx5UhdffLEefPBB9/bKhnvllVfK5XK5t3/zzTeKjIzUqFGj3NuqBsDdu3crIiJC9913n8exjhw5opYtW+rWW2+tcT2nH3v+/PkqKyvTsWPHtGbNGrVr107h4eHujwsrj/v44497vP7999+XMUZ//vOfPbbPnz9fxhg9++yzkv4XuidOnOixX2WIOz0A3n333XI6ndq1a5fHvn/5y19kjHGH2nvvvVfx8fG1vr+aPgI+evSomjZtqgEDBnhsr6ioUOfOndWtWzf3Nn/fu3QqAEZHR3u8p+PHj6tp06a6++676/zevZk2bZqMMXr//fdr3Od0dQ2AxhitXLnSY9+ysjK1aNFCt99+u8f2CRMmqEGDBjp06JAkaf369TLG6JlnnvHYr6ioSDExMZowYYJPawaCHQEQqCdz586VMUZvv/22pP81rGuuucZjv3/+859KS0tTVFSUx8eFHTp0cO9TGfJOD29Vf3Z6ACwrK9OTTz6pjh07KjIy0mPeG2+80b1fZcP9y1/+Um3e3r17q23btu5/rxoAn3vuORlj9Omnn6qsrMxjDBkyRM2bN6/191P1LuDK0aZNGy1atKjacatePzZhwgQZY6rd/OJyuRQbG6shQ4ZIOvVRbeXHqKcrKytTRESERwBs1aqVBgwYUO39VIbI2bNnS/rf3+3QoUO1ePFifffdd9XeX00BMCcnx10XVY8zceJEORwOlZSU1Mt7l04FwO7du1dbX/fu3T1qwdf37s25DoBNmjTxOs9DDz2k6OhoHT58WNKp/9FJTEzULbfc4t5n0qRJcjgcOnDgQLX31r17d4/ADYQyAiBQT44dO6a4uDj169dP0v8+2nzppZfc+zzzzDMyxuiee+7R0qVLtWHDBn366ae68cYblZqa6t6vMuRVPeNz+s9OD4D33XefwsLC9Oijj+r999/Xxx9/rE8//VSdO3dW79693ftVNtxXXnml2rxDhgzxOMtVNQBOnTrVa4A7/bEutak89lNPPaVPP/1UGzdu1O7du6vtV3ncqmFn5MiRioiI8Dp327Ztdf3110uSpkyZImOM17uKW7Ro4REAIyIian1PkydPdu/74osvqkePHgoPD5fD4VC3bt20YsUK989rCoCvvPJKrccwxrh/D/6+d+l/1wBW1bt3b49aqMt7r+pcfwR86aWXep2nMpzOmTNHkvTee+/JGKNly5a59xk1alSt7+uiiy7yac1AsCMAAvXonnvuUXh4uPbt26eBAweqUaNGHncwpqWl6ac//Wm11/Xs2dNrAHz66aer7estADZp0sTrdVutWrXyGgDP5gzgnDlz3GeyPv30U6+jNr7egVx53Kpn2c50Fmzo0KGS6nYGsGXLlurbt2+N72fv3r3V1ldSUqJly5apa9euatCggb755htJNQfAyo9vZ82aVeNxTpw4US/vXfI9AJ7Ne69U15tAKj9+P/16VMn776zyJpCadOvWTVdddZUk6eabb1ZSUpLKy8vdP3/kkUfkcDi0bt06r+/L241aQCgiAAL16NNPP3V/dBsZGem+s7XSlVdeWa1pfv755woLC/MrAFa9vkuSli5dKmOM1wDYpUsXr9cAjhw50r2tagDcuXOnIiIi9NRTT/n0u6jK3wC4fPlyGWM0ffp0j+2VIeK5556TJG3evFnGmGrXenm7BnDUqFFKSkrSf//73zq/n8WLF8sYo/fee0+S9M4771Q7GyWdukYyPj5eY8aMOeOc/r53yfcA6M97l878GJivv/7a/VF25XV5b775psc+v/nNb+ocACsfq7R27VpFRUW578SutG7dOhlz6lpTADUjAAL17PLLL5fD4ZAxRhs2bPD42eOPPy6Hw6HHH39cK1eu1OzZs9WyZUu1bdvWrwA4bNgwRUVFacaMGVq5cqX+/Oc/KyEhQcnJyV4DYOVdwEuXLtWrr76qdu3aqVGjRvr666/d+3q7CzgrK0sRERG6++67tWjRIq1evVrz58/XQw89VO3Ghar8DYCVd8JGRkbqiSeeUE5Ojp555hk5nU6vdwGHh4fr0UcfVU5OjsddwP/v//0/93779u1TamqqOnTooNmzZ2vlypV677339I9//EP9+vVTUVGRpFNh6b777tMbb7yh3NxczZ8/X1dccYXi4uLcZ+V27NghY4wGDRqktWvX6tNPP3XfmDBv3jyFhYVpyJAheuutt5Sbm6u3335bf/jDH3TPPffU63v3NQD6+t5rcvqDoG+//Xa99dZbWrNmjRYuXKgxY8YoOjra/SDo8vJytW/fXikpKXrttdf073//W6NHj1abNm3qHAArH6yenJwsY4wKCgqq7TN69Gg1bNhQDz/8sN599119+OGHevXVVzVmzJhar20EQgkBEKhnf/3rX2WM8Xod04kTJ/S73/1OrVq1UnR0tK688kotXrxYw4cP9ysA/vDDDxo5cqSaN2+uhg0bqlevXlq7dm21pn/6cwDHjx+vhIQERUVFuZ+Td7qangO4ePFi9enTR40bN1ZUVJRSU1N18803V3umXVX+BkDpVOiYOHGiUlNTFRkZqcTERI0ZM6bG5wA2b95c0dHR6t69u9avX6+4uLhqN9Z89913Gj9+vNq0aaPIyEg1bdpUXbp00aRJk9w3Z7z88svq06ePWrRooQYNGigpKUm33nprtY8TZ86cqTZt2ig8PLza31Fubq769eunpk2bKjIyUq1atVK/fv08fh/18d59DYC+vvfalJeX6+WXX9Z1112npk2bur8K7uc//7lee+01j2f2bdu2TX379lXjxo2VkJCg++67z30NX10CoHTqqxWNMerZs2eN+7z44ou66qqrFBsbq5iYGLVt21bDhg2rVudAqCIAAggJH330kYwxevXVVwO9FAAIOAIggKCzYsUK/fGPf9TSpUu1cuVKTZ8+Xc2bN9fFF1+s48ePB3p5ABBwBEAAQWfDhg3q2bOnmjRpooiICLVs2VLDhw/Xvn37Ar00ALAEAiAAAECIIQACAACEGAIgAABAiCEAAgAAhBgCIAAAQIghAPqhoqJCRUVFOnz4sIqLixkMBoPBYNhgHD58WEVFRR4PKw81BEA/FBUVyRjDYDAYDAbDhuNMX3kYzAiAfjh8+LC7gAL9fzMMBoPBYDB8G5UncA4fPhzoKBEwBEA/FBcXyxij4uLiQC8FAAD4iP5NAPQLBQQAgP3QvwmAfqGAAACwH/o3AdAvFBAAAPZD/yYA+oUCAgDAfujfBEC/UEAAANgP/ZsA6BcKCAAA+6F/EwD9QgEBAGA/9G8CoF8oIAAA7If+TQD0CwUEAID90L8JgH6hgAAAsB/6NwHQLxQQAAD2Q/8mAPqFAgIAwH7o3wRAv1BAAADYD/2bAOgXCggAAPuhfxMA/UIBAQBgP/RvAqBfKCAAAOyH/k0A9AsFBACA/dC/gzgAZmVlKT09XU6nUwkJCRo4cKC2bt3qsc+RI0c0btw4tWrVStHR0erQoYNmz57t8zEoIAAA7If+HcQBMCMjQ9nZ2dq8ebM2bdqkfv36KSUlRSUlJe59Ro0apbZt22rVqlXauXOn/vWvfyk8PFyLFy/26RgUEAAA9kP/DuIAWNXBgwdljFFubq57W6dOnTR58mSP/a688ko99thjPs1JAQEAYD/07xAKgIWFhTLGKD8/373t7rvvVnp6uvbs2SOXy6UPP/xQTqdTa9eu9TpHaWmpiouL3aOoqCjkCwgAALshAIZIAHS5XBowYIB69erlsf3EiRMaNmyYjDGKiIhQgwYNNHfu3BrnyczMlDGm2gjlAgIAwG4IgCESAMeOHavU1FQVFRV5bH/66ad1ySWX6J133tHnn3+uWbNmyel0Kicnx+s8nAEEAMD+CIAhEADvvfdeJScna8eOHR7bjx07psjISC1dutRj+8iRI5WRkeHT3BQQAAD2Q/8O4gDocrk0btw4JSUladu2bdV+XvmXv2zZMo/to0eP1g033ODTMSggAADsh/4dxAFwzJgxiouL0+rVq7V//373OHbsmHuf3r17q1OnTlq1apV27Nih7OxsRUdH+/wsQAoIAAD7oX8HcQD0drOGMUbZ2dnuffbv368RI0YoKSlJ0dHRat++vZ555hm5XC6fjkEBAQBgP/TvIA6A5wMFBACA/dC/CYB+oYAAALAf+jcB0C8UEAAA9kP/JgD6hQICAMB+6N8EQL9QQAAA2A/9mwDoFwoIAAD7oX8TAP1CAQEAYD/0bwKgXyggAADsh/5NAPQLBQQAgP3QvwmAfqGAAACwH/o3AdAvFBAAAPZD/yYA+oUCAgDAfujfBEC/UEAAANgP/ZsA6BcKCAAA+6F/B3EAzMrKUnp6upxOpxISEjRw4EBt3bq12n5ffvmlBgwYoMaNG8vpdOqqq67Srl27fDoGBQQAgP3Qv4M4AGZkZCg7O1ubN2/Wpk2b1K9fP6WkpKikpMS9z9dff62mTZvq4Ycf1saNG7V9+3YtXbpUBw4c8OkYFBAAAPZD/w7iAFjVwYMHZYxRbm6ue9uQIUN0xx13nPWcFBAAAPZD/w6hAFhYWChjjPLz8yVJFRUVcjqdmjx5svr27auEhAR169ZNixYt8nlOCggAAPuhf4dIAHS5XBowYIB69erl3rZ//34ZY9SwYUNNnz5deXl5+tOf/iSHw6HVq1d7nae0tFTFxcXuUVRUFPIFBACA3RAAQyQAjh07VqmpqSoqKnJv27t3r4wxuu222zz2HTBggIYOHep1nszMTBljqo1QLiAAAOyGABgCAfDee+9VcnKyduzY4bH9xIkTioiI0JQpUzy2T5gwQVdffbXXuTgDCACA/REAgzgAulwujRs3TklJSdq2bZvXfXr06FHtJpBBgwZVOytYEwoIAAD7oX8HcQAcM2aM4uLitHr1au3fv989jh075t5n4cKFioyM1LPPPqvCwkLNmjVL4eHhWrt2rU/HoIAAALAf+ncQB0Bv1+oZY5Sdne2x3wsvvKB27dopOjpanTt31uLFi30+BgUEAID90L+DOACeDxQQAAD2Q/8mAPqFAgIAwH7o3wRAv1BAAADYD/2bAOgXCggAAPuhfxMA/UIBAQBgP/RvAqBfKCAAAOyH/k0A9AsFBACA/dC/CYB+oYAAALAf+jcB0C8UEAAA9kP/JgD6hQICAMB+6N8EQL9QQAAA2A/9mwDoFwoIAAD7oX8TAP1CAQEAYD/0bwKgXyggAADsh/5NAPQLBQQAgP3Qv4M4AGZlZSk9PV1Op1MJCQkaOHCgtm7dWuP+o0ePljFGM2bM8PkYFBAAAPZD/w7iAJiRkaHs7Gxt3rxZmzZtUr9+/ZSSkqKSkpJq+y5atEidO3dWUlISARAAgCBH/w7iAFjVwYMHZYxRbm6ux/Y9e/aoVatW2rx5s1JTUwmAAAAEOfp3CAXAwsJCGWOUn5/v3lZRUaE+ffpo5syZkkQABAAgBNC/QyQAulwuDRgwQL169fLYnpWVpRtuuEEul0vSmQNgaWmpiouL3aOoqCjkCwgAALshAIZIABw7dqxSU1NVVFTk3vbZZ5+pRYsW2rt3r3vbmQJgZmamjDHVRigXEAAAdkMADIEAeO+99yo5OVk7duzw2D5jxgw5HA6Fh4e7hzFGYWFhSk1N9ToXZwABALA/AmAQB0CXy6Vx48YpKSlJ27Ztq/bzQ4cOKT8/32MkJSVp4sSJtT4u5nQUEAAA9kP/DuIAOGbMGMXFxWn16tXav3+/exw7dqzG13ATCAAAwY/+HcQB0Nu1esYYZWdn1/gaAiAAAMGP/h3EAfB8oIAAALAf+jcB0C8UEAAA9kP/JgD6hQICAMB+6N8EQL9QQAAA2A/9mwDoFwoIAAD7oX8TAP1CAQEAYD/0bwKgXyggAADsh/5NAPQLBQQAgP3QvwmAfqGAAACwH/o3AdAvFBAAAPZD/yYA+oUCAgDAfujfBEC/UEAAANgP/ZsA6BcKCAAA+6F/EwD9QgEBAGA/9G8CoF8oIAAA7If+HcQBMCsrS+np6XI6nUpISNDAgQO1detW989PnjypCRMm6LLLLlPDhg2VmJio3/zmN9q7d6/Px6CAAACwH/p3EAfAjIwMZWdna/Pmzdq0aZP69eunlJQUlZSUSJIOHz6s66+/XvPnz9fWrVu1fv16XXXVVerSpYvPx6CAAACwH/p3EAfAqg4ePChjjHJzc2vc55NPPpExRrt27fJpTgoIAAD7oX+HUAAsLCyUMUb5+fk17pOTkyOHw1FjQZSWlqq4uNg9ioqKQr6AAACwGwJgiARAl8ulAQMGqFevXjXuc/z4cXXp0kW//vWva9wnMzNTxphqI5QLCAAAuyEAhkgAHDt2rFJTU1VUVOT15ydPntTAgQOVlpZWazFwBhAAAPsjAIZAALz33nuVnJysHTt2eP35yZMnNWjQIF1++eU6dOhQneamgAAAsB/6dxAHQJfLpXHjxikpKUnbtm3zuk9l+OvUqZMOHjxY52NQQAAA2A/9O4gD4JgxYxQXF6fVq1dr//797nHs2DFJUllZmW666SYlJydr06ZNHvucOHHCp2NQQAAA2A/9O4gDoLebNYwxys7OliTt3Lmzxn1WrVrl0zEoIAAA7If+HcQB8HyggAAAsB/6NwHQLxQQAAD2Q/8mAPqFAgIAwH7o3wRAv1BAAADYD/2bAOgXCggAAPuhfxMA/UIBAQBgP/RvAqBfKCAAAOyH/k0A9AsFBACA/dC/CYB+oYAAALAf+jcB0C8UEAAA9kP/JgD6hQICAMB+6N82CYBff/21+vTpE+hlVEMBAQBgP/RvmwTATZs2KSwsLNDLqIYCAgDAfujfBEC/UEAAANgP/TuIA2BWVpbS09PldDqVkJCggQMHauvWrR77uFwuZWZmKjExUdHR0erdu7c2b97s8zEoIAAA7If+HcQBMCMjQ9nZ2dq8ebM2bdqkfv36KSUlRSUlJe59pk2bpkaNGmnBggXKz8/XkCFDlJiYqB9//NGnY1BAAADYD/3bIgHwiiuuUFpaWo2jffv2fn8EfPDgQRljlJubK+nU2b+WLVtq2rRp7n1KS0sVFxenOXPm+DQnBQQAgP3Qvy0SAJ944gmfhj8KCwtljFF+fr4kafv27TLGaOPGjR773XTTTRo2bJhPc1JAAADYD/3bIgHwXHO5XBowYIB69erl3vbRRx/JGKO9e/d67HvXXXepb9++XucpLS1VcXGxexQVFYV8AQEAYDcEwBAJgGPHjlVqaqqKiorc2yoD4L59+zz2HTVqlDIyMrzOk5mZKWNMtRHKBQQAgN0QAC0WAA8dOqSxY8eqY8eOatasmZo0aeIxzsa9996r5ORk7dixw2P72XwEzBlAAADsjwBosQB444036uKLL9a0adOUnZ2tl156yWPUhcvl0rhx45SUlKRt27Z5/XnLli311FNPubedOHGCm0AAAAhy9G+LBUCn06lNmzbVy1xjxoxRXFycVq9erf3797vHsWPH3PtMmzZNcXFxWrhwofLz83XbbbfxGBgAAIIc/dtiATA9PV3r16+vl7m8XatnjFF2drZ7n8oHQbds2VJRUVG69tpr3XcJ+4ICAgDAfujfFguAn3zyia677jqtXr1ahw4d8rjezop/SRQQAAD2Q/+2WADctm2bunTporCwMI/hcDj4LmAAAFAv6N8WC4Bdu3ZVjx499MYbb2jVqlVavXq1x7AaCggAAPuhf1ssAMbExGjr1q2BXobPKCAAAOyH/m2xAHjNNdcoJycn0MvwGQUEAID90L8tFgDffPNNXXrppcrOztZnn32mzz//3GNYDQUEAKGhrEwqKDj1J+yP/m2xAOhwOKoNbgIBAARSWZmUni4Zc+pPQqD90b8tFgC/+eabWofVUEAAEPwKCk6Fv8pRUBDoFcFf9G+LBMBHH31UH3/8caCXUWcUEAAEv9PPAHbtyhnAYED/tkgAHDFihBISEtSyZUvdddddWrp0qUpLSwO9rDOigAAgNHANYHChf1skAEqnvpZtzZo1evjhh9W+fXs5nU4NHjxY2dnZ+u677wK9PK8oIAAA7If+baEAWNWXX36pp556SldffbUaNGiga665Rk8//bT27NkT6KW5UUAAANgP/dvCAfB0Bw4c0PPPP6+bbrpJTz/9dKCX40YBAQBgP/RvmwRAq6KAAACwH/q3xQLgoEGDNHjw4Grjl7/8pW6//XZlZmaqwEL331NAAADYD/3bYgFw+PDhiouLU2pqqn75y19q8ODBat26teLj43Xrrbeqffv2ioqK0rp16844V25urvr376/ExEQZY7Ro0SKPnx85ckTjxo1Tq1atFB0drQ4dOmj27Nl1Wi8FBACA/dC/LRYAJ06cqDFjxqiiosK9raKiQvfee68effRRuVwujR49Wj179jzjXMuWLdOkSZO0YMECrwFw1KhRatu2rVatWqWdO3fqX//6l8LDw7V48WKf10sBAQBgP/RviwXACy64wOtHvAUFBWrWrJkk6YsvvlBcXFyd5vUWADt16qTJkyd7bLvyyiv12GOP+TwvBQQAgP3Qvy0WAOPj47VkyZJq25csWaL4+HhJ0rZt29z/7CtvAfDuu+9Wenq69uzZI5fLpQ8//FBOp1Nr166tcZ7S0lIVF7tgTDgAACAASURBVBe7R1FRUcgXEAAAdkMAtFgAvO+++3TBBRdo+vTpWrt2rdatW6fp06frggsu0Pjx4yVJzz33nE8fAZ/OWwA8ceKEhg0bJmOMIiIi1KBBA82dO7fWeTIzM2WMqTZCuYAAALAbAqDFAmB5ebmmTp2qli1byuFwyOFwqGXLlnryySdVXl4uSdq1a5eKiorqNK+3APj000/rkksu0TvvvKPPP/9cs2bNktPpVE5OTo3zcAYQAAD7IwBaLACerjJk1YeqAfDYsWOKjIzU0qVLPfYbOXKkMjIy6rTGUC8gAADshv5t4QBYn6oGwMq/+GXLlnnsN3r0aN1www0+z0sBAQDOl7IyqaDg1J/wD/3bYgHw22+/1R133KHExESFh4crLCzMY9TFkSNHlJeXp7y8PBljNH36dOXl5WnXrl2SpN69e6tTp05atWqVduzYoezsbEVHR9fpWYAUEADgfCgrk9LTJWNO/UkI9A/922IB8MYbb9Sll16q2bNna9GiRVq8eLHHqItVq1Z5vWFj+PDhkqT9+/drxIgRSkpKUnR0tNq3b69nnnlGLpfL52NQQACA86Gg4FT4qxwW+lIsW6J/WywAOp1O5eXlBXoZPqOAAADnw+lnALt25Qygv+jfFguAHTt21MaNGwO9DJ9RQACA84VrAOsP/dtiAXD58uXq27evdu7cGeil+IQCAgDAfujfFguA8fHxatCggcLCwuR0OtWkSROPYTUUEAAA9kP/tlgAfOmll2odVkMBAYA98PEpTkf/tlgAtBsKCACsj0eooCr6NwHQLxQQAFgfj1BBVfRvAqBfKCAAsD4eoYKq6N8EQL9QQABgD1wDiNPRvwmAfqGAAACwH/q3RQNgYWGh3n//fR07dkyS6vT1bOcTBQQAgP3Qvy0WAA8dOqSf/exncjgcCgsL0/bt2yVJd955p377298GeHXVUUAAANgP/dtiAfA3v/mNMjIyVFRUJKfT6Q6Ay5cv16WXXhrg1VVHAQEAYD/0b4sFwBYtWmjTpk2S5BEAd+zYodjY2EAuzSsKCAAA+6F/WywAOp1Obdu2zf3PlQHwk08+UdOmTQO5NK8oIAAA7If+bbEA+Itf/EKPPfaYpFMBcMeOHaqoqNAtt9yiX/3qV3WaKzc3V/3791diYqKMMVq0aFG1fb788ksNGDBAjRs3ltPp1FVXXaVdu3b5fAwKCAAA+6F/WywAbtmyRQkJCbrxxhvVoEED3XzzzerYsaNatGihr7/+uk5zLVu2TJMmTdKCBQu8BsCvv/5aTZs21cMPP6yNGzdq+/btWrp0qQ4cOODzMSggAADsh/5tsQAoSfv379fjjz+ufv366ec//7kmTZqkffv2+TWntwA4ZMgQ3XHHHX7NSwEBAGA/9G8LBsBzoWoArKiokNPp1OTJk9W3b18lJCSoW7duXj8mPl1paamKi4vdo6ioKOQLCAAAuyEAWjAA/vDDD1q+fLnmzZunl19+2WOcraoBcP/+/TLGqGHDhpo+fbry8vL0pz/9SQ6HQ6tXr65xnszMTBljqo1QLiAAAOyGAGixAPjOO++oUaNGCgsLU1xcnOLj492jSZMmZz1v1QC4d+9eGWN02223eew3YMAADR06tMZ5OAMIAID9EQAtFgAvvvhi3X///Tp69Gi9zls1AJ44cUIRERGaMmWKx34TJkzQ1Vdf7fO8FBAAAPZD/7ZYAGzYsKH72X/1ydtNID169Kh2E8igQYOqnRWsDQUEAID90L8tFgAHDx6s+fPn18tcR44cUV5envLy8mSMcV/rV/mcv4ULFyoyMlLPPvusCgsLNWvWLIWHh2vt2rU+H4MCAgDAfujfFguAzz//vFJSUpSZmam3335bS5Ys8Rh1sWrVKq83bAwfPty9zwsvvKB27dopOjpanTt31uLFi+t0DAoIAAD7oX9bLAA6HI4aR1hYWKCXVw0FBACA/dC/LRYA7YYCAgDAfujfBEC/UEAAANgP/duCAXD16tXq37+/2rZtq3bt2mnAgAFas2ZNoJflFQUEAOdeWZlUUHDqT6A+0L8tFgDnzZuniIgI3XrrrfrrX/+qmTNn6tZbb1VkZKReffXVQC+vGgoIAM6tsjIpPV0y5tSfhEDUB/q3xQJghw4dNH369Grbn3nmGXXo0CEAK6odBQQA51ZBwanwVzkKCgK9IgQD+rfFAmCDBg1UWFhYbXthYaGioqICsKLaUUAAcG6dfgawa1fOAKJ+0L8tFgDbtm2rOXPmVNs+Z84ctWvXLgArqh0FBADnHtcAor7Rvy0WAGfPnq0GDRronnvu0dy5czVv3jzdfffdioqK8hoMA40CAgD4iiBrHfRviwVA6dRXtPXs2VNNmzZV06ZN1bNnzzp/Q8f5QgEBwJkRfLiZxWro3xYKgGVlZXriiSe0e/fuQC/FZxQQANSO4HMKN7NYC/3bQgFQkmJjY7Vz585AL8NnFBAA1I7gcwo3s1gL/dtiAXDgwIHKzs4O9DJ8RgEBQO0IPv/DR+HWQf+2WACcM2eOWrZsqYceekivvfaalixZ4jGshgICEOzqI7QQfGA19G+LBUCHw1HjCAsLq9Ncubm56t+/vxITE2WM0aJFi2rcd/To0TLGaMaMGXU6BgUEIJhx/R6CFf3bYgGwPi1btkyTJk3SggULag2AixYtUufOnZWUlEQABIDTcP0eghX928IB8Pjx4/U2V00BcM+ePWrVqpU2b96s1NRUAiAAnIbr9xCs6N8WC4Dl5eWaPHmykpKSFB4eru3bt0uSHnvsMT3//PNnPa+3AFhRUaE+ffpo5syZkkQABAAvuH4PwYj+bbEA+Mc//lEXXXSRXnnlFcXExLgD4Pz589W9e/ezntdbAMzKytINN9wgl8slybcAWFpaquLiYvcoKioK+QICAMBuCIAWC4Bt27bVBx98IElyOp3uAPjVV18pPj7+rOetGgA/++wztWjRQnv37nVv8yUAZmZmyhhTbYRyAQEAYDcEQIsFwOjoaH3zzTeSPAPgli1bFBsbe9bzVg2AM2bMkMPhUHh4uHsYYxQWFqbU1NQa5+EMIAAA9kcAtFgA7NKli+bNmyfJMwA+8cQT6tWr11nPWzUAHjp0SPn5+R4jKSlJEydO1NatW32elwICAMB+6N8WC4DvvPOO4uLiNG3aNDVs2FBPP/20Ro0apQYNGmjFihV1muvIkSPKy8tTXl6ejDGaPn268vLytGvXLq/7cxMIAAChgf5tsQAoSe+//76uvfZaxcbGKiYmRj179tTy5cvrPM+qVau8Xq83fPhwr/sTAAEACA30bwsGQDuhgAAAsB/6t8UCYJs2bXTo0KFq23/44Qe1adMmACuqHQUEADbBAw1xGvq3xQKgw+HQgQMHqm3/9ttv1aBBgwCsqHYUEADYAF9qjCro3xYJgEuWLNGSJUvkcDg0d+5c978vWbJECxcu1Lhx43TJJZcEepnVUEAAYAN8qTGqoH9bJAA6HA45HA6FhYW5/7lyNGjQQJdcconefffdQC+zGgoIAGyALzWuN8HySTr92yIBsFLr1q313XffBXoZPqOAAMAmgiW5BFAwfZJO/7ZYAPTmhx9+CPQSakQBAQBCRTB9kk7/tlgAnDZtmt544w33v998881yOBxKSkrSpk2bArgy7yggAECoCKZP0unfFguAbdq00UcffSRJWrFiheLj47V8+XKNHDlSN9xwQ4BXVx0FBAAIJcHySTr922IBMDo6Wrt375YkjR8/XqNHj5YkFRQUKD4+PpBL84oCAgDAfujfFguAiYmJ7jOAl1xyid58801J0tatW9WoUaNALs0rCggAAPuhf1ssAI4bN06pqam6/vrr1axZMx05ckSS9MYbbygtLS3Aq6uOAgIAwH7o3xYLgCdPntTTTz+t8ePHa+PGje7tM2bM0HPPPRfAlXlHAQEAYD/0b4sFQLuhgAAAsB/6twUD4Ny5c9WzZ08lJibqm2++kXTqDODixYsDvLLqKCAAAOyH/m2xADh79mxdcMEFmjp1qmJiYrR9+3ZJUnZ2tn7605/Waa7c3Fz1799fiYmJMsZo0aJF7p+dPHlSEyZM0GWXXaaGDRsqMTFRv/nNb7R37946HYMCAgDAfujfFguAHTt2dAc1p9PpDoD5+flq1qxZneZatmyZJk2apAULFlQLgIcPH9b111+v+fPna+vWrVq/fr2uuuoqdenSpU7HoIAAALAf+rfFAmB0dLT7Y9/TA+C2bdsUHR191vNWDYDefPLJJzLGaNeuXT7PSwEBAOwkWB7k7C/6t8UCYMeOHd3X+p0eAP/617/qyiuvPOt5fQmAOTk5cjgctRZDaWmpiouL3aOoqCjkCwgAYA+nf5Vbenpoh0ACoMUC4IsvvqhWrVrpjTfeUGxsrF5//XVNnTrV/c9n60wB8Pjx4+rSpYt+/etf1zpPZmamjDHVRigXEADAHgoKToW/ylFQEOgVBQ4B0GIBUJKeffZZpaSkyOFwyOFwKDk5Wc8//7xfc9YWAE+ePKmBAwcqLS3tjIXAGUAAgF2dfgawa1fOAIZ6/7ZcAKz03Xff6cCBA/UyV00B8OTJkxo0aJAuv/xyHTp0qM7zUkAAADvhGsBT6N8WDoD1yVsArAx/nTp10sGDB89qXgoIAEIEySmo0L8tFgCvuOIKpaWlVRtXXnmlrr76ag0bNkwffvihT3MdOXJEeXl5ysvLkzFG06dPV15ennbt2qWysjLddNNNSk5O1qZNm7R//373OHHihM/rpYAAIARw90TQoX9bLAA+8sgjiouLU69evfTb3/5WDz74oK655hrFxcXp/vvv1w033KCwsDCfvhVk1apVXm/YGD58uHbu3On1Z8YYrVq1yuf1UkAAEAK4eyLo0L8tFgBHjRqlyZMnV9s+ZcoUjRo1SpL0+OOP1/mBzecKBQQAIYC7J4IO/dtiAbBx48YqLCystr2wsFCNGzeWJH311VdyOp3ne2leUUAAECK4BjCo0L8tFgCbN2+ul19+udr2l19+Wc2bN5ckbdmypc5fC3euUEAAANgP/dtiAXDKlCmKiYnR+PHjNW/ePL3yyisaP368GjZsqKlTp0qSpk+fruuvvz7AKz2FAgKA84Czb6hn9G+LBUBJeuWVV9S9e3c1adJETZo0Uffu3fXqq6+6f37s2DEdP348gCv8HwoIAM4x7sDFOUD/tmAAtBMKCADOMe7AxTlA/7ZoAPzss8/cHwFv3Lgx0MupEQUEAOcYd+DiHKB/WywAHjhwQH369JHD4VCTJk0UHx8vh8Oh66677qy/reNcooAA4DzgGkDUM/q3xQLgrbfeqi5duujLL790b9uyZYvS09M1dOjQAK7MOwoIAHxAgIPF0L8tFgAbN26sTz75pNr2jz/+WHFxcQFYUe0oIAA4A27igAXRvy0WAJ1Op/Ly8qpt37hxoxo1ahSAFdWOAgKAM+AmDlgQ/dtiAfCmm27Stddeq71797q37dmzR71799agQYMCuDLvKCAAOANu4kA9q48rCujfFguAu3fvVlpamiIjI3XRRRepbdu2ioyM1JVXXqmioqJAL68aCggAfMA1gDiNP+VQX1cU0L8tFgArrVixQn/729/017/+VTk5OYFeTo0oIADAeRMEQdrfAFdfVxTQvy0UAMvKyhQeHq78/PxAL8VnFBAA4LwIkptp/A1w9XVFAf3bQgFQki666CJt2rSpXubKzc1V//79lZiYKGOMFi1a5PFzl8ulzMxMJSYmKjo6Wr1799bmzZvrdAwKCADgM3/O4AXJzTT1EeC4BrB+WCoAvvjii/r5z3+u77//3u+5li1bpkmTJmnBggVeA+C0adPUqFEjLViwQPn5+RoyZIgSExP1448/+nwMCggA4BN/z+AF0c00Vvgkm/5tsQB4xRVXyOl0KioqSpdcconS0tI8xtmqGgBdLpdatmypadOmubeVlpYqLi5Oc+bM8XleCggA4JP6OINnheQUJOjfFguAmZmZeuKJJ2ocZ6tqANy+fbuMMdW+Z/imm27SsGHDapyntLRUxcXF7lFUVBTyBQQA8EEQncELBgRAiwXAc6VqAPzoo49kjPF43qAk3XXXXerbt2+N82RmZsoYU22EcgEBAHzEGTzLIABaJAAePXpUY8eOVVJSkhISEnTbbbfpu+++q7f5awqA+/bt89hv1KhRysjIqHEezgACAGB/BECLBMDf/e53atiwoe666y7dd999uuCCC3TzzTfX2/z19RFwVRQQgKDHWSsEIfq3RQLgRRddpNdff9397x9//LEiIiJUXl5eL/PXdBPIU0895d524sQJbgIBgNMFybPngKro3xYJgJGRkdqzZ4/HtujoaO3evfus5zxy5Ijy8vKUl5cnY4ymT5+uvLw87dq1S9Kpx8DExcVp4cKFys/P12233cZjYADgdEHy7DmgKvq3RQJgWFiYDh486LHN6XRqx44dZz3nqlWrvN6wMXz4cEn/exB0y5YtFRUVpWuvvbbO30JCAQEIaty5iiBF/7ZIAHQ4HPrFL36hwYMHu0dERIT69u3rsc1qKCAAQY9rABGE6N8WCYAjRozwaVgNBQQAgP3Qvy0SAO2KAgIAwH7o3wRAv1BAAKyOT3CB6ujfBEC/UEAArIynuADe0b8JgH6hgABYGU9xAbyjfxMA/UIBAbAynuICeEf/JgD6hQICYHVcAwhUR/8mAPqFAgIAwH7o3wRAv1BAAADYD/2bAOgXCggAAPuhfxMA/UIBAQBgP/RvAqBfKCAAAOyH/k0A9AsFBACA/dC/QzgAlpWVadKkSWrdurWio6PVpk0b/fGPf1RFRYXPc1BAAADYD/07hAPg1KlT1axZMy1dulQ7d+7UW2+9JafTqZkzZ/o8BwUEAPZQUVahkoISVZT5/j/5CF707xAOgP369dOdd97pse2Xv/yl7rjjDp/noIAAwLpcLpd27typlR+s1IyLZ+hx87iy2mbpo7Ufac+ePSovLw/0EhEg9O8QDoB/+tOflJqaqoL/+3LMTZs2qXnz5nrttdd8noMCAgBr2bJliyZNmqSePXuqUaNGMsbUOGJiYtSvXz/Nnj1bu3btCvTScR7Rv0M4ALpcLj3yyCNyOByKiIiQw+FQVlZWra8pLS1VcXGxexQVFYV8AQFAoB0/flx/+9vf1LlzZxljFB8fr6FDh2ratGlatmyZvtryld65/B0tMAu0PG258v6Tp3fffVfTpk1T7969FR4eLmOMBgwYoDVr1sjlclU7Bh8hBxcCYAgHwNdff13Jycl6/fXX9cUXX2ju3Llq2rSpXnrppRpfk5mZ6fX/IkO5gAAgUEpLS/X3v/9dSUlJCg8P1y233KIlS5aotLS02r61BbgffvhBL7zwgjp16iRjjK666iqtW7fO47Ub0jcox+RoQ/oGQmAQIACGcABMTk7W3//+d49tU6ZMUfv27Wt8DWcAAcAacnNzddFFFyksLEzDhg1TYWGh33O6XC6999576tq1q4wxGjNmjA4fPqySghLlmBz3KCkoqYd3gEAiAIZwAGzatKlmz57tsS0rK0sXX3yxz3NQQABwfh09elT333+/jDHq1auXvvzyy3o/Rnl5uWbNmqVGjRopMTFRb735ltZ3WX/qDGBXzgAGA/p3CAfA4cOHq1WrVu7HwCxcuFAXXHCBJkyY4PMcFBAAnD/r1q1Tu3btFB0drRkzZtTpua1no6ioSDfddJOMMRo8eLD2/2c/4S9I0L9DOAD++OOPuv/++5WSkqLo6GhddNFFmjRpkk6cOOHzHBQQAJyZvzdQuFwuTZ06VQ6HQz169HA/veF8cLlcevvtt9WoUSOlpaVp79695+3YOHfo3yEcAOsDBQQAtfP3Bory8nLdc889MsYoMzMzYM/u++KLL5ScnKwLL7xQmzdvDsgaUH/o3wRAv1BAAFA7f26gOHbsmAYNGqTw8HC98MIL53CVvtmzZ486d+6suLg4rVy5MtDLgR/o3wRAv1BAAFA7jzOAdbiB4vvvv1fPnj0VExOjpUuXnuNV+q64uFgZGRmKjIzU3LlzA70cnCX6NwHQLxQQAJxZXa8B3L17ty699FI1a9ZMGzZsOMerq7uTJ09q5MiRMsZo8uTJXh8cDWujfxMA/UIBAUD9ys/PV6tWrdS6dWtt3bo10Mupkcvl0pQpU9whEPZC/yYA+oUCAoD689VXX6lZs2bq3Lmz9u3b595u5a9hmzp1qowx1Z4rC2ujfxMA/UIBAUD92L17ty688EJ16tRJ33//vXu71b+GzeVy6f7775fD4dD8+fMDvRz4iP5NAPQLBQQA/jt06JA6duyo1NRU7dmzx+NndvgatoqKCt1xxx2KjIzU8uXLA70c+ID+TQD0CwUEAP45cuSIunXrpoSEBK8PeD7bu4jPt5MnT6pfv36KjY215I0r8ET/JgD6hQICgLN34sQJ9e3bV40aNdJnn31W435WvgbwdEePHlXPnj3VtGnTc/Idxag/9G8CoF8oIAA4OxUVFRo6dKgaNGigDz/8MNDLqTf//e9/9ZOf/ETJycnavXt3oJeDGtC/CYB+oYAAoO5cLpfGjRunsLAwLViwINDLqXf79u1TSkqK0tPTdfz48UAvB17QvwmAfqGAAFheWZlUUHDqT4t45plnZIzRs88+G+ilnDP/+c9/FB0drREjRvCgaAuifxMA/UIBAbC0sjIpPV0y5tSfFgiBy5cvV1hYmCZMmBDopZxz8+bNkzFGs2bNCvRSUAX9mwDoFwoIgKUVFJwKf5XDy12251NhYaHi4+P185//XOXl5QFdy/nywAMPKCIiQrm5uYFeCk5D/w7xALhnzx79+te/VtOmTRUTE6POnTvXeidaVRQQAEs7/Qxg164BPQNYXFysjh076pJLLtEPP/wQsHWcbydPntRPf/pTNW/enJtCLIT+HcIB8L///a9SU1M1YsQIffzxx9q5c6c++OADff311z7PQQEBsDwLXANYUVGhAQMGqHHjxvrqq68Cto5AOXjwoC688EJ17dqVm0Isgv4dwgFw4sSJ6tWrl19zUEAAcGaPPfaYHA6H3nvvvUAvJWA+++wzbgqxEPp3CAfAjh076oEHHtDNN9+shIQEXXHFFWe8I620tFTFxcXuUVRUFPIFBAC1efPNN2WM0bRp0wK9lICbO3eujDGaPXt2oJcS8giAIRwAo6KiFBUVpUcffVQbN27UnDlzFB0drZdffrnG12RmZsoYU22EcgEBOHcs8OmtX/Ly8tSwYUMNHTqUs17/Z+zYsYqKitIXX3wR6KWENAJgCAfAyMhI9ejRw2Pbfffdp+7du9f4Gs4AAjhfLPgElzr54Ycf1KZNG6Wlpeno0aOBXo4lVJRV6LvPv9NlnS5Tp06d+L0EEAEwhANgSkqKRo4c6bFt9uzZSkpK8nkOCgjAuWKxJ7jUicvl0uDBgxUfH68dO3YEejmWUFFWoQ3pG5RjcvRap9cUHR2te+65J9DLCln07xAOgLfddlu1m0AeeOCBamcFa0MBAThXLPQElzqbMWOGjDFavHhxoJdiGSUFJcoxOe4x84mZMsZo4cKFPs9RUVahkoISVZRVnMOVhgb6dwgHwE8++UQRERF68sknVVhYqFdffVUNGzbUK6+84vMcFBCAc8mO1wBu2LBBERER+u1vfxvopVjK6WcAN3TdoPKT5Ro8eLCaNGni0/MBPV6fvoEQ6Cf6dwgHQEl69913ddlllykqKkodOnSo8/dSUkAA8D/ff/+9UlJS1L17d508eTLQy7Gcqmfwvv/+eyUnJ+vaa6894zejVD2DWFJQcj6WHLTo3yEeAP1FAQHAKRUVFerfv7+aNm2qXbt2BXo5trF69WqFhYVp8uTJte5X9QwiZwD9Q/8mAPqFAgKAU/785z/LGBPSD3s+W48//rjCw8O1bt26WvfjGsD6Q/8mAPqFAgIAad26dQoPD9fEiRMDvRRbKisrU8+ePZWSkhJS35McSPRvAqBfKCAAoe7gwYNq1aqVrrnmGpXZ6W4Vi/nmm28UFxenW265hYdmnwf0bwKgXyggAKGsoqJCGRkZSkhI0J49ewK9HNur/Nq8559/PtBLCXr0bwKgXyggAKHsySeflMPh0PLlywO9lKAxatQoNWzYUF999VWglxLU6N8EQL9QQABC1apVqxQWFqbHHnss0EsJKiUlJerQoYOuuOIKlZaWBno5QYv+TQD0CwUEIBR9++23atmypfr06XPG59eh7jZu3KjIyEg98sgjgV5K0KJ/EwD9QgEBCDXl5eX62c9+phYtWmj//v2BXk7QysrKksPh0Nq1awO9lKBE/yYA+oUCAhBq/vjHP8rhcGjlypWBXkpQKy8v19VXX63WrVvTY84B+jcB0C8UEIBQ8uGHHyosLExPPPFEoJcSErZv3y6n06k777yz/ia14xdMnwP0bwKgXyggAKGi8rq/6667juv+zqPnn39exhgtWrTI/8nKyqT0dMmYU3+GcAikfxMA/UIBAQgF5eXluv7667nuLwBcLpduuukmXXDBBfr222/9m6yg4FT4qxwFBfWzSBuifxMA/UIBAQgFU6ZMkcPh0AcffBDopYSkAwcOKCEhQf379/fvW0JOPwPYtStnAEO8fxMA/09WVpaMMbr//vt9fg0FBCDYrV69WmFhYXr88ccDvZSQtmTJEhlj9Oyzz/o3EdcASqJ/SwRASdInn3yi1q1b6/LLLycAAsD/OXDggBITE/XTn/6U6/4sYNSoUYqNjVVhYWGgl2J79G8CoI4cOaKLL75YOTk56t27NwEQAHTqe35vuOEGNW/eXPv27Qv0ciDpxx9/1EUXXaQePXqoLFBn8ILkDCL9mwCoYcOG6YEHHpAkAiAAawlgs506daocDodycnLO+7FRs3Xr1iksLExTp049/wcPoruI6d8hHgBff/11XXbZZTp+/LikMwfA0tJSFRcXu0dRqdVVagAAIABJREFUUVHIFxCAcySAzTY3N1dhYWH6wx/+cN6OCd/9/ve/V0REhD777LPze+AguouYABjCAXD37t1q3ry5Nm3a5N52pgCYmZkpY0y1EcoFBOAcCVCzPXDggJKSktS7d2+u+7OoEydOKC0tTR06dNCxY8fO34GD6C5iAmAIB8BFixbJGKPw8HD3MMbI4XAoPDzc63/4OAMI4LwJQLOtqKhQ3759lZCQoL17957z4+HsbdmyRVFRURo/fvz5PTDXAAaNkA2AP/74o/Lz8z1Genq67rjjDuXn5/s0BwUE4Jw6z802KytLDodDy5cvPy/Hg39mzpwpY4xWrFgR6KXYDv07hAOgN9wEAiDYVJRVqKSgRBVlFbXut2bNGoWFhWnSpEln9XqcfxUVFbr++uuVlJSk77//PtDLsRX6NwHQAwEQQDCpKKvQhvQNyjE52pC+ocYQd/DgQSUlJenaa6/1eLyIr69H4BQVFSk+Pl5Dhw4N9FJshf5NAPQLBQTAykoKSpRjctyjpKCk2j4VFRW68cYbvV7358vrEXivv/66jDF66aWXAr0U26B/EwD9QgEBsDKPM3hdvZ/B+9Of/iRjjN5///2zej2sYcSIEYqJidHmzZsDvRRboH8TAP1CAQGwutqu4Vu7dq3Cw8P1+9///qxeD+s4evSoOnXqpI4dO6qkhDO1Z0L/JgD6hQICYFe7d+9WixYtdM011wTua8VQr7788kvFxsZq2LBhcrlcgV6OpdG/CYB+oYAA2FFJSYmuuOIKpaam6sCBA4FeDurRvHnzZIzRCy+8EOilWBr9mwDoFwoIgN1UVFRo8ODBio2N1eeffx7o5eAcGDVqlKKjo/XFF18EeimWRf8mAPqFAgJgN5MmTZLD4dCSJUsCvRScI8eOHdNPfvITtW/fXj/++GOgl2NJ9G8CoF8oIAB28uqrr8oYo6eeeirQS8E5tnXrVjmdTt1+++1cD+gF/ZsA6BcKCEBtrPS1qRs2bFBUVBQ3CISQ1157TcYYPfvss4FeiuXQvwmAfqGAANSkrExKT5eMOfVnIENg5R2/V199tUpLSwO3EJx3d999t6KiorRp06ZAL8VS6N8EQL9QQABqUlBwKvxVjoKCwKyj8o7flJQU7vgNQcePH9cVV1yhiy++mF51Gvo3AdAvFBCAmpx+BrBr18CcAayoqNAvf/lL7vgNcdu2bVOjRo00ZMgQPv7/P/RvAqBfKCAAtQn0NYCPPfYYd/xCkjR//nwZYzRr1qxAL8US6N8EQL9QQACsqvIGgGnTpgV6KbCIBx54QGFhYVq2bFmglxJw9G8CoF8oIABWxB2/8Ka8vFwDBgyQ0+kM+UsC6N8hHACzsrKUnp4up9OphIQEDRw4UFu3bq3THBQQAKvZvXu3WrZsqR49euj48eOBXg4s5siRI0pLS9OFF16offv2BXo5AUP/DuEAmJGRoezsbG3evFmbNm1Sv379lJKSopKSEp/noIAAWMn333+vn/zkJ0pJSdG3334b6OXAgirKKrRtzTa1atVKXbp0qVPPCyb07xAOgFUdPHhQxhjl5ub6/BoKCIBVFBcXq1u3bmrWrJm2bNkS6OXAgirKKrQhfYNyTI7mXjpXsbGxGjRokMrLywO9tPOO/k0AdCssLJQxRvn5+T6/hgICYAVHjx7Vtddeq7i4OP3nP/8J9HJgUSUFJcoxOe7x9r/eVlhYmB566KFAL+28o38TACVJLpdLAwYMUK9evWrdr7S0VMXFxe5RVFQU8gUEILBKS0uVkZGh2NhYffTRR4FeDizs9DOAG7puUEVZhf72t7/JGKO///3vgV7eeUUAJABKksaOHavU1FQVFRXVul9mZqaMMdVGKBcQgMA5efKkBg0apKioKK1cuTLQy4ENVJRVqKSgRBVlFe5tDz74oIwxmj17dgBXdn4RAAmAuvfee5WcnKwdO3accV/OAAKwivLyct1+++2KiIjQ0qVLA70c2JjL5dL9998vY4xmzpwZ6OWcFwTAEA6ALpdL48aNU1JSkrZt23ZWc1BAAALB5XLprrvuUlhYmN58881ALwdBwOVy6eGHH5YxRn/+85/P7cEC/RU5on9LIRwAx4wZo7i4OK1evVr79+93j2PHjvk8BwUEoFbnoNG5XC498MADMsbopZdeqrd5AZfLpccee0zGGE2dOvXcHOT0L8lOTw9YCKR/h3AA9HYtnzFG2dnZPs9BAQGoUT00uv/f3rmHVVGubfxdLFgsTiIiKgsSyhIUg0RDya18EoJ4wrRAQFmE6A7P7a48dkWetS7FDmblaWeZWh6K1EoyTLeHSEUR+UQEPBGl4kZYW87r/v7gW7NZx5lZawkUz++63j8c5nnmmfGemXu98847uuO1GhsbMWfOHDDGsHHjRmtXTBAAgGXLloExhjfffNP6X5IpLGw+JzStsNC6+QVC9+8ObACtAQmIIAijWHij03pjc+AZqKpUmDhxImxsbLBp06ZHVDRBNLN69WowxvD666+jqamJP0AoLX8YPfss9QC2IWQALYAERBB/XSx+emvhja7lnG372D6EBofCwcEB33zzjZkFEYQ4MjIyIJFIEBkZiTt37lgvsaUnlxWGVtD9mwygRZCACOKvidWGKVlwo9L0AH7GPoOP3Addu3bF6dOnzSyEIMzjyJEj8PDwgJeXF06cONHW5Vjt5KT7NxlAi9AIqKKi4wqIIP6KtJNhSjibcxbdPbrjiSeeMHu2AoKwlLKyMgwdOhRSqRRr16xF1f9Wac0j2KpY6eQkA0gG0CI0Aurf/0Fbvs1OEISVaQ/DlH744Qc4Oztj4MCB+P3331u/AIJoQUNDAxYuWAjGGJ5hz2BXwK62MYFWOjnJAJIBtAiNgBh70GY9BARBPBracqqy7du3w9bWFqNGjYJKpWr9AgjCAKpCFdaytfBiXpAyKWYlz0JlZWXrF0JjAK0CGUAL0AgoOJh6AAmCsJyamhpujr/U1FQ00IWFaEdoxqUeYocww3sGHB0d0alTJ/zjH/9AaWlpW5cnCjKAZAAtwhpjANvBhOgEQRiilU/O/Px8BAYGQiaTISMjw/rzrxGEFWg5N2VZWRkWLlwINzc32NjYIDo6Gu+99x6uXLliVL+1tbU4duwYTp48idra2lau/r+QASQDaBGWCqidTIjeLiAjTLQrWvHkVKvV+OCDDyCXy9G3b19cuHDhkW2LIB4FKpUKmzZtwvDhw2FnZwfGGLp27YrAwEBERUVh4sSJGDp0KHr37g25XM59eMHe3h5DhgzB/Pnz8c033+Du3butVjMZQDKAFmGpgNrLm4ZtDRlhot1hpZNT90seuvzxxx8YPXo0GGOYOXOmqE9REkR7RKVS4dChQ1i2bBnS0tIwfvx4REREIDExEa+99ho2bNiAszlncXzvcWSsy8BLL70EhULBmUI/Pz+kpKTg008/RUVFxSOrkwwgGUCLsGYPYBtOiN7mkBEm2h1WODl1v+TR0gSq1Wrs378f3bt3h4eHB7799ltrVk8Q7RZD54VarUZpaSk+//xzpKWlITAwEBKJBLa2thgxYgQ++ugjrTfh+X5YCYEMIBlAi7CGgNrBhOht/vi1vRjhtj4OhPWwyv+lhUlafskji2VBVdj8Nu+VK1cQGRkJxhjGjBmD8vJyC4okiD8Xxs4LXX777Tds3LgR4eHhkEqlkEgkGDZsGDas34DMwEyDP6zEQAaQDKBFcAKypJvagpuMNR6dWitHW5tQa8S3h+NANGPJsbTWkAJLexm0ejqePYPK+5WYP38+7Ozs8PjjjyMzM5Ne9CA6HLrnhZDz6+7du9iyZQtGjRrFjTH0Z/5IZanIy8ozqw4ygGQALYITUP/+bXKnssajU0tztIfxe9aoob0ch7Y2wtagrc24Nc4LU49vxeYpO1uGFctXwN3dHQ4ODli2bBlqamrMykcQfwUs+XF1/959vPX4WxjChsDexh6MMQQFBWHZsmW4fPmy4DxkAMkAWgQnoDZyXw0NwMAB6uZHpwPVFntQcx6/tofxe9aooT0cB0uNT3swoe3GjFt4Xgh9TGWKiooKvPnmm+jcuTNkMhnS0tJw48YN8cUQBKGFxkBWVVbhq6++wqRJk+Ds7NzcM+jvj8WLF+PcuXMme9jJAJIBxMaNG+Hr6wt7e3sEBwfj+PHjgmM5AQUHW363NMd1NDSgLjgU+WwI6oJDzb7jN9Q0oPD7EjTUmPkY2sKbLZfIkkfhVqihrY+DpcbHaib0//dj4ADx+2HtGsw6llY4L8x5TAUAjY2NOHLkCBITE+Hg4AAHBwe8+uqrKCsrE10DQRDCqampwbfffovk5GS4ubmBMYann34amzZtQnV1td76ZAA7uAHcvXs37OzssHnzZhQUFGDu3LlwcnIS/CtdI6B//2H+3EVNNXVQfZ+Pppo68bGXr+AM+6D5JsU+QNPlK+ILaGhA04AQqJgXmgaEtI0JpRo0KRAS3AgvpsKgAY3iS6hpQIjDpeZ4h0tmGdnCyw2wYU3wYirYsCYUXhaXw9J90CSx5Fha5byA8MdU9fX1OHXqFBYtWgRvb29uKotVq1bhzp07Zm2bIAjzqa+vx3fffYfx48fDxsYGLi4umDVrFgoKCrh1yAB2cAMYEhKCV155RWuZv78/Fi5cKCheI6Cj/Y+aNZbB0nFGqssPtB9TXRYvZEtvlta42VIN/5+jpg5nHLc353DcLvpHgTVqqLt4BdvYUWSxLGxnR1F3UeRxsHAfAMv3wxrnhTHUajXKy8tx4sQJvP3224iOjuYePXXu3BlpaWk4c+YMvdxBEO2EGzduYMmSJejWrRsYYxg+fDj27t2Le/fukQFs6wLairq6OkilUuzfv19r+Zw5czBs2DCDMbW1tXjw4AHXbt68CcYYhrAhmDByAmJjY0W1idETEcbCEMbC8D/sf/DiqBcRFxdntE2aNEmrxcXGYYTbCAxnwzHCbQTiYuMQHx/P2xISErgWOzoW4Syca7GjY5GQkIDExESTbfLkyZg8eTImjY1FBIvg2qSxsdzfpkyZwtuSkpKQMG6SVo6EcZOQlJTENaVSabIlxMQjkkVyLXF8ApKTk/Xayy+/bLRNfiERkSwSUSwKUSwKUyZMRkpKil6bOnWqwZY0YQpGspFcS5owxei6RnNETdDOETVB6++pqakmm3Jikla8cmISb4zQHNOmTRPUkke+iGgWzbXkkS8KjuVyvKjUyvHyS8mYPn264DYtdRpi3GMwio1CTNcYTEudJiq+ZUtJSUFCQgJGjx6Nvn37wtHRkZuwVi6XIzw8HOnp6Th69CgqKiq0rg/UqFFrP+3OnTvYsmULBg8eDMYYZwgrKytbw3K0SzqsASwrKwNjDCdPntRavnLlSvTu3dtgTHp6Onfxp0aNGjVq1Kj9udutW7daw3K0Szq8ATx16pTW8hUrVsDPz89gjG4P4I0bN8AYw82bN83+VXLr1i1OhG0RTzVQDVRD+81BNVANVMOjqaGyshK3bt1CU5P5XxP5s9NhDaA5j4B1efDA8kGkluagGqgGqqF91mCNHFQD1UA1PJoaiA5sAIHml0DS0tK0lvXp00f0SyB/9hOBaqAaqIb2mYNqoBqohkdTA9HBDaBmGpitW7eioKAA8+bNg5OTE65fvy4o/q9yIlANVAPV0D5zUA1UA9XwaGogOrgBBJongvbx8YFMJkNwcDB+/vlnwbG1tbVIT09HbW2t2du3NAfVQDVQDe2zBmvkoBqoBqrh0dRAkAEkCIIgCILocJABJAiCIAiC6GCQASQIgiAIguhgkAEkCIIgCILoYJABJAiCIAiC6GCQATSTjRs3wtfXF/b29ggODsbx48dFxf/8888YM2YMPD09wRjDgQMHRMWvWrUKAwcOhLOzMzw8PBATE4MrV64Ijv/www/x9NNPw8XFBS4uLhg8eDAOHz4sqgbdehhjmDt3ruAYQ5/W6969u+ht3759G4mJiejSpQscHBwQFBSEs2fPCor18fHRq4ExhhkzZgjefkNDA5YsWQJfX1/I5XI8/vjjWLp0qagZ5quqqjB37lz07NkTcrkcoaGhyMnJMbo+n37UajXS09Ph6ekJuVyOsLAw5Ofni8qxb98+REZGwt3dHYwx5ObmCo6vr6/H/Pnz0a9fPzg6OsLT0xNTpkxBWVmZqBrS09Ph5+cHR0dHdO7cGc8//zzOnDkjOL4l06dPB2MMGRkZompQKpV6+hg0aJCoGgoKCjB27Fh06tQJzs7OGDRoEG7cuCE4hyGNMsbw9ttvC4qvrq7GzJkz4eXlBblcDn9/f3z44YeijsPvv/8OpVIJT09PODg4ICoqClevXuX+LuSaZEqXQuL5NMmXg0+XQmrg06TYa7OuLoXE82lSaA2mdCkkhyldConn06WQHHy6JIxDBtAMNPMHbt68GQUFBZg7dy6cnJy0Luh8HD58GEuWLMG+ffvMMoBRUVHYvn078vPzceHCBYwePRo9e/aESqUSFJ+ZmYlDhw6hsLAQhYWFWLx4Mezs7PRMghBycnLg6+uLwMBA0QYwICAA5eXlXLtz546obd+/fx8+Pj5ITk7GL7/8gtLSUvz444+4du2aoPg7d+5obT8rKwuMMWRnZwuuYcWKFXB3d8fBgwdRWlqKr776Cs7OztiwYYPgHLGxsejbty9+/vlnFBUVIT09HZ06dcLt27cNrs+nnzVr1sDFxQX79u3DpUuXEBcXB09PT1RVVQnOsWPHDixduhSbN282eLM1FV9ZWYmIiAjs2bMHV65cwenTpzFo0CAMGDBA1H7s3LkTWVlZKC4uRn5+PqZOnYpOnTpxOhF6Hh04cABBQUFQKBR6BpAvh1KpxMiRI7V0UlFRITj+2rVr6NKlC15//XWcP38excXFOHjwIP744w/BOVpuu7y8HNu2bYNEIkFxcbGg+NTUVPTq1QvZ2dkoLS3Fxx9/DKlUiq+//lpQDWq1GoMHD8bQoUORk5ODK1euYPr06VrXHCHXJFO6FBLPp0m+HHy6FFIDnybFXJsN6VJIPJ8mheTg06WQHKZ0KSSeT5d8OYTokjAOGUAzCAkJwSuvvKK1zN/fX/AXRHQxxwDqcufOHTDGRM1jqIubmxu2bNkiKqa6uhpPPfUUsrKyEBYWJtoABgUFiS1TiwULFuBvf/ubRTlaMnfuXPTq1QtqtVpwzOjRo5GSkqK1bMKECZg8ebKg+IcPH0IqleLgwYNay4OCgrBkyRLeeEM36x49emDNmjXcstraWri6uuKjjz4SlKMlpaWlBm+2QuM15OTkgDFm9IeSkByaCWB//PFHwfG3b9+Gl5cX8vPz4ePjo2cA+XIolUrExMSYrMtUfFxcnGAtGMuhS0xMDMLDwwXHBwQEYNmyZVrLgoOD8cYbbwjKUVhYCMaY1g/ExsZGdOnSBZs3bzaYQ/eaJFaXpq5pQjTJl0ODKV0KiTelSVM5hOrSULwYTRrLIVaXQo6FKV0aiherS90c5uiS+C9kAEVijW8I62INA1hUVATGGC5duiQ6trGxEbt27YJMJsPly5dFxSYlJWHevHkAYJYB1DyG8fX1RVxcHNejIZQ+ffpg3rx5ePHFF+Hh4YFnnnkGn3zyiagcGurq6uDu7o6VK1eKilu9ejV8fHxQWFgIALhw4QK6deuGL774QlB8VVWVwRvI4MGDERYWxhuvq5/i4mIwxnD+/Hmt9caNG4ekpCRBOVpiLQOYlZUFiURidPZ+vhx1dXV455134Orqirt37wqKb2pqwvDhw7neWHMNoKurKzw8PPDUU08hNTVVq/fOVHxTUxOcnZ2xbNkyREZGwsPDAyEhISb3k+84/P7777C1tcXOnTsFx//973/HwIEDcfv2bajVavz0009wdnbGiRMnBOXIy8sDY0yvZ71Hjx5QKpUGc+hek8Tq0tQ1TagBFHJdNKVLvng+TRrLIUaXhuLFaNJQDnN0yXcs+HRpKF6sLnVzmKNL4r+QARRJWVkZGGM4efKk1vKVK1eid+/eZuW01ACq1WqMHTtWdE9YXl4enJycIJVK4erqikOHDomK37VrF/r164eamhoA4g3g4cOHsXfvXuTl5XE9iN27d8e9e/cE57C3t4e9vT0WLVqE8+fP46OPPoJcLsenn34qal8AYM+ePZBKpXrj1PhQq9VYuHAhJBIJbG1tIZFIsGrVKlE5QkNDERYWhrKyMjQ2NuKzzz6DRCIRpCld/Zw8eRKMMb39mDZtGiIjIwXlaIk1DGBNTQ0GDBiAxMRE0Tm+/fZbODk5QSKRQKFQGB0baSh+1apVGDFiBNeja44B3L17Nw4ePIhLly4hMzMTQUFBCAgIMPgVAt348vJyMMbg6OiI9evXIzc3F6tXr4ZEIsGxY8dEHQcNa9euhZubG3feCYmvq6tDUlISGGOwtbWFTCbDjh07BB+H+vp6+Pj44KWXXsL9+/dRV1eH1atXgzFmUFOGrklidMl3TROiSSHXRVO6NBUvVJPGcgjVpbF4MZo0lEOsLoUcS1O6NBYvRpeGcojVJaENGUCRaAzgqVOntJavWLECfn5+ZuW01ADOmDEDPj4+uHXrlqi4uro6FBUV4ddff8XChQvRtWtXwT2AN2/eRLdu3XDhwgVumVgDqItKpUL37t2xbt06wTF2dnYIDQ3VWjZ79mwMHjxY9PYjIyMxZswY0XG7du2Ct7c3du3ahby8POzYsQNdunTBP//5T8E5rl27hmHDhoExBqlUimeffRaJiYno06cPb6wxA/jbb79prZeamoqoqChBOVpiqQGsr69HTEwM+vfvb/LbncZyqFQqFBUV4fTp00hJSYGvr6/B3g7d+LNnz6J79+5ahsMcA6jLb7/9Bjs7O+zbt483XnO9iI+P11pv7NixmDRpklk1+Pn5YdasWaL24Z133kHv3r2RmZmJixcv4v3334ezszOysrIE5zh79iyCgoI4jUZFRSE6OhrR0dF68YauSWJ0yXdNE6JJvhx8ujQVL1SThnKI0aXQa7spTRrKIVaXQuowpUtj8WJ0aSyHGF0S2pABFEl7ewQ8a9YseHt7o6SkxKz4ljz//POYPn26oHUPHDjAnXCaxhiDRCKBVCpFY2OjWTVEREToja80Rc+ePTF16lStZR9++CEUCoWo7V6/fh02NjZag+KF4u3tjQ8++EBr2fLly836QaBSqbgbZGxsLEaNGsUb054fAdfX12P8+PEIDAzk7dkVeh48+eSTBntYdeMzMjI4PbbUqI2NDXx8fCyuoeVYNmPxdXV1sLW1xfLly7XWmz9/Pp577jnRNRw/fhyMMa0fXnzxDx8+hJ2dnd4Y06lTp5r1g6CyspJ74SEkJETvjXlj1yShuhRyTePTJF8OPl2Kva4a0qSxHEJ1aU4Nupo0lkOMLoXUYUqXxuLF6FJIDXy6JPQhA2gGISEhSEtL01rWp0+fVn0JRK1WY+bMmVAoFFZ75T08PFzwuImqqipcunRJqw0cOBCTJ082axwi0Dwg3MvLC0uXLhUcEx8fr/dYYd68eXq9gnykp6ejR48eaGhoEBUHAF26dNGbUmPVqlV46qmnROfScP/+fbi6uuLjjz/mXdfYSyBr167lltXV1bX6SyCam2xAQICgt7uFnge9evVCeno6b/y9e/f0NKpQKLBgwQKj03IIqeHevXuwt7c3OMzAUHxoaKjeYPvx48fr9b4IqUGpVOq9Sc0Xr3lJQXeap+nTp2PEiBGia9Bw9epV2NjY4IcffgDAf03i06WYa5oxTQrJYUqX5l5XW2qSLwefLs2pQVeTQnLw6VJMHYZ0yRcvRJfmHAtdXRLGIQNoBpppYLZu3YqCggLMmzcPTk5OuH79uuAc1dXVyM3NRW5uLhhj3DgMoVPJpKWlwdXVFceOHdN6Df/hw4eC4hctWoTjx4+jtLQUeXl5WLx4MWxsbHDkyBHB+6CL2EfAr732Go4dO4aSkhKcOXMGY8aMgYuLi6jjmJOTA1tbW6xcuRJFRUXYuXMnHB0d8fnnnwvO0dTUhJ49e2LBggWCY1qiVCrh5eXFTQOzf/9+dO3aFfPnzxec4/vvv8d3332HkpISHDlyBEFBQQgJCUF9fb3B9fn0s2bNGri6umL//v24dOkS4uPj9aaB4ctRUVGB3NxcHDp0CIwx7N69G7m5uSgvL+eNb2howLhx4+Dt7Y0LFy5oabSurk5QDSqVCosWLcLp06dx/fp1nDt3DlOnToW9vT331p/Y88jQozZTOaqrq/Haa6/h1KlTKC0tRXZ2NkJDQ+Hl5cUdS74a9u/fDzs7O3zyyScoKirC+++/D6lUqjXQXch+PHjwAI6Ojti0aZNoPYSFhSEgIADZ2dkoKSnB9u3bIZfLtX648OX48ssvkZ2djeLiYnz99dfw8fHBhAkTuHgh1yRTuhQSz6dJvhx8uuSLF6JJc67NLXXJFy9Ek0Jq4NOl0P0wpksh8Xy6FJKDT5eEccgAmsnGjRvh4+MDmUyG4OBg0dOvZGdngzH9CTSF9sAZimWMYfv27YLiU1JSuPo9PDzw/PPPW2T+APEGUDMHmJ2dHRQKBSZMmCD6LWSgeUB2v379YG9vD39/f9FvAf/www9gjHFv8YpFdxLnJ554AkuWLNEyOnzs2bMHTzzxBGQyGXr06IGZM2eisrLS6Pp8+tFMuNujRw/Y29tj2LBhej2zfDm2b99u8O+ang5T8ZoeGkOt5RyLpnLU1NTghRdegEKhgEwmg6enJ8aNG6c14F7seWTIAJrK8fDhQ+4tSTs7O/Ts2RNKpRI3b94UVcPWrVvx5JNPQi6XIygoSG+ogZAcH3/8MRwcHAzqgi++vLwcycnJUCgUkMvl8PPzw7p167SmO+LL8e6778Lb25s7Dm+88YaWxoVck0zpUkg8nyb5cvDpki9eiCbNuTa31CVfvBBNCq3BlC6F5jCmSyHxfLoUkoNPl4RxyAASBEEQBEF0MMhb4uuRAAAG1klEQVQAEgRBEARBdDDIABIEQRAEQXQwyAASBEEQBEF0MMgAEgRBEARBdDDIABIEQRAEQXQwyAASBEEQBEF0MMgAEgRBEARBdDDIABIEQejwr3/9C/369YOtrS1iYmLarA7N5MT//ve/26wGgiD+mpABJAiiVVEqldyM/ra2tujWrRsiIiKwdetWNDU1tXV5AJq/9z158mTcunXLpPkqKipCcnIyvLy8IJPJ4Ovri0mTJuHXX3+1Sh1kAAmCeFSQASQIolVRKpUYOXIkysvLcfv2bZw7dw4rV66Es7MzoqOj0dDQ0NYlwt3dHdu2bTO5zq+//opOnTrhueeew8GDB3Ht2jXk5ubirbfewrBhw6xSBxlAgiAeFWQACYJoVZRKpcHHqkePHgVjDJs3b+aWrVu3Dv369YOjoyO8vb2RlpaG6upqAIBKpYKLiwu++uorrTyZmZlwdHREVVWVwe3X1tZi9uzZ8PDwgL29PYYMGcJ9y9XQt2INfcNVrVYjICAAAwYMMNhrqTFsw4cPx8yZM7X+du/ePchkMhw9epSr5/XXX4e3tzdkMhmefPJJbNmyBYBhA3jy5EkMHToUcrkc3t7emD17NlQqlcF9JQiCMAYZQIIgWhVjBhAAgoKCEB0dzf07IyMDP/30E0pKSnD06FH4+fkhLS2N+/u0adMwatQorRwvvPACkpKSjG5/zpw5UCgUOHz4MC5fvgylUgk3NzdUVFSgsbER5eXl6NSpEzZs2IDy8nI8fPhQL8f58+fBGMMXX3xhcl937twJNzc31NbWcsveffdd+Pr6ch+8j42NxWOPPYb9+/ejuLgYP/74I3bv3g1A3wDm5eXB2dkZGRkZuHr1Kk6ePIn+/fsjOTnZZB0EQRC6kAEkCKJVMWUA4+Li0KdPH6OxX375Jdzd3bl///LLL5BKpSgrKwMA3L17F3Z2djh27JjBeJVKBTs7O+zcuZNbVl9fD4VCgbfffptb5urqarDnT8OePXvAGMP58+eNrgM09+516dIFe/bs4ZY988wzeOuttwAAhYWFYIwhKyvLYLyuAZwyZQqmT5+utc6JEydgY2ODmpoak7UQBEG0hAwgQRCtiikDGBsbi759+3L//umnnxAREQGFQgFnZ2fI5XIwxrQeeQYGBmL16tUAgPXr16NXr15c75ouFy9eBGMM169f11o+fvx4vPzyy9y/+Qzg7t27wRhDbm4u7/7OmTMHUVFRAIDc3FxIJBJu+3v27IFUKkV9fb3BWF0D2LdvX8hkMjg5OXHN0dERjDEUFBTw1kIQBKGBDCBBEK2KKQP49NNPY/To0QCA69evQy6XY968eTh9+jQKCwuxdetWvTFx7733Hnr37s3Fr1ixwui2L1y4AMYYbty4obU8JiYGKSkp3L/5DKDQR8BA82NbGxsb3Lp1C7Nnz0ZERAT3t8zMTFEG0N/fH7Nnz0ZRUZFeq6ur462FIAhCAxlAgiBaFb6XQDRv3+7duxe2trZaL1ksX75czwDev38fcrkc7777Lme0jKFSqSCTyfQeAXt5eeGdd97hlvEZQLVajb59+/K+BKIhJCQEb775Jtzd3bVMY2lpKSQSieBHwAkJCQgPDzdaF0EQhFDIABIE0aqYmgZmzJgxaGxsBND8uJQxhg0bNqC4uBg7duyAl5eXwWlREhISIJPJMHLkSN7tz507FwqFAt99953WSyD379/n1uEzgEDz+EMXFxcMGTIEhw4dQnFxMS5evIgVK1boTQPzySefQCaToXPnznpj9ZKTk/HYY4/hwIEDKCkpQXZ2NjdmUNcAXrx4EQ4ODpgxYwZyc3Nx9epVfPPNN5g1axbvfhMEQbSEDCBBEK2K7kTQHh4eiIiIwLZt2/R609avXw9PT084ODggKioKO3bsMGgANb2HX375Je/2a2pqMHv2bHTt2lVvGhgNQgwg0PwSR1JSEhQKBWQyGXx8fBAfH6/3ckh1dTUcHR0xY8YMg/W8+uqr8PT05KaB0fSCGpoGJicnByNGjICzszOcnJwQGBiIlStX8tZKEATREjKABEH86fn888/h7u7ebsfB3bx5EzY2Njh37lxbl0IQBAGADCBBEH9i/vOf/yA/Px8BAQFYvHhxW5ejR319PW7cuIH4+Hg899xzbV0OQRAEBxlAgiD+tKSnp8PW1hbh4eHcF0LaE5pHuL1790ZeXl5bl0MQBMFBBpAgCIIgCKKDQQaQIAiCIAiig0EGkCAIgiAIooNBBpAgCIIgCKKDQQaQIAiCIAiig0EGkCAIgiAIooNBBpAgCIIgCKKDQQaQIAiCIAiig0EGkCAIgiAIooNBBpAgCIIgCKKD8X+mbHYKpjflvQAAAABJRU5ErkJggg==",
       "_figure_label": "P",
       "_height": 480,
       "_image_mode": "diff",
       "_message": "x=5.41 y=7.94",
       "_width": 640,
       "layout": "IPY_MODEL_0cfd115a378341b193452ad3e19da86a",
       "toolbar": "IPY_MODEL_b9a69ea490cd42de8ffb258af2986556",
       "toolbar_position": "left"
      }
     },
     "42dc7147e0674ff3b8419c0d0dd43762": {
      "model_module": "@jupyter-widgets/base",
      "model_module_version": "1.2.0",
      "model_name": "LayoutModel",
      "state": {}
     },
     "4371958874934060a77977d073b4f60e": {
      "model_module": "@jupyter-widgets/controls",
      "model_module_version": "1.5.0",
      "model_name": "SliderStyleModel",
      "state": {
       "description_width": ""
      }
     },
     "439e144fcd384d70b251fa31ab84d6c1": {
      "model_module": "@jupyter-widgets/base",
      "model_module_version": "1.2.0",
      "model_name": "LayoutModel",
      "state": {}
     },
     "43b37ce171da45bcb714e3c1eb146f8b": {
      "model_module": "jupyter-matplotlib",
      "model_module_version": "^0.10.1",
      "model_name": "ToolbarModel",
      "state": {
       "layout": "IPY_MODEL_64601625bf2a4da3b18ac2b5ca7dc9e7",
       "toolitems": [
        [
         "Home",
         "Reset original view",
         "home",
         "home"
        ],
        [
         "Back",
         "Back to previous view",
         "arrow-left",
         "back"
        ],
        [
         "Forward",
         "Forward to next view",
         "arrow-right",
         "forward"
        ],
        [
         "Pan",
         "Left button pans, Right button zooms\nx/y fixes axis, CTRL fixes aspect",
         "arrows",
         "pan"
        ],
        [
         "Zoom",
         "Zoom to rectangle\nx/y fixes axis, CTRL fixes aspect",
         "square-o",
         "zoom"
        ],
        [
         "Download",
         "Download plot",
         "floppy-o",
         "save_figure"
        ]
       ]
      }
     },
     "43cd6f36b1b94f739c5397a3fe4a1900": {
      "model_module": "@jupyter-widgets/base",
      "model_module_version": "1.2.0",
      "model_name": "LayoutModel",
      "state": {}
     },
     "43f387500a6c43e192f33c80985143f6": {
      "model_module": "@jupyter-widgets/base",
      "model_module_version": "1.2.0",
      "model_name": "LayoutModel",
      "state": {}
     },
     "4449dffe3eb6433f8d62a4401909a8c8": {
      "model_module": "@jupyter-widgets/base",
      "model_module_version": "1.2.0",
      "model_name": "LayoutModel",
      "state": {}
     },
     "45249dcd9ddc45a0ba1883dc731c6b96": {
      "model_module": "@jupyter-widgets/base",
      "model_module_version": "1.2.0",
      "model_name": "LayoutModel",
      "state": {}
     },
     "459b8b0e40e6480782c0e1c99ddec413": {
      "model_module": "jupyter-matplotlib",
      "model_module_version": "^0.10.1",
      "model_name": "ToolbarModel",
      "state": {
       "layout": "IPY_MODEL_e331fdb8eeb24f5d82e29f2a59978036",
       "toolitems": [
        [
         "Home",
         "Reset original view",
         "home",
         "home"
        ],
        [
         "Back",
         "Back to previous view",
         "arrow-left",
         "back"
        ],
        [
         "Forward",
         "Forward to next view",
         "arrow-right",
         "forward"
        ],
        [
         "Pan",
         "Left button pans, Right button zooms\nx/y fixes axis, CTRL fixes aspect",
         "arrows",
         "pan"
        ],
        [
         "Zoom",
         "Zoom to rectangle\nx/y fixes axis, CTRL fixes aspect",
         "square-o",
         "zoom"
        ],
        [
         "Download",
         "Download plot",
         "floppy-o",
         "save_figure"
        ]
       ]
      }
     },
     "4611c362a5ca456783e882400800334f": {
      "model_module": "@jupyter-widgets/controls",
      "model_module_version": "1.5.0",
      "model_name": "SliderStyleModel",
      "state": {
       "description_width": ""
      }
     },
     "4613071a5ea0439890a72b7f9131401b": {
      "model_module": "@jupyter-widgets/base",
      "model_module_version": "1.2.0",
      "model_name": "LayoutModel",
      "state": {}
     },
     "46a239e9590b46aba9e927b924efaf91": {
      "model_module": "@jupyter-widgets/controls",
      "model_module_version": "1.5.0",
      "model_name": "IntSliderModel",
      "state": {
       "layout": "IPY_MODEL_fed7327f2290419f90cba366e85a9765",
       "readout": false,
       "style": "IPY_MODEL_2d0dea36868e46db9457ab2a8d199e04"
      }
     },
     "471026a725e6455182966377875b94a4": {
      "model_module": "@jupyter-widgets/base",
      "model_module_version": "1.2.0",
      "model_name": "LayoutModel",
      "state": {}
     },
     "47838e2bf53b43258c7c8a2855615332": {
      "model_module": "@jupyter-widgets/controls",
      "model_module_version": "1.5.0",
      "model_name": "SliderStyleModel",
      "state": {
       "description_width": ""
      }
     },
     "48af142fff7245b28d90a7858d3c509f": {
      "model_module": "@jupyter-widgets/base",
      "model_module_version": "1.2.0",
      "model_name": "LayoutModel",
      "state": {}
     },
     "4932338a8eb24ba89ee507da61464f8c": {
      "model_module": "@jupyter-widgets/controls",
      "model_module_version": "1.5.0",
      "model_name": "SliderStyleModel",
      "state": {
       "description_width": ""
      }
     },
     "499de4db79f34256908d068f112d5223": {
      "model_module": "@jupyter-widgets/base",
      "model_module_version": "1.2.0",
      "model_name": "LayoutModel",
      "state": {}
     },
     "49c51c432bf44d458ae5fa1b1d96c680": {
      "model_module": "@jupyter-widgets/base",
      "model_module_version": "1.2.0",
      "model_name": "LayoutModel",
      "state": {}
     },
     "4a0836d4e55d494f99ed91db2a53d62d": {
      "model_module": "@jupyter-widgets/controls",
      "model_module_version": "1.5.0",
      "model_name": "IntSliderModel",
      "state": {
       "continuous_update": false,
       "layout": "IPY_MODEL_4c00ddade38b4e6fa7efca8b4c840ab5",
       "max": 10,
       "readout": false,
       "style": "IPY_MODEL_c18bac0d7c3645039c1f6bce41c482ff",
       "value": 5
      }
     },
     "4a2e61d4e10a4b27972ef39a12625f84": {
      "model_module": "@jupyter-widgets/base",
      "model_module_version": "1.2.0",
      "model_name": "LayoutModel",
      "state": {}
     },
     "4b220f28de104e0bac9aaf7fb4ad76e7": {
      "model_module": "@jupyter-widgets/base",
      "model_module_version": "1.2.0",
      "model_name": "LayoutModel",
      "state": {}
     },
     "4b82c8af25ce4cef874dd6193b36577f": {
      "model_module": "@jupyter-widgets/output",
      "model_module_version": "1.0.0",
      "model_name": "OutputModel",
      "state": {
       "layout": "IPY_MODEL_0932e56c4a1e480c9bff4eb52cdf7ef4"
      }
     },
     "4bb6f3d4cc9943b69e1cda6274d1c4ab": {
      "model_module": "@jupyter-widgets/controls",
      "model_module_version": "1.5.0",
      "model_name": "IntSliderModel",
      "state": {
       "continuous_update": false,
       "layout": "IPY_MODEL_f42f003e113b4e76a601ad8a7d5739db",
       "max": 10,
       "readout": false,
       "style": "IPY_MODEL_348b073db8c148beba945c13631b0dca",
       "value": 3
      }
     },
     "4c00ddade38b4e6fa7efca8b4c840ab5": {
      "model_module": "@jupyter-widgets/base",
      "model_module_version": "1.2.0",
      "model_name": "LayoutModel",
      "state": {}
     },
     "4c18c361c79f4f06b49e01081a2d885e": {
      "model_module": "@jupyter-widgets/controls",
      "model_module_version": "1.5.0",
      "model_name": "IntSliderModel",
      "state": {
       "layout": "IPY_MODEL_a875489ca79e45af904c10c859e58bbc",
       "max": 10,
       "readout": false,
       "style": "IPY_MODEL_f7005b4a3ebb4b52984b767fd898446b",
       "value": 6
      }
     },
     "4c1c885a773545d998121af0df64c49e": {
      "model_module": "@jupyter-widgets/base",
      "model_module_version": "1.2.0",
      "model_name": "LayoutModel",
      "state": {}
     },
     "4c924884f3d74a35b634bef20b4f049e": {
      "model_module": "@jupyter-widgets/controls",
      "model_module_version": "1.5.0",
      "model_name": "SliderStyleModel",
      "state": {
       "description_width": ""
      }
     },
     "4db1ddb07fcf47dc930bfd6eb3577ce9": {
      "model_module": "@jupyter-widgets/controls",
      "model_module_version": "1.5.0",
      "model_name": "IntSliderModel",
      "state": {
       "continuous_update": false,
       "layout": "IPY_MODEL_1d828e436f1d4a5e944842ec1f7ab26b",
       "max": 10,
       "readout": false,
       "style": "IPY_MODEL_fffcc20e07f24bf89d0f77a394352608",
       "value": 3
      }
     },
     "4e04caaaf3544d53aefdc9bf14cde35b": {
      "model_module": "@jupyter-widgets/base",
      "model_module_version": "1.2.0",
      "model_name": "LayoutModel",
      "state": {}
     },
     "4e2ce255169041d69fb84bf4bf7e2b4f": {
      "model_module": "@jupyter-widgets/base",
      "model_module_version": "1.2.0",
      "model_name": "LayoutModel",
      "state": {}
     },
     "4e6dfc67efb14eea932216528d630459": {
      "model_module": "@jupyter-widgets/base",
      "model_module_version": "1.2.0",
      "model_name": "LayoutModel",
      "state": {}
     },
     "4ec20d0a414e43d5a5a24a486ee8ee95": {
      "model_module": "@jupyter-widgets/base",
      "model_module_version": "1.2.0",
      "model_name": "LayoutModel",
      "state": {}
     },
     "4fbc3d7eec5c48dc9a3673439a485de5": {
      "model_module": "@jupyter-widgets/controls",
      "model_module_version": "1.5.0",
      "model_name": "SliderStyleModel",
      "state": {
       "description_width": ""
      }
     },
     "5090ebbba2a9425fb2fe760610d42b02": {
      "model_module": "@jupyter-widgets/controls",
      "model_module_version": "1.5.0",
      "model_name": "IntSliderModel",
      "state": {
       "layout": "IPY_MODEL_be09a6fd57bd4ec884d821ce60fd793c",
       "readout": false,
       "style": "IPY_MODEL_5c20c26183a447be903d4cb07352dedb"
      }
     },
     "50c22a49aad9425abaa42efb46fdac01": {
      "model_module": "@jupyter-widgets/base",
      "model_module_version": "1.2.0",
      "model_name": "LayoutModel",
      "state": {}
     },
     "50c9db58c11a4bf0b0ae258ebfce5cad": {
      "model_module": "@jupyter-widgets/controls",
      "model_module_version": "1.5.0",
      "model_name": "IntSliderModel",
      "state": {
       "layout": "IPY_MODEL_5ddd3839ffec4d318b4d537c0ce9b8a2",
       "readout": false,
       "style": "IPY_MODEL_757e00a8a42947cf98442caee1597e9b"
      }
     },
     "51c7a528033f41e48a254e9b58b49dbe": {
      "model_module": "@jupyter-widgets/controls",
      "model_module_version": "1.5.0",
      "model_name": "SliderStyleModel",
      "state": {
       "description_width": ""
      }
     },
     "525312054ec24ffbabd2fc9e20e9f02d": {
      "model_module": "@jupyter-widgets/controls",
      "model_module_version": "1.5.0",
      "model_name": "SliderStyleModel",
      "state": {
       "description_width": ""
      }
     },
     "52706e294d0a405e9b4567169142ad2d": {
      "model_module": "@jupyter-widgets/controls",
      "model_module_version": "1.5.0",
      "model_name": "SliderStyleModel",
      "state": {
       "description_width": ""
      }
     },
     "52d32dec98964510a571b51d4e8cfc6b": {
      "model_module": "jupyter-matplotlib",
      "model_module_version": "^0.10.1",
      "model_name": "ToolbarModel",
      "state": {
       "layout": "IPY_MODEL_598f57795f244872aa3c020b845cb181",
       "toolitems": [
        [
         "Home",
         "Reset original view",
         "home",
         "home"
        ],
        [
         "Back",
         "Back to previous view",
         "arrow-left",
         "back"
        ],
        [
         "Forward",
         "Forward to next view",
         "arrow-right",
         "forward"
        ],
        [
         "Pan",
         "Left button pans, Right button zooms\nx/y fixes axis, CTRL fixes aspect",
         "arrows",
         "pan"
        ],
        [
         "Zoom",
         "Zoom to rectangle\nx/y fixes axis, CTRL fixes aspect",
         "square-o",
         "zoom"
        ],
        [
         "Download",
         "Download plot",
         "floppy-o",
         "save_figure"
        ]
       ]
      }
     },
     "53828f2f4c344adb9666d76d4b4e59b5": {
      "model_module": "@jupyter-widgets/controls",
      "model_module_version": "1.5.0",
      "model_name": "IntSliderModel",
      "state": {
       "layout": "IPY_MODEL_7f0305c836064c989a4cbd61ab8e8181",
       "readout": false,
       "style": "IPY_MODEL_b0b68ea8c7f94004be624db8b9bb9d7d",
       "value": 23
      }
     },
     "53f71930f942485eb1902c12623a917b": {
      "model_module": "@jupyter-widgets/base",
      "model_module_version": "1.2.0",
      "model_name": "LayoutModel",
      "state": {}
     },
     "541959766bb34d91aa27610e454ab6aa": {
      "model_module": "jupyter-matplotlib",
      "model_module_version": "^0.10.1",
      "model_name": "ToolbarModel",
      "state": {
       "layout": "IPY_MODEL_c4a9c6a35ee548908ed2f14f32d0479b",
       "toolitems": [
        [
         "Home",
         "Reset original view",
         "home",
         "home"
        ],
        [
         "Back",
         "Back to previous view",
         "arrow-left",
         "back"
        ],
        [
         "Forward",
         "Forward to next view",
         "arrow-right",
         "forward"
        ],
        [
         "Pan",
         "Left button pans, Right button zooms\nx/y fixes axis, CTRL fixes aspect",
         "arrows",
         "pan"
        ],
        [
         "Zoom",
         "Zoom to rectangle\nx/y fixes axis, CTRL fixes aspect",
         "square-o",
         "zoom"
        ],
        [
         "Download",
         "Download plot",
         "floppy-o",
         "save_figure"
        ]
       ]
      }
     },
     "549939fb21af4f4ab8e06708fc420092": {
      "model_module": "@jupyter-widgets/base",
      "model_module_version": "1.2.0",
      "model_name": "LayoutModel",
      "state": {}
     },
     "55024d2d2b634ced8e6cd85545bb7755": {
      "model_module": "@jupyter-widgets/controls",
      "model_module_version": "1.5.0",
      "model_name": "IntSliderModel",
      "state": {
       "layout": "IPY_MODEL_66a1ffb2e16f4c9883fb02567b7132dd",
       "max": 10,
       "readout": false,
       "style": "IPY_MODEL_27508928808842d7b46d62979d5f54a2",
       "value": 6
      }
     },
     "55ae11b6ba614c45a560e8f7de1090a9": {
      "model_module": "@jupyter-widgets/base",
      "model_module_version": "1.2.0",
      "model_name": "LayoutModel",
      "state": {}
     },
     "55be81a54a184b94ae4a91e5e93dc606": {
      "model_module": "@jupyter-widgets/controls",
      "model_module_version": "1.5.0",
      "model_name": "SliderStyleModel",
      "state": {
       "description_width": ""
      }
     },
     "55cce7c0a48c4c8cafa3265ad57843cc": {
      "model_module": "@jupyter-widgets/base",
      "model_module_version": "1.2.0",
      "model_name": "LayoutModel",
      "state": {}
     },
     "55f7906faf43428b9c5933e853fce225": {
      "model_module": "@jupyter-widgets/controls",
      "model_module_version": "1.5.0",
      "model_name": "IntSliderModel",
      "state": {
       "continuous_update": false,
       "layout": "IPY_MODEL_0dc11b76bc6f4fdd8bae5217e9469ea7",
       "max": 10,
       "readout": false,
       "step": 0,
       "style": "IPY_MODEL_f1817cb624964fb19e19f4c26d8f0f4a"
      }
     },
     "569d77bf6e044a8ca0cc4f6db3302b0d": {
      "model_module": "@jupyter-widgets/controls",
      "model_module_version": "1.5.0",
      "model_name": "IntSliderModel",
      "state": {
       "layout": "IPY_MODEL_367ba2a403b84688b4447837f69bdad3",
       "max": 10,
       "readout": false,
       "step": 0,
       "style": "IPY_MODEL_aa8bb2998e6b4ea38de0d23870833ce0"
      }
     },
     "56c1afb8104e4c60a01f17948e8b67bc": {
      "model_module": "@jupyter-widgets/base",
      "model_module_version": "1.2.0",
      "model_name": "LayoutModel",
      "state": {}
     },
     "57573a7e1cc64636adb0d6ad7be4944c": {
      "model_module": "jupyter-matplotlib",
      "model_module_version": "^0.10.1",
      "model_name": "ToolbarModel",
      "state": {
       "layout": "IPY_MODEL_e377b5cfcab84df3aafdbb1d4d1ce7df",
       "toolitems": [
        [
         "Home",
         "Reset original view",
         "home",
         "home"
        ],
        [
         "Back",
         "Back to previous view",
         "arrow-left",
         "back"
        ],
        [
         "Forward",
         "Forward to next view",
         "arrow-right",
         "forward"
        ],
        [
         "Pan",
         "Left button pans, Right button zooms\nx/y fixes axis, CTRL fixes aspect",
         "arrows",
         "pan"
        ],
        [
         "Zoom",
         "Zoom to rectangle\nx/y fixes axis, CTRL fixes aspect",
         "square-o",
         "zoom"
        ],
        [
         "Download",
         "Download plot",
         "floppy-o",
         "save_figure"
        ]
       ]
      }
     },
     "57bf4452423046bab199974fa19738b8": {
      "model_module": "@jupyter-widgets/base",
      "model_module_version": "1.2.0",
      "model_name": "LayoutModel",
      "state": {}
     },
     "58031a171ce44d3c831446c4ffc8cd6c": {
      "model_module": "@jupyter-widgets/base",
      "model_module_version": "1.2.0",
      "model_name": "LayoutModel",
      "state": {}
     },
     "5819698d180642fc92ee6fd76a7301d3": {
      "model_module": "@jupyter-widgets/controls",
      "model_module_version": "1.5.0",
      "model_name": "IntSliderModel",
      "state": {
       "continuous_update": false,
       "layout": "IPY_MODEL_6036720b36d946cbae093e5a0cce0faf",
       "max": 10,
       "readout": false,
       "style": "IPY_MODEL_846101e260b74d9f94e4b7815c978569",
       "value": 10
      }
     },
     "591e464223194567841d2c16ab2a4d58": {
      "model_module": "@jupyter-widgets/base",
      "model_module_version": "1.2.0",
      "model_name": "LayoutModel",
      "state": {}
     },
     "59350e0fe996485bac372ed4a948139f": {
      "model_module": "@jupyter-widgets/base",
      "model_module_version": "1.2.0",
      "model_name": "LayoutModel",
      "state": {}
     },
     "598f57795f244872aa3c020b845cb181": {
      "model_module": "@jupyter-widgets/base",
      "model_module_version": "1.2.0",
      "model_name": "LayoutModel",
      "state": {}
     },
     "59b5896bf3574dc7ab8d1e0fb8d03d4b": {
      "model_module": "@jupyter-widgets/base",
      "model_module_version": "1.2.0",
      "model_name": "LayoutModel",
      "state": {}
     },
     "59dc3b3e874e4c22902b1d5dd6440ad3": {
      "model_module": "@jupyter-widgets/controls",
      "model_module_version": "1.5.0",
      "model_name": "VBoxModel",
      "state": {
       "_dom_classes": [
        "widget-interact"
       ],
       "children": [
        "IPY_MODEL_cda79434008242f8a97084ca178a251e",
        "IPY_MODEL_e31fd263f62948a9bc5973ce50a64440"
       ],
       "layout": "IPY_MODEL_c6a6c339d61240b980e7420af03659ac"
      }
     },
     "5c20c26183a447be903d4cb07352dedb": {
      "model_module": "@jupyter-widgets/controls",
      "model_module_version": "1.5.0",
      "model_name": "SliderStyleModel",
      "state": {
       "description_width": ""
      }
     },
     "5c696c4da55444ed9430423b0b9de4d8": {
      "model_module": "@jupyter-widgets/base",
      "model_module_version": "1.2.0",
      "model_name": "LayoutModel",
      "state": {}
     },
     "5c7115b77e0b4319a41e0d8ef35ee789": {
      "model_module": "@jupyter-widgets/controls",
      "model_module_version": "1.5.0",
      "model_name": "SliderStyleModel",
      "state": {
       "description_width": ""
      }
     },
     "5d13881774ea476694eb370e842496e8": {
      "model_module": "@jupyter-widgets/base",
      "model_module_version": "1.2.0",
      "model_name": "LayoutModel",
      "state": {}
     },
     "5d4a4fe03cea45dd9eb8cfe3bf0fb6a3": {
      "model_module": "jupyter-matplotlib",
      "model_module_version": "^0.10.1",
      "model_name": "ToolbarModel",
      "state": {
       "layout": "IPY_MODEL_2540671d08064d4090406712477de071",
       "toolitems": [
        [
         "Home",
         "Reset original view",
         "home",
         "home"
        ],
        [
         "Back",
         "Back to previous view",
         "arrow-left",
         "back"
        ],
        [
         "Forward",
         "Forward to next view",
         "arrow-right",
         "forward"
        ],
        [
         "Pan",
         "Left button pans, Right button zooms\nx/y fixes axis, CTRL fixes aspect",
         "arrows",
         "pan"
        ],
        [
         "Zoom",
         "Zoom to rectangle\nx/y fixes axis, CTRL fixes aspect",
         "square-o",
         "zoom"
        ],
        [
         "Download",
         "Download plot",
         "floppy-o",
         "save_figure"
        ]
       ]
      }
     },
     "5d914151f8764d95b66baa2978fb58cc": {
      "model_module": "@jupyter-widgets/base",
      "model_module_version": "1.2.0",
      "model_name": "LayoutModel",
      "state": {}
     },
     "5d9b3ed1cc8a4670b5ca27474f8b01bf": {
      "model_module": "jupyter-matplotlib",
      "model_module_version": "^0.10.1",
      "model_name": "ToolbarModel",
      "state": {
       "layout": "IPY_MODEL_dfedec24ead34e518953a0f6d36cfad5",
       "toolitems": [
        [
         "Home",
         "Reset original view",
         "home",
         "home"
        ],
        [
         "Back",
         "Back to previous view",
         "arrow-left",
         "back"
        ],
        [
         "Forward",
         "Forward to next view",
         "arrow-right",
         "forward"
        ],
        [
         "Pan",
         "Left button pans, Right button zooms\nx/y fixes axis, CTRL fixes aspect",
         "arrows",
         "pan"
        ],
        [
         "Zoom",
         "Zoom to rectangle\nx/y fixes axis, CTRL fixes aspect",
         "square-o",
         "zoom"
        ],
        [
         "Download",
         "Download plot",
         "floppy-o",
         "save_figure"
        ]
       ]
      }
     },
     "5ddd3839ffec4d318b4d537c0ce9b8a2": {
      "model_module": "@jupyter-widgets/base",
      "model_module_version": "1.2.0",
      "model_name": "LayoutModel",
      "state": {}
     },
     "5ecfb53d30a1496ab33c30884a3dfe78": {
      "model_module": "jupyter-matplotlib",
      "model_module_version": "^0.10.1",
      "model_name": "ToolbarModel",
      "state": {
       "layout": "IPY_MODEL_2ddbfd604c1c433f8c9b2f76fb6d0a00",
       "toolitems": [
        [
         "Home",
         "Reset original view",
         "home",
         "home"
        ],
        [
         "Back",
         "Back to previous view",
         "arrow-left",
         "back"
        ],
        [
         "Forward",
         "Forward to next view",
         "arrow-right",
         "forward"
        ],
        [
         "Pan",
         "Left button pans, Right button zooms\nx/y fixes axis, CTRL fixes aspect",
         "arrows",
         "pan"
        ],
        [
         "Zoom",
         "Zoom to rectangle\nx/y fixes axis, CTRL fixes aspect",
         "square-o",
         "zoom"
        ],
        [
         "Download",
         "Download plot",
         "floppy-o",
         "save_figure"
        ]
       ]
      }
     },
     "5f6be0ade3e14a70825cb12f2b20d8a2": {
      "model_module": "jupyter-matplotlib",
      "model_module_version": "^0.10.1",
      "model_name": "ToolbarModel",
      "state": {
       "layout": "IPY_MODEL_c1202004892643768bf5660aadeddf3a",
       "toolitems": [
        [
         "Home",
         "Reset original view",
         "home",
         "home"
        ],
        [
         "Back",
         "Back to previous view",
         "arrow-left",
         "back"
        ],
        [
         "Forward",
         "Forward to next view",
         "arrow-right",
         "forward"
        ],
        [
         "Pan",
         "Left button pans, Right button zooms\nx/y fixes axis, CTRL fixes aspect",
         "arrows",
         "pan"
        ],
        [
         "Zoom",
         "Zoom to rectangle\nx/y fixes axis, CTRL fixes aspect",
         "square-o",
         "zoom"
        ],
        [
         "Download",
         "Download plot",
         "floppy-o",
         "save_figure"
        ]
       ]
      }
     },
     "5f9c71203a3244e7880fcf3b41b197da": {
      "model_module": "@jupyter-widgets/controls",
      "model_module_version": "1.5.0",
      "model_name": "IntSliderModel",
      "state": {
       "layout": "IPY_MODEL_a02b68af4c6b43b096af11b281c88124",
       "readout": false,
       "style": "IPY_MODEL_4932338a8eb24ba89ee507da61464f8c"
      }
     },
     "5fa2c6550c3748618f719107cdd6a2c6": {
      "model_module": "@jupyter-widgets/base",
      "model_module_version": "1.2.0",
      "model_name": "LayoutModel",
      "state": {}
     },
     "6036720b36d946cbae093e5a0cce0faf": {
      "model_module": "@jupyter-widgets/base",
      "model_module_version": "1.2.0",
      "model_name": "LayoutModel",
      "state": {}
     },
     "60aca1a2703e48b2a868f7c461baae2e": {
      "model_module": "@jupyter-widgets/base",
      "model_module_version": "1.2.0",
      "model_name": "LayoutModel",
      "state": {}
     },
     "60fc4a17b1484ed484ddb7bb0deadfb5": {
      "model_module": "jupyter-matplotlib",
      "model_module_version": "^0.10.1",
      "model_name": "ToolbarModel",
      "state": {
       "layout": "IPY_MODEL_d1ae0a2eae6f4a5a83fb15aae2cd374a",
       "toolitems": [
        [
         "Home",
         "Reset original view",
         "home",
         "home"
        ],
        [
         "Back",
         "Back to previous view",
         "arrow-left",
         "back"
        ],
        [
         "Forward",
         "Forward to next view",
         "arrow-right",
         "forward"
        ],
        [
         "Pan",
         "Left button pans, Right button zooms\nx/y fixes axis, CTRL fixes aspect",
         "arrows",
         "pan"
        ],
        [
         "Zoom",
         "Zoom to rectangle\nx/y fixes axis, CTRL fixes aspect",
         "square-o",
         "zoom"
        ],
        [
         "Download",
         "Download plot",
         "floppy-o",
         "save_figure"
        ]
       ]
      }
     },
     "6149f3bc47c640d99ff4e697282aadd2": {
      "model_module": "@jupyter-widgets/base",
      "model_module_version": "1.2.0",
      "model_name": "LayoutModel",
      "state": {}
     },
     "614df1779ce94267ab9b5cce7151b1b6": {
      "model_module": "@jupyter-widgets/controls",
      "model_module_version": "1.5.0",
      "model_name": "IntSliderModel",
      "state": {
       "continuous_update": false,
       "layout": "IPY_MODEL_8e243c8207994f7f8ca73ee7c17e28dc",
       "max": 10,
       "readout": false,
       "style": "IPY_MODEL_a73f3295a78c48009580aeff5e644adf"
      }
     },
     "622aaa5c40ec4de19ea23ac99a3af72b": {
      "model_module": "jupyter-matplotlib",
      "model_module_version": "^0.10.1",
      "model_name": "ToolbarModel",
      "state": {
       "layout": "IPY_MODEL_29ddfa0fbec5449cba693d5e61a30960",
       "toolitems": [
        [
         "Home",
         "Reset original view",
         "home",
         "home"
        ],
        [
         "Back",
         "Back to previous view",
         "arrow-left",
         "back"
        ],
        [
         "Forward",
         "Forward to next view",
         "arrow-right",
         "forward"
        ],
        [
         "Pan",
         "Left button pans, Right button zooms\nx/y fixes axis, CTRL fixes aspect",
         "arrows",
         "pan"
        ],
        [
         "Zoom",
         "Zoom to rectangle\nx/y fixes axis, CTRL fixes aspect",
         "square-o",
         "zoom"
        ],
        [
         "Download",
         "Download plot",
         "floppy-o",
         "save_figure"
        ]
       ]
      }
     },
     "62f0bf5e7c6142f493c23bd0fee6060a": {
      "model_module": "@jupyter-widgets/base",
      "model_module_version": "1.2.0",
      "model_name": "LayoutModel",
      "state": {}
     },
     "636b63222b084b658028ef0e25624434": {
      "model_module": "@jupyter-widgets/controls",
      "model_module_version": "1.5.0",
      "model_name": "IntSliderModel",
      "state": {
       "continuous_update": false,
       "layout": "IPY_MODEL_0c651920313b41e6a4765566e1fce4ef",
       "max": 10,
       "readout": false,
       "style": "IPY_MODEL_ccdd3840a7674541b1aa8052e32cbee3"
      }
     },
     "64601625bf2a4da3b18ac2b5ca7dc9e7": {
      "model_module": "@jupyter-widgets/base",
      "model_module_version": "1.2.0",
      "model_name": "LayoutModel",
      "state": {}
     },
     "64dcc9cd371a4c15b3b4a728d99588b2": {
      "model_module": "@jupyter-widgets/controls",
      "model_module_version": "1.5.0",
      "model_name": "IntSliderModel",
      "state": {
       "layout": "IPY_MODEL_94f3b21614dc400cb2b534381de87d9e",
       "readout": false,
       "style": "IPY_MODEL_6d4f2bd782fe4ba39b1d068872126ab5",
       "value": 44
      }
     },
     "64e5be254fba443c8f9e63660952f7f4": {
      "model_module": "@jupyter-widgets/controls",
      "model_module_version": "1.5.0",
      "model_name": "SliderStyleModel",
      "state": {
       "description_width": ""
      }
     },
     "655bced6fb9142c383c5f28d2e29081d": {
      "model_module": "@jupyter-widgets/base",
      "model_module_version": "1.2.0",
      "model_name": "LayoutModel",
      "state": {}
     },
     "6571d3642d6347de83860a5f80c3e52b": {
      "model_module": "@jupyter-widgets/controls",
      "model_module_version": "1.5.0",
      "model_name": "IntSliderModel",
      "state": {
       "continuous_update": false,
       "layout": "IPY_MODEL_24433a8672ab486a895af5578adcdab9",
       "readout": false,
       "style": "IPY_MODEL_17211db3eef547a183b28bedbc534aa8"
      }
     },
     "65859d5c42884ada80c9069c7b55d28a": {
      "model_module": "@jupyter-widgets/base",
      "model_module_version": "1.2.0",
      "model_name": "LayoutModel",
      "state": {}
     },
     "65d88bf8ac0c410aab7c669c2646eaf7": {
      "model_module": "jupyter-matplotlib",
      "model_module_version": "^0.10.1",
      "model_name": "ToolbarModel",
      "state": {
       "layout": "IPY_MODEL_10a11c20bb824e5c9966192c03d858e6",
       "toolitems": [
        [
         "Home",
         "Reset original view",
         "home",
         "home"
        ],
        [
         "Back",
         "Back to previous view",
         "arrow-left",
         "back"
        ],
        [
         "Forward",
         "Forward to next view",
         "arrow-right",
         "forward"
        ],
        [
         "Pan",
         "Left button pans, Right button zooms\nx/y fixes axis, CTRL fixes aspect",
         "arrows",
         "pan"
        ],
        [
         "Zoom",
         "Zoom to rectangle\nx/y fixes axis, CTRL fixes aspect",
         "square-o",
         "zoom"
        ],
        [
         "Download",
         "Download plot",
         "floppy-o",
         "save_figure"
        ]
       ]
      }
     },
     "6633fb5f69a541f5a137d957da327f19": {
      "model_module": "@jupyter-widgets/base",
      "model_module_version": "1.2.0",
      "model_name": "LayoutModel",
      "state": {}
     },
     "66a1ffb2e16f4c9883fb02567b7132dd": {
      "model_module": "@jupyter-widgets/base",
      "model_module_version": "1.2.0",
      "model_name": "LayoutModel",
      "state": {}
     },
     "67b5c8ba28874cb6982dea4d7ad8a4ad": {
      "model_module": "@jupyter-widgets/base",
      "model_module_version": "1.2.0",
      "model_name": "LayoutModel",
      "state": {}
     },
     "67e743cadb7049adb93553304a6329e2": {
      "model_module": "@jupyter-widgets/controls",
      "model_module_version": "1.5.0",
      "model_name": "SliderStyleModel",
      "state": {
       "description_width": ""
      }
     },
     "67e8b584e0c34bf28715931925fd04db": {
      "model_module": "@jupyter-widgets/base",
      "model_module_version": "1.2.0",
      "model_name": "LayoutModel",
      "state": {}
     },
     "686825753f2f4c5b88fd376839fc479e": {
      "model_module": "@jupyter-widgets/controls",
      "model_module_version": "1.5.0",
      "model_name": "IntSliderModel",
      "state": {
       "description": "l",
       "layout": "IPY_MODEL_d7ec200ef85b4e89abc21e5dcb1fb122",
       "readout": false,
       "style": "IPY_MODEL_1cd32c7caf484daf8a102a97651d44b3",
       "value": 68
      }
     },
     "689e4e8b9eb04726b0fafe20a82fec92": {
      "model_module": "@jupyter-widgets/base",
      "model_module_version": "1.2.0",
      "model_name": "LayoutModel",
      "state": {}
     },
     "6984459d2f7c4469bedaf9dab16c6f47": {
      "model_module": "jupyter-matplotlib",
      "model_module_version": "^0.10.1",
      "model_name": "ToolbarModel",
      "state": {
       "layout": "IPY_MODEL_335256f25dc443dba253827ee3fc6fa3",
       "toolitems": [
        [
         "Home",
         "Reset original view",
         "home",
         "home"
        ],
        [
         "Back",
         "Back to previous view",
         "arrow-left",
         "back"
        ],
        [
         "Forward",
         "Forward to next view",
         "arrow-right",
         "forward"
        ],
        [
         "Pan",
         "Left button pans, Right button zooms\nx/y fixes axis, CTRL fixes aspect",
         "arrows",
         "pan"
        ],
        [
         "Zoom",
         "Zoom to rectangle\nx/y fixes axis, CTRL fixes aspect",
         "square-o",
         "zoom"
        ],
        [
         "Download",
         "Download plot",
         "floppy-o",
         "save_figure"
        ]
       ]
      }
     },
     "6a049968b66548dcb3d8af726070851d": {
      "model_module": "jupyter-matplotlib",
      "model_module_version": "^0.10.1",
      "model_name": "ToolbarModel",
      "state": {
       "layout": "IPY_MODEL_4e2ce255169041d69fb84bf4bf7e2b4f",
       "toolitems": [
        [
         "Home",
         "Reset original view",
         "home",
         "home"
        ],
        [
         "Back",
         "Back to previous view",
         "arrow-left",
         "back"
        ],
        [
         "Forward",
         "Forward to next view",
         "arrow-right",
         "forward"
        ],
        [
         "Pan",
         "Left button pans, Right button zooms\nx/y fixes axis, CTRL fixes aspect",
         "arrows",
         "pan"
        ],
        [
         "Zoom",
         "Zoom to rectangle\nx/y fixes axis, CTRL fixes aspect",
         "square-o",
         "zoom"
        ],
        [
         "Download",
         "Download plot",
         "floppy-o",
         "save_figure"
        ]
       ]
      }
     },
     "6c00dd764cc7493791ac501ac83bbdbf": {
      "model_module": "@jupyter-widgets/controls",
      "model_module_version": "1.5.0",
      "model_name": "SliderStyleModel",
      "state": {
       "description_width": ""
      }
     },
     "6c47d689a7464853863550ffc2841281": {
      "model_module": "@jupyter-widgets/base",
      "model_module_version": "1.2.0",
      "model_name": "LayoutModel",
      "state": {}
     },
     "6c486015c9554ffb9d54f4d1005bf134": {
      "model_module": "jupyter-matplotlib",
      "model_module_version": "^0.10.1",
      "model_name": "ToolbarModel",
      "state": {
       "layout": "IPY_MODEL_2aa96b4ca55b49f6a2de20bd5193137c",
       "toolitems": [
        [
         "Home",
         "Reset original view",
         "home",
         "home"
        ],
        [
         "Back",
         "Back to previous view",
         "arrow-left",
         "back"
        ],
        [
         "Forward",
         "Forward to next view",
         "arrow-right",
         "forward"
        ],
        [
         "Pan",
         "Left button pans, Right button zooms\nx/y fixes axis, CTRL fixes aspect",
         "arrows",
         "pan"
        ],
        [
         "Zoom",
         "Zoom to rectangle\nx/y fixes axis, CTRL fixes aspect",
         "square-o",
         "zoom"
        ],
        [
         "Download",
         "Download plot",
         "floppy-o",
         "save_figure"
        ]
       ]
      }
     },
     "6ca441a3189e40a3a77f8b0d9544be3a": {
      "model_module": "jupyter-matplotlib",
      "model_module_version": "^0.10.1",
      "model_name": "ToolbarModel",
      "state": {
       "layout": "IPY_MODEL_23f6bcb3b09d4b258966b902df6864d2",
       "toolitems": [
        [
         "Home",
         "Reset original view",
         "home",
         "home"
        ],
        [
         "Back",
         "Back to previous view",
         "arrow-left",
         "back"
        ],
        [
         "Forward",
         "Forward to next view",
         "arrow-right",
         "forward"
        ],
        [
         "Pan",
         "Left button pans, Right button zooms\nx/y fixes axis, CTRL fixes aspect",
         "arrows",
         "pan"
        ],
        [
         "Zoom",
         "Zoom to rectangle\nx/y fixes axis, CTRL fixes aspect",
         "square-o",
         "zoom"
        ],
        [
         "Download",
         "Download plot",
         "floppy-o",
         "save_figure"
        ]
       ]
      }
     },
     "6d4f2bd782fe4ba39b1d068872126ab5": {
      "model_module": "@jupyter-widgets/controls",
      "model_module_version": "1.5.0",
      "model_name": "SliderStyleModel",
      "state": {
       "description_width": ""
      }
     },
     "6d6850d9c520494995ea575d0840d80e": {
      "model_module": "@jupyter-widgets/controls",
      "model_module_version": "1.5.0",
      "model_name": "SliderStyleModel",
      "state": {
       "description_width": ""
      }
     },
     "6dc91ec07b0a4928b37ad5f788f38d67": {
      "model_module": "@jupyter-widgets/controls",
      "model_module_version": "1.5.0",
      "model_name": "SliderStyleModel",
      "state": {
       "description_width": ""
      }
     },
     "6e2c6a84bb874313a7f763745a24fcd2": {
      "model_module": "jupyter-matplotlib",
      "model_module_version": "^0.10.1",
      "model_name": "ToolbarModel",
      "state": {
       "layout": "IPY_MODEL_60aca1a2703e48b2a868f7c461baae2e",
       "toolitems": [
        [
         "Home",
         "Reset original view",
         "home",
         "home"
        ],
        [
         "Back",
         "Back to previous view",
         "arrow-left",
         "back"
        ],
        [
         "Forward",
         "Forward to next view",
         "arrow-right",
         "forward"
        ],
        [
         "Pan",
         "Left button pans, Right button zooms\nx/y fixes axis, CTRL fixes aspect",
         "arrows",
         "pan"
        ],
        [
         "Zoom",
         "Zoom to rectangle\nx/y fixes axis, CTRL fixes aspect",
         "square-o",
         "zoom"
        ],
        [
         "Download",
         "Download plot",
         "floppy-o",
         "save_figure"
        ]
       ]
      }
     },
     "6e4c13ad4e2e4d978f47173422b2951b": {
      "model_module": "@jupyter-widgets/base",
      "model_module_version": "1.2.0",
      "model_name": "LayoutModel",
      "state": {}
     },
     "6e587eb0827347bba49647525596a90d": {
      "model_module": "jupyter-matplotlib",
      "model_module_version": "^0.10.1",
      "model_name": "ToolbarModel",
      "state": {
       "layout": "IPY_MODEL_d06032f07843453db7b93d50ecc44e48",
       "toolitems": [
        [
         "Home",
         "Reset original view",
         "home",
         "home"
        ],
        [
         "Back",
         "Back to previous view",
         "arrow-left",
         "back"
        ],
        [
         "Forward",
         "Forward to next view",
         "arrow-right",
         "forward"
        ],
        [
         "Pan",
         "Left button pans, Right button zooms\nx/y fixes axis, CTRL fixes aspect",
         "arrows",
         "pan"
        ],
        [
         "Zoom",
         "Zoom to rectangle\nx/y fixes axis, CTRL fixes aspect",
         "square-o",
         "zoom"
        ],
        [
         "Download",
         "Download plot",
         "floppy-o",
         "save_figure"
        ]
       ]
      }
     },
     "6fe2fd4895554d86b4bad61ffc01bf96": {
      "model_module": "@jupyter-widgets/base",
      "model_module_version": "1.2.0",
      "model_name": "LayoutModel",
      "state": {}
     },
     "701c40111cea4a8792c6f595332cafcc": {
      "model_module": "@jupyter-widgets/controls",
      "model_module_version": "1.5.0",
      "model_name": "IntSliderModel",
      "state": {
       "layout": "IPY_MODEL_1ade6fb5ccd04d0eafe39334a4351583",
       "readout": false,
       "style": "IPY_MODEL_755690465104450a8d98e72f04324e7c"
      }
     },
     "70d0abf278c14d0abb769f40ec55fbfd": {
      "model_module": "@jupyter-widgets/base",
      "model_module_version": "1.2.0",
      "model_name": "LayoutModel",
      "state": {}
     },
     "710d626c9510480b9397c81f010de637": {
      "model_module": "@jupyter-widgets/controls",
      "model_module_version": "1.5.0",
      "model_name": "IntSliderModel",
      "state": {
       "layout": "IPY_MODEL_aec3b6f96fc64859aa69ee5309615937",
       "readout": false,
       "style": "IPY_MODEL_27d9fc68d1b940cab09bd94904eafdbd"
      }
     },
     "714c496b1a664f56b8dd58242782240e": {
      "model_module": "@jupyter-widgets/controls",
      "model_module_version": "1.5.0",
      "model_name": "IntSliderModel",
      "state": {
       "layout": "IPY_MODEL_f0fc580bb7c7454bbb637f34d3946c96",
       "max": 10,
       "readout": false,
       "style": "IPY_MODEL_6d6850d9c520494995ea575d0840d80e"
      }
     },
     "7210d60ab261477e81235ff29f6e570e": {
      "model_module": "jupyter-matplotlib",
      "model_module_version": "^0.10.1",
      "model_name": "ToolbarModel",
      "state": {
       "layout": "IPY_MODEL_864f630a52aa4c37bd56e312dd1dc7bb",
       "toolitems": [
        [
         "Home",
         "Reset original view",
         "home",
         "home"
        ],
        [
         "Back",
         "Back to previous view",
         "arrow-left",
         "back"
        ],
        [
         "Forward",
         "Forward to next view",
         "arrow-right",
         "forward"
        ],
        [
         "Pan",
         "Left button pans, Right button zooms\nx/y fixes axis, CTRL fixes aspect",
         "arrows",
         "pan"
        ],
        [
         "Zoom",
         "Zoom to rectangle\nx/y fixes axis, CTRL fixes aspect",
         "square-o",
         "zoom"
        ],
        [
         "Download",
         "Download plot",
         "floppy-o",
         "save_figure"
        ]
       ]
      }
     },
     "7244349ecc0d48bf99780048ae9194ba": {
      "model_module": "@jupyter-widgets/base",
      "model_module_version": "1.2.0",
      "model_name": "LayoutModel",
      "state": {}
     },
     "72f69bd2243a46be9ba6d53cf6efa152": {
      "model_module": "@jupyter-widgets/base",
      "model_module_version": "1.2.0",
      "model_name": "LayoutModel",
      "state": {}
     },
     "74b28290433d40dd85c75349ebf16985": {
      "model_module": "jupyter-matplotlib",
      "model_module_version": "^0.10.1",
      "model_name": "ToolbarModel",
      "state": {
       "layout": "IPY_MODEL_0412bfb556e34e088a5a761b92a79b2c",
       "toolitems": [
        [
         "Home",
         "Reset original view",
         "home",
         "home"
        ],
        [
         "Back",
         "Back to previous view",
         "arrow-left",
         "back"
        ],
        [
         "Forward",
         "Forward to next view",
         "arrow-right",
         "forward"
        ],
        [
         "Pan",
         "Left button pans, Right button zooms\nx/y fixes axis, CTRL fixes aspect",
         "arrows",
         "pan"
        ],
        [
         "Zoom",
         "Zoom to rectangle\nx/y fixes axis, CTRL fixes aspect",
         "square-o",
         "zoom"
        ],
        [
         "Download",
         "Download plot",
         "floppy-o",
         "save_figure"
        ]
       ]
      }
     },
     "74bfb68581ab4b9ca59c37159bfb39b7": {
      "model_module": "jupyter-matplotlib",
      "model_module_version": "^0.10.1",
      "model_name": "ToolbarModel",
      "state": {
       "layout": "IPY_MODEL_5d914151f8764d95b66baa2978fb58cc",
       "toolitems": [
        [
         "Home",
         "Reset original view",
         "home",
         "home"
        ],
        [
         "Back",
         "Back to previous view",
         "arrow-left",
         "back"
        ],
        [
         "Forward",
         "Forward to next view",
         "arrow-right",
         "forward"
        ],
        [
         "Pan",
         "Left button pans, Right button zooms\nx/y fixes axis, CTRL fixes aspect",
         "arrows",
         "pan"
        ],
        [
         "Zoom",
         "Zoom to rectangle\nx/y fixes axis, CTRL fixes aspect",
         "square-o",
         "zoom"
        ],
        [
         "Download",
         "Download plot",
         "floppy-o",
         "save_figure"
        ]
       ]
      }
     },
     "74c67ec2817e48749e4f5368935df17d": {
      "model_module": "@jupyter-widgets/base",
      "model_module_version": "1.2.0",
      "model_name": "LayoutModel",
      "state": {}
     },
     "750daa1ed9c644d1b6f5ca0aa9ab19ff": {
      "model_module": "@jupyter-widgets/base",
      "model_module_version": "1.2.0",
      "model_name": "LayoutModel",
      "state": {}
     },
     "755690465104450a8d98e72f04324e7c": {
      "model_module": "@jupyter-widgets/controls",
      "model_module_version": "1.5.0",
      "model_name": "SliderStyleModel",
      "state": {
       "description_width": ""
      }
     },
     "757e00a8a42947cf98442caee1597e9b": {
      "model_module": "@jupyter-widgets/controls",
      "model_module_version": "1.5.0",
      "model_name": "SliderStyleModel",
      "state": {
       "description_width": ""
      }
     },
     "75e757788eac45a7a0925469e7ffcdd6": {
      "model_module": "@jupyter-widgets/base",
      "model_module_version": "1.2.0",
      "model_name": "LayoutModel",
      "state": {}
     },
     "7816ba5a67bc40cfbb84b65b9b1e2b2e": {
      "model_module": "@jupyter-widgets/controls",
      "model_module_version": "1.5.0",
      "model_name": "IntSliderModel",
      "state": {
       "layout": "IPY_MODEL_a5eec7a1fbab4ce488b2e638caf5637d",
       "readout": false,
       "style": "IPY_MODEL_feb288c393424dc285a7df69dc59f8a8"
      }
     },
     "783bad2c42f746a493cce0b72800466f": {
      "model_module": "@jupyter-widgets/base",
      "model_module_version": "1.2.0",
      "model_name": "LayoutModel",
      "state": {}
     },
     "78433bad7fcc475cb2aaa7ec1594ffeb": {
      "model_module": "@jupyter-widgets/controls",
      "model_module_version": "1.5.0",
      "model_name": "IntSliderModel",
      "state": {
       "layout": "IPY_MODEL_57bf4452423046bab199974fa19738b8",
       "readout": false,
       "style": "IPY_MODEL_4371958874934060a77977d073b4f60e",
       "value": 33
      }
     },
     "786fd5484bcc4268aa2ef378193060be": {
      "model_module": "@jupyter-widgets/base",
      "model_module_version": "1.2.0",
      "model_name": "LayoutModel",
      "state": {}
     },
     "78dc38e29305465d9ffe8a5b9900f49a": {
      "model_module": "@jupyter-widgets/base",
      "model_module_version": "1.2.0",
      "model_name": "LayoutModel",
      "state": {}
     },
     "7a7518853f4c4ee0b4378f82350b057f": {
      "model_module": "@jupyter-widgets/base",
      "model_module_version": "1.2.0",
      "model_name": "LayoutModel",
      "state": {}
     },
     "7b6a0d3ef47446458d4eaacbd9e0c87b": {
      "model_module": "@jupyter-widgets/base",
      "model_module_version": "1.2.0",
      "model_name": "LayoutModel",
      "state": {}
     },
     "7bbd78448edd4857974e755f9e0ac273": {
      "model_module": "@jupyter-widgets/controls",
      "model_module_version": "1.5.0",
      "model_name": "IntSliderModel",
      "state": {
       "description": "l",
       "layout": "IPY_MODEL_6fe2fd4895554d86b4bad61ffc01bf96",
       "readout": false,
       "style": "IPY_MODEL_e93fb5a23b2e435881e707fd583449e7",
       "value": 63
      }
     },
     "7be1ef3d693442e4a5f0f832c1426be2": {
      "model_module": "jupyter-matplotlib",
      "model_module_version": "^0.10.1",
      "model_name": "ToolbarModel",
      "state": {
       "layout": "IPY_MODEL_eea6fcd50e474dfb90b22e20161df00f",
       "toolitems": [
        [
         "Home",
         "Reset original view",
         "home",
         "home"
        ],
        [
         "Back",
         "Back to previous view",
         "arrow-left",
         "back"
        ],
        [
         "Forward",
         "Forward to next view",
         "arrow-right",
         "forward"
        ],
        [
         "Pan",
         "Left button pans, Right button zooms\nx/y fixes axis, CTRL fixes aspect",
         "arrows",
         "pan"
        ],
        [
         "Zoom",
         "Zoom to rectangle\nx/y fixes axis, CTRL fixes aspect",
         "square-o",
         "zoom"
        ],
        [
         "Download",
         "Download plot",
         "floppy-o",
         "save_figure"
        ]
       ]
      }
     },
     "7cc1de6fd0d14747956576d6bcdadf41": {
      "model_module": "@jupyter-widgets/controls",
      "model_module_version": "1.5.0",
      "model_name": "SliderStyleModel",
      "state": {
       "description_width": ""
      }
     },
     "7d0ef8c742294e7b857ce7e23db2f484": {
      "model_module": "@jupyter-widgets/base",
      "model_module_version": "1.2.0",
      "model_name": "LayoutModel",
      "state": {}
     },
     "7d25ec86bbe14073b2d74d9d4844c48e": {
      "model_module": "@jupyter-widgets/controls",
      "model_module_version": "1.5.0",
      "model_name": "SliderStyleModel",
      "state": {
       "description_width": ""
      }
     },
     "7dab65ea9a764006911e274c50ecd32a": {
      "model_module": "jupyter-matplotlib",
      "model_module_version": "^0.10.1",
      "model_name": "ToolbarModel",
      "state": {
       "layout": "IPY_MODEL_3ffeade508fe4905b374d499d932cb32",
       "toolitems": [
        [
         "Home",
         "Reset original view",
         "home",
         "home"
        ],
        [
         "Back",
         "Back to previous view",
         "arrow-left",
         "back"
        ],
        [
         "Forward",
         "Forward to next view",
         "arrow-right",
         "forward"
        ],
        [
         "Pan",
         "Left button pans, Right button zooms\nx/y fixes axis, CTRL fixes aspect",
         "arrows",
         "pan"
        ],
        [
         "Zoom",
         "Zoom to rectangle\nx/y fixes axis, CTRL fixes aspect",
         "square-o",
         "zoom"
        ],
        [
         "Download",
         "Download plot",
         "floppy-o",
         "save_figure"
        ]
       ]
      }
     },
     "7e0e08e3505542c2be4871a9584ec728": {
      "model_module": "@jupyter-widgets/base",
      "model_module_version": "1.2.0",
      "model_name": "LayoutModel",
      "state": {}
     },
     "7ea8bb65057c4190b873cd9b22c7b87c": {
      "model_module": "@jupyter-widgets/base",
      "model_module_version": "1.2.0",
      "model_name": "LayoutModel",
      "state": {}
     },
     "7f0039b9ab2e430c9f696a4cf790b3d6": {
      "model_module": "jupyter-matplotlib",
      "model_module_version": "^0.10.1",
      "model_name": "ToolbarModel",
      "state": {
       "layout": "IPY_MODEL_16a215a82cf746b380eb141761711691",
       "toolitems": [
        [
         "Home",
         "Reset original view",
         "home",
         "home"
        ],
        [
         "Back",
         "Back to previous view",
         "arrow-left",
         "back"
        ],
        [
         "Forward",
         "Forward to next view",
         "arrow-right",
         "forward"
        ],
        [
         "Pan",
         "Left button pans, Right button zooms\nx/y fixes axis, CTRL fixes aspect",
         "arrows",
         "pan"
        ],
        [
         "Zoom",
         "Zoom to rectangle\nx/y fixes axis, CTRL fixes aspect",
         "square-o",
         "zoom"
        ],
        [
         "Download",
         "Download plot",
         "floppy-o",
         "save_figure"
        ]
       ]
      }
     },
     "7f0305c836064c989a4cbd61ab8e8181": {
      "model_module": "@jupyter-widgets/base",
      "model_module_version": "1.2.0",
      "model_name": "LayoutModel",
      "state": {}
     },
     "805d1d4fb6904914aa3bf7b46f969531": {
      "model_module": "@jupyter-widgets/controls",
      "model_module_version": "1.5.0",
      "model_name": "IntSliderModel",
      "state": {
       "continuous_update": false,
       "layout": "IPY_MODEL_263cfd0e5fa04f76afcde68c6a15ed5f",
       "max": 10,
       "readout": false,
       "style": "IPY_MODEL_9b69f8633fb948cdac962d2cc81af726"
      }
     },
     "80b9e946217a4aadabe513b958d09f56": {
      "model_module": "@jupyter-widgets/controls",
      "model_module_version": "1.5.0",
      "model_name": "IntSliderModel",
      "state": {
       "layout": "IPY_MODEL_7a7518853f4c4ee0b4378f82350b057f",
       "readout": false,
       "style": "IPY_MODEL_06d801342c1143c0b0801657bf06e32f",
       "value": 14
      }
     },
     "818a4a4f24b4490ca191638da2f96b9f": {
      "model_module": "@jupyter-widgets/controls",
      "model_module_version": "1.5.0",
      "model_name": "IntSliderModel",
      "state": {
       "continuous_update": false,
       "layout": "IPY_MODEL_f394d417b30146978333c12a08ecd6dd",
       "max": 10,
       "readout": false,
       "style": "IPY_MODEL_281d389f969a4d4795b234ea1eda0ad6",
       "value": 10
      }
     },
     "81de63e43d514b1f8c45460b387068f1": {
      "model_module": "@jupyter-widgets/base",
      "model_module_version": "1.2.0",
      "model_name": "LayoutModel",
      "state": {}
     },
     "81eb3c04fd924b8cbdf3856667aad4c2": {
      "model_module": "@jupyter-widgets/base",
      "model_module_version": "1.2.0",
      "model_name": "LayoutModel",
      "state": {}
     },
     "825351013fcd4725a3fa804eae42a5a1": {
      "model_module": "jupyter-matplotlib",
      "model_module_version": "^0.10.1",
      "model_name": "ToolbarModel",
      "state": {
       "layout": "IPY_MODEL_499de4db79f34256908d068f112d5223",
       "toolitems": [
        [
         "Home",
         "Reset original view",
         "home",
         "home"
        ],
        [
         "Back",
         "Back to previous view",
         "arrow-left",
         "back"
        ],
        [
         "Forward",
         "Forward to next view",
         "arrow-right",
         "forward"
        ],
        [
         "Pan",
         "Left button pans, Right button zooms\nx/y fixes axis, CTRL fixes aspect",
         "arrows",
         "pan"
        ],
        [
         "Zoom",
         "Zoom to rectangle\nx/y fixes axis, CTRL fixes aspect",
         "square-o",
         "zoom"
        ],
        [
         "Download",
         "Download plot",
         "floppy-o",
         "save_figure"
        ]
       ]
      }
     },
     "828db359a1ec42178cf26516b9e1222a": {
      "model_module": "@jupyter-widgets/base",
      "model_module_version": "1.2.0",
      "model_name": "LayoutModel",
      "state": {}
     },
     "839fcb0087b841b6b5b9f63d184a7787": {
      "model_module": "@jupyter-widgets/base",
      "model_module_version": "1.2.0",
      "model_name": "LayoutModel",
      "state": {}
     },
     "846101e260b74d9f94e4b7815c978569": {
      "model_module": "@jupyter-widgets/controls",
      "model_module_version": "1.5.0",
      "model_name": "SliderStyleModel",
      "state": {
       "description_width": ""
      }
     },
     "84e9cc7a35c640f19c3c6f5257673c0a": {
      "model_module": "@jupyter-widgets/controls",
      "model_module_version": "1.5.0",
      "model_name": "SliderStyleModel",
      "state": {
       "description_width": ""
      }
     },
     "85a6c5a72ae44fcaad9c9529f89f9a6b": {
      "model_module": "jupyter-matplotlib",
      "model_module_version": "^0.10.1",
      "model_name": "ToolbarModel",
      "state": {
       "layout": "IPY_MODEL_78dc38e29305465d9ffe8a5b9900f49a",
       "toolitems": [
        [
         "Home",
         "Reset original view",
         "home",
         "home"
        ],
        [
         "Back",
         "Back to previous view",
         "arrow-left",
         "back"
        ],
        [
         "Forward",
         "Forward to next view",
         "arrow-right",
         "forward"
        ],
        [
         "Pan",
         "Left button pans, Right button zooms\nx/y fixes axis, CTRL fixes aspect",
         "arrows",
         "pan"
        ],
        [
         "Zoom",
         "Zoom to rectangle\nx/y fixes axis, CTRL fixes aspect",
         "square-o",
         "zoom"
        ],
        [
         "Download",
         "Download plot",
         "floppy-o",
         "save_figure"
        ]
       ]
      }
     },
     "85ce2201ad804aa38c6ff1c97c9503b7": {
      "model_module": "jupyter-matplotlib",
      "model_module_version": "^0.10.1",
      "model_name": "ToolbarModel",
      "state": {
       "layout": "IPY_MODEL_f8f12b28bee8414e9d29b4189a798550",
       "toolitems": [
        [
         "Home",
         "Reset original view",
         "home",
         "home"
        ],
        [
         "Back",
         "Back to previous view",
         "arrow-left",
         "back"
        ],
        [
         "Forward",
         "Forward to next view",
         "arrow-right",
         "forward"
        ],
        [
         "Pan",
         "Left button pans, Right button zooms\nx/y fixes axis, CTRL fixes aspect",
         "arrows",
         "pan"
        ],
        [
         "Zoom",
         "Zoom to rectangle\nx/y fixes axis, CTRL fixes aspect",
         "square-o",
         "zoom"
        ],
        [
         "Download",
         "Download plot",
         "floppy-o",
         "save_figure"
        ]
       ]
      }
     },
     "862e55757edf4a969112aca43dc4378a": {
      "model_module": "@jupyter-widgets/base",
      "model_module_version": "1.2.0",
      "model_name": "LayoutModel",
      "state": {}
     },
     "864f630a52aa4c37bd56e312dd1dc7bb": {
      "model_module": "@jupyter-widgets/base",
      "model_module_version": "1.2.0",
      "model_name": "LayoutModel",
      "state": {}
     },
     "865136102356419882bb2260106a49ed": {
      "model_module": "@jupyter-widgets/controls",
      "model_module_version": "1.5.0",
      "model_name": "IntSliderModel",
      "state": {
       "continuous_update": false,
       "layout": "IPY_MODEL_9800bac72ed241afa4a494227c36313f",
       "readout": false,
       "style": "IPY_MODEL_f5f58da22f774c718a8fb660ed554b2c",
       "value": 52
      }
     },
     "8694b4506c03446faa8f06392296be6f": {
      "model_module": "@jupyter-widgets/controls",
      "model_module_version": "1.5.0",
      "model_name": "IntSliderModel",
      "state": {
       "layout": "IPY_MODEL_56c1afb8104e4c60a01f17948e8b67bc",
       "readout": false,
       "style": "IPY_MODEL_4611c362a5ca456783e882400800334f"
      }
     },
     "87207aff77b441199b43492684c8b966": {
      "model_module": "jupyter-matplotlib",
      "model_module_version": "^0.10.1",
      "model_name": "ToolbarModel",
      "state": {
       "layout": "IPY_MODEL_75e757788eac45a7a0925469e7ffcdd6",
       "toolitems": [
        [
         "Home",
         "Reset original view",
         "home",
         "home"
        ],
        [
         "Back",
         "Back to previous view",
         "arrow-left",
         "back"
        ],
        [
         "Forward",
         "Forward to next view",
         "arrow-right",
         "forward"
        ],
        [
         "Pan",
         "Left button pans, Right button zooms\nx/y fixes axis, CTRL fixes aspect",
         "arrows",
         "pan"
        ],
        [
         "Zoom",
         "Zoom to rectangle\nx/y fixes axis, CTRL fixes aspect",
         "square-o",
         "zoom"
        ],
        [
         "Download",
         "Download plot",
         "floppy-o",
         "save_figure"
        ]
       ]
      }
     },
     "875301c587ba49fda5626bf67c411c34": {
      "model_module": "@jupyter-widgets/base",
      "model_module_version": "1.2.0",
      "model_name": "LayoutModel",
      "state": {}
     },
     "88a8a7dfd922443e81a5bc2af5a70e57": {
      "model_module": "@jupyter-widgets/controls",
      "model_module_version": "1.5.0",
      "model_name": "SliderStyleModel",
      "state": {
       "description_width": ""
      }
     },
     "88c57bf6f4d3492cbb07baf70f82f6d8": {
      "model_module": "@jupyter-widgets/controls",
      "model_module_version": "1.5.0",
      "model_name": "SliderStyleModel",
      "state": {
       "description_width": ""
      }
     },
     "89e33e0aed21418d91cfa13d14dbcb5b": {
      "model_module": "@jupyter-widgets/base",
      "model_module_version": "1.2.0",
      "model_name": "LayoutModel",
      "state": {}
     },
     "8a38ce38057c4bf5a94d223b23204442": {
      "model_module": "@jupyter-widgets/base",
      "model_module_version": "1.2.0",
      "model_name": "LayoutModel",
      "state": {}
     },
     "8a69a38db9e24f3c980e496982ab8666": {
      "model_module": "@jupyter-widgets/base",
      "model_module_version": "1.2.0",
      "model_name": "LayoutModel",
      "state": {}
     },
     "8ac7f1b45d354b53bde07c4c35067570": {
      "model_module": "@jupyter-widgets/base",
      "model_module_version": "1.2.0",
      "model_name": "LayoutModel",
      "state": {}
     },
     "8ad837c2b5e44d5ba9760e24b4c4c1f9": {
      "model_module": "@jupyter-widgets/controls",
      "model_module_version": "1.5.0",
      "model_name": "SliderStyleModel",
      "state": {
       "description_width": ""
      }
     },
     "8aff175e1c6d435e80903ded4883e80b": {
      "model_module": "@jupyter-widgets/controls",
      "model_module_version": "1.5.0",
      "model_name": "SliderStyleModel",
      "state": {
       "description_width": ""
      }
     },
     "8b3f65bc8d1b401ca0c2565c5f3d4df4": {
      "model_module": "jupyter-matplotlib",
      "model_module_version": "^0.10.1",
      "model_name": "ToolbarModel",
      "state": {
       "layout": "IPY_MODEL_ab0d4e4aeb734c9bacf51a9defb7143e",
       "toolitems": [
        [
         "Home",
         "Reset original view",
         "home",
         "home"
        ],
        [
         "Back",
         "Back to previous view",
         "arrow-left",
         "back"
        ],
        [
         "Forward",
         "Forward to next view",
         "arrow-right",
         "forward"
        ],
        [
         "Pan",
         "Left button pans, Right button zooms\nx/y fixes axis, CTRL fixes aspect",
         "arrows",
         "pan"
        ],
        [
         "Zoom",
         "Zoom to rectangle\nx/y fixes axis, CTRL fixes aspect",
         "square-o",
         "zoom"
        ],
        [
         "Download",
         "Download plot",
         "floppy-o",
         "save_figure"
        ]
       ]
      }
     },
     "8b82c88ce407409c8c4406c2dd50f4bc": {
      "model_module": "@jupyter-widgets/controls",
      "model_module_version": "1.5.0",
      "model_name": "SliderStyleModel",
      "state": {
       "description_width": ""
      }
     },
     "8c364f25588b4bc6ba0d11b312b937c4": {
      "model_module": "@jupyter-widgets/base",
      "model_module_version": "1.2.0",
      "model_name": "LayoutModel",
      "state": {}
     },
     "8cc554b5f5f64c8b99d52de94b562642": {
      "model_module": "@jupyter-widgets/base",
      "model_module_version": "1.2.0",
      "model_name": "LayoutModel",
      "state": {}
     },
     "8ccd033da83a4a50aa91c323e217a727": {
      "model_module": "@jupyter-widgets/controls",
      "model_module_version": "1.5.0",
      "model_name": "IntSliderModel",
      "state": {
       "layout": "IPY_MODEL_e42e36707ae144ebbd0fb4cc8c3c86c4",
       "readout": false,
       "style": "IPY_MODEL_411085630966463881df581f479c2a33"
      }
     },
     "8d9dcd3e5ddc482086c39b8334550092": {
      "model_module": "@jupyter-widgets/base",
      "model_module_version": "1.2.0",
      "model_name": "LayoutModel",
      "state": {}
     },
     "8deb27f199d847d793c616390dff491e": {
      "model_module": "@jupyter-widgets/controls",
      "model_module_version": "1.5.0",
      "model_name": "SliderStyleModel",
      "state": {
       "description_width": ""
      }
     },
     "8e04d6ed178c4bf18d1ad2f210f5de9d": {
      "model_module": "jupyter-matplotlib",
      "model_module_version": "^0.10.1",
      "model_name": "ToolbarModel",
      "state": {
       "layout": "IPY_MODEL_3ddec6f1ebde4cfab92c696733df8c10",
       "toolitems": [
        [
         "Home",
         "Reset original view",
         "home",
         "home"
        ],
        [
         "Back",
         "Back to previous view",
         "arrow-left",
         "back"
        ],
        [
         "Forward",
         "Forward to next view",
         "arrow-right",
         "forward"
        ],
        [
         "Pan",
         "Left button pans, Right button zooms\nx/y fixes axis, CTRL fixes aspect",
         "arrows",
         "pan"
        ],
        [
         "Zoom",
         "Zoom to rectangle\nx/y fixes axis, CTRL fixes aspect",
         "square-o",
         "zoom"
        ],
        [
         "Download",
         "Download plot",
         "floppy-o",
         "save_figure"
        ]
       ]
      }
     },
     "8e243c8207994f7f8ca73ee7c17e28dc": {
      "model_module": "@jupyter-widgets/base",
      "model_module_version": "1.2.0",
      "model_name": "LayoutModel",
      "state": {}
     },
     "8e842574ee934fa2b4ea24a8224a0a08": {
      "model_module": "@jupyter-widgets/base",
      "model_module_version": "1.2.0",
      "model_name": "LayoutModel",
      "state": {}
     },
     "8f8d374b63c24e59a5f755523477cacd": {
      "model_module": "jupyter-matplotlib",
      "model_module_version": "^0.10.1",
      "model_name": "ToolbarModel",
      "state": {
       "layout": "IPY_MODEL_bd7c0b3a45be454a8a6e49dc91b91701",
       "toolitems": [
        [
         "Home",
         "Reset original view",
         "home",
         "home"
        ],
        [
         "Back",
         "Back to previous view",
         "arrow-left",
         "back"
        ],
        [
         "Forward",
         "Forward to next view",
         "arrow-right",
         "forward"
        ],
        [
         "Pan",
         "Left button pans, Right button zooms\nx/y fixes axis, CTRL fixes aspect",
         "arrows",
         "pan"
        ],
        [
         "Zoom",
         "Zoom to rectangle\nx/y fixes axis, CTRL fixes aspect",
         "square-o",
         "zoom"
        ],
        [
         "Download",
         "Download plot",
         "floppy-o",
         "save_figure"
        ]
       ]
      }
     },
     "8fdec696530e4d11819fbe93c02003a3": {
      "model_module": "@jupyter-widgets/controls",
      "model_module_version": "1.5.0",
      "model_name": "IntSliderModel",
      "state": {
       "continuous_update": false,
       "layout": "IPY_MODEL_4a2e61d4e10a4b27972ef39a12625f84",
       "max": 10,
       "readout": false,
       "step": 0,
       "style": "IPY_MODEL_a9b51b6415674f7c8223aa28fa06af22"
      }
     },
     "909012e57cf443af86329ee7592cbec3": {
      "model_module": "@jupyter-widgets/controls",
      "model_module_version": "1.5.0",
      "model_name": "SliderStyleModel",
      "state": {
       "description_width": ""
      }
     },
     "90de4986e2424f1aa10296153a90691b": {
      "model_module": "@jupyter-widgets/controls",
      "model_module_version": "1.5.0",
      "model_name": "SliderStyleModel",
      "state": {
       "description_width": ""
      }
     },
     "915dcb4d50db4b2db5747b89a93d82b0": {
      "model_module": "@jupyter-widgets/base",
      "model_module_version": "1.2.0",
      "model_name": "LayoutModel",
      "state": {}
     },
     "916ee3940a7d4229b14381a30bc8654c": {
      "model_module": "@jupyter-widgets/base",
      "model_module_version": "1.2.0",
      "model_name": "LayoutModel",
      "state": {}
     },
     "91d13522985e47c197a99fe5fbc3af8c": {
      "model_module": "@jupyter-widgets/controls",
      "model_module_version": "1.5.0",
      "model_name": "SliderStyleModel",
      "state": {
       "description_width": ""
      }
     },
     "9290217908f34268bf9cd63646a32301": {
      "model_module": "@jupyter-widgets/base",
      "model_module_version": "1.2.0",
      "model_name": "LayoutModel",
      "state": {}
     },
     "92b33f56e9834c1cab1906f84c7e0570": {
      "model_module": "@jupyter-widgets/base",
      "model_module_version": "1.2.0",
      "model_name": "LayoutModel",
      "state": {}
     },
     "92e522d8d3004dd7a9d765e50a1af93c": {
      "model_module": "@jupyter-widgets/base",
      "model_module_version": "1.2.0",
      "model_name": "LayoutModel",
      "state": {}
     },
     "92f2245d3a284c49914cee81c89606ae": {
      "model_module": "@jupyter-widgets/base",
      "model_module_version": "1.2.0",
      "model_name": "LayoutModel",
      "state": {}
     },
     "93421e9bd0eb481db88c08d010942633": {
      "model_module": "@jupyter-widgets/controls",
      "model_module_version": "1.5.0",
      "model_name": "IntSliderModel",
      "state": {
       "continuous_update": false,
       "layout": "IPY_MODEL_aeb4681f45324920a914aeb8e01db7dd",
       "max": 10,
       "readout": false,
       "style": "IPY_MODEL_a99faaade5594dcd8401e568d75abfd1"
      }
     },
     "9350c9f2e9d644659b22dd83dda60886": {
      "model_module": "@jupyter-widgets/base",
      "model_module_version": "1.2.0",
      "model_name": "LayoutModel",
      "state": {}
     },
     "93e6fbd35c2d40198092baa9cbb3a82f": {
      "model_module": "jupyter-matplotlib",
      "model_module_version": "^0.10.1",
      "model_name": "ToolbarModel",
      "state": {
       "layout": "IPY_MODEL_839fcb0087b841b6b5b9f63d184a7787",
       "toolitems": [
        [
         "Home",
         "Reset original view",
         "home",
         "home"
        ],
        [
         "Back",
         "Back to previous view",
         "arrow-left",
         "back"
        ],
        [
         "Forward",
         "Forward to next view",
         "arrow-right",
         "forward"
        ],
        [
         "Pan",
         "Left button pans, Right button zooms\nx/y fixes axis, CTRL fixes aspect",
         "arrows",
         "pan"
        ],
        [
         "Zoom",
         "Zoom to rectangle\nx/y fixes axis, CTRL fixes aspect",
         "square-o",
         "zoom"
        ],
        [
         "Download",
         "Download plot",
         "floppy-o",
         "save_figure"
        ]
       ]
      }
     },
     "944589a9039d450eaa06cb77e82f1616": {
      "model_module": "@jupyter-widgets/base",
      "model_module_version": "1.2.0",
      "model_name": "LayoutModel",
      "state": {}
     },
     "9480e21c3173426ba357b782924c1ba1": {
      "model_module": "@jupyter-widgets/base",
      "model_module_version": "1.2.0",
      "model_name": "LayoutModel",
      "state": {}
     },
     "94d815bbc26f405a9bde3eb35b41c27b": {
      "model_module": "@jupyter-widgets/base",
      "model_module_version": "1.2.0",
      "model_name": "LayoutModel",
      "state": {}
     },
     "94f3b21614dc400cb2b534381de87d9e": {
      "model_module": "@jupyter-widgets/base",
      "model_module_version": "1.2.0",
      "model_name": "LayoutModel",
      "state": {}
     },
     "96786313446541c884f04861a3f9112e": {
      "model_module": "@jupyter-widgets/output",
      "model_module_version": "1.0.0",
      "model_name": "OutputModel",
      "state": {
       "layout": "IPY_MODEL_efbce1cd42f240e3a4f986497fff4be1"
      }
     },
     "96d571d35a814651841d81f482f0ada5": {
      "model_module": "@jupyter-widgets/controls",
      "model_module_version": "1.5.0",
      "model_name": "IntSliderModel",
      "state": {
       "continuous_update": false,
       "layout": "IPY_MODEL_b0736087b4754b778d4a2a753f564f7e",
       "max": 10,
       "readout": false,
       "style": "IPY_MODEL_01e0a4e291204c59bc486775e9e8e610"
      }
     },
     "976e026536b24b198451ba70afce4602": {
      "model_module": "@jupyter-widgets/base",
      "model_module_version": "1.2.0",
      "model_name": "LayoutModel",
      "state": {}
     },
     "977123a0f0bb45c6b15ecccd5a23f5cb": {
      "model_module": "@jupyter-widgets/controls",
      "model_module_version": "1.5.0",
      "model_name": "SliderStyleModel",
      "state": {
       "description_width": ""
      }
     },
     "97d82de0b62d4fbb8925b95b6622a505": {
      "model_module": "@jupyter-widgets/base",
      "model_module_version": "1.2.0",
      "model_name": "LayoutModel",
      "state": {}
     },
     "97de98b890ce47b9a67caa5093073d5b": {
      "model_module": "@jupyter-widgets/base",
      "model_module_version": "1.2.0",
      "model_name": "LayoutModel",
      "state": {}
     },
     "9800bac72ed241afa4a494227c36313f": {
      "model_module": "@jupyter-widgets/base",
      "model_module_version": "1.2.0",
      "model_name": "LayoutModel",
      "state": {}
     },
     "986ec52d6abd4c57801b64f7c6947829": {
      "model_module": "@jupyter-widgets/base",
      "model_module_version": "1.2.0",
      "model_name": "LayoutModel",
      "state": {}
     },
     "98a9dfc60cd04f75b331dea1731569b3": {
      "model_module": "@jupyter-widgets/base",
      "model_module_version": "1.2.0",
      "model_name": "LayoutModel",
      "state": {}
     },
     "991f5e4ad83c4842a2c4401375552c00": {
      "model_module": "jupyter-matplotlib",
      "model_module_version": "^0.10.1",
      "model_name": "ToolbarModel",
      "state": {
       "layout": "IPY_MODEL_b88752bb1e1247c1b40b9a6adf432c41",
       "toolitems": [
        [
         "Home",
         "Reset original view",
         "home",
         "home"
        ],
        [
         "Back",
         "Back to previous view",
         "arrow-left",
         "back"
        ],
        [
         "Forward",
         "Forward to next view",
         "arrow-right",
         "forward"
        ],
        [
         "Pan",
         "Left button pans, Right button zooms\nx/y fixes axis, CTRL fixes aspect",
         "arrows",
         "pan"
        ],
        [
         "Zoom",
         "Zoom to rectangle\nx/y fixes axis, CTRL fixes aspect",
         "square-o",
         "zoom"
        ],
        [
         "Download",
         "Download plot",
         "floppy-o",
         "save_figure"
        ]
       ]
      }
     },
     "994140b6aa194f859d404f593df0d413": {
      "model_module": "@jupyter-widgets/base",
      "model_module_version": "1.2.0",
      "model_name": "LayoutModel",
      "state": {}
     },
     "9969604f24bc44f08ffeced761e8ef3b": {
      "model_module": "@jupyter-widgets/base",
      "model_module_version": "1.2.0",
      "model_name": "LayoutModel",
      "state": {}
     },
     "99cd935f702a46008e1f98a9a1e2d729": {
      "model_module": "@jupyter-widgets/base",
      "model_module_version": "1.2.0",
      "model_name": "LayoutModel",
      "state": {}
     },
     "9a2a024149b14c5dbbfae06544728523": {
      "model_module": "@jupyter-widgets/base",
      "model_module_version": "1.2.0",
      "model_name": "LayoutModel",
      "state": {}
     },
     "9a382f37da1a44039d7267c0a55f2213": {
      "model_module": "jupyter-matplotlib",
      "model_module_version": "^0.10.1",
      "model_name": "ToolbarModel",
      "state": {
       "layout": "IPY_MODEL_8ac7f1b45d354b53bde07c4c35067570",
       "toolitems": [
        [
         "Home",
         "Reset original view",
         "home",
         "home"
        ],
        [
         "Back",
         "Back to previous view",
         "arrow-left",
         "back"
        ],
        [
         "Forward",
         "Forward to next view",
         "arrow-right",
         "forward"
        ],
        [
         "Pan",
         "Left button pans, Right button zooms\nx/y fixes axis, CTRL fixes aspect",
         "arrows",
         "pan"
        ],
        [
         "Zoom",
         "Zoom to rectangle\nx/y fixes axis, CTRL fixes aspect",
         "square-o",
         "zoom"
        ],
        [
         "Download",
         "Download plot",
         "floppy-o",
         "save_figure"
        ]
       ]
      }
     },
     "9aae987aad41450db0306c30aa5116d5": {
      "model_module": "jupyter-matplotlib",
      "model_module_version": "^0.10.1",
      "model_name": "ToolbarModel",
      "state": {
       "layout": "IPY_MODEL_383d83b3a54f49da87003e2592a4fc34",
       "toolitems": [
        [
         "Home",
         "Reset original view",
         "home",
         "home"
        ],
        [
         "Back",
         "Back to previous view",
         "arrow-left",
         "back"
        ],
        [
         "Forward",
         "Forward to next view",
         "arrow-right",
         "forward"
        ],
        [
         "Pan",
         "Left button pans, Right button zooms\nx/y fixes axis, CTRL fixes aspect",
         "arrows",
         "pan"
        ],
        [
         "Zoom",
         "Zoom to rectangle\nx/y fixes axis, CTRL fixes aspect",
         "square-o",
         "zoom"
        ],
        [
         "Download",
         "Download plot",
         "floppy-o",
         "save_figure"
        ]
       ]
      }
     },
     "9af92c847d2d4fabab09f7e5dc65db37": {
      "model_module": "@jupyter-widgets/controls",
      "model_module_version": "1.5.0",
      "model_name": "SliderStyleModel",
      "state": {
       "description_width": ""
      }
     },
     "9b695e4fb9e543fc97928f6418abe68c": {
      "model_module": "@jupyter-widgets/base",
      "model_module_version": "1.2.0",
      "model_name": "LayoutModel",
      "state": {}
     },
     "9b69f8633fb948cdac962d2cc81af726": {
      "model_module": "@jupyter-widgets/controls",
      "model_module_version": "1.5.0",
      "model_name": "SliderStyleModel",
      "state": {
       "description_width": ""
      }
     },
     "9c6892ca79e9438d8ebf8d829e0f3d4f": {
      "model_module": "jupyter-matplotlib",
      "model_module_version": "^0.10.1",
      "model_name": "ToolbarModel",
      "state": {
       "layout": "IPY_MODEL_9f0dbf13f3e149a6a63854249427f457",
       "toolitems": [
        [
         "Home",
         "Reset original view",
         "home",
         "home"
        ],
        [
         "Back",
         "Back to previous view",
         "arrow-left",
         "back"
        ],
        [
         "Forward",
         "Forward to next view",
         "arrow-right",
         "forward"
        ],
        [
         "Pan",
         "Left button pans, Right button zooms\nx/y fixes axis, CTRL fixes aspect",
         "arrows",
         "pan"
        ],
        [
         "Zoom",
         "Zoom to rectangle\nx/y fixes axis, CTRL fixes aspect",
         "square-o",
         "zoom"
        ],
        [
         "Download",
         "Download plot",
         "floppy-o",
         "save_figure"
        ]
       ]
      }
     },
     "9d7aa336aa9241dd9ee4f599d6b22a4f": {
      "model_module": "@jupyter-widgets/base",
      "model_module_version": "1.2.0",
      "model_name": "LayoutModel",
      "state": {}
     },
     "9e07a126a8af41f8b5007e149d587fc5": {
      "model_module": "@jupyter-widgets/controls",
      "model_module_version": "1.5.0",
      "model_name": "SliderStyleModel",
      "state": {
       "description_width": ""
      }
     },
     "9e11bbd1c6f34b2db5d7e1778c80cf5b": {
      "model_module": "jupyter-matplotlib",
      "model_module_version": "^0.10.1",
      "model_name": "ToolbarModel",
      "state": {
       "layout": "IPY_MODEL_9969604f24bc44f08ffeced761e8ef3b",
       "toolitems": [
        [
         "Home",
         "Reset original view",
         "home",
         "home"
        ],
        [
         "Back",
         "Back to previous view",
         "arrow-left",
         "back"
        ],
        [
         "Forward",
         "Forward to next view",
         "arrow-right",
         "forward"
        ],
        [
         "Pan",
         "Left button pans, Right button zooms\nx/y fixes axis, CTRL fixes aspect",
         "arrows",
         "pan"
        ],
        [
         "Zoom",
         "Zoom to rectangle\nx/y fixes axis, CTRL fixes aspect",
         "square-o",
         "zoom"
        ],
        [
         "Download",
         "Download plot",
         "floppy-o",
         "save_figure"
        ]
       ]
      }
     },
     "9e70f61b4d714d1c8d7c6bb1515763de": {
      "model_module": "@jupyter-widgets/base",
      "model_module_version": "1.2.0",
      "model_name": "LayoutModel",
      "state": {}
     },
     "9f0dbf13f3e149a6a63854249427f457": {
      "model_module": "@jupyter-widgets/base",
      "model_module_version": "1.2.0",
      "model_name": "LayoutModel",
      "state": {}
     },
     "9f6d91f6d8c846cc95b68f13266b718b": {
      "model_module": "@jupyter-widgets/base",
      "model_module_version": "1.2.0",
      "model_name": "LayoutModel",
      "state": {}
     },
     "9fb8ff7a5777419390a3cc3d2bff09ba": {
      "model_module": "@jupyter-widgets/controls",
      "model_module_version": "1.5.0",
      "model_name": "IntSliderModel",
      "state": {
       "layout": "IPY_MODEL_5fa2c6550c3748618f719107cdd6a2c6",
       "max": 10,
       "readout": false,
       "style": "IPY_MODEL_d00c7c8d10bb4ff3b53aad5d7f68d4d2",
       "value": 4
      }
     },
     "a02b68af4c6b43b096af11b281c88124": {
      "model_module": "@jupyter-widgets/base",
      "model_module_version": "1.2.0",
      "model_name": "LayoutModel",
      "state": {}
     },
     "a053242d88d24ad480b08a9d2654ca6d": {
      "model_module": "@jupyter-widgets/controls",
      "model_module_version": "1.5.0",
      "model_name": "IntSliderModel",
      "state": {
       "description": "l",
       "layout": "IPY_MODEL_c563c5b1f6654c20a035c17ae3eba4fc",
       "readout": false,
       "style": "IPY_MODEL_f4a99c6f95f74aec90edc1f50fddf2e0",
       "value": 15
      }
     },
     "a1cf343316254ee0b360c493faff5f99": {
      "model_module": "@jupyter-widgets/controls",
      "model_module_version": "1.5.0",
      "model_name": "SliderStyleModel",
      "state": {
       "description_width": ""
      }
     },
     "a1d7a3ec8bb34498a2571f9f8974c3ae": {
      "model_module": "@jupyter-widgets/controls",
      "model_module_version": "1.5.0",
      "model_name": "SliderStyleModel",
      "state": {
       "description_width": ""
      }
     },
     "a2193ac74bab47f081d914b1c28f87e4": {
      "model_module": "@jupyter-widgets/base",
      "model_module_version": "1.2.0",
      "model_name": "LayoutModel",
      "state": {}
     },
     "a21cf5702bb04c5e8b3ee81205e78d50": {
      "model_module": "@jupyter-widgets/controls",
      "model_module_version": "1.5.0",
      "model_name": "SliderStyleModel",
      "state": {
       "description_width": ""
      }
     },
     "a22b40c98eec43c9933f5dbbb84eecf8": {
      "model_module": "@jupyter-widgets/base",
      "model_module_version": "1.2.0",
      "model_name": "LayoutModel",
      "state": {}
     },
     "a2535c9cf67744459563e2dc49548503": {
      "model_module": "@jupyter-widgets/controls",
      "model_module_version": "1.5.0",
      "model_name": "SliderStyleModel",
      "state": {
       "description_width": ""
      }
     },
     "a33d783c6a7e4fd283823eccf3034890": {
      "model_module": "@jupyter-widgets/base",
      "model_module_version": "1.2.0",
      "model_name": "LayoutModel",
      "state": {}
     },
     "a3d594f03cbb4fcea86a3e52e3e6a45a": {
      "model_module": "@jupyter-widgets/base",
      "model_module_version": "1.2.0",
      "model_name": "LayoutModel",
      "state": {}
     },
     "a424de102a464977bd30af914f693de9": {
      "model_module": "@jupyter-widgets/controls",
      "model_module_version": "1.5.0",
      "model_name": "SliderStyleModel",
      "state": {
       "description_width": ""
      }
     },
     "a44d1ddcfe73427895b7791e4aa891a2": {
      "model_module": "@jupyter-widgets/base",
      "model_module_version": "1.2.0",
      "model_name": "LayoutModel",
      "state": {}
     },
     "a5467d97af6f44949cdb0abc75e9d3af": {
      "model_module": "@jupyter-widgets/controls",
      "model_module_version": "1.5.0",
      "model_name": "SliderStyleModel",
      "state": {
       "description_width": ""
      }
     },
     "a5c8562ea0c44ccf9dca0db28bdb1b35": {
      "model_module": "@jupyter-widgets/base",
      "model_module_version": "1.2.0",
      "model_name": "LayoutModel",
      "state": {}
     },
     "a5eec7a1fbab4ce488b2e638caf5637d": {
      "model_module": "@jupyter-widgets/base",
      "model_module_version": "1.2.0",
      "model_name": "LayoutModel",
      "state": {}
     },
     "a73f3295a78c48009580aeff5e644adf": {
      "model_module": "@jupyter-widgets/controls",
      "model_module_version": "1.5.0",
      "model_name": "SliderStyleModel",
      "state": {
       "description_width": ""
      }
     },
     "a761224d6d3848fdaee7b6f5e16dbbd2": {
      "model_module": "@jupyter-widgets/base",
      "model_module_version": "1.2.0",
      "model_name": "LayoutModel",
      "state": {}
     },
     "a875489ca79e45af904c10c859e58bbc": {
      "model_module": "@jupyter-widgets/base",
      "model_module_version": "1.2.0",
      "model_name": "LayoutModel",
      "state": {}
     },
     "a94a2871a54342fd8add3188aa1dd8b0": {
      "model_module": "@jupyter-widgets/base",
      "model_module_version": "1.2.0",
      "model_name": "LayoutModel",
      "state": {}
     },
     "a957d51b6a00401eadf3b5375a3832d6": {
      "model_module": "@jupyter-widgets/output",
      "model_module_version": "1.0.0",
      "model_name": "OutputModel",
      "state": {
       "layout": "IPY_MODEL_ca20d6f883fd4e5c97b92f0e65672a32"
      }
     },
     "a966417d3e18437e985e9ed19b484b5a": {
      "model_module": "@jupyter-widgets/base",
      "model_module_version": "1.2.0",
      "model_name": "LayoutModel",
      "state": {}
     },
     "a99faaade5594dcd8401e568d75abfd1": {
      "model_module": "@jupyter-widgets/controls",
      "model_module_version": "1.5.0",
      "model_name": "SliderStyleModel",
      "state": {
       "description_width": ""
      }
     },
     "a9b51b6415674f7c8223aa28fa06af22": {
      "model_module": "@jupyter-widgets/controls",
      "model_module_version": "1.5.0",
      "model_name": "SliderStyleModel",
      "state": {
       "description_width": ""
      }
     },
     "a9b8b443057045b5a2f372b8b34928a4": {
      "model_module": "jupyter-matplotlib",
      "model_module_version": "^0.10.1",
      "model_name": "ToolbarModel",
      "state": {
       "layout": "IPY_MODEL_655bced6fb9142c383c5f28d2e29081d",
       "toolitems": [
        [
         "Home",
         "Reset original view",
         "home",
         "home"
        ],
        [
         "Back",
         "Back to previous view",
         "arrow-left",
         "back"
        ],
        [
         "Forward",
         "Forward to next view",
         "arrow-right",
         "forward"
        ],
        [
         "Pan",
         "Left button pans, Right button zooms\nx/y fixes axis, CTRL fixes aspect",
         "arrows",
         "pan"
        ],
        [
         "Zoom",
         "Zoom to rectangle\nx/y fixes axis, CTRL fixes aspect",
         "square-o",
         "zoom"
        ],
        [
         "Download",
         "Download plot",
         "floppy-o",
         "save_figure"
        ]
       ]
      }
     },
     "aa3fe2bd90f449748192be10637958c7": {
      "model_module": "@jupyter-widgets/controls",
      "model_module_version": "1.5.0",
      "model_name": "IntSliderModel",
      "state": {
       "continuous_update": false,
       "layout": "IPY_MODEL_7e0e08e3505542c2be4871a9584ec728",
       "max": 10,
       "readout": false,
       "style": "IPY_MODEL_d6c560cca59848f0b005069fd90d5e55",
       "value": 5
      }
     },
     "aa611337aa524e43a203ebc4a62068f6": {
      "model_module": "@jupyter-widgets/base",
      "model_module_version": "1.2.0",
      "model_name": "LayoutModel",
      "state": {}
     },
     "aa8bb2998e6b4ea38de0d23870833ce0": {
      "model_module": "@jupyter-widgets/controls",
      "model_module_version": "1.5.0",
      "model_name": "SliderStyleModel",
      "state": {
       "description_width": ""
      }
     },
     "aaf4c25065734ca389a521b24a236713": {
      "model_module": "jupyter-matplotlib",
      "model_module_version": "^0.10.1",
      "model_name": "ToolbarModel",
      "state": {
       "layout": "IPY_MODEL_15aa213671f540b48193a27fd250c006",
       "toolitems": [
        [
         "Home",
         "Reset original view",
         "home",
         "home"
        ],
        [
         "Back",
         "Back to previous view",
         "arrow-left",
         "back"
        ],
        [
         "Forward",
         "Forward to next view",
         "arrow-right",
         "forward"
        ],
        [
         "Pan",
         "Left button pans, Right button zooms\nx/y fixes axis, CTRL fixes aspect",
         "arrows",
         "pan"
        ],
        [
         "Zoom",
         "Zoom to rectangle\nx/y fixes axis, CTRL fixes aspect",
         "square-o",
         "zoom"
        ],
        [
         "Download",
         "Download plot",
         "floppy-o",
         "save_figure"
        ]
       ]
      }
     },
     "ab0d4e4aeb734c9bacf51a9defb7143e": {
      "model_module": "@jupyter-widgets/base",
      "model_module_version": "1.2.0",
      "model_name": "LayoutModel",
      "state": {}
     },
     "ab1c66c227034ae7aee472b4d8c25133": {
      "model_module": "@jupyter-widgets/base",
      "model_module_version": "1.2.0",
      "model_name": "LayoutModel",
      "state": {}
     },
     "ab2e1859c99a48e0bec6e80821e95fef": {
      "model_module": "@jupyter-widgets/controls",
      "model_module_version": "1.5.0",
      "model_name": "SliderStyleModel",
      "state": {
       "description_width": ""
      }
     },
     "abac77cda039439b8e70b29c54e190a8": {
      "model_module": "@jupyter-widgets/base",
      "model_module_version": "1.2.0",
      "model_name": "LayoutModel",
      "state": {}
     },
     "ad3965806c484cd29064796329ca33fa": {
      "model_module": "@jupyter-widgets/controls",
      "model_module_version": "1.5.0",
      "model_name": "IntSliderModel",
      "state": {
       "continuous_update": false,
       "layout": "IPY_MODEL_92e522d8d3004dd7a9d765e50a1af93c",
       "max": 10,
       "readout": false,
       "step": 0,
       "style": "IPY_MODEL_e414be34f89b40c68da6eef35b4c281e"
      }
     },
     "ade13c86041547d7a9c6a450c8da473c": {
      "model_module": "@jupyter-widgets/base",
      "model_module_version": "1.2.0",
      "model_name": "LayoutModel",
      "state": {}
     },
     "adf3f17bec13460b9a7f1aef26440760": {
      "model_module": "@jupyter-widgets/base",
      "model_module_version": "1.2.0",
      "model_name": "LayoutModel",
      "state": {}
     },
     "ae2ad99532464c909c29adc9600d9a5b": {
      "model_module": "@jupyter-widgets/base",
      "model_module_version": "1.2.0",
      "model_name": "LayoutModel",
      "state": {}
     },
     "ae55f3204b674853ab53dcd1a608226a": {
      "model_module": "@jupyter-widgets/base",
      "model_module_version": "1.2.0",
      "model_name": "LayoutModel",
      "state": {}
     },
     "aeb4681f45324920a914aeb8e01db7dd": {
      "model_module": "@jupyter-widgets/base",
      "model_module_version": "1.2.0",
      "model_name": "LayoutModel",
      "state": {}
     },
     "aec3b6f96fc64859aa69ee5309615937": {
      "model_module": "@jupyter-widgets/base",
      "model_module_version": "1.2.0",
      "model_name": "LayoutModel",
      "state": {}
     },
     "b02b61ecb02b4bfea22613c3d4d6be29": {
      "model_module": "jupyter-matplotlib",
      "model_module_version": "^0.10.1",
      "model_name": "ToolbarModel",
      "state": {
       "layout": "IPY_MODEL_591e464223194567841d2c16ab2a4d58",
       "toolitems": [
        [
         "Home",
         "Reset original view",
         "home",
         "home"
        ],
        [
         "Back",
         "Back to previous view",
         "arrow-left",
         "back"
        ],
        [
         "Forward",
         "Forward to next view",
         "arrow-right",
         "forward"
        ],
        [
         "Pan",
         "Left button pans, Right button zooms\nx/y fixes axis, CTRL fixes aspect",
         "arrows",
         "pan"
        ],
        [
         "Zoom",
         "Zoom to rectangle\nx/y fixes axis, CTRL fixes aspect",
         "square-o",
         "zoom"
        ],
        [
         "Download",
         "Download plot",
         "floppy-o",
         "save_figure"
        ]
       ]
      }
     },
     "b04f24f53159406c8aa7fff18abbeb43": {
      "model_module": "jupyter-matplotlib",
      "model_module_version": "^0.10.1",
      "model_name": "ToolbarModel",
      "state": {
       "layout": "IPY_MODEL_4c1c885a773545d998121af0df64c49e",
       "toolitems": [
        [
         "Home",
         "Reset original view",
         "home",
         "home"
        ],
        [
         "Back",
         "Back to previous view",
         "arrow-left",
         "back"
        ],
        [
         "Forward",
         "Forward to next view",
         "arrow-right",
         "forward"
        ],
        [
         "Pan",
         "Left button pans, Right button zooms\nx/y fixes axis, CTRL fixes aspect",
         "arrows",
         "pan"
        ],
        [
         "Zoom",
         "Zoom to rectangle\nx/y fixes axis, CTRL fixes aspect",
         "square-o",
         "zoom"
        ],
        [
         "Download",
         "Download plot",
         "floppy-o",
         "save_figure"
        ]
       ]
      }
     },
     "b0736087b4754b778d4a2a753f564f7e": {
      "model_module": "@jupyter-widgets/base",
      "model_module_version": "1.2.0",
      "model_name": "LayoutModel",
      "state": {}
     },
     "b0b68ea8c7f94004be624db8b9bb9d7d": {
      "model_module": "@jupyter-widgets/controls",
      "model_module_version": "1.5.0",
      "model_name": "SliderStyleModel",
      "state": {
       "description_width": ""
      }
     },
     "b364952a73cf4ae281ea36b0b5a8f737": {
      "model_module": "@jupyter-widgets/base",
      "model_module_version": "1.2.0",
      "model_name": "LayoutModel",
      "state": {}
     },
     "b376859795db42129bb09e7487f3b49a": {
      "model_module": "jupyter-matplotlib",
      "model_module_version": "^0.10.1",
      "model_name": "ToolbarModel",
      "state": {
       "layout": "IPY_MODEL_48af142fff7245b28d90a7858d3c509f",
       "toolitems": [
        [
         "Home",
         "Reset original view",
         "home",
         "home"
        ],
        [
         "Back",
         "Back to previous view",
         "arrow-left",
         "back"
        ],
        [
         "Forward",
         "Forward to next view",
         "arrow-right",
         "forward"
        ],
        [
         "Pan",
         "Left button pans, Right button zooms\nx/y fixes axis, CTRL fixes aspect",
         "arrows",
         "pan"
        ],
        [
         "Zoom",
         "Zoom to rectangle\nx/y fixes axis, CTRL fixes aspect",
         "square-o",
         "zoom"
        ],
        [
         "Download",
         "Download plot",
         "floppy-o",
         "save_figure"
        ]
       ]
      }
     },
     "b55365c6bf43493fa94c1ba91bde33a0": {
      "model_module": "jupyter-matplotlib",
      "model_module_version": "^0.10.1",
      "model_name": "ToolbarModel",
      "state": {
       "layout": "IPY_MODEL_3591bdad5aa44ef198b7e59f12ab0333",
       "toolitems": [
        [
         "Home",
         "Reset original view",
         "home",
         "home"
        ],
        [
         "Back",
         "Back to previous view",
         "arrow-left",
         "back"
        ],
        [
         "Forward",
         "Forward to next view",
         "arrow-right",
         "forward"
        ],
        [
         "Pan",
         "Left button pans, Right button zooms\nx/y fixes axis, CTRL fixes aspect",
         "arrows",
         "pan"
        ],
        [
         "Zoom",
         "Zoom to rectangle\nx/y fixes axis, CTRL fixes aspect",
         "square-o",
         "zoom"
        ],
        [
         "Download",
         "Download plot",
         "floppy-o",
         "save_figure"
        ]
       ]
      }
     },
     "b5dd7847667649dfa0a57ead1ef7c911": {
      "model_module": "@jupyter-widgets/controls",
      "model_module_version": "1.5.0",
      "model_name": "VBoxModel",
      "state": {
       "_dom_classes": [
        "widget-interact"
       ],
       "children": [
        "IPY_MODEL_124d0e57349c4fb1b684a31c6b5053ae",
        "IPY_MODEL_fd1d5dcb79a24ae892560ff5b4c9498e"
       ],
       "layout": "IPY_MODEL_2c411611af1b444ea67b12f0168ccef0"
      }
     },
     "b646eaefbc784ae39dc753731d6d02bb": {
      "model_module": "@jupyter-widgets/controls",
      "model_module_version": "1.5.0",
      "model_name": "SliderStyleModel",
      "state": {
       "description_width": ""
      }
     },
     "b7596eac5ac546f088c496cc42b76df2": {
      "model_module": "@jupyter-widgets/base",
      "model_module_version": "1.2.0",
      "model_name": "LayoutModel",
      "state": {}
     },
     "b779b4d695bf4bdd9c76f93bea5f660b": {
      "model_module": "@jupyter-widgets/controls",
      "model_module_version": "1.5.0",
      "model_name": "IntSliderModel",
      "state": {
       "layout": "IPY_MODEL_50c22a49aad9425abaa42efb46fdac01",
       "readout": false,
       "style": "IPY_MODEL_a424de102a464977bd30af914f693de9"
      }
     },
     "b7f275e0516748f0bdc2cfc35705dfcc": {
      "model_module": "@jupyter-widgets/controls",
      "model_module_version": "1.5.0",
      "model_name": "IntSliderModel",
      "state": {
       "layout": "IPY_MODEL_1800791e017c46be8f4d222a0156854b",
       "readout": false,
       "style": "IPY_MODEL_15063d897aa84d4790a5b02479af2511"
      }
     },
     "b836cbcc262348378d8a84faa1d8288a": {
      "model_module": "@jupyter-widgets/base",
      "model_module_version": "1.2.0",
      "model_name": "LayoutModel",
      "state": {}
     },
     "b884c4db83cb44678fc188b563eb8c7b": {
      "model_module": "@jupyter-widgets/base",
      "model_module_version": "1.2.0",
      "model_name": "LayoutModel",
      "state": {}
     },
     "b88752bb1e1247c1b40b9a6adf432c41": {
      "model_module": "@jupyter-widgets/base",
      "model_module_version": "1.2.0",
      "model_name": "LayoutModel",
      "state": {}
     },
     "b98eab2fbed84a73a928691d05bf6236": {
      "model_module": "@jupyter-widgets/base",
      "model_module_version": "1.2.0",
      "model_name": "LayoutModel",
      "state": {}
     },
     "b9a69ea490cd42de8ffb258af2986556": {
      "model_module": "jupyter-matplotlib",
      "model_module_version": "^0.10.1",
      "model_name": "ToolbarModel",
      "state": {
       "layout": "IPY_MODEL_a22b40c98eec43c9933f5dbbb84eecf8",
       "toolitems": [
        [
         "Home",
         "Reset original view",
         "home",
         "home"
        ],
        [
         "Back",
         "Back to previous view",
         "arrow-left",
         "back"
        ],
        [
         "Forward",
         "Forward to next view",
         "arrow-right",
         "forward"
        ],
        [
         "Pan",
         "Left button pans, Right button zooms\nx/y fixes axis, CTRL fixes aspect",
         "arrows",
         "pan"
        ],
        [
         "Zoom",
         "Zoom to rectangle\nx/y fixes axis, CTRL fixes aspect",
         "square-o",
         "zoom"
        ],
        [
         "Download",
         "Download plot",
         "floppy-o",
         "save_figure"
        ]
       ]
      }
     },
     "ba37ea470cd741d2bedd460740673b6f": {
      "model_module": "jupyter-matplotlib",
      "model_module_version": "^0.10.1",
      "model_name": "ToolbarModel",
      "state": {
       "layout": "IPY_MODEL_a2193ac74bab47f081d914b1c28f87e4",
       "toolitems": [
        [
         "Home",
         "Reset original view",
         "home",
         "home"
        ],
        [
         "Back",
         "Back to previous view",
         "arrow-left",
         "back"
        ],
        [
         "Forward",
         "Forward to next view",
         "arrow-right",
         "forward"
        ],
        [
         "Pan",
         "Left button pans, Right button zooms\nx/y fixes axis, CTRL fixes aspect",
         "arrows",
         "pan"
        ],
        [
         "Zoom",
         "Zoom to rectangle\nx/y fixes axis, CTRL fixes aspect",
         "square-o",
         "zoom"
        ],
        [
         "Download",
         "Download plot",
         "floppy-o",
         "save_figure"
        ]
       ]
      }
     },
     "ba77eb10549f4fcb87f223d4c9d7cc8a": {
      "model_module": "@jupyter-widgets/base",
      "model_module_version": "1.2.0",
      "model_name": "LayoutModel",
      "state": {}
     },
     "bb9bb19715a6475db7f3ee0712b37db9": {
      "model_module": "@jupyter-widgets/controls",
      "model_module_version": "1.5.0",
      "model_name": "IntSliderModel",
      "state": {
       "description": "l",
       "layout": "IPY_MODEL_d4a3210f07f247698685402b63d41fe7",
       "readout": false,
       "style": "IPY_MODEL_4fbc3d7eec5c48dc9a3673439a485de5"
      }
     },
     "bc3ed520126f4804959adf566505ad93": {
      "model_module": "@jupyter-widgets/controls",
      "model_module_version": "1.5.0",
      "model_name": "SliderStyleModel",
      "state": {
       "description_width": ""
      }
     },
     "bd0eec39c7704b708f99b73a7ac68aac": {
      "model_module": "@jupyter-widgets/controls",
      "model_module_version": "1.5.0",
      "model_name": "IntSliderModel",
      "state": {
       "layout": "IPY_MODEL_a5c8562ea0c44ccf9dca0db28bdb1b35",
       "readout": false,
       "style": "IPY_MODEL_2c416e37bd4547e685e3c61aa3c8444e"
      }
     },
     "bd7c0b3a45be454a8a6e49dc91b91701": {
      "model_module": "@jupyter-widgets/base",
      "model_module_version": "1.2.0",
      "model_name": "LayoutModel",
      "state": {}
     },
     "bd8c7714684a4b3781ff518a3186de5f": {
      "model_module": "@jupyter-widgets/base",
      "model_module_version": "1.2.0",
      "model_name": "LayoutModel",
      "state": {}
     },
     "be00f999e54448e288bc2761fff63689": {
      "model_module": "@jupyter-widgets/controls",
      "model_module_version": "1.5.0",
      "model_name": "VBoxModel",
      "state": {
       "_dom_classes": [
        "widget-interact"
       ],
       "children": [
        "IPY_MODEL_c771d84229d444468b34360206b972dc",
        "IPY_MODEL_4b82c8af25ce4cef874dd6193b36577f"
       ],
       "layout": "IPY_MODEL_adf3f17bec13460b9a7f1aef26440760"
      }
     },
     "be09a6fd57bd4ec884d821ce60fd793c": {
      "model_module": "@jupyter-widgets/base",
      "model_module_version": "1.2.0",
      "model_name": "LayoutModel",
      "state": {}
     },
     "be97b99dbcf14ccbb7a6b04ff7b727b9": {
      "model_module": "@jupyter-widgets/base",
      "model_module_version": "1.2.0",
      "model_name": "LayoutModel",
      "state": {}
     },
     "beebfb822f2b4512b1b40199d649ad05": {
      "model_module": "@jupyter-widgets/controls",
      "model_module_version": "1.5.0",
      "model_name": "SliderStyleModel",
      "state": {
       "description_width": ""
      }
     },
     "c067d6049cba418b96672c3f9743d3e5": {
      "model_module": "@jupyter-widgets/base",
      "model_module_version": "1.2.0",
      "model_name": "LayoutModel",
      "state": {}
     },
     "c0b5a59e37044fe580a819a50cbe6a13": {
      "model_module": "@jupyter-widgets/controls",
      "model_module_version": "1.5.0",
      "model_name": "IntSliderModel",
      "state": {
       "layout": "IPY_MODEL_dc6e59af1cd14b059b5386bf590b0aa7",
       "readout": false,
       "style": "IPY_MODEL_ab2e1859c99a48e0bec6e80821e95fef"
      }
     },
     "c1202004892643768bf5660aadeddf3a": {
      "model_module": "@jupyter-widgets/base",
      "model_module_version": "1.2.0",
      "model_name": "LayoutModel",
      "state": {}
     },
     "c15ab5dd52584019bdce3106885121ca": {
      "model_module": "@jupyter-widgets/base",
      "model_module_version": "1.2.0",
      "model_name": "LayoutModel",
      "state": {}
     },
     "c18bac0d7c3645039c1f6bce41c482ff": {
      "model_module": "@jupyter-widgets/controls",
      "model_module_version": "1.5.0",
      "model_name": "SliderStyleModel",
      "state": {
       "description_width": ""
      }
     },
     "c18c08f5ce594d4f9410a516c59fe98b": {
      "model_module": "@jupyter-widgets/base",
      "model_module_version": "1.2.0",
      "model_name": "LayoutModel",
      "state": {}
     },
     "c1f24a01ba0547cda88fbe4a4e78fbb6": {
      "model_module": "jupyter-matplotlib",
      "model_module_version": "^0.10.1",
      "model_name": "ToolbarModel",
      "state": {
       "layout": "IPY_MODEL_4e6dfc67efb14eea932216528d630459",
       "toolitems": [
        [
         "Home",
         "Reset original view",
         "home",
         "home"
        ],
        [
         "Back",
         "Back to previous view",
         "arrow-left",
         "back"
        ],
        [
         "Forward",
         "Forward to next view",
         "arrow-right",
         "forward"
        ],
        [
         "Pan",
         "Left button pans, Right button zooms\nx/y fixes axis, CTRL fixes aspect",
         "arrows",
         "pan"
        ],
        [
         "Zoom",
         "Zoom to rectangle\nx/y fixes axis, CTRL fixes aspect",
         "square-o",
         "zoom"
        ],
        [
         "Download",
         "Download plot",
         "floppy-o",
         "save_figure"
        ]
       ]
      }
     },
     "c2227f02c9304219b88edb4f6a661a50": {
      "model_module": "jupyter-matplotlib",
      "model_module_version": "^0.10.1",
      "model_name": "ToolbarModel",
      "state": {
       "layout": "IPY_MODEL_06799525caa54d11aa7be8b8f4b7e9ff",
       "toolitems": [
        [
         "Home",
         "Reset original view",
         "home",
         "home"
        ],
        [
         "Back",
         "Back to previous view",
         "arrow-left",
         "back"
        ],
        [
         "Forward",
         "Forward to next view",
         "arrow-right",
         "forward"
        ],
        [
         "Pan",
         "Left button pans, Right button zooms\nx/y fixes axis, CTRL fixes aspect",
         "arrows",
         "pan"
        ],
        [
         "Zoom",
         "Zoom to rectangle\nx/y fixes axis, CTRL fixes aspect",
         "square-o",
         "zoom"
        ],
        [
         "Download",
         "Download plot",
         "floppy-o",
         "save_figure"
        ]
       ]
      }
     },
     "c24785cea0f643259efdb5c62e785f64": {
      "model_module": "@jupyter-widgets/base",
      "model_module_version": "1.2.0",
      "model_name": "LayoutModel",
      "state": {}
     },
     "c330019455dd41429a789865a199a178": {
      "model_module": "@jupyter-widgets/base",
      "model_module_version": "1.2.0",
      "model_name": "LayoutModel",
      "state": {}
     },
     "c4979f291a984598a374dce7f54c614c": {
      "model_module": "@jupyter-widgets/base",
      "model_module_version": "1.2.0",
      "model_name": "LayoutModel",
      "state": {}
     },
     "c4a9c6a35ee548908ed2f14f32d0479b": {
      "model_module": "@jupyter-widgets/base",
      "model_module_version": "1.2.0",
      "model_name": "LayoutModel",
      "state": {}
     },
     "c50f233403674eaa9efa513db23308ee": {
      "model_module": "@jupyter-widgets/output",
      "model_module_version": "1.0.0",
      "model_name": "OutputModel",
      "state": {
       "layout": "IPY_MODEL_f35d92b715114c14a7ee62eb761c2cbe"
      }
     },
     "c51330da1e1642ccb96bd7562ea81cea": {
      "model_module": "@jupyter-widgets/base",
      "model_module_version": "1.2.0",
      "model_name": "LayoutModel",
      "state": {}
     },
     "c563c5b1f6654c20a035c17ae3eba4fc": {
      "model_module": "@jupyter-widgets/base",
      "model_module_version": "1.2.0",
      "model_name": "LayoutModel",
      "state": {}
     },
     "c5a3f999f9f64d8b9da4ab9b9d2244ca": {
      "model_module": "@jupyter-widgets/controls",
      "model_module_version": "1.5.0",
      "model_name": "IntSliderModel",
      "state": {
       "continuous_update": false,
       "layout": "IPY_MODEL_c5c0603376584851bb19a5666c6156aa",
       "max": 10,
       "readout": false,
       "step": 0,
       "style": "IPY_MODEL_d708f21b753044208c5d2c4d65cc3490"
      }
     },
     "c5c0603376584851bb19a5666c6156aa": {
      "model_module": "@jupyter-widgets/base",
      "model_module_version": "1.2.0",
      "model_name": "LayoutModel",
      "state": {}
     },
     "c6a6c339d61240b980e7420af03659ac": {
      "model_module": "@jupyter-widgets/base",
      "model_module_version": "1.2.0",
      "model_name": "LayoutModel",
      "state": {}
     },
     "c771d84229d444468b34360206b972dc": {
      "model_module": "@jupyter-widgets/controls",
      "model_module_version": "1.5.0",
      "model_name": "IntSliderModel",
      "state": {
       "description": "l",
       "layout": "IPY_MODEL_be97b99dbcf14ccbb7a6b04ff7b727b9",
       "readout": false,
       "style": "IPY_MODEL_357173cfed9342848c696fcee5ec5a06",
       "value": 49
      }
     },
     "c7a58a7432fc487e8dca95b0a213b284": {
      "model_module": "@jupyter-widgets/controls",
      "model_module_version": "1.5.0",
      "model_name": "IntSliderModel",
      "state": {
       "continuous_update": false,
       "layout": "IPY_MODEL_81de63e43d514b1f8c45460b387068f1",
       "max": 10,
       "readout": false,
       "style": "IPY_MODEL_8deb27f199d847d793c616390dff491e"
      }
     },
     "c7caed9f3dae4661a26f67a0c465ab14": {
      "model_module": "@jupyter-widgets/controls",
      "model_module_version": "1.5.0",
      "model_name": "SliderStyleModel",
      "state": {
       "description_width": ""
      }
     },
     "c8117ec0eda24e7786e8ee397fbfc4a3": {
      "model_module": "@jupyter-widgets/base",
      "model_module_version": "1.2.0",
      "model_name": "LayoutModel",
      "state": {}
     },
     "c856f36d438e4574820e434cf2b46cdb": {
      "model_module": "@jupyter-widgets/controls",
      "model_module_version": "1.5.0",
      "model_name": "IntSliderModel",
      "state": {
       "layout": "IPY_MODEL_4e04caaaf3544d53aefdc9bf14cde35b",
       "readout": false,
       "style": "IPY_MODEL_909012e57cf443af86329ee7592cbec3",
       "value": 86
      }
     },
     "c9ba7a5c92c448258a16fd241cc4292b": {
      "model_module": "@jupyter-widgets/base",
      "model_module_version": "1.2.0",
      "model_name": "LayoutModel",
      "state": {}
     },
     "c9eead7d1655437d8f4716d95893a626": {
      "model_module": "@jupyter-widgets/controls",
      "model_module_version": "1.5.0",
      "model_name": "SliderStyleModel",
      "state": {
       "description_width": ""
      }
     },
     "ca20d6f883fd4e5c97b92f0e65672a32": {
      "model_module": "@jupyter-widgets/base",
      "model_module_version": "1.2.0",
      "model_name": "LayoutModel",
      "state": {}
     },
     "caa87547671245ab8d8d8b408811a6dc": {
      "model_module": "@jupyter-widgets/base",
      "model_module_version": "1.2.0",
      "model_name": "LayoutModel",
      "state": {}
     },
     "cb163e2ef93c433f9c7f3d3d39ea4c22": {
      "model_module": "@jupyter-widgets/controls",
      "model_module_version": "1.5.0",
      "model_name": "SliderStyleModel",
      "state": {
       "description_width": ""
      }
     },
     "cc177a4de407409886b31fb263ddd91f": {
      "model_module": "@jupyter-widgets/controls",
      "model_module_version": "1.5.0",
      "model_name": "IntSliderModel",
      "state": {
       "continuous_update": false,
       "layout": "IPY_MODEL_1b3a25263f614418b41ad9ec87917e62",
       "max": 10,
       "readout": false,
       "step": 0,
       "style": "IPY_MODEL_8ad837c2b5e44d5ba9760e24b4c4c1f9"
      }
     },
     "cc7efee10b434dc09dfe4d7553382e1a": {
      "model_module": "@jupyter-widgets/controls",
      "model_module_version": "1.5.0",
      "model_name": "SliderStyleModel",
      "state": {
       "description_width": ""
      }
     },
     "cc82d3bc404d40ac929a182f729cf2f6": {
      "model_module": "@jupyter-widgets/output",
      "model_module_version": "1.0.0",
      "model_name": "OutputModel",
      "state": {
       "layout": "IPY_MODEL_43cd6f36b1b94f739c5397a3fe4a1900"
      }
     },
     "ccaee13645a34e0298bc062bd06533d9": {
      "model_module": "@jupyter-widgets/controls",
      "model_module_version": "1.5.0",
      "model_name": "IntSliderModel",
      "state": {
       "continuous_update": false,
       "layout": "IPY_MODEL_d381618c22494e09940ff2203075248f",
       "readout": false,
       "style": "IPY_MODEL_47838e2bf53b43258c7c8a2855615332",
       "value": 23
      }
     },
     "ccdd3840a7674541b1aa8052e32cbee3": {
      "model_module": "@jupyter-widgets/controls",
      "model_module_version": "1.5.0",
      "model_name": "SliderStyleModel",
      "state": {
       "description_width": ""
      }
     },
     "cce826c51ab64de1a7839959060e545a": {
      "model_module": "@jupyter-widgets/base",
      "model_module_version": "1.2.0",
      "model_name": "LayoutModel",
      "state": {}
     },
     "cd517a0c172c49c6a983f9a0a626e3df": {
      "model_module": "jupyter-matplotlib",
      "model_module_version": "^0.10.1",
      "model_name": "ToolbarModel",
      "state": {
       "layout": "IPY_MODEL_3ee35e87aa7d4eb09e18b3aa25d9fc58",
       "toolitems": [
        [
         "Home",
         "Reset original view",
         "home",
         "home"
        ],
        [
         "Back",
         "Back to previous view",
         "arrow-left",
         "back"
        ],
        [
         "Forward",
         "Forward to next view",
         "arrow-right",
         "forward"
        ],
        [
         "Pan",
         "Left button pans, Right button zooms\nx/y fixes axis, CTRL fixes aspect",
         "arrows",
         "pan"
        ],
        [
         "Zoom",
         "Zoom to rectangle\nx/y fixes axis, CTRL fixes aspect",
         "square-o",
         "zoom"
        ],
        [
         "Download",
         "Download plot",
         "floppy-o",
         "save_figure"
        ]
       ]
      }
     },
     "cd89e69b2b5f43d19de71b388c2fe196": {
      "model_module": "@jupyter-widgets/controls",
      "model_module_version": "1.5.0",
      "model_name": "IntSliderModel",
      "state": {
       "layout": "IPY_MODEL_053f1e2ba671420eb898bccc463e1743",
       "readout": false,
       "style": "IPY_MODEL_c9eead7d1655437d8f4716d95893a626"
      }
     },
     "cda79434008242f8a97084ca178a251e": {
      "model_module": "@jupyter-widgets/controls",
      "model_module_version": "1.5.0",
      "model_name": "IntSliderModel",
      "state": {
       "description": "l",
       "layout": "IPY_MODEL_72f69bd2243a46be9ba6d53cf6efa152",
       "readout": false,
       "style": "IPY_MODEL_c7caed9f3dae4661a26f67a0c465ab14",
       "value": 52
      }
     },
     "cddb7e0c8d83495392bdd1bb30b404c9": {
      "model_module": "@jupyter-widgets/controls",
      "model_module_version": "1.5.0",
      "model_name": "VBoxModel",
      "state": {
       "_dom_classes": [
        "widget-interact"
       ],
       "children": [
        "IPY_MODEL_e2d0bac2019b4154881943adc6e6b9b1",
        "IPY_MODEL_96786313446541c884f04861a3f9112e"
       ],
       "layout": "IPY_MODEL_41629bbe112f44d1a8429639538f6b43"
      }
     },
     "ceea2f817d3742edb21dec1c46d76970": {
      "model_module": "@jupyter-widgets/base",
      "model_module_version": "1.2.0",
      "model_name": "LayoutModel",
      "state": {}
     },
     "cf87e65b6c8d41db9d7296c7f0105f4b": {
      "model_module": "@jupyter-widgets/controls",
      "model_module_version": "1.5.0",
      "model_name": "IntSliderModel",
      "state": {
       "continuous_update": false,
       "layout": "IPY_MODEL_25ce5d02b92b4c15944527a58b215e02",
       "max": 10,
       "readout": false,
       "step": 0,
       "style": "IPY_MODEL_91d13522985e47c197a99fe5fbc3af8c"
      }
     },
     "d00c7c8d10bb4ff3b53aad5d7f68d4d2": {
      "model_module": "@jupyter-widgets/controls",
      "model_module_version": "1.5.0",
      "model_name": "SliderStyleModel",
      "state": {
       "description_width": ""
      }
     },
     "d06032f07843453db7b93d50ecc44e48": {
      "model_module": "@jupyter-widgets/base",
      "model_module_version": "1.2.0",
      "model_name": "LayoutModel",
      "state": {}
     },
     "d0b2c96fec564fca9c96245c2d7da241": {
      "model_module": "@jupyter-widgets/base",
      "model_module_version": "1.2.0",
      "model_name": "LayoutModel",
      "state": {}
     },
     "d0e1965db6d544cdab9ced513ee2c198": {
      "model_module": "@jupyter-widgets/base",
      "model_module_version": "1.2.0",
      "model_name": "LayoutModel",
      "state": {}
     },
     "d0e7a8ef17fd4c49ad5fa8112c2afede": {
      "model_module": "@jupyter-widgets/controls",
      "model_module_version": "1.5.0",
      "model_name": "IntSliderModel",
      "state": {
       "layout": "IPY_MODEL_c4979f291a984598a374dce7f54c614c",
       "readout": false,
       "style": "IPY_MODEL_219b22292df64e9cb20cf2d99fbf6bf9",
       "value": 63
      }
     },
     "d1888aa82d1e4032b56a4ebe9386cc3e": {
      "model_module": "@jupyter-widgets/base",
      "model_module_version": "1.2.0",
      "model_name": "LayoutModel",
      "state": {}
     },
     "d1ae0a2eae6f4a5a83fb15aae2cd374a": {
      "model_module": "@jupyter-widgets/base",
      "model_module_version": "1.2.0",
      "model_name": "LayoutModel",
      "state": {}
     },
     "d1c46191137b4d35b56fc3e82343e8b1": {
      "model_module": "@jupyter-widgets/base",
      "model_module_version": "1.2.0",
      "model_name": "LayoutModel",
      "state": {}
     },
     "d334e314a61a4eb4ae6915fa2b48f64d": {
      "model_module": "@jupyter-widgets/controls",
      "model_module_version": "1.5.0",
      "model_name": "IntSliderModel",
      "state": {
       "continuous_update": false,
       "layout": "IPY_MODEL_20682ca8b0cf4b918fae8e37e9cb4cc3",
       "max": 10,
       "readout": false,
       "step": 0,
       "style": "IPY_MODEL_64e5be254fba443c8f9e63660952f7f4"
      }
     },
     "d34e30b46ae644d7bed833dd182a8206": {
      "model_module": "@jupyter-widgets/controls",
      "model_module_version": "1.5.0",
      "model_name": "IntSliderModel",
      "state": {
       "continuous_update": false,
       "layout": "IPY_MODEL_ea185481b6f740fe97d52435f295a7c0",
       "max": 10,
       "readout": false,
       "style": "IPY_MODEL_057b9d8248044da18a523403f55b4734"
      }
     },
     "d381618c22494e09940ff2203075248f": {
      "model_module": "@jupyter-widgets/base",
      "model_module_version": "1.2.0",
      "model_name": "LayoutModel",
      "state": {}
     },
     "d48ec64ed5d24cd7967310aed194d946": {
      "model_module": "@jupyter-widgets/base",
      "model_module_version": "1.2.0",
      "model_name": "LayoutModel",
      "state": {}
     },
     "d4a3210f07f247698685402b63d41fe7": {
      "model_module": "@jupyter-widgets/base",
      "model_module_version": "1.2.0",
      "model_name": "LayoutModel",
      "state": {}
     },
     "d5e4e3e03935475a8be9013a77efe464": {
      "model_module": "@jupyter-widgets/base",
      "model_module_version": "1.2.0",
      "model_name": "LayoutModel",
      "state": {}
     },
     "d6856336880b40749b96ed39338fe623": {
      "model_module": "@jupyter-widgets/output",
      "model_module_version": "1.0.0",
      "model_name": "OutputModel",
      "state": {
       "layout": "IPY_MODEL_7ea8bb65057c4190b873cd9b22c7b87c"
      }
     },
     "d6c560cca59848f0b005069fd90d5e55": {
      "model_module": "@jupyter-widgets/controls",
      "model_module_version": "1.5.0",
      "model_name": "SliderStyleModel",
      "state": {
       "description_width": ""
      }
     },
     "d708f21b753044208c5d2c4d65cc3490": {
      "model_module": "@jupyter-widgets/controls",
      "model_module_version": "1.5.0",
      "model_name": "SliderStyleModel",
      "state": {
       "description_width": ""
      }
     },
     "d7373abc1ddc47f6ab27f2aad2b923f7": {
      "model_module": "jupyter-matplotlib",
      "model_module_version": "^0.10.1",
      "model_name": "ToolbarModel",
      "state": {
       "layout": "IPY_MODEL_70d0abf278c14d0abb769f40ec55fbfd",
       "toolitems": [
        [
         "Home",
         "Reset original view",
         "home",
         "home"
        ],
        [
         "Back",
         "Back to previous view",
         "arrow-left",
         "back"
        ],
        [
         "Forward",
         "Forward to next view",
         "arrow-right",
         "forward"
        ],
        [
         "Pan",
         "Left button pans, Right button zooms\nx/y fixes axis, CTRL fixes aspect",
         "arrows",
         "pan"
        ],
        [
         "Zoom",
         "Zoom to rectangle\nx/y fixes axis, CTRL fixes aspect",
         "square-o",
         "zoom"
        ],
        [
         "Download",
         "Download plot",
         "floppy-o",
         "save_figure"
        ]
       ]
      }
     },
     "d7ec200ef85b4e89abc21e5dcb1fb122": {
      "model_module": "@jupyter-widgets/base",
      "model_module_version": "1.2.0",
      "model_name": "LayoutModel",
      "state": {}
     },
     "d86c61f0c46345caa18e225d40ad2272": {
      "model_module": "jupyter-matplotlib",
      "model_module_version": "^0.10.1",
      "model_name": "ToolbarModel",
      "state": {
       "layout": "IPY_MODEL_ceea2f817d3742edb21dec1c46d76970",
       "toolitems": [
        [
         "Home",
         "Reset original view",
         "home",
         "home"
        ],
        [
         "Back",
         "Back to previous view",
         "arrow-left",
         "back"
        ],
        [
         "Forward",
         "Forward to next view",
         "arrow-right",
         "forward"
        ],
        [
         "Pan",
         "Left button pans, Right button zooms\nx/y fixes axis, CTRL fixes aspect",
         "arrows",
         "pan"
        ],
        [
         "Zoom",
         "Zoom to rectangle\nx/y fixes axis, CTRL fixes aspect",
         "square-o",
         "zoom"
        ],
        [
         "Download",
         "Download plot",
         "floppy-o",
         "save_figure"
        ]
       ]
      }
     },
     "d8a0709c66744ed181a9fb22ec73a7f0": {
      "model_module": "@jupyter-widgets/base",
      "model_module_version": "1.2.0",
      "model_name": "LayoutModel",
      "state": {}
     },
     "d8ae43a1fef4410d83184452ba19ff46": {
      "model_module": "jupyter-matplotlib",
      "model_module_version": "^0.10.1",
      "model_name": "ToolbarModel",
      "state": {
       "layout": "IPY_MODEL_ee430b8a664c469e824cf5abb146ecdc",
       "toolitems": [
        [
         "Home",
         "Reset original view",
         "home",
         "home"
        ],
        [
         "Back",
         "Back to previous view",
         "arrow-left",
         "back"
        ],
        [
         "Forward",
         "Forward to next view",
         "arrow-right",
         "forward"
        ],
        [
         "Pan",
         "Left button pans, Right button zooms\nx/y fixes axis, CTRL fixes aspect",
         "arrows",
         "pan"
        ],
        [
         "Zoom",
         "Zoom to rectangle\nx/y fixes axis, CTRL fixes aspect",
         "square-o",
         "zoom"
        ],
        [
         "Download",
         "Download plot",
         "floppy-o",
         "save_figure"
        ]
       ]
      }
     },
     "da161aeff6fc41ec8097ec245a8633fc": {
      "model_module": "@jupyter-widgets/controls",
      "model_module_version": "1.5.0",
      "model_name": "SliderStyleModel",
      "state": {
       "description_width": ""
      }
     },
     "da39aca4d2c8427089a1994db06bc5f9": {
      "model_module": "@jupyter-widgets/base",
      "model_module_version": "1.2.0",
      "model_name": "LayoutModel",
      "state": {}
     },
     "db82814716eb4e4385a2fb243f2d81e2": {
      "model_module": "@jupyter-widgets/base",
      "model_module_version": "1.2.0",
      "model_name": "LayoutModel",
      "state": {}
     },
     "dbf881de3c694ef0a14759a66c3bcb98": {
      "model_module": "@jupyter-widgets/base",
      "model_module_version": "1.2.0",
      "model_name": "LayoutModel",
      "state": {}
     },
     "dc08a132010b47a5809435c91fb65bcb": {
      "model_module": "@jupyter-widgets/base",
      "model_module_version": "1.2.0",
      "model_name": "LayoutModel",
      "state": {}
     },
     "dc6e59af1cd14b059b5386bf590b0aa7": {
      "model_module": "@jupyter-widgets/base",
      "model_module_version": "1.2.0",
      "model_name": "LayoutModel",
      "state": {}
     },
     "dcdcf63ff9034c32ade322993d09b8ee": {
      "model_module": "@jupyter-widgets/controls",
      "model_module_version": "1.5.0",
      "model_name": "SliderStyleModel",
      "state": {
       "description_width": ""
      }
     },
     "dcea1d1da5e04a3c8d4a541c3d086fad": {
      "model_module": "@jupyter-widgets/base",
      "model_module_version": "1.2.0",
      "model_name": "LayoutModel",
      "state": {}
     },
     "dd5b6fe40d7948d49d712075ae095e34": {
      "model_module": "jupyter-matplotlib",
      "model_module_version": "^0.10.1",
      "model_name": "ToolbarModel",
      "state": {
       "layout": "IPY_MODEL_374fc8647c0a4bddb1e2b84fb21fd2e3",
       "toolitems": [
        [
         "Home",
         "Reset original view",
         "home",
         "home"
        ],
        [
         "Back",
         "Back to previous view",
         "arrow-left",
         "back"
        ],
        [
         "Forward",
         "Forward to next view",
         "arrow-right",
         "forward"
        ],
        [
         "Pan",
         "Left button pans, Right button zooms\nx/y fixes axis, CTRL fixes aspect",
         "arrows",
         "pan"
        ],
        [
         "Zoom",
         "Zoom to rectangle\nx/y fixes axis, CTRL fixes aspect",
         "square-o",
         "zoom"
        ],
        [
         "Download",
         "Download plot",
         "floppy-o",
         "save_figure"
        ]
       ]
      }
     },
     "de33923b04554feebaad168565db456c": {
      "model_module": "@jupyter-widgets/base",
      "model_module_version": "1.2.0",
      "model_name": "LayoutModel",
      "state": {}
     },
     "de35fb5e0a754d74ace478b51545df0b": {
      "model_module": "jupyter-matplotlib",
      "model_module_version": "^0.10.1",
      "model_name": "ToolbarModel",
      "state": {
       "layout": "IPY_MODEL_4ec20d0a414e43d5a5a24a486ee8ee95",
       "toolitems": [
        [
         "Home",
         "Reset original view",
         "home",
         "home"
        ],
        [
         "Back",
         "Back to previous view",
         "arrow-left",
         "back"
        ],
        [
         "Forward",
         "Forward to next view",
         "arrow-right",
         "forward"
        ],
        [
         "Pan",
         "Left button pans, Right button zooms\nx/y fixes axis, CTRL fixes aspect",
         "arrows",
         "pan"
        ],
        [
         "Zoom",
         "Zoom to rectangle\nx/y fixes axis, CTRL fixes aspect",
         "square-o",
         "zoom"
        ],
        [
         "Download",
         "Download plot",
         "floppy-o",
         "save_figure"
        ]
       ]
      }
     },
     "de5222a5a424493b970b40c458de02c4": {
      "model_module": "@jupyter-widgets/base",
      "model_module_version": "1.2.0",
      "model_name": "LayoutModel",
      "state": {}
     },
     "dfedec24ead34e518953a0f6d36cfad5": {
      "model_module": "@jupyter-widgets/base",
      "model_module_version": "1.2.0",
      "model_name": "LayoutModel",
      "state": {}
     },
     "e035cead003947519a191153797e2127": {
      "model_module": "jupyter-matplotlib",
      "model_module_version": "^0.10.1",
      "model_name": "ToolbarModel",
      "state": {
       "layout": "IPY_MODEL_f64080b1cd374df5b5c93cf189da7564",
       "toolitems": [
        [
         "Home",
         "Reset original view",
         "home",
         "home"
        ],
        [
         "Back",
         "Back to previous view",
         "arrow-left",
         "back"
        ],
        [
         "Forward",
         "Forward to next view",
         "arrow-right",
         "forward"
        ],
        [
         "Pan",
         "Left button pans, Right button zooms\nx/y fixes axis, CTRL fixes aspect",
         "arrows",
         "pan"
        ],
        [
         "Zoom",
         "Zoom to rectangle\nx/y fixes axis, CTRL fixes aspect",
         "square-o",
         "zoom"
        ],
        [
         "Download",
         "Download plot",
         "floppy-o",
         "save_figure"
        ]
       ]
      }
     },
     "e1c24af2b11244238cefeadc484eb684": {
      "model_module": "@jupyter-widgets/base",
      "model_module_version": "1.2.0",
      "model_name": "LayoutModel",
      "state": {}
     },
     "e2d0bac2019b4154881943adc6e6b9b1": {
      "model_module": "@jupyter-widgets/controls",
      "model_module_version": "1.5.0",
      "model_name": "IntSliderModel",
      "state": {
       "description": "l",
       "layout": "IPY_MODEL_74c67ec2817e48749e4f5368935df17d",
       "readout": false,
       "style": "IPY_MODEL_7cc1de6fd0d14747956576d6bcdadf41"
      }
     },
     "e31fd263f62948a9bc5973ce50a64440": {
      "model_module": "@jupyter-widgets/output",
      "model_module_version": "1.0.0",
      "model_name": "OutputModel",
      "state": {
       "layout": "IPY_MODEL_04adeb01be574508b81e8a7593b5c2d8"
      }
     },
     "e331fdb8eeb24f5d82e29f2a59978036": {
      "model_module": "@jupyter-widgets/base",
      "model_module_version": "1.2.0",
      "model_name": "LayoutModel",
      "state": {}
     },
     "e377b5cfcab84df3aafdbb1d4d1ce7df": {
      "model_module": "@jupyter-widgets/base",
      "model_module_version": "1.2.0",
      "model_name": "LayoutModel",
      "state": {}
     },
     "e414be34f89b40c68da6eef35b4c281e": {
      "model_module": "@jupyter-widgets/controls",
      "model_module_version": "1.5.0",
      "model_name": "SliderStyleModel",
      "state": {
       "description_width": ""
      }
     },
     "e42e36707ae144ebbd0fb4cc8c3c86c4": {
      "model_module": "@jupyter-widgets/base",
      "model_module_version": "1.2.0",
      "model_name": "LayoutModel",
      "state": {}
     },
     "e477370fe01945baa661a09b97233676": {
      "model_module": "@jupyter-widgets/base",
      "model_module_version": "1.2.0",
      "model_name": "LayoutModel",
      "state": {}
     },
     "e4a2e763d2334d629dfaa0e18aad281b": {
      "model_module": "@jupyter-widgets/base",
      "model_module_version": "1.2.0",
      "model_name": "LayoutModel",
      "state": {}
     },
     "e50c8aa241ec4caa96b10ad3e98cc7b6": {
      "model_module": "@jupyter-widgets/controls",
      "model_module_version": "1.5.0",
      "model_name": "IntSliderModel",
      "state": {
       "continuous_update": false,
       "layout": "IPY_MODEL_94d815bbc26f405a9bde3eb35b41c27b",
       "max": 10,
       "readout": false,
       "style": "IPY_MODEL_a2535c9cf67744459563e2dc49548503",
       "value": 10
      }
     },
     "e56c35b1f5ea4d4ca93b9544a72981a4": {
      "model_module": "@jupyter-widgets/controls",
      "model_module_version": "1.5.0",
      "model_name": "SliderStyleModel",
      "state": {
       "description_width": ""
      }
     },
     "e584f6369a664433852747f50c84a675": {
      "model_module": "@jupyter-widgets/base",
      "model_module_version": "1.2.0",
      "model_name": "LayoutModel",
      "state": {}
     },
     "e77cda3f7e494ed7b7dc5921ea38246a": {
      "model_module": "@jupyter-widgets/base",
      "model_module_version": "1.2.0",
      "model_name": "LayoutModel",
      "state": {}
     },
     "e8c821713b384b10b9d112c7e3a760f6": {
      "model_module": "@jupyter-widgets/base",
      "model_module_version": "1.2.0",
      "model_name": "LayoutModel",
      "state": {}
     },
     "e93fb5a23b2e435881e707fd583449e7": {
      "model_module": "@jupyter-widgets/controls",
      "model_module_version": "1.5.0",
      "model_name": "SliderStyleModel",
      "state": {
       "description_width": ""
      }
     },
     "e9495d960b6a4c9b983e6bc7fd512a2b": {
      "model_module": "@jupyter-widgets/controls",
      "model_module_version": "1.5.0",
      "model_name": "IntSliderModel",
      "state": {
       "continuous_update": false,
       "layout": "IPY_MODEL_ab1c66c227034ae7aee472b4d8c25133",
       "max": 10,
       "readout": false,
       "style": "IPY_MODEL_a1d7a3ec8bb34498a2571f9f8974c3ae"
      }
     },
     "e94d2b9593224f6e846238d0c8f46e4e": {
      "model_module": "@jupyter-widgets/controls",
      "model_module_version": "1.5.0",
      "model_name": "IntSliderModel",
      "state": {
       "layout": "IPY_MODEL_31bbfda9981a4ab7bd2255a7d5dafaa9",
       "readout": false,
       "style": "IPY_MODEL_114b455fa638498aa784d14585c86580"
      }
     },
     "e9780a3188664c45968ca6c5f016ae40": {
      "model_module": "@jupyter-widgets/base",
      "model_module_version": "1.2.0",
      "model_name": "LayoutModel",
      "state": {}
     },
     "e9e5fd7758694eb6976069972d071a21": {
      "model_module": "@jupyter-widgets/controls",
      "model_module_version": "1.5.0",
      "model_name": "IntSliderModel",
      "state": {
       "layout": "IPY_MODEL_b98eab2fbed84a73a928691d05bf6236",
       "readout": false,
       "style": "IPY_MODEL_da161aeff6fc41ec8097ec245a8633fc"
      }
     },
     "ea185481b6f740fe97d52435f295a7c0": {
      "model_module": "@jupyter-widgets/base",
      "model_module_version": "1.2.0",
      "model_name": "LayoutModel",
      "state": {}
     },
     "ea52fc2f99ca4a6fb4587969ed23646b": {
      "model_module": "jupyter-matplotlib",
      "model_module_version": "^0.10.1",
      "model_name": "ToolbarModel",
      "state": {
       "layout": "IPY_MODEL_eef9026f56a64f5f8b5cd8850555ccf4",
       "toolitems": [
        [
         "Home",
         "Reset original view",
         "home",
         "home"
        ],
        [
         "Back",
         "Back to previous view",
         "arrow-left",
         "back"
        ],
        [
         "Forward",
         "Forward to next view",
         "arrow-right",
         "forward"
        ],
        [
         "Pan",
         "Left button pans, Right button zooms\nx/y fixes axis, CTRL fixes aspect",
         "arrows",
         "pan"
        ],
        [
         "Zoom",
         "Zoom to rectangle\nx/y fixes axis, CTRL fixes aspect",
         "square-o",
         "zoom"
        ],
        [
         "Download",
         "Download plot",
         "floppy-o",
         "save_figure"
        ]
       ]
      }
     },
     "eb8769ce5ae24ebebb684c18b65f22db": {
      "model_module": "@jupyter-widgets/controls",
      "model_module_version": "1.5.0",
      "model_name": "IntSliderModel",
      "state": {
       "layout": "IPY_MODEL_00cfcb539a3548f8b30dd3e2fbb43d32",
       "max": 10,
       "readout": false,
       "style": "IPY_MODEL_9e07a126a8af41f8b5007e149d587fc5"
      }
     },
     "ec133b540fe341eab0de76c6422b74b5": {
      "model_module": "@jupyter-widgets/base",
      "model_module_version": "1.2.0",
      "model_name": "LayoutModel",
      "state": {}
     },
     "ecafbea5fca24720a65c9828bb547c94": {
      "model_module": "@jupyter-widgets/base",
      "model_module_version": "1.2.0",
      "model_name": "LayoutModel",
      "state": {}
     },
     "ed2b8664a03044dd951b2d6476e1094d": {
      "model_module": "@jupyter-widgets/base",
      "model_module_version": "1.2.0",
      "model_name": "LayoutModel",
      "state": {}
     },
     "ee24b28edc174efeb9592e7fd1e88cee": {
      "model_module": "@jupyter-widgets/base",
      "model_module_version": "1.2.0",
      "model_name": "LayoutModel",
      "state": {}
     },
     "ee3b48242fe9413988d8fd9399e908e5": {
      "model_module": "@jupyter-widgets/controls",
      "model_module_version": "1.5.0",
      "model_name": "IntSliderModel",
      "state": {
       "layout": "IPY_MODEL_9f6d91f6d8c846cc95b68f13266b718b",
       "readout": false,
       "style": "IPY_MODEL_12b4a106b1d64b239436587f3f045358"
      }
     },
     "ee430b8a664c469e824cf5abb146ecdc": {
      "model_module": "@jupyter-widgets/base",
      "model_module_version": "1.2.0",
      "model_name": "LayoutModel",
      "state": {}
     },
     "eea6fcd50e474dfb90b22e20161df00f": {
      "model_module": "@jupyter-widgets/base",
      "model_module_version": "1.2.0",
      "model_name": "LayoutModel",
      "state": {}
     },
     "eeb5c693d1444e09bedb1186fb09ab0e": {
      "model_module": "@jupyter-widgets/base",
      "model_module_version": "1.2.0",
      "model_name": "LayoutModel",
      "state": {}
     },
     "eef9026f56a64f5f8b5cd8850555ccf4": {
      "model_module": "@jupyter-widgets/base",
      "model_module_version": "1.2.0",
      "model_name": "LayoutModel",
      "state": {}
     },
     "efbce1cd42f240e3a4f986497fff4be1": {
      "model_module": "@jupyter-widgets/base",
      "model_module_version": "1.2.0",
      "model_name": "LayoutModel",
      "state": {}
     },
     "f0fc580bb7c7454bbb637f34d3946c96": {
      "model_module": "@jupyter-widgets/base",
      "model_module_version": "1.2.0",
      "model_name": "LayoutModel",
      "state": {}
     },
     "f1817cb624964fb19e19f4c26d8f0f4a": {
      "model_module": "@jupyter-widgets/controls",
      "model_module_version": "1.5.0",
      "model_name": "SliderStyleModel",
      "state": {
       "description_width": ""
      }
     },
     "f1bae2eb99474abc9f198449f0c1910b": {
      "model_module": "@jupyter-widgets/controls",
      "model_module_version": "1.5.0",
      "model_name": "IntSliderModel",
      "state": {
       "continuous_update": false,
       "layout": "IPY_MODEL_db82814716eb4e4385a2fb243f2d81e2",
       "max": 10,
       "readout": false,
       "style": "IPY_MODEL_55be81a54a184b94ae4a91e5e93dc606",
       "value": 6
      }
     },
     "f1bcdbc048af41ee9e6a4aa0794cc599": {
      "model_module": "jupyter-matplotlib",
      "model_module_version": "^0.10.1",
      "model_name": "ToolbarModel",
      "state": {
       "layout": "IPY_MODEL_7d0ef8c742294e7b857ce7e23db2f484",
       "toolitems": [
        [
         "Home",
         "Reset original view",
         "home",
         "home"
        ],
        [
         "Back",
         "Back to previous view",
         "arrow-left",
         "back"
        ],
        [
         "Forward",
         "Forward to next view",
         "arrow-right",
         "forward"
        ],
        [
         "Pan",
         "Left button pans, Right button zooms\nx/y fixes axis, CTRL fixes aspect",
         "arrows",
         "pan"
        ],
        [
         "Zoom",
         "Zoom to rectangle\nx/y fixes axis, CTRL fixes aspect",
         "square-o",
         "zoom"
        ],
        [
         "Download",
         "Download plot",
         "floppy-o",
         "save_figure"
        ]
       ]
      }
     },
     "f1c91ca1da5246679654fe0f4d2d3363": {
      "model_module": "jupyter-matplotlib",
      "model_module_version": "^0.10.1",
      "model_name": "ToolbarModel",
      "state": {
       "layout": "IPY_MODEL_da39aca4d2c8427089a1994db06bc5f9",
       "toolitems": [
        [
         "Home",
         "Reset original view",
         "home",
         "home"
        ],
        [
         "Back",
         "Back to previous view",
         "arrow-left",
         "back"
        ],
        [
         "Forward",
         "Forward to next view",
         "arrow-right",
         "forward"
        ],
        [
         "Pan",
         "Left button pans, Right button zooms\nx/y fixes axis, CTRL fixes aspect",
         "arrows",
         "pan"
        ],
        [
         "Zoom",
         "Zoom to rectangle\nx/y fixes axis, CTRL fixes aspect",
         "square-o",
         "zoom"
        ],
        [
         "Download",
         "Download plot",
         "floppy-o",
         "save_figure"
        ]
       ]
      }
     },
     "f2c7ba3389d84606baa8e37a58648ae6": {
      "model_module": "@jupyter-widgets/controls",
      "model_module_version": "1.5.0",
      "model_name": "IntSliderModel",
      "state": {
       "continuous_update": false,
       "layout": "IPY_MODEL_8cc554b5f5f64c8b99d52de94b562642",
       "max": 10,
       "readout": false,
       "style": "IPY_MODEL_a21cf5702bb04c5e8b3ee81205e78d50",
       "value": 7
      }
     },
     "f2c8fbfdd8ed4b2b86900262bccf7279": {
      "model_module": "@jupyter-widgets/base",
      "model_module_version": "1.2.0",
      "model_name": "LayoutModel",
      "state": {}
     },
     "f2d7c518b5c748b8a34ba1dd6f4ed6bb": {
      "model_module": "@jupyter-widgets/controls",
      "model_module_version": "1.5.0",
      "model_name": "SliderStyleModel",
      "state": {
       "description_width": ""
      }
     },
     "f35d92b715114c14a7ee62eb761c2cbe": {
      "model_module": "@jupyter-widgets/base",
      "model_module_version": "1.2.0",
      "model_name": "LayoutModel",
      "state": {}
     },
     "f394d417b30146978333c12a08ecd6dd": {
      "model_module": "@jupyter-widgets/base",
      "model_module_version": "1.2.0",
      "model_name": "LayoutModel",
      "state": {}
     },
     "f42f003e113b4e76a601ad8a7d5739db": {
      "model_module": "@jupyter-widgets/base",
      "model_module_version": "1.2.0",
      "model_name": "LayoutModel",
      "state": {}
     },
     "f4543b75f59f412692ed3e2490c842df": {
      "model_module": "@jupyter-widgets/base",
      "model_module_version": "1.2.0",
      "model_name": "LayoutModel",
      "state": {}
     },
     "f4a99c6f95f74aec90edc1f50fddf2e0": {
      "model_module": "@jupyter-widgets/controls",
      "model_module_version": "1.5.0",
      "model_name": "SliderStyleModel",
      "state": {
       "description_width": ""
      }
     },
     "f4c648f10e93410bb2a3a2f28ace9285": {
      "model_module": "@jupyter-widgets/controls",
      "model_module_version": "1.5.0",
      "model_name": "IntSliderModel",
      "state": {
       "layout": "IPY_MODEL_f2c8fbfdd8ed4b2b86900262bccf7279",
       "readout": false,
       "style": "IPY_MODEL_525312054ec24ffbabd2fc9e20e9f02d"
      }
     },
     "f57f706731eb451986c8ced1b967c910": {
      "model_module": "@jupyter-widgets/controls",
      "model_module_version": "1.5.0",
      "model_name": "IntSliderModel",
      "state": {
       "continuous_update": false,
       "layout": "IPY_MODEL_e9780a3188664c45968ca6c5f016ae40",
       "max": 10,
       "readout": false,
       "step": 0,
       "style": "IPY_MODEL_8aff175e1c6d435e80903ded4883e80b"
      }
     },
     "f5f58da22f774c718a8fb660ed554b2c": {
      "model_module": "@jupyter-widgets/controls",
      "model_module_version": "1.5.0",
      "model_name": "SliderStyleModel",
      "state": {
       "description_width": ""
      }
     },
     "f5fb2762aaba432ebab460ae61a77cc0": {
      "model_module": "jupyter-matplotlib",
      "model_module_version": "^0.10.1",
      "model_name": "ToolbarModel",
      "state": {
       "layout": "IPY_MODEL_97d82de0b62d4fbb8925b95b6622a505",
       "toolitems": [
        [
         "Home",
         "Reset original view",
         "home",
         "home"
        ],
        [
         "Back",
         "Back to previous view",
         "arrow-left",
         "back"
        ],
        [
         "Forward",
         "Forward to next view",
         "arrow-right",
         "forward"
        ],
        [
         "Pan",
         "Left button pans, Right button zooms\nx/y fixes axis, CTRL fixes aspect",
         "arrows",
         "pan"
        ],
        [
         "Zoom",
         "Zoom to rectangle\nx/y fixes axis, CTRL fixes aspect",
         "square-o",
         "zoom"
        ],
        [
         "Download",
         "Download plot",
         "floppy-o",
         "save_figure"
        ]
       ]
      }
     },
     "f64080b1cd374df5b5c93cf189da7564": {
      "model_module": "@jupyter-widgets/base",
      "model_module_version": "1.2.0",
      "model_name": "LayoutModel",
      "state": {}
     },
     "f7005b4a3ebb4b52984b767fd898446b": {
      "model_module": "@jupyter-widgets/controls",
      "model_module_version": "1.5.0",
      "model_name": "SliderStyleModel",
      "state": {
       "description_width": ""
      }
     },
     "f7dfb61461ac4cf2a296e4f8ab6c85ce": {
      "model_module": "jupyter-matplotlib",
      "model_module_version": "^0.10.1",
      "model_name": "ToolbarModel",
      "state": {
       "layout": "IPY_MODEL_ed2b8664a03044dd951b2d6476e1094d",
       "toolitems": [
        [
         "Home",
         "Reset original view",
         "home",
         "home"
        ],
        [
         "Back",
         "Back to previous view",
         "arrow-left",
         "back"
        ],
        [
         "Forward",
         "Forward to next view",
         "arrow-right",
         "forward"
        ],
        [
         "Pan",
         "Left button pans, Right button zooms\nx/y fixes axis, CTRL fixes aspect",
         "arrows",
         "pan"
        ],
        [
         "Zoom",
         "Zoom to rectangle\nx/y fixes axis, CTRL fixes aspect",
         "square-o",
         "zoom"
        ],
        [
         "Download",
         "Download plot",
         "floppy-o",
         "save_figure"
        ]
       ]
      }
     },
     "f8f12b28bee8414e9d29b4189a798550": {
      "model_module": "@jupyter-widgets/base",
      "model_module_version": "1.2.0",
      "model_name": "LayoutModel",
      "state": {}
     },
     "f99abbc81f594d40a40231f97d66b8dd": {
      "model_module": "jupyter-matplotlib",
      "model_module_version": "^0.10.1",
      "model_name": "ToolbarModel",
      "state": {
       "layout": "IPY_MODEL_67b5c8ba28874cb6982dea4d7ad8a4ad",
       "toolitems": [
        [
         "Home",
         "Reset original view",
         "home",
         "home"
        ],
        [
         "Back",
         "Back to previous view",
         "arrow-left",
         "back"
        ],
        [
         "Forward",
         "Forward to next view",
         "arrow-right",
         "forward"
        ],
        [
         "Pan",
         "Left button pans, Right button zooms\nx/y fixes axis, CTRL fixes aspect",
         "arrows",
         "pan"
        ],
        [
         "Zoom",
         "Zoom to rectangle\nx/y fixes axis, CTRL fixes aspect",
         "square-o",
         "zoom"
        ],
        [
         "Download",
         "Download plot",
         "floppy-o",
         "save_figure"
        ]
       ]
      }
     },
     "fa0071909eb242d795c7526f709599e1": {
      "model_module": "@jupyter-widgets/base",
      "model_module_version": "1.2.0",
      "model_name": "LayoutModel",
      "state": {}
     },
     "fabbfffbaaf0463896fb0bd84996a1bc": {
      "model_module": "@jupyter-widgets/base",
      "model_module_version": "1.2.0",
      "model_name": "LayoutModel",
      "state": {}
     },
     "fb7e7b70bf5d41a18193f80f737fab22": {
      "model_module": "@jupyter-widgets/base",
      "model_module_version": "1.2.0",
      "model_name": "LayoutModel",
      "state": {}
     },
     "fc16e477795a4da3b80c59ef12ffeed5": {
      "model_module": "@jupyter-widgets/base",
      "model_module_version": "1.2.0",
      "model_name": "LayoutModel",
      "state": {}
     },
     "fd1d5dcb79a24ae892560ff5b4c9498e": {
      "model_module": "@jupyter-widgets/output",
      "model_module_version": "1.0.0",
      "model_name": "OutputModel",
      "state": {
       "layout": "IPY_MODEL_92b33f56e9834c1cab1906f84c7e0570"
      }
     },
     "feb288c393424dc285a7df69dc59f8a8": {
      "model_module": "@jupyter-widgets/controls",
      "model_module_version": "1.5.0",
      "model_name": "SliderStyleModel",
      "state": {
       "description_width": ""
      }
     },
     "fed7327f2290419f90cba366e85a9765": {
      "model_module": "@jupyter-widgets/base",
      "model_module_version": "1.2.0",
      "model_name": "LayoutModel",
      "state": {}
     },
     "fee396b59cd54e93b57916ea274b21de": {
      "model_module": "jupyter-matplotlib",
      "model_module_version": "^0.10.1",
      "model_name": "ToolbarModel",
      "state": {
       "layout": "IPY_MODEL_de33923b04554feebaad168565db456c",
       "toolitems": [
        [
         "Home",
         "Reset original view",
         "home",
         "home"
        ],
        [
         "Back",
         "Back to previous view",
         "arrow-left",
         "back"
        ],
        [
         "Forward",
         "Forward to next view",
         "arrow-right",
         "forward"
        ],
        [
         "Pan",
         "Left button pans, Right button zooms\nx/y fixes axis, CTRL fixes aspect",
         "arrows",
         "pan"
        ],
        [
         "Zoom",
         "Zoom to rectangle\nx/y fixes axis, CTRL fixes aspect",
         "square-o",
         "zoom"
        ],
        [
         "Download",
         "Download plot",
         "floppy-o",
         "save_figure"
        ]
       ]
      }
     },
     "ff3f3350673543f8a25626a03225aa85": {
      "model_module": "@jupyter-widgets/base",
      "model_module_version": "1.2.0",
      "model_name": "LayoutModel",
      "state": {}
     },
     "fffcc20e07f24bf89d0f77a394352608": {
      "model_module": "@jupyter-widgets/controls",
      "model_module_version": "1.5.0",
      "model_name": "SliderStyleModel",
      "state": {
       "description_width": ""
      }
     }
    },
    "version_major": 2,
    "version_minor": 0
   }
  }
 },
 "nbformat": 4,
 "nbformat_minor": 5
}
