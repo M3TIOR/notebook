{
 "cells": [
  {
   "cell_type": "markdown",
   "id": "2ff18bf0",
   "metadata": {},
   "source": [
    "# My Pseudomenstrual Cycle\n",
    "***A theoretical implementation of hormonal cycles for trans women like myself***\n",
    "\n",
    "### Preface\n",
    "The goal of this notebook entry is to define a potential method for trans women like me to administer ourselves hormonal cycles like those found in cis women. I'm one of those girls who has an obsession with bringing my hormones in line with that of our cis-ters. When I started trudging through scientific research papers for data, I thought I'd make my secondary objective to identify a plausible medical basis for the hypothesis that a hormonal cycle could benefit the breast development in MTF and Turner Syndrome populations. I figured it couldn't hurt to have a reason beyond my obsession with being like a cis girl to recommend cycling HRT.\n",
    "\n",
    "I had assumptions after reading from **(Hilton et al., 2017)**, the near exponential raise in bioavailable estradiol durring the end of the follicular phase, could be in part, to fuel\n",
    "the near week long period of rapid proliferation in the stroma. Since peak rapid mitosis occurs at the estrogen spike that closely resembles a $\\approx2^{x}$ exponential growth curve, the cells may need this volume of estrogen available to continue expansion at that speed. We already know this serves to replace the stromal cells, since without the estradiol present to fuel mitosis, the stroma decays and is replaced by fatty tissue as seen in post-menopause women. The second peak is predicated by the start of progesterone being introduced into the blood, which may signal for the stroma to either slow consumption of estradiol, or outright completely stop since the epithelium cells also need the presence of estradiol to act as a mitogenic agonist, but not before their specialization is coerced by the presence of elevated progesterone. I thought maybe my hypothesis held some water. It still may.\n",
    "\n",
    "Though, a clinical review done by Wierckx, et al. in 2014 which investigated the breast development of trans women recieving HRT spelled out a pretty bleak picture for breast volume plasticity. According to their data, 70% of trans women seek breast augmentation surgery. Even after a full 2+ years on HRT because we rarely develop beyond A cup breasts. There doesn't appear to be any corellation in final breast size and volume of estrogen perscribed, type of estrogen, the use of progestins, or even type of anti-androgen used. The evidence as presented could lead to the conclusion that there's no way for us trans women to control our final breast size. Though the authors were keen to note that their data was insuffient to yield any concrete conclusion and more research was needed, that kinda sits pretty sour in my stomach.\n",
    "\n",
    "**The data that I have now would suggest a cycle should do absolutely nothing beneficial.**\n",
    "*But half the notebook visualizations I've written were already finished by the time the above research was done. So I sunk cost falacied myself and rigged up an HRT regimine which should produce a cycle in women who aren't using an estrogenic androgen blocker anyway!*\n",
    "\n",
    "Since I've been homeless before; for three years intermittently, and dropped by insurance multiple times, I'm going to write this notebook entry with the intent that it be the best refference for DIY HRT. While I know that the last thing any of us need is to be without the gender affirming medication that keeps us sane, I also understand the risks associated with doing your HRT wrong and how poorly that can effect mental health in the long run. I plan to use median or mean datasets for control values in publicly released visualizations and medication planning regimines, as they'll be the best general reference values if you don't have the data or techonological ability to download this notebook entry and modifiy the interactable segments yourself.\n",
    "\n",
    "#### A Note for Women Who Haven't Already Developed Breasts / Baby Trans\n",
    "Please for the love of fuck don't do this. Don't try a cycle right off the bat. It's been shown in AFAB children, that having high estrogen exposure too fast can actually be detremental to breast bud formation and can lead to poor breast development as a result.\n",
    "\n",
    "If you're just starting HRT, please talk to your physician if you can and ask them to titrate you up. If you're doing this DIY because you can't afford insurance or are in an otherwise compromised state, titrate up from 0.1mg"
   ]
  },
  {
   "cell_type": "code",
   "execution_count": 26,
   "id": "f1bc586d",
   "metadata": {},
   "outputs": [],
   "source": [
    "import IPython.display as display\n",
    "from matplotlib import pyplot, patches\n",
    "from matplotlib.path import Path\n",
    "from base64 import b64encode, b64decode\n",
    "from PIL import Image\n",
    "import ipywidgets as widgets\n",
    "import matplotlib\n",
    "import functools\n",
    "import operator\n",
    "import asyncio\n",
    "import lzma\n",
    "import pint\n",
    "import math\n",
    "import io\n",
    "\n",
    "def flat(a): return functools.reduce(operator.iconcat, a, [])\n",
    "ureg = pint.UnitRegistry()"
   ]
  },
  {
   "cell_type": "code",
   "execution_count": 106,
   "id": "d62cfdd1",
   "metadata": {},
   "outputs": [
    {
     "data": {
      "application/javascript": [
       "/* Inline Javascript Dependencies */\n",
       "//© 2016 Nathan Rugg <nmrugg@gmail.com>, MIT License, LZMA decompressor, https://github.com/LZMA-JS/LZMA-JS\n",
       "var e=function(){\"use strict\";function r(e,r){postMessage({action:nr,cbn:r,result:e})}function o(e){var r=[];return r[e-1]=void 0,r}function n(e,r){return i(e[0]+r[0],e[1]+r[1])}function t(e,r){var o,n;return e[0]==r[0]&&e[1]==r[1]?0:(o=0>e[1],n=0>r[1],o&&!n?-1:!o&&n?1:d(e,r)[1]<0?-1:1)}function i(e,r){var o,n;for(r%=0x10000000000000000,e%=0x10000000000000000,o=r%ir,n=Math.floor(e/ir)*ir,r=r-o+n,e=e-n+o;0>e;)e+=ir,r-=ir;for(;e>4294967295;)e-=ir,r+=ir;for(r%=0x10000000000000000;r>0x7fffffff00000000;)r-=0x10000000000000000;for(;-0x8000000000000000>r;)r+=0x10000000000000000;return[e,r]}function u(e){return e>=0?[e,0]:[e+ir,-ir]}function s(e){return e[0]>=2147483648?~~Math.max(Math.min(e[0]-ir,2147483647),-2147483648):~~Math.max(Math.min(e[0],2147483647),-2147483648)}function d(e,r){return i(e[0]-r[0],e[1]-r[1])}function c(e,r){return e.ab=r,e.cb=0,e.O=r.length,e}function m(e){return e.cb>=e.O?-1:255&e.ab[e.cb++]}function a(e){return e.ab=o(32),e.O=0,e}function _(e){var r=e.ab;return r.length=e.O,r}function f(e,r,o,n){p(r,o,e.ab,e.O,n),e.O+=n}function p(e,r,o,n,t){for(var i=0;t>i;++i)o[n+i]=e[r+i]}function D(e,r,o){var n,t,i,s,d=\"\",c=[];for(t=0;5>t;++t){if(i=m(r),-1==i)throw Error(\"truncated input\");c[t]=i<<24>>24}if(n=N({}),!z(n,c))throw Error(\"corrupted input\");for(t=0;64>t;t+=8){if(i=m(r),-1==i)throw Error(\"truncated input\");i=i.toString(16),1==i.length&&(i=\"0\"+i),d=i+\"\"+d}/^0+$|^f+$/i.test(d)?e.N=ur:(s=parseInt(d,16),e.N=s>4294967295?ur:u(s)),e.Q=B(n,r,o,e.N)}function l(e,r){return e.S=a({}),D(e,c({},r),e.S),e}function g(e,r,o){var n=e.D-r-1;for(0>n&&(n+=e.c);0!=o;--o)n>=e.c&&(n=0),e.x[e.D++]=e.x[n++],e.D>=e.c&&w(e)}function v(e,r){(null==e.x||e.c!=r)&&(e.x=o(r)),e.c=r,e.D=0,e.w=0}function w(e){var r=e.D-e.w;r&&(f(e.V,e.x,e.w,r),e.D>=e.c&&(e.D=0),e.w=e.D)}function R(e,r){var o=e.D-r-1;return 0>o&&(o+=e.c),e.x[o]}function h(e,r){e.x[e.D++]=r,e.D>=e.c&&w(e)}function P(e){w(e),e.V=null}function C(e){return e-=2,4>e?e:3}function S(e){return 4>e?0:10>e?e-3:e-6}function M(e,r){return e.h=r,e.bb=null,e.X=1,e}function L(e){if(!e.X)throw Error(\"bad state\");if(e.bb)throw Error(\"No encoding\");return y(e),e.X}function y(e){var r=I(e.h);if(-1==r)throw Error(\"corrupted input\");e.$=ur,e.Z=e.h.d,(r||t(e.h.U,sr)>=0&&t(e.h.d,e.h.U)>=0)&&(w(e.h.b),P(e.h.b),e.h.a.K=null,e.X=0)}function B(e,r,o,n){return e.a.K=r,P(e.b),e.b.V=o,b(e),e.f=0,e.l=0,e.T=0,e.R=0,e._=0,e.U=n,e.d=sr,e.I=0,M({},e)}function I(e){var r,o,i,d,c,m;if(m=s(e.d)&e.P,Q(e.a,e.q,(e.f<<4)+m)){if(Q(e.a,e.E,e.f))i=0,Q(e.a,e.s,e.f)?(Q(e.a,e.u,e.f)?(Q(e.a,e.r,e.f)?(o=e._,e._=e.R):o=e.R,e.R=e.T):o=e.T,e.T=e.l,e.l=o):Q(e.a,e.n,(e.f<<4)+m)||(e.f=7>e.f?9:11,i=1),i||(i=x(e.o,e.a,m)+2,e.f=7>e.f?8:11);else if(e._=e.R,e.R=e.T,e.T=e.l,i=2+x(e.C,e.a,m),e.f=7>e.f?7:10,c=q(e.j[C(i)],e.a),c>=4){if(d=(c>>1)-1,e.l=(2|1&c)<<d,14>c)e.l+=J(e.J,e.l-c-1,e.a,d);else if(e.l+=U(e.a,d-4)<<4,e.l+=F(e.t,e.a),0>e.l)return-1==e.l?1:-1}else e.l=c;if(t(u(e.l),e.d)>=0||e.l>=e.m)return-1;g(e.b,e.l,i),e.d=n(e.d,u(i)),e.I=R(e.b,0)}else r=Z(e.k,s(e.d),e.I),e.I=7>e.f?T(r,e.a):$(r,e.a,R(e.b,e.l)),h(e.b,e.I),e.f=S(e.f),e.d=n(e.d,dr);return 0}function N(e){e.b={},e.a={},e.q=o(192),e.E=o(12),e.s=o(12),e.u=o(12),e.r=o(12),e.n=o(192),e.j=o(4),e.J=o(114),e.t=K({},4),e.C=G({}),e.o=G({}),e.k={};for(var r=0;4>r;++r)e.j[r]=K({},6);return e}function b(e){e.b.w=0,e.b.D=0,X(e.q),X(e.n),X(e.E),X(e.s),X(e.u),X(e.r),X(e.J),H(e.k);for(var r=0;4>r;++r)X(e.j[r].B);A(e.C),A(e.o),X(e.t.B),V(e.a)}function z(e,r){var o,n,t,i,u,s,d;if(5>r.length)return 0;for(d=255&r[0],t=d%9,s=~~(d/9),i=s%5,u=~~(s/5),o=0,n=0;4>n;++n)o+=(255&r[1+n])<<8*n;return o>99999999||!W(e,t,i,u)?0:O(e,o)}function O(e,r){return 0>r?0:(e.z!=r&&(e.z=r,e.m=Math.max(e.z,1),v(e.b,Math.max(e.m,4096))),1)}function W(e,r,o,n){if(r>8||o>4||n>4)return 0;E(e.k,o,r);var t=1<<n;return k(e.C,t),k(e.o,t),e.P=t-1,1}function k(e,r){for(;r>e.e;++e.e)e.G[e.e]=K({},3),e.H[e.e]=K({},3)}function x(e,r,o){if(!Q(r,e.M,0))return q(e.G[o],r);var n=8;return n+=Q(r,e.M,1)?8+q(e.L,r):q(e.H[o],r)}function G(e){return e.M=o(2),e.G=o(16),e.H=o(16),e.L=K({},8),e.e=0,e}function A(e){X(e.M);for(var r=0;e.e>r;++r)X(e.G[r].B),X(e.H[r].B);X(e.L.B)}function E(e,r,n){var t,i;if(null==e.F||e.g!=n||e.y!=r)for(e.y=r,e.Y=(1<<r)-1,e.g=n,i=1<<e.g+e.y,e.F=o(i),t=0;i>t;++t)e.F[t]=j({})}function Z(e,r,o){return e.F[((r&e.Y)<<e.g)+((255&o)>>>8-e.g)]}function H(e){var r,o;for(o=1<<e.g+e.y,r=0;o>r;++r)X(e.F[r].v)}function T(e,r){var o=1;do o=o<<1|Q(r,e.v,o);while(256>o);return o<<24>>24}function $(e,r,o){var n,t,i=1;do if(t=o>>7&1,o<<=1,n=Q(r,e.v,(1+t<<8)+i),i=i<<1|n,t!=n){for(;256>i;)i=i<<1|Q(r,e.v,i);break}while(256>i);return i<<24>>24}function j(e){return e.v=o(768),e}function K(e,r){return e.A=r,e.B=o(1<<r),e}function q(e,r){var o,n=1;for(o=e.A;0!=o;--o)n=(n<<1)+Q(r,e.B,n);return n-(1<<e.A)}function F(e,r){var o,n,t=1,i=0;for(n=0;e.A>n;++n)o=Q(r,e.B,t),t<<=1,t+=o,i|=o<<n;return i}function J(e,r,o,n){var t,i,u=1,s=0;for(i=0;n>i;++i)t=Q(o,e,r+u),u<<=1,u+=t,s|=t<<i;return s}function Q(e,r,o){var n,t=r[o];return n=(e.i>>>11)*t,(-2147483648^n)>(-2147483648^e.p)?(e.i=n,r[o]=t+(2048-t>>>5)<<16>>16,-16777216&e.i||(e.p=e.p<<8|m(e.K),e.i<<=8),0):(e.i-=n,e.p-=n,r[o]=t-(t>>>5)<<16>>16,-16777216&e.i||(e.p=e.p<<8|m(e.K),e.i<<=8),1)}function U(e,r){var o,n,t=0;for(o=r;0!=o;--o)e.i>>>=1,n=e.p-e.i>>>31,e.p-=e.i&n-1,t=t<<1|1-n,-16777216&e.i||(e.p=e.p<<8|m(e.K),e.i<<=8);return t}function V(e){e.p=0,e.i=-1;for(var r=0;5>r;++r)e.p=e.p<<8|m(e.K)}function X(e){for(var r=e.length-1;r>=0;--r)e[r]=1024}function Y(e){for(var r,o,n,t=0,i=0,u=e.length,s=[],d=[];u>t;++t,++i){if(r=255&e[t],128&r)if(192==(224&r)){if(t+1>=u)return e;if(o=255&e[++t],128!=(192&o))return e;d[i]=(31&r)<<6|63&o}else{if(224!=(240&r))return e;if(t+2>=u)return e;if(o=255&e[++t],128!=(192&o))return e;if(n=255&e[++t],128!=(192&n))return e;d[i]=(15&r)<<12|(63&o)<<6|63&n}else{if(!r)return e;d[i]=r}16383==i&&(s.push(String.fromCharCode.apply(String,d)),i=-1)}return i>0&&(d.length=i,s.push(String.fromCharCode.apply(String,d))),s.join(\"\")}function er(e){return e[1]+e[0]}function rr(e,o,n){function t(){try{for(var e,r=0,u=(new Date).getTime();L(c.d.Q);)if(++r%1e3==0&&(new Date).getTime()-u>200)return s&&(i=er(c.d.Q.h.d)/d,n(i)),tr(t,0),0;n(1),e=Y(_(c.d.S)),tr(o.bind(null,e),0)}catch(m){o(null,m)}}var i,u,s,d,c={},m=void 0===o&&void 0===n;if(\"function\"!=typeof o&&(u=o,o=n=0),n=n||function(e){return void 0!==u?r(s?e:-1,u):void 0},o=o||function(e,r){return void 0!==u?postMessage({action:or,cbn:u,result:e,error:r}):void 0},m){for(c.d=l({},e);L(c.d.Q););return Y(_(c.d.S))}try{c.d=l({},e),d=er(c.d.N),s=d>-1,n(0)}catch(a){return o(null,a)}tr(t,0)}var or=2,nr=3,tr=\"function\"==typeof setImmediate?setImmediate:setTimeout,ir=4294967296,ur=[4294967295,-ir],sr=[0,0],dr=[1,0];return\"undefined\"==typeof onmessage||\"undefined\"!=typeof window&&void 0!==window.document||!function(){onmessage=function(r){r&&r.W&&r.W.action==or&&e.decompress(r.W.W,r.W.cbn)}}(),{decompress:rr}}();this.LZMA=this.LZMA_WORKER=e;\n",
       "window.LZMA = {decompress: e.decompress.bind(e)};\n",
       "\n",
       "/**\n",
       " *  Base64 decode\n",
       " *  http://www.webtoolkit.info/\n",
       " *  Modified to suit my needs for binary decoding.\n",
       " **/\n",
       "const Base64={_keyStr:\"ABCDEFGHIJKLMNOPQRSTUVWXYZabcdefghijklmnopqrstuvwxyz0123456789+/=\",decode:e=>{let t,d,n,r,a,i,o,p=[],u=0;for(;u<e.length;)r=Base64._keyStr.indexOf(e.charAt(u++)),a=Base64._keyStr.indexOf(e.charAt(u++)),i=Base64._keyStr.indexOf(e.charAt(u++)),o=Base64._keyStr.indexOf(e.charAt(u++)),t=r<<2|a>>4,d=(15&a)<<4|i>>2,n=(3&i)<<6|o,p.push(t),64!=i&&p.push(d),64!=o&&p.push(n);return p}};\n",
       "window.Base64=Base64\n"
      ],
      "text/plain": [
       "<IPython.core.display.Javascript object>"
      ]
     },
     "metadata": {},
     "output_type": "display_data"
    }
   ],
   "source": [
    "%%javascript\n",
    "/* Inline Javascript Dependencies */\n",
    "//© 2016 Nathan Rugg <nmrugg@gmail.com>, MIT License, LZMA decompressor, https://github.com/LZMA-JS/LZMA-JS\n",
    "var e=function(){\"use strict\";function r(e,r){postMessage({action:nr,cbn:r,result:e})}function o(e){var r=[];return r[e-1]=void 0,r}function n(e,r){return i(e[0]+r[0],e[1]+r[1])}function t(e,r){var o,n;return e[0]==r[0]&&e[1]==r[1]?0:(o=0>e[1],n=0>r[1],o&&!n?-1:!o&&n?1:d(e,r)[1]<0?-1:1)}function i(e,r){var o,n;for(r%=0x10000000000000000,e%=0x10000000000000000,o=r%ir,n=Math.floor(e/ir)*ir,r=r-o+n,e=e-n+o;0>e;)e+=ir,r-=ir;for(;e>4294967295;)e-=ir,r+=ir;for(r%=0x10000000000000000;r>0x7fffffff00000000;)r-=0x10000000000000000;for(;-0x8000000000000000>r;)r+=0x10000000000000000;return[e,r]}function u(e){return e>=0?[e,0]:[e+ir,-ir]}function s(e){return e[0]>=2147483648?~~Math.max(Math.min(e[0]-ir,2147483647),-2147483648):~~Math.max(Math.min(e[0],2147483647),-2147483648)}function d(e,r){return i(e[0]-r[0],e[1]-r[1])}function c(e,r){return e.ab=r,e.cb=0,e.O=r.length,e}function m(e){return e.cb>=e.O?-1:255&e.ab[e.cb++]}function a(e){return e.ab=o(32),e.O=0,e}function _(e){var r=e.ab;return r.length=e.O,r}function f(e,r,o,n){p(r,o,e.ab,e.O,n),e.O+=n}function p(e,r,o,n,t){for(var i=0;t>i;++i)o[n+i]=e[r+i]}function D(e,r,o){var n,t,i,s,d=\"\",c=[];for(t=0;5>t;++t){if(i=m(r),-1==i)throw Error(\"truncated input\");c[t]=i<<24>>24}if(n=N({}),!z(n,c))throw Error(\"corrupted input\");for(t=0;64>t;t+=8){if(i=m(r),-1==i)throw Error(\"truncated input\");i=i.toString(16),1==i.length&&(i=\"0\"+i),d=i+\"\"+d}/^0+$|^f+$/i.test(d)?e.N=ur:(s=parseInt(d,16),e.N=s>4294967295?ur:u(s)),e.Q=B(n,r,o,e.N)}function l(e,r){return e.S=a({}),D(e,c({},r),e.S),e}function g(e,r,o){var n=e.D-r-1;for(0>n&&(n+=e.c);0!=o;--o)n>=e.c&&(n=0),e.x[e.D++]=e.x[n++],e.D>=e.c&&w(e)}function v(e,r){(null==e.x||e.c!=r)&&(e.x=o(r)),e.c=r,e.D=0,e.w=0}function w(e){var r=e.D-e.w;r&&(f(e.V,e.x,e.w,r),e.D>=e.c&&(e.D=0),e.w=e.D)}function R(e,r){var o=e.D-r-1;return 0>o&&(o+=e.c),e.x[o]}function h(e,r){e.x[e.D++]=r,e.D>=e.c&&w(e)}function P(e){w(e),e.V=null}function C(e){return e-=2,4>e?e:3}function S(e){return 4>e?0:10>e?e-3:e-6}function M(e,r){return e.h=r,e.bb=null,e.X=1,e}function L(e){if(!e.X)throw Error(\"bad state\");if(e.bb)throw Error(\"No encoding\");return y(e),e.X}function y(e){var r=I(e.h);if(-1==r)throw Error(\"corrupted input\");e.$=ur,e.Z=e.h.d,(r||t(e.h.U,sr)>=0&&t(e.h.d,e.h.U)>=0)&&(w(e.h.b),P(e.h.b),e.h.a.K=null,e.X=0)}function B(e,r,o,n){return e.a.K=r,P(e.b),e.b.V=o,b(e),e.f=0,e.l=0,e.T=0,e.R=0,e._=0,e.U=n,e.d=sr,e.I=0,M({},e)}function I(e){var r,o,i,d,c,m;if(m=s(e.d)&e.P,Q(e.a,e.q,(e.f<<4)+m)){if(Q(e.a,e.E,e.f))i=0,Q(e.a,e.s,e.f)?(Q(e.a,e.u,e.f)?(Q(e.a,e.r,e.f)?(o=e._,e._=e.R):o=e.R,e.R=e.T):o=e.T,e.T=e.l,e.l=o):Q(e.a,e.n,(e.f<<4)+m)||(e.f=7>e.f?9:11,i=1),i||(i=x(e.o,e.a,m)+2,e.f=7>e.f?8:11);else if(e._=e.R,e.R=e.T,e.T=e.l,i=2+x(e.C,e.a,m),e.f=7>e.f?7:10,c=q(e.j[C(i)],e.a),c>=4){if(d=(c>>1)-1,e.l=(2|1&c)<<d,14>c)e.l+=J(e.J,e.l-c-1,e.a,d);else if(e.l+=U(e.a,d-4)<<4,e.l+=F(e.t,e.a),0>e.l)return-1==e.l?1:-1}else e.l=c;if(t(u(e.l),e.d)>=0||e.l>=e.m)return-1;g(e.b,e.l,i),e.d=n(e.d,u(i)),e.I=R(e.b,0)}else r=Z(e.k,s(e.d),e.I),e.I=7>e.f?T(r,e.a):$(r,e.a,R(e.b,e.l)),h(e.b,e.I),e.f=S(e.f),e.d=n(e.d,dr);return 0}function N(e){e.b={},e.a={},e.q=o(192),e.E=o(12),e.s=o(12),e.u=o(12),e.r=o(12),e.n=o(192),e.j=o(4),e.J=o(114),e.t=K({},4),e.C=G({}),e.o=G({}),e.k={};for(var r=0;4>r;++r)e.j[r]=K({},6);return e}function b(e){e.b.w=0,e.b.D=0,X(e.q),X(e.n),X(e.E),X(e.s),X(e.u),X(e.r),X(e.J),H(e.k);for(var r=0;4>r;++r)X(e.j[r].B);A(e.C),A(e.o),X(e.t.B),V(e.a)}function z(e,r){var o,n,t,i,u,s,d;if(5>r.length)return 0;for(d=255&r[0],t=d%9,s=~~(d/9),i=s%5,u=~~(s/5),o=0,n=0;4>n;++n)o+=(255&r[1+n])<<8*n;return o>99999999||!W(e,t,i,u)?0:O(e,o)}function O(e,r){return 0>r?0:(e.z!=r&&(e.z=r,e.m=Math.max(e.z,1),v(e.b,Math.max(e.m,4096))),1)}function W(e,r,o,n){if(r>8||o>4||n>4)return 0;E(e.k,o,r);var t=1<<n;return k(e.C,t),k(e.o,t),e.P=t-1,1}function k(e,r){for(;r>e.e;++e.e)e.G[e.e]=K({},3),e.H[e.e]=K({},3)}function x(e,r,o){if(!Q(r,e.M,0))return q(e.G[o],r);var n=8;return n+=Q(r,e.M,1)?8+q(e.L,r):q(e.H[o],r)}function G(e){return e.M=o(2),e.G=o(16),e.H=o(16),e.L=K({},8),e.e=0,e}function A(e){X(e.M);for(var r=0;e.e>r;++r)X(e.G[r].B),X(e.H[r].B);X(e.L.B)}function E(e,r,n){var t,i;if(null==e.F||e.g!=n||e.y!=r)for(e.y=r,e.Y=(1<<r)-1,e.g=n,i=1<<e.g+e.y,e.F=o(i),t=0;i>t;++t)e.F[t]=j({})}function Z(e,r,o){return e.F[((r&e.Y)<<e.g)+((255&o)>>>8-e.g)]}function H(e){var r,o;for(o=1<<e.g+e.y,r=0;o>r;++r)X(e.F[r].v)}function T(e,r){var o=1;do o=o<<1|Q(r,e.v,o);while(256>o);return o<<24>>24}function $(e,r,o){var n,t,i=1;do if(t=o>>7&1,o<<=1,n=Q(r,e.v,(1+t<<8)+i),i=i<<1|n,t!=n){for(;256>i;)i=i<<1|Q(r,e.v,i);break}while(256>i);return i<<24>>24}function j(e){return e.v=o(768),e}function K(e,r){return e.A=r,e.B=o(1<<r),e}function q(e,r){var o,n=1;for(o=e.A;0!=o;--o)n=(n<<1)+Q(r,e.B,n);return n-(1<<e.A)}function F(e,r){var o,n,t=1,i=0;for(n=0;e.A>n;++n)o=Q(r,e.B,t),t<<=1,t+=o,i|=o<<n;return i}function J(e,r,o,n){var t,i,u=1,s=0;for(i=0;n>i;++i)t=Q(o,e,r+u),u<<=1,u+=t,s|=t<<i;return s}function Q(e,r,o){var n,t=r[o];return n=(e.i>>>11)*t,(-2147483648^n)>(-2147483648^e.p)?(e.i=n,r[o]=t+(2048-t>>>5)<<16>>16,-16777216&e.i||(e.p=e.p<<8|m(e.K),e.i<<=8),0):(e.i-=n,e.p-=n,r[o]=t-(t>>>5)<<16>>16,-16777216&e.i||(e.p=e.p<<8|m(e.K),e.i<<=8),1)}function U(e,r){var o,n,t=0;for(o=r;0!=o;--o)e.i>>>=1,n=e.p-e.i>>>31,e.p-=e.i&n-1,t=t<<1|1-n,-16777216&e.i||(e.p=e.p<<8|m(e.K),e.i<<=8);return t}function V(e){e.p=0,e.i=-1;for(var r=0;5>r;++r)e.p=e.p<<8|m(e.K)}function X(e){for(var r=e.length-1;r>=0;--r)e[r]=1024}function Y(e){for(var r,o,n,t=0,i=0,u=e.length,s=[],d=[];u>t;++t,++i){if(r=255&e[t],128&r)if(192==(224&r)){if(t+1>=u)return e;if(o=255&e[++t],128!=(192&o))return e;d[i]=(31&r)<<6|63&o}else{if(224!=(240&r))return e;if(t+2>=u)return e;if(o=255&e[++t],128!=(192&o))return e;if(n=255&e[++t],128!=(192&n))return e;d[i]=(15&r)<<12|(63&o)<<6|63&n}else{if(!r)return e;d[i]=r}16383==i&&(s.push(String.fromCharCode.apply(String,d)),i=-1)}return i>0&&(d.length=i,s.push(String.fromCharCode.apply(String,d))),s.join(\"\")}function er(e){return e[1]+e[0]}function rr(e,o,n){function t(){try{for(var e,r=0,u=(new Date).getTime();L(c.d.Q);)if(++r%1e3==0&&(new Date).getTime()-u>200)return s&&(i=er(c.d.Q.h.d)/d,n(i)),tr(t,0),0;n(1),e=Y(_(c.d.S)),tr(o.bind(null,e),0)}catch(m){o(null,m)}}var i,u,s,d,c={},m=void 0===o&&void 0===n;if(\"function\"!=typeof o&&(u=o,o=n=0),n=n||function(e){return void 0!==u?r(s?e:-1,u):void 0},o=o||function(e,r){return void 0!==u?postMessage({action:or,cbn:u,result:e,error:r}):void 0},m){for(c.d=l({},e);L(c.d.Q););return Y(_(c.d.S))}try{c.d=l({},e),d=er(c.d.N),s=d>-1,n(0)}catch(a){return o(null,a)}tr(t,0)}var or=2,nr=3,tr=\"function\"==typeof setImmediate?setImmediate:setTimeout,ir=4294967296,ur=[4294967295,-ir],sr=[0,0],dr=[1,0];return\"undefined\"==typeof onmessage||\"undefined\"!=typeof window&&void 0!==window.document||!function(){onmessage=function(r){r&&r.W&&r.W.action==or&&e.decompress(r.W.W,r.W.cbn)}}(),{decompress:rr}}();this.LZMA=this.LZMA_WORKER=e; window.LZMA = {decompress: e.decompress.bind(e)}; \n",
    "\n",
    "/**\n",
    " *  Base64 decode\n",
    " *  http://www.webtoolkit.info/\n",
    " *  Modified to suit my needs for binary decoding.\n",
    " **/\n",
    "const Base64={_keyStr:\"ABCDEFGHIJKLMNOPQRSTUVWXYZabcdefghijklmnopqrstuvwxyz0123456789+/=\",decode:e=>{let t,d,n,r,a,i,o,p=[],u=0;for(;u<e.length;)r=Base64._keyStr.indexOf(e.charAt(u++)),a=Base64._keyStr.indexOf(e.charAt(u++)),i=Base64._keyStr.indexOf(e.charAt(u++)),o=Base64._keyStr.indexOf(e.charAt(u++)),t=r<<2|a>>4,d=(15&a)<<4|i>>2,n=(3&i)<<6|o,p.push(t),64!=i&&p.push(d),64!=o&&p.push(n);return p}}; window.Base64=Base64; "
   ]
  },
  {
   "cell_type": "code",
   "execution_count": null,
   "id": "d7f69816",
   "metadata": {},
   "outputs": [],
   "source": [
    "%%javascript\n",
    "// Set up display system for later ease of use embedding images in JS; this reduces the\n",
    "// amount of resoruces used by sending things between the browser and python, plus content\n",
    "// can be inline so no extrenious files.\n",
    "window.display={};\n",
    "window.display.image = function(element, data, attrs){\n",
    "    element = (element instanceof Element ? element : element[0] ); // Fix Jupyter Garbage\n",
    "    const array = Base64.decode(data);\n",
    "    const raw = new Uint8Array(array);\n",
    "    const b = new Blob([raw.buffer], {type:\"image/png\"});\n",
    "    const location = URL.createObjectURL(b);\n",
    "    \n",
    "    const tag = document.createElement(\"img\");\n",
    "    tag.setAttribute(\"src\", location);\n",
    "    tag.setAttribute(\"decoding\", \"async\");\n",
    "    element.append(tag);\n",
    "};"
   ]
  },
  {
   "cell_type": "markdown",
   "id": "03293667",
   "metadata": {},
   "source": [
    "### The Dangers of Hormone Replacement Therapy\n",
    "\n",
    "There are a lot of warnings the doctor perscribing HRT should give you durring your perscription consultation. Always be sure to completely take these warnings into consideration.\n",
    "\n",
    "#### Estradiol Risks\n",
    "##### Thrombosis\n",
    "One of these warnings may be that Estradiol can increase your risk of deep-vein thrombosis and blood clots. This assertion isn't unfounded. Any metabolism of estradiol in your liver will produce estrone.\n",
    "\n",
    "> Thrombin generation is significantly increased in women who use HRT administered by the oral route. **(Bagot, et al. 2010)**\n",
    "\n",
    "> Thrombin generation based upon the individual’s blood composition is associated with the risk for thrombosis and may be useful as a predictive marker for evaluating thrombosis on an individual basis. **(K. E. Brummel-Ziedins, et al. 2005)**\n",
    "\n",
    "That's a bit of a stretch for a plausible connection. Observational studies from the 1990s originated this claim that estrogen HRT use can lead to thrombosis, but when those same studies were reviewed and reattempted, their results couldn't be reproduced. For now I don't have the energy to do anything more than propose my theory that **estrogen doesn't corellate with thrombosis risk, estrone however, does.** Keeping estrone levels low should circumvent this thrombic risk and make HRT safer. \n",
    "\n",
    "##### Cancer\n",
    "We've all got to face the risk of cancer development in one way or another. You can profile this risk early by getting genetically tested for breast cancer associated genes. Regular mammogram and ultrasound screenings improve mortality and are standard proceedure for cis women. So your doc will probably recommend that you start getting regular checkups after two years on HRT. Cancer risk for us is pretty much the same as cis women as far as we know.\n",
    "> Additional data, specifically from prospective longitudinal follow-up of transgender individuals electing breast cancer radiologic surveillance is needed to understand breast cancer risk in this population and to develop appropriate risk-adapted screening protocols. **(Sonnenblick, et al. 2018)**"
   ]
  },
  {
   "cell_type": "markdown",
   "id": "d844e18c",
   "metadata": {},
   "source": [
    "### Forming a Target Cycle\n",
    "Before making a custom hormonal cycle, we need to know the standard range of hormonal cycles. The data below shows the estrogen and progesterone values for 36 premenopausal women from an ARCHITECT® assay by **Stricker et al., in 2006**. The assay was collected to establish detailed reference values for luteinizing hormone, follicle stimulating hormone, estradiol, and progesterone during different phases of the menstrual cycle. So it's perfect for our use case."
   ]
  },
  {
   "cell_type": "code",
   "execution_count": 2,
   "id": "b15b066c",
   "metadata": {},
   "outputs": [],
   "source": [
    "# Group \n",
    "#  Estradiol pmol/L; raw imported from reference assay\n",
    "e2_mean=[118.42, 133.01, 133.17, 125.95, 134.65, 151.33, 159.48, 170.34, 195.90, 228.20,\n",
    "         269.07, 343.68, 477.27, 661.19, 914.84, 780.76, 320.59, 261.32, 338.94, 454.07,\n",
    "         499.49, 497.07, 531.14, 504.39, 499.18, 526.68, 350.65, 322.24, 229.70, 249.28]\n",
    "\n",
    "e2_median=[139.46, 149.00, 137.63, 128.45, 130.29, 145.15, 154.14, 162.76, 196.16, 215.06,\n",
    "           262.22, 363.15, 485.72, 651.06, 939.34, 671.06, 312.87, 260.57, 322.96, 403.52,\n",
    "           450.68, 486.64, 551.78, 491.23, 503.52, 495.45, 340.41, 314.52, 170.10, 151.20]\n",
    "\n",
    "e2_5thpercent=[57.55, 66.06, 75.20, 79.42, 82.98, 87.60, 93.40, 112.49, 124.67, 157.66, \n",
    "               190.47, 186.47, 241.52, 337.35, 503.85, 482.00, 159.87, 154.62, 208.64, 269.80, \n",
    "               292.57, 267.07, 291.71, 281.91, 279.18, 294.48, 210.22, 174.82, 101.93, 93.97]\n",
    "\n",
    "e2_95thpercent=[194.44, 187.67, 189.34, 200.97, 196.75, 209.56, 224.68, 220.86, 267.23,\n",
    "                313.36, 346.76, 490.81, 803.56, 1153.76, 1517.67, 1425.39, 514.35, 398.38, \n",
    "                495.82, 665.99, 703.85, 719.72, 695.47, 718.20, \n",
    "                764.41, 806.70, 640.16, 546.15, 497.74, 693.54]\n",
    "\n",
    "# Progesterone nmol/L; raw imported from reference study.\n",
    "p_mean=[1.66, 1.27, 1.02, 0.82, 0.74, 0.94, 0.72, 0.67, 0.73, 0.51, 0.57, 0.59, 0.51, 0.59,\n",
    "        1.02, 2.66, 5.02, 12.13, 20.84, 29.75, 36.08, 36.52, 40.32, 39.65,\n",
    "        33.76, 34.11, 18.24,16.9, 10.73, 9.5]\n",
    "\n",
    "p_median=[1.27, 1.27, 0.95, 0.64, 0.64, 0.64, 0.64, 0.48, 0.64, 0.32, 0.48, 0.64,\n",
    "          0.32, 0.64, 0.95, 2.54, 4.93, 12.72, 20.51, 30.85, 34.03, 35.3, 42.45,\n",
    "          37.05, 32.44, 32.75, 14.47, 13.04, 5.25, 4.13]\n",
    "\n",
    "p_5thpercent=[0.32, 0.32, 0.52, 0.32, 0.32, 0.32, 0.32, 0.32, 0.32, 0.32, 0.32,\n",
    "              0.32, 0.32, 0.32, 0.62, 1.24, 2.21, 4.74, 11.34, 11.38, 23.72,\n",
    "              22.36, 25.98, 25.06, 18.25, 17.74, 6.74, 3.67, 2.15, 1.91]\n",
    "\n",
    "p_95thpercent=[3.75, 2.73, 1.59, 1.65, 1.3, 2.32, 1.29, 1.61, 1.3, 1.0, 1.02, 0.95,\n",
    "               0.97, 1.27, 1.62, 4.13, 8.95, 18.67, 29.05, 45.51, 46.46, 48.18, 54.17,\n",
    "               60.39, 46.65, 55.94, 38.21, 41.58, 33.15, 33.39]\n",
    "\n",
    "# Convert estradiol to pg/mL\n",
    "e2_molar_mass = 272.4 * (ureg.gram / ureg.mole)\n",
    "e2_mean[:] = ((v * ureg.picomole * e2_molar_mass / ureg.liter) for v in e2_mean)\n",
    "e2_mean[:] = (round(v.to(\"pg/ml\").m, 2) for v in e2_mean)\n",
    "e2_median[:] = ((v * ureg.picomole * e2_molar_mass / ureg.liter) for v in e2_median)\n",
    "e2_median[:] = (round(v.to(\"pg/ml\").m, 2) for v in e2_median)\n",
    "e2_5thpercent[:] = ((v * ureg.picomole * e2_molar_mass / ureg.liter) for v in e2_5thpercent)\n",
    "e2_5thpercent[:] = (round(v.to(\"pg/ml\").m, 2) for v in e2_5thpercent)\n",
    "e2_95thpercent[:] = ((v * ureg.picomole * e2_molar_mass / ureg.liter) for v in e2_95thpercent)\n",
    "e2_95thpercent[:] = (round(v.to(\"pg/ml\").m, 2) for v in e2_95thpercent)\n",
    "\n",
    "# Convert progesterone to pg/mL\n",
    "p_molar_mass = 314.46 * (ureg.gram / ureg.mole)\n",
    "p_mean[:] = ((v * ureg.picomole * p_molar_mass / ureg.liter) for v in p_mean)\n",
    "p_mean[:] = (round(v.to(\"pg/ml\").m, 2) for v in p_mean)\n",
    "p_median[:] = ((v * ureg.picomole * p_molar_mass / ureg.liter) for v in p_median)\n",
    "p_median[:] = (round(v.to(\"pg/ml\").m, 2) for v in p_median)\n",
    "p_5thpercent[:] = ((v * ureg.picomole * p_molar_mass / ureg.liter) for v in p_5thpercent)\n",
    "p_5thpercent[:] = (round(v.to(\"pg/ml\").m, 2) for v in p_5thpercent)\n",
    "p_95thpercent[:] = ((v * ureg.picomole * p_molar_mass / ureg.liter) for v in p_95thpercent)\n",
    "p_95thpercent[:] = (round(v.to(\"pg/ml\").m, 2) for v in p_95thpercent)\n",
    "\n"
   ]
  },
  {
   "cell_type": "markdown",
   "id": "90a3b7ac",
   "metadata": {},
   "source": [
    "From this data we can form a graph of best fit with adjustable peaks. The percentile groups represent the upper limit and lower limit for their respective days mesurement which makes visible the large diversity of hormonal values between women."
   ]
  },
  {
   "cell_type": "code",
   "execution_count": 3,
   "id": "a7f603c0",
   "metadata": {},
   "outputs": [
    {
     "data": {
      "application/vnd.jupyter.widget-view+json": {
       "model_id": "bdfc551de8734cc1ac0d4fdfee940ac4",
       "version_major": 2,
       "version_minor": 0
      },
      "text/plain": [
       "interactive(children=(IntSlider(value=0, description='l', readout=False), Output()), _dom_classes=('widget-int…"
      ]
     },
     "metadata": {},
     "output_type": "display_data"
    },
    {
     "data": {
      "application/vnd.jupyter.widget-view+json": {
       "model_id": "33dfdc7768b0400a999a67f7fbfdd81b",
       "version_major": 2,
       "version_minor": 0
      },
      "text/html": [
       "\n",
       "            <div style=\"display: inline-block;\">\n",
       "                <div class=\"jupyter-widgets widget-label\" style=\"text-align: center;\">\n",
       "                    E2\n",
       "                </div>\n",
       "                <img src='data:image/png;base64,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' width=640.0/>\n",
       "            </div>\n",
       "        "
      ],
      "text/plain": [
       "Canvas(toolbar=Toolbar(toolitems=[('Home', 'Reset original view', 'home', 'home'), ('Back', 'Back to previous …"
      ]
     },
     "metadata": {},
     "output_type": "display_data"
    }
   ],
   "source": [
    "%matplotlib widget\n",
    "x=tuple(range(30))\n",
    "fig_e2 = pyplot.figure(\"E2\")\n",
    "ax_e2 = fig_e2.add_subplot(111)\n",
    "ax_e2.set_title(\"Monthly Estradiol Curve\")\n",
    "ax_e2.set_ylim(0, 600); ax_e2.set_yticks(range(0, 600, 50)); ax_e2.set_ylabel(\"17β-Estradiol (E2) pg/mL\")\n",
    "ax_e2.set_xlim(0, 30); ax_e2.set_xticks(x); ax_e2.set_xlabel(\"Day of Cycle\")\n",
    "ax_e2.scatter(x, e2_median, c=\"#FF0000\", s=2)\n",
    "ax_e2.scatter(x, e2_95thpercent, c=\"#0000FF\", s=2)\n",
    "ax_e2.scatter(x, e2_5thpercent, c=\"#BB00BB\", s=2)\n",
    "fit_e2 = Path(*reversed(list(zip(\n",
    "    (Path.MOVETO, (0, 20 +0.4)),\n",
    "    (Path.CURVE4, (8, 10 +0.3)),\n",
    "    (Path.CURVE4, (13, 30 + 0.7)),\n",
    "    (Path.CURVE3, (15, 200+3)),\n",
    "    (Path.CURVE3, (15, 10 +0.3)),\n",
    "    (Path.CURVE4, (17, 30 + 0.7)),\n",
    "    (Path.CURVE3, (22, 120+3)),\n",
    "    (Path.CURVE3, (30, 20 +0.4))\n",
    "))))\n",
    "fit_standalone_e2 = fit_e2.deepcopy()\n",
    "ax_e2.add_patch(patches.PathPatch(fit_standalone_e2, fc=\"none\"))\n",
    "\n",
    "def update_e2(path, l):\n",
    "    path.vertices[0][1] = 20 +0.4*l; path.vertices[1][1] = 10 +0.3*l;\n",
    "    path.vertices[2][1] = 30 + 0.7*l; path.vertices[3][1] = 200+3*l;\n",
    "    path.vertices[4][1] = 10 +0.3*l; path.vertices[5][1] = 30 + 0.7*l;\n",
    "    path.vertices[6][1] = 120+3*l; path.vertices[7][1] = 20 +0.4*l;\n",
    "    \n",
    "# TODO: get widgets to work when not from the last active notebook cell\n",
    "@widgets.interact(l=widgets.IntSlider(min=0, max=100, step=1, readout=False))\n",
    "def draw_standalone_e2(l):\n",
    "    update_e2(fit_standalone_e2, l)\n",
    "    try:\n",
    "        # Needed to prevent ipympl from throwing an error\n",
    "        # while updating the canvas. Damn it's janky.\n",
    "        fig_e2.canvas.draw()\n",
    "    except Exception as e:\n",
    "        pass"
   ]
  },
  {
   "cell_type": "code",
   "execution_count": 4,
   "id": "ed5a3b28",
   "metadata": {
    "scrolled": false
   },
   "outputs": [
    {
     "data": {
      "application/vnd.jupyter.widget-view+json": {
       "model_id": "89efd479e124440a8f22932d665b572b",
       "version_major": 2,
       "version_minor": 0
      },
      "text/plain": [
       "interactive(children=(IntSlider(value=0, description='l', readout=False), Output()), _dom_classes=('widget-int…"
      ]
     },
     "metadata": {},
     "output_type": "display_data"
    },
    {
     "data": {
      "application/vnd.jupyter.widget-view+json": {
       "model_id": "914a8bd2ea014790b8ad42d92eaa7602",
       "version_major": 2,
       "version_minor": 0
      },
      "text/html": [
       "\n",
       "            <div style=\"display: inline-block;\">\n",
       "                <div class=\"jupyter-widgets widget-label\" style=\"text-align: center;\">\n",
       "                    P4\n",
       "                </div>\n",
       "                <img src='data:image/png;base64,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' width=640.0/>\n",
       "            </div>\n",
       "        "
      ],
      "text/plain": [
       "Canvas(toolbar=Toolbar(toolitems=[('Home', 'Reset original view', 'home', 'home'), ('Back', 'Back to previous …"
      ]
     },
     "metadata": {},
     "output_type": "display_data"
    }
   ],
   "source": [
    "%matplotlib widget\n",
    "slider_p = widgets.IntSlider(min=0, max=100, step=1, readout=False)\n",
    "fig_p = pyplot.figure(\"P4\")\n",
    "ax_p=fig_p.add_subplot(111)\n",
    "ax_p.set_title(\"Monthly Progesterone Curve\")\n",
    "ax_p.set_ylim(0, 30); ax_p.set_yticks(tuple(range(0,30,2))); ax_p.set_ylabel(\"Progesterone (P4) pg/mL\")\n",
    "ax_p.set_xlim(0, 30); ax_p.set_xticks(x); ax_p.set_xlabel(\"Day of Cycle\")\n",
    "ax_p.scatter(x, p_median, c=\"#FF0000\", s=2)\n",
    "ax_p.scatter(x, p_95thpercent, c=\"#0000FF\", s=2)\n",
    "ax_p.scatter(x, p_5thpercent, c=\"#BB00BB\", s=2)\n",
    "fit_p = Path(*reversed(list(zip(\n",
    "    (Path.MOVETO, (0, 0.012)),\n",
    "    (Path.CURVE4, (5, 0.009)),\n",
    "    (Path.CURVE4, (10, 0.006)),\n",
    "    (Path.CURVE4, (15, 0.006)),\n",
    "    (Path.CURVE4, (18, 0.06)),\n",
    "    (Path.CURVE4, (20, 8+0.1)),\n",
    "    (Path.CURVE4, (22, 8+0.1)),\n",
    "    (Path.CURVE4, (24, 8.2+0.1)),\n",
    "    (Path.CURVE4, (26, 0.08)),\n",
    "    (Path.CURVE3, (28, 0.8+0.08)),\n",
    "    (Path.CURVE3, (29, 0.6+0.012)),\n",
    "    (Path.CURVE4, (30, 0.012)),\n",
    "))))\n",
    "fit_standalone_p = fit_p.deepcopy()\n",
    "ax_p.add_patch(patches.PathPatch(fit_standalone_p, fc=\"none\"))\n",
    "\n",
    "def update_p(path, l):\n",
    "    path.vertices[0][1] = 0.012*l; path.vertices[1][1] = 0.009*l; path.vertices[2][1] = 0.006*l;\n",
    "    path.vertices[3][1] = 0.006*l; path.vertices[4][1] = 0.06*l; path.vertices[5][1] = 8+0.1*l;\n",
    "    path.vertices[6][1] = 8+0.1*l; path.vertices[7][1] = 8.2+0.1*l; path.vertices[8][1] = 0.08*l;\n",
    "    path.vertices[9][1] = 0.8+0.08*l; path.vertices[10][1] = 0.6+0.012*l;\n",
    "    path.vertices[11][1] = 0.012*l;\n",
    "\n",
    "@widgets.interact(l=widgets.IntSlider(min=0, max=100, step=1, readout=False))\n",
    "def draw_standalone_p(l):\n",
    "    update_p(fit_standalone_p, l)\n",
    "    try:\n",
    "        # Needed to prevent ipympl from throwing an error\n",
    "        # while updating the canvas. Damn it's janky.\n",
    "        fig_p.canvas.draw()\n",
    "    except Exception as e:\n",
    "        pass"
   ]
  },
  {
   "cell_type": "markdown",
   "id": "5b0b37cd",
   "metadata": {},
   "source": [
    "### Controlling Testosterone Levels\n",
    "Since having hormonal values similar to that of our cis counterparts is often considered a necessity by us trans folks, the first thing we need to do is suppress the dreaded testosterone(dihydrotestosterone). The below graph contains testosterone assay data collected by **Wael, et al. in 2010** which we'll be using as our refference dataset."
   ]
  },
  {
   "cell_type": "code",
   "execution_count": 33,
   "id": "b1edeb1d",
   "metadata": {},
   "outputs": [
    {
     "data": {
      "image/png": "[encoded data removed]",
      "text/plain": [
       "<IPython.core.display.Image object>"
      ]
     },
     "execution_count": 33,
     "metadata": {
      "image/png": {
       "height": "200%"
      }
     },
     "output_type": "execute_result"
    }
   ],
   "source": [
    "# Base64 encoded lzma compressed grayscale binary data converted from png cut out pdf graph\n",
    "compressed = b\"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\";\n",
    "grayscale = lzma.decompress(b64decode(compressed))\n",
    "expanded = [(v,v,v,255) for v in grayscale]\n",
    "im = Image.new(\"RGBA\", (289, 165)); im.putdata(expanded)\n",
    "buffer=io.BytesIO(); im.save(buffer, format=\"png\")\n",
    "display.Image(buffer.getbuffer(), format=\"png\", embed=True, height=\"200%\")"
   ]
  },
  {
   "cell_type": "code",
   "execution_count": 115,
   "id": "8a5e8704",
   "metadata": {},
   "outputs": [
    {
     "data": {
      "application/javascript": [
       "// Base64 encoded lzma compressed grayscale binary data converted from png cut out pdf graph\n",
       "// const compressed = \"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\";  \n",
       "element = (element instanceof Element ? element : element[0] );\n",
       "const data = Base64.decode(\"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\");\n",
       "// const data = LZMA.decompress(atob(compressed));\n",
       "alert(data)\n",
       "const a = new Uint8Array(data);\n",
       "const b = new Blob([a.buffer], {type:\"image/png\"});\n",
       "const l = URL.createObjectURL(b);\n",
       "element.innerHTML = \"<img src=\\\"\"+l+\"\\\" width=\\\"100%\\\"/>\";\n"
      ],
      "text/plain": [
       "<IPython.core.display.Javascript object>"
      ]
     },
     "metadata": {},
     "output_type": "display_data"
    }
   ],
   "source": [
    "%%javascript\n",
    "// Base64 encoded lzma compressed grayscale binary data converted from png cut out pdf graph\n",
    "// const compressed = \"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\";  \n",
    "\n",
    "const data = Base64.decode(\"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\");\n",
    "// const data = LZMA.decompress(atob(compressed));"
   ]
  },
  {
   "cell_type": "markdown",
   "id": "becd0603",
   "metadata": {},
   "source": [
    "An investigation done by **Leinung, et al. in 2018** on the hormonal treatment of transgender women with oral estradiol, found that testosterone suppression was best achieved with estrogen treatment alone, or when supplemented by medroxyprogesterone. The data suggested that finasteride increased serum testosterone, and spironolactone negatively affected estrogen serum levels because it's estrogen receptor positive. It was noted that the increase in circulating testosterone because of finasteride was expected, but the effect of this is unknown. A large amount of concern was placed on spironolactone use however, as it's use corellated with future breast augmentation. Members of the investigation reasoned that the data supporting spironolactone's anti-androgenic properties were tennuous at best and spironloactone use should be reassessed in the treatment of trans women.\n",
    "\n",
    "*I'm going to be a little proactive and suggest that you not take spironolactone.* The androgen blocking effects of progestins like medroxyprogesterone acetate are well established, and it's may not even be necessary to use a dedicated anti-androgen like finasteride. However, and I can't stress this enough! If you have access to a doctor who can take blood samples for you and help you get your levels to target without flying blind, please see them and work with them. I don't want this research to be responsible for you harming yourself. The verbosity is intended to provide a degree of certainty for people who don't have medical access because the american capitalist adjenda prevents us from getting healthcare as a right, and there are those who go without.\n",
    "\n",
    "While I was researching the metabolism pathways for medroxyprogesterone acetate, I discovered a paper written by **Bethea, C. L. in 2011** which summarizes research suggesting that MPA may actually be very detremental to neuron heath. So I can't bring myself to personally recommend you use that progestin despite its anti-androgen efficacy being displayed in the Leinung, et al. research publication. Instead, I'm going to recommend that if you do use a progestin for additional androgen blocking, you should use micronized progesterone over conjugated alternatives. ***TODO: add data for P4 suppression of testosterone.***\n",
    "\n",
    "\n",
    "\n",
    "plausibly validated the efficacy of 17beta-estradiol in reaching target serum estradiol levels, but also found that spironolactone negatively corellated with serum estrogen targets.\n",
    "\n",
    "> We found a lot of variability in the response of individuals to various doses of estradiol. There was a clear not unexpected positive correlation of increasing doses and serum levels of 17-β estradiol. However, while some achieved goal levels of serum 17-β estradiol (15.4%) on 4 mg daily dose, 18.3% needed to progress to 8 mg daily (with half of those still not achieving goal). We also found an expected negative correlation between serum level of 17-β estradiol and serum testosterone. However, there was again a lot of variability, and 28% of individuals needed the addition of medroxyprogesterone to get further testosterone suppression. **(Leinung, et al. 2018)**\n",
    "\n",
    "The "
   ]
  },
  {
   "cell_type": "markdown",
   "id": "77ba066a",
   "metadata": {},
   "source": [
    "### Controlling Estrogen Levels\n",
    "Of the numerous studdies on the pharmacokinetics of estradiol given via intranasal, buccal, sublingual, oral, vaginal and rectal routes; including various injection methods: there are a few deductions we can make.\n",
    "\n",
    " * For methods which depend upon a mucosa membrain, the liver is significantly bypassed, resulting in a low E1 volume post administration; This increases the safety of administration so we'll only be using those methods.\n",
    " * Using mucosa membrain methods also expends the estrogen quickly, within the first four hours of dosing, the estrogen is almost completely gone.\n",
    " * Patches can administer sustained estrogen dosing.\n",
    " * Buccal administration is far more effective than sublingual.\n",
    " * Injections and patches are the only estrogen dosing options which supply constant estrogen.\n",
    " \n",
    "While Injections and patches are very good at sustained dosing, I've met very few other trans women who use transdermal injections, and none who use patches. I'm somewhat of a recluse so this may be due to my social exposure limitations. My girlfriend who's also trans has \"heard of a few.\" But hasn't met any that use transdermal patches either. And neither have any of her other partners. So for the scope of making a customizable cycle graph, I'm excluding patches and injections from my method. Patches and injections also make it harder to save spare estrogen for a rainy day when your insurance runs out (not that you should do that because it's illegal).\n",
    "\n",
    "Below are the two relevant reference graphs for tablet estradiol taken buccally and sublingualy that I'll use to form my functions. \n"
   ]
  },
  {
   "cell_type": "code",
   "execution_count": null,
   "id": "fee8e139",
   "metadata": {},
   "outputs": [],
   "source": [
    "%%html\n",
    "<div style=\"display: inline-flex\">\n",
    "<a href=\"https://web.archive.org/web/20210213214832/https://pubmed.ncbi.nlm.nih.gov/9052581/\"><img\n",
    "    src=\"https://web.archive.org/web/20201004175811/https://upload.wikimedia.org/wikipedia/commons/8/8a/Estradiol_levels_with_oral_versus_sublingual_estradiol_in_postmenopausal_women.png\"\n",
    "    alt=\"Estradiol levels compared following oral and sublingual dosing\"\n",
    "/></a>\n",
    "<a href=\"https://web.archive.org/web/20210227115810/https://pubmed.ncbi.nlm.nih.gov/12841880/\"><img\n",
    "    src=\"https://web.archive.org/web/20201004175833/https://upload.wikimedia.org/wikipedia/commons/9/9c/Estradiol_levels_during_therapy_with_0.25_mg_buccal_estradiol_in_postmenopausal_women.png\"\n",
    "    alt=\"Estradiol levels measured in hourly intervals following buccal dosing\"\n",
    "/></a>\n",
    "</div>"
   ]
  },
  {
   "cell_type": "code",
   "execution_count": null,
   "id": "ebc2eb12",
   "metadata": {},
   "outputs": [],
   "source": [
    "# So if I'm taking 2mg/day of estradiol, I should on average be at the base line window 1.\n",
    "# Now I just need to have my levels measured at high E, P and Spiro. From there I can adjust\n",
    "# my upper limit to achieve average Window 2 peak. Measuring P levels will be more difficult,\n",
    "# I imagine.\n",
    "#\n",
    "# When dosing E2 sublingually, it's absorbed at least 5x faster and more effectively, reduces\n",
    "# risk of deep vein thrombosis, but it also reaches it's peak serum level at 1hr. Need more info\n",
    "# To deduce drop off period. Regardless, the safety aspects are very compelling to continue my\n",
    "# dosing as it currently is. Buccal dosing is near identical to sublingual dosing, with no significant\n",
    "# measurable difference.\n",
    "cycle_durration=28 # days\n",
    "e2_dose=0.5 # mg\n",
    "prog_dose=10 # mg\n",
    "\n",
    "# NOTE: these \n",
    "male_control_range={\n",
    "\t\"prog\": (10, 40) # pg/mL\n",
    "\t\"e2\": (0.13, 0.97) # ng/mL\n",
    "}\n",
    "\n",
    "# Female control range is unstable, these are the values\n",
    "female_control_range={\n",
    "\t\"prog\": (), # pg/mL\n",
    "\t\"e2\": (), # ng/mL\n",
    "}"
   ]
  },
  {
   "cell_type": "code",
   "execution_count": null,
   "id": "e1caa93d",
   "metadata": {},
   "outputs": [],
   "source": [
    "%%html\n",
    "<img src=\"https://web.archive.org/web/20201218020446im_/https://www.ncbi.nlm.nih.gov/pmc/articles/PMC5944393/bin/fig-2.jpg\"/>"
   ]
  },
  {
   "cell_type": "markdown",
   "id": "ddbd72e7",
   "metadata": {},
   "source": [
    "### Citations\n",
    "\n",
    "BAGOT, C.N., MARSH, M.S., WHITEHEAD, M., SHERWOOD, R., ROBERTS, L., PATEL, R.K. and ARYA, R. (2010), The effect of estrone on thrombin generation may explain the different thrombotic risk between oral and transdermal hormone replacement therapy. Journal of Thrombosis and Haemostasis, 8: 1736-1744. [DOI: 10.1111/j.1538-7836.2010.03953.x](https://web.archive.org/web/20211011210733/https://sci-hubtw.hkvisa.net/10.1111/j.1538-7836.2010.03953.x)\n",
    "\n",
    "K. E. BRUMMEL-ZIEDINS; C. Y. VOSSEN; S. BUTENAS; K. G. MANN; F. R. ROSENDAAL (2005). Thrombin generation profiles in deep venous thrombosis. , 3(11), 2497–2505. [DOI: 10.1111/j.1538-7836.2005.01584.x](https://web.archive.org/web/20211011212138/https://www.ncbi.nlm.nih.gov/pmc/articles/PMC1410192/)\n",
    "\n",
    "Stricker, Reto; Eberhart, Raphael; Chevailler, Marie-Christine; Quinn, Frank A.; Bischof, Paul; Stricker, René (2006). Establishment of detailed reference values for luteinizing hormone, follicle stimulating hormone, estradiol, and progesterone during different phases of the menstrual cycle on the Abbott ARCHITECT® analyzer. Clinical Chemical Laboratory Medicine, 44(7), –. [DOI: 10.1515/cclm.2006.160](https://web.archive.org/web/20211012005337/https://sci-hubtw.hkvisa.net/10.1515/cclm.2006.160)\n",
    "\n",
    "Hilton, Heidi N.; Clarke, Christine L.; Graham, J. Dinny (2017). Estrogen and progesterone signalling in the normal breast and its implications for cancer development. Molecular and Cellular Endocrinology, (), S0303720717304331–. [DOI: 10.1016/j.mce.2017.08.011](https://sci-hubtw.hkvisa.net/10.1016/j.mce.2017.08.011)\n",
    "\n",
    "Beatrice A. Howard; Barry A. Gusterson (2000). Human Breast Development. , 5(2), 119–137. [DOI: 10.1023/a:1026487120779](https://web.archive.org/web/20211012220205/https://sci-hubtw.hkvisa.net/10.1023/a:1026487120779) \n",
    "\n",
    "Heller, Samantha L.; Young Lin, Leng Leng; Melsaether, Amy N.; Moy, Linda; Gao, Yiming  (2018). Hormonal Effects on Breast Density, Fibroglandular Tissue, and                     Background Parenchymal Enhancement. RadioGraphics, (), 180035–. [DOI: 10.1148/rg.2018180035](\n",
    "https://web.archive.org/web/20211017230946/https://sci-hubtw.hkvisa.net/10.1148/rg.2018180035)\n",
    "\n",
    "Sonnenblick, Emily B.; Shah, Ami D.; Goldstein, Zil; Reisman, Tamar (2018). Breast Imaging of Transgender Individuals: A Review. Current Radiology Reports, 6(1), 1–. [DOI: 10.1007/s40134-018-0260-1](https://web.archive.org/web/20211027001907/https://sci-hubtw.hkvisa.net/10.1007/s40134-018-0260-1)\n",
    "\n",
    "Wierckx, Katrien; Gooren, Louis; T'Sjoen, Guy (2014). Clinical Review: Breast Development in Trans Women Receiving Cross-Sex Hormones. The Journal of Sexual Medicine, 11(5), 1240–1247. [DOI: 10.1111/jsm.12487](https://web.archive.org/web/20211020033810/https://sci-hubtw.hkvisa.net/10.1111/jsm.12487)\n",
    "\n",
    "Leinung, Matthew C.; Feustel, Paul J.; Joseph, Jalaja (2018). Hormonal Treatment of Transgender Women with Oral Estradiol. Transgender Health, 3(1), 74–81. [DOI: 10.1089/trgh.2017.0035](https://web.archive.org/web/20201103195444/https://www.ncbi.nlm.nih.gov/pmc/articles/PMC5944393/)\n",
    "\n",
    "Bethea, C. L. (2011). MPA:Medroxy-ProgesteroneAcetate Contributes toMuchPoorAdvice for Women. Endocrinology, 152(2), 343–345. [DOI: 10.1210/en.2010-1376](https://web.archive.org/web/20211029224636/https://sci-hubtw.hkvisa.net/10.1210/en.2010-1376)\n",
    "\n",
    "Wael A. Salameh; Mildred M. Redor-Goldman; Nigel J. Clarke; Richard E. Reitz; Michael P. Caulfield (2010). Validation of a total testosterone assay using high-turbulence liquid chromatography tandem mass spectrometry: Total and free testosterone reference ranges. , 75(2), 0–175. [DOI: 10.1016/j.steroids.2009.11.004](https://web.archive.org/web/20211030033857/https://sci-hubtw.hkvisa.net/10.1016/j.steroids.2009.11.004)\n",
    "<!--\n",
    "Havlicek, J.; Cobey, K. D.; Barrett, L.; Klapilova, K.; Roberts, S. C. (2015). The spandrels of Santa Barbara? A new perspective on the peri-ovulation paradigm. Behavioral Ecology, (), arv064–. [DOI: 10.1093/beheco/arv064](https://web.archive.org/web/20211011223032/https://sci-hubtw.hkvisa.net/10.1093/beheco/arv064)\n",
    "-->"
   ]
  },
  {
   "cell_type": "markdown",
   "id": "d05da3b0",
   "metadata": {},
   "source": [
    "### About Me\n",
    "\n",
    "I came out as trans-feminine back in 2016. When I first inquired about HRT with my doctor, I was lucky to have some WPATH Standards of Care documents with me, because my physician had absolutely no idea how to treat a trans patient. They sent me up to the gynecologist for the building, who seemed very hesitent to perscribe HRT in any dose. I remember that they forced me to sit through the warnings about deep vein thrombosis caused by oral estradiol and how this *would cause non-reversable breast enlargement and potential erectile dysfunction.* Much to the suprise of many of my current transfem friends, this gynecologist wasn't transphobic; or at least not a gatekeeper. Perhaps they saw my paperwork I'd brought along and made the deduction that I was too well read be stopped from achieving my goal. They probably couldn't help worrying though. They sent me home with script for 1mg of estradiol and 100mg of spironolactone to be taken oraly, daily. My request was to be put on 2mg/day to start, but they insisted I titrate up. Being as I was, very insecure and baby trans, I couldn't stand to wait for my breasts to grow in. I thought that just going to a high estrogen dose right away would make my breasts grow in faster. So after two months of feeling hardly any breast growth, I asked my doc for an increase in estradiol. I was given a script for 6mg/day. I felt a little breast development over the next few months, but I was still unsatisfied. So again, I asked for an increase. Now, this is where my ObGyn had some geat advice, which I was too dysphoric to listen to. They insisted that I not take more estrogen than I was already on, and instead try letting the tablets desolve sublingualy; ie, under the tongue. That method is safer because it bypasses the liver a significant degree, of course I thought at the time they were just trying to convince me not to raise my dose by whatever means necessary. They insisted that raising my estrogen dose any further would likely cause severe side effects like constant migranes among other things.\n",
    "\n",
    "Skip forward two years later, I'd been taking estrogen sublingually at 6mg per day consistently. I woke up on my day off and started fondling my now, roughly tanners stage 3 breasts, when I noticed a lump forming in my right breast. This had been preceeded by a sharp pain in that area on the same breast for the past two weeks prior, so my mind immediately went to cancer. My thought was, since my mother and grandmother both got cancer, a maternal genetic risk could plausibly exist within my genes. At the time I had Washington State heathcare. I could have easily asked my physician for a mamogram refferal to check out the cyst. When I was about three months into my transition though, I accidentally screwed up my hair and decided to shave it all off. I had just recently grown my hair out to a level where I was starting to pass. I was far too insecure to ask for a diagnostic appointment then. I decided to monitor the lump closely, doing a breast massage almost every day to try and track it's size over time. After three months of no substantial growth, or development of other cysts, I concluded that it was most likely a benign cyst. It also felt like after a long massage the cyst receeded in size a bit. I figured I should still get it checked out professionally as soon as possible just to make sure; but ended up procrastinating until I lost my healthcare a few months later when I moved into a management position at Knighthawk Protection.\n",
    "\n",
    "When I lost my healthcare, I lost my ability to get a perscription for estradiol or spiro. Which usually isn't a pleasent experience for a trans women like myself who needs HRT to create the secondary sexual characteristics which keep their dysphoria at bay. After a few months of not being able to afford a script and the return of my irritability brought on by testosterone, I snapped. I had to do something to keep the suicidal thoughts away, so I decided to look into DIY HRT. I'd read about how progestogens affects the lobular development of breasts back when I was fetching the paperwork from WPATH before I started my transition and that lobular tissue accounts for about 20% of total breast volume. I'd also asked my now pervious ObGyn, to perscribe me with progesterone in the past, but they perscribed me with hybrid E2/P birth control; which had 0.15% of the recommended 200mg/day micronized progesterone dose I'd read was being perscribed in Canada and Europe. Regardless of their medical knowledge on the pharmacokinetics of that specific birth control, sticking to something well regulated and known is better than being test subject. I stopped that pill a few months after it was prescribed. When I found out that [inhousepharmacy](https://web.archive.org/web/20211014044918/https://www.inhousepharmacy.vu/) was well cited, and had all the progesterone, estrogen and spiro I could ever need, I decided to perscribe myself with some 200mg micronized progesterone tablets. It further solidified my decision when I heard progesterone supposedly has antiandrogenic properties.\n",
    "\n",
    "It wasn't until the middle of the 2019, durring the start of the initial United States presidential response to the COVID-19 Alpha pandemic; where they tried to say it wasn't a big deal and downplayed everything, when my partner at the time convinced me to apply for state healthcare again. This time it would be through Oregon Health Plan because I was living in Portland. The core intent was that I'd be seen about my Cyst ASAP. But that didn't happen for another year. When I was finally seen, I was recommended to have a mamogram, where I was diagnosed with extremely dense breasts. Turns out that when my partner back in 2018 had complained that my breasts felt like muscle they weren't very far off. When my autopsy on the cyst was done, my breasts were almost completely connective tissue. Which I read a week later, put me at an increased risk of breast cancer. The cyst had abnormal tissue developing inside it, suggesting it was also on the road to becomming cancerous if I'd left it untreated for any longer. So I got scheduled for surgery and got it removed.\n",
    "\n",
    "Although investigators have shown in the results of twin studies that breast density of cis women appears to be predominantly determined genetically, breast density may also change owing to endogenous or external factors, including increased or decreased hormonal stimulus. During normal aging, reproductive hormones wane, a finding that in turn is associated with terminal duct unit involution; normal aging tends to decrease breast density in women. In the results of a recent analysis of mammographic density, investigators using a quantitative method in more than 11 000 women across 22 countries found that mammographic density decreased as age increased for both premenopausal and postmenopausal women, and the decreases were more marked during the menopausal transition (Heller, et al. 2018).\n",
    "\n",
    "Following my diagnosis of extremely dense breasts, I decided to lower my estradiol intake temporarily. I wanted to see if doing so could reduce my breast density for the better. And I can say for the moment it has. I'm only about three or four weeks into dropping my estradiol intake from 6mg/day to 2mg/day, and both me and my partner can feel a significant change in the consistency of my breasts. They're alot more squishy than before, and aren't constantly sore. But I'm going to wait for my next mammogram to say for sure that my breast density has gone down, since that's more viable data than my fingers. So going forward, the evidence I have would suggest that my hormones do definitely have a significant effect on my breast density. Obviously this doesn't apply unilaterally to everyone but it's good to note. I'll update this with docs when I get them.\n",
    "\n",
    "This all prompted me to look into the pharmacokinetics of estradiol and progesterone, the two main components of feminizing HRT. I want to know if there's a potential that trans women everywhere have been overexposing themselves to estradiol like myself, or if having a hormonal cycle actually serves a purpose in cis women that us trans girls are missing out on. Every trans girl I've known to use intramuscular injections has presented with larger breasts than me, and on average every other trans woman who uses oral estradiol. I believe this is due to the injections mimicing a cycle, since they need to be dosed biweekly."
   ]
  }
 ],
 "metadata": {
  "kernelspec": {
   "display_name": "Python 3 (ipykernel)",
   "language": "python",
   "name": "python3"
  },
  "language_info": {
   "codemirror_mode": {
    "name": "ipython",
    "version": 3
   },
   "file_extension": ".py",
   "mimetype": "text/x-python",
   "name": "python",
   "nbconvert_exporter": "python",
   "pygments_lexer": "ipython3",
   "version": "3.9.5"
  },
  "widgets": {
   "application/vnd.jupyter.widget-state+json": {
    "state": {
     "000556d09b60493093236380abc3709d": {
      "model_module": "@jupyter-widgets/controls",
      "model_module_version": "1.5.0",
      "model_name": "IntSliderModel",
      "state": {
       "continuous_update": false,
       "layout": "IPY_MODEL_99cd935f702a46008e1f98a9a1e2d729",
       "max": 10,
       "readout": false,
       "step": 0,
       "style": "IPY_MODEL_cb163e2ef93c433f9c7f3d3d39ea4c22"
      }
     },
     "00cfcb539a3548f8b30dd3e2fbb43d32": {
      "model_module": "@jupyter-widgets/base",
      "model_module_version": "1.2.0",
      "model_name": "LayoutModel",
      "state": {}
     },
     "01e0a4e291204c59bc486775e9e8e610": {
      "model_module": "@jupyter-widgets/controls",
      "model_module_version": "1.5.0",
      "model_name": "SliderStyleModel",
      "state": {
       "description_width": ""
      }
     },
     "0214eec0569044609cf1d04998d0008b": {
      "model_module": "@jupyter-widgets/base",
      "model_module_version": "1.2.0",
      "model_name": "LayoutModel",
      "state": {}
     },
     "0287cb5272074eed8f6cd8991e60cb94": {
      "model_module": "@jupyter-widgets/base",
      "model_module_version": "1.2.0",
      "model_name": "LayoutModel",
      "state": {}
     },
     "02c0700c815543918f290e1b91df8a00": {
      "model_module": "@jupyter-widgets/base",
      "model_module_version": "1.2.0",
      "model_name": "LayoutModel",
      "state": {}
     },
     "030fdad668814d829d99b717daad2b8b": {
      "model_module": "@jupyter-widgets/controls",
      "model_module_version": "1.5.0",
      "model_name": "IntSliderModel",
      "state": {
       "layout": "IPY_MODEL_28ed57aa9c5b4f428a05d5d974d1c2c2",
       "max": 10,
       "readout": false,
       "style": "IPY_MODEL_304ffd809ac844bf90c03f6de1baf5b6"
      }
     },
     "0348b67042664da4b6499fb723c5e9ff": {
      "model_module": "@jupyter-widgets/controls",
      "model_module_version": "1.5.0",
      "model_name": "IntSliderModel",
      "state": {
       "layout": "IPY_MODEL_b884c4db83cb44678fc188b563eb8c7b",
       "readout": false,
       "style": "IPY_MODEL_f2d7c518b5c748b8a34ba1dd6f4ed6bb",
       "value": 49
      }
     },
     "0364018cb64f4f73b0c9c6b49a040fc0": {
      "model_module": "@jupyter-widgets/base",
      "model_module_version": "1.2.0",
      "model_name": "LayoutModel",
      "state": {}
     },
     "0412bfb556e34e088a5a761b92a79b2c": {
      "model_module": "@jupyter-widgets/base",
      "model_module_version": "1.2.0",
      "model_name": "LayoutModel",
      "state": {}
     },
     "04133a7b4fe14758a989b6bf21e21ed8": {
      "model_module": "@jupyter-widgets/base",
      "model_module_version": "1.2.0",
      "model_name": "LayoutModel",
      "state": {}
     },
     "042f83f1971741a38e385cc72e3285aa": {
      "model_module": "@jupyter-widgets/base",
      "model_module_version": "1.2.0",
      "model_name": "LayoutModel",
      "state": {}
     },
     "0473d7115cba4512a92c950d3d4e3ab2": {
      "model_module": "@jupyter-widgets/controls",
      "model_module_version": "1.5.0",
      "model_name": "IntSliderModel",
      "state": {
       "layout": "IPY_MODEL_55ae11b6ba614c45a560e8f7de1090a9",
       "readout": false,
       "style": "IPY_MODEL_84e9cc7a35c640f19c3c6f5257673c0a"
      }
     },
     "0484d7b337f94bbda8456b3b7e9713a8": {
      "model_module": "jupyter-matplotlib",
      "model_module_version": "^0.10.1",
      "model_name": "ToolbarModel",
      "state": {
       "layout": "IPY_MODEL_55cce7c0a48c4c8cafa3265ad57843cc",
       "toolitems": [
        [
         "Home",
         "Reset original view",
         "home",
         "home"
        ],
        [
         "Back",
         "Back to previous view",
         "arrow-left",
         "back"
        ],
        [
         "Forward",
         "Forward to next view",
         "arrow-right",
         "forward"
        ],
        [
         "Pan",
         "Left button pans, Right button zooms\nx/y fixes axis, CTRL fixes aspect",
         "arrows",
         "pan"
        ],
        [
         "Zoom",
         "Zoom to rectangle\nx/y fixes axis, CTRL fixes aspect",
         "square-o",
         "zoom"
        ],
        [
         "Download",
         "Download plot",
         "floppy-o",
         "save_figure"
        ]
       ]
      }
     },
     "04876ccbb1dc492dae7c1bc75343e164": {
      "model_module": "@jupyter-widgets/controls",
      "model_module_version": "1.5.0",
      "model_name": "IntSliderModel",
      "state": {
       "continuous_update": false,
       "layout": "IPY_MODEL_976e026536b24b198451ba70afce4602",
       "max": 10,
       "readout": false,
       "style": "IPY_MODEL_074b2e2d9b394ef992789b0ed2c63aff",
       "value": 5
      }
     },
     "04adeb01be574508b81e8a7593b5c2d8": {
      "model_module": "@jupyter-widgets/base",
      "model_module_version": "1.2.0",
      "model_name": "LayoutModel",
      "state": {}
     },
     "053f1e2ba671420eb898bccc463e1743": {
      "model_module": "@jupyter-widgets/base",
      "model_module_version": "1.2.0",
      "model_name": "LayoutModel",
      "state": {}
     },
     "057b9d8248044da18a523403f55b4734": {
      "model_module": "@jupyter-widgets/controls",
      "model_module_version": "1.5.0",
      "model_name": "SliderStyleModel",
      "state": {
       "description_width": ""
      }
     },
     "05c36e6fd21e486182b26a642d536193": {
      "model_module": "@jupyter-widgets/controls",
      "model_module_version": "1.5.0",
      "model_name": "IntSliderModel",
      "state": {
       "layout": "IPY_MODEL_ae2ad99532464c909c29adc9600d9a5b",
       "readout": false,
       "style": "IPY_MODEL_beebfb822f2b4512b1b40199d649ad05"
      }
     },
     "06799525caa54d11aa7be8b8f4b7e9ff": {
      "model_module": "@jupyter-widgets/base",
      "model_module_version": "1.2.0",
      "model_name": "LayoutModel",
      "state": {}
     },
     "06d801342c1143c0b0801657bf06e32f": {
      "model_module": "@jupyter-widgets/controls",
      "model_module_version": "1.5.0",
      "model_name": "SliderStyleModel",
      "state": {
       "description_width": ""
      }
     },
     "074b2e2d9b394ef992789b0ed2c63aff": {
      "model_module": "@jupyter-widgets/controls",
      "model_module_version": "1.5.0",
      "model_name": "SliderStyleModel",
      "state": {
       "description_width": ""
      }
     },
     "07cf4a021581493eb0dc9197b2969d69": {
      "model_module": "@jupyter-widgets/controls",
      "model_module_version": "1.5.0",
      "model_name": "IntSliderModel",
      "state": {
       "continuous_update": false,
       "layout": "IPY_MODEL_dc08a132010b47a5809435c91fb65bcb",
       "max": 10,
       "readout": false,
       "step": 0,
       "style": "IPY_MODEL_6dc91ec07b0a4928b37ad5f788f38d67"
      }
     },
     "085822979c3049fcbbd9e6c71548bc00": {
      "model_module": "@jupyter-widgets/controls",
      "model_module_version": "1.5.0",
      "model_name": "IntSliderModel",
      "state": {
       "continuous_update": false,
       "layout": "IPY_MODEL_a3d594f03cbb4fcea86a3e52e3e6a45a",
       "max": 10,
       "readout": false,
       "step": 0,
       "style": "IPY_MODEL_dcdcf63ff9034c32ade322993d09b8ee"
      }
     },
     "0932e56c4a1e480c9bff4eb52cdf7ef4": {
      "model_module": "@jupyter-widgets/base",
      "model_module_version": "1.2.0",
      "model_name": "LayoutModel",
      "state": {}
     },
     "09bed924c9634159a5be462752037c0a": {
      "model_module": "@jupyter-widgets/base",
      "model_module_version": "1.2.0",
      "model_name": "LayoutModel",
      "state": {}
     },
     "0a1517e890304a0c83deed64ccde09b2": {
      "model_module": "jupyter-matplotlib",
      "model_module_version": "^0.10.1",
      "model_name": "ToolbarModel",
      "state": {
       "layout": "IPY_MODEL_e1c24af2b11244238cefeadc484eb684",
       "toolitems": [
        [
         "Home",
         "Reset original view",
         "home",
         "home"
        ],
        [
         "Back",
         "Back to previous view",
         "arrow-left",
         "back"
        ],
        [
         "Forward",
         "Forward to next view",
         "arrow-right",
         "forward"
        ],
        [
         "Pan",
         "Left button pans, Right button zooms\nx/y fixes axis, CTRL fixes aspect",
         "arrows",
         "pan"
        ],
        [
         "Zoom",
         "Zoom to rectangle\nx/y fixes axis, CTRL fixes aspect",
         "square-o",
         "zoom"
        ],
        [
         "Download",
         "Download plot",
         "floppy-o",
         "save_figure"
        ]
       ]
      }
     },
     "0bbf6fe8f2eb4c00b737827a250714b5": {
      "model_module": "@jupyter-widgets/base",
      "model_module_version": "1.2.0",
      "model_name": "LayoutModel",
      "state": {}
     },
     "0bcdb4675cbc49acb40a4cc28509c7c9": {
      "model_module": "jupyter-matplotlib",
      "model_module_version": "^0.10.1",
      "model_name": "ToolbarModel",
      "state": {
       "layout": "IPY_MODEL_9d7aa336aa9241dd9ee4f599d6b22a4f",
       "toolitems": [
        [
         "Home",
         "Reset original view",
         "home",
         "home"
        ],
        [
         "Back",
         "Back to previous view",
         "arrow-left",
         "back"
        ],
        [
         "Forward",
         "Forward to next view",
         "arrow-right",
         "forward"
        ],
        [
         "Pan",
         "Left button pans, Right button zooms\nx/y fixes axis, CTRL fixes aspect",
         "arrows",
         "pan"
        ],
        [
         "Zoom",
         "Zoom to rectangle\nx/y fixes axis, CTRL fixes aspect",
         "square-o",
         "zoom"
        ],
        [
         "Download",
         "Download plot",
         "floppy-o",
         "save_figure"
        ]
       ]
      }
     },
     "0c651920313b41e6a4765566e1fce4ef": {
      "model_module": "@jupyter-widgets/base",
      "model_module_version": "1.2.0",
      "model_name": "LayoutModel",
      "state": {}
     },
     "0cec81cd00e0459ab00d4ef79a63ca01": {
      "model_module": "jupyter-matplotlib",
      "model_module_version": "^0.10.1",
      "model_name": "ToolbarModel",
      "state": {
       "layout": "IPY_MODEL_c330019455dd41429a789865a199a178",
       "toolitems": [
        [
         "Home",
         "Reset original view",
         "home",
         "home"
        ],
        [
         "Back",
         "Back to previous view",
         "arrow-left",
         "back"
        ],
        [
         "Forward",
         "Forward to next view",
         "arrow-right",
         "forward"
        ],
        [
         "Pan",
         "Left button pans, Right button zooms\nx/y fixes axis, CTRL fixes aspect",
         "arrows",
         "pan"
        ],
        [
         "Zoom",
         "Zoom to rectangle\nx/y fixes axis, CTRL fixes aspect",
         "square-o",
         "zoom"
        ],
        [
         "Download",
         "Download plot",
         "floppy-o",
         "save_figure"
        ]
       ]
      }
     },
     "0cfbbff78504467a99f6f05969b4616d": {
      "model_module": "@jupyter-widgets/controls",
      "model_module_version": "1.5.0",
      "model_name": "VBoxModel",
      "state": {
       "_dom_classes": [
        "widget-interact"
       ],
       "children": [
        "IPY_MODEL_686825753f2f4c5b88fd376839fc479e",
        "IPY_MODEL_411240aa98d84598a3813eb8bca1952e"
       ],
       "layout": "IPY_MODEL_1e889ea6611d46738b7fd3e6570e0b1f"
      }
     },
     "0cfd115a378341b193452ad3e19da86a": {
      "model_module": "@jupyter-widgets/base",
      "model_module_version": "1.2.0",
      "model_name": "LayoutModel",
      "state": {}
     },
     "0dc11b76bc6f4fdd8bae5217e9469ea7": {
      "model_module": "@jupyter-widgets/base",
      "model_module_version": "1.2.0",
      "model_name": "LayoutModel",
      "state": {}
     },
     "0dfbcefda12349ab995b95738719d7aa": {
      "model_module": "@jupyter-widgets/base",
      "model_module_version": "1.2.0",
      "model_name": "LayoutModel",
      "state": {}
     },
     "0f55693425704fd7a9c86b127892793c": {
      "model_module": "jupyter-matplotlib",
      "model_module_version": "^0.10.1",
      "model_name": "ToolbarModel",
      "state": {
       "layout": "IPY_MODEL_b836cbcc262348378d8a84faa1d8288a",
       "toolitems": [
        [
         "Home",
         "Reset original view",
         "home",
         "home"
        ],
        [
         "Back",
         "Back to previous view",
         "arrow-left",
         "back"
        ],
        [
         "Forward",
         "Forward to next view",
         "arrow-right",
         "forward"
        ],
        [
         "Pan",
         "Left button pans, Right button zooms\nx/y fixes axis, CTRL fixes aspect",
         "arrows",
         "pan"
        ],
        [
         "Zoom",
         "Zoom to rectangle\nx/y fixes axis, CTRL fixes aspect",
         "square-o",
         "zoom"
        ],
        [
         "Download",
         "Download plot",
         "floppy-o",
         "save_figure"
        ]
       ]
      }
     },
     "10a11c20bb824e5c9966192c03d858e6": {
      "model_module": "@jupyter-widgets/base",
      "model_module_version": "1.2.0",
      "model_name": "LayoutModel",
      "state": {}
     },
     "114b455fa638498aa784d14585c86580": {
      "model_module": "@jupyter-widgets/controls",
      "model_module_version": "1.5.0",
      "model_name": "SliderStyleModel",
      "state": {
       "description_width": ""
      }
     },
     "11de94351bc64dcbacc165e6632e682b": {
      "model_module": "@jupyter-widgets/controls",
      "model_module_version": "1.5.0",
      "model_name": "IntSliderModel",
      "state": {
       "layout": "IPY_MODEL_de5222a5a424493b970b40c458de02c4",
       "readout": false,
       "style": "IPY_MODEL_9af92c847d2d4fabab09f7e5dc65db37"
      }
     },
     "1205815854564d298d1d5c771c23e7e2": {
      "model_module": "@jupyter-widgets/base",
      "model_module_version": "1.2.0",
      "model_name": "LayoutModel",
      "state": {}
     },
     "1224adaff4d440adbcf0f364fd3f30e0": {
      "model_module": "@jupyter-widgets/base",
      "model_module_version": "1.2.0",
      "model_name": "LayoutModel",
      "state": {}
     },
     "124d0e57349c4fb1b684a31c6b5053ae": {
      "model_module": "@jupyter-widgets/controls",
      "model_module_version": "1.5.0",
      "model_name": "IntSliderModel",
      "state": {
       "description": "l",
       "layout": "IPY_MODEL_8a38ce38057c4bf5a94d223b23204442",
       "readout": false,
       "style": "IPY_MODEL_33e0a268855c46e2ab362783fe4a2637",
       "value": 78
      }
     },
     "12b4a106b1d64b239436587f3f045358": {
      "model_module": "@jupyter-widgets/controls",
      "model_module_version": "1.5.0",
      "model_name": "SliderStyleModel",
      "state": {
       "description_width": ""
      }
     },
     "12f2edcefd4742cea04b67e2bcd43dda": {
      "model_module": "@jupyter-widgets/controls",
      "model_module_version": "1.5.0",
      "model_name": "IntSliderModel",
      "state": {
       "continuous_update": false,
       "layout": "IPY_MODEL_994140b6aa194f859d404f593df0d413",
       "max": 10,
       "readout": false,
       "step": 0,
       "style": "IPY_MODEL_6c00dd764cc7493791ac501ac83bbdbf"
      }
     },
     "135efc5d2f8f4a52955d968264594873": {
      "model_module": "jupyter-matplotlib",
      "model_module_version": "^0.10.1",
      "model_name": "ToolbarModel",
      "state": {
       "layout": "IPY_MODEL_9b695e4fb9e543fc97928f6418abe68c",
       "toolitems": [
        [
         "Home",
         "Reset original view",
         "home",
         "home"
        ],
        [
         "Back",
         "Back to previous view",
         "arrow-left",
         "back"
        ],
        [
         "Forward",
         "Forward to next view",
         "arrow-right",
         "forward"
        ],
        [
         "Pan",
         "Left button pans, Right button zooms\nx/y fixes axis, CTRL fixes aspect",
         "arrows",
         "pan"
        ],
        [
         "Zoom",
         "Zoom to rectangle\nx/y fixes axis, CTRL fixes aspect",
         "square-o",
         "zoom"
        ],
        [
         "Download",
         "Download plot",
         "floppy-o",
         "save_figure"
        ]
       ]
      }
     },
     "13ba3709fabc488b982fc757fa2b5c6c": {
      "model_module": "jupyter-matplotlib",
      "model_module_version": "^0.10.1",
      "model_name": "ToolbarModel",
      "state": {
       "layout": "IPY_MODEL_986ec52d6abd4c57801b64f7c6947829",
       "toolitems": [
        [
         "Home",
         "Reset original view",
         "home",
         "home"
        ],
        [
         "Back",
         "Back to previous view",
         "arrow-left",
         "back"
        ],
        [
         "Forward",
         "Forward to next view",
         "arrow-right",
         "forward"
        ],
        [
         "Pan",
         "Left button pans, Right button zooms\nx/y fixes axis, CTRL fixes aspect",
         "arrows",
         "pan"
        ],
        [
         "Zoom",
         "Zoom to rectangle\nx/y fixes axis, CTRL fixes aspect",
         "square-o",
         "zoom"
        ],
        [
         "Download",
         "Download plot",
         "floppy-o",
         "save_figure"
        ]
       ]
      }
     },
     "14f762a053c84b988b0b990d75223ee6": {
      "model_module": "jupyter-matplotlib",
      "model_module_version": "^0.10.1",
      "model_name": "ToolbarModel",
      "state": {
       "layout": "IPY_MODEL_59b5896bf3574dc7ab8d1e0fb8d03d4b",
       "toolitems": [
        [
         "Home",
         "Reset original view",
         "home",
         "home"
        ],
        [
         "Back",
         "Back to previous view",
         "arrow-left",
         "back"
        ],
        [
         "Forward",
         "Forward to next view",
         "arrow-right",
         "forward"
        ],
        [
         "Pan",
         "Left button pans, Right button zooms\nx/y fixes axis, CTRL fixes aspect",
         "arrows",
         "pan"
        ],
        [
         "Zoom",
         "Zoom to rectangle\nx/y fixes axis, CTRL fixes aspect",
         "square-o",
         "zoom"
        ],
        [
         "Download",
         "Download plot",
         "floppy-o",
         "save_figure"
        ]
       ]
      }
     },
     "15063d897aa84d4790a5b02479af2511": {
      "model_module": "@jupyter-widgets/controls",
      "model_module_version": "1.5.0",
      "model_name": "SliderStyleModel",
      "state": {
       "description_width": ""
      }
     },
     "153a3446ac9243eba9d236fa6e4b7ddf": {
      "model_module": "@jupyter-widgets/controls",
      "model_module_version": "1.5.0",
      "model_name": "IntSliderModel",
      "state": {
       "layout": "IPY_MODEL_b7596eac5ac546f088c496cc42b76df2",
       "readout": false,
       "style": "IPY_MODEL_67e743cadb7049adb93553304a6329e2"
      }
     },
     "15aa213671f540b48193a27fd250c006": {
      "model_module": "@jupyter-widgets/base",
      "model_module_version": "1.2.0",
      "model_name": "LayoutModel",
      "state": {}
     },
     "16290c774f774117902688be705fafbc": {
      "model_module": "@jupyter-widgets/base",
      "model_module_version": "1.2.0",
      "model_name": "LayoutModel",
      "state": {}
     },
     "16a215a82cf746b380eb141761711691": {
      "model_module": "@jupyter-widgets/base",
      "model_module_version": "1.2.0",
      "model_name": "LayoutModel",
      "state": {}
     },
     "16d34f74dd734d2889d561cae50ce22a": {
      "model_module": "jupyter-matplotlib",
      "model_module_version": "^0.10.1",
      "model_name": "ToolbarModel",
      "state": {
       "layout": "IPY_MODEL_3ddb20655fa24d71877515ba8e927dfa",
       "toolitems": [
        [
         "Home",
         "Reset original view",
         "home",
         "home"
        ],
        [
         "Back",
         "Back to previous view",
         "arrow-left",
         "back"
        ],
        [
         "Forward",
         "Forward to next view",
         "arrow-right",
         "forward"
        ],
        [
         "Pan",
         "Left button pans, Right button zooms\nx/y fixes axis, CTRL fixes aspect",
         "arrows",
         "pan"
        ],
        [
         "Zoom",
         "Zoom to rectangle\nx/y fixes axis, CTRL fixes aspect",
         "square-o",
         "zoom"
        ],
        [
         "Download",
         "Download plot",
         "floppy-o",
         "save_figure"
        ]
       ]
      }
     },
     "17211db3eef547a183b28bedbc534aa8": {
      "model_module": "@jupyter-widgets/controls",
      "model_module_version": "1.5.0",
      "model_name": "SliderStyleModel",
      "state": {
       "description_width": ""
      }
     },
     "1800791e017c46be8f4d222a0156854b": {
      "model_module": "@jupyter-widgets/base",
      "model_module_version": "1.2.0",
      "model_name": "LayoutModel",
      "state": {}
     },
     "1970af05b4b441e0a96c04fda9d67a00": {
      "model_module": "@jupyter-widgets/controls",
      "model_module_version": "1.5.0",
      "model_name": "SliderStyleModel",
      "state": {
       "description_width": ""
      }
     },
     "19f03fb1804a477dac5c85fb78345d3c": {
      "model_module": "jupyter-matplotlib",
      "model_module_version": "^0.10.1",
      "model_name": "ToolbarModel",
      "state": {
       "layout": "IPY_MODEL_58031a171ce44d3c831446c4ffc8cd6c",
       "toolitems": [
        [
         "Home",
         "Reset original view",
         "home",
         "home"
        ],
        [
         "Back",
         "Back to previous view",
         "arrow-left",
         "back"
        ],
        [
         "Forward",
         "Forward to next view",
         "arrow-right",
         "forward"
        ],
        [
         "Pan",
         "Left button pans, Right button zooms\nx/y fixes axis, CTRL fixes aspect",
         "arrows",
         "pan"
        ],
        [
         "Zoom",
         "Zoom to rectangle\nx/y fixes axis, CTRL fixes aspect",
         "square-o",
         "zoom"
        ],
        [
         "Download",
         "Download plot",
         "floppy-o",
         "save_figure"
        ]
       ]
      }
     },
     "1a164caea1794b48855f319b512588f1": {
      "model_module": "@jupyter-widgets/controls",
      "model_module_version": "1.5.0",
      "model_name": "IntSliderModel",
      "state": {
       "description": "l",
       "layout": "IPY_MODEL_b364952a73cf4ae281ea36b0b5a8f737",
       "readout": false,
       "style": "IPY_MODEL_e56c35b1f5ea4d4ca93b9544a72981a4",
       "value": 55
      }
     },
     "1aa1bca7ca284887a7686e5cbdbc8fd6": {
      "model_module": "jupyter-matplotlib",
      "model_module_version": "^0.10.1",
      "model_name": "ToolbarModel",
      "state": {
       "layout": "IPY_MODEL_d1c46191137b4d35b56fc3e82343e8b1",
       "toolitems": [
        [
         "Home",
         "Reset original view",
         "home",
         "home"
        ],
        [
         "Back",
         "Back to previous view",
         "arrow-left",
         "back"
        ],
        [
         "Forward",
         "Forward to next view",
         "arrow-right",
         "forward"
        ],
        [
         "Pan",
         "Left button pans, Right button zooms\nx/y fixes axis, CTRL fixes aspect",
         "arrows",
         "pan"
        ],
        [
         "Zoom",
         "Zoom to rectangle\nx/y fixes axis, CTRL fixes aspect",
         "square-o",
         "zoom"
        ],
        [
         "Download",
         "Download plot",
         "floppy-o",
         "save_figure"
        ]
       ]
      }
     },
     "1ade6fb5ccd04d0eafe39334a4351583": {
      "model_module": "@jupyter-widgets/base",
      "model_module_version": "1.2.0",
      "model_name": "LayoutModel",
      "state": {}
     },
     "1b3a25263f614418b41ad9ec87917e62": {
      "model_module": "@jupyter-widgets/base",
      "model_module_version": "1.2.0",
      "model_name": "LayoutModel",
      "state": {}
     },
     "1c90b8c42f6b470eba4529421699ec75": {
      "model_module": "@jupyter-widgets/base",
      "model_module_version": "1.2.0",
      "model_name": "LayoutModel",
      "state": {}
     },
     "1cd32c7caf484daf8a102a97651d44b3": {
      "model_module": "@jupyter-widgets/controls",
      "model_module_version": "1.5.0",
      "model_name": "SliderStyleModel",
      "state": {
       "description_width": ""
      }
     },
     "1d828e436f1d4a5e944842ec1f7ab26b": {
      "model_module": "@jupyter-widgets/base",
      "model_module_version": "1.2.0",
      "model_name": "LayoutModel",
      "state": {}
     },
     "1e889ea6611d46738b7fd3e6570e0b1f": {
      "model_module": "@jupyter-widgets/base",
      "model_module_version": "1.2.0",
      "model_name": "LayoutModel",
      "state": {}
     },
     "1ec30a4163ef4c78a1da8625f3e30304": {
      "model_module": "@jupyter-widgets/base",
      "model_module_version": "1.2.0",
      "model_name": "LayoutModel",
      "state": {}
     },
     "1ee06bb1ad18483d944f175383e8ee25": {
      "model_module": "jupyter-matplotlib",
      "model_module_version": "^0.10.1",
      "model_name": "ToolbarModel",
      "state": {
       "layout": "IPY_MODEL_92f2245d3a284c49914cee81c89606ae",
       "toolitems": [
        [
         "Home",
         "Reset original view",
         "home",
         "home"
        ],
        [
         "Back",
         "Back to previous view",
         "arrow-left",
         "back"
        ],
        [
         "Forward",
         "Forward to next view",
         "arrow-right",
         "forward"
        ],
        [
         "Pan",
         "Left button pans, Right button zooms\nx/y fixes axis, CTRL fixes aspect",
         "arrows",
         "pan"
        ],
        [
         "Zoom",
         "Zoom to rectangle\nx/y fixes axis, CTRL fixes aspect",
         "square-o",
         "zoom"
        ],
        [
         "Download",
         "Download plot",
         "floppy-o",
         "save_figure"
        ]
       ]
      }
     },
     "1f70214075274f1980901e5d0d07b268": {
      "model_module": "@jupyter-widgets/base",
      "model_module_version": "1.2.0",
      "model_name": "LayoutModel",
      "state": {}
     },
     "20682ca8b0cf4b918fae8e37e9cb4cc3": {
      "model_module": "@jupyter-widgets/base",
      "model_module_version": "1.2.0",
      "model_name": "LayoutModel",
      "state": {}
     },
     "20896d4b272947c2a1ae88b23f9f2381": {
      "model_module": "@jupyter-widgets/base",
      "model_module_version": "1.2.0",
      "model_name": "LayoutModel",
      "state": {}
     },
     "20bb1fc3c52d4ea982867a05f9dfbf3a": {
      "model_module": "jupyter-matplotlib",
      "model_module_version": "^0.10.1",
      "model_name": "ToolbarModel",
      "state": {
       "layout": "IPY_MODEL_a761224d6d3848fdaee7b6f5e16dbbd2",
       "toolitems": [
        [
         "Home",
         "Reset original view",
         "home",
         "home"
        ],
        [
         "Back",
         "Back to previous view",
         "arrow-left",
         "back"
        ],
        [
         "Forward",
         "Forward to next view",
         "arrow-right",
         "forward"
        ],
        [
         "Pan",
         "Left button pans, Right button zooms\nx/y fixes axis, CTRL fixes aspect",
         "arrows",
         "pan"
        ],
        [
         "Zoom",
         "Zoom to rectangle\nx/y fixes axis, CTRL fixes aspect",
         "square-o",
         "zoom"
        ],
        [
         "Download",
         "Download plot",
         "floppy-o",
         "save_figure"
        ]
       ]
      }
     },
     "219b22292df64e9cb20cf2d99fbf6bf9": {
      "model_module": "@jupyter-widgets/controls",
      "model_module_version": "1.5.0",
      "model_name": "SliderStyleModel",
      "state": {
       "description_width": ""
      }
     },
     "2356a6c90a2e4f92839df30b15cda5e6": {
      "model_module": "@jupyter-widgets/controls",
      "model_module_version": "1.5.0",
      "model_name": "IntSliderModel",
      "state": {
       "layout": "IPY_MODEL_862e55757edf4a969112aca43dc4378a",
       "readout": false,
       "style": "IPY_MODEL_409d325b71af4d6888e97f8bf597d3e3"
      }
     },
     "23f6bcb3b09d4b258966b902df6864d2": {
      "model_module": "@jupyter-widgets/base",
      "model_module_version": "1.2.0",
      "model_name": "LayoutModel",
      "state": {}
     },
     "24433a8672ab486a895af5578adcdab9": {
      "model_module": "@jupyter-widgets/base",
      "model_module_version": "1.2.0",
      "model_name": "LayoutModel",
      "state": {}
     },
     "247f5b81cbfd4abfa93dc09da7c0bf96": {
      "model_module": "@jupyter-widgets/base",
      "model_module_version": "1.2.0",
      "model_name": "LayoutModel",
      "state": {}
     },
     "24a0afe0472e4cc5b7966e1d612a5921": {
      "model_module": "@jupyter-widgets/controls",
      "model_module_version": "1.5.0",
      "model_name": "IntSliderModel",
      "state": {
       "layout": "IPY_MODEL_c067d6049cba418b96672c3f9743d3e5",
       "readout": false,
       "style": "IPY_MODEL_52706e294d0a405e9b4567169142ad2d"
      }
     },
     "24b483f4183449ca80c9699ee6567929": {
      "model_module": "jupyter-matplotlib",
      "model_module_version": "^0.10.1",
      "model_name": "ToolbarModel",
      "state": {
       "layout": "IPY_MODEL_7244349ecc0d48bf99780048ae9194ba",
       "toolitems": [
        [
         "Home",
         "Reset original view",
         "home",
         "home"
        ],
        [
         "Back",
         "Back to previous view",
         "arrow-left",
         "back"
        ],
        [
         "Forward",
         "Forward to next view",
         "arrow-right",
         "forward"
        ],
        [
         "Pan",
         "Left button pans, Right button zooms\nx/y fixes axis, CTRL fixes aspect",
         "arrows",
         "pan"
        ],
        [
         "Zoom",
         "Zoom to rectangle\nx/y fixes axis, CTRL fixes aspect",
         "square-o",
         "zoom"
        ],
        [
         "Download",
         "Download plot",
         "floppy-o",
         "save_figure"
        ]
       ]
      }
     },
     "2540671d08064d4090406712477de071": {
      "model_module": "@jupyter-widgets/base",
      "model_module_version": "1.2.0",
      "model_name": "LayoutModel",
      "state": {}
     },
     "25b8100468fe421ab5150c99caf28bf8": {
      "model_module": "@jupyter-widgets/base",
      "model_module_version": "1.2.0",
      "model_name": "LayoutModel",
      "state": {}
     },
     "25ce5d02b92b4c15944527a58b215e02": {
      "model_module": "@jupyter-widgets/base",
      "model_module_version": "1.2.0",
      "model_name": "LayoutModel",
      "state": {}
     },
     "263cfd0e5fa04f76afcde68c6a15ed5f": {
      "model_module": "@jupyter-widgets/base",
      "model_module_version": "1.2.0",
      "model_name": "LayoutModel",
      "state": {}
     },
     "266ac97c8dc841fc965737b4ce9c0170": {
      "model_module": "@jupyter-widgets/base",
      "model_module_version": "1.2.0",
      "model_name": "LayoutModel",
      "state": {}
     },
     "26b9f51b4c78463d895893b87005136a": {
      "model_module": "@jupyter-widgets/controls",
      "model_module_version": "1.5.0",
      "model_name": "IntSliderModel",
      "state": {
       "layout": "IPY_MODEL_8e842574ee934fa2b4ea24a8224a0a08",
       "max": 10,
       "readout": false,
       "style": "IPY_MODEL_4c924884f3d74a35b634bef20b4f049e"
      }
     },
     "26e6c57bdcbb4ee88a2b76c2989d7922": {
      "model_module": "@jupyter-widgets/controls",
      "model_module_version": "1.5.0",
      "model_name": "IntSliderModel",
      "state": {
       "layout": "IPY_MODEL_c24785cea0f643259efdb5c62e785f64",
       "max": 10,
       "readout": false,
       "style": "IPY_MODEL_a1cf343316254ee0b360c493faff5f99",
       "value": 4
      }
     },
     "27267a4a07ad4723a19837ba85933b52": {
      "model_module": "@jupyter-widgets/controls",
      "model_module_version": "1.5.0",
      "model_name": "IntSliderModel",
      "state": {
       "layout": "IPY_MODEL_dcea1d1da5e04a3c8d4a541c3d086fad",
       "readout": false,
       "style": "IPY_MODEL_bc3ed520126f4804959adf566505ad93",
       "value": 82
      }
     },
     "27508928808842d7b46d62979d5f54a2": {
      "model_module": "@jupyter-widgets/controls",
      "model_module_version": "1.5.0",
      "model_name": "SliderStyleModel",
      "state": {
       "description_width": ""
      }
     },
     "27d9fc68d1b940cab09bd94904eafdbd": {
      "model_module": "@jupyter-widgets/controls",
      "model_module_version": "1.5.0",
      "model_name": "SliderStyleModel",
      "state": {
       "description_width": ""
      }
     },
     "281d389f969a4d4795b234ea1eda0ad6": {
      "model_module": "@jupyter-widgets/controls",
      "model_module_version": "1.5.0",
      "model_name": "SliderStyleModel",
      "state": {
       "description_width": ""
      }
     },
     "28ed57aa9c5b4f428a05d5d974d1c2c2": {
      "model_module": "@jupyter-widgets/base",
      "model_module_version": "1.2.0",
      "model_name": "LayoutModel",
      "state": {}
     },
     "29448b97cfdb44578fcaea9218e8289b": {
      "model_module": "jupyter-matplotlib",
      "model_module_version": "^0.10.1",
      "model_name": "ToolbarModel",
      "state": {
       "layout": "IPY_MODEL_02c0700c815543918f290e1b91df8a00",
       "toolitems": [
        [
         "Home",
         "Reset original view",
         "home",
         "home"
        ],
        [
         "Back",
         "Back to previous view",
         "arrow-left",
         "back"
        ],
        [
         "Forward",
         "Forward to next view",
         "arrow-right",
         "forward"
        ],
        [
         "Pan",
         "Left button pans, Right button zooms\nx/y fixes axis, CTRL fixes aspect",
         "arrows",
         "pan"
        ],
        [
         "Zoom",
         "Zoom to rectangle\nx/y fixes axis, CTRL fixes aspect",
         "square-o",
         "zoom"
        ],
        [
         "Download",
         "Download plot",
         "floppy-o",
         "save_figure"
        ]
       ]
      }
     },
     "296f49edffee4a958151c16abe943be1": {
      "model_module": "@jupyter-widgets/base",
      "model_module_version": "1.2.0",
      "model_name": "LayoutModel",
      "state": {}
     },
     "29ddfa0fbec5449cba693d5e61a30960": {
      "model_module": "@jupyter-widgets/base",
      "model_module_version": "1.2.0",
      "model_name": "LayoutModel",
      "state": {}
     },
     "2aa96b4ca55b49f6a2de20bd5193137c": {
      "model_module": "@jupyter-widgets/base",
      "model_module_version": "1.2.0",
      "model_name": "LayoutModel",
      "state": {}
     },
     "2aebc5fb2a7b4c7d940b2a7906162b03": {
      "model_module": "@jupyter-widgets/base",
      "model_module_version": "1.2.0",
      "model_name": "LayoutModel",
      "state": {}
     },
     "2b343815c0d546b7aab1d1737c1588ba": {
      "model_module": "@jupyter-widgets/controls",
      "model_module_version": "1.5.0",
      "model_name": "IntSliderModel",
      "state": {
       "layout": "IPY_MODEL_750daa1ed9c644d1b6f5ca0aa9ab19ff",
       "max": 10,
       "readout": false,
       "style": "IPY_MODEL_3500891491a44a4980bba991d3f378c8",
       "value": 5
      }
     },
     "2b6fc15486944a68a5c5d807165fb2f7": {
      "model_module": "@jupyter-widgets/base",
      "model_module_version": "1.2.0",
      "model_name": "LayoutModel",
      "state": {}
     },
     "2c411611af1b444ea67b12f0168ccef0": {
      "model_module": "@jupyter-widgets/base",
      "model_module_version": "1.2.0",
      "model_name": "LayoutModel",
      "state": {}
     },
     "2c416e37bd4547e685e3c61aa3c8444e": {
      "model_module": "@jupyter-widgets/controls",
      "model_module_version": "1.5.0",
      "model_name": "SliderStyleModel",
      "state": {
       "description_width": ""
      }
     },
     "2d02125070314a3f9460ecaa81817911": {
      "model_module": "jupyter-matplotlib",
      "model_module_version": "^0.10.1",
      "model_name": "ToolbarModel",
      "state": {
       "layout": "IPY_MODEL_d1888aa82d1e4032b56a4ebe9386cc3e",
       "toolitems": [
        [
         "Home",
         "Reset original view",
         "home",
         "home"
        ],
        [
         "Back",
         "Back to previous view",
         "arrow-left",
         "back"
        ],
        [
         "Forward",
         "Forward to next view",
         "arrow-right",
         "forward"
        ],
        [
         "Pan",
         "Left button pans, Right button zooms\nx/y fixes axis, CTRL fixes aspect",
         "arrows",
         "pan"
        ],
        [
         "Zoom",
         "Zoom to rectangle\nx/y fixes axis, CTRL fixes aspect",
         "square-o",
         "zoom"
        ],
        [
         "Download",
         "Download plot",
         "floppy-o",
         "save_figure"
        ]
       ]
      }
     },
     "2d0d985b714445e3b9adb58ae2994a92": {
      "model_module": "jupyter-matplotlib",
      "model_module_version": "^0.10.1",
      "model_name": "ToolbarModel",
      "state": {
       "layout": "IPY_MODEL_62f0bf5e7c6142f493c23bd0fee6060a",
       "toolitems": [
        [
         "Home",
         "Reset original view",
         "home",
         "home"
        ],
        [
         "Back",
         "Back to previous view",
         "arrow-left",
         "back"
        ],
        [
         "Forward",
         "Forward to next view",
         "arrow-right",
         "forward"
        ],
        [
         "Pan",
         "Left button pans, Right button zooms\nx/y fixes axis, CTRL fixes aspect",
         "arrows",
         "pan"
        ],
        [
         "Zoom",
         "Zoom to rectangle\nx/y fixes axis, CTRL fixes aspect",
         "square-o",
         "zoom"
        ],
        [
         "Download",
         "Download plot",
         "floppy-o",
         "save_figure"
        ]
       ]
      }
     },
     "2d0dea36868e46db9457ab2a8d199e04": {
      "model_module": "@jupyter-widgets/controls",
      "model_module_version": "1.5.0",
      "model_name": "SliderStyleModel",
      "state": {
       "description_width": ""
      }
     },
     "2d3d6fe03407491989a9e956a8695edc": {
      "model_module": "@jupyter-widgets/controls",
      "model_module_version": "1.5.0",
      "model_name": "IntSliderModel",
      "state": {
       "layout": "IPY_MODEL_d8a0709c66744ed181a9fb22ec73a7f0",
       "readout": false,
       "style": "IPY_MODEL_b646eaefbc784ae39dc753731d6d02bb"
      }
     },
     "2ddbfd604c1c433f8c9b2f76fb6d0a00": {
      "model_module": "@jupyter-widgets/base",
      "model_module_version": "1.2.0",
      "model_name": "LayoutModel",
      "state": {}
     },
     "2fb719313135441e9e785b46557e2058": {
      "model_module": "jupyter-matplotlib",
      "model_module_version": "^0.10.1",
      "model_name": "ToolbarModel",
      "state": {
       "layout": "IPY_MODEL_0287cb5272074eed8f6cd8991e60cb94",
       "toolitems": [
        [
         "Home",
         "Reset original view",
         "home",
         "home"
        ],
        [
         "Back",
         "Back to previous view",
         "arrow-left",
         "back"
        ],
        [
         "Forward",
         "Forward to next view",
         "arrow-right",
         "forward"
        ],
        [
         "Pan",
         "Left button pans, Right button zooms\nx/y fixes axis, CTRL fixes aspect",
         "arrows",
         "pan"
        ],
        [
         "Zoom",
         "Zoom to rectangle\nx/y fixes axis, CTRL fixes aspect",
         "square-o",
         "zoom"
        ],
        [
         "Download",
         "Download plot",
         "floppy-o",
         "save_figure"
        ]
       ]
      }
     },
     "2fe45f7ece2348fc966e42ce83d594c5": {
      "model_module": "@jupyter-widgets/controls",
      "model_module_version": "1.5.0",
      "model_name": "IntSliderModel",
      "state": {
       "layout": "IPY_MODEL_1c90b8c42f6b470eba4529421699ec75",
       "max": 10,
       "readout": false,
       "style": "IPY_MODEL_cc7efee10b434dc09dfe4d7553382e1a",
       "value": 3
      }
     },
     "304437dd9d8f4848a093aa3638a67ee2": {
      "model_module": "@jupyter-widgets/base",
      "model_module_version": "1.2.0",
      "model_name": "LayoutModel",
      "state": {}
     },
     "304ffd809ac844bf90c03f6de1baf5b6": {
      "model_module": "@jupyter-widgets/controls",
      "model_module_version": "1.5.0",
      "model_name": "SliderStyleModel",
      "state": {
       "description_width": ""
      }
     },
     "31bbfda9981a4ab7bd2255a7d5dafaa9": {
      "model_module": "@jupyter-widgets/base",
      "model_module_version": "1.2.0",
      "model_name": "LayoutModel",
      "state": {}
     },
     "32447af998374027b0cc8c53bcfb4807": {
      "model_module": "@jupyter-widgets/base",
      "model_module_version": "1.2.0",
      "model_name": "LayoutModel",
      "state": {}
     },
     "3319d48484504f25b6c34d74dc3084f1": {
      "model_module": "@jupyter-widgets/controls",
      "model_module_version": "1.5.0",
      "model_name": "IntSliderModel",
      "state": {
       "layout": "IPY_MODEL_5c696c4da55444ed9430423b0b9de4d8",
       "readout": false,
       "style": "IPY_MODEL_a5467d97af6f44949cdb0abc75e9d3af",
       "value": 43
      }
     },
     "335256f25dc443dba253827ee3fc6fa3": {
      "model_module": "@jupyter-widgets/base",
      "model_module_version": "1.2.0",
      "model_name": "LayoutModel",
      "state": {}
     },
     "33e0a268855c46e2ab362783fe4a2637": {
      "model_module": "@jupyter-widgets/controls",
      "model_module_version": "1.5.0",
      "model_name": "SliderStyleModel",
      "state": {
       "description_width": ""
      }
     },
     "33f3cd65d8424cc5a24fbac9a8b9d55f": {
      "model_module": "@jupyter-widgets/base",
      "model_module_version": "1.2.0",
      "model_name": "LayoutModel",
      "state": {}
     },
     "348b073db8c148beba945c13631b0dca": {
      "model_module": "@jupyter-widgets/controls",
      "model_module_version": "1.5.0",
      "model_name": "SliderStyleModel",
      "state": {
       "description_width": ""
      }
     },
     "3500891491a44a4980bba991d3f378c8": {
      "model_module": "@jupyter-widgets/controls",
      "model_module_version": "1.5.0",
      "model_name": "SliderStyleModel",
      "state": {
       "description_width": ""
      }
     },
     "3563f749e58743a7bf659177126e2097": {
      "model_module": "@jupyter-widgets/controls",
      "model_module_version": "1.5.0",
      "model_name": "IntSliderModel",
      "state": {
       "layout": "IPY_MODEL_8c364f25588b4bc6ba0d11b312b937c4",
       "readout": false,
       "style": "IPY_MODEL_5c7115b77e0b4319a41e0d8ef35ee789"
      }
     },
     "357173cfed9342848c696fcee5ec5a06": {
      "model_module": "@jupyter-widgets/controls",
      "model_module_version": "1.5.0",
      "model_name": "SliderStyleModel",
      "state": {
       "description_width": ""
      }
     },
     "3591bdad5aa44ef198b7e59f12ab0333": {
      "model_module": "@jupyter-widgets/base",
      "model_module_version": "1.2.0",
      "model_name": "LayoutModel",
      "state": {}
     },
     "35c62e14bbba42249c1f5087be6f0daa": {
      "model_module": "@jupyter-widgets/controls",
      "model_module_version": "1.5.0",
      "model_name": "VBoxModel",
      "state": {
       "_dom_classes": [
        "widget-interact"
       ],
       "children": [
        "IPY_MODEL_a053242d88d24ad480b08a9d2654ca6d",
        "IPY_MODEL_c50f233403674eaa9efa513db23308ee"
       ],
       "layout": "IPY_MODEL_a33d783c6a7e4fd283823eccf3034890"
      }
     },
     "36732655038f4a289a13d09e2add0fc3": {
      "model_module": "@jupyter-widgets/base",
      "model_module_version": "1.2.0",
      "model_name": "LayoutModel",
      "state": {}
     },
     "367ba2a403b84688b4447837f69bdad3": {
      "model_module": "@jupyter-widgets/base",
      "model_module_version": "1.2.0",
      "model_name": "LayoutModel",
      "state": {}
     },
     "374fc8647c0a4bddb1e2b84fb21fd2e3": {
      "model_module": "@jupyter-widgets/base",
      "model_module_version": "1.2.0",
      "model_name": "LayoutModel",
      "state": {}
     },
     "383d83b3a54f49da87003e2592a4fc34": {
      "model_module": "@jupyter-widgets/base",
      "model_module_version": "1.2.0",
      "model_name": "LayoutModel",
      "state": {}
     },
     "38aa5f589ff84decaf1bdd3f91ac9057": {
      "model_module": "jupyter-matplotlib",
      "model_module_version": "^0.10.1",
      "model_name": "ToolbarModel",
      "state": {
       "layout": "IPY_MODEL_9a2a024149b14c5dbbfae06544728523",
       "toolitems": [
        [
         "Home",
         "Reset original view",
         "home",
         "home"
        ],
        [
         "Back",
         "Back to previous view",
         "arrow-left",
         "back"
        ],
        [
         "Forward",
         "Forward to next view",
         "arrow-right",
         "forward"
        ],
        [
         "Pan",
         "Left button pans, Right button zooms\nx/y fixes axis, CTRL fixes aspect",
         "arrows",
         "pan"
        ],
        [
         "Zoom",
         "Zoom to rectangle\nx/y fixes axis, CTRL fixes aspect",
         "square-o",
         "zoom"
        ],
        [
         "Download",
         "Download plot",
         "floppy-o",
         "save_figure"
        ]
       ]
      }
     },
     "391080c04a4643e38f7e961084dd4fad": {
      "model_module": "@jupyter-widgets/base",
      "model_module_version": "1.2.0",
      "model_name": "LayoutModel",
      "state": {}
     },
     "3abfd433ddfd4ff9a9258adc1000559d": {
      "model_module": "@jupyter-widgets/controls",
      "model_module_version": "1.5.0",
      "model_name": "VBoxModel",
      "state": {
       "_dom_classes": [
        "widget-interact"
       ],
       "children": [
        "IPY_MODEL_7bbd78448edd4857974e755f9e0ac273",
        "IPY_MODEL_cc82d3bc404d40ac929a182f729cf2f6"
       ],
       "layout": "IPY_MODEL_0364018cb64f4f73b0c9c6b49a040fc0"
      }
     },
     "3bb5d396f4ef4618b8ef941ac2ea4781": {
      "model_module": "@jupyter-widgets/controls",
      "model_module_version": "1.5.0",
      "model_name": "VBoxModel",
      "state": {
       "_dom_classes": [
        "widget-interact"
       ],
       "children": [
        "IPY_MODEL_1a164caea1794b48855f319b512588f1",
        "IPY_MODEL_d6856336880b40749b96ed39338fe623"
       ],
       "layout": "IPY_MODEL_caa87547671245ab8d8d8b408811a6dc"
      }
     },
     "3c20e5e3f6db46338978f2671e99f915": {
      "model_module": "@jupyter-widgets/controls",
      "model_module_version": "1.5.0",
      "model_name": "IntSliderModel",
      "state": {
       "layout": "IPY_MODEL_689e4e8b9eb04726b0fafe20a82fec92",
       "max": 10,
       "readout": false,
       "style": "IPY_MODEL_51c7a528033f41e48a254e9b58b49dbe"
      }
     },
     "3d6e8fadc3714bcf9cd32d1d379ff3c2": {
      "model_module": "@jupyter-widgets/controls",
      "model_module_version": "1.5.0",
      "model_name": "IntSliderModel",
      "state": {
       "continuous_update": false,
       "layout": "IPY_MODEL_2b6fc15486944a68a5c5d807165fb2f7",
       "readout": false,
       "style": "IPY_MODEL_88a8a7dfd922443e81a5bc2af5a70e57",
       "value": 15
      }
     },
     "3db04fd8053d4c6ebaa9e0b2ae78cd17": {
      "model_module": "@jupyter-widgets/base",
      "model_module_version": "1.2.0",
      "model_name": "LayoutModel",
      "state": {}
     },
     "3ddb20655fa24d71877515ba8e927dfa": {
      "model_module": "@jupyter-widgets/base",
      "model_module_version": "1.2.0",
      "model_name": "LayoutModel",
      "state": {}
     },
     "3ddec6f1ebde4cfab92c696733df8c10": {
      "model_module": "@jupyter-widgets/base",
      "model_module_version": "1.2.0",
      "model_name": "LayoutModel",
      "state": {}
     },
     "3dff9e0bba5e42b2a57f01577890029a": {
      "model_module": "@jupyter-widgets/controls",
      "model_module_version": "1.5.0",
      "model_name": "IntSliderModel",
      "state": {
       "continuous_update": false,
       "layout": "IPY_MODEL_bd8c7714684a4b3781ff518a3186de5f",
       "max": 10,
       "readout": false,
       "style": "IPY_MODEL_8b82c88ce407409c8c4406c2dd50f4bc"
      }
     },
     "3e0fc5e9aa534ba1be1620e929d63c3e": {
      "model_module": "jupyter-matplotlib",
      "model_module_version": "^0.10.1",
      "model_name": "ToolbarModel",
      "state": {
       "layout": "IPY_MODEL_e4a2e763d2334d629dfaa0e18aad281b",
       "toolitems": [
        [
         "Home",
         "Reset original view",
         "home",
         "home"
        ],
        [
         "Back",
         "Back to previous view",
         "arrow-left",
         "back"
        ],
        [
         "Forward",
         "Forward to next view",
         "arrow-right",
         "forward"
        ],
        [
         "Pan",
         "Left button pans, Right button zooms\nx/y fixes axis, CTRL fixes aspect",
         "arrows",
         "pan"
        ],
        [
         "Zoom",
         "Zoom to rectangle\nx/y fixes axis, CTRL fixes aspect",
         "square-o",
         "zoom"
        ],
        [
         "Download",
         "Download plot",
         "floppy-o",
         "save_figure"
        ]
       ]
      }
     },
     "3e33f9e826324a92a38bbc704ed03a32": {
      "model_module": "jupyter-matplotlib",
      "model_module_version": "^0.10.1",
      "model_name": "ToolbarModel",
      "state": {
       "layout": "IPY_MODEL_042f83f1971741a38e385cc72e3285aa",
       "toolitems": [
        [
         "Home",
         "Reset original view",
         "home",
         "home"
        ],
        [
         "Back",
         "Back to previous view",
         "arrow-left",
         "back"
        ],
        [
         "Forward",
         "Forward to next view",
         "arrow-right",
         "forward"
        ],
        [
         "Pan",
         "Left button pans, Right button zooms\nx/y fixes axis, CTRL fixes aspect",
         "arrows",
         "pan"
        ],
        [
         "Zoom",
         "Zoom to rectangle\nx/y fixes axis, CTRL fixes aspect",
         "square-o",
         "zoom"
        ],
        [
         "Download",
         "Download plot",
         "floppy-o",
         "save_figure"
        ]
       ]
      }
     },
     "3ebc008f5f6c420ca7d8e7053560ce5e": {
      "model_module": "jupyter-matplotlib",
      "model_module_version": "^0.10.1",
      "model_name": "ToolbarModel",
      "state": {
       "layout": "IPY_MODEL_ade13c86041547d7a9c6a450c8da473c",
       "toolitems": [
        [
         "Home",
         "Reset original view",
         "home",
         "home"
        ],
        [
         "Back",
         "Back to previous view",
         "arrow-left",
         "back"
        ],
        [
         "Forward",
         "Forward to next view",
         "arrow-right",
         "forward"
        ],
        [
         "Pan",
         "Left button pans, Right button zooms\nx/y fixes axis, CTRL fixes aspect",
         "arrows",
         "pan"
        ],
        [
         "Zoom",
         "Zoom to rectangle\nx/y fixes axis, CTRL fixes aspect",
         "square-o",
         "zoom"
        ],
        [
         "Download",
         "Download plot",
         "floppy-o",
         "save_figure"
        ]
       ]
      }
     },
     "3ee35e87aa7d4eb09e18b3aa25d9fc58": {
      "model_module": "@jupyter-widgets/base",
      "model_module_version": "1.2.0",
      "model_name": "LayoutModel",
      "state": {}
     },
     "3f25e98d8a194741b72b5bdd8a655653": {
      "model_module": "@jupyter-widgets/controls",
      "model_module_version": "1.5.0",
      "model_name": "IntSliderModel",
      "state": {
       "layout": "IPY_MODEL_6149f3bc47c640d99ff4e697282aadd2",
       "readout": false,
       "style": "IPY_MODEL_977123a0f0bb45c6b15ecccd5a23f5cb"
      }
     },
     "3f3ac649afac4f83b162cc6362b49b5b": {
      "model_module": "@jupyter-widgets/controls",
      "model_module_version": "1.5.0",
      "model_name": "VBoxModel",
      "state": {
       "_dom_classes": [
        "widget-interact"
       ],
       "children": [
        "IPY_MODEL_bb9bb19715a6475db7f3ee0712b37db9",
        "IPY_MODEL_a957d51b6a00401eadf3b5375a3832d6"
       ],
       "layout": "IPY_MODEL_0bbf6fe8f2eb4c00b737827a250714b5"
      }
     },
     "3ffeade508fe4905b374d499d932cb32": {
      "model_module": "@jupyter-widgets/base",
      "model_module_version": "1.2.0",
      "model_name": "LayoutModel",
      "state": {}
     },
     "407e571ea5904fd895938a511280c2b7": {
      "model_module": "@jupyter-widgets/controls",
      "model_module_version": "1.5.0",
      "model_name": "IntSliderModel",
      "state": {
       "layout": "IPY_MODEL_4449dffe3eb6433f8d62a4401909a8c8",
       "readout": false,
       "style": "IPY_MODEL_7d25ec86bbe14073b2d74d9d4844c48e",
       "value": 63
      }
     },
     "409d325b71af4d6888e97f8bf597d3e3": {
      "model_module": "@jupyter-widgets/controls",
      "model_module_version": "1.5.0",
      "model_name": "SliderStyleModel",
      "state": {
       "description_width": ""
      }
     },
     "40ab76a8eff54b53a51a1b077fa60ffa": {
      "model_module": "@jupyter-widgets/controls",
      "model_module_version": "1.5.0",
      "model_name": "IntSliderModel",
      "state": {
       "layout": "IPY_MODEL_ec133b540fe341eab0de76c6422b74b5",
       "readout": false,
       "style": "IPY_MODEL_90de4986e2424f1aa10296153a90691b",
       "value": 43
      }
     },
     "40c52ea0f0e443d08205ff4e541e3f0f": {
      "model_module": "jupyter-matplotlib",
      "model_module_version": "^0.10.1",
      "model_name": "ToolbarModel",
      "state": {
       "layout": "IPY_MODEL_2aebc5fb2a7b4c7d940b2a7906162b03",
       "toolitems": [
        [
         "Home",
         "Reset original view",
         "home",
         "home"
        ],
        [
         "Back",
         "Back to previous view",
         "arrow-left",
         "back"
        ],
        [
         "Forward",
         "Forward to next view",
         "arrow-right",
         "forward"
        ],
        [
         "Pan",
         "Left button pans, Right button zooms\nx/y fixes axis, CTRL fixes aspect",
         "arrows",
         "pan"
        ],
        [
         "Zoom",
         "Zoom to rectangle\nx/y fixes axis, CTRL fixes aspect",
         "square-o",
         "zoom"
        ],
        [
         "Download",
         "Download plot",
         "floppy-o",
         "save_figure"
        ]
       ]
      }
     },
     "411085630966463881df581f479c2a33": {
      "model_module": "@jupyter-widgets/controls",
      "model_module_version": "1.5.0",
      "model_name": "SliderStyleModel",
      "state": {
       "description_width": ""
      }
     },
     "411240aa98d84598a3813eb8bca1952e": {
      "model_module": "@jupyter-widgets/output",
      "model_module_version": "1.0.0",
      "model_name": "OutputModel",
      "state": {
       "layout": "IPY_MODEL_e8c821713b384b10b9d112c7e3a760f6"
      }
     },
     "41629bbe112f44d1a8429639538f6b43": {
      "model_module": "@jupyter-widgets/base",
      "model_module_version": "1.2.0",
      "model_name": "LayoutModel",
      "state": {}
     },
     "4164011955c94245af9e343f486f4a56": {
      "model_module": "@jupyter-widgets/controls",
      "model_module_version": "1.5.0",
      "model_name": "IntSliderModel",
      "state": {
       "layout": "IPY_MODEL_d0b2c96fec564fca9c96245c2d7da241",
       "max": 10,
       "readout": false,
       "style": "IPY_MODEL_1970af05b4b441e0a96c04fda9d67a00"
      }
     },
     "41e7df9035c54848a4bc9136e274717b": {
      "model_module": "@jupyter-widgets/controls",
      "model_module_version": "1.5.0",
      "model_name": "IntSliderModel",
      "state": {
       "layout": "IPY_MODEL_67e8b584e0c34bf28715931925fd04db",
       "readout": false,
       "style": "IPY_MODEL_88c57bf6f4d3492cbb07baf70f82f6d8"
      }
     },
     "424da91c2a204bb48b8ff7a774c705aa": {
      "model_module": "jupyter-matplotlib",
      "model_module_version": "^0.10.1",
      "model_name": "MPLCanvasModel",
      "state": {
       "_cursor": "default",
       "_data_url": "data:image/png;base64,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",
       "_figure_label": "P",
       "_height": 480,
       "_image_mode": "diff",
       "_message": "x=5.41 y=7.94",
       "_width": 640,
       "layout": "IPY_MODEL_0cfd115a378341b193452ad3e19da86a",
       "toolbar": "IPY_MODEL_b9a69ea490cd42de8ffb258af2986556",
       "toolbar_position": "left"
      }
     },
     "42dc7147e0674ff3b8419c0d0dd43762": {
      "model_module": "@jupyter-widgets/base",
      "model_module_version": "1.2.0",
      "model_name": "LayoutModel",
      "state": {}
     },
     "4371958874934060a77977d073b4f60e": {
      "model_module": "@jupyter-widgets/controls",
      "model_module_version": "1.5.0",
      "model_name": "SliderStyleModel",
      "state": {
       "description_width": ""
      }
     },
     "439e144fcd384d70b251fa31ab84d6c1": {
      "model_module": "@jupyter-widgets/base",
      "model_module_version": "1.2.0",
      "model_name": "LayoutModel",
      "state": {}
     },
     "43b37ce171da45bcb714e3c1eb146f8b": {
      "model_module": "jupyter-matplotlib",
      "model_module_version": "^0.10.1",
      "model_name": "ToolbarModel",
      "state": {
       "layout": "IPY_MODEL_64601625bf2a4da3b18ac2b5ca7dc9e7",
       "toolitems": [
        [
         "Home",
         "Reset original view",
         "home",
         "home"
        ],
        [
         "Back",
         "Back to previous view",
         "arrow-left",
         "back"
        ],
        [
         "Forward",
         "Forward to next view",
         "arrow-right",
         "forward"
        ],
        [
         "Pan",
         "Left button pans, Right button zooms\nx/y fixes axis, CTRL fixes aspect",
         "arrows",
         "pan"
        ],
        [
         "Zoom",
         "Zoom to rectangle\nx/y fixes axis, CTRL fixes aspect",
         "square-o",
         "zoom"
        ],
        [
         "Download",
         "Download plot",
         "floppy-o",
         "save_figure"
        ]
       ]
      }
     },
     "43cd6f36b1b94f739c5397a3fe4a1900": {
      "model_module": "@jupyter-widgets/base",
      "model_module_version": "1.2.0",
      "model_name": "LayoutModel",
      "state": {}
     },
     "43f387500a6c43e192f33c80985143f6": {
      "model_module": "@jupyter-widgets/base",
      "model_module_version": "1.2.0",
      "model_name": "LayoutModel",
      "state": {}
     },
     "4449dffe3eb6433f8d62a4401909a8c8": {
      "model_module": "@jupyter-widgets/base",
      "model_module_version": "1.2.0",
      "model_name": "LayoutModel",
      "state": {}
     },
     "45249dcd9ddc45a0ba1883dc731c6b96": {
      "model_module": "@jupyter-widgets/base",
      "model_module_version": "1.2.0",
      "model_name": "LayoutModel",
      "state": {}
     },
     "459b8b0e40e6480782c0e1c99ddec413": {
      "model_module": "jupyter-matplotlib",
      "model_module_version": "^0.10.1",
      "model_name": "ToolbarModel",
      "state": {
       "layout": "IPY_MODEL_e331fdb8eeb24f5d82e29f2a59978036",
       "toolitems": [
        [
         "Home",
         "Reset original view",
         "home",
         "home"
        ],
        [
         "Back",
         "Back to previous view",
         "arrow-left",
         "back"
        ],
        [
         "Forward",
         "Forward to next view",
         "arrow-right",
         "forward"
        ],
        [
         "Pan",
         "Left button pans, Right button zooms\nx/y fixes axis, CTRL fixes aspect",
         "arrows",
         "pan"
        ],
        [
         "Zoom",
         "Zoom to rectangle\nx/y fixes axis, CTRL fixes aspect",
         "square-o",
         "zoom"
        ],
        [
         "Download",
         "Download plot",
         "floppy-o",
         "save_figure"
        ]
       ]
      }
     },
     "4611c362a5ca456783e882400800334f": {
      "model_module": "@jupyter-widgets/controls",
      "model_module_version": "1.5.0",
      "model_name": "SliderStyleModel",
      "state": {
       "description_width": ""
      }
     },
     "4613071a5ea0439890a72b7f9131401b": {
      "model_module": "@jupyter-widgets/base",
      "model_module_version": "1.2.0",
      "model_name": "LayoutModel",
      "state": {}
     },
     "46a239e9590b46aba9e927b924efaf91": {
      "model_module": "@jupyter-widgets/controls",
      "model_module_version": "1.5.0",
      "model_name": "IntSliderModel",
      "state": {
       "layout": "IPY_MODEL_fed7327f2290419f90cba366e85a9765",
       "readout": false,
       "style": "IPY_MODEL_2d0dea36868e46db9457ab2a8d199e04"
      }
     },
     "471026a725e6455182966377875b94a4": {
      "model_module": "@jupyter-widgets/base",
      "model_module_version": "1.2.0",
      "model_name": "LayoutModel",
      "state": {}
     },
     "47838e2bf53b43258c7c8a2855615332": {
      "model_module": "@jupyter-widgets/controls",
      "model_module_version": "1.5.0",
      "model_name": "SliderStyleModel",
      "state": {
       "description_width": ""
      }
     },
     "48af142fff7245b28d90a7858d3c509f": {
      "model_module": "@jupyter-widgets/base",
      "model_module_version": "1.2.0",
      "model_name": "LayoutModel",
      "state": {}
     },
     "4932338a8eb24ba89ee507da61464f8c": {
      "model_module": "@jupyter-widgets/controls",
      "model_module_version": "1.5.0",
      "model_name": "SliderStyleModel",
      "state": {
       "description_width": ""
      }
     },
     "499de4db79f34256908d068f112d5223": {
      "model_module": "@jupyter-widgets/base",
      "model_module_version": "1.2.0",
      "model_name": "LayoutModel",
      "state": {}
     },
     "49c51c432bf44d458ae5fa1b1d96c680": {
      "model_module": "@jupyter-widgets/base",
      "model_module_version": "1.2.0",
      "model_name": "LayoutModel",
      "state": {}
     },
     "4a0836d4e55d494f99ed91db2a53d62d": {
      "model_module": "@jupyter-widgets/controls",
      "model_module_version": "1.5.0",
      "model_name": "IntSliderModel",
      "state": {
       "continuous_update": false,
       "layout": "IPY_MODEL_4c00ddade38b4e6fa7efca8b4c840ab5",
       "max": 10,
       "readout": false,
       "style": "IPY_MODEL_c18bac0d7c3645039c1f6bce41c482ff",
       "value": 5
      }
     },
     "4a2e61d4e10a4b27972ef39a12625f84": {
      "model_module": "@jupyter-widgets/base",
      "model_module_version": "1.2.0",
      "model_name": "LayoutModel",
      "state": {}
     },
     "4b220f28de104e0bac9aaf7fb4ad76e7": {
      "model_module": "@jupyter-widgets/base",
      "model_module_version": "1.2.0",
      "model_name": "LayoutModel",
      "state": {}
     },
     "4b82c8af25ce4cef874dd6193b36577f": {
      "model_module": "@jupyter-widgets/output",
      "model_module_version": "1.0.0",
      "model_name": "OutputModel",
      "state": {
       "layout": "IPY_MODEL_0932e56c4a1e480c9bff4eb52cdf7ef4"
      }
     },
     "4bb6f3d4cc9943b69e1cda6274d1c4ab": {
      "model_module": "@jupyter-widgets/controls",
      "model_module_version": "1.5.0",
      "model_name": "IntSliderModel",
      "state": {
       "continuous_update": false,
       "layout": "IPY_MODEL_f42f003e113b4e76a601ad8a7d5739db",
       "max": 10,
       "readout": false,
       "style": "IPY_MODEL_348b073db8c148beba945c13631b0dca",
       "value": 3
      }
     },
     "4c00ddade38b4e6fa7efca8b4c840ab5": {
      "model_module": "@jupyter-widgets/base",
      "model_module_version": "1.2.0",
      "model_name": "LayoutModel",
      "state": {}
     },
     "4c18c361c79f4f06b49e01081a2d885e": {
      "model_module": "@jupyter-widgets/controls",
      "model_module_version": "1.5.0",
      "model_name": "IntSliderModel",
      "state": {
       "layout": "IPY_MODEL_a875489ca79e45af904c10c859e58bbc",
       "max": 10,
       "readout": false,
       "style": "IPY_MODEL_f7005b4a3ebb4b52984b767fd898446b",
       "value": 6
      }
     },
     "4c1c885a773545d998121af0df64c49e": {
      "model_module": "@jupyter-widgets/base",
      "model_module_version": "1.2.0",
      "model_name": "LayoutModel",
      "state": {}
     },
     "4c924884f3d74a35b634bef20b4f049e": {
      "model_module": "@jupyter-widgets/controls",
      "model_module_version": "1.5.0",
      "model_name": "SliderStyleModel",
      "state": {
       "description_width": ""
      }
     },
     "4db1ddb07fcf47dc930bfd6eb3577ce9": {
      "model_module": "@jupyter-widgets/controls",
      "model_module_version": "1.5.0",
      "model_name": "IntSliderModel",
      "state": {
       "continuous_update": false,
       "layout": "IPY_MODEL_1d828e436f1d4a5e944842ec1f7ab26b",
       "max": 10,
       "readout": false,
       "style": "IPY_MODEL_fffcc20e07f24bf89d0f77a394352608",
       "value": 3
      }
     },
     "4e04caaaf3544d53aefdc9bf14cde35b": {
      "model_module": "@jupyter-widgets/base",
      "model_module_version": "1.2.0",
      "model_name": "LayoutModel",
      "state": {}
     },
     "4e2ce255169041d69fb84bf4bf7e2b4f": {
      "model_module": "@jupyter-widgets/base",
      "model_module_version": "1.2.0",
      "model_name": "LayoutModel",
      "state": {}
     },
     "4e6dfc67efb14eea932216528d630459": {
      "model_module": "@jupyter-widgets/base",
      "model_module_version": "1.2.0",
      "model_name": "LayoutModel",
      "state": {}
     },
     "4ec20d0a414e43d5a5a24a486ee8ee95": {
      "model_module": "@jupyter-widgets/base",
      "model_module_version": "1.2.0",
      "model_name": "LayoutModel",
      "state": {}
     },
     "4fbc3d7eec5c48dc9a3673439a485de5": {
      "model_module": "@jupyter-widgets/controls",
      "model_module_version": "1.5.0",
      "model_name": "SliderStyleModel",
      "state": {
       "description_width": ""
      }
     },
     "5090ebbba2a9425fb2fe760610d42b02": {
      "model_module": "@jupyter-widgets/controls",
      "model_module_version": "1.5.0",
      "model_name": "IntSliderModel",
      "state": {
       "layout": "IPY_MODEL_be09a6fd57bd4ec884d821ce60fd793c",
       "readout": false,
       "style": "IPY_MODEL_5c20c26183a447be903d4cb07352dedb"
      }
     },
     "50c22a49aad9425abaa42efb46fdac01": {
      "model_module": "@jupyter-widgets/base",
      "model_module_version": "1.2.0",
      "model_name": "LayoutModel",
      "state": {}
     },
     "50c9db58c11a4bf0b0ae258ebfce5cad": {
      "model_module": "@jupyter-widgets/controls",
      "model_module_version": "1.5.0",
      "model_name": "IntSliderModel",
      "state": {
       "layout": "IPY_MODEL_5ddd3839ffec4d318b4d537c0ce9b8a2",
       "readout": false,
       "style": "IPY_MODEL_757e00a8a42947cf98442caee1597e9b"
      }
     },
     "51c7a528033f41e48a254e9b58b49dbe": {
      "model_module": "@jupyter-widgets/controls",
      "model_module_version": "1.5.0",
      "model_name": "SliderStyleModel",
      "state": {
       "description_width": ""
      }
     },
     "525312054ec24ffbabd2fc9e20e9f02d": {
      "model_module": "@jupyter-widgets/controls",
      "model_module_version": "1.5.0",
      "model_name": "SliderStyleModel",
      "state": {
       "description_width": ""
      }
     },
     "52706e294d0a405e9b4567169142ad2d": {
      "model_module": "@jupyter-widgets/controls",
      "model_module_version": "1.5.0",
      "model_name": "SliderStyleModel",
      "state": {
       "description_width": ""
      }
     },
     "52d32dec98964510a571b51d4e8cfc6b": {
      "model_module": "jupyter-matplotlib",
      "model_module_version": "^0.10.1",
      "model_name": "ToolbarModel",
      "state": {
       "layout": "IPY_MODEL_598f57795f244872aa3c020b845cb181",
       "toolitems": [
        [
         "Home",
         "Reset original view",
         "home",
         "home"
        ],
        [
         "Back",
         "Back to previous view",
         "arrow-left",
         "back"
        ],
        [
         "Forward",
         "Forward to next view",
         "arrow-right",
         "forward"
        ],
        [
         "Pan",
         "Left button pans, Right button zooms\nx/y fixes axis, CTRL fixes aspect",
         "arrows",
         "pan"
        ],
        [
         "Zoom",
         "Zoom to rectangle\nx/y fixes axis, CTRL fixes aspect",
         "square-o",
         "zoom"
        ],
        [
         "Download",
         "Download plot",
         "floppy-o",
         "save_figure"
        ]
       ]
      }
     },
     "53828f2f4c344adb9666d76d4b4e59b5": {
      "model_module": "@jupyter-widgets/controls",
      "model_module_version": "1.5.0",
      "model_name": "IntSliderModel",
      "state": {
       "layout": "IPY_MODEL_7f0305c836064c989a4cbd61ab8e8181",
       "readout": false,
       "style": "IPY_MODEL_b0b68ea8c7f94004be624db8b9bb9d7d",
       "value": 23
      }
     },
     "53f71930f942485eb1902c12623a917b": {
      "model_module": "@jupyter-widgets/base",
      "model_module_version": "1.2.0",
      "model_name": "LayoutModel",
      "state": {}
     },
     "541959766bb34d91aa27610e454ab6aa": {
      "model_module": "jupyter-matplotlib",
      "model_module_version": "^0.10.1",
      "model_name": "ToolbarModel",
      "state": {
       "layout": "IPY_MODEL_c4a9c6a35ee548908ed2f14f32d0479b",
       "toolitems": [
        [
         "Home",
         "Reset original view",
         "home",
         "home"
        ],
        [
         "Back",
         "Back to previous view",
         "arrow-left",
         "back"
        ],
        [
         "Forward",
         "Forward to next view",
         "arrow-right",
         "forward"
        ],
        [
         "Pan",
         "Left button pans, Right button zooms\nx/y fixes axis, CTRL fixes aspect",
         "arrows",
         "pan"
        ],
        [
         "Zoom",
         "Zoom to rectangle\nx/y fixes axis, CTRL fixes aspect",
         "square-o",
         "zoom"
        ],
        [
         "Download",
         "Download plot",
         "floppy-o",
         "save_figure"
        ]
       ]
      }
     },
     "549939fb21af4f4ab8e06708fc420092": {
      "model_module": "@jupyter-widgets/base",
      "model_module_version": "1.2.0",
      "model_name": "LayoutModel",
      "state": {}
     },
     "55024d2d2b634ced8e6cd85545bb7755": {
      "model_module": "@jupyter-widgets/controls",
      "model_module_version": "1.5.0",
      "model_name": "IntSliderModel",
      "state": {
       "layout": "IPY_MODEL_66a1ffb2e16f4c9883fb02567b7132dd",
       "max": 10,
       "readout": false,
       "style": "IPY_MODEL_27508928808842d7b46d62979d5f54a2",
       "value": 6
      }
     },
     "55ae11b6ba614c45a560e8f7de1090a9": {
      "model_module": "@jupyter-widgets/base",
      "model_module_version": "1.2.0",
      "model_name": "LayoutModel",
      "state": {}
     },
     "55be81a54a184b94ae4a91e5e93dc606": {
      "model_module": "@jupyter-widgets/controls",
      "model_module_version": "1.5.0",
      "model_name": "SliderStyleModel",
      "state": {
       "description_width": ""
      }
     },
     "55cce7c0a48c4c8cafa3265ad57843cc": {
      "model_module": "@jupyter-widgets/base",
      "model_module_version": "1.2.0",
      "model_name": "LayoutModel",
      "state": {}
     },
     "55f7906faf43428b9c5933e853fce225": {
      "model_module": "@jupyter-widgets/controls",
      "model_module_version": "1.5.0",
      "model_name": "IntSliderModel",
      "state": {
       "continuous_update": false,
       "layout": "IPY_MODEL_0dc11b76bc6f4fdd8bae5217e9469ea7",
       "max": 10,
       "readout": false,
       "step": 0,
       "style": "IPY_MODEL_f1817cb624964fb19e19f4c26d8f0f4a"
      }
     },
     "569d77bf6e044a8ca0cc4f6db3302b0d": {
      "model_module": "@jupyter-widgets/controls",
      "model_module_version": "1.5.0",
      "model_name": "IntSliderModel",
      "state": {
       "layout": "IPY_MODEL_367ba2a403b84688b4447837f69bdad3",
       "max": 10,
       "readout": false,
       "step": 0,
       "style": "IPY_MODEL_aa8bb2998e6b4ea38de0d23870833ce0"
      }
     },
     "56c1afb8104e4c60a01f17948e8b67bc": {
      "model_module": "@jupyter-widgets/base",
      "model_module_version": "1.2.0",
      "model_name": "LayoutModel",
      "state": {}
     },
     "57573a7e1cc64636adb0d6ad7be4944c": {
      "model_module": "jupyter-matplotlib",
      "model_module_version": "^0.10.1",
      "model_name": "ToolbarModel",
      "state": {
       "layout": "IPY_MODEL_e377b5cfcab84df3aafdbb1d4d1ce7df",
       "toolitems": [
        [
         "Home",
         "Reset original view",
         "home",
         "home"
        ],
        [
         "Back",
         "Back to previous view",
         "arrow-left",
         "back"
        ],
        [
         "Forward",
         "Forward to next view",
         "arrow-right",
         "forward"
        ],
        [
         "Pan",
         "Left button pans, Right button zooms\nx/y fixes axis, CTRL fixes aspect",
         "arrows",
         "pan"
        ],
        [
         "Zoom",
         "Zoom to rectangle\nx/y fixes axis, CTRL fixes aspect",
         "square-o",
         "zoom"
        ],
        [
         "Download",
         "Download plot",
         "floppy-o",
         "save_figure"
        ]
       ]
      }
     },
     "57bf4452423046bab199974fa19738b8": {
      "model_module": "@jupyter-widgets/base",
      "model_module_version": "1.2.0",
      "model_name": "LayoutModel",
      "state": {}
     },
     "58031a171ce44d3c831446c4ffc8cd6c": {
      "model_module": "@jupyter-widgets/base",
      "model_module_version": "1.2.0",
      "model_name": "LayoutModel",
      "state": {}
     },
     "5819698d180642fc92ee6fd76a7301d3": {
      "model_module": "@jupyter-widgets/controls",
      "model_module_version": "1.5.0",
      "model_name": "IntSliderModel",
      "state": {
       "continuous_update": false,
       "layout": "IPY_MODEL_6036720b36d946cbae093e5a0cce0faf",
       "max": 10,
       "readout": false,
       "style": "IPY_MODEL_846101e260b74d9f94e4b7815c978569",
       "value": 10
      }
     },
     "591e464223194567841d2c16ab2a4d58": {
      "model_module": "@jupyter-widgets/base",
      "model_module_version": "1.2.0",
      "model_name": "LayoutModel",
      "state": {}
     },
     "59350e0fe996485bac372ed4a948139f": {
      "model_module": "@jupyter-widgets/base",
      "model_module_version": "1.2.0",
      "model_name": "LayoutModel",
      "state": {}
     },
     "598f57795f244872aa3c020b845cb181": {
      "model_module": "@jupyter-widgets/base",
      "model_module_version": "1.2.0",
      "model_name": "LayoutModel",
      "state": {}
     },
     "59b5896bf3574dc7ab8d1e0fb8d03d4b": {
      "model_module": "@jupyter-widgets/base",
      "model_module_version": "1.2.0",
      "model_name": "LayoutModel",
      "state": {}
     },
     "59dc3b3e874e4c22902b1d5dd6440ad3": {
      "model_module": "@jupyter-widgets/controls",
      "model_module_version": "1.5.0",
      "model_name": "VBoxModel",
      "state": {
       "_dom_classes": [
        "widget-interact"
       ],
       "children": [
        "IPY_MODEL_cda79434008242f8a97084ca178a251e",
        "IPY_MODEL_e31fd263f62948a9bc5973ce50a64440"
       ],
       "layout": "IPY_MODEL_c6a6c339d61240b980e7420af03659ac"
      }
     },
     "5c20c26183a447be903d4cb07352dedb": {
      "model_module": "@jupyter-widgets/controls",
      "model_module_version": "1.5.0",
      "model_name": "SliderStyleModel",
      "state": {
       "description_width": ""
      }
     },
     "5c696c4da55444ed9430423b0b9de4d8": {
      "model_module": "@jupyter-widgets/base",
      "model_module_version": "1.2.0",
      "model_name": "LayoutModel",
      "state": {}
     },
     "5c7115b77e0b4319a41e0d8ef35ee789": {
      "model_module": "@jupyter-widgets/controls",
      "model_module_version": "1.5.0",
      "model_name": "SliderStyleModel",
      "state": {
       "description_width": ""
      }
     },
     "5d13881774ea476694eb370e842496e8": {
      "model_module": "@jupyter-widgets/base",
      "model_module_version": "1.2.0",
      "model_name": "LayoutModel",
      "state": {}
     },
     "5d4a4fe03cea45dd9eb8cfe3bf0fb6a3": {
      "model_module": "jupyter-matplotlib",
      "model_module_version": "^0.10.1",
      "model_name": "ToolbarModel",
      "state": {
       "layout": "IPY_MODEL_2540671d08064d4090406712477de071",
       "toolitems": [
        [
         "Home",
         "Reset original view",
         "home",
         "home"
        ],
        [
         "Back",
         "Back to previous view",
         "arrow-left",
         "back"
        ],
        [
         "Forward",
         "Forward to next view",
         "arrow-right",
         "forward"
        ],
        [
         "Pan",
         "Left button pans, Right button zooms\nx/y fixes axis, CTRL fixes aspect",
         "arrows",
         "pan"
        ],
        [
         "Zoom",
         "Zoom to rectangle\nx/y fixes axis, CTRL fixes aspect",
         "square-o",
         "zoom"
        ],
        [
         "Download",
         "Download plot",
         "floppy-o",
         "save_figure"
        ]
       ]
      }
     },
     "5d914151f8764d95b66baa2978fb58cc": {
      "model_module": "@jupyter-widgets/base",
      "model_module_version": "1.2.0",
      "model_name": "LayoutModel",
      "state": {}
     },
     "5d9b3ed1cc8a4670b5ca27474f8b01bf": {
      "model_module": "jupyter-matplotlib",
      "model_module_version": "^0.10.1",
      "model_name": "ToolbarModel",
      "state": {
       "layout": "IPY_MODEL_dfedec24ead34e518953a0f6d36cfad5",
       "toolitems": [
        [
         "Home",
         "Reset original view",
         "home",
         "home"
        ],
        [
         "Back",
         "Back to previous view",
         "arrow-left",
         "back"
        ],
        [
         "Forward",
         "Forward to next view",
         "arrow-right",
         "forward"
        ],
        [
         "Pan",
         "Left button pans, Right button zooms\nx/y fixes axis, CTRL fixes aspect",
         "arrows",
         "pan"
        ],
        [
         "Zoom",
         "Zoom to rectangle\nx/y fixes axis, CTRL fixes aspect",
         "square-o",
         "zoom"
        ],
        [
         "Download",
         "Download plot",
         "floppy-o",
         "save_figure"
        ]
       ]
      }
     },
     "5ddd3839ffec4d318b4d537c0ce9b8a2": {
      "model_module": "@jupyter-widgets/base",
      "model_module_version": "1.2.0",
      "model_name": "LayoutModel",
      "state": {}
     },
     "5ecfb53d30a1496ab33c30884a3dfe78": {
      "model_module": "jupyter-matplotlib",
      "model_module_version": "^0.10.1",
      "model_name": "ToolbarModel",
      "state": {
       "layout": "IPY_MODEL_2ddbfd604c1c433f8c9b2f76fb6d0a00",
       "toolitems": [
        [
         "Home",
         "Reset original view",
         "home",
         "home"
        ],
        [
         "Back",
         "Back to previous view",
         "arrow-left",
         "back"
        ],
        [
         "Forward",
         "Forward to next view",
         "arrow-right",
         "forward"
        ],
        [
         "Pan",
         "Left button pans, Right button zooms\nx/y fixes axis, CTRL fixes aspect",
         "arrows",
         "pan"
        ],
        [
         "Zoom",
         "Zoom to rectangle\nx/y fixes axis, CTRL fixes aspect",
         "square-o",
         "zoom"
        ],
        [
         "Download",
         "Download plot",
         "floppy-o",
         "save_figure"
        ]
       ]
      }
     },
     "5f6be0ade3e14a70825cb12f2b20d8a2": {
      "model_module": "jupyter-matplotlib",
      "model_module_version": "^0.10.1",
      "model_name": "ToolbarModel",
      "state": {
       "layout": "IPY_MODEL_c1202004892643768bf5660aadeddf3a",
       "toolitems": [
        [
         "Home",
         "Reset original view",
         "home",
         "home"
        ],
        [
         "Back",
         "Back to previous view",
         "arrow-left",
         "back"
        ],
        [
         "Forward",
         "Forward to next view",
         "arrow-right",
         "forward"
        ],
        [
         "Pan",
         "Left button pans, Right button zooms\nx/y fixes axis, CTRL fixes aspect",
         "arrows",
         "pan"
        ],
        [
         "Zoom",
         "Zoom to rectangle\nx/y fixes axis, CTRL fixes aspect",
         "square-o",
         "zoom"
        ],
        [
         "Download",
         "Download plot",
         "floppy-o",
         "save_figure"
        ]
       ]
      }
     },
     "5f9c71203a3244e7880fcf3b41b197da": {
      "model_module": "@jupyter-widgets/controls",
      "model_module_version": "1.5.0",
      "model_name": "IntSliderModel",
      "state": {
       "layout": "IPY_MODEL_a02b68af4c6b43b096af11b281c88124",
       "readout": false,
       "style": "IPY_MODEL_4932338a8eb24ba89ee507da61464f8c"
      }
     },
     "5fa2c6550c3748618f719107cdd6a2c6": {
      "model_module": "@jupyter-widgets/base",
      "model_module_version": "1.2.0",
      "model_name": "LayoutModel",
      "state": {}
     },
     "6036720b36d946cbae093e5a0cce0faf": {
      "model_module": "@jupyter-widgets/base",
      "model_module_version": "1.2.0",
      "model_name": "LayoutModel",
      "state": {}
     },
     "60aca1a2703e48b2a868f7c461baae2e": {
      "model_module": "@jupyter-widgets/base",
      "model_module_version": "1.2.0",
      "model_name": "LayoutModel",
      "state": {}
     },
     "60fc4a17b1484ed484ddb7bb0deadfb5": {
      "model_module": "jupyter-matplotlib",
      "model_module_version": "^0.10.1",
      "model_name": "ToolbarModel",
      "state": {
       "layout": "IPY_MODEL_d1ae0a2eae6f4a5a83fb15aae2cd374a",
       "toolitems": [
        [
         "Home",
         "Reset original view",
         "home",
         "home"
        ],
        [
         "Back",
         "Back to previous view",
         "arrow-left",
         "back"
        ],
        [
         "Forward",
         "Forward to next view",
         "arrow-right",
         "forward"
        ],
        [
         "Pan",
         "Left button pans, Right button zooms\nx/y fixes axis, CTRL fixes aspect",
         "arrows",
         "pan"
        ],
        [
         "Zoom",
         "Zoom to rectangle\nx/y fixes axis, CTRL fixes aspect",
         "square-o",
         "zoom"
        ],
        [
         "Download",
         "Download plot",
         "floppy-o",
         "save_figure"
        ]
       ]
      }
     },
     "6149f3bc47c640d99ff4e697282aadd2": {
      "model_module": "@jupyter-widgets/base",
      "model_module_version": "1.2.0",
      "model_name": "LayoutModel",
      "state": {}
     },
     "614df1779ce94267ab9b5cce7151b1b6": {
      "model_module": "@jupyter-widgets/controls",
      "model_module_version": "1.5.0",
      "model_name": "IntSliderModel",
      "state": {
       "continuous_update": false,
       "layout": "IPY_MODEL_8e243c8207994f7f8ca73ee7c17e28dc",
       "max": 10,
       "readout": false,
       "style": "IPY_MODEL_a73f3295a78c48009580aeff5e644adf"
      }
     },
     "622aaa5c40ec4de19ea23ac99a3af72b": {
      "model_module": "jupyter-matplotlib",
      "model_module_version": "^0.10.1",
      "model_name": "ToolbarModel",
      "state": {
       "layout": "IPY_MODEL_29ddfa0fbec5449cba693d5e61a30960",
       "toolitems": [
        [
         "Home",
         "Reset original view",
         "home",
         "home"
        ],
        [
         "Back",
         "Back to previous view",
         "arrow-left",
         "back"
        ],
        [
         "Forward",
         "Forward to next view",
         "arrow-right",
         "forward"
        ],
        [
         "Pan",
         "Left button pans, Right button zooms\nx/y fixes axis, CTRL fixes aspect",
         "arrows",
         "pan"
        ],
        [
         "Zoom",
         "Zoom to rectangle\nx/y fixes axis, CTRL fixes aspect",
         "square-o",
         "zoom"
        ],
        [
         "Download",
         "Download plot",
         "floppy-o",
         "save_figure"
        ]
       ]
      }
     },
     "62f0bf5e7c6142f493c23bd0fee6060a": {
      "model_module": "@jupyter-widgets/base",
      "model_module_version": "1.2.0",
      "model_name": "LayoutModel",
      "state": {}
     },
     "636b63222b084b658028ef0e25624434": {
      "model_module": "@jupyter-widgets/controls",
      "model_module_version": "1.5.0",
      "model_name": "IntSliderModel",
      "state": {
       "continuous_update": false,
       "layout": "IPY_MODEL_0c651920313b41e6a4765566e1fce4ef",
       "max": 10,
       "readout": false,
       "style": "IPY_MODEL_ccdd3840a7674541b1aa8052e32cbee3"
      }
     },
     "64601625bf2a4da3b18ac2b5ca7dc9e7": {
      "model_module": "@jupyter-widgets/base",
      "model_module_version": "1.2.0",
      "model_name": "LayoutModel",
      "state": {}
     },
     "64dcc9cd371a4c15b3b4a728d99588b2": {
      "model_module": "@jupyter-widgets/controls",
      "model_module_version": "1.5.0",
      "model_name": "IntSliderModel",
      "state": {
       "layout": "IPY_MODEL_94f3b21614dc400cb2b534381de87d9e",
       "readout": false,
       "style": "IPY_MODEL_6d4f2bd782fe4ba39b1d068872126ab5",
       "value": 44
      }
     },
     "64e5be254fba443c8f9e63660952f7f4": {
      "model_module": "@jupyter-widgets/controls",
      "model_module_version": "1.5.0",
      "model_name": "SliderStyleModel",
      "state": {
       "description_width": ""
      }
     },
     "655bced6fb9142c383c5f28d2e29081d": {
      "model_module": "@jupyter-widgets/base",
      "model_module_version": "1.2.0",
      "model_name": "LayoutModel",
      "state": {}
     },
     "6571d3642d6347de83860a5f80c3e52b": {
      "model_module": "@jupyter-widgets/controls",
      "model_module_version": "1.5.0",
      "model_name": "IntSliderModel",
      "state": {
       "continuous_update": false,
       "layout": "IPY_MODEL_24433a8672ab486a895af5578adcdab9",
       "readout": false,
       "style": "IPY_MODEL_17211db3eef547a183b28bedbc534aa8"
      }
     },
     "65859d5c42884ada80c9069c7b55d28a": {
      "model_module": "@jupyter-widgets/base",
      "model_module_version": "1.2.0",
      "model_name": "LayoutModel",
      "state": {}
     },
     "65d88bf8ac0c410aab7c669c2646eaf7": {
      "model_module": "jupyter-matplotlib",
      "model_module_version": "^0.10.1",
      "model_name": "ToolbarModel",
      "state": {
       "layout": "IPY_MODEL_10a11c20bb824e5c9966192c03d858e6",
       "toolitems": [
        [
         "Home",
         "Reset original view",
         "home",
         "home"
        ],
        [
         "Back",
         "Back to previous view",
         "arrow-left",
         "back"
        ],
        [
         "Forward",
         "Forward to next view",
         "arrow-right",
         "forward"
        ],
        [
         "Pan",
         "Left button pans, Right button zooms\nx/y fixes axis, CTRL fixes aspect",
         "arrows",
         "pan"
        ],
        [
         "Zoom",
         "Zoom to rectangle\nx/y fixes axis, CTRL fixes aspect",
         "square-o",
         "zoom"
        ],
        [
         "Download",
         "Download plot",
         "floppy-o",
         "save_figure"
        ]
       ]
      }
     },
     "6633fb5f69a541f5a137d957da327f19": {
      "model_module": "@jupyter-widgets/base",
      "model_module_version": "1.2.0",
      "model_name": "LayoutModel",
      "state": {}
     },
     "66a1ffb2e16f4c9883fb02567b7132dd": {
      "model_module": "@jupyter-widgets/base",
      "model_module_version": "1.2.0",
      "model_name": "LayoutModel",
      "state": {}
     },
     "67b5c8ba28874cb6982dea4d7ad8a4ad": {
      "model_module": "@jupyter-widgets/base",
      "model_module_version": "1.2.0",
      "model_name": "LayoutModel",
      "state": {}
     },
     "67e743cadb7049adb93553304a6329e2": {
      "model_module": "@jupyter-widgets/controls",
      "model_module_version": "1.5.0",
      "model_name": "SliderStyleModel",
      "state": {
       "description_width": ""
      }
     },
     "67e8b584e0c34bf28715931925fd04db": {
      "model_module": "@jupyter-widgets/base",
      "model_module_version": "1.2.0",
      "model_name": "LayoutModel",
      "state": {}
     },
     "686825753f2f4c5b88fd376839fc479e": {
      "model_module": "@jupyter-widgets/controls",
      "model_module_version": "1.5.0",
      "model_name": "IntSliderModel",
      "state": {
       "description": "l",
       "layout": "IPY_MODEL_d7ec200ef85b4e89abc21e5dcb1fb122",
       "readout": false,
       "style": "IPY_MODEL_1cd32c7caf484daf8a102a97651d44b3",
       "value": 68
      }
     },
     "689e4e8b9eb04726b0fafe20a82fec92": {
      "model_module": "@jupyter-widgets/base",
      "model_module_version": "1.2.0",
      "model_name": "LayoutModel",
      "state": {}
     },
     "6984459d2f7c4469bedaf9dab16c6f47": {
      "model_module": "jupyter-matplotlib",
      "model_module_version": "^0.10.1",
      "model_name": "ToolbarModel",
      "state": {
       "layout": "IPY_MODEL_335256f25dc443dba253827ee3fc6fa3",
       "toolitems": [
        [
         "Home",
         "Reset original view",
         "home",
         "home"
        ],
        [
         "Back",
         "Back to previous view",
         "arrow-left",
         "back"
        ],
        [
         "Forward",
         "Forward to next view",
         "arrow-right",
         "forward"
        ],
        [
         "Pan",
         "Left button pans, Right button zooms\nx/y fixes axis, CTRL fixes aspect",
         "arrows",
         "pan"
        ],
        [
         "Zoom",
         "Zoom to rectangle\nx/y fixes axis, CTRL fixes aspect",
         "square-o",
         "zoom"
        ],
        [
         "Download",
         "Download plot",
         "floppy-o",
         "save_figure"
        ]
       ]
      }
     },
     "6a049968b66548dcb3d8af726070851d": {
      "model_module": "jupyter-matplotlib",
      "model_module_version": "^0.10.1",
      "model_name": "ToolbarModel",
      "state": {
       "layout": "IPY_MODEL_4e2ce255169041d69fb84bf4bf7e2b4f",
       "toolitems": [
        [
         "Home",
         "Reset original view",
         "home",
         "home"
        ],
        [
         "Back",
         "Back to previous view",
         "arrow-left",
         "back"
        ],
        [
         "Forward",
         "Forward to next view",
         "arrow-right",
         "forward"
        ],
        [
         "Pan",
         "Left button pans, Right button zooms\nx/y fixes axis, CTRL fixes aspect",
         "arrows",
         "pan"
        ],
        [
         "Zoom",
         "Zoom to rectangle\nx/y fixes axis, CTRL fixes aspect",
         "square-o",
         "zoom"
        ],
        [
         "Download",
         "Download plot",
         "floppy-o",
         "save_figure"
        ]
       ]
      }
     },
     "6c00dd764cc7493791ac501ac83bbdbf": {
      "model_module": "@jupyter-widgets/controls",
      "model_module_version": "1.5.0",
      "model_name": "SliderStyleModel",
      "state": {
       "description_width": ""
      }
     },
     "6c47d689a7464853863550ffc2841281": {
      "model_module": "@jupyter-widgets/base",
      "model_module_version": "1.2.0",
      "model_name": "LayoutModel",
      "state": {}
     },
     "6c486015c9554ffb9d54f4d1005bf134": {
      "model_module": "jupyter-matplotlib",
      "model_module_version": "^0.10.1",
      "model_name": "ToolbarModel",
      "state": {
       "layout": "IPY_MODEL_2aa96b4ca55b49f6a2de20bd5193137c",
       "toolitems": [
        [
         "Home",
         "Reset original view",
         "home",
         "home"
        ],
        [
         "Back",
         "Back to previous view",
         "arrow-left",
         "back"
        ],
        [
         "Forward",
         "Forward to next view",
         "arrow-right",
         "forward"
        ],
        [
         "Pan",
         "Left button pans, Right button zooms\nx/y fixes axis, CTRL fixes aspect",
         "arrows",
         "pan"
        ],
        [
         "Zoom",
         "Zoom to rectangle\nx/y fixes axis, CTRL fixes aspect",
         "square-o",
         "zoom"
        ],
        [
         "Download",
         "Download plot",
         "floppy-o",
         "save_figure"
        ]
       ]
      }
     },
     "6ca441a3189e40a3a77f8b0d9544be3a": {
      "model_module": "jupyter-matplotlib",
      "model_module_version": "^0.10.1",
      "model_name": "ToolbarModel",
      "state": {
       "layout": "IPY_MODEL_23f6bcb3b09d4b258966b902df6864d2",
       "toolitems": [
        [
         "Home",
         "Reset original view",
         "home",
         "home"
        ],
        [
         "Back",
         "Back to previous view",
         "arrow-left",
         "back"
        ],
        [
         "Forward",
         "Forward to next view",
         "arrow-right",
         "forward"
        ],
        [
         "Pan",
         "Left button pans, Right button zooms\nx/y fixes axis, CTRL fixes aspect",
         "arrows",
         "pan"
        ],
        [
         "Zoom",
         "Zoom to rectangle\nx/y fixes axis, CTRL fixes aspect",
         "square-o",
         "zoom"
        ],
        [
         "Download",
         "Download plot",
         "floppy-o",
         "save_figure"
        ]
       ]
      }
     },
     "6d4f2bd782fe4ba39b1d068872126ab5": {
      "model_module": "@jupyter-widgets/controls",
      "model_module_version": "1.5.0",
      "model_name": "SliderStyleModel",
      "state": {
       "description_width": ""
      }
     },
     "6d6850d9c520494995ea575d0840d80e": {
      "model_module": "@jupyter-widgets/controls",
      "model_module_version": "1.5.0",
      "model_name": "SliderStyleModel",
      "state": {
       "description_width": ""
      }
     },
     "6dc91ec07b0a4928b37ad5f788f38d67": {
      "model_module": "@jupyter-widgets/controls",
      "model_module_version": "1.5.0",
      "model_name": "SliderStyleModel",
      "state": {
       "description_width": ""
      }
     },
     "6e2c6a84bb874313a7f763745a24fcd2": {
      "model_module": "jupyter-matplotlib",
      "model_module_version": "^0.10.1",
      "model_name": "ToolbarModel",
      "state": {
       "layout": "IPY_MODEL_60aca1a2703e48b2a868f7c461baae2e",
       "toolitems": [
        [
         "Home",
         "Reset original view",
         "home",
         "home"
        ],
        [
         "Back",
         "Back to previous view",
         "arrow-left",
         "back"
        ],
        [
         "Forward",
         "Forward to next view",
         "arrow-right",
         "forward"
        ],
        [
         "Pan",
         "Left button pans, Right button zooms\nx/y fixes axis, CTRL fixes aspect",
         "arrows",
         "pan"
        ],
        [
         "Zoom",
         "Zoom to rectangle\nx/y fixes axis, CTRL fixes aspect",
         "square-o",
         "zoom"
        ],
        [
         "Download",
         "Download plot",
         "floppy-o",
         "save_figure"
        ]
       ]
      }
     },
     "6e4c13ad4e2e4d978f47173422b2951b": {
      "model_module": "@jupyter-widgets/base",
      "model_module_version": "1.2.0",
      "model_name": "LayoutModel",
      "state": {}
     },
     "6e587eb0827347bba49647525596a90d": {
      "model_module": "jupyter-matplotlib",
      "model_module_version": "^0.10.1",
      "model_name": "ToolbarModel",
      "state": {
       "layout": "IPY_MODEL_d06032f07843453db7b93d50ecc44e48",
       "toolitems": [
        [
         "Home",
         "Reset original view",
         "home",
         "home"
        ],
        [
         "Back",
         "Back to previous view",
         "arrow-left",
         "back"
        ],
        [
         "Forward",
         "Forward to next view",
         "arrow-right",
         "forward"
        ],
        [
         "Pan",
         "Left button pans, Right button zooms\nx/y fixes axis, CTRL fixes aspect",
         "arrows",
         "pan"
        ],
        [
         "Zoom",
         "Zoom to rectangle\nx/y fixes axis, CTRL fixes aspect",
         "square-o",
         "zoom"
        ],
        [
         "Download",
         "Download plot",
         "floppy-o",
         "save_figure"
        ]
       ]
      }
     },
     "6fe2fd4895554d86b4bad61ffc01bf96": {
      "model_module": "@jupyter-widgets/base",
      "model_module_version": "1.2.0",
      "model_name": "LayoutModel",
      "state": {}
     },
     "701c40111cea4a8792c6f595332cafcc": {
      "model_module": "@jupyter-widgets/controls",
      "model_module_version": "1.5.0",
      "model_name": "IntSliderModel",
      "state": {
       "layout": "IPY_MODEL_1ade6fb5ccd04d0eafe39334a4351583",
       "readout": false,
       "style": "IPY_MODEL_755690465104450a8d98e72f04324e7c"
      }
     },
     "70d0abf278c14d0abb769f40ec55fbfd": {
      "model_module": "@jupyter-widgets/base",
      "model_module_version": "1.2.0",
      "model_name": "LayoutModel",
      "state": {}
     },
     "710d626c9510480b9397c81f010de637": {
      "model_module": "@jupyter-widgets/controls",
      "model_module_version": "1.5.0",
      "model_name": "IntSliderModel",
      "state": {
       "layout": "IPY_MODEL_aec3b6f96fc64859aa69ee5309615937",
       "readout": false,
       "style": "IPY_MODEL_27d9fc68d1b940cab09bd94904eafdbd"
      }
     },
     "714c496b1a664f56b8dd58242782240e": {
      "model_module": "@jupyter-widgets/controls",
      "model_module_version": "1.5.0",
      "model_name": "IntSliderModel",
      "state": {
       "layout": "IPY_MODEL_f0fc580bb7c7454bbb637f34d3946c96",
       "max": 10,
       "readout": false,
       "style": "IPY_MODEL_6d6850d9c520494995ea575d0840d80e"
      }
     },
     "7210d60ab261477e81235ff29f6e570e": {
      "model_module": "jupyter-matplotlib",
      "model_module_version": "^0.10.1",
      "model_name": "ToolbarModel",
      "state": {
       "layout": "IPY_MODEL_864f630a52aa4c37bd56e312dd1dc7bb",
       "toolitems": [
        [
         "Home",
         "Reset original view",
         "home",
         "home"
        ],
        [
         "Back",
         "Back to previous view",
         "arrow-left",
         "back"
        ],
        [
         "Forward",
         "Forward to next view",
         "arrow-right",
         "forward"
        ],
        [
         "Pan",
         "Left button pans, Right button zooms\nx/y fixes axis, CTRL fixes aspect",
         "arrows",
         "pan"
        ],
        [
         "Zoom",
         "Zoom to rectangle\nx/y fixes axis, CTRL fixes aspect",
         "square-o",
         "zoom"
        ],
        [
         "Download",
         "Download plot",
         "floppy-o",
         "save_figure"
        ]
       ]
      }
     },
     "7244349ecc0d48bf99780048ae9194ba": {
      "model_module": "@jupyter-widgets/base",
      "model_module_version": "1.2.0",
      "model_name": "LayoutModel",
      "state": {}
     },
     "72f69bd2243a46be9ba6d53cf6efa152": {
      "model_module": "@jupyter-widgets/base",
      "model_module_version": "1.2.0",
      "model_name": "LayoutModel",
      "state": {}
     },
     "74b28290433d40dd85c75349ebf16985": {
      "model_module": "jupyter-matplotlib",
      "model_module_version": "^0.10.1",
      "model_name": "ToolbarModel",
      "state": {
       "layout": "IPY_MODEL_0412bfb556e34e088a5a761b92a79b2c",
       "toolitems": [
        [
         "Home",
         "Reset original view",
         "home",
         "home"
        ],
        [
         "Back",
         "Back to previous view",
         "arrow-left",
         "back"
        ],
        [
         "Forward",
         "Forward to next view",
         "arrow-right",
         "forward"
        ],
        [
         "Pan",
         "Left button pans, Right button zooms\nx/y fixes axis, CTRL fixes aspect",
         "arrows",
         "pan"
        ],
        [
         "Zoom",
         "Zoom to rectangle\nx/y fixes axis, CTRL fixes aspect",
         "square-o",
         "zoom"
        ],
        [
         "Download",
         "Download plot",
         "floppy-o",
         "save_figure"
        ]
       ]
      }
     },
     "74bfb68581ab4b9ca59c37159bfb39b7": {
      "model_module": "jupyter-matplotlib",
      "model_module_version": "^0.10.1",
      "model_name": "ToolbarModel",
      "state": {
       "layout": "IPY_MODEL_5d914151f8764d95b66baa2978fb58cc",
       "toolitems": [
        [
         "Home",
         "Reset original view",
         "home",
         "home"
        ],
        [
         "Back",
         "Back to previous view",
         "arrow-left",
         "back"
        ],
        [
         "Forward",
         "Forward to next view",
         "arrow-right",
         "forward"
        ],
        [
         "Pan",
         "Left button pans, Right button zooms\nx/y fixes axis, CTRL fixes aspect",
         "arrows",
         "pan"
        ],
        [
         "Zoom",
         "Zoom to rectangle\nx/y fixes axis, CTRL fixes aspect",
         "square-o",
         "zoom"
        ],
        [
         "Download",
         "Download plot",
         "floppy-o",
         "save_figure"
        ]
       ]
      }
     },
     "74c67ec2817e48749e4f5368935df17d": {
      "model_module": "@jupyter-widgets/base",
      "model_module_version": "1.2.0",
      "model_name": "LayoutModel",
      "state": {}
     },
     "750daa1ed9c644d1b6f5ca0aa9ab19ff": {
      "model_module": "@jupyter-widgets/base",
      "model_module_version": "1.2.0",
      "model_name": "LayoutModel",
      "state": {}
     },
     "755690465104450a8d98e72f04324e7c": {
      "model_module": "@jupyter-widgets/controls",
      "model_module_version": "1.5.0",
      "model_name": "SliderStyleModel",
      "state": {
       "description_width": ""
      }
     },
     "757e00a8a42947cf98442caee1597e9b": {
      "model_module": "@jupyter-widgets/controls",
      "model_module_version": "1.5.0",
      "model_name": "SliderStyleModel",
      "state": {
       "description_width": ""
      }
     },
     "75e757788eac45a7a0925469e7ffcdd6": {
      "model_module": "@jupyter-widgets/base",
      "model_module_version": "1.2.0",
      "model_name": "LayoutModel",
      "state": {}
     },
     "7816ba5a67bc40cfbb84b65b9b1e2b2e": {
      "model_module": "@jupyter-widgets/controls",
      "model_module_version": "1.5.0",
      "model_name": "IntSliderModel",
      "state": {
       "layout": "IPY_MODEL_a5eec7a1fbab4ce488b2e638caf5637d",
       "readout": false,
       "style": "IPY_MODEL_feb288c393424dc285a7df69dc59f8a8"
      }
     },
     "783bad2c42f746a493cce0b72800466f": {
      "model_module": "@jupyter-widgets/base",
      "model_module_version": "1.2.0",
      "model_name": "LayoutModel",
      "state": {}
     },
     "78433bad7fcc475cb2aaa7ec1594ffeb": {
      "model_module": "@jupyter-widgets/controls",
      "model_module_version": "1.5.0",
      "model_name": "IntSliderModel",
      "state": {
       "layout": "IPY_MODEL_57bf4452423046bab199974fa19738b8",
       "readout": false,
       "style": "IPY_MODEL_4371958874934060a77977d073b4f60e",
       "value": 33
      }
     },
     "786fd5484bcc4268aa2ef378193060be": {
      "model_module": "@jupyter-widgets/base",
      "model_module_version": "1.2.0",
      "model_name": "LayoutModel",
      "state": {}
     },
     "78dc38e29305465d9ffe8a5b9900f49a": {
      "model_module": "@jupyter-widgets/base",
      "model_module_version": "1.2.0",
      "model_name": "LayoutModel",
      "state": {}
     },
     "7a7518853f4c4ee0b4378f82350b057f": {
      "model_module": "@jupyter-widgets/base",
      "model_module_version": "1.2.0",
      "model_name": "LayoutModel",
      "state": {}
     },
     "7b6a0d3ef47446458d4eaacbd9e0c87b": {
      "model_module": "@jupyter-widgets/base",
      "model_module_version": "1.2.0",
      "model_name": "LayoutModel",
      "state": {}
     },
     "7bbd78448edd4857974e755f9e0ac273": {
      "model_module": "@jupyter-widgets/controls",
      "model_module_version": "1.5.0",
      "model_name": "IntSliderModel",
      "state": {
       "description": "l",
       "layout": "IPY_MODEL_6fe2fd4895554d86b4bad61ffc01bf96",
       "readout": false,
       "style": "IPY_MODEL_e93fb5a23b2e435881e707fd583449e7",
       "value": 63
      }
     },
     "7be1ef3d693442e4a5f0f832c1426be2": {
      "model_module": "jupyter-matplotlib",
      "model_module_version": "^0.10.1",
      "model_name": "ToolbarModel",
      "state": {
       "layout": "IPY_MODEL_eea6fcd50e474dfb90b22e20161df00f",
       "toolitems": [
        [
         "Home",
         "Reset original view",
         "home",
         "home"
        ],
        [
         "Back",
         "Back to previous view",
         "arrow-left",
         "back"
        ],
        [
         "Forward",
         "Forward to next view",
         "arrow-right",
         "forward"
        ],
        [
         "Pan",
         "Left button pans, Right button zooms\nx/y fixes axis, CTRL fixes aspect",
         "arrows",
         "pan"
        ],
        [
         "Zoom",
         "Zoom to rectangle\nx/y fixes axis, CTRL fixes aspect",
         "square-o",
         "zoom"
        ],
        [
         "Download",
         "Download plot",
         "floppy-o",
         "save_figure"
        ]
       ]
      }
     },
     "7cc1de6fd0d14747956576d6bcdadf41": {
      "model_module": "@jupyter-widgets/controls",
      "model_module_version": "1.5.0",
      "model_name": "SliderStyleModel",
      "state": {
       "description_width": ""
      }
     },
     "7d0ef8c742294e7b857ce7e23db2f484": {
      "model_module": "@jupyter-widgets/base",
      "model_module_version": "1.2.0",
      "model_name": "LayoutModel",
      "state": {}
     },
     "7d25ec86bbe14073b2d74d9d4844c48e": {
      "model_module": "@jupyter-widgets/controls",
      "model_module_version": "1.5.0",
      "model_name": "SliderStyleModel",
      "state": {
       "description_width": ""
      }
     },
     "7dab65ea9a764006911e274c50ecd32a": {
      "model_module": "jupyter-matplotlib",
      "model_module_version": "^0.10.1",
      "model_name": "ToolbarModel",
      "state": {
       "layout": "IPY_MODEL_3ffeade508fe4905b374d499d932cb32",
       "toolitems": [
        [
         "Home",
         "Reset original view",
         "home",
         "home"
        ],
        [
         "Back",
         "Back to previous view",
         "arrow-left",
         "back"
        ],
        [
         "Forward",
         "Forward to next view",
         "arrow-right",
         "forward"
        ],
        [
         "Pan",
         "Left button pans, Right button zooms\nx/y fixes axis, CTRL fixes aspect",
         "arrows",
         "pan"
        ],
        [
         "Zoom",
         "Zoom to rectangle\nx/y fixes axis, CTRL fixes aspect",
         "square-o",
         "zoom"
        ],
        [
         "Download",
         "Download plot",
         "floppy-o",
         "save_figure"
        ]
       ]
      }
     },
     "7e0e08e3505542c2be4871a9584ec728": {
      "model_module": "@jupyter-widgets/base",
      "model_module_version": "1.2.0",
      "model_name": "LayoutModel",
      "state": {}
     },
     "7ea8bb65057c4190b873cd9b22c7b87c": {
      "model_module": "@jupyter-widgets/base",
      "model_module_version": "1.2.0",
      "model_name": "LayoutModel",
      "state": {}
     },
     "7f0039b9ab2e430c9f696a4cf790b3d6": {
      "model_module": "jupyter-matplotlib",
      "model_module_version": "^0.10.1",
      "model_name": "ToolbarModel",
      "state": {
       "layout": "IPY_MODEL_16a215a82cf746b380eb141761711691",
       "toolitems": [
        [
         "Home",
         "Reset original view",
         "home",
         "home"
        ],
        [
         "Back",
         "Back to previous view",
         "arrow-left",
         "back"
        ],
        [
         "Forward",
         "Forward to next view",
         "arrow-right",
         "forward"
        ],
        [
         "Pan",
         "Left button pans, Right button zooms\nx/y fixes axis, CTRL fixes aspect",
         "arrows",
         "pan"
        ],
        [
         "Zoom",
         "Zoom to rectangle\nx/y fixes axis, CTRL fixes aspect",
         "square-o",
         "zoom"
        ],
        [
         "Download",
         "Download plot",
         "floppy-o",
         "save_figure"
        ]
       ]
      }
     },
     "7f0305c836064c989a4cbd61ab8e8181": {
      "model_module": "@jupyter-widgets/base",
      "model_module_version": "1.2.0",
      "model_name": "LayoutModel",
      "state": {}
     },
     "805d1d4fb6904914aa3bf7b46f969531": {
      "model_module": "@jupyter-widgets/controls",
      "model_module_version": "1.5.0",
      "model_name": "IntSliderModel",
      "state": {
       "continuous_update": false,
       "layout": "IPY_MODEL_263cfd0e5fa04f76afcde68c6a15ed5f",
       "max": 10,
       "readout": false,
       "style": "IPY_MODEL_9b69f8633fb948cdac962d2cc81af726"
      }
     },
     "80b9e946217a4aadabe513b958d09f56": {
      "model_module": "@jupyter-widgets/controls",
      "model_module_version": "1.5.0",
      "model_name": "IntSliderModel",
      "state": {
       "layout": "IPY_MODEL_7a7518853f4c4ee0b4378f82350b057f",
       "readout": false,
       "style": "IPY_MODEL_06d801342c1143c0b0801657bf06e32f",
       "value": 14
      }
     },
     "818a4a4f24b4490ca191638da2f96b9f": {
      "model_module": "@jupyter-widgets/controls",
      "model_module_version": "1.5.0",
      "model_name": "IntSliderModel",
      "state": {
       "continuous_update": false,
       "layout": "IPY_MODEL_f394d417b30146978333c12a08ecd6dd",
       "max": 10,
       "readout": false,
       "style": "IPY_MODEL_281d389f969a4d4795b234ea1eda0ad6",
       "value": 10
      }
     },
     "81de63e43d514b1f8c45460b387068f1": {
      "model_module": "@jupyter-widgets/base",
      "model_module_version": "1.2.0",
      "model_name": "LayoutModel",
      "state": {}
     },
     "81eb3c04fd924b8cbdf3856667aad4c2": {
      "model_module": "@jupyter-widgets/base",
      "model_module_version": "1.2.0",
      "model_name": "LayoutModel",
      "state": {}
     },
     "825351013fcd4725a3fa804eae42a5a1": {
      "model_module": "jupyter-matplotlib",
      "model_module_version": "^0.10.1",
      "model_name": "ToolbarModel",
      "state": {
       "layout": "IPY_MODEL_499de4db79f34256908d068f112d5223",
       "toolitems": [
        [
         "Home",
         "Reset original view",
         "home",
         "home"
        ],
        [
         "Back",
         "Back to previous view",
         "arrow-left",
         "back"
        ],
        [
         "Forward",
         "Forward to next view",
         "arrow-right",
         "forward"
        ],
        [
         "Pan",
         "Left button pans, Right button zooms\nx/y fixes axis, CTRL fixes aspect",
         "arrows",
         "pan"
        ],
        [
         "Zoom",
         "Zoom to rectangle\nx/y fixes axis, CTRL fixes aspect",
         "square-o",
         "zoom"
        ],
        [
         "Download",
         "Download plot",
         "floppy-o",
         "save_figure"
        ]
       ]
      }
     },
     "828db359a1ec42178cf26516b9e1222a": {
      "model_module": "@jupyter-widgets/base",
      "model_module_version": "1.2.0",
      "model_name": "LayoutModel",
      "state": {}
     },
     "839fcb0087b841b6b5b9f63d184a7787": {
      "model_module": "@jupyter-widgets/base",
      "model_module_version": "1.2.0",
      "model_name": "LayoutModel",
      "state": {}
     },
     "846101e260b74d9f94e4b7815c978569": {
      "model_module": "@jupyter-widgets/controls",
      "model_module_version": "1.5.0",
      "model_name": "SliderStyleModel",
      "state": {
       "description_width": ""
      }
     },
     "84e9cc7a35c640f19c3c6f5257673c0a": {
      "model_module": "@jupyter-widgets/controls",
      "model_module_version": "1.5.0",
      "model_name": "SliderStyleModel",
      "state": {
       "description_width": ""
      }
     },
     "85a6c5a72ae44fcaad9c9529f89f9a6b": {
      "model_module": "jupyter-matplotlib",
      "model_module_version": "^0.10.1",
      "model_name": "ToolbarModel",
      "state": {
       "layout": "IPY_MODEL_78dc38e29305465d9ffe8a5b9900f49a",
       "toolitems": [
        [
         "Home",
         "Reset original view",
         "home",
         "home"
        ],
        [
         "Back",
         "Back to previous view",
         "arrow-left",
         "back"
        ],
        [
         "Forward",
         "Forward to next view",
         "arrow-right",
         "forward"
        ],
        [
         "Pan",
         "Left button pans, Right button zooms\nx/y fixes axis, CTRL fixes aspect",
         "arrows",
         "pan"
        ],
        [
         "Zoom",
         "Zoom to rectangle\nx/y fixes axis, CTRL fixes aspect",
         "square-o",
         "zoom"
        ],
        [
         "Download",
         "Download plot",
         "floppy-o",
         "save_figure"
        ]
       ]
      }
     },
     "85ce2201ad804aa38c6ff1c97c9503b7": {
      "model_module": "jupyter-matplotlib",
      "model_module_version": "^0.10.1",
      "model_name": "ToolbarModel",
      "state": {
       "layout": "IPY_MODEL_f8f12b28bee8414e9d29b4189a798550",
       "toolitems": [
        [
         "Home",
         "Reset original view",
         "home",
         "home"
        ],
        [
         "Back",
         "Back to previous view",
         "arrow-left",
         "back"
        ],
        [
         "Forward",
         "Forward to next view",
         "arrow-right",
         "forward"
        ],
        [
         "Pan",
         "Left button pans, Right button zooms\nx/y fixes axis, CTRL fixes aspect",
         "arrows",
         "pan"
        ],
        [
         "Zoom",
         "Zoom to rectangle\nx/y fixes axis, CTRL fixes aspect",
         "square-o",
         "zoom"
        ],
        [
         "Download",
         "Download plot",
         "floppy-o",
         "save_figure"
        ]
       ]
      }
     },
     "862e55757edf4a969112aca43dc4378a": {
      "model_module": "@jupyter-widgets/base",
      "model_module_version": "1.2.0",
      "model_name": "LayoutModel",
      "state": {}
     },
     "864f630a52aa4c37bd56e312dd1dc7bb": {
      "model_module": "@jupyter-widgets/base",
      "model_module_version": "1.2.0",
      "model_name": "LayoutModel",
      "state": {}
     },
     "865136102356419882bb2260106a49ed": {
      "model_module": "@jupyter-widgets/controls",
      "model_module_version": "1.5.0",
      "model_name": "IntSliderModel",
      "state": {
       "continuous_update": false,
       "layout": "IPY_MODEL_9800bac72ed241afa4a494227c36313f",
       "readout": false,
       "style": "IPY_MODEL_f5f58da22f774c718a8fb660ed554b2c",
       "value": 52
      }
     },
     "8694b4506c03446faa8f06392296be6f": {
      "model_module": "@jupyter-widgets/controls",
      "model_module_version": "1.5.0",
      "model_name": "IntSliderModel",
      "state": {
       "layout": "IPY_MODEL_56c1afb8104e4c60a01f17948e8b67bc",
       "readout": false,
       "style": "IPY_MODEL_4611c362a5ca456783e882400800334f"
      }
     },
     "87207aff77b441199b43492684c8b966": {
      "model_module": "jupyter-matplotlib",
      "model_module_version": "^0.10.1",
      "model_name": "ToolbarModel",
      "state": {
       "layout": "IPY_MODEL_75e757788eac45a7a0925469e7ffcdd6",
       "toolitems": [
        [
         "Home",
         "Reset original view",
         "home",
         "home"
        ],
        [
         "Back",
         "Back to previous view",
         "arrow-left",
         "back"
        ],
        [
         "Forward",
         "Forward to next view",
         "arrow-right",
         "forward"
        ],
        [
         "Pan",
         "Left button pans, Right button zooms\nx/y fixes axis, CTRL fixes aspect",
         "arrows",
         "pan"
        ],
        [
         "Zoom",
         "Zoom to rectangle\nx/y fixes axis, CTRL fixes aspect",
         "square-o",
         "zoom"
        ],
        [
         "Download",
         "Download plot",
         "floppy-o",
         "save_figure"
        ]
       ]
      }
     },
     "875301c587ba49fda5626bf67c411c34": {
      "model_module": "@jupyter-widgets/base",
      "model_module_version": "1.2.0",
      "model_name": "LayoutModel",
      "state": {}
     },
     "88a8a7dfd922443e81a5bc2af5a70e57": {
      "model_module": "@jupyter-widgets/controls",
      "model_module_version": "1.5.0",
      "model_name": "SliderStyleModel",
      "state": {
       "description_width": ""
      }
     },
     "88c57bf6f4d3492cbb07baf70f82f6d8": {
      "model_module": "@jupyter-widgets/controls",
      "model_module_version": "1.5.0",
      "model_name": "SliderStyleModel",
      "state": {
       "description_width": ""
      }
     },
     "89e33e0aed21418d91cfa13d14dbcb5b": {
      "model_module": "@jupyter-widgets/base",
      "model_module_version": "1.2.0",
      "model_name": "LayoutModel",
      "state": {}
     },
     "8a38ce38057c4bf5a94d223b23204442": {
      "model_module": "@jupyter-widgets/base",
      "model_module_version": "1.2.0",
      "model_name": "LayoutModel",
      "state": {}
     },
     "8a69a38db9e24f3c980e496982ab8666": {
      "model_module": "@jupyter-widgets/base",
      "model_module_version": "1.2.0",
      "model_name": "LayoutModel",
      "state": {}
     },
     "8ac7f1b45d354b53bde07c4c35067570": {
      "model_module": "@jupyter-widgets/base",
      "model_module_version": "1.2.0",
      "model_name": "LayoutModel",
      "state": {}
     },
     "8ad837c2b5e44d5ba9760e24b4c4c1f9": {
      "model_module": "@jupyter-widgets/controls",
      "model_module_version": "1.5.0",
      "model_name": "SliderStyleModel",
      "state": {
       "description_width": ""
      }
     },
     "8aff175e1c6d435e80903ded4883e80b": {
      "model_module": "@jupyter-widgets/controls",
      "model_module_version": "1.5.0",
      "model_name": "SliderStyleModel",
      "state": {
       "description_width": ""
      }
     },
     "8b3f65bc8d1b401ca0c2565c5f3d4df4": {
      "model_module": "jupyter-matplotlib",
      "model_module_version": "^0.10.1",
      "model_name": "ToolbarModel",
      "state": {
       "layout": "IPY_MODEL_ab0d4e4aeb734c9bacf51a9defb7143e",
       "toolitems": [
        [
         "Home",
         "Reset original view",
         "home",
         "home"
        ],
        [
         "Back",
         "Back to previous view",
         "arrow-left",
         "back"
        ],
        [
         "Forward",
         "Forward to next view",
         "arrow-right",
         "forward"
        ],
        [
         "Pan",
         "Left button pans, Right button zooms\nx/y fixes axis, CTRL fixes aspect",
         "arrows",
         "pan"
        ],
        [
         "Zoom",
         "Zoom to rectangle\nx/y fixes axis, CTRL fixes aspect",
         "square-o",
         "zoom"
        ],
        [
         "Download",
         "Download plot",
         "floppy-o",
         "save_figure"
        ]
       ]
      }
     },
     "8b82c88ce407409c8c4406c2dd50f4bc": {
      "model_module": "@jupyter-widgets/controls",
      "model_module_version": "1.5.0",
      "model_name": "SliderStyleModel",
      "state": {
       "description_width": ""
      }
     },
     "8c364f25588b4bc6ba0d11b312b937c4": {
      "model_module": "@jupyter-widgets/base",
      "model_module_version": "1.2.0",
      "model_name": "LayoutModel",
      "state": {}
     },
     "8cc554b5f5f64c8b99d52de94b562642": {
      "model_module": "@jupyter-widgets/base",
      "model_module_version": "1.2.0",
      "model_name": "LayoutModel",
      "state": {}
     },
     "8ccd033da83a4a50aa91c323e217a727": {
      "model_module": "@jupyter-widgets/controls",
      "model_module_version": "1.5.0",
      "model_name": "IntSliderModel",
      "state": {
       "layout": "IPY_MODEL_e42e36707ae144ebbd0fb4cc8c3c86c4",
       "readout": false,
       "style": "IPY_MODEL_411085630966463881df581f479c2a33"
      }
     },
     "8d9dcd3e5ddc482086c39b8334550092": {
      "model_module": "@jupyter-widgets/base",
      "model_module_version": "1.2.0",
      "model_name": "LayoutModel",
      "state": {}
     },
     "8deb27f199d847d793c616390dff491e": {
      "model_module": "@jupyter-widgets/controls",
      "model_module_version": "1.5.0",
      "model_name": "SliderStyleModel",
      "state": {
       "description_width": ""
      }
     },
     "8e04d6ed178c4bf18d1ad2f210f5de9d": {
      "model_module": "jupyter-matplotlib",
      "model_module_version": "^0.10.1",
      "model_name": "ToolbarModel",
      "state": {
       "layout": "IPY_MODEL_3ddec6f1ebde4cfab92c696733df8c10",
       "toolitems": [
        [
         "Home",
         "Reset original view",
         "home",
         "home"
        ],
        [
         "Back",
         "Back to previous view",
         "arrow-left",
         "back"
        ],
        [
         "Forward",
         "Forward to next view",
         "arrow-right",
         "forward"
        ],
        [
         "Pan",
         "Left button pans, Right button zooms\nx/y fixes axis, CTRL fixes aspect",
         "arrows",
         "pan"
        ],
        [
         "Zoom",
         "Zoom to rectangle\nx/y fixes axis, CTRL fixes aspect",
         "square-o",
         "zoom"
        ],
        [
         "Download",
         "Download plot",
         "floppy-o",
         "save_figure"
        ]
       ]
      }
     },
     "8e243c8207994f7f8ca73ee7c17e28dc": {
      "model_module": "@jupyter-widgets/base",
      "model_module_version": "1.2.0",
      "model_name": "LayoutModel",
      "state": {}
     },
     "8e842574ee934fa2b4ea24a8224a0a08": {
      "model_module": "@jupyter-widgets/base",
      "model_module_version": "1.2.0",
      "model_name": "LayoutModel",
      "state": {}
     },
     "8f8d374b63c24e59a5f755523477cacd": {
      "model_module": "jupyter-matplotlib",
      "model_module_version": "^0.10.1",
      "model_name": "ToolbarModel",
      "state": {
       "layout": "IPY_MODEL_bd7c0b3a45be454a8a6e49dc91b91701",
       "toolitems": [
        [
         "Home",
         "Reset original view",
         "home",
         "home"
        ],
        [
         "Back",
         "Back to previous view",
         "arrow-left",
         "back"
        ],
        [
         "Forward",
         "Forward to next view",
         "arrow-right",
         "forward"
        ],
        [
         "Pan",
         "Left button pans, Right button zooms\nx/y fixes axis, CTRL fixes aspect",
         "arrows",
         "pan"
        ],
        [
         "Zoom",
         "Zoom to rectangle\nx/y fixes axis, CTRL fixes aspect",
         "square-o",
         "zoom"
        ],
        [
         "Download",
         "Download plot",
         "floppy-o",
         "save_figure"
        ]
       ]
      }
     },
     "8fdec696530e4d11819fbe93c02003a3": {
      "model_module": "@jupyter-widgets/controls",
      "model_module_version": "1.5.0",
      "model_name": "IntSliderModel",
      "state": {
       "continuous_update": false,
       "layout": "IPY_MODEL_4a2e61d4e10a4b27972ef39a12625f84",
       "max": 10,
       "readout": false,
       "step": 0,
       "style": "IPY_MODEL_a9b51b6415674f7c8223aa28fa06af22"
      }
     },
     "909012e57cf443af86329ee7592cbec3": {
      "model_module": "@jupyter-widgets/controls",
      "model_module_version": "1.5.0",
      "model_name": "SliderStyleModel",
      "state": {
       "description_width": ""
      }
     },
     "90de4986e2424f1aa10296153a90691b": {
      "model_module": "@jupyter-widgets/controls",
      "model_module_version": "1.5.0",
      "model_name": "SliderStyleModel",
      "state": {
       "description_width": ""
      }
     },
     "915dcb4d50db4b2db5747b89a93d82b0": {
      "model_module": "@jupyter-widgets/base",
      "model_module_version": "1.2.0",
      "model_name": "LayoutModel",
      "state": {}
     },
     "916ee3940a7d4229b14381a30bc8654c": {
      "model_module": "@jupyter-widgets/base",
      "model_module_version": "1.2.0",
      "model_name": "LayoutModel",
      "state": {}
     },
     "91d13522985e47c197a99fe5fbc3af8c": {
      "model_module": "@jupyter-widgets/controls",
      "model_module_version": "1.5.0",
      "model_name": "SliderStyleModel",
      "state": {
       "description_width": ""
      }
     },
     "9290217908f34268bf9cd63646a32301": {
      "model_module": "@jupyter-widgets/base",
      "model_module_version": "1.2.0",
      "model_name": "LayoutModel",
      "state": {}
     },
     "92b33f56e9834c1cab1906f84c7e0570": {
      "model_module": "@jupyter-widgets/base",
      "model_module_version": "1.2.0",
      "model_name": "LayoutModel",
      "state": {}
     },
     "92e522d8d3004dd7a9d765e50a1af93c": {
      "model_module": "@jupyter-widgets/base",
      "model_module_version": "1.2.0",
      "model_name": "LayoutModel",
      "state": {}
     },
     "92f2245d3a284c49914cee81c89606ae": {
      "model_module": "@jupyter-widgets/base",
      "model_module_version": "1.2.0",
      "model_name": "LayoutModel",
      "state": {}
     },
     "93421e9bd0eb481db88c08d010942633": {
      "model_module": "@jupyter-widgets/controls",
      "model_module_version": "1.5.0",
      "model_name": "IntSliderModel",
      "state": {
       "continuous_update": false,
       "layout": "IPY_MODEL_aeb4681f45324920a914aeb8e01db7dd",
       "max": 10,
       "readout": false,
       "style": "IPY_MODEL_a99faaade5594dcd8401e568d75abfd1"
      }
     },
     "9350c9f2e9d644659b22dd83dda60886": {
      "model_module": "@jupyter-widgets/base",
      "model_module_version": "1.2.0",
      "model_name": "LayoutModel",
      "state": {}
     },
     "93e6fbd35c2d40198092baa9cbb3a82f": {
      "model_module": "jupyter-matplotlib",
      "model_module_version": "^0.10.1",
      "model_name": "ToolbarModel",
      "state": {
       "layout": "IPY_MODEL_839fcb0087b841b6b5b9f63d184a7787",
       "toolitems": [
        [
         "Home",
         "Reset original view",
         "home",
         "home"
        ],
        [
         "Back",
         "Back to previous view",
         "arrow-left",
         "back"
        ],
        [
         "Forward",
         "Forward to next view",
         "arrow-right",
         "forward"
        ],
        [
         "Pan",
         "Left button pans, Right button zooms\nx/y fixes axis, CTRL fixes aspect",
         "arrows",
         "pan"
        ],
        [
         "Zoom",
         "Zoom to rectangle\nx/y fixes axis, CTRL fixes aspect",
         "square-o",
         "zoom"
        ],
        [
         "Download",
         "Download plot",
         "floppy-o",
         "save_figure"
        ]
       ]
      }
     },
     "944589a9039d450eaa06cb77e82f1616": {
      "model_module": "@jupyter-widgets/base",
      "model_module_version": "1.2.0",
      "model_name": "LayoutModel",
      "state": {}
     },
     "9480e21c3173426ba357b782924c1ba1": {
      "model_module": "@jupyter-widgets/base",
      "model_module_version": "1.2.0",
      "model_name": "LayoutModel",
      "state": {}
     },
     "94d815bbc26f405a9bde3eb35b41c27b": {
      "model_module": "@jupyter-widgets/base",
      "model_module_version": "1.2.0",
      "model_name": "LayoutModel",
      "state": {}
     },
     "94f3b21614dc400cb2b534381de87d9e": {
      "model_module": "@jupyter-widgets/base",
      "model_module_version": "1.2.0",
      "model_name": "LayoutModel",
      "state": {}
     },
     "96786313446541c884f04861a3f9112e": {
      "model_module": "@jupyter-widgets/output",
      "model_module_version": "1.0.0",
      "model_name": "OutputModel",
      "state": {
       "layout": "IPY_MODEL_efbce1cd42f240e3a4f986497fff4be1"
      }
     },
     "96d571d35a814651841d81f482f0ada5": {
      "model_module": "@jupyter-widgets/controls",
      "model_module_version": "1.5.0",
      "model_name": "IntSliderModel",
      "state": {
       "continuous_update": false,
       "layout": "IPY_MODEL_b0736087b4754b778d4a2a753f564f7e",
       "max": 10,
       "readout": false,
       "style": "IPY_MODEL_01e0a4e291204c59bc486775e9e8e610"
      }
     },
     "976e026536b24b198451ba70afce4602": {
      "model_module": "@jupyter-widgets/base",
      "model_module_version": "1.2.0",
      "model_name": "LayoutModel",
      "state": {}
     },
     "977123a0f0bb45c6b15ecccd5a23f5cb": {
      "model_module": "@jupyter-widgets/controls",
      "model_module_version": "1.5.0",
      "model_name": "SliderStyleModel",
      "state": {
       "description_width": ""
      }
     },
     "97d82de0b62d4fbb8925b95b6622a505": {
      "model_module": "@jupyter-widgets/base",
      "model_module_version": "1.2.0",
      "model_name": "LayoutModel",
      "state": {}
     },
     "97de98b890ce47b9a67caa5093073d5b": {
      "model_module": "@jupyter-widgets/base",
      "model_module_version": "1.2.0",
      "model_name": "LayoutModel",
      "state": {}
     },
     "9800bac72ed241afa4a494227c36313f": {
      "model_module": "@jupyter-widgets/base",
      "model_module_version": "1.2.0",
      "model_name": "LayoutModel",
      "state": {}
     },
     "986ec52d6abd4c57801b64f7c6947829": {
      "model_module": "@jupyter-widgets/base",
      "model_module_version": "1.2.0",
      "model_name": "LayoutModel",
      "state": {}
     },
     "98a9dfc60cd04f75b331dea1731569b3": {
      "model_module": "@jupyter-widgets/base",
      "model_module_version": "1.2.0",
      "model_name": "LayoutModel",
      "state": {}
     },
     "991f5e4ad83c4842a2c4401375552c00": {
      "model_module": "jupyter-matplotlib",
      "model_module_version": "^0.10.1",
      "model_name": "ToolbarModel",
      "state": {
       "layout": "IPY_MODEL_b88752bb1e1247c1b40b9a6adf432c41",
       "toolitems": [
        [
         "Home",
         "Reset original view",
         "home",
         "home"
        ],
        [
         "Back",
         "Back to previous view",
         "arrow-left",
         "back"
        ],
        [
         "Forward",
         "Forward to next view",
         "arrow-right",
         "forward"
        ],
        [
         "Pan",
         "Left button pans, Right button zooms\nx/y fixes axis, CTRL fixes aspect",
         "arrows",
         "pan"
        ],
        [
         "Zoom",
         "Zoom to rectangle\nx/y fixes axis, CTRL fixes aspect",
         "square-o",
         "zoom"
        ],
        [
         "Download",
         "Download plot",
         "floppy-o",
         "save_figure"
        ]
       ]
      }
     },
     "994140b6aa194f859d404f593df0d413": {
      "model_module": "@jupyter-widgets/base",
      "model_module_version": "1.2.0",
      "model_name": "LayoutModel",
      "state": {}
     },
     "9969604f24bc44f08ffeced761e8ef3b": {
      "model_module": "@jupyter-widgets/base",
      "model_module_version": "1.2.0",
      "model_name": "LayoutModel",
      "state": {}
     },
     "99cd935f702a46008e1f98a9a1e2d729": {
      "model_module": "@jupyter-widgets/base",
      "model_module_version": "1.2.0",
      "model_name": "LayoutModel",
      "state": {}
     },
     "9a2a024149b14c5dbbfae06544728523": {
      "model_module": "@jupyter-widgets/base",
      "model_module_version": "1.2.0",
      "model_name": "LayoutModel",
      "state": {}
     },
     "9a382f37da1a44039d7267c0a55f2213": {
      "model_module": "jupyter-matplotlib",
      "model_module_version": "^0.10.1",
      "model_name": "ToolbarModel",
      "state": {
       "layout": "IPY_MODEL_8ac7f1b45d354b53bde07c4c35067570",
       "toolitems": [
        [
         "Home",
         "Reset original view",
         "home",
         "home"
        ],
        [
         "Back",
         "Back to previous view",
         "arrow-left",
         "back"
        ],
        [
         "Forward",
         "Forward to next view",
         "arrow-right",
         "forward"
        ],
        [
         "Pan",
         "Left button pans, Right button zooms\nx/y fixes axis, CTRL fixes aspect",
         "arrows",
         "pan"
        ],
        [
         "Zoom",
         "Zoom to rectangle\nx/y fixes axis, CTRL fixes aspect",
         "square-o",
         "zoom"
        ],
        [
         "Download",
         "Download plot",
         "floppy-o",
         "save_figure"
        ]
       ]
      }
     },
     "9aae987aad41450db0306c30aa5116d5": {
      "model_module": "jupyter-matplotlib",
      "model_module_version": "^0.10.1",
      "model_name": "ToolbarModel",
      "state": {
       "layout": "IPY_MODEL_383d83b3a54f49da87003e2592a4fc34",
       "toolitems": [
        [
         "Home",
         "Reset original view",
         "home",
         "home"
        ],
        [
         "Back",
         "Back to previous view",
         "arrow-left",
         "back"
        ],
        [
         "Forward",
         "Forward to next view",
         "arrow-right",
         "forward"
        ],
        [
         "Pan",
         "Left button pans, Right button zooms\nx/y fixes axis, CTRL fixes aspect",
         "arrows",
         "pan"
        ],
        [
         "Zoom",
         "Zoom to rectangle\nx/y fixes axis, CTRL fixes aspect",
         "square-o",
         "zoom"
        ],
        [
         "Download",
         "Download plot",
         "floppy-o",
         "save_figure"
        ]
       ]
      }
     },
     "9af92c847d2d4fabab09f7e5dc65db37": {
      "model_module": "@jupyter-widgets/controls",
      "model_module_version": "1.5.0",
      "model_name": "SliderStyleModel",
      "state": {
       "description_width": ""
      }
     },
     "9b695e4fb9e543fc97928f6418abe68c": {
      "model_module": "@jupyter-widgets/base",
      "model_module_version": "1.2.0",
      "model_name": "LayoutModel",
      "state": {}
     },
     "9b69f8633fb948cdac962d2cc81af726": {
      "model_module": "@jupyter-widgets/controls",
      "model_module_version": "1.5.0",
      "model_name": "SliderStyleModel",
      "state": {
       "description_width": ""
      }
     },
     "9c6892ca79e9438d8ebf8d829e0f3d4f": {
      "model_module": "jupyter-matplotlib",
      "model_module_version": "^0.10.1",
      "model_name": "ToolbarModel",
      "state": {
       "layout": "IPY_MODEL_9f0dbf13f3e149a6a63854249427f457",
       "toolitems": [
        [
         "Home",
         "Reset original view",
         "home",
         "home"
        ],
        [
         "Back",
         "Back to previous view",
         "arrow-left",
         "back"
        ],
        [
         "Forward",
         "Forward to next view",
         "arrow-right",
         "forward"
        ],
        [
         "Pan",
         "Left button pans, Right button zooms\nx/y fixes axis, CTRL fixes aspect",
         "arrows",
         "pan"
        ],
        [
         "Zoom",
         "Zoom to rectangle\nx/y fixes axis, CTRL fixes aspect",
         "square-o",
         "zoom"
        ],
        [
         "Download",
         "Download plot",
         "floppy-o",
         "save_figure"
        ]
       ]
      }
     },
     "9d7aa336aa9241dd9ee4f599d6b22a4f": {
      "model_module": "@jupyter-widgets/base",
      "model_module_version": "1.2.0",
      "model_name": "LayoutModel",
      "state": {}
     },
     "9e07a126a8af41f8b5007e149d587fc5": {
      "model_module": "@jupyter-widgets/controls",
      "model_module_version": "1.5.0",
      "model_name": "SliderStyleModel",
      "state": {
       "description_width": ""
      }
     },
     "9e11bbd1c6f34b2db5d7e1778c80cf5b": {
      "model_module": "jupyter-matplotlib",
      "model_module_version": "^0.10.1",
      "model_name": "ToolbarModel",
      "state": {
       "layout": "IPY_MODEL_9969604f24bc44f08ffeced761e8ef3b",
       "toolitems": [
        [
         "Home",
         "Reset original view",
         "home",
         "home"
        ],
        [
         "Back",
         "Back to previous view",
         "arrow-left",
         "back"
        ],
        [
         "Forward",
         "Forward to next view",
         "arrow-right",
         "forward"
        ],
        [
         "Pan",
         "Left button pans, Right button zooms\nx/y fixes axis, CTRL fixes aspect",
         "arrows",
         "pan"
        ],
        [
         "Zoom",
         "Zoom to rectangle\nx/y fixes axis, CTRL fixes aspect",
         "square-o",
         "zoom"
        ],
        [
         "Download",
         "Download plot",
         "floppy-o",
         "save_figure"
        ]
       ]
      }
     },
     "9e70f61b4d714d1c8d7c6bb1515763de": {
      "model_module": "@jupyter-widgets/base",
      "model_module_version": "1.2.0",
      "model_name": "LayoutModel",
      "state": {}
     },
     "9f0dbf13f3e149a6a63854249427f457": {
      "model_module": "@jupyter-widgets/base",
      "model_module_version": "1.2.0",
      "model_name": "LayoutModel",
      "state": {}
     },
     "9f6d91f6d8c846cc95b68f13266b718b": {
      "model_module": "@jupyter-widgets/base",
      "model_module_version": "1.2.0",
      "model_name": "LayoutModel",
      "state": {}
     },
     "9fb8ff7a5777419390a3cc3d2bff09ba": {
      "model_module": "@jupyter-widgets/controls",
      "model_module_version": "1.5.0",
      "model_name": "IntSliderModel",
      "state": {
       "layout": "IPY_MODEL_5fa2c6550c3748618f719107cdd6a2c6",
       "max": 10,
       "readout": false,
       "style": "IPY_MODEL_d00c7c8d10bb4ff3b53aad5d7f68d4d2",
       "value": 4
      }
     },
     "a02b68af4c6b43b096af11b281c88124": {
      "model_module": "@jupyter-widgets/base",
      "model_module_version": "1.2.0",
      "model_name": "LayoutModel",
      "state": {}
     },
     "a053242d88d24ad480b08a9d2654ca6d": {
      "model_module": "@jupyter-widgets/controls",
      "model_module_version": "1.5.0",
      "model_name": "IntSliderModel",
      "state": {
       "description": "l",
       "layout": "IPY_MODEL_c563c5b1f6654c20a035c17ae3eba4fc",
       "readout": false,
       "style": "IPY_MODEL_f4a99c6f95f74aec90edc1f50fddf2e0",
       "value": 15
      }
     },
     "a1cf343316254ee0b360c493faff5f99": {
      "model_module": "@jupyter-widgets/controls",
      "model_module_version": "1.5.0",
      "model_name": "SliderStyleModel",
      "state": {
       "description_width": ""
      }
     },
     "a1d7a3ec8bb34498a2571f9f8974c3ae": {
      "model_module": "@jupyter-widgets/controls",
      "model_module_version": "1.5.0",
      "model_name": "SliderStyleModel",
      "state": {
       "description_width": ""
      }
     },
     "a2193ac74bab47f081d914b1c28f87e4": {
      "model_module": "@jupyter-widgets/base",
      "model_module_version": "1.2.0",
      "model_name": "LayoutModel",
      "state": {}
     },
     "a21cf5702bb04c5e8b3ee81205e78d50": {
      "model_module": "@jupyter-widgets/controls",
      "model_module_version": "1.5.0",
      "model_name": "SliderStyleModel",
      "state": {
       "description_width": ""
      }
     },
     "a22b40c98eec43c9933f5dbbb84eecf8": {
      "model_module": "@jupyter-widgets/base",
      "model_module_version": "1.2.0",
      "model_name": "LayoutModel",
      "state": {}
     },
     "a2535c9cf67744459563e2dc49548503": {
      "model_module": "@jupyter-widgets/controls",
      "model_module_version": "1.5.0",
      "model_name": "SliderStyleModel",
      "state": {
       "description_width": ""
      }
     },
     "a33d783c6a7e4fd283823eccf3034890": {
      "model_module": "@jupyter-widgets/base",
      "model_module_version": "1.2.0",
      "model_name": "LayoutModel",
      "state": {}
     },
     "a3d594f03cbb4fcea86a3e52e3e6a45a": {
      "model_module": "@jupyter-widgets/base",
      "model_module_version": "1.2.0",
      "model_name": "LayoutModel",
      "state": {}
     },
     "a424de102a464977bd30af914f693de9": {
      "model_module": "@jupyter-widgets/controls",
      "model_module_version": "1.5.0",
      "model_name": "SliderStyleModel",
      "state": {
       "description_width": ""
      }
     },
     "a44d1ddcfe73427895b7791e4aa891a2": {
      "model_module": "@jupyter-widgets/base",
      "model_module_version": "1.2.0",
      "model_name": "LayoutModel",
      "state": {}
     },
     "a5467d97af6f44949cdb0abc75e9d3af": {
      "model_module": "@jupyter-widgets/controls",
      "model_module_version": "1.5.0",
      "model_name": "SliderStyleModel",
      "state": {
       "description_width": ""
      }
     },
     "a5c8562ea0c44ccf9dca0db28bdb1b35": {
      "model_module": "@jupyter-widgets/base",
      "model_module_version": "1.2.0",
      "model_name": "LayoutModel",
      "state": {}
     },
     "a5eec7a1fbab4ce488b2e638caf5637d": {
      "model_module": "@jupyter-widgets/base",
      "model_module_version": "1.2.0",
      "model_name": "LayoutModel",
      "state": {}
     },
     "a73f3295a78c48009580aeff5e644adf": {
      "model_module": "@jupyter-widgets/controls",
      "model_module_version": "1.5.0",
      "model_name": "SliderStyleModel",
      "state": {
       "description_width": ""
      }
     },
     "a761224d6d3848fdaee7b6f5e16dbbd2": {
      "model_module": "@jupyter-widgets/base",
      "model_module_version": "1.2.0",
      "model_name": "LayoutModel",
      "state": {}
     },
     "a875489ca79e45af904c10c859e58bbc": {
      "model_module": "@jupyter-widgets/base",
      "model_module_version": "1.2.0",
      "model_name": "LayoutModel",
      "state": {}
     },
     "a94a2871a54342fd8add3188aa1dd8b0": {
      "model_module": "@jupyter-widgets/base",
      "model_module_version": "1.2.0",
      "model_name": "LayoutModel",
      "state": {}
     },
     "a957d51b6a00401eadf3b5375a3832d6": {
      "model_module": "@jupyter-widgets/output",
      "model_module_version": "1.0.0",
      "model_name": "OutputModel",
      "state": {
       "layout": "IPY_MODEL_ca20d6f883fd4e5c97b92f0e65672a32"
      }
     },
     "a966417d3e18437e985e9ed19b484b5a": {
      "model_module": "@jupyter-widgets/base",
      "model_module_version": "1.2.0",
      "model_name": "LayoutModel",
      "state": {}
     },
     "a99faaade5594dcd8401e568d75abfd1": {
      "model_module": "@jupyter-widgets/controls",
      "model_module_version": "1.5.0",
      "model_name": "SliderStyleModel",
      "state": {
       "description_width": ""
      }
     },
     "a9b51b6415674f7c8223aa28fa06af22": {
      "model_module": "@jupyter-widgets/controls",
      "model_module_version": "1.5.0",
      "model_name": "SliderStyleModel",
      "state": {
       "description_width": ""
      }
     },
     "a9b8b443057045b5a2f372b8b34928a4": {
      "model_module": "jupyter-matplotlib",
      "model_module_version": "^0.10.1",
      "model_name": "ToolbarModel",
      "state": {
       "layout": "IPY_MODEL_655bced6fb9142c383c5f28d2e29081d",
       "toolitems": [
        [
         "Home",
         "Reset original view",
         "home",
         "home"
        ],
        [
         "Back",
         "Back to previous view",
         "arrow-left",
         "back"
        ],
        [
         "Forward",
         "Forward to next view",
         "arrow-right",
         "forward"
        ],
        [
         "Pan",
         "Left button pans, Right button zooms\nx/y fixes axis, CTRL fixes aspect",
         "arrows",
         "pan"
        ],
        [
         "Zoom",
         "Zoom to rectangle\nx/y fixes axis, CTRL fixes aspect",
         "square-o",
         "zoom"
        ],
        [
         "Download",
         "Download plot",
         "floppy-o",
         "save_figure"
        ]
       ]
      }
     },
     "aa3fe2bd90f449748192be10637958c7": {
      "model_module": "@jupyter-widgets/controls",
      "model_module_version": "1.5.0",
      "model_name": "IntSliderModel",
      "state": {
       "continuous_update": false,
       "layout": "IPY_MODEL_7e0e08e3505542c2be4871a9584ec728",
       "max": 10,
       "readout": false,
       "style": "IPY_MODEL_d6c560cca59848f0b005069fd90d5e55",
       "value": 5
      }
     },
     "aa611337aa524e43a203ebc4a62068f6": {
      "model_module": "@jupyter-widgets/base",
      "model_module_version": "1.2.0",
      "model_name": "LayoutModel",
      "state": {}
     },
     "aa8bb2998e6b4ea38de0d23870833ce0": {
      "model_module": "@jupyter-widgets/controls",
      "model_module_version": "1.5.0",
      "model_name": "SliderStyleModel",
      "state": {
       "description_width": ""
      }
     },
     "aaf4c25065734ca389a521b24a236713": {
      "model_module": "jupyter-matplotlib",
      "model_module_version": "^0.10.1",
      "model_name": "ToolbarModel",
      "state": {
       "layout": "IPY_MODEL_15aa213671f540b48193a27fd250c006",
       "toolitems": [
        [
         "Home",
         "Reset original view",
         "home",
         "home"
        ],
        [
         "Back",
         "Back to previous view",
         "arrow-left",
         "back"
        ],
        [
         "Forward",
         "Forward to next view",
         "arrow-right",
         "forward"
        ],
        [
         "Pan",
         "Left button pans, Right button zooms\nx/y fixes axis, CTRL fixes aspect",
         "arrows",
         "pan"
        ],
        [
         "Zoom",
         "Zoom to rectangle\nx/y fixes axis, CTRL fixes aspect",
         "square-o",
         "zoom"
        ],
        [
         "Download",
         "Download plot",
         "floppy-o",
         "save_figure"
        ]
       ]
      }
     },
     "ab0d4e4aeb734c9bacf51a9defb7143e": {
      "model_module": "@jupyter-widgets/base",
      "model_module_version": "1.2.0",
      "model_name": "LayoutModel",
      "state": {}
     },
     "ab1c66c227034ae7aee472b4d8c25133": {
      "model_module": "@jupyter-widgets/base",
      "model_module_version": "1.2.0",
      "model_name": "LayoutModel",
      "state": {}
     },
     "ab2e1859c99a48e0bec6e80821e95fef": {
      "model_module": "@jupyter-widgets/controls",
      "model_module_version": "1.5.0",
      "model_name": "SliderStyleModel",
      "state": {
       "description_width": ""
      }
     },
     "abac77cda039439b8e70b29c54e190a8": {
      "model_module": "@jupyter-widgets/base",
      "model_module_version": "1.2.0",
      "model_name": "LayoutModel",
      "state": {}
     },
     "ad3965806c484cd29064796329ca33fa": {
      "model_module": "@jupyter-widgets/controls",
      "model_module_version": "1.5.0",
      "model_name": "IntSliderModel",
      "state": {
       "continuous_update": false,
       "layout": "IPY_MODEL_92e522d8d3004dd7a9d765e50a1af93c",
       "max": 10,
       "readout": false,
       "step": 0,
       "style": "IPY_MODEL_e414be34f89b40c68da6eef35b4c281e"
      }
     },
     "ade13c86041547d7a9c6a450c8da473c": {
      "model_module": "@jupyter-widgets/base",
      "model_module_version": "1.2.0",
      "model_name": "LayoutModel",
      "state": {}
     },
     "adf3f17bec13460b9a7f1aef26440760": {
      "model_module": "@jupyter-widgets/base",
      "model_module_version": "1.2.0",
      "model_name": "LayoutModel",
      "state": {}
     },
     "ae2ad99532464c909c29adc9600d9a5b": {
      "model_module": "@jupyter-widgets/base",
      "model_module_version": "1.2.0",
      "model_name": "LayoutModel",
      "state": {}
     },
     "ae55f3204b674853ab53dcd1a608226a": {
      "model_module": "@jupyter-widgets/base",
      "model_module_version": "1.2.0",
      "model_name": "LayoutModel",
      "state": {}
     },
     "aeb4681f45324920a914aeb8e01db7dd": {
      "model_module": "@jupyter-widgets/base",
      "model_module_version": "1.2.0",
      "model_name": "LayoutModel",
      "state": {}
     },
     "aec3b6f96fc64859aa69ee5309615937": {
      "model_module": "@jupyter-widgets/base",
      "model_module_version": "1.2.0",
      "model_name": "LayoutModel",
      "state": {}
     },
     "b02b61ecb02b4bfea22613c3d4d6be29": {
      "model_module": "jupyter-matplotlib",
      "model_module_version": "^0.10.1",
      "model_name": "ToolbarModel",
      "state": {
       "layout": "IPY_MODEL_591e464223194567841d2c16ab2a4d58",
       "toolitems": [
        [
         "Home",
         "Reset original view",
         "home",
         "home"
        ],
        [
         "Back",
         "Back to previous view",
         "arrow-left",
         "back"
        ],
        [
         "Forward",
         "Forward to next view",
         "arrow-right",
         "forward"
        ],
        [
         "Pan",
         "Left button pans, Right button zooms\nx/y fixes axis, CTRL fixes aspect",
         "arrows",
         "pan"
        ],
        [
         "Zoom",
         "Zoom to rectangle\nx/y fixes axis, CTRL fixes aspect",
         "square-o",
         "zoom"
        ],
        [
         "Download",
         "Download plot",
         "floppy-o",
         "save_figure"
        ]
       ]
      }
     },
     "b04f24f53159406c8aa7fff18abbeb43": {
      "model_module": "jupyter-matplotlib",
      "model_module_version": "^0.10.1",
      "model_name": "ToolbarModel",
      "state": {
       "layout": "IPY_MODEL_4c1c885a773545d998121af0df64c49e",
       "toolitems": [
        [
         "Home",
         "Reset original view",
         "home",
         "home"
        ],
        [
         "Back",
         "Back to previous view",
         "arrow-left",
         "back"
        ],
        [
         "Forward",
         "Forward to next view",
         "arrow-right",
         "forward"
        ],
        [
         "Pan",
         "Left button pans, Right button zooms\nx/y fixes axis, CTRL fixes aspect",
         "arrows",
         "pan"
        ],
        [
         "Zoom",
         "Zoom to rectangle\nx/y fixes axis, CTRL fixes aspect",
         "square-o",
         "zoom"
        ],
        [
         "Download",
         "Download plot",
         "floppy-o",
         "save_figure"
        ]
       ]
      }
     },
     "b0736087b4754b778d4a2a753f564f7e": {
      "model_module": "@jupyter-widgets/base",
      "model_module_version": "1.2.0",
      "model_name": "LayoutModel",
      "state": {}
     },
     "b0b68ea8c7f94004be624db8b9bb9d7d": {
      "model_module": "@jupyter-widgets/controls",
      "model_module_version": "1.5.0",
      "model_name": "SliderStyleModel",
      "state": {
       "description_width": ""
      }
     },
     "b364952a73cf4ae281ea36b0b5a8f737": {
      "model_module": "@jupyter-widgets/base",
      "model_module_version": "1.2.0",
      "model_name": "LayoutModel",
      "state": {}
     },
     "b376859795db42129bb09e7487f3b49a": {
      "model_module": "jupyter-matplotlib",
      "model_module_version": "^0.10.1",
      "model_name": "ToolbarModel",
      "state": {
       "layout": "IPY_MODEL_48af142fff7245b28d90a7858d3c509f",
       "toolitems": [
        [
         "Home",
         "Reset original view",
         "home",
         "home"
        ],
        [
         "Back",
         "Back to previous view",
         "arrow-left",
         "back"
        ],
        [
         "Forward",
         "Forward to next view",
         "arrow-right",
         "forward"
        ],
        [
         "Pan",
         "Left button pans, Right button zooms\nx/y fixes axis, CTRL fixes aspect",
         "arrows",
         "pan"
        ],
        [
         "Zoom",
         "Zoom to rectangle\nx/y fixes axis, CTRL fixes aspect",
         "square-o",
         "zoom"
        ],
        [
         "Download",
         "Download plot",
         "floppy-o",
         "save_figure"
        ]
       ]
      }
     },
     "b55365c6bf43493fa94c1ba91bde33a0": {
      "model_module": "jupyter-matplotlib",
      "model_module_version": "^0.10.1",
      "model_name": "ToolbarModel",
      "state": {
       "layout": "IPY_MODEL_3591bdad5aa44ef198b7e59f12ab0333",
       "toolitems": [
        [
         "Home",
         "Reset original view",
         "home",
         "home"
        ],
        [
         "Back",
         "Back to previous view",
         "arrow-left",
         "back"
        ],
        [
         "Forward",
         "Forward to next view",
         "arrow-right",
         "forward"
        ],
        [
         "Pan",
         "Left button pans, Right button zooms\nx/y fixes axis, CTRL fixes aspect",
         "arrows",
         "pan"
        ],
        [
         "Zoom",
         "Zoom to rectangle\nx/y fixes axis, CTRL fixes aspect",
         "square-o",
         "zoom"
        ],
        [
         "Download",
         "Download plot",
         "floppy-o",
         "save_figure"
        ]
       ]
      }
     },
     "b5dd7847667649dfa0a57ead1ef7c911": {
      "model_module": "@jupyter-widgets/controls",
      "model_module_version": "1.5.0",
      "model_name": "VBoxModel",
      "state": {
       "_dom_classes": [
        "widget-interact"
       ],
       "children": [
        "IPY_MODEL_124d0e57349c4fb1b684a31c6b5053ae",
        "IPY_MODEL_fd1d5dcb79a24ae892560ff5b4c9498e"
       ],
       "layout": "IPY_MODEL_2c411611af1b444ea67b12f0168ccef0"
      }
     },
     "b646eaefbc784ae39dc753731d6d02bb": {
      "model_module": "@jupyter-widgets/controls",
      "model_module_version": "1.5.0",
      "model_name": "SliderStyleModel",
      "state": {
       "description_width": ""
      }
     },
     "b7596eac5ac546f088c496cc42b76df2": {
      "model_module": "@jupyter-widgets/base",
      "model_module_version": "1.2.0",
      "model_name": "LayoutModel",
      "state": {}
     },
     "b779b4d695bf4bdd9c76f93bea5f660b": {
      "model_module": "@jupyter-widgets/controls",
      "model_module_version": "1.5.0",
      "model_name": "IntSliderModel",
      "state": {
       "layout": "IPY_MODEL_50c22a49aad9425abaa42efb46fdac01",
       "readout": false,
       "style": "IPY_MODEL_a424de102a464977bd30af914f693de9"
      }
     },
     "b7f275e0516748f0bdc2cfc35705dfcc": {
      "model_module": "@jupyter-widgets/controls",
      "model_module_version": "1.5.0",
      "model_name": "IntSliderModel",
      "state": {
       "layout": "IPY_MODEL_1800791e017c46be8f4d222a0156854b",
       "readout": false,
       "style": "IPY_MODEL_15063d897aa84d4790a5b02479af2511"
      }
     },
     "b836cbcc262348378d8a84faa1d8288a": {
      "model_module": "@jupyter-widgets/base",
      "model_module_version": "1.2.0",
      "model_name": "LayoutModel",
      "state": {}
     },
     "b884c4db83cb44678fc188b563eb8c7b": {
      "model_module": "@jupyter-widgets/base",
      "model_module_version": "1.2.0",
      "model_name": "LayoutModel",
      "state": {}
     },
     "b88752bb1e1247c1b40b9a6adf432c41": {
      "model_module": "@jupyter-widgets/base",
      "model_module_version": "1.2.0",
      "model_name": "LayoutModel",
      "state": {}
     },
     "b98eab2fbed84a73a928691d05bf6236": {
      "model_module": "@jupyter-widgets/base",
      "model_module_version": "1.2.0",
      "model_name": "LayoutModel",
      "state": {}
     },
     "b9a69ea490cd42de8ffb258af2986556": {
      "model_module": "jupyter-matplotlib",
      "model_module_version": "^0.10.1",
      "model_name": "ToolbarModel",
      "state": {
       "layout": "IPY_MODEL_a22b40c98eec43c9933f5dbbb84eecf8",
       "toolitems": [
        [
         "Home",
         "Reset original view",
         "home",
         "home"
        ],
        [
         "Back",
         "Back to previous view",
         "arrow-left",
         "back"
        ],
        [
         "Forward",
         "Forward to next view",
         "arrow-right",
         "forward"
        ],
        [
         "Pan",
         "Left button pans, Right button zooms\nx/y fixes axis, CTRL fixes aspect",
         "arrows",
         "pan"
        ],
        [
         "Zoom",
         "Zoom to rectangle\nx/y fixes axis, CTRL fixes aspect",
         "square-o",
         "zoom"
        ],
        [
         "Download",
         "Download plot",
         "floppy-o",
         "save_figure"
        ]
       ]
      }
     },
     "ba37ea470cd741d2bedd460740673b6f": {
      "model_module": "jupyter-matplotlib",
      "model_module_version": "^0.10.1",
      "model_name": "ToolbarModel",
      "state": {
       "layout": "IPY_MODEL_a2193ac74bab47f081d914b1c28f87e4",
       "toolitems": [
        [
         "Home",
         "Reset original view",
         "home",
         "home"
        ],
        [
         "Back",
         "Back to previous view",
         "arrow-left",
         "back"
        ],
        [
         "Forward",
         "Forward to next view",
         "arrow-right",
         "forward"
        ],
        [
         "Pan",
         "Left button pans, Right button zooms\nx/y fixes axis, CTRL fixes aspect",
         "arrows",
         "pan"
        ],
        [
         "Zoom",
         "Zoom to rectangle\nx/y fixes axis, CTRL fixes aspect",
         "square-o",
         "zoom"
        ],
        [
         "Download",
         "Download plot",
         "floppy-o",
         "save_figure"
        ]
       ]
      }
     },
     "ba77eb10549f4fcb87f223d4c9d7cc8a": {
      "model_module": "@jupyter-widgets/base",
      "model_module_version": "1.2.0",
      "model_name": "LayoutModel",
      "state": {}
     },
     "bb9bb19715a6475db7f3ee0712b37db9": {
      "model_module": "@jupyter-widgets/controls",
      "model_module_version": "1.5.0",
      "model_name": "IntSliderModel",
      "state": {
       "description": "l",
       "layout": "IPY_MODEL_d4a3210f07f247698685402b63d41fe7",
       "readout": false,
       "style": "IPY_MODEL_4fbc3d7eec5c48dc9a3673439a485de5"
      }
     },
     "bc3ed520126f4804959adf566505ad93": {
      "model_module": "@jupyter-widgets/controls",
      "model_module_version": "1.5.0",
      "model_name": "SliderStyleModel",
      "state": {
       "description_width": ""
      }
     },
     "bd0eec39c7704b708f99b73a7ac68aac": {
      "model_module": "@jupyter-widgets/controls",
      "model_module_version": "1.5.0",
      "model_name": "IntSliderModel",
      "state": {
       "layout": "IPY_MODEL_a5c8562ea0c44ccf9dca0db28bdb1b35",
       "readout": false,
       "style": "IPY_MODEL_2c416e37bd4547e685e3c61aa3c8444e"
      }
     },
     "bd7c0b3a45be454a8a6e49dc91b91701": {
      "model_module": "@jupyter-widgets/base",
      "model_module_version": "1.2.0",
      "model_name": "LayoutModel",
      "state": {}
     },
     "bd8c7714684a4b3781ff518a3186de5f": {
      "model_module": "@jupyter-widgets/base",
      "model_module_version": "1.2.0",
      "model_name": "LayoutModel",
      "state": {}
     },
     "be00f999e54448e288bc2761fff63689": {
      "model_module": "@jupyter-widgets/controls",
      "model_module_version": "1.5.0",
      "model_name": "VBoxModel",
      "state": {
       "_dom_classes": [
        "widget-interact"
       ],
       "children": [
        "IPY_MODEL_c771d84229d444468b34360206b972dc",
        "IPY_MODEL_4b82c8af25ce4cef874dd6193b36577f"
       ],
       "layout": "IPY_MODEL_adf3f17bec13460b9a7f1aef26440760"
      }
     },
     "be09a6fd57bd4ec884d821ce60fd793c": {
      "model_module": "@jupyter-widgets/base",
      "model_module_version": "1.2.0",
      "model_name": "LayoutModel",
      "state": {}
     },
     "be97b99dbcf14ccbb7a6b04ff7b727b9": {
      "model_module": "@jupyter-widgets/base",
      "model_module_version": "1.2.0",
      "model_name": "LayoutModel",
      "state": {}
     },
     "beebfb822f2b4512b1b40199d649ad05": {
      "model_module": "@jupyter-widgets/controls",
      "model_module_version": "1.5.0",
      "model_name": "SliderStyleModel",
      "state": {
       "description_width": ""
      }
     },
     "c067d6049cba418b96672c3f9743d3e5": {
      "model_module": "@jupyter-widgets/base",
      "model_module_version": "1.2.0",
      "model_name": "LayoutModel",
      "state": {}
     },
     "c0b5a59e37044fe580a819a50cbe6a13": {
      "model_module": "@jupyter-widgets/controls",
      "model_module_version": "1.5.0",
      "model_name": "IntSliderModel",
      "state": {
       "layout": "IPY_MODEL_dc6e59af1cd14b059b5386bf590b0aa7",
       "readout": false,
       "style": "IPY_MODEL_ab2e1859c99a48e0bec6e80821e95fef"
      }
     },
     "c1202004892643768bf5660aadeddf3a": {
      "model_module": "@jupyter-widgets/base",
      "model_module_version": "1.2.0",
      "model_name": "LayoutModel",
      "state": {}
     },
     "c15ab5dd52584019bdce3106885121ca": {
      "model_module": "@jupyter-widgets/base",
      "model_module_version": "1.2.0",
      "model_name": "LayoutModel",
      "state": {}
     },
     "c18bac0d7c3645039c1f6bce41c482ff": {
      "model_module": "@jupyter-widgets/controls",
      "model_module_version": "1.5.0",
      "model_name": "SliderStyleModel",
      "state": {
       "description_width": ""
      }
     },
     "c18c08f5ce594d4f9410a516c59fe98b": {
      "model_module": "@jupyter-widgets/base",
      "model_module_version": "1.2.0",
      "model_name": "LayoutModel",
      "state": {}
     },
     "c1f24a01ba0547cda88fbe4a4e78fbb6": {
      "model_module": "jupyter-matplotlib",
      "model_module_version": "^0.10.1",
      "model_name": "ToolbarModel",
      "state": {
       "layout": "IPY_MODEL_4e6dfc67efb14eea932216528d630459",
       "toolitems": [
        [
         "Home",
         "Reset original view",
         "home",
         "home"
        ],
        [
         "Back",
         "Back to previous view",
         "arrow-left",
         "back"
        ],
        [
         "Forward",
         "Forward to next view",
         "arrow-right",
         "forward"
        ],
        [
         "Pan",
         "Left button pans, Right button zooms\nx/y fixes axis, CTRL fixes aspect",
         "arrows",
         "pan"
        ],
        [
         "Zoom",
         "Zoom to rectangle\nx/y fixes axis, CTRL fixes aspect",
         "square-o",
         "zoom"
        ],
        [
         "Download",
         "Download plot",
         "floppy-o",
         "save_figure"
        ]
       ]
      }
     },
     "c2227f02c9304219b88edb4f6a661a50": {
      "model_module": "jupyter-matplotlib",
      "model_module_version": "^0.10.1",
      "model_name": "ToolbarModel",
      "state": {
       "layout": "IPY_MODEL_06799525caa54d11aa7be8b8f4b7e9ff",
       "toolitems": [
        [
         "Home",
         "Reset original view",
         "home",
         "home"
        ],
        [
         "Back",
         "Back to previous view",
         "arrow-left",
         "back"
        ],
        [
         "Forward",
         "Forward to next view",
         "arrow-right",
         "forward"
        ],
        [
         "Pan",
         "Left button pans, Right button zooms\nx/y fixes axis, CTRL fixes aspect",
         "arrows",
         "pan"
        ],
        [
         "Zoom",
         "Zoom to rectangle\nx/y fixes axis, CTRL fixes aspect",
         "square-o",
         "zoom"
        ],
        [
         "Download",
         "Download plot",
         "floppy-o",
         "save_figure"
        ]
       ]
      }
     },
     "c24785cea0f643259efdb5c62e785f64": {
      "model_module": "@jupyter-widgets/base",
      "model_module_version": "1.2.0",
      "model_name": "LayoutModel",
      "state": {}
     },
     "c330019455dd41429a789865a199a178": {
      "model_module": "@jupyter-widgets/base",
      "model_module_version": "1.2.0",
      "model_name": "LayoutModel",
      "state": {}
     },
     "c4979f291a984598a374dce7f54c614c": {
      "model_module": "@jupyter-widgets/base",
      "model_module_version": "1.2.0",
      "model_name": "LayoutModel",
      "state": {}
     },
     "c4a9c6a35ee548908ed2f14f32d0479b": {
      "model_module": "@jupyter-widgets/base",
      "model_module_version": "1.2.0",
      "model_name": "LayoutModel",
      "state": {}
     },
     "c50f233403674eaa9efa513db23308ee": {
      "model_module": "@jupyter-widgets/output",
      "model_module_version": "1.0.0",
      "model_name": "OutputModel",
      "state": {
       "layout": "IPY_MODEL_f35d92b715114c14a7ee62eb761c2cbe"
      }
     },
     "c51330da1e1642ccb96bd7562ea81cea": {
      "model_module": "@jupyter-widgets/base",
      "model_module_version": "1.2.0",
      "model_name": "LayoutModel",
      "state": {}
     },
     "c563c5b1f6654c20a035c17ae3eba4fc": {
      "model_module": "@jupyter-widgets/base",
      "model_module_version": "1.2.0",
      "model_name": "LayoutModel",
      "state": {}
     },
     "c5a3f999f9f64d8b9da4ab9b9d2244ca": {
      "model_module": "@jupyter-widgets/controls",
      "model_module_version": "1.5.0",
      "model_name": "IntSliderModel",
      "state": {
       "continuous_update": false,
       "layout": "IPY_MODEL_c5c0603376584851bb19a5666c6156aa",
       "max": 10,
       "readout": false,
       "step": 0,
       "style": "IPY_MODEL_d708f21b753044208c5d2c4d65cc3490"
      }
     },
     "c5c0603376584851bb19a5666c6156aa": {
      "model_module": "@jupyter-widgets/base",
      "model_module_version": "1.2.0",
      "model_name": "LayoutModel",
      "state": {}
     },
     "c6a6c339d61240b980e7420af03659ac": {
      "model_module": "@jupyter-widgets/base",
      "model_module_version": "1.2.0",
      "model_name": "LayoutModel",
      "state": {}
     },
     "c771d84229d444468b34360206b972dc": {
      "model_module": "@jupyter-widgets/controls",
      "model_module_version": "1.5.0",
      "model_name": "IntSliderModel",
      "state": {
       "description": "l",
       "layout": "IPY_MODEL_be97b99dbcf14ccbb7a6b04ff7b727b9",
       "readout": false,
       "style": "IPY_MODEL_357173cfed9342848c696fcee5ec5a06",
       "value": 49
      }
     },
     "c7a58a7432fc487e8dca95b0a213b284": {
      "model_module": "@jupyter-widgets/controls",
      "model_module_version": "1.5.0",
      "model_name": "IntSliderModel",
      "state": {
       "continuous_update": false,
       "layout": "IPY_MODEL_81de63e43d514b1f8c45460b387068f1",
       "max": 10,
       "readout": false,
       "style": "IPY_MODEL_8deb27f199d847d793c616390dff491e"
      }
     },
     "c7caed9f3dae4661a26f67a0c465ab14": {
      "model_module": "@jupyter-widgets/controls",
      "model_module_version": "1.5.0",
      "model_name": "SliderStyleModel",
      "state": {
       "description_width": ""
      }
     },
     "c8117ec0eda24e7786e8ee397fbfc4a3": {
      "model_module": "@jupyter-widgets/base",
      "model_module_version": "1.2.0",
      "model_name": "LayoutModel",
      "state": {}
     },
     "c856f36d438e4574820e434cf2b46cdb": {
      "model_module": "@jupyter-widgets/controls",
      "model_module_version": "1.5.0",
      "model_name": "IntSliderModel",
      "state": {
       "layout": "IPY_MODEL_4e04caaaf3544d53aefdc9bf14cde35b",
       "readout": false,
       "style": "IPY_MODEL_909012e57cf443af86329ee7592cbec3",
       "value": 86
      }
     },
     "c9ba7a5c92c448258a16fd241cc4292b": {
      "model_module": "@jupyter-widgets/base",
      "model_module_version": "1.2.0",
      "model_name": "LayoutModel",
      "state": {}
     },
     "c9eead7d1655437d8f4716d95893a626": {
      "model_module": "@jupyter-widgets/controls",
      "model_module_version": "1.5.0",
      "model_name": "SliderStyleModel",
      "state": {
       "description_width": ""
      }
     },
     "ca20d6f883fd4e5c97b92f0e65672a32": {
      "model_module": "@jupyter-widgets/base",
      "model_module_version": "1.2.0",
      "model_name": "LayoutModel",
      "state": {}
     },
     "caa87547671245ab8d8d8b408811a6dc": {
      "model_module": "@jupyter-widgets/base",
      "model_module_version": "1.2.0",
      "model_name": "LayoutModel",
      "state": {}
     },
     "cb163e2ef93c433f9c7f3d3d39ea4c22": {
      "model_module": "@jupyter-widgets/controls",
      "model_module_version": "1.5.0",
      "model_name": "SliderStyleModel",
      "state": {
       "description_width": ""
      }
     },
     "cc177a4de407409886b31fb263ddd91f": {
      "model_module": "@jupyter-widgets/controls",
      "model_module_version": "1.5.0",
      "model_name": "IntSliderModel",
      "state": {
       "continuous_update": false,
       "layout": "IPY_MODEL_1b3a25263f614418b41ad9ec87917e62",
       "max": 10,
       "readout": false,
       "step": 0,
       "style": "IPY_MODEL_8ad837c2b5e44d5ba9760e24b4c4c1f9"
      }
     },
     "cc7efee10b434dc09dfe4d7553382e1a": {
      "model_module": "@jupyter-widgets/controls",
      "model_module_version": "1.5.0",
      "model_name": "SliderStyleModel",
      "state": {
       "description_width": ""
      }
     },
     "cc82d3bc404d40ac929a182f729cf2f6": {
      "model_module": "@jupyter-widgets/output",
      "model_module_version": "1.0.0",
      "model_name": "OutputModel",
      "state": {
       "layout": "IPY_MODEL_43cd6f36b1b94f739c5397a3fe4a1900"
      }
     },
     "ccaee13645a34e0298bc062bd06533d9": {
      "model_module": "@jupyter-widgets/controls",
      "model_module_version": "1.5.0",
      "model_name": "IntSliderModel",
      "state": {
       "continuous_update": false,
       "layout": "IPY_MODEL_d381618c22494e09940ff2203075248f",
       "readout": false,
       "style": "IPY_MODEL_47838e2bf53b43258c7c8a2855615332",
       "value": 23
      }
     },
     "ccdd3840a7674541b1aa8052e32cbee3": {
      "model_module": "@jupyter-widgets/controls",
      "model_module_version": "1.5.0",
      "model_name": "SliderStyleModel",
      "state": {
       "description_width": ""
      }
     },
     "cce826c51ab64de1a7839959060e545a": {
      "model_module": "@jupyter-widgets/base",
      "model_module_version": "1.2.0",
      "model_name": "LayoutModel",
      "state": {}
     },
     "cd517a0c172c49c6a983f9a0a626e3df": {
      "model_module": "jupyter-matplotlib",
      "model_module_version": "^0.10.1",
      "model_name": "ToolbarModel",
      "state": {
       "layout": "IPY_MODEL_3ee35e87aa7d4eb09e18b3aa25d9fc58",
       "toolitems": [
        [
         "Home",
         "Reset original view",
         "home",
         "home"
        ],
        [
         "Back",
         "Back to previous view",
         "arrow-left",
         "back"
        ],
        [
         "Forward",
         "Forward to next view",
         "arrow-right",
         "forward"
        ],
        [
         "Pan",
         "Left button pans, Right button zooms\nx/y fixes axis, CTRL fixes aspect",
         "arrows",
         "pan"
        ],
        [
         "Zoom",
         "Zoom to rectangle\nx/y fixes axis, CTRL fixes aspect",
         "square-o",
         "zoom"
        ],
        [
         "Download",
         "Download plot",
         "floppy-o",
         "save_figure"
        ]
       ]
      }
     },
     "cd89e69b2b5f43d19de71b388c2fe196": {
      "model_module": "@jupyter-widgets/controls",
      "model_module_version": "1.5.0",
      "model_name": "IntSliderModel",
      "state": {
       "layout": "IPY_MODEL_053f1e2ba671420eb898bccc463e1743",
       "readout": false,
       "style": "IPY_MODEL_c9eead7d1655437d8f4716d95893a626"
      }
     },
     "cda79434008242f8a97084ca178a251e": {
      "model_module": "@jupyter-widgets/controls",
      "model_module_version": "1.5.0",
      "model_name": "IntSliderModel",
      "state": {
       "description": "l",
       "layout": "IPY_MODEL_72f69bd2243a46be9ba6d53cf6efa152",
       "readout": false,
       "style": "IPY_MODEL_c7caed9f3dae4661a26f67a0c465ab14",
       "value": 52
      }
     },
     "cddb7e0c8d83495392bdd1bb30b404c9": {
      "model_module": "@jupyter-widgets/controls",
      "model_module_version": "1.5.0",
      "model_name": "VBoxModel",
      "state": {
       "_dom_classes": [
        "widget-interact"
       ],
       "children": [
        "IPY_MODEL_e2d0bac2019b4154881943adc6e6b9b1",
        "IPY_MODEL_96786313446541c884f04861a3f9112e"
       ],
       "layout": "IPY_MODEL_41629bbe112f44d1a8429639538f6b43"
      }
     },
     "ceea2f817d3742edb21dec1c46d76970": {
      "model_module": "@jupyter-widgets/base",
      "model_module_version": "1.2.0",
      "model_name": "LayoutModel",
      "state": {}
     },
     "cf87e65b6c8d41db9d7296c7f0105f4b": {
      "model_module": "@jupyter-widgets/controls",
      "model_module_version": "1.5.0",
      "model_name": "IntSliderModel",
      "state": {
       "continuous_update": false,
       "layout": "IPY_MODEL_25ce5d02b92b4c15944527a58b215e02",
       "max": 10,
       "readout": false,
       "step": 0,
       "style": "IPY_MODEL_91d13522985e47c197a99fe5fbc3af8c"
      }
     },
     "d00c7c8d10bb4ff3b53aad5d7f68d4d2": {
      "model_module": "@jupyter-widgets/controls",
      "model_module_version": "1.5.0",
      "model_name": "SliderStyleModel",
      "state": {
       "description_width": ""
      }
     },
     "d06032f07843453db7b93d50ecc44e48": {
      "model_module": "@jupyter-widgets/base",
      "model_module_version": "1.2.0",
      "model_name": "LayoutModel",
      "state": {}
     },
     "d0b2c96fec564fca9c96245c2d7da241": {
      "model_module": "@jupyter-widgets/base",
      "model_module_version": "1.2.0",
      "model_name": "LayoutModel",
      "state": {}
     },
     "d0e1965db6d544cdab9ced513ee2c198": {
      "model_module": "@jupyter-widgets/base",
      "model_module_version": "1.2.0",
      "model_name": "LayoutModel",
      "state": {}
     },
     "d0e7a8ef17fd4c49ad5fa8112c2afede": {
      "model_module": "@jupyter-widgets/controls",
      "model_module_version": "1.5.0",
      "model_name": "IntSliderModel",
      "state": {
       "layout": "IPY_MODEL_c4979f291a984598a374dce7f54c614c",
       "readout": false,
       "style": "IPY_MODEL_219b22292df64e9cb20cf2d99fbf6bf9",
       "value": 63
      }
     },
     "d1888aa82d1e4032b56a4ebe9386cc3e": {
      "model_module": "@jupyter-widgets/base",
      "model_module_version": "1.2.0",
      "model_name": "LayoutModel",
      "state": {}
     },
     "d1ae0a2eae6f4a5a83fb15aae2cd374a": {
      "model_module": "@jupyter-widgets/base",
      "model_module_version": "1.2.0",
      "model_name": "LayoutModel",
      "state": {}
     },
     "d1c46191137b4d35b56fc3e82343e8b1": {
      "model_module": "@jupyter-widgets/base",
      "model_module_version": "1.2.0",
      "model_name": "LayoutModel",
      "state": {}
     },
     "d334e314a61a4eb4ae6915fa2b48f64d": {
      "model_module": "@jupyter-widgets/controls",
      "model_module_version": "1.5.0",
      "model_name": "IntSliderModel",
      "state": {
       "continuous_update": false,
       "layout": "IPY_MODEL_20682ca8b0cf4b918fae8e37e9cb4cc3",
       "max": 10,
       "readout": false,
       "step": 0,
       "style": "IPY_MODEL_64e5be254fba443c8f9e63660952f7f4"
      }
     },
     "d34e30b46ae644d7bed833dd182a8206": {
      "model_module": "@jupyter-widgets/controls",
      "model_module_version": "1.5.0",
      "model_name": "IntSliderModel",
      "state": {
       "continuous_update": false,
       "layout": "IPY_MODEL_ea185481b6f740fe97d52435f295a7c0",
       "max": 10,
       "readout": false,
       "style": "IPY_MODEL_057b9d8248044da18a523403f55b4734"
      }
     },
     "d381618c22494e09940ff2203075248f": {
      "model_module": "@jupyter-widgets/base",
      "model_module_version": "1.2.0",
      "model_name": "LayoutModel",
      "state": {}
     },
     "d48ec64ed5d24cd7967310aed194d946": {
      "model_module": "@jupyter-widgets/base",
      "model_module_version": "1.2.0",
      "model_name": "LayoutModel",
      "state": {}
     },
     "d4a3210f07f247698685402b63d41fe7": {
      "model_module": "@jupyter-widgets/base",
      "model_module_version": "1.2.0",
      "model_name": "LayoutModel",
      "state": {}
     },
     "d5e4e3e03935475a8be9013a77efe464": {
      "model_module": "@jupyter-widgets/base",
      "model_module_version": "1.2.0",
      "model_name": "LayoutModel",
      "state": {}
     },
     "d6856336880b40749b96ed39338fe623": {
      "model_module": "@jupyter-widgets/output",
      "model_module_version": "1.0.0",
      "model_name": "OutputModel",
      "state": {
       "layout": "IPY_MODEL_7ea8bb65057c4190b873cd9b22c7b87c"
      }
     },
     "d6c560cca59848f0b005069fd90d5e55": {
      "model_module": "@jupyter-widgets/controls",
      "model_module_version": "1.5.0",
      "model_name": "SliderStyleModel",
      "state": {
       "description_width": ""
      }
     },
     "d708f21b753044208c5d2c4d65cc3490": {
      "model_module": "@jupyter-widgets/controls",
      "model_module_version": "1.5.0",
      "model_name": "SliderStyleModel",
      "state": {
       "description_width": ""
      }
     },
     "d7373abc1ddc47f6ab27f2aad2b923f7": {
      "model_module": "jupyter-matplotlib",
      "model_module_version": "^0.10.1",
      "model_name": "ToolbarModel",
      "state": {
       "layout": "IPY_MODEL_70d0abf278c14d0abb769f40ec55fbfd",
       "toolitems": [
        [
         "Home",
         "Reset original view",
         "home",
         "home"
        ],
        [
         "Back",
         "Back to previous view",
         "arrow-left",
         "back"
        ],
        [
         "Forward",
         "Forward to next view",
         "arrow-right",
         "forward"
        ],
        [
         "Pan",
         "Left button pans, Right button zooms\nx/y fixes axis, CTRL fixes aspect",
         "arrows",
         "pan"
        ],
        [
         "Zoom",
         "Zoom to rectangle\nx/y fixes axis, CTRL fixes aspect",
         "square-o",
         "zoom"
        ],
        [
         "Download",
         "Download plot",
         "floppy-o",
         "save_figure"
        ]
       ]
      }
     },
     "d7ec200ef85b4e89abc21e5dcb1fb122": {
      "model_module": "@jupyter-widgets/base",
      "model_module_version": "1.2.0",
      "model_name": "LayoutModel",
      "state": {}
     },
     "d86c61f0c46345caa18e225d40ad2272": {
      "model_module": "jupyter-matplotlib",
      "model_module_version": "^0.10.1",
      "model_name": "ToolbarModel",
      "state": {
       "layout": "IPY_MODEL_ceea2f817d3742edb21dec1c46d76970",
       "toolitems": [
        [
         "Home",
         "Reset original view",
         "home",
         "home"
        ],
        [
         "Back",
         "Back to previous view",
         "arrow-left",
         "back"
        ],
        [
         "Forward",
         "Forward to next view",
         "arrow-right",
         "forward"
        ],
        [
         "Pan",
         "Left button pans, Right button zooms\nx/y fixes axis, CTRL fixes aspect",
         "arrows",
         "pan"
        ],
        [
         "Zoom",
         "Zoom to rectangle\nx/y fixes axis, CTRL fixes aspect",
         "square-o",
         "zoom"
        ],
        [
         "Download",
         "Download plot",
         "floppy-o",
         "save_figure"
        ]
       ]
      }
     },
     "d8a0709c66744ed181a9fb22ec73a7f0": {
      "model_module": "@jupyter-widgets/base",
      "model_module_version": "1.2.0",
      "model_name": "LayoutModel",
      "state": {}
     },
     "d8ae43a1fef4410d83184452ba19ff46": {
      "model_module": "jupyter-matplotlib",
      "model_module_version": "^0.10.1",
      "model_name": "ToolbarModel",
      "state": {
       "layout": "IPY_MODEL_ee430b8a664c469e824cf5abb146ecdc",
       "toolitems": [
        [
         "Home",
         "Reset original view",
         "home",
         "home"
        ],
        [
         "Back",
         "Back to previous view",
         "arrow-left",
         "back"
        ],
        [
         "Forward",
         "Forward to next view",
         "arrow-right",
         "forward"
        ],
        [
         "Pan",
         "Left button pans, Right button zooms\nx/y fixes axis, CTRL fixes aspect",
         "arrows",
         "pan"
        ],
        [
         "Zoom",
         "Zoom to rectangle\nx/y fixes axis, CTRL fixes aspect",
         "square-o",
         "zoom"
        ],
        [
         "Download",
         "Download plot",
         "floppy-o",
         "save_figure"
        ]
       ]
      }
     },
     "da161aeff6fc41ec8097ec245a8633fc": {
      "model_module": "@jupyter-widgets/controls",
      "model_module_version": "1.5.0",
      "model_name": "SliderStyleModel",
      "state": {
       "description_width": ""
      }
     },
     "da39aca4d2c8427089a1994db06bc5f9": {
      "model_module": "@jupyter-widgets/base",
      "model_module_version": "1.2.0",
      "model_name": "LayoutModel",
      "state": {}
     },
     "db82814716eb4e4385a2fb243f2d81e2": {
      "model_module": "@jupyter-widgets/base",
      "model_module_version": "1.2.0",
      "model_name": "LayoutModel",
      "state": {}
     },
     "dbf881de3c694ef0a14759a66c3bcb98": {
      "model_module": "@jupyter-widgets/base",
      "model_module_version": "1.2.0",
      "model_name": "LayoutModel",
      "state": {}
     },
     "dc08a132010b47a5809435c91fb65bcb": {
      "model_module": "@jupyter-widgets/base",
      "model_module_version": "1.2.0",
      "model_name": "LayoutModel",
      "state": {}
     },
     "dc6e59af1cd14b059b5386bf590b0aa7": {
      "model_module": "@jupyter-widgets/base",
      "model_module_version": "1.2.0",
      "model_name": "LayoutModel",
      "state": {}
     },
     "dcdcf63ff9034c32ade322993d09b8ee": {
      "model_module": "@jupyter-widgets/controls",
      "model_module_version": "1.5.0",
      "model_name": "SliderStyleModel",
      "state": {
       "description_width": ""
      }
     },
     "dcea1d1da5e04a3c8d4a541c3d086fad": {
      "model_module": "@jupyter-widgets/base",
      "model_module_version": "1.2.0",
      "model_name": "LayoutModel",
      "state": {}
     },
     "dd5b6fe40d7948d49d712075ae095e34": {
      "model_module": "jupyter-matplotlib",
      "model_module_version": "^0.10.1",
      "model_name": "ToolbarModel",
      "state": {
       "layout": "IPY_MODEL_374fc8647c0a4bddb1e2b84fb21fd2e3",
       "toolitems": [
        [
         "Home",
         "Reset original view",
         "home",
         "home"
        ],
        [
         "Back",
         "Back to previous view",
         "arrow-left",
         "back"
        ],
        [
         "Forward",
         "Forward to next view",
         "arrow-right",
         "forward"
        ],
        [
         "Pan",
         "Left button pans, Right button zooms\nx/y fixes axis, CTRL fixes aspect",
         "arrows",
         "pan"
        ],
        [
         "Zoom",
         "Zoom to rectangle\nx/y fixes axis, CTRL fixes aspect",
         "square-o",
         "zoom"
        ],
        [
         "Download",
         "Download plot",
         "floppy-o",
         "save_figure"
        ]
       ]
      }
     },
     "de33923b04554feebaad168565db456c": {
      "model_module": "@jupyter-widgets/base",
      "model_module_version": "1.2.0",
      "model_name": "LayoutModel",
      "state": {}
     },
     "de35fb5e0a754d74ace478b51545df0b": {
      "model_module": "jupyter-matplotlib",
      "model_module_version": "^0.10.1",
      "model_name": "ToolbarModel",
      "state": {
       "layout": "IPY_MODEL_4ec20d0a414e43d5a5a24a486ee8ee95",
       "toolitems": [
        [
         "Home",
         "Reset original view",
         "home",
         "home"
        ],
        [
         "Back",
         "Back to previous view",
         "arrow-left",
         "back"
        ],
        [
         "Forward",
         "Forward to next view",
         "arrow-right",
         "forward"
        ],
        [
         "Pan",
         "Left button pans, Right button zooms\nx/y fixes axis, CTRL fixes aspect",
         "arrows",
         "pan"
        ],
        [
         "Zoom",
         "Zoom to rectangle\nx/y fixes axis, CTRL fixes aspect",
         "square-o",
         "zoom"
        ],
        [
         "Download",
         "Download plot",
         "floppy-o",
         "save_figure"
        ]
       ]
      }
     },
     "de5222a5a424493b970b40c458de02c4": {
      "model_module": "@jupyter-widgets/base",
      "model_module_version": "1.2.0",
      "model_name": "LayoutModel",
      "state": {}
     },
     "dfedec24ead34e518953a0f6d36cfad5": {
      "model_module": "@jupyter-widgets/base",
      "model_module_version": "1.2.0",
      "model_name": "LayoutModel",
      "state": {}
     },
     "e035cead003947519a191153797e2127": {
      "model_module": "jupyter-matplotlib",
      "model_module_version": "^0.10.1",
      "model_name": "ToolbarModel",
      "state": {
       "layout": "IPY_MODEL_f64080b1cd374df5b5c93cf189da7564",
       "toolitems": [
        [
         "Home",
         "Reset original view",
         "home",
         "home"
        ],
        [
         "Back",
         "Back to previous view",
         "arrow-left",
         "back"
        ],
        [
         "Forward",
         "Forward to next view",
         "arrow-right",
         "forward"
        ],
        [
         "Pan",
         "Left button pans, Right button zooms\nx/y fixes axis, CTRL fixes aspect",
         "arrows",
         "pan"
        ],
        [
         "Zoom",
         "Zoom to rectangle\nx/y fixes axis, CTRL fixes aspect",
         "square-o",
         "zoom"
        ],
        [
         "Download",
         "Download plot",
         "floppy-o",
         "save_figure"
        ]
       ]
      }
     },
     "e1c24af2b11244238cefeadc484eb684": {
      "model_module": "@jupyter-widgets/base",
      "model_module_version": "1.2.0",
      "model_name": "LayoutModel",
      "state": {}
     },
     "e2d0bac2019b4154881943adc6e6b9b1": {
      "model_module": "@jupyter-widgets/controls",
      "model_module_version": "1.5.0",
      "model_name": "IntSliderModel",
      "state": {
       "description": "l",
       "layout": "IPY_MODEL_74c67ec2817e48749e4f5368935df17d",
       "readout": false,
       "style": "IPY_MODEL_7cc1de6fd0d14747956576d6bcdadf41"
      }
     },
     "e31fd263f62948a9bc5973ce50a64440": {
      "model_module": "@jupyter-widgets/output",
      "model_module_version": "1.0.0",
      "model_name": "OutputModel",
      "state": {
       "layout": "IPY_MODEL_04adeb01be574508b81e8a7593b5c2d8"
      }
     },
     "e331fdb8eeb24f5d82e29f2a59978036": {
      "model_module": "@jupyter-widgets/base",
      "model_module_version": "1.2.0",
      "model_name": "LayoutModel",
      "state": {}
     },
     "e377b5cfcab84df3aafdbb1d4d1ce7df": {
      "model_module": "@jupyter-widgets/base",
      "model_module_version": "1.2.0",
      "model_name": "LayoutModel",
      "state": {}
     },
     "e414be34f89b40c68da6eef35b4c281e": {
      "model_module": "@jupyter-widgets/controls",
      "model_module_version": "1.5.0",
      "model_name": "SliderStyleModel",
      "state": {
       "description_width": ""
      }
     },
     "e42e36707ae144ebbd0fb4cc8c3c86c4": {
      "model_module": "@jupyter-widgets/base",
      "model_module_version": "1.2.0",
      "model_name": "LayoutModel",
      "state": {}
     },
     "e477370fe01945baa661a09b97233676": {
      "model_module": "@jupyter-widgets/base",
      "model_module_version": "1.2.0",
      "model_name": "LayoutModel",
      "state": {}
     },
     "e4a2e763d2334d629dfaa0e18aad281b": {
      "model_module": "@jupyter-widgets/base",
      "model_module_version": "1.2.0",
      "model_name": "LayoutModel",
      "state": {}
     },
     "e50c8aa241ec4caa96b10ad3e98cc7b6": {
      "model_module": "@jupyter-widgets/controls",
      "model_module_version": "1.5.0",
      "model_name": "IntSliderModel",
      "state": {
       "continuous_update": false,
       "layout": "IPY_MODEL_94d815bbc26f405a9bde3eb35b41c27b",
       "max": 10,
       "readout": false,
       "style": "IPY_MODEL_a2535c9cf67744459563e2dc49548503",
       "value": 10
      }
     },
     "e56c35b1f5ea4d4ca93b9544a72981a4": {
      "model_module": "@jupyter-widgets/controls",
      "model_module_version": "1.5.0",
      "model_name": "SliderStyleModel",
      "state": {
       "description_width": ""
      }
     },
     "e584f6369a664433852747f50c84a675": {
      "model_module": "@jupyter-widgets/base",
      "model_module_version": "1.2.0",
      "model_name": "LayoutModel",
      "state": {}
     },
     "e77cda3f7e494ed7b7dc5921ea38246a": {
      "model_module": "@jupyter-widgets/base",
      "model_module_version": "1.2.0",
      "model_name": "LayoutModel",
      "state": {}
     },
     "e8c821713b384b10b9d112c7e3a760f6": {
      "model_module": "@jupyter-widgets/base",
      "model_module_version": "1.2.0",
      "model_name": "LayoutModel",
      "state": {}
     },
     "e93fb5a23b2e435881e707fd583449e7": {
      "model_module": "@jupyter-widgets/controls",
      "model_module_version": "1.5.0",
      "model_name": "SliderStyleModel",
      "state": {
       "description_width": ""
      }
     },
     "e9495d960b6a4c9b983e6bc7fd512a2b": {
      "model_module": "@jupyter-widgets/controls",
      "model_module_version": "1.5.0",
      "model_name": "IntSliderModel",
      "state": {
       "continuous_update": false,
       "layout": "IPY_MODEL_ab1c66c227034ae7aee472b4d8c25133",
       "max": 10,
       "readout": false,
       "style": "IPY_MODEL_a1d7a3ec8bb34498a2571f9f8974c3ae"
      }
     },
     "e94d2b9593224f6e846238d0c8f46e4e": {
      "model_module": "@jupyter-widgets/controls",
      "model_module_version": "1.5.0",
      "model_name": "IntSliderModel",
      "state": {
       "layout": "IPY_MODEL_31bbfda9981a4ab7bd2255a7d5dafaa9",
       "readout": false,
       "style": "IPY_MODEL_114b455fa638498aa784d14585c86580"
      }
     },
     "e9780a3188664c45968ca6c5f016ae40": {
      "model_module": "@jupyter-widgets/base",
      "model_module_version": "1.2.0",
      "model_name": "LayoutModel",
      "state": {}
     },
     "e9e5fd7758694eb6976069972d071a21": {
      "model_module": "@jupyter-widgets/controls",
      "model_module_version": "1.5.0",
      "model_name": "IntSliderModel",
      "state": {
       "layout": "IPY_MODEL_b98eab2fbed84a73a928691d05bf6236",
       "readout": false,
       "style": "IPY_MODEL_da161aeff6fc41ec8097ec245a8633fc"
      }
     },
     "ea185481b6f740fe97d52435f295a7c0": {
      "model_module": "@jupyter-widgets/base",
      "model_module_version": "1.2.0",
      "model_name": "LayoutModel",
      "state": {}
     },
     "ea52fc2f99ca4a6fb4587969ed23646b": {
      "model_module": "jupyter-matplotlib",
      "model_module_version": "^0.10.1",
      "model_name": "ToolbarModel",
      "state": {
       "layout": "IPY_MODEL_eef9026f56a64f5f8b5cd8850555ccf4",
       "toolitems": [
        [
         "Home",
         "Reset original view",
         "home",
         "home"
        ],
        [
         "Back",
         "Back to previous view",
         "arrow-left",
         "back"
        ],
        [
         "Forward",
         "Forward to next view",
         "arrow-right",
         "forward"
        ],
        [
         "Pan",
         "Left button pans, Right button zooms\nx/y fixes axis, CTRL fixes aspect",
         "arrows",
         "pan"
        ],
        [
         "Zoom",
         "Zoom to rectangle\nx/y fixes axis, CTRL fixes aspect",
         "square-o",
         "zoom"
        ],
        [
         "Download",
         "Download plot",
         "floppy-o",
         "save_figure"
        ]
       ]
      }
     },
     "eb8769ce5ae24ebebb684c18b65f22db": {
      "model_module": "@jupyter-widgets/controls",
      "model_module_version": "1.5.0",
      "model_name": "IntSliderModel",
      "state": {
       "layout": "IPY_MODEL_00cfcb539a3548f8b30dd3e2fbb43d32",
       "max": 10,
       "readout": false,
       "style": "IPY_MODEL_9e07a126a8af41f8b5007e149d587fc5"
      }
     },
     "ec133b540fe341eab0de76c6422b74b5": {
      "model_module": "@jupyter-widgets/base",
      "model_module_version": "1.2.0",
      "model_name": "LayoutModel",
      "state": {}
     },
     "ecafbea5fca24720a65c9828bb547c94": {
      "model_module": "@jupyter-widgets/base",
      "model_module_version": "1.2.0",
      "model_name": "LayoutModel",
      "state": {}
     },
     "ed2b8664a03044dd951b2d6476e1094d": {
      "model_module": "@jupyter-widgets/base",
      "model_module_version": "1.2.0",
      "model_name": "LayoutModel",
      "state": {}
     },
     "ee24b28edc174efeb9592e7fd1e88cee": {
      "model_module": "@jupyter-widgets/base",
      "model_module_version": "1.2.0",
      "model_name": "LayoutModel",
      "state": {}
     },
     "ee3b48242fe9413988d8fd9399e908e5": {
      "model_module": "@jupyter-widgets/controls",
      "model_module_version": "1.5.0",
      "model_name": "IntSliderModel",
      "state": {
       "layout": "IPY_MODEL_9f6d91f6d8c846cc95b68f13266b718b",
       "readout": false,
       "style": "IPY_MODEL_12b4a106b1d64b239436587f3f045358"
      }
     },
     "ee430b8a664c469e824cf5abb146ecdc": {
      "model_module": "@jupyter-widgets/base",
      "model_module_version": "1.2.0",
      "model_name": "LayoutModel",
      "state": {}
     },
     "eea6fcd50e474dfb90b22e20161df00f": {
      "model_module": "@jupyter-widgets/base",
      "model_module_version": "1.2.0",
      "model_name": "LayoutModel",
      "state": {}
     },
     "eeb5c693d1444e09bedb1186fb09ab0e": {
      "model_module": "@jupyter-widgets/base",
      "model_module_version": "1.2.0",
      "model_name": "LayoutModel",
      "state": {}
     },
     "eef9026f56a64f5f8b5cd8850555ccf4": {
      "model_module": "@jupyter-widgets/base",
      "model_module_version": "1.2.0",
      "model_name": "LayoutModel",
      "state": {}
     },
     "efbce1cd42f240e3a4f986497fff4be1": {
      "model_module": "@jupyter-widgets/base",
      "model_module_version": "1.2.0",
      "model_name": "LayoutModel",
      "state": {}
     },
     "f0fc580bb7c7454bbb637f34d3946c96": {
      "model_module": "@jupyter-widgets/base",
      "model_module_version": "1.2.0",
      "model_name": "LayoutModel",
      "state": {}
     },
     "f1817cb624964fb19e19f4c26d8f0f4a": {
      "model_module": "@jupyter-widgets/controls",
      "model_module_version": "1.5.0",
      "model_name": "SliderStyleModel",
      "state": {
       "description_width": ""
      }
     },
     "f1bae2eb99474abc9f198449f0c1910b": {
      "model_module": "@jupyter-widgets/controls",
      "model_module_version": "1.5.0",
      "model_name": "IntSliderModel",
      "state": {
       "continuous_update": false,
       "layout": "IPY_MODEL_db82814716eb4e4385a2fb243f2d81e2",
       "max": 10,
       "readout": false,
       "style": "IPY_MODEL_55be81a54a184b94ae4a91e5e93dc606",
       "value": 6
      }
     },
     "f1bcdbc048af41ee9e6a4aa0794cc599": {
      "model_module": "jupyter-matplotlib",
      "model_module_version": "^0.10.1",
      "model_name": "ToolbarModel",
      "state": {
       "layout": "IPY_MODEL_7d0ef8c742294e7b857ce7e23db2f484",
       "toolitems": [
        [
         "Home",
         "Reset original view",
         "home",
         "home"
        ],
        [
         "Back",
         "Back to previous view",
         "arrow-left",
         "back"
        ],
        [
         "Forward",
         "Forward to next view",
         "arrow-right",
         "forward"
        ],
        [
         "Pan",
         "Left button pans, Right button zooms\nx/y fixes axis, CTRL fixes aspect",
         "arrows",
         "pan"
        ],
        [
         "Zoom",
         "Zoom to rectangle\nx/y fixes axis, CTRL fixes aspect",
         "square-o",
         "zoom"
        ],
        [
         "Download",
         "Download plot",
         "floppy-o",
         "save_figure"
        ]
       ]
      }
     },
     "f1c91ca1da5246679654fe0f4d2d3363": {
      "model_module": "jupyter-matplotlib",
      "model_module_version": "^0.10.1",
      "model_name": "ToolbarModel",
      "state": {
       "layout": "IPY_MODEL_da39aca4d2c8427089a1994db06bc5f9",
       "toolitems": [
        [
         "Home",
         "Reset original view",
         "home",
         "home"
        ],
        [
         "Back",
         "Back to previous view",
         "arrow-left",
         "back"
        ],
        [
         "Forward",
         "Forward to next view",
         "arrow-right",
         "forward"
        ],
        [
         "Pan",
         "Left button pans, Right button zooms\nx/y fixes axis, CTRL fixes aspect",
         "arrows",
         "pan"
        ],
        [
         "Zoom",
         "Zoom to rectangle\nx/y fixes axis, CTRL fixes aspect",
         "square-o",
         "zoom"
        ],
        [
         "Download",
         "Download plot",
         "floppy-o",
         "save_figure"
        ]
       ]
      }
     },
     "f2c7ba3389d84606baa8e37a58648ae6": {
      "model_module": "@jupyter-widgets/controls",
      "model_module_version": "1.5.0",
      "model_name": "IntSliderModel",
      "state": {
       "continuous_update": false,
       "layout": "IPY_MODEL_8cc554b5f5f64c8b99d52de94b562642",
       "max": 10,
       "readout": false,
       "style": "IPY_MODEL_a21cf5702bb04c5e8b3ee81205e78d50",
       "value": 7
      }
     },
     "f2c8fbfdd8ed4b2b86900262bccf7279": {
      "model_module": "@jupyter-widgets/base",
      "model_module_version": "1.2.0",
      "model_name": "LayoutModel",
      "state": {}
     },
     "f2d7c518b5c748b8a34ba1dd6f4ed6bb": {
      "model_module": "@jupyter-widgets/controls",
      "model_module_version": "1.5.0",
      "model_name": "SliderStyleModel",
      "state": {
       "description_width": ""
      }
     },
     "f35d92b715114c14a7ee62eb761c2cbe": {
      "model_module": "@jupyter-widgets/base",
      "model_module_version": "1.2.0",
      "model_name": "LayoutModel",
      "state": {}
     },
     "f394d417b30146978333c12a08ecd6dd": {
      "model_module": "@jupyter-widgets/base",
      "model_module_version": "1.2.0",
      "model_name": "LayoutModel",
      "state": {}
     },
     "f42f003e113b4e76a601ad8a7d5739db": {
      "model_module": "@jupyter-widgets/base",
      "model_module_version": "1.2.0",
      "model_name": "LayoutModel",
      "state": {}
     },
     "f4543b75f59f412692ed3e2490c842df": {
      "model_module": "@jupyter-widgets/base",
      "model_module_version": "1.2.0",
      "model_name": "LayoutModel",
      "state": {}
     },
     "f4a99c6f95f74aec90edc1f50fddf2e0": {
      "model_module": "@jupyter-widgets/controls",
      "model_module_version": "1.5.0",
      "model_name": "SliderStyleModel",
      "state": {
       "description_width": ""
      }
     },
     "f4c648f10e93410bb2a3a2f28ace9285": {
      "model_module": "@jupyter-widgets/controls",
      "model_module_version": "1.5.0",
      "model_name": "IntSliderModel",
      "state": {
       "layout": "IPY_MODEL_f2c8fbfdd8ed4b2b86900262bccf7279",
       "readout": false,
       "style": "IPY_MODEL_525312054ec24ffbabd2fc9e20e9f02d"
      }
     },
     "f57f706731eb451986c8ced1b967c910": {
      "model_module": "@jupyter-widgets/controls",
      "model_module_version": "1.5.0",
      "model_name": "IntSliderModel",
      "state": {
       "continuous_update": false,
       "layout": "IPY_MODEL_e9780a3188664c45968ca6c5f016ae40",
       "max": 10,
       "readout": false,
       "step": 0,
       "style": "IPY_MODEL_8aff175e1c6d435e80903ded4883e80b"
      }
     },
     "f5f58da22f774c718a8fb660ed554b2c": {
      "model_module": "@jupyter-widgets/controls",
      "model_module_version": "1.5.0",
      "model_name": "SliderStyleModel",
      "state": {
       "description_width": ""
      }
     },
     "f5fb2762aaba432ebab460ae61a77cc0": {
      "model_module": "jupyter-matplotlib",
      "model_module_version": "^0.10.1",
      "model_name": "ToolbarModel",
      "state": {
       "layout": "IPY_MODEL_97d82de0b62d4fbb8925b95b6622a505",
       "toolitems": [
        [
         "Home",
         "Reset original view",
         "home",
         "home"
        ],
        [
         "Back",
         "Back to previous view",
         "arrow-left",
         "back"
        ],
        [
         "Forward",
         "Forward to next view",
         "arrow-right",
         "forward"
        ],
        [
         "Pan",
         "Left button pans, Right button zooms\nx/y fixes axis, CTRL fixes aspect",
         "arrows",
         "pan"
        ],
        [
         "Zoom",
         "Zoom to rectangle\nx/y fixes axis, CTRL fixes aspect",
         "square-o",
         "zoom"
        ],
        [
         "Download",
         "Download plot",
         "floppy-o",
         "save_figure"
        ]
       ]
      }
     },
     "f64080b1cd374df5b5c93cf189da7564": {
      "model_module": "@jupyter-widgets/base",
      "model_module_version": "1.2.0",
      "model_name": "LayoutModel",
      "state": {}
     },
     "f7005b4a3ebb4b52984b767fd898446b": {
      "model_module": "@jupyter-widgets/controls",
      "model_module_version": "1.5.0",
      "model_name": "SliderStyleModel",
      "state": {
       "description_width": ""
      }
     },
     "f7dfb61461ac4cf2a296e4f8ab6c85ce": {
      "model_module": "jupyter-matplotlib",
      "model_module_version": "^0.10.1",
      "model_name": "ToolbarModel",
      "state": {
       "layout": "IPY_MODEL_ed2b8664a03044dd951b2d6476e1094d",
       "toolitems": [
        [
         "Home",
         "Reset original view",
         "home",
         "home"
        ],
        [
         "Back",
         "Back to previous view",
         "arrow-left",
         "back"
        ],
        [
         "Forward",
         "Forward to next view",
         "arrow-right",
         "forward"
        ],
        [
         "Pan",
         "Left button pans, Right button zooms\nx/y fixes axis, CTRL fixes aspect",
         "arrows",
         "pan"
        ],
        [
         "Zoom",
         "Zoom to rectangle\nx/y fixes axis, CTRL fixes aspect",
         "square-o",
         "zoom"
        ],
        [
         "Download",
         "Download plot",
         "floppy-o",
         "save_figure"
        ]
       ]
      }
     },
     "f8f12b28bee8414e9d29b4189a798550": {
      "model_module": "@jupyter-widgets/base",
      "model_module_version": "1.2.0",
      "model_name": "LayoutModel",
      "state": {}
     },
     "f99abbc81f594d40a40231f97d66b8dd": {
      "model_module": "jupyter-matplotlib",
      "model_module_version": "^0.10.1",
      "model_name": "ToolbarModel",
      "state": {
       "layout": "IPY_MODEL_67b5c8ba28874cb6982dea4d7ad8a4ad",
       "toolitems": [
        [
         "Home",
         "Reset original view",
         "home",
         "home"
        ],
        [
         "Back",
         "Back to previous view",
         "arrow-left",
         "back"
        ],
        [
         "Forward",
         "Forward to next view",
         "arrow-right",
         "forward"
        ],
        [
         "Pan",
         "Left button pans, Right button zooms\nx/y fixes axis, CTRL fixes aspect",
         "arrows",
         "pan"
        ],
        [
         "Zoom",
         "Zoom to rectangle\nx/y fixes axis, CTRL fixes aspect",
         "square-o",
         "zoom"
        ],
        [
         "Download",
         "Download plot",
         "floppy-o",
         "save_figure"
        ]
       ]
      }
     },
     "fa0071909eb242d795c7526f709599e1": {
      "model_module": "@jupyter-widgets/base",
      "model_module_version": "1.2.0",
      "model_name": "LayoutModel",
      "state": {}
     },
     "fabbfffbaaf0463896fb0bd84996a1bc": {
      "model_module": "@jupyter-widgets/base",
      "model_module_version": "1.2.0",
      "model_name": "LayoutModel",
      "state": {}
     },
     "fb7e7b70bf5d41a18193f80f737fab22": {
      "model_module": "@jupyter-widgets/base",
      "model_module_version": "1.2.0",
      "model_name": "LayoutModel",
      "state": {}
     },
     "fc16e477795a4da3b80c59ef12ffeed5": {
      "model_module": "@jupyter-widgets/base",
      "model_module_version": "1.2.0",
      "model_name": "LayoutModel",
      "state": {}
     },
     "fd1d5dcb79a24ae892560ff5b4c9498e": {
      "model_module": "@jupyter-widgets/output",
      "model_module_version": "1.0.0",
      "model_name": "OutputModel",
      "state": {
       "layout": "IPY_MODEL_92b33f56e9834c1cab1906f84c7e0570"
      }
     },
     "feb288c393424dc285a7df69dc59f8a8": {
      "model_module": "@jupyter-widgets/controls",
      "model_module_version": "1.5.0",
      "model_name": "SliderStyleModel",
      "state": {
       "description_width": ""
      }
     },
     "fed7327f2290419f90cba366e85a9765": {
      "model_module": "@jupyter-widgets/base",
      "model_module_version": "1.2.0",
      "model_name": "LayoutModel",
      "state": {}
     },
     "fee396b59cd54e93b57916ea274b21de": {
      "model_module": "jupyter-matplotlib",
      "model_module_version": "^0.10.1",
      "model_name": "ToolbarModel",
      "state": {
       "layout": "IPY_MODEL_de33923b04554feebaad168565db456c",
       "toolitems": [
        [
         "Home",
         "Reset original view",
         "home",
         "home"
        ],
        [
         "Back",
         "Back to previous view",
         "arrow-left",
         "back"
        ],
        [
         "Forward",
         "Forward to next view",
         "arrow-right",
         "forward"
        ],
        [
         "Pan",
         "Left button pans, Right button zooms\nx/y fixes axis, CTRL fixes aspect",
         "arrows",
         "pan"
        ],
        [
         "Zoom",
         "Zoom to rectangle\nx/y fixes axis, CTRL fixes aspect",
         "square-o",
         "zoom"
        ],
        [
         "Download",
         "Download plot",
         "floppy-o",
         "save_figure"
        ]
       ]
      }
     },
     "ff3f3350673543f8a25626a03225aa85": {
      "model_module": "@jupyter-widgets/base",
      "model_module_version": "1.2.0",
      "model_name": "LayoutModel",
      "state": {}
     },
     "fffcc20e07f24bf89d0f77a394352608": {
      "model_module": "@jupyter-widgets/controls",
      "model_module_version": "1.5.0",
      "model_name": "SliderStyleModel",
      "state": {
       "description_width": ""
      }
     }
    },
    "version_major": 2,
    "version_minor": 0
   }
  }
 },
 "nbformat": 4,
 "nbformat_minor": 5
}
